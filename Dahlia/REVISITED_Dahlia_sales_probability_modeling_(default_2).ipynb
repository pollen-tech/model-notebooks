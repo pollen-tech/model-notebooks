{
  "nbformat": 4,
  "nbformat_minor": 0,
  "metadata": {
    "colab": {
      "provenance": []
    },
    "kernelspec": {
      "name": "python3",
      "display_name": "Python 3"
    },
    "language_info": {
      "name": "python"
    }
  },
  "cells": [
    {
      "cell_type": "code",
      "source": [
        "!pip install catboost"
      ],
      "metadata": {
        "colab": {
          "base_uri": "https://localhost:8080/"
        },
        "id": "Zg3MFecHIfeb",
        "outputId": "ed1c0a32-5db5-4d9a-b2ee-4a7292477874"
      },
      "execution_count": 1,
      "outputs": [
        {
          "output_type": "stream",
          "name": "stdout",
          "text": [
            "Collecting catboost\n",
            "  Downloading catboost-1.2.7-cp311-cp311-manylinux2014_x86_64.whl.metadata (1.2 kB)\n",
            "Requirement already satisfied: graphviz in /usr/local/lib/python3.11/dist-packages (from catboost) (0.20.3)\n",
            "Requirement already satisfied: matplotlib in /usr/local/lib/python3.11/dist-packages (from catboost) (3.10.0)\n",
            "Requirement already satisfied: numpy<2.0,>=1.16.0 in /usr/local/lib/python3.11/dist-packages (from catboost) (1.26.4)\n",
            "Requirement already satisfied: pandas>=0.24 in /usr/local/lib/python3.11/dist-packages (from catboost) (2.2.2)\n",
            "Requirement already satisfied: scipy in /usr/local/lib/python3.11/dist-packages (from catboost) (1.14.1)\n",
            "Requirement already satisfied: plotly in /usr/local/lib/python3.11/dist-packages (from catboost) (5.24.1)\n",
            "Requirement already satisfied: six in /usr/local/lib/python3.11/dist-packages (from catboost) (1.17.0)\n",
            "Requirement already satisfied: python-dateutil>=2.8.2 in /usr/local/lib/python3.11/dist-packages (from pandas>=0.24->catboost) (2.8.2)\n",
            "Requirement already satisfied: pytz>=2020.1 in /usr/local/lib/python3.11/dist-packages (from pandas>=0.24->catboost) (2025.1)\n",
            "Requirement already satisfied: tzdata>=2022.7 in /usr/local/lib/python3.11/dist-packages (from pandas>=0.24->catboost) (2025.1)\n",
            "Requirement already satisfied: contourpy>=1.0.1 in /usr/local/lib/python3.11/dist-packages (from matplotlib->catboost) (1.3.1)\n",
            "Requirement already satisfied: cycler>=0.10 in /usr/local/lib/python3.11/dist-packages (from matplotlib->catboost) (0.12.1)\n",
            "Requirement already satisfied: fonttools>=4.22.0 in /usr/local/lib/python3.11/dist-packages (from matplotlib->catboost) (4.56.0)\n",
            "Requirement already satisfied: kiwisolver>=1.3.1 in /usr/local/lib/python3.11/dist-packages (from matplotlib->catboost) (1.4.8)\n",
            "Requirement already satisfied: packaging>=20.0 in /usr/local/lib/python3.11/dist-packages (from matplotlib->catboost) (24.2)\n",
            "Requirement already satisfied: pillow>=8 in /usr/local/lib/python3.11/dist-packages (from matplotlib->catboost) (11.1.0)\n",
            "Requirement already satisfied: pyparsing>=2.3.1 in /usr/local/lib/python3.11/dist-packages (from matplotlib->catboost) (3.2.1)\n",
            "Requirement already satisfied: tenacity>=6.2.0 in /usr/local/lib/python3.11/dist-packages (from plotly->catboost) (9.0.0)\n",
            "Downloading catboost-1.2.7-cp311-cp311-manylinux2014_x86_64.whl (98.7 MB)\n",
            "\u001b[2K   \u001b[90m━━━━━━━━━━━━━━━━━━━━━━━━━━━━━━━━━━━━━━━━\u001b[0m \u001b[32m98.7/98.7 MB\u001b[0m \u001b[31m6.5 MB/s\u001b[0m eta \u001b[36m0:00:00\u001b[0m\n",
            "\u001b[?25hInstalling collected packages: catboost\n",
            "Successfully installed catboost-1.2.7\n"
          ]
        }
      ]
    },
    {
      "cell_type": "code",
      "source": [
        "!pip install feature_engine"
      ],
      "metadata": {
        "colab": {
          "base_uri": "https://localhost:8080/"
        },
        "id": "050wlxJp2ZaL",
        "outputId": "afd2ce29-bbae-4742-9949-35625552ae6f"
      },
      "execution_count": 2,
      "outputs": [
        {
          "output_type": "stream",
          "name": "stdout",
          "text": [
            "Collecting feature_engine\n",
            "  Downloading feature_engine-1.8.3-py2.py3-none-any.whl.metadata (9.9 kB)\n",
            "Requirement already satisfied: numpy>=1.18.2 in /usr/local/lib/python3.11/dist-packages (from feature_engine) (1.26.4)\n",
            "Requirement already satisfied: pandas>=2.2.0 in /usr/local/lib/python3.11/dist-packages (from feature_engine) (2.2.2)\n",
            "Requirement already satisfied: scikit-learn>=1.4.0 in /usr/local/lib/python3.11/dist-packages (from feature_engine) (1.6.1)\n",
            "Requirement already satisfied: scipy>=1.4.1 in /usr/local/lib/python3.11/dist-packages (from feature_engine) (1.14.1)\n",
            "Requirement already satisfied: statsmodels>=0.11.1 in /usr/local/lib/python3.11/dist-packages (from feature_engine) (0.14.4)\n",
            "Requirement already satisfied: python-dateutil>=2.8.2 in /usr/local/lib/python3.11/dist-packages (from pandas>=2.2.0->feature_engine) (2.8.2)\n",
            "Requirement already satisfied: pytz>=2020.1 in /usr/local/lib/python3.11/dist-packages (from pandas>=2.2.0->feature_engine) (2025.1)\n",
            "Requirement already satisfied: tzdata>=2022.7 in /usr/local/lib/python3.11/dist-packages (from pandas>=2.2.0->feature_engine) (2025.1)\n",
            "Requirement already satisfied: joblib>=1.2.0 in /usr/local/lib/python3.11/dist-packages (from scikit-learn>=1.4.0->feature_engine) (1.4.2)\n",
            "Requirement already satisfied: threadpoolctl>=3.1.0 in /usr/local/lib/python3.11/dist-packages (from scikit-learn>=1.4.0->feature_engine) (3.5.0)\n",
            "Requirement already satisfied: patsy>=0.5.6 in /usr/local/lib/python3.11/dist-packages (from statsmodels>=0.11.1->feature_engine) (1.0.1)\n",
            "Requirement already satisfied: packaging>=21.3 in /usr/local/lib/python3.11/dist-packages (from statsmodels>=0.11.1->feature_engine) (24.2)\n",
            "Requirement already satisfied: six>=1.5 in /usr/local/lib/python3.11/dist-packages (from python-dateutil>=2.8.2->pandas>=2.2.0->feature_engine) (1.17.0)\n",
            "Downloading feature_engine-1.8.3-py2.py3-none-any.whl (378 kB)\n",
            "\u001b[2K   \u001b[90m━━━━━━━━━━━━━━━━━━━━━━━━━━━━━━━━━━━━━━━━\u001b[0m \u001b[32m378.6/378.6 kB\u001b[0m \u001b[31m4.8 MB/s\u001b[0m eta \u001b[36m0:00:00\u001b[0m\n",
            "\u001b[?25hInstalling collected packages: feature_engine\n",
            "Successfully installed feature_engine-1.8.3\n"
          ]
        }
      ]
    },
    {
      "cell_type": "code",
      "source": [
        "!pip install plot-metric"
      ],
      "metadata": {
        "colab": {
          "base_uri": "https://localhost:8080/"
        },
        "id": "Pu-fdNguH-oh",
        "outputId": "4f98f1c5-0a52-4f9c-db18-4ed06679cf0e"
      },
      "execution_count": 3,
      "outputs": [
        {
          "output_type": "stream",
          "name": "stdout",
          "text": [
            "Collecting plot-metric\n",
            "  Downloading plot_metric-0.0.6-py3-none-any.whl.metadata (4.9 kB)\n",
            "Requirement already satisfied: scipy>=1.1.0 in /usr/local/lib/python3.11/dist-packages (from plot-metric) (1.14.1)\n",
            "Requirement already satisfied: matplotlib>=3.0.2 in /usr/local/lib/python3.11/dist-packages (from plot-metric) (3.10.0)\n",
            "Requirement already satisfied: colorlover>=0.3.0 in /usr/local/lib/python3.11/dist-packages (from plot-metric) (0.3.0)\n",
            "Requirement already satisfied: pandas>=0.23.4 in /usr/local/lib/python3.11/dist-packages (from plot-metric) (2.2.2)\n",
            "Requirement already satisfied: seaborn>=0.9.0 in /usr/local/lib/python3.11/dist-packages (from plot-metric) (0.13.2)\n",
            "Requirement already satisfied: numpy>=1.15.4 in /usr/local/lib/python3.11/dist-packages (from plot-metric) (1.26.4)\n",
            "Requirement already satisfied: scikit-learn>=0.21.2 in /usr/local/lib/python3.11/dist-packages (from plot-metric) (1.6.1)\n",
            "Requirement already satisfied: contourpy>=1.0.1 in /usr/local/lib/python3.11/dist-packages (from matplotlib>=3.0.2->plot-metric) (1.3.1)\n",
            "Requirement already satisfied: cycler>=0.10 in /usr/local/lib/python3.11/dist-packages (from matplotlib>=3.0.2->plot-metric) (0.12.1)\n",
            "Requirement already satisfied: fonttools>=4.22.0 in /usr/local/lib/python3.11/dist-packages (from matplotlib>=3.0.2->plot-metric) (4.56.0)\n",
            "Requirement already satisfied: kiwisolver>=1.3.1 in /usr/local/lib/python3.11/dist-packages (from matplotlib>=3.0.2->plot-metric) (1.4.8)\n",
            "Requirement already satisfied: packaging>=20.0 in /usr/local/lib/python3.11/dist-packages (from matplotlib>=3.0.2->plot-metric) (24.2)\n",
            "Requirement already satisfied: pillow>=8 in /usr/local/lib/python3.11/dist-packages (from matplotlib>=3.0.2->plot-metric) (11.1.0)\n",
            "Requirement already satisfied: pyparsing>=2.3.1 in /usr/local/lib/python3.11/dist-packages (from matplotlib>=3.0.2->plot-metric) (3.2.1)\n",
            "Requirement already satisfied: python-dateutil>=2.7 in /usr/local/lib/python3.11/dist-packages (from matplotlib>=3.0.2->plot-metric) (2.8.2)\n",
            "Requirement already satisfied: pytz>=2020.1 in /usr/local/lib/python3.11/dist-packages (from pandas>=0.23.4->plot-metric) (2025.1)\n",
            "Requirement already satisfied: tzdata>=2022.7 in /usr/local/lib/python3.11/dist-packages (from pandas>=0.23.4->plot-metric) (2025.1)\n",
            "Requirement already satisfied: joblib>=1.2.0 in /usr/local/lib/python3.11/dist-packages (from scikit-learn>=0.21.2->plot-metric) (1.4.2)\n",
            "Requirement already satisfied: threadpoolctl>=3.1.0 in /usr/local/lib/python3.11/dist-packages (from scikit-learn>=0.21.2->plot-metric) (3.5.0)\n",
            "Requirement already satisfied: six>=1.5 in /usr/local/lib/python3.11/dist-packages (from python-dateutil>=2.7->matplotlib>=3.0.2->plot-metric) (1.17.0)\n",
            "Downloading plot_metric-0.0.6-py3-none-any.whl (13 kB)\n",
            "Installing collected packages: plot-metric\n",
            "Successfully installed plot-metric-0.0.6\n"
          ]
        }
      ]
    },
    {
      "cell_type": "code",
      "source": [
        "!pip install scipy==1.11.4"
      ],
      "metadata": {
        "colab": {
          "base_uri": "https://localhost:8080/"
        },
        "id": "nQamMy-9IIAz",
        "outputId": "11d0a115-543b-4e6f-db9e-4772ce01eda2"
      },
      "execution_count": 4,
      "outputs": [
        {
          "output_type": "stream",
          "name": "stdout",
          "text": [
            "Collecting scipy==1.11.4\n",
            "  Downloading scipy-1.11.4-cp311-cp311-manylinux_2_17_x86_64.manylinux2014_x86_64.whl.metadata (60 kB)\n",
            "\u001b[?25l     \u001b[90m━━━━━━━━━━━━━━━━━━━━━━━━━━━━━━━━━━━━━━━━\u001b[0m \u001b[32m0.0/60.4 kB\u001b[0m \u001b[31m?\u001b[0m eta \u001b[36m-:--:--\u001b[0m\r\u001b[2K     \u001b[90m━━━━━━━━━━━━━━━━━━━━━━━━━━━━━━━━━━━━━━━━\u001b[0m \u001b[32m60.4/60.4 kB\u001b[0m \u001b[31m2.3 MB/s\u001b[0m eta \u001b[36m0:00:00\u001b[0m\n",
            "\u001b[?25hRequirement already satisfied: numpy<1.28.0,>=1.21.6 in /usr/local/lib/python3.11/dist-packages (from scipy==1.11.4) (1.26.4)\n",
            "Downloading scipy-1.11.4-cp311-cp311-manylinux_2_17_x86_64.manylinux2014_x86_64.whl (36.4 MB)\n",
            "\u001b[2K   \u001b[90m━━━━━━━━━━━━━━━━━━━━━━━━━━━━━━━━━━━━━━━━\u001b[0m \u001b[32m36.4/36.4 MB\u001b[0m \u001b[31m18.0 MB/s\u001b[0m eta \u001b[36m0:00:00\u001b[0m\n",
            "\u001b[?25hInstalling collected packages: scipy\n",
            "  Attempting uninstall: scipy\n",
            "    Found existing installation: scipy 1.14.1\n",
            "    Uninstalling scipy-1.14.1:\n",
            "      Successfully uninstalled scipy-1.14.1\n",
            "Successfully installed scipy-1.11.4\n"
          ]
        }
      ]
    },
    {
      "cell_type": "code",
      "execution_count": 5,
      "metadata": {
        "id": "HNUJYZaAIWvV",
        "colab": {
          "base_uri": "https://localhost:8080/"
        },
        "outputId": "56d183dc-101d-45a6-b5ae-5702c10c3307"
      },
      "outputs": [
        {
          "output_type": "stream",
          "name": "stdout",
          "text": [
            "Mounted at /content/drive\n"
          ]
        }
      ],
      "source": [
        "import pandas as pd\n",
        "import numpy as np\n",
        "import warnings\n",
        "import joblib\n",
        "import plotly.express as px\n",
        "from google.colab import drive\n",
        "from datetime import date, timedelta\n",
        "import matplotlib.pyplot as plt\n",
        "from catboost import CatBoostClassifier, CatBoostRegressor\n",
        "from sklearn.model_selection import train_test_split\n",
        "from plot_metric.functions import BinaryClassification\n",
        "\n",
        "warnings.filterwarnings('ignore')\n",
        "pd.options.display.max_columns = 500\n",
        "\n",
        "from google.colab import auth\n",
        "import gspread\n",
        "from google.auth import default\n",
        "\n",
        "auth.authenticate_user()\n",
        "creds, _ = default()\n",
        "gc = gspread.authorize(creds)\n",
        "drive.mount('/content/drive',  force_remount=True)"
      ]
    },
    {
      "cell_type": "code",
      "source": [
        "import json\n",
        "data = {\n",
        "  \"account\": \"\",\n",
        "  \"client_id\": \"764086051850-6qr4p6gpi6hn506pt8ejuq83di341hur.apps.googleusercontent.com\",\n",
        "  \"client_secret\": \"d-FL95Q19q7MQmFpd7hHD0Ty\",\n",
        "  \"quota_project_id\": \"dev-sd-lake\",\n",
        "  \"refresh_token\": \"1//05nz9IRnR1e2JCgYIARAAGAUSNwF-L9Ir_zi7EkfNFJb02e5XxL3e4Qicf7BN708CjMo66DuPPMhkd09jS6lIra-zubUPFGORcyU\",\n",
        "  \"type\": \"authorized_user\",\n",
        "  \"universe_domain\": \"googleapis.com\"\n",
        "}\n",
        "json_data = json.dumps(data)\n",
        "!echo '{json_data}' > '/content/.config/application_default_credentials.json'"
      ],
      "metadata": {
        "id": "xuGIyhxsPjh1"
      },
      "execution_count": 6,
      "outputs": []
    },
    {
      "cell_type": "code",
      "source": [
        "from google.cloud import bigquery\n",
        "\n",
        "client = bigquery.Client(project='dev-sd-lake')\n",
        "\n",
        "product_listings_query = \"\"\"\n",
        "SELECT * FROM pollen.product_listings;\n",
        "\"\"\"\n",
        "\n",
        "product_listings = client.query_and_wait(product_listings_query).to_dataframe()\n",
        "\n",
        "\n",
        "client = bigquery.Client(project='dev-sd-lake')\n",
        "\n",
        "products_query = \"\"\"\n",
        "SELECT * FROM pollen.products;\n",
        "\"\"\"\n",
        "\n",
        "products = client.query_and_wait(products_query).to_dataframe()\n",
        "\n",
        "\n",
        "client = bigquery.Client(project='dev-sd-lake')\n",
        "\n",
        "product_categories_query = \"\"\"\n",
        "SELECT * FROM pollen.product_categories;\n",
        "\"\"\"\n",
        "\n",
        "product_categories = client.query_and_wait(product_categories_query).to_dataframe()\n",
        "\n",
        "\n",
        "client = bigquery.Client(project='dev-sd-lake')\n",
        "\n",
        "product_subcategories_query = \"\"\"\n",
        "SELECT * FROM pollen.product_subcategories;\n",
        "\"\"\"\n",
        "\n",
        "product_subcategories = client.query_and_wait(product_subcategories_query).to_dataframe()\n",
        "\n",
        "client = bigquery.Client(project='dev-sd-lake')\n",
        "\n",
        "sellers_query = \"\"\"\n",
        "SELECT * FROM pollen.sellers;\n",
        "\"\"\"\n",
        "\n",
        "sellers = client.query_and_wait(sellers_query).to_dataframe()"
      ],
      "metadata": {
        "id": "fbpwwJYiPneK"
      },
      "execution_count": 7,
      "outputs": []
    },
    {
      "cell_type": "code",
      "source": [
        "offers_query = \"\"\"\n",
        "SELECT * FROM pollen.offers;\n",
        "\"\"\"\n",
        "\n",
        "offers = client.query_and_wait(offers_query).to_dataframe()"
      ],
      "metadata": {
        "id": "8bLBsH5GDuDC"
      },
      "execution_count": 8,
      "outputs": []
    },
    {
      "cell_type": "code",
      "source": [
        "orders_level_1_query = \"\"\"\n",
        "SELECT * FROM pollen.orders_level_1;\n",
        "\"\"\"\n",
        "\n",
        "orders_level_1 = client.query_and_wait(orders_level_1_query).to_dataframe()"
      ],
      "metadata": {
        "id": "9rcmleQ_DvrJ"
      },
      "execution_count": 9,
      "outputs": []
    },
    {
      "cell_type": "code",
      "source": [
        "orders_level_2_query = \"\"\"\n",
        "SELECT * FROM pollen.orders_level_2;\n",
        "\"\"\"\n",
        "\n",
        "orders_level_2 = client.query_and_wait(orders_level_2_query).to_dataframe()"
      ],
      "metadata": {
        "id": "oivfUCKDDxnD"
      },
      "execution_count": 10,
      "outputs": []
    },
    {
      "cell_type": "code",
      "source": [
        "sellers = sellers[['seller_name', 'persona_seller_type']].drop_duplicates()"
      ],
      "metadata": {
        "id": "8ed1Mx0XSmuU"
      },
      "execution_count": 11,
      "outputs": []
    },
    {
      "cell_type": "code",
      "source": [
        "print(product_listings.shape, products.shape, product_categories.shape, product_subcategories.shape, sellers.shape)"
      ],
      "metadata": {
        "id": "kRZgEJu6l6wP",
        "colab": {
          "base_uri": "https://localhost:8080/"
        },
        "outputId": "576f247d-acf9-4bd7-d86f-c42d66b8ed95"
      },
      "execution_count": 12,
      "outputs": [
        {
          "output_type": "stream",
          "name": "stdout",
          "text": [
            "(99164, 41) (99172, 9) (22, 3) (111, 4) (109, 2)\n"
          ]
        }
      ]
    },
    {
      "cell_type": "code",
      "source": [
        "def get_order_date(df_order_sheet1, df_order_sheet2):\n",
        "  order_date_to_tracking_no_mapping = df_order_sheet1[['tracking_no', 'order_date']].drop_duplicates()\n",
        "  df_order_sheet2 = pd.merge(df_order_sheet2, order_date_to_tracking_no_mapping, 'left',  on = ['tracking_no'])\n",
        "  df_order_sheet2.drop('date_of_order', axis = 1, inplace = True)\n",
        "  df_order = df_order_sheet2.copy()\n",
        "  return df_order\n",
        "\n",
        "orders = get_order_date(orders_level_1, orders_level_2)"
      ],
      "metadata": {
        "id": "TENISfYMy1K3"
      },
      "execution_count": 13,
      "outputs": []
    },
    {
      "cell_type": "code",
      "source": [
        "orders = orders.drop_duplicates(subset = ['sku_number', 'expiry_date', 'tracking_no'])\n",
        "offers = offers.drop_duplicates(subset = ['sku_number', 'expiry_date', 'tracking_no'])\n",
        "offers = offers.rename(columns = {'total_units' : 'total_units_offered'})\n",
        "orders = orders.rename(columns = {'total_units' : 'total_units_ordered', 'total_offer_price_usd' : 'total_order_price_usd'})\n",
        "\n",
        "offers = pd.merge(offers, orders[['sku_number', 'expiry_date', 'tracking_no', 'total_units_ordered', 'recovery_rate_percentage', 'total_order_price_usd']], 'left', on = ['sku_number', 'expiry_date', 'tracking_no'])"
      ],
      "metadata": {
        "id": "vEJS7CieEB2-"
      },
      "execution_count": 14,
      "outputs": []
    },
    {
      "cell_type": "code",
      "source": [
        "product_subcategories = product_subcategories.rename(columns = {'id' : 'subcategory_id', 'name' : 'product_subcategory'})\n",
        "product_categories = product_categories.rename(columns = {'id' : 'category_id', 'name' : 'product_category'})\n",
        "\n",
        "products = pd.merge(products, product_categories, 'left', on = 'category_id')\n",
        "products = pd.merge(products, product_subcategories[['subcategory_id', 'product_subcategory']], 'left', on = 'subcategory_id')"
      ],
      "metadata": {
        "id": "fBVd-jaEW77I"
      },
      "execution_count": 15,
      "outputs": []
    },
    {
      "cell_type": "code",
      "source": [
        "products = products.rename(columns = {'id' : 'product_id'})\n",
        "products = products.drop(['parent_product_id', 'created_at', 'updated_at', 'category_id', 'subcategory_id'], axis = 1)\n",
        "\n",
        "product_listings = product_listings.drop(['created_at', 'updated_at', 'pollen_updated_price_per_unit_local',\n",
        "                       'barcode', 'barcode_key', 'manufactured_date', 'batch_number', 'image_links', 'usd_conversion', 'scoring'], axis = 1)\n",
        "product_listings = pd.merge(product_listings, products, 'left', on = 'product_id')"
      ],
      "metadata": {
        "id": "bjiUXxW8xchN"
      },
      "execution_count": 16,
      "outputs": []
    },
    {
      "cell_type": "code",
      "source": [
        "product_listings.head(2)"
      ],
      "metadata": {
        "colab": {
          "base_uri": "https://localhost:8080/",
          "height": 236
        },
        "id": "xG4VEdOGGVz-",
        "outputId": "62f90914-ed1b-4a67-98e7-c975187795d5"
      },
      "execution_count": 17,
      "outputs": [
        {
          "output_type": "execute_result",
          "data": {
            "text/plain": [
              "                                     id                            product_id  \\\n",
              "0  7c765b8d-4858-42f3-bdcd-d39e07146f58  7468eef6-5131-48d9-89d3-e13006c70311   \n",
              "1  b419d6ba-dd0c-4283-83de-df3a38e7a9be  9eb95253-892b-4eea-9fa0-33a79786d3d1   \n",
              "\n",
              "         seller_id                record_id        seller_name expiry_date  \\\n",
              "0  SE1712631761502  SE1712631761502G4311200  L'Oreal Indonesia  2025-01-01   \n",
              "1  SE1712631761502  SE1712631761502G4218000  L'Oreal Indonesia  2025-01-28   \n",
              "\n",
              "  package_type  qty_of_carton  units_per_package_type  total_number_of_items  \\\n",
              "0       Carton          64.20                    60.0                 3852.0   \n",
              "1       Carton          58.43                    60.0                 3506.0   \n",
              "\n",
              "  currency  retail_price_per_unit_local  asking_price_per_unit_local  \\\n",
              "0      IDR                      24900.0                       5991.5   \n",
              "1      IDR                      23400.0                       6552.7   \n",
              "\n",
              "   pack_size_number pack_size_unit  cbm_carton  length  breadth  height  \\\n",
              "0              31.0              g        0.01   254.0    156.0   219.0   \n",
              "1              19.7              g        0.01   185.0    150.0   197.0   \n",
              "\n",
              "  unit_dimensions  weight_per_carton_kg warehouse_address warehouse_country  \\\n",
              "0              MM                  2.24            Bekasi         Indonesia   \n",
              "1              MM                  1.42            Bekasi         Indonesia   \n",
              "\n",
              "  country_of_origin package_labeled_language  product_restriction priority  \\\n",
              "0                 -                        -                  NaN       P2   \n",
              "1                 -                        -                  NaN       P2   \n",
              "\n",
              "   retail_price_per_unit_usd  asking_price_per_unit_usd inventory_class  \\\n",
              "0                       1.53                       0.37            CORE   \n",
              "1                       1.44                       0.40            CORE   \n",
              "\n",
              "   updated_on sku_number                  sku_product_name    brand  \\\n",
              "0  2024-05-28   G4311200     GRN 2 STEP PW MASK B5 GOJI EB  GARNIER   \n",
              "1  2024-05-28   G4218000  GRN 5 MIN AMP MASK WATERMELON EB  GARNIER   \n",
              "\n",
              "  product_category description  product_subcategory  \n",
              "0        SKIN CARE   SKIN CARE  MASKS & EXFOLIATORS  \n",
              "1        SKIN CARE   SKIN CARE  MASKS & EXFOLIATORS  "
            ],
            "text/html": [
              "\n",
              "  <div id=\"df-c1de00e1-74d9-4553-ab83-1476f8640bf0\" class=\"colab-df-container\">\n",
              "    <div>\n",
              "<style scoped>\n",
              "    .dataframe tbody tr th:only-of-type {\n",
              "        vertical-align: middle;\n",
              "    }\n",
              "\n",
              "    .dataframe tbody tr th {\n",
              "        vertical-align: top;\n",
              "    }\n",
              "\n",
              "    .dataframe thead th {\n",
              "        text-align: right;\n",
              "    }\n",
              "</style>\n",
              "<table border=\"1\" class=\"dataframe\">\n",
              "  <thead>\n",
              "    <tr style=\"text-align: right;\">\n",
              "      <th></th>\n",
              "      <th>id</th>\n",
              "      <th>product_id</th>\n",
              "      <th>seller_id</th>\n",
              "      <th>record_id</th>\n",
              "      <th>seller_name</th>\n",
              "      <th>expiry_date</th>\n",
              "      <th>package_type</th>\n",
              "      <th>qty_of_carton</th>\n",
              "      <th>units_per_package_type</th>\n",
              "      <th>total_number_of_items</th>\n",
              "      <th>currency</th>\n",
              "      <th>retail_price_per_unit_local</th>\n",
              "      <th>asking_price_per_unit_local</th>\n",
              "      <th>pack_size_number</th>\n",
              "      <th>pack_size_unit</th>\n",
              "      <th>cbm_carton</th>\n",
              "      <th>length</th>\n",
              "      <th>breadth</th>\n",
              "      <th>height</th>\n",
              "      <th>unit_dimensions</th>\n",
              "      <th>weight_per_carton_kg</th>\n",
              "      <th>warehouse_address</th>\n",
              "      <th>warehouse_country</th>\n",
              "      <th>country_of_origin</th>\n",
              "      <th>package_labeled_language</th>\n",
              "      <th>product_restriction</th>\n",
              "      <th>priority</th>\n",
              "      <th>retail_price_per_unit_usd</th>\n",
              "      <th>asking_price_per_unit_usd</th>\n",
              "      <th>inventory_class</th>\n",
              "      <th>updated_on</th>\n",
              "      <th>sku_number</th>\n",
              "      <th>sku_product_name</th>\n",
              "      <th>brand</th>\n",
              "      <th>product_category</th>\n",
              "      <th>description</th>\n",
              "      <th>product_subcategory</th>\n",
              "    </tr>\n",
              "  </thead>\n",
              "  <tbody>\n",
              "    <tr>\n",
              "      <th>0</th>\n",
              "      <td>7c765b8d-4858-42f3-bdcd-d39e07146f58</td>\n",
              "      <td>7468eef6-5131-48d9-89d3-e13006c70311</td>\n",
              "      <td>SE1712631761502</td>\n",
              "      <td>SE1712631761502G4311200</td>\n",
              "      <td>L'Oreal Indonesia</td>\n",
              "      <td>2025-01-01</td>\n",
              "      <td>Carton</td>\n",
              "      <td>64.20</td>\n",
              "      <td>60.0</td>\n",
              "      <td>3852.0</td>\n",
              "      <td>IDR</td>\n",
              "      <td>24900.0</td>\n",
              "      <td>5991.5</td>\n",
              "      <td>31.0</td>\n",
              "      <td>g</td>\n",
              "      <td>0.01</td>\n",
              "      <td>254.0</td>\n",
              "      <td>156.0</td>\n",
              "      <td>219.0</td>\n",
              "      <td>MM</td>\n",
              "      <td>2.24</td>\n",
              "      <td>Bekasi</td>\n",
              "      <td>Indonesia</td>\n",
              "      <td>-</td>\n",
              "      <td>-</td>\n",
              "      <td>NaN</td>\n",
              "      <td>P2</td>\n",
              "      <td>1.53</td>\n",
              "      <td>0.37</td>\n",
              "      <td>CORE</td>\n",
              "      <td>2024-05-28</td>\n",
              "      <td>G4311200</td>\n",
              "      <td>GRN 2 STEP PW MASK B5 GOJI EB</td>\n",
              "      <td>GARNIER</td>\n",
              "      <td>SKIN CARE</td>\n",
              "      <td>SKIN CARE</td>\n",
              "      <td>MASKS &amp; EXFOLIATORS</td>\n",
              "    </tr>\n",
              "    <tr>\n",
              "      <th>1</th>\n",
              "      <td>b419d6ba-dd0c-4283-83de-df3a38e7a9be</td>\n",
              "      <td>9eb95253-892b-4eea-9fa0-33a79786d3d1</td>\n",
              "      <td>SE1712631761502</td>\n",
              "      <td>SE1712631761502G4218000</td>\n",
              "      <td>L'Oreal Indonesia</td>\n",
              "      <td>2025-01-28</td>\n",
              "      <td>Carton</td>\n",
              "      <td>58.43</td>\n",
              "      <td>60.0</td>\n",
              "      <td>3506.0</td>\n",
              "      <td>IDR</td>\n",
              "      <td>23400.0</td>\n",
              "      <td>6552.7</td>\n",
              "      <td>19.7</td>\n",
              "      <td>g</td>\n",
              "      <td>0.01</td>\n",
              "      <td>185.0</td>\n",
              "      <td>150.0</td>\n",
              "      <td>197.0</td>\n",
              "      <td>MM</td>\n",
              "      <td>1.42</td>\n",
              "      <td>Bekasi</td>\n",
              "      <td>Indonesia</td>\n",
              "      <td>-</td>\n",
              "      <td>-</td>\n",
              "      <td>NaN</td>\n",
              "      <td>P2</td>\n",
              "      <td>1.44</td>\n",
              "      <td>0.40</td>\n",
              "      <td>CORE</td>\n",
              "      <td>2024-05-28</td>\n",
              "      <td>G4218000</td>\n",
              "      <td>GRN 5 MIN AMP MASK WATERMELON EB</td>\n",
              "      <td>GARNIER</td>\n",
              "      <td>SKIN CARE</td>\n",
              "      <td>SKIN CARE</td>\n",
              "      <td>MASKS &amp; EXFOLIATORS</td>\n",
              "    </tr>\n",
              "  </tbody>\n",
              "</table>\n",
              "</div>\n",
              "    <div class=\"colab-df-buttons\">\n",
              "\n",
              "  <div class=\"colab-df-container\">\n",
              "    <button class=\"colab-df-convert\" onclick=\"convertToInteractive('df-c1de00e1-74d9-4553-ab83-1476f8640bf0')\"\n",
              "            title=\"Convert this dataframe to an interactive table.\"\n",
              "            style=\"display:none;\">\n",
              "\n",
              "  <svg xmlns=\"http://www.w3.org/2000/svg\" height=\"24px\" viewBox=\"0 -960 960 960\">\n",
              "    <path d=\"M120-120v-720h720v720H120Zm60-500h600v-160H180v160Zm220 220h160v-160H400v160Zm0 220h160v-160H400v160ZM180-400h160v-160H180v160Zm440 0h160v-160H620v160ZM180-180h160v-160H180v160Zm440 0h160v-160H620v160Z\"/>\n",
              "  </svg>\n",
              "    </button>\n",
              "\n",
              "  <style>\n",
              "    .colab-df-container {\n",
              "      display:flex;\n",
              "      gap: 12px;\n",
              "    }\n",
              "\n",
              "    .colab-df-convert {\n",
              "      background-color: #E8F0FE;\n",
              "      border: none;\n",
              "      border-radius: 50%;\n",
              "      cursor: pointer;\n",
              "      display: none;\n",
              "      fill: #1967D2;\n",
              "      height: 32px;\n",
              "      padding: 0 0 0 0;\n",
              "      width: 32px;\n",
              "    }\n",
              "\n",
              "    .colab-df-convert:hover {\n",
              "      background-color: #E2EBFA;\n",
              "      box-shadow: 0px 1px 2px rgba(60, 64, 67, 0.3), 0px 1px 3px 1px rgba(60, 64, 67, 0.15);\n",
              "      fill: #174EA6;\n",
              "    }\n",
              "\n",
              "    .colab-df-buttons div {\n",
              "      margin-bottom: 4px;\n",
              "    }\n",
              "\n",
              "    [theme=dark] .colab-df-convert {\n",
              "      background-color: #3B4455;\n",
              "      fill: #D2E3FC;\n",
              "    }\n",
              "\n",
              "    [theme=dark] .colab-df-convert:hover {\n",
              "      background-color: #434B5C;\n",
              "      box-shadow: 0px 1px 3px 1px rgba(0, 0, 0, 0.15);\n",
              "      filter: drop-shadow(0px 1px 2px rgba(0, 0, 0, 0.3));\n",
              "      fill: #FFFFFF;\n",
              "    }\n",
              "  </style>\n",
              "\n",
              "    <script>\n",
              "      const buttonEl =\n",
              "        document.querySelector('#df-c1de00e1-74d9-4553-ab83-1476f8640bf0 button.colab-df-convert');\n",
              "      buttonEl.style.display =\n",
              "        google.colab.kernel.accessAllowed ? 'block' : 'none';\n",
              "\n",
              "      async function convertToInteractive(key) {\n",
              "        const element = document.querySelector('#df-c1de00e1-74d9-4553-ab83-1476f8640bf0');\n",
              "        const dataTable =\n",
              "          await google.colab.kernel.invokeFunction('convertToInteractive',\n",
              "                                                    [key], {});\n",
              "        if (!dataTable) return;\n",
              "\n",
              "        const docLinkHtml = 'Like what you see? Visit the ' +\n",
              "          '<a target=\"_blank\" href=https://colab.research.google.com/notebooks/data_table.ipynb>data table notebook</a>'\n",
              "          + ' to learn more about interactive tables.';\n",
              "        element.innerHTML = '';\n",
              "        dataTable['output_type'] = 'display_data';\n",
              "        await google.colab.output.renderOutput(dataTable, element);\n",
              "        const docLink = document.createElement('div');\n",
              "        docLink.innerHTML = docLinkHtml;\n",
              "        element.appendChild(docLink);\n",
              "      }\n",
              "    </script>\n",
              "  </div>\n",
              "\n",
              "\n",
              "<div id=\"df-88b34b96-8efe-42e6-b947-83e7a4d5efa1\">\n",
              "  <button class=\"colab-df-quickchart\" onclick=\"quickchart('df-88b34b96-8efe-42e6-b947-83e7a4d5efa1')\"\n",
              "            title=\"Suggest charts\"\n",
              "            style=\"display:none;\">\n",
              "\n",
              "<svg xmlns=\"http://www.w3.org/2000/svg\" height=\"24px\"viewBox=\"0 0 24 24\"\n",
              "     width=\"24px\">\n",
              "    <g>\n",
              "        <path d=\"M19 3H5c-1.1 0-2 .9-2 2v14c0 1.1.9 2 2 2h14c1.1 0 2-.9 2-2V5c0-1.1-.9-2-2-2zM9 17H7v-7h2v7zm4 0h-2V7h2v10zm4 0h-2v-4h2v4z\"/>\n",
              "    </g>\n",
              "</svg>\n",
              "  </button>\n",
              "\n",
              "<style>\n",
              "  .colab-df-quickchart {\n",
              "      --bg-color: #E8F0FE;\n",
              "      --fill-color: #1967D2;\n",
              "      --hover-bg-color: #E2EBFA;\n",
              "      --hover-fill-color: #174EA6;\n",
              "      --disabled-fill-color: #AAA;\n",
              "      --disabled-bg-color: #DDD;\n",
              "  }\n",
              "\n",
              "  [theme=dark] .colab-df-quickchart {\n",
              "      --bg-color: #3B4455;\n",
              "      --fill-color: #D2E3FC;\n",
              "      --hover-bg-color: #434B5C;\n",
              "      --hover-fill-color: #FFFFFF;\n",
              "      --disabled-bg-color: #3B4455;\n",
              "      --disabled-fill-color: #666;\n",
              "  }\n",
              "\n",
              "  .colab-df-quickchart {\n",
              "    background-color: var(--bg-color);\n",
              "    border: none;\n",
              "    border-radius: 50%;\n",
              "    cursor: pointer;\n",
              "    display: none;\n",
              "    fill: var(--fill-color);\n",
              "    height: 32px;\n",
              "    padding: 0;\n",
              "    width: 32px;\n",
              "  }\n",
              "\n",
              "  .colab-df-quickchart:hover {\n",
              "    background-color: var(--hover-bg-color);\n",
              "    box-shadow: 0 1px 2px rgba(60, 64, 67, 0.3), 0 1px 3px 1px rgba(60, 64, 67, 0.15);\n",
              "    fill: var(--button-hover-fill-color);\n",
              "  }\n",
              "\n",
              "  .colab-df-quickchart-complete:disabled,\n",
              "  .colab-df-quickchart-complete:disabled:hover {\n",
              "    background-color: var(--disabled-bg-color);\n",
              "    fill: var(--disabled-fill-color);\n",
              "    box-shadow: none;\n",
              "  }\n",
              "\n",
              "  .colab-df-spinner {\n",
              "    border: 2px solid var(--fill-color);\n",
              "    border-color: transparent;\n",
              "    border-bottom-color: var(--fill-color);\n",
              "    animation:\n",
              "      spin 1s steps(1) infinite;\n",
              "  }\n",
              "\n",
              "  @keyframes spin {\n",
              "    0% {\n",
              "      border-color: transparent;\n",
              "      border-bottom-color: var(--fill-color);\n",
              "      border-left-color: var(--fill-color);\n",
              "    }\n",
              "    20% {\n",
              "      border-color: transparent;\n",
              "      border-left-color: var(--fill-color);\n",
              "      border-top-color: var(--fill-color);\n",
              "    }\n",
              "    30% {\n",
              "      border-color: transparent;\n",
              "      border-left-color: var(--fill-color);\n",
              "      border-top-color: var(--fill-color);\n",
              "      border-right-color: var(--fill-color);\n",
              "    }\n",
              "    40% {\n",
              "      border-color: transparent;\n",
              "      border-right-color: var(--fill-color);\n",
              "      border-top-color: var(--fill-color);\n",
              "    }\n",
              "    60% {\n",
              "      border-color: transparent;\n",
              "      border-right-color: var(--fill-color);\n",
              "    }\n",
              "    80% {\n",
              "      border-color: transparent;\n",
              "      border-right-color: var(--fill-color);\n",
              "      border-bottom-color: var(--fill-color);\n",
              "    }\n",
              "    90% {\n",
              "      border-color: transparent;\n",
              "      border-bottom-color: var(--fill-color);\n",
              "    }\n",
              "  }\n",
              "</style>\n",
              "\n",
              "  <script>\n",
              "    async function quickchart(key) {\n",
              "      const quickchartButtonEl =\n",
              "        document.querySelector('#' + key + ' button');\n",
              "      quickchartButtonEl.disabled = true;  // To prevent multiple clicks.\n",
              "      quickchartButtonEl.classList.add('colab-df-spinner');\n",
              "      try {\n",
              "        const charts = await google.colab.kernel.invokeFunction(\n",
              "            'suggestCharts', [key], {});\n",
              "      } catch (error) {\n",
              "        console.error('Error during call to suggestCharts:', error);\n",
              "      }\n",
              "      quickchartButtonEl.classList.remove('colab-df-spinner');\n",
              "      quickchartButtonEl.classList.add('colab-df-quickchart-complete');\n",
              "    }\n",
              "    (() => {\n",
              "      let quickchartButtonEl =\n",
              "        document.querySelector('#df-88b34b96-8efe-42e6-b947-83e7a4d5efa1 button');\n",
              "      quickchartButtonEl.style.display =\n",
              "        google.colab.kernel.accessAllowed ? 'block' : 'none';\n",
              "    })();\n",
              "  </script>\n",
              "</div>\n",
              "\n",
              "    </div>\n",
              "  </div>\n"
            ],
            "application/vnd.google.colaboratory.intrinsic+json": {
              "type": "dataframe",
              "variable_name": "product_listings"
            }
          },
          "metadata": {},
          "execution_count": 17
        }
      ]
    },
    {
      "cell_type": "code",
      "source": [
        "product_listings.inventory_class.value_counts()"
      ],
      "metadata": {
        "colab": {
          "base_uri": "https://localhost:8080/",
          "height": 178
        },
        "id": "FqjPGrLD8hHE",
        "outputId": "4f5d3a89-69c0-4384-adec-ddb7397244fd"
      },
      "execution_count": 18,
      "outputs": [
        {
          "output_type": "execute_result",
          "data": {
            "text/plain": [
              "inventory_class\n",
              "CORE        66703\n",
              "NON_CORE    32461\n",
              "Name: count, dtype: int64"
            ],
            "text/html": [
              "<div>\n",
              "<style scoped>\n",
              "    .dataframe tbody tr th:only-of-type {\n",
              "        vertical-align: middle;\n",
              "    }\n",
              "\n",
              "    .dataframe tbody tr th {\n",
              "        vertical-align: top;\n",
              "    }\n",
              "\n",
              "    .dataframe thead th {\n",
              "        text-align: right;\n",
              "    }\n",
              "</style>\n",
              "<table border=\"1\" class=\"dataframe\">\n",
              "  <thead>\n",
              "    <tr style=\"text-align: right;\">\n",
              "      <th></th>\n",
              "      <th>count</th>\n",
              "    </tr>\n",
              "    <tr>\n",
              "      <th>inventory_class</th>\n",
              "      <th></th>\n",
              "    </tr>\n",
              "  </thead>\n",
              "  <tbody>\n",
              "    <tr>\n",
              "      <th>CORE</th>\n",
              "      <td>66703</td>\n",
              "    </tr>\n",
              "    <tr>\n",
              "      <th>NON_CORE</th>\n",
              "      <td>32461</td>\n",
              "    </tr>\n",
              "  </tbody>\n",
              "</table>\n",
              "</div><br><label><b>dtype:</b> int64</label>"
            ]
          },
          "metadata": {},
          "execution_count": 18
        }
      ]
    },
    {
      "cell_type": "code",
      "source": [
        "df_inv = product_listings[product_listings.inventory_class == 'CORE']\n",
        "non_core_inv = product_listings[product_listings.inventory_class == 'NON_CORE']\n",
        "df_inv = df_inv.reset_index(drop = True)\n",
        "non_core_inv = non_core_inv.reset_index(drop = True)"
      ],
      "metadata": {
        "id": "dztDynhP4FgK"
      },
      "execution_count": 19,
      "outputs": []
    },
    {
      "cell_type": "code",
      "source": [
        "cols_list_underscore_cleaning = ['sku_product_name', 'brand', 'product_category', 'product_subcategory', 'warehouse_country',\n",
        "            'country_of_origin', 'pack_label_language', 'product_restricted_countries', 'shelf_life_bucket']\n",
        "\n",
        "inv_cols_list_to_change_dtypes = ['qty_of_cartons', 'units_per_cartons', 'retail_price_per_case_(local)', 'retail_price_per_case_(usd)', 'asking_price_per_case_(local)',\n",
        "                              'asking_price_per_case_(usd)', 'total_retail_price_(local)', 'total_retail_price_(usd)', 'total_asking_price_(local)',\n",
        "                              'total_asking_price_(usd)', 'pack_size_(number)', 'total_cbm', 'cbm_per_case', 'package_dimensions_per_package_type_(length)',\n",
        "                              'package_dimensions_per_case_(width)', 'package_dimensions_per_case_(height)', 'net_weight_\\nper_unit(kg)', 'net_weight_per_case_(kg)',\n",
        "                              'gross_weight_per_case_(kg)', 'total_net_weight_(kg)', 'total_gross_weight_(kg)', 'cases_per_pallet', 'number_of_pallets', 'discount',\n",
        "                              'shelf_remaining_days']\n",
        "\n",
        "record_attributes = ['sku_number', 'sku_name', 'brand', 'product_category', 'product_subcategory', 'retail_price_per_unit_local', 'currency']\n",
        "\n",
        "n_days_before_date = pd.to_datetime(date.today() - timedelta(days = 14))\n",
        "\n",
        "THRESHOLD = 0.65"
      ],
      "metadata": {
        "id": "aqXYxL3_9W8f"
      },
      "execution_count": 20,
      "outputs": []
    },
    {
      "cell_type": "code",
      "source": [],
      "metadata": {
        "id": "BHG-z1RR9XsR"
      },
      "execution_count": 20,
      "outputs": []
    },
    {
      "cell_type": "code",
      "source": [
        "def dropping_null_brand_cat_subcats(df_inv):\n",
        "  df_inv = df_inv[~df_inv.brand.isnull()]\n",
        "  df_inv = df_inv[~df_inv.product_category.isnull()]\n",
        "  df_inv = df_inv[~df_inv.product_subcategory.isnull()]\n",
        "  return df_inv\n",
        "\n",
        "def cols_to_lower_rem_space(df, cols_list):\n",
        "  for col in ['sku_name', 'product_name', 'brand', 'brand_', 'product_description', 'product_category', 'product_sub_category', 'product_subcategory',\\\n",
        "              'warehouse_location', 'buyer', 'seller', 'package_type', 'deal_type', 'origin_', 'destination', 'region_of_export', \\\n",
        "              'domestic_export', 'order_type', 'country', 'currency', 'country_of_origin', 'pack_label_language', 'dangerous_goods\\n(y/n)', 'shelf_life_bucket',\n",
        "              'relavant_(r)/ir-relavant(ir)', 'product_restricted_countries', 'store_name', 'quarter', 'temp_reference', 'tracking_no', 'offer_type', 'fiscal_month',\n",
        "              'proposed_buyer_product_preferences', 'product_shelf_life_months', 'priority', 'seller', 'lms_seller_id', 'persona', 'core_vs._\\nnon_core', 'sku_product_name',\n",
        "              'warehouse_country', 'warehouse_address', 'measurement_units', 'listing_currency', 'manufacturing_country', 'lbh_measurement_units', 'package_type', 'seller_name',\n",
        "              'pack_size_unit', 'package_labeled_language', 'inventory_class', 'description', 'unit_dimensions']:\n",
        "              if col in cols_list:\n",
        "                df[col] = df[col].str.lower().str.replace(' ', '_')\n",
        "  return df\n",
        "\n",
        "def remove_starting_and_trailing_underscores(x):\n",
        "  if x != '':\n",
        "    if x[0] == '_':\n",
        "      for i in range(len(x)):\n",
        "        if x[i] != '_':\n",
        "          start = i\n",
        "          break\n",
        "      x = x[start:]\n",
        "    if x[-1] == '_':\n",
        "      for i in reversed(range(len(x))):\n",
        "        if x[i] != '_':\n",
        "          end = i\n",
        "          break\n",
        "      x = x[:end+1]\n",
        "  return x\n",
        "\n",
        "def cleaning_underscores_inv_data(df_inv, col_list):\n",
        "  for col in col_list:\n",
        "    print(col)\n",
        "    df_inv[col] = df_inv[col].apply(remove_starting_and_trailing_underscores)\n",
        "  return df_inv\n",
        "\n",
        "def drop_dups_and_clean(df_inv):\n",
        "  print('Dropping above duplicates ...')\n",
        "  df_inv = df_inv.drop_duplicates()\n",
        "  return df_inv"
      ],
      "metadata": {
        "id": "a5O9oHQ6KXVn"
      },
      "execution_count": 21,
      "outputs": []
    },
    {
      "cell_type": "code",
      "source": [
        "df_inv = dropping_null_brand_cat_subcats(df_inv)\n",
        "df_inv = cols_to_lower_rem_space(df_inv, df_inv.columns)\n",
        "df_inv = drop_dups_and_clean(df_inv)\n",
        "\n",
        "non_core_inv = cols_to_lower_rem_space(non_core_inv, non_core_inv.columns)"
      ],
      "metadata": {
        "colab": {
          "base_uri": "https://localhost:8080/"
        },
        "id": "cEc97d69KDph",
        "outputId": "a3d1f929-8091-44b5-abfd-780ca3a15ed5"
      },
      "execution_count": 22,
      "outputs": [
        {
          "output_type": "stream",
          "name": "stdout",
          "text": [
            "Dropping above duplicates ...\n"
          ]
        }
      ]
    },
    {
      "cell_type": "markdown",
      "source": [
        "# Non Core"
      ],
      "metadata": {
        "id": "7dM7UCsvEkNe"
      }
    },
    {
      "cell_type": "code",
      "source": [
        "non_core_inv.head(2)"
      ],
      "metadata": {
        "colab": {
          "base_uri": "https://localhost:8080/",
          "height": 236
        },
        "id": "PxqM8cqBXkJ9",
        "outputId": "f2902a9f-06c9-451a-e774-0d135e4d6859"
      },
      "execution_count": 23,
      "outputs": [
        {
          "output_type": "execute_result",
          "data": {
            "text/plain": [
              "                                     id                            product_id  \\\n",
              "0  2d28d351-f531-42d7-abc1-fee72e225c53  1e18e385-f133-4fb3-95f4-b56cb1419369   \n",
              "1  063c43ca-8297-4bea-9bbf-3ff2e9fd8376  3a7331cf-dbd4-4cb4-b791-982833ff97ff   \n",
              "\n",
              "          seller_id                                  record_id  \\\n",
              "0   SE1712631761542   SE171263176154204R3I1MKJPD97H7OBZ60UTU1Z   \n",
              "1   SE1712631761542   SE171263176154211YAP8LR1W3OQSFJGWCLTD1DQ   \n",
              "\n",
              "           seller_name expiry_date package_type  qty_of_carton  \\\n",
              "0  acommerce_singapore  2023-05-31       pieces            NaN   \n",
              "1  acommerce_singapore  2023-05-31       pieces            NaN   \n",
              "\n",
              "   units_per_package_type  total_number_of_items currency  \\\n",
              "0                     NaN                    6.0      sgd   \n",
              "1                     NaN                  160.0      sgd   \n",
              "\n",
              "   retail_price_per_unit_local  asking_price_per_unit_local  pack_size_number  \\\n",
              "0                         19.9                         1.99               NaN   \n",
              "1                          2.0                         0.20               NaN   \n",
              "\n",
              "  pack_size_unit  cbm_carton  length  breadth  height unit_dimensions  \\\n",
              "0           None         0.0    10.0     10.0    10.0              cm   \n",
              "1           None         0.0     8.0      5.0     0.2              cm   \n",
              "\n",
              "   weight_per_carton_kg warehouse_address warehouse_country country_of_origin  \\\n",
              "0                  0.50         sg-acom01              None              None   \n",
              "1                  0.15         sg-acom02              None              None   \n",
              "\n",
              "  package_labeled_language  product_restriction priority  \\\n",
              "0                     None                  NaN       p1   \n",
              "1                     None                  NaN       p1   \n",
              "\n",
              "   retail_price_per_unit_usd  asking_price_per_unit_usd inventory_class  \\\n",
              "0                  15.116504                   1.511650        non_core   \n",
              "1                   1.519247                   0.151925        non_core   \n",
              "\n",
              "   updated_on                 sku_number  \\\n",
              "0  2023-01-25  04R3I1MKJPD97H7OBZ60UTU1Z   \n",
              "1  2023-01-25  11YAP8LR1W3OQSFJGWCLTD1DQ   \n",
              "\n",
              "                                    sku_product_name          brand  \\\n",
              "0  l'oreal_paris_color_riche_satin_105_nude_in_paris  l'oreal_paris   \n",
              "1      garnier_serum_mask_-_pomegranate_(replumping)        garnier   \n",
              "\n",
              "  product_category description  product_subcategory  \n",
              "0           makeup      makeup           lip_makeup  \n",
              "1        skin_care   skin_care  masks_&_exfoliators  "
            ],
            "text/html": [
              "\n",
              "  <div id=\"df-299a407c-71c4-4e4f-9442-508e160526fa\" class=\"colab-df-container\">\n",
              "    <div>\n",
              "<style scoped>\n",
              "    .dataframe tbody tr th:only-of-type {\n",
              "        vertical-align: middle;\n",
              "    }\n",
              "\n",
              "    .dataframe tbody tr th {\n",
              "        vertical-align: top;\n",
              "    }\n",
              "\n",
              "    .dataframe thead th {\n",
              "        text-align: right;\n",
              "    }\n",
              "</style>\n",
              "<table border=\"1\" class=\"dataframe\">\n",
              "  <thead>\n",
              "    <tr style=\"text-align: right;\">\n",
              "      <th></th>\n",
              "      <th>id</th>\n",
              "      <th>product_id</th>\n",
              "      <th>seller_id</th>\n",
              "      <th>record_id</th>\n",
              "      <th>seller_name</th>\n",
              "      <th>expiry_date</th>\n",
              "      <th>package_type</th>\n",
              "      <th>qty_of_carton</th>\n",
              "      <th>units_per_package_type</th>\n",
              "      <th>total_number_of_items</th>\n",
              "      <th>currency</th>\n",
              "      <th>retail_price_per_unit_local</th>\n",
              "      <th>asking_price_per_unit_local</th>\n",
              "      <th>pack_size_number</th>\n",
              "      <th>pack_size_unit</th>\n",
              "      <th>cbm_carton</th>\n",
              "      <th>length</th>\n",
              "      <th>breadth</th>\n",
              "      <th>height</th>\n",
              "      <th>unit_dimensions</th>\n",
              "      <th>weight_per_carton_kg</th>\n",
              "      <th>warehouse_address</th>\n",
              "      <th>warehouse_country</th>\n",
              "      <th>country_of_origin</th>\n",
              "      <th>package_labeled_language</th>\n",
              "      <th>product_restriction</th>\n",
              "      <th>priority</th>\n",
              "      <th>retail_price_per_unit_usd</th>\n",
              "      <th>asking_price_per_unit_usd</th>\n",
              "      <th>inventory_class</th>\n",
              "      <th>updated_on</th>\n",
              "      <th>sku_number</th>\n",
              "      <th>sku_product_name</th>\n",
              "      <th>brand</th>\n",
              "      <th>product_category</th>\n",
              "      <th>description</th>\n",
              "      <th>product_subcategory</th>\n",
              "    </tr>\n",
              "  </thead>\n",
              "  <tbody>\n",
              "    <tr>\n",
              "      <th>0</th>\n",
              "      <td>2d28d351-f531-42d7-abc1-fee72e225c53</td>\n",
              "      <td>1e18e385-f133-4fb3-95f4-b56cb1419369</td>\n",
              "      <td>SE1712631761542</td>\n",
              "      <td>SE171263176154204R3I1MKJPD97H7OBZ60UTU1Z</td>\n",
              "      <td>acommerce_singapore</td>\n",
              "      <td>2023-05-31</td>\n",
              "      <td>pieces</td>\n",
              "      <td>NaN</td>\n",
              "      <td>NaN</td>\n",
              "      <td>6.0</td>\n",
              "      <td>sgd</td>\n",
              "      <td>19.9</td>\n",
              "      <td>1.99</td>\n",
              "      <td>NaN</td>\n",
              "      <td>None</td>\n",
              "      <td>0.0</td>\n",
              "      <td>10.0</td>\n",
              "      <td>10.0</td>\n",
              "      <td>10.0</td>\n",
              "      <td>cm</td>\n",
              "      <td>0.50</td>\n",
              "      <td>sg-acom01</td>\n",
              "      <td>None</td>\n",
              "      <td>None</td>\n",
              "      <td>None</td>\n",
              "      <td>NaN</td>\n",
              "      <td>p1</td>\n",
              "      <td>15.116504</td>\n",
              "      <td>1.511650</td>\n",
              "      <td>non_core</td>\n",
              "      <td>2023-01-25</td>\n",
              "      <td>04R3I1MKJPD97H7OBZ60UTU1Z</td>\n",
              "      <td>l'oreal_paris_color_riche_satin_105_nude_in_paris</td>\n",
              "      <td>l'oreal_paris</td>\n",
              "      <td>makeup</td>\n",
              "      <td>makeup</td>\n",
              "      <td>lip_makeup</td>\n",
              "    </tr>\n",
              "    <tr>\n",
              "      <th>1</th>\n",
              "      <td>063c43ca-8297-4bea-9bbf-3ff2e9fd8376</td>\n",
              "      <td>3a7331cf-dbd4-4cb4-b791-982833ff97ff</td>\n",
              "      <td>SE1712631761542</td>\n",
              "      <td>SE171263176154211YAP8LR1W3OQSFJGWCLTD1DQ</td>\n",
              "      <td>acommerce_singapore</td>\n",
              "      <td>2023-05-31</td>\n",
              "      <td>pieces</td>\n",
              "      <td>NaN</td>\n",
              "      <td>NaN</td>\n",
              "      <td>160.0</td>\n",
              "      <td>sgd</td>\n",
              "      <td>2.0</td>\n",
              "      <td>0.20</td>\n",
              "      <td>NaN</td>\n",
              "      <td>None</td>\n",
              "      <td>0.0</td>\n",
              "      <td>8.0</td>\n",
              "      <td>5.0</td>\n",
              "      <td>0.2</td>\n",
              "      <td>cm</td>\n",
              "      <td>0.15</td>\n",
              "      <td>sg-acom02</td>\n",
              "      <td>None</td>\n",
              "      <td>None</td>\n",
              "      <td>None</td>\n",
              "      <td>NaN</td>\n",
              "      <td>p1</td>\n",
              "      <td>1.519247</td>\n",
              "      <td>0.151925</td>\n",
              "      <td>non_core</td>\n",
              "      <td>2023-01-25</td>\n",
              "      <td>11YAP8LR1W3OQSFJGWCLTD1DQ</td>\n",
              "      <td>garnier_serum_mask_-_pomegranate_(replumping)</td>\n",
              "      <td>garnier</td>\n",
              "      <td>skin_care</td>\n",
              "      <td>skin_care</td>\n",
              "      <td>masks_&amp;_exfoliators</td>\n",
              "    </tr>\n",
              "  </tbody>\n",
              "</table>\n",
              "</div>\n",
              "    <div class=\"colab-df-buttons\">\n",
              "\n",
              "  <div class=\"colab-df-container\">\n",
              "    <button class=\"colab-df-convert\" onclick=\"convertToInteractive('df-299a407c-71c4-4e4f-9442-508e160526fa')\"\n",
              "            title=\"Convert this dataframe to an interactive table.\"\n",
              "            style=\"display:none;\">\n",
              "\n",
              "  <svg xmlns=\"http://www.w3.org/2000/svg\" height=\"24px\" viewBox=\"0 -960 960 960\">\n",
              "    <path d=\"M120-120v-720h720v720H120Zm60-500h600v-160H180v160Zm220 220h160v-160H400v160Zm0 220h160v-160H400v160ZM180-400h160v-160H180v160Zm440 0h160v-160H620v160ZM180-180h160v-160H180v160Zm440 0h160v-160H620v160Z\"/>\n",
              "  </svg>\n",
              "    </button>\n",
              "\n",
              "  <style>\n",
              "    .colab-df-container {\n",
              "      display:flex;\n",
              "      gap: 12px;\n",
              "    }\n",
              "\n",
              "    .colab-df-convert {\n",
              "      background-color: #E8F0FE;\n",
              "      border: none;\n",
              "      border-radius: 50%;\n",
              "      cursor: pointer;\n",
              "      display: none;\n",
              "      fill: #1967D2;\n",
              "      height: 32px;\n",
              "      padding: 0 0 0 0;\n",
              "      width: 32px;\n",
              "    }\n",
              "\n",
              "    .colab-df-convert:hover {\n",
              "      background-color: #E2EBFA;\n",
              "      box-shadow: 0px 1px 2px rgba(60, 64, 67, 0.3), 0px 1px 3px 1px rgba(60, 64, 67, 0.15);\n",
              "      fill: #174EA6;\n",
              "    }\n",
              "\n",
              "    .colab-df-buttons div {\n",
              "      margin-bottom: 4px;\n",
              "    }\n",
              "\n",
              "    [theme=dark] .colab-df-convert {\n",
              "      background-color: #3B4455;\n",
              "      fill: #D2E3FC;\n",
              "    }\n",
              "\n",
              "    [theme=dark] .colab-df-convert:hover {\n",
              "      background-color: #434B5C;\n",
              "      box-shadow: 0px 1px 3px 1px rgba(0, 0, 0, 0.15);\n",
              "      filter: drop-shadow(0px 1px 2px rgba(0, 0, 0, 0.3));\n",
              "      fill: #FFFFFF;\n",
              "    }\n",
              "  </style>\n",
              "\n",
              "    <script>\n",
              "      const buttonEl =\n",
              "        document.querySelector('#df-299a407c-71c4-4e4f-9442-508e160526fa button.colab-df-convert');\n",
              "      buttonEl.style.display =\n",
              "        google.colab.kernel.accessAllowed ? 'block' : 'none';\n",
              "\n",
              "      async function convertToInteractive(key) {\n",
              "        const element = document.querySelector('#df-299a407c-71c4-4e4f-9442-508e160526fa');\n",
              "        const dataTable =\n",
              "          await google.colab.kernel.invokeFunction('convertToInteractive',\n",
              "                                                    [key], {});\n",
              "        if (!dataTable) return;\n",
              "\n",
              "        const docLinkHtml = 'Like what you see? Visit the ' +\n",
              "          '<a target=\"_blank\" href=https://colab.research.google.com/notebooks/data_table.ipynb>data table notebook</a>'\n",
              "          + ' to learn more about interactive tables.';\n",
              "        element.innerHTML = '';\n",
              "        dataTable['output_type'] = 'display_data';\n",
              "        await google.colab.output.renderOutput(dataTable, element);\n",
              "        const docLink = document.createElement('div');\n",
              "        docLink.innerHTML = docLinkHtml;\n",
              "        element.appendChild(docLink);\n",
              "      }\n",
              "    </script>\n",
              "  </div>\n",
              "\n",
              "\n",
              "<div id=\"df-b7d89cc1-5e26-4b7b-a99a-b260d617327d\">\n",
              "  <button class=\"colab-df-quickchart\" onclick=\"quickchart('df-b7d89cc1-5e26-4b7b-a99a-b260d617327d')\"\n",
              "            title=\"Suggest charts\"\n",
              "            style=\"display:none;\">\n",
              "\n",
              "<svg xmlns=\"http://www.w3.org/2000/svg\" height=\"24px\"viewBox=\"0 0 24 24\"\n",
              "     width=\"24px\">\n",
              "    <g>\n",
              "        <path d=\"M19 3H5c-1.1 0-2 .9-2 2v14c0 1.1.9 2 2 2h14c1.1 0 2-.9 2-2V5c0-1.1-.9-2-2-2zM9 17H7v-7h2v7zm4 0h-2V7h2v10zm4 0h-2v-4h2v4z\"/>\n",
              "    </g>\n",
              "</svg>\n",
              "  </button>\n",
              "\n",
              "<style>\n",
              "  .colab-df-quickchart {\n",
              "      --bg-color: #E8F0FE;\n",
              "      --fill-color: #1967D2;\n",
              "      --hover-bg-color: #E2EBFA;\n",
              "      --hover-fill-color: #174EA6;\n",
              "      --disabled-fill-color: #AAA;\n",
              "      --disabled-bg-color: #DDD;\n",
              "  }\n",
              "\n",
              "  [theme=dark] .colab-df-quickchart {\n",
              "      --bg-color: #3B4455;\n",
              "      --fill-color: #D2E3FC;\n",
              "      --hover-bg-color: #434B5C;\n",
              "      --hover-fill-color: #FFFFFF;\n",
              "      --disabled-bg-color: #3B4455;\n",
              "      --disabled-fill-color: #666;\n",
              "  }\n",
              "\n",
              "  .colab-df-quickchart {\n",
              "    background-color: var(--bg-color);\n",
              "    border: none;\n",
              "    border-radius: 50%;\n",
              "    cursor: pointer;\n",
              "    display: none;\n",
              "    fill: var(--fill-color);\n",
              "    height: 32px;\n",
              "    padding: 0;\n",
              "    width: 32px;\n",
              "  }\n",
              "\n",
              "  .colab-df-quickchart:hover {\n",
              "    background-color: var(--hover-bg-color);\n",
              "    box-shadow: 0 1px 2px rgba(60, 64, 67, 0.3), 0 1px 3px 1px rgba(60, 64, 67, 0.15);\n",
              "    fill: var(--button-hover-fill-color);\n",
              "  }\n",
              "\n",
              "  .colab-df-quickchart-complete:disabled,\n",
              "  .colab-df-quickchart-complete:disabled:hover {\n",
              "    background-color: var(--disabled-bg-color);\n",
              "    fill: var(--disabled-fill-color);\n",
              "    box-shadow: none;\n",
              "  }\n",
              "\n",
              "  .colab-df-spinner {\n",
              "    border: 2px solid var(--fill-color);\n",
              "    border-color: transparent;\n",
              "    border-bottom-color: var(--fill-color);\n",
              "    animation:\n",
              "      spin 1s steps(1) infinite;\n",
              "  }\n",
              "\n",
              "  @keyframes spin {\n",
              "    0% {\n",
              "      border-color: transparent;\n",
              "      border-bottom-color: var(--fill-color);\n",
              "      border-left-color: var(--fill-color);\n",
              "    }\n",
              "    20% {\n",
              "      border-color: transparent;\n",
              "      border-left-color: var(--fill-color);\n",
              "      border-top-color: var(--fill-color);\n",
              "    }\n",
              "    30% {\n",
              "      border-color: transparent;\n",
              "      border-left-color: var(--fill-color);\n",
              "      border-top-color: var(--fill-color);\n",
              "      border-right-color: var(--fill-color);\n",
              "    }\n",
              "    40% {\n",
              "      border-color: transparent;\n",
              "      border-right-color: var(--fill-color);\n",
              "      border-top-color: var(--fill-color);\n",
              "    }\n",
              "    60% {\n",
              "      border-color: transparent;\n",
              "      border-right-color: var(--fill-color);\n",
              "    }\n",
              "    80% {\n",
              "      border-color: transparent;\n",
              "      border-right-color: var(--fill-color);\n",
              "      border-bottom-color: var(--fill-color);\n",
              "    }\n",
              "    90% {\n",
              "      border-color: transparent;\n",
              "      border-bottom-color: var(--fill-color);\n",
              "    }\n",
              "  }\n",
              "</style>\n",
              "\n",
              "  <script>\n",
              "    async function quickchart(key) {\n",
              "      const quickchartButtonEl =\n",
              "        document.querySelector('#' + key + ' button');\n",
              "      quickchartButtonEl.disabled = true;  // To prevent multiple clicks.\n",
              "      quickchartButtonEl.classList.add('colab-df-spinner');\n",
              "      try {\n",
              "        const charts = await google.colab.kernel.invokeFunction(\n",
              "            'suggestCharts', [key], {});\n",
              "      } catch (error) {\n",
              "        console.error('Error during call to suggestCharts:', error);\n",
              "      }\n",
              "      quickchartButtonEl.classList.remove('colab-df-spinner');\n",
              "      quickchartButtonEl.classList.add('colab-df-quickchart-complete');\n",
              "    }\n",
              "    (() => {\n",
              "      let quickchartButtonEl =\n",
              "        document.querySelector('#df-b7d89cc1-5e26-4b7b-a99a-b260d617327d button');\n",
              "      quickchartButtonEl.style.display =\n",
              "        google.colab.kernel.accessAllowed ? 'block' : 'none';\n",
              "    })();\n",
              "  </script>\n",
              "</div>\n",
              "\n",
              "    </div>\n",
              "  </div>\n"
            ],
            "application/vnd.google.colaboratory.intrinsic+json": {
              "type": "dataframe",
              "variable_name": "non_core_inv"
            }
          },
          "metadata": {},
          "execution_count": 23
        }
      ]
    },
    {
      "cell_type": "code",
      "source": [
        "non_core_inv = non_core_inv.rename(columns = {'total_number_of_items' : 'total_units'})\n",
        "non_core_inv['updated_on'] = pd.to_datetime(non_core_inv['updated_on'])\n",
        "non_core_inv['expiry_date'] = pd.to_datetime(non_core_inv['expiry_date'])"
      ],
      "metadata": {
        "id": "OJvzDhLkcmDS"
      },
      "execution_count": 24,
      "outputs": []
    },
    {
      "cell_type": "code",
      "source": [
        "print(non_core_inv.shape)\n",
        "non_core_inv = non_core_inv.drop_duplicates(subset = ['sku_number', 'expiry_date', 'updated_on', 'seller_name'])\n",
        "print(non_core_inv.shape)"
      ],
      "metadata": {
        "colab": {
          "base_uri": "https://localhost:8080/"
        },
        "id": "0RzIScxwYv7V",
        "outputId": "176be870-f92d-4bb5-9870-86fe28281702"
      },
      "execution_count": 25,
      "outputs": [
        {
          "output_type": "stream",
          "name": "stdout",
          "text": [
            "(32461, 37)\n",
            "(29476, 37)\n"
          ]
        }
      ]
    },
    {
      "cell_type": "code",
      "source": [],
      "metadata": {
        "id": "DndNSCC3DnM8"
      },
      "execution_count": 25,
      "outputs": []
    },
    {
      "cell_type": "code",
      "source": [
        "offers = offers.rename(columns = {'seller' : 'seller_name'})\n",
        "offers['date_of_offer'] = pd.to_datetime(offers['date_of_offer'])\n",
        "offers['seller_name'] = offers['seller_name'].str.lower()\n",
        "offers['total_units_ordered'] = offers['total_units_ordered'].str.replace(',', '')\n",
        "offers['total_units_ordered'] = offers['total_units_ordered'].astype(float)"
      ],
      "metadata": {
        "id": "sb1B69WoDnF2"
      },
      "execution_count": 26,
      "outputs": []
    },
    {
      "cell_type": "code",
      "source": [
        "def merge_non_core_inv_and_offer(non_core_inv, df_offer):\n",
        "  temp = pd.merge(non_core_inv, df_offer[['sku_number', 'seller_name', 'date_of_offer', 'actual', 'tracking_no', 'buyer', 'total_units_ordered',\n",
        "                                          'recovery_rate_percentage', 'offer_price_per_unit_usd', 'total_order_price_usd']], 'left', on = ['sku_number', 'seller_name'])\n",
        "  # temp['updated_on'] = pd.to_datetime(temp['updated_on'])\n",
        "  temp['offer_day_diff_updated_inv'] = (temp['date_of_offer'] - temp['updated_on']).dt.days\n",
        "  # avoiding future entry from same sku and seller to get filtered out hence nulling it as will remain in the dataframe\n",
        "  temp['offer_day_diff_updated_inv'] = np.where(temp.offer_day_diff_updated_inv < 0, np.nan, temp['offer_day_diff_updated_inv'])\n",
        "  temp = temp[(temp.offer_day_diff_updated_inv >= 0) | (temp.offer_day_diff_updated_inv.isnull())]\n",
        "  df_non_core_inv_min_offer_day_diff_updated_inv = temp.groupby(['sku_number', 'seller_name', 'date_of_offer']).agg({'offer_day_diff_updated_inv' : 'min'}).reset_index()\\\n",
        "                                        .rename(columns = {'offer_day_diff_updated_inv' : 'min_offer_day_diff_updated_inv'})\n",
        "  temp = pd.merge(temp, df_non_core_inv_min_offer_day_diff_updated_inv, 'left', on = ['sku_number', 'seller_name', 'date_of_offer'])\n",
        "  temp = temp[(temp.offer_day_diff_updated_inv == temp.min_offer_day_diff_updated_inv) | (temp.offer_day_diff_updated_inv.isnull())]\n",
        "  temp.drop('min_offer_day_diff_updated_inv', axis = 1, inplace = True)\n",
        "  return temp"
      ],
      "metadata": {
        "id": "RlJhRFzAE3OY"
      },
      "execution_count": 27,
      "outputs": []
    },
    {
      "cell_type": "code",
      "source": [
        "non_core_inv = merge_non_core_inv_and_offer(non_core_inv, offers)\n",
        "# non_core_inv['sell_thru_rate'] = non_core_inv['total_units_ordered'] / non_core_inv['total_units']\n",
        "# non_core_inv['sell_thru_rate'] = np.where(non_core_inv['sell_thru_rate'] > 1, 1, non_core_inv['sell_thru_rate'])"
      ],
      "metadata": {
        "id": "-7mSk3BmE622"
      },
      "execution_count": 28,
      "outputs": []
    },
    {
      "cell_type": "code",
      "source": [
        "non_core_inv['shelf_life_remaining_days'] = (non_core_inv['expiry_date'] - non_core_inv['updated_on']).dt.days"
      ],
      "metadata": {
        "id": "0zikyxqoE-Hk"
      },
      "execution_count": 29,
      "outputs": []
    },
    {
      "cell_type": "code",
      "source": [],
      "metadata": {
        "id": "Obs7_2tDDnAu"
      },
      "execution_count": 29,
      "outputs": []
    },
    {
      "cell_type": "code",
      "source": [
        "temp = non_core_inv[['sku_number', 'brand', 'product_category', 'product_subcategory', 'expiry_date', 'seller_name', 'updated_on', 'priority', 'total_units', 'shelf_life_remaining_days',\n",
        "                     'warehouse_country', 'total_units_ordered', 'recovery_rate_percentage']].sort_values(by = ['sku_number', 'brand', 'product_category', 'product_subcategory',\n",
        "                      'expiry_date', 'seller_name', 'updated_on', 'priority', 'warehouse_country'])\n",
        "temp = temp.reset_index(drop = True)"
      ],
      "metadata": {
        "id": "SFY2XGSqYngO"
      },
      "execution_count": 30,
      "outputs": []
    },
    {
      "cell_type": "code",
      "source": [
        "def get_prev_inv_occurence_next_to_current_for_non_core_inv(temp):\n",
        "  new_col_names_for_shifted_inv = dict()\n",
        "  for i in temp.columns:\n",
        "    new_col_names_for_shifted_inv[i] = i+'_prev'\n",
        "\n",
        "  temp_shifted = temp.shift(1)\n",
        "  temp_shifted = temp_shifted.rename(columns = new_col_names_for_shifted_inv)\n",
        "  temp = pd.concat([temp, temp_shifted], axis=1)\n",
        "  return temp\n",
        "\n",
        "# not taking expiry into account\n",
        "\n",
        "def get_repeated_inv_and_mean_depletion_for_non_core_inv(temp):\n",
        "  repeated_inv = temp[(temp.sku_number == temp.sku_number_prev) & (temp.seller_name == temp.seller_name_prev)]\n",
        "  repeated_inv['depletion'] = repeated_inv['total_units_prev'] - repeated_inv['total_units']\n",
        "  repeated_inv['time'] = (repeated_inv['updated_on'] - repeated_inv['updated_on_prev']).dt.days\n",
        "  repeated_inv = repeated_inv.drop_duplicates(subset = ['sku_number', 'brand', 'product_category', 'product_subcategory', 'expiry_date', \\\n",
        "                            'seller_name', 'updated_on', 'priority'])[['sku_number', 'brand', 'product_category', 'product_subcategory', 'expiry_date', 'seller_name', 'updated_on',\\\n",
        "                                                                        'priority', 'depletion', 'time', 'total_units_prev', 'total_units', 'priority_prev',\\\n",
        "                                                                        'shelf_life_remaining_days_prev', 'warehouse_country_prev', 'total_units_ordered_prev',\n",
        "                                                                        'recovery_rate_percentage_prev']]\n",
        "\n",
        "  return repeated_inv"
      ],
      "metadata": {
        "id": "keNAR2sTbMX8"
      },
      "execution_count": 31,
      "outputs": []
    },
    {
      "cell_type": "markdown",
      "source": [
        "## Recommendation - measure depletion at some other level, exclude skus as many skus don't repeat and many rows are getting dropped"
      ],
      "metadata": {
        "id": "s428f40UF0FM"
      }
    },
    {
      "cell_type": "code",
      "source": [
        "temp = get_prev_inv_occurence_next_to_current_for_non_core_inv(temp)\n",
        "repeated_inv_non_core = get_repeated_inv_and_mean_depletion_for_non_core_inv(temp)\n",
        "repeated_inv_non_core = repeated_inv_non_core.reset_index(drop = True)\n",
        "repeated_inv_non_core['priority'] = np.where(repeated_inv_non_core.priority != repeated_inv_non_core.priority_prev, \\\n",
        "                                                   repeated_inv_non_core.priority_prev, repeated_inv_non_core.priority)"
      ],
      "metadata": {
        "id": "Z9YAX3xcZg3_"
      },
      "execution_count": 32,
      "outputs": []
    },
    {
      "cell_type": "code",
      "source": [
        "# 90 days sales life cycle\n",
        "repeated_inv_non_core = repeated_inv_non_core[repeated_inv_non_core.time <= 90]\n",
        "\n",
        "mean_depletion_per_cat_non_core_inv = repeated_inv_non_core.groupby(['product_category']).depletion.mean().reset_index().sort_values(by = 'depletion')\n",
        "\n",
        "low_depletion_cats = list(mean_depletion_per_cat_non_core_inv[mean_depletion_per_cat_non_core_inv['depletion'] <= mean_depletion_per_cat_non_core_inv.depletion.quantile(0.33)].product_category)\n",
        "mid_depletion_cats = list(mean_depletion_per_cat_non_core_inv[mean_depletion_per_cat_non_core_inv['depletion'] <= mean_depletion_per_cat_non_core_inv.depletion.quantile(0.67)].product_category)\n",
        "mid_depletion_cats = [i for i in mid_depletion_cats if i not in low_depletion_cats]\n",
        "high_depletion_cats = list(mean_depletion_per_cat_non_core_inv[mean_depletion_per_cat_non_core_inv['depletion'] <= mean_depletion_per_cat_non_core_inv.depletion.quantile(1)].product_category)\n",
        "high_depletion_cats = [i for i in high_depletion_cats if i not in low_depletion_cats + mid_depletion_cats]\n",
        "\n",
        "print(low_depletion_cats, '\\n', mid_depletion_cats, '\\n', high_depletion_cats)"
      ],
      "metadata": {
        "colab": {
          "base_uri": "https://localhost:8080/"
        },
        "id": "xMq4H7NeUpw0",
        "outputId": "e0887035-46de-48e6-8682-6c1b1f50d4b1"
      },
      "execution_count": 33,
      "outputs": [
        {
          "output_type": "stream",
          "name": "stdout",
          "text": [
            "['beverages', 'health_&_supplments', 'industrial', 'oral_care', 'skin_care'] \n",
            " ['baby', 'hair_care', 'home_care', 'fashion_-_accessories'] \n",
            " ['fragrance', 'sports,_fitness,_&_outdoors', 'makeup', 'home', 'food']\n"
          ]
        }
      ]
    },
    {
      "cell_type": "code",
      "source": [
        "def set_depletion_non_core(row):\n",
        "  if row['depletion'] < 0:\n",
        "    return row['total_units_prev']\n",
        "  elif row['product_category'] in high_depletion_cats and row['time'] <= 20:\n",
        "    return row['depletion']\n",
        "  elif row['product_category'] in high_depletion_cats and row['time'] > 20:\n",
        "    return row['total_units_prev']\n",
        "  elif row['product_category'] in mid_depletion_cats and row['time'] <= 45:\n",
        "    return row['depletion']\n",
        "  elif row['product_category'] in mid_depletion_cats and row['time'] > 45:\n",
        "    return row['total_units_prev']\n",
        "  elif row['product_category'] in low_depletion_cats and row['time'] <= 60:\n",
        "    return row['depletion']\n",
        "  elif row['product_category'] in low_depletion_cats and row['time'] > 60:\n",
        "    return row['total_units_prev']"
      ],
      "metadata": {
        "id": "wJKOmu6JV36Q"
      },
      "execution_count": 34,
      "outputs": []
    },
    {
      "cell_type": "code",
      "source": [
        "repeated_inv_non_core['depletion'] = repeated_inv_non_core.apply(set_depletion_non_core, axis=1)"
      ],
      "metadata": {
        "id": "cEIycs2IUpp7"
      },
      "execution_count": 35,
      "outputs": []
    },
    {
      "cell_type": "code",
      "source": [
        "def remove_percent_sign(x):\n",
        "  if pd.isna(x):\n",
        "    return x\n",
        "  else:\n",
        "    return x[:-1]\n",
        "repeated_inv_non_core['recovery_rate_percentage_prev'] = repeated_inv_non_core['recovery_rate_percentage_prev'].apply(remove_percent_sign)\n",
        "repeated_inv_non_core['recovery_rate_percentage_prev'] = np.where(repeated_inv_non_core['recovery_rate_percentage_prev'] == '', np.nan, repeated_inv_non_core['recovery_rate_percentage_prev'])\n",
        "repeated_inv_non_core['recovery_rate_percentage_prev'] = repeated_inv_non_core['recovery_rate_percentage_prev'].astype(float)\n",
        "repeated_inv_non_core['recovery_rate_percentage_prev'] = np.where(repeated_inv_non_core['recovery_rate_percentage_prev'].isnull(), 0 , repeated_inv_non_core['recovery_rate_percentage_prev'])\n",
        "repeated_inv_non_core['total_units_ordered_prev'] = np.where(repeated_inv_non_core['total_units_ordered_prev'].isnull(), 0, repeated_inv_non_core['total_units_ordered_prev'])"
      ],
      "metadata": {
        "id": "taseHPfnFWD6"
      },
      "execution_count": 36,
      "outputs": []
    },
    {
      "cell_type": "code",
      "source": [
        "repeated_inv_non_core = repeated_inv_non_core.rename(columns = {'total_units_ordered_prev' : 'pollen_liquidated_units',\n",
        "                                                                'recovery_rate_percentage_prev' : 'pollen_recovery_rate_percentage'})"
      ],
      "metadata": {
        "id": "VXv9tf3QFZSV"
      },
      "execution_count": 37,
      "outputs": []
    },
    {
      "cell_type": "code",
      "source": [
        "repeated_inv_non_core.sample(2)"
      ],
      "metadata": {
        "colab": {
          "base_uri": "https://localhost:8080/",
          "height": 132
        },
        "id": "DwX__vXJrA29",
        "outputId": "ff346d9a-bd45-40ab-df27-55320a3e2171"
      },
      "execution_count": 38,
      "outputs": [
        {
          "output_type": "execute_result",
          "data": {
            "text/plain": [
              "      sku_number brand product_category product_subcategory expiry_date  \\\n",
              "179    3CEID0052  3_ce           makeup          lip_makeup  2024-07-14   \n",
              "348  3CEID012570  3_ce           makeup         face_makeup  2025-08-22   \n",
              "\n",
              "    seller_name updated_on priority  depletion  time  total_units_prev  \\\n",
              "179        eblo 2023-10-25       p1      170.0    72             170.0   \n",
              "348        eblo 2024-06-13       p1      102.0    56             102.0   \n",
              "\n",
              "     total_units priority_prev  shelf_life_remaining_days_prev  \\\n",
              "179        156.0            p1                           335.0   \n",
              "348         69.0            p1                           491.0   \n",
              "\n",
              "    warehouse_country_prev  pollen_liquidated_units  \\\n",
              "179                   None                      0.0   \n",
              "348                   None                      0.0   \n",
              "\n",
              "     pollen_recovery_rate_percentage  \n",
              "179                              0.0  \n",
              "348                              0.0  "
            ],
            "text/html": [
              "\n",
              "  <div id=\"df-5ff2c97f-c761-4a25-a60f-cd98279b54c6\" class=\"colab-df-container\">\n",
              "    <div>\n",
              "<style scoped>\n",
              "    .dataframe tbody tr th:only-of-type {\n",
              "        vertical-align: middle;\n",
              "    }\n",
              "\n",
              "    .dataframe tbody tr th {\n",
              "        vertical-align: top;\n",
              "    }\n",
              "\n",
              "    .dataframe thead th {\n",
              "        text-align: right;\n",
              "    }\n",
              "</style>\n",
              "<table border=\"1\" class=\"dataframe\">\n",
              "  <thead>\n",
              "    <tr style=\"text-align: right;\">\n",
              "      <th></th>\n",
              "      <th>sku_number</th>\n",
              "      <th>brand</th>\n",
              "      <th>product_category</th>\n",
              "      <th>product_subcategory</th>\n",
              "      <th>expiry_date</th>\n",
              "      <th>seller_name</th>\n",
              "      <th>updated_on</th>\n",
              "      <th>priority</th>\n",
              "      <th>depletion</th>\n",
              "      <th>time</th>\n",
              "      <th>total_units_prev</th>\n",
              "      <th>total_units</th>\n",
              "      <th>priority_prev</th>\n",
              "      <th>shelf_life_remaining_days_prev</th>\n",
              "      <th>warehouse_country_prev</th>\n",
              "      <th>pollen_liquidated_units</th>\n",
              "      <th>pollen_recovery_rate_percentage</th>\n",
              "    </tr>\n",
              "  </thead>\n",
              "  <tbody>\n",
              "    <tr>\n",
              "      <th>179</th>\n",
              "      <td>3CEID0052</td>\n",
              "      <td>3_ce</td>\n",
              "      <td>makeup</td>\n",
              "      <td>lip_makeup</td>\n",
              "      <td>2024-07-14</td>\n",
              "      <td>eblo</td>\n",
              "      <td>2023-10-25</td>\n",
              "      <td>p1</td>\n",
              "      <td>170.0</td>\n",
              "      <td>72</td>\n",
              "      <td>170.0</td>\n",
              "      <td>156.0</td>\n",
              "      <td>p1</td>\n",
              "      <td>335.0</td>\n",
              "      <td>None</td>\n",
              "      <td>0.0</td>\n",
              "      <td>0.0</td>\n",
              "    </tr>\n",
              "    <tr>\n",
              "      <th>348</th>\n",
              "      <td>3CEID012570</td>\n",
              "      <td>3_ce</td>\n",
              "      <td>makeup</td>\n",
              "      <td>face_makeup</td>\n",
              "      <td>2025-08-22</td>\n",
              "      <td>eblo</td>\n",
              "      <td>2024-06-13</td>\n",
              "      <td>p1</td>\n",
              "      <td>102.0</td>\n",
              "      <td>56</td>\n",
              "      <td>102.0</td>\n",
              "      <td>69.0</td>\n",
              "      <td>p1</td>\n",
              "      <td>491.0</td>\n",
              "      <td>None</td>\n",
              "      <td>0.0</td>\n",
              "      <td>0.0</td>\n",
              "    </tr>\n",
              "  </tbody>\n",
              "</table>\n",
              "</div>\n",
              "    <div class=\"colab-df-buttons\">\n",
              "\n",
              "  <div class=\"colab-df-container\">\n",
              "    <button class=\"colab-df-convert\" onclick=\"convertToInteractive('df-5ff2c97f-c761-4a25-a60f-cd98279b54c6')\"\n",
              "            title=\"Convert this dataframe to an interactive table.\"\n",
              "            style=\"display:none;\">\n",
              "\n",
              "  <svg xmlns=\"http://www.w3.org/2000/svg\" height=\"24px\" viewBox=\"0 -960 960 960\">\n",
              "    <path d=\"M120-120v-720h720v720H120Zm60-500h600v-160H180v160Zm220 220h160v-160H400v160Zm0 220h160v-160H400v160ZM180-400h160v-160H180v160Zm440 0h160v-160H620v160ZM180-180h160v-160H180v160Zm440 0h160v-160H620v160Z\"/>\n",
              "  </svg>\n",
              "    </button>\n",
              "\n",
              "  <style>\n",
              "    .colab-df-container {\n",
              "      display:flex;\n",
              "      gap: 12px;\n",
              "    }\n",
              "\n",
              "    .colab-df-convert {\n",
              "      background-color: #E8F0FE;\n",
              "      border: none;\n",
              "      border-radius: 50%;\n",
              "      cursor: pointer;\n",
              "      display: none;\n",
              "      fill: #1967D2;\n",
              "      height: 32px;\n",
              "      padding: 0 0 0 0;\n",
              "      width: 32px;\n",
              "    }\n",
              "\n",
              "    .colab-df-convert:hover {\n",
              "      background-color: #E2EBFA;\n",
              "      box-shadow: 0px 1px 2px rgba(60, 64, 67, 0.3), 0px 1px 3px 1px rgba(60, 64, 67, 0.15);\n",
              "      fill: #174EA6;\n",
              "    }\n",
              "\n",
              "    .colab-df-buttons div {\n",
              "      margin-bottom: 4px;\n",
              "    }\n",
              "\n",
              "    [theme=dark] .colab-df-convert {\n",
              "      background-color: #3B4455;\n",
              "      fill: #D2E3FC;\n",
              "    }\n",
              "\n",
              "    [theme=dark] .colab-df-convert:hover {\n",
              "      background-color: #434B5C;\n",
              "      box-shadow: 0px 1px 3px 1px rgba(0, 0, 0, 0.15);\n",
              "      filter: drop-shadow(0px 1px 2px rgba(0, 0, 0, 0.3));\n",
              "      fill: #FFFFFF;\n",
              "    }\n",
              "  </style>\n",
              "\n",
              "    <script>\n",
              "      const buttonEl =\n",
              "        document.querySelector('#df-5ff2c97f-c761-4a25-a60f-cd98279b54c6 button.colab-df-convert');\n",
              "      buttonEl.style.display =\n",
              "        google.colab.kernel.accessAllowed ? 'block' : 'none';\n",
              "\n",
              "      async function convertToInteractive(key) {\n",
              "        const element = document.querySelector('#df-5ff2c97f-c761-4a25-a60f-cd98279b54c6');\n",
              "        const dataTable =\n",
              "          await google.colab.kernel.invokeFunction('convertToInteractive',\n",
              "                                                    [key], {});\n",
              "        if (!dataTable) return;\n",
              "\n",
              "        const docLinkHtml = 'Like what you see? Visit the ' +\n",
              "          '<a target=\"_blank\" href=https://colab.research.google.com/notebooks/data_table.ipynb>data table notebook</a>'\n",
              "          + ' to learn more about interactive tables.';\n",
              "        element.innerHTML = '';\n",
              "        dataTable['output_type'] = 'display_data';\n",
              "        await google.colab.output.renderOutput(dataTable, element);\n",
              "        const docLink = document.createElement('div');\n",
              "        docLink.innerHTML = docLinkHtml;\n",
              "        element.appendChild(docLink);\n",
              "      }\n",
              "    </script>\n",
              "  </div>\n",
              "\n",
              "\n",
              "<div id=\"df-dbd460ff-df81-45f0-85ec-b296e56d4438\">\n",
              "  <button class=\"colab-df-quickchart\" onclick=\"quickchart('df-dbd460ff-df81-45f0-85ec-b296e56d4438')\"\n",
              "            title=\"Suggest charts\"\n",
              "            style=\"display:none;\">\n",
              "\n",
              "<svg xmlns=\"http://www.w3.org/2000/svg\" height=\"24px\"viewBox=\"0 0 24 24\"\n",
              "     width=\"24px\">\n",
              "    <g>\n",
              "        <path d=\"M19 3H5c-1.1 0-2 .9-2 2v14c0 1.1.9 2 2 2h14c1.1 0 2-.9 2-2V5c0-1.1-.9-2-2-2zM9 17H7v-7h2v7zm4 0h-2V7h2v10zm4 0h-2v-4h2v4z\"/>\n",
              "    </g>\n",
              "</svg>\n",
              "  </button>\n",
              "\n",
              "<style>\n",
              "  .colab-df-quickchart {\n",
              "      --bg-color: #E8F0FE;\n",
              "      --fill-color: #1967D2;\n",
              "      --hover-bg-color: #E2EBFA;\n",
              "      --hover-fill-color: #174EA6;\n",
              "      --disabled-fill-color: #AAA;\n",
              "      --disabled-bg-color: #DDD;\n",
              "  }\n",
              "\n",
              "  [theme=dark] .colab-df-quickchart {\n",
              "      --bg-color: #3B4455;\n",
              "      --fill-color: #D2E3FC;\n",
              "      --hover-bg-color: #434B5C;\n",
              "      --hover-fill-color: #FFFFFF;\n",
              "      --disabled-bg-color: #3B4455;\n",
              "      --disabled-fill-color: #666;\n",
              "  }\n",
              "\n",
              "  .colab-df-quickchart {\n",
              "    background-color: var(--bg-color);\n",
              "    border: none;\n",
              "    border-radius: 50%;\n",
              "    cursor: pointer;\n",
              "    display: none;\n",
              "    fill: var(--fill-color);\n",
              "    height: 32px;\n",
              "    padding: 0;\n",
              "    width: 32px;\n",
              "  }\n",
              "\n",
              "  .colab-df-quickchart:hover {\n",
              "    background-color: var(--hover-bg-color);\n",
              "    box-shadow: 0 1px 2px rgba(60, 64, 67, 0.3), 0 1px 3px 1px rgba(60, 64, 67, 0.15);\n",
              "    fill: var(--button-hover-fill-color);\n",
              "  }\n",
              "\n",
              "  .colab-df-quickchart-complete:disabled,\n",
              "  .colab-df-quickchart-complete:disabled:hover {\n",
              "    background-color: var(--disabled-bg-color);\n",
              "    fill: var(--disabled-fill-color);\n",
              "    box-shadow: none;\n",
              "  }\n",
              "\n",
              "  .colab-df-spinner {\n",
              "    border: 2px solid var(--fill-color);\n",
              "    border-color: transparent;\n",
              "    border-bottom-color: var(--fill-color);\n",
              "    animation:\n",
              "      spin 1s steps(1) infinite;\n",
              "  }\n",
              "\n",
              "  @keyframes spin {\n",
              "    0% {\n",
              "      border-color: transparent;\n",
              "      border-bottom-color: var(--fill-color);\n",
              "      border-left-color: var(--fill-color);\n",
              "    }\n",
              "    20% {\n",
              "      border-color: transparent;\n",
              "      border-left-color: var(--fill-color);\n",
              "      border-top-color: var(--fill-color);\n",
              "    }\n",
              "    30% {\n",
              "      border-color: transparent;\n",
              "      border-left-color: var(--fill-color);\n",
              "      border-top-color: var(--fill-color);\n",
              "      border-right-color: var(--fill-color);\n",
              "    }\n",
              "    40% {\n",
              "      border-color: transparent;\n",
              "      border-right-color: var(--fill-color);\n",
              "      border-top-color: var(--fill-color);\n",
              "    }\n",
              "    60% {\n",
              "      border-color: transparent;\n",
              "      border-right-color: var(--fill-color);\n",
              "    }\n",
              "    80% {\n",
              "      border-color: transparent;\n",
              "      border-right-color: var(--fill-color);\n",
              "      border-bottom-color: var(--fill-color);\n",
              "    }\n",
              "    90% {\n",
              "      border-color: transparent;\n",
              "      border-bottom-color: var(--fill-color);\n",
              "    }\n",
              "  }\n",
              "</style>\n",
              "\n",
              "  <script>\n",
              "    async function quickchart(key) {\n",
              "      const quickchartButtonEl =\n",
              "        document.querySelector('#' + key + ' button');\n",
              "      quickchartButtonEl.disabled = true;  // To prevent multiple clicks.\n",
              "      quickchartButtonEl.classList.add('colab-df-spinner');\n",
              "      try {\n",
              "        const charts = await google.colab.kernel.invokeFunction(\n",
              "            'suggestCharts', [key], {});\n",
              "      } catch (error) {\n",
              "        console.error('Error during call to suggestCharts:', error);\n",
              "      }\n",
              "      quickchartButtonEl.classList.remove('colab-df-spinner');\n",
              "      quickchartButtonEl.classList.add('colab-df-quickchart-complete');\n",
              "    }\n",
              "    (() => {\n",
              "      let quickchartButtonEl =\n",
              "        document.querySelector('#df-dbd460ff-df81-45f0-85ec-b296e56d4438 button');\n",
              "      quickchartButtonEl.style.display =\n",
              "        google.colab.kernel.accessAllowed ? 'block' : 'none';\n",
              "    })();\n",
              "  </script>\n",
              "</div>\n",
              "\n",
              "    </div>\n",
              "  </div>\n"
            ],
            "application/vnd.google.colaboratory.intrinsic+json": {
              "type": "dataframe",
              "repr_error": "0"
            }
          },
          "metadata": {},
          "execution_count": 38
        }
      ]
    },
    {
      "cell_type": "code",
      "source": [],
      "metadata": {
        "id": "wGSbw6EPXhUq"
      },
      "execution_count": 38,
      "outputs": []
    },
    {
      "cell_type": "markdown",
      "source": [
        "# Core"
      ],
      "metadata": {
        "id": "dfNvFtrkFhAz"
      }
    },
    {
      "cell_type": "code",
      "source": [
        "offers = offers.rename(columns = {'seller_name' : 'seller_short'})\n",
        "\n",
        "seller_name_to_short_form = {'unilever_indonesia' : 'ulid', 'unilever_malaysia' : 'ulmy', 'unilever_philippines' : 'ulph', 'unilever_thailand' : 'ulth', 'unilever_singapore' : 'ulsg',\n",
        "                             \"l'oreal_malaysia\" : \"lomy\", \"l'oreal_philippines\" : 'loph', \"l'oreal_thailand\" : \"loth\", \"l'oreal_india\" : \"loin\", \"l'oreal_indonesia\" : \"loid\"}\n",
        "\n",
        "df_inv['updated_on'] = pd.to_datetime(df_inv['updated_on'])\n",
        "\n",
        "def apply_seller_short(x):\n",
        "  if x in seller_name_to_short_form.keys():\n",
        "    return seller_name_to_short_form[x]\n",
        "  else:\n",
        "    return x\n",
        "\n",
        "df_inv['seller_short'] = df_inv['seller_name'].apply(apply_seller_short)\n",
        "\n",
        "offers = offers[offers['expiry_date'] != '-']\n",
        "offers['expiry_date'] = pd.to_datetime(offers['expiry_date'], format = \"%d-%b-%Y\")\n",
        "df_inv['expiry_date'] = pd.to_datetime(df_inv['expiry_date'])"
      ],
      "metadata": {
        "id": "hxvXFBCfFkcc"
      },
      "execution_count": 39,
      "outputs": []
    },
    {
      "cell_type": "code",
      "source": [
        "def merge_inv_and_offer(df_inv, df_offer):\n",
        "  df_inv = pd.merge(df_inv, df_offer[['sku_number', 'expiry_date', 'seller_short', 'date_of_offer', 'actual', 'tracking_no', 'buyer', 'total_units_ordered',\n",
        "                                      'recovery_rate_percentage', 'offer_price_per_unit_usd', 'total_order_price_usd']], 'left', on = ['sku_number', 'expiry_date', 'seller_short'])\n",
        "  df_inv['offer_day_diff_updated_inv'] = (df_inv['date_of_offer'] - df_inv['updated_on']).dt.days\n",
        "  df_inv = df_inv[(df_inv.offer_day_diff_updated_inv >= 0) | (df_inv.offer_day_diff_updated_inv.isnull())]\n",
        "  df_min_offer_day_diff_updated_inv = df_inv.groupby(['sku_number', 'expiry_date', 'seller_short', 'date_of_offer']).agg({'offer_day_diff_updated_inv' : 'min'}).reset_index()\\\n",
        "                                      .rename(columns = {'offer_day_diff_updated_inv' : 'min_offer_day_diff_updated_inv'})\n",
        "  df_inv = pd.merge(df_inv, df_min_offer_day_diff_updated_inv, 'left', on = ['sku_number', 'expiry_date', 'seller_short', 'date_of_offer'])\n",
        "  df_inv = df_inv[(df_inv.offer_day_diff_updated_inv == df_inv.min_offer_day_diff_updated_inv) | (df_inv.offer_day_diff_updated_inv.isnull())]\n",
        "  df_inv.drop('min_offer_day_diff_updated_inv', axis = 1, inplace = True)\n",
        "  return df_inv"
      ],
      "metadata": {
        "id": "1FwZJO5QFkUq"
      },
      "execution_count": 40,
      "outputs": []
    },
    {
      "cell_type": "code",
      "source": [
        "df_inv = merge_inv_and_offer(df_inv, offers)\n",
        "df_inv['total_units_ordered'] = df_inv['total_units_ordered'].fillna(0)\n",
        "# df_inv['sell_thru_rate'] = df_inv['total_units_ordered'] / df_inv['total_number_of_items']\n",
        "# df_inv['sell_thru_rate'] = np.where(df_inv['sell_thru_rate'] > 1, 1, df_inv['sell_thru_rate'])\n",
        "df_inv['shelf_life_remaining_days'] = (df_inv['expiry_date'] - df_inv['updated_on']).dt.days"
      ],
      "metadata": {
        "id": "FcCmJjOMFkPj"
      },
      "execution_count": 41,
      "outputs": []
    },
    {
      "cell_type": "code",
      "source": [
        "# dropping duplicates considering all columns except the ids\n",
        "k = list(set(df_inv.columns) - set([i for i in df_inv.columns if i.endswith('id')]))\n",
        "df_inv = df_inv.drop_duplicates(subset = k)"
      ],
      "metadata": {
        "id": "uI9W4g7I3Xvn"
      },
      "execution_count": 42,
      "outputs": []
    },
    {
      "cell_type": "code",
      "source": [
        "df_inv = df_inv.rename(columns = {'total_number_of_items' : 'total_units'})\n",
        "df_inv['updated_on'] = pd.to_datetime(df_inv['updated_on'])\n",
        "df_inv['expiry_date'] = pd.to_datetime(df_inv['expiry_date'])\n",
        "df_inv = df_inv[df_inv.sku_number != '']\n",
        "df_inv['shelf_life_remaining_days'] = (df_inv['expiry_date'] - df_inv['updated_on']).dt.days\n",
        "\n",
        "def remove_percent_sign(x):\n",
        "  if pd.isna(x):\n",
        "    return x\n",
        "  else:\n",
        "    return x[:-1]\n",
        "df_inv['recovery_rate_percentage'] = df_inv['recovery_rate_percentage'].apply(remove_percent_sign)\n",
        "df_inv['recovery_rate_percentage'] = np.where(df_inv['recovery_rate_percentage'] == '', np.nan, df_inv['recovery_rate_percentage'])\n",
        "df_inv['recovery_rate_percentage'] = df_inv['recovery_rate_percentage'].astype(float)\n",
        "df_inv['recovery_rate_percentage'] = np.where(df_inv['recovery_rate_percentage'].isnull(), 0 , df_inv['recovery_rate_percentage'])"
      ],
      "metadata": {
        "id": "MIFee0UZFyt3"
      },
      "execution_count": 43,
      "outputs": []
    },
    {
      "cell_type": "code",
      "source": [
        "key_to_total_units_ordered = df_inv.groupby(['sku_number', 'seller_name', 'expiry_date', 'updated_on']).agg({'total_units_ordered' : 'sum'}).reset_index().rename(columns =\n",
        "                                                {'total_units_ordered' : 'total_units_ordered_sum'})\n",
        "df_inv = pd.merge(df_inv, key_to_total_units_ordered, 'left', on = ['sku_number', 'seller_name', 'expiry_date', 'updated_on'])"
      ],
      "metadata": {
        "id": "90asPxknGUNy"
      },
      "execution_count": 44,
      "outputs": []
    },
    {
      "cell_type": "code",
      "source": [],
      "metadata": {
        "id": "TZwGsjRGGqp8"
      },
      "execution_count": 44,
      "outputs": []
    },
    {
      "cell_type": "code",
      "source": [
        "temp = df_inv[['sku_number', 'brand', 'product_category', 'product_subcategory', 'expiry_date', 'seller_name', 'updated_on', 'priority', 'total_units',\n",
        "               'shelf_life_remaining_days', 'warehouse_country', 'total_units_ordered_sum', 'recovery_rate_percentage']]\\\n",
        "                  .sort_values(by = ['sku_number', 'brand', 'product_category', 'product_subcategory', 'expiry_date', 'seller_name', 'updated_on', 'priority', 'warehouse_country'])\n",
        "temp = temp.reset_index(drop = True)"
      ],
      "metadata": {
        "id": "vg3_Tni1MUR7"
      },
      "execution_count": 45,
      "outputs": []
    },
    {
      "cell_type": "code",
      "source": [
        "print(temp.shape)\n",
        "print(temp.drop_duplicates(subset = ['sku_number', 'brand', 'product_category', 'product_subcategory', 'expiry_date', 'seller_name', 'updated_on', 'priority', 'total_units']).shape)"
      ],
      "metadata": {
        "colab": {
          "base_uri": "https://localhost:8080/"
        },
        "id": "FkC6NPkPxq34",
        "outputId": "8dc66b1c-532e-4d66-8c59-1e136d9530ca"
      },
      "execution_count": 46,
      "outputs": [
        {
          "output_type": "stream",
          "name": "stdout",
          "text": [
            "(54892, 13)\n",
            "(51240, 13)\n"
          ]
        }
      ]
    },
    {
      "cell_type": "code",
      "source": [
        "def get_prev_inv_occurence_next_to_current(temp):\n",
        "  new_col_names_for_shifted_inv = dict()\n",
        "  for i in temp.columns:\n",
        "    new_col_names_for_shifted_inv[i] = i+'_prev'\n",
        "\n",
        "  temp_shifted = temp.shift(1)\n",
        "  temp_shifted = temp_shifted.rename(columns = new_col_names_for_shifted_inv)\n",
        "  temp = pd.concat([temp, temp_shifted], axis=1)\n",
        "  return temp\n",
        "\n",
        "def get_repeated_inv_and_mean_depletion(temp):\n",
        "  repeated_inv = temp[(temp.sku_number == temp.sku_number_prev) & (temp.expiry_date == temp.expiry_date_prev) & (temp.seller_name == temp.seller_name_prev)]\n",
        "  repeated_inv['depletion'] = repeated_inv['total_units_prev'] - repeated_inv['total_units']\n",
        "  repeated_inv['time'] = (repeated_inv['updated_on'] - repeated_inv['updated_on_prev']).dt.days\n",
        "  repeated_inv = repeated_inv.drop_duplicates(subset = ['sku_number', 'brand', 'product_category', 'product_subcategory', 'expiry_date', \\\n",
        "                            'seller_name', 'updated_on', 'priority'])[['sku_number', 'brand', 'product_category', 'product_subcategory', 'expiry_date', 'seller_name', 'updated_on',\\\n",
        "                                                                        'priority', 'depletion', 'time', 'total_units_prev', 'total_units', 'priority_prev',\\\n",
        "                                                                        'shelf_life_remaining_days_prev', 'warehouse_country_prev', 'total_units_ordered_sum_prev',\n",
        "                                                                        'recovery_rate_percentage_prev']]\n",
        "  return repeated_inv"
      ],
      "metadata": {
        "id": "0c651VmXMl0I"
      },
      "execution_count": 47,
      "outputs": []
    },
    {
      "cell_type": "code",
      "source": [
        "temp = get_prev_inv_occurence_next_to_current(temp)\n",
        "repeated_inv = get_repeated_inv_and_mean_depletion(temp)\n",
        "\n",
        "# since current was match to previous, hence correcting the current row previous priority order to previous one\n",
        "repeated_inv['priority'] = np.where(repeated_inv.priority != repeated_inv.priority_prev, repeated_inv.priority_prev, repeated_inv.priority)"
      ],
      "metadata": {
        "id": "_thMdboZOOqW"
      },
      "execution_count": 48,
      "outputs": []
    },
    {
      "cell_type": "code",
      "source": [
        "print(repeated_inv[repeated_inv.time > 90].shape)\n",
        "print('Removing above number of rows as sales cycle is fixed to 90 days max for any cat or sub cat after which it is assumed to finish')\n",
        "repeated_inv = repeated_inv[repeated_inv.time <= 90]"
      ],
      "metadata": {
        "colab": {
          "base_uri": "https://localhost:8080/"
        },
        "id": "CmFBhhXLOhxN",
        "outputId": "4363510e-824c-4be3-cf2c-4e357e942545"
      },
      "execution_count": 49,
      "outputs": [
        {
          "output_type": "stream",
          "name": "stdout",
          "text": [
            "(2899, 17)\n",
            "Removing above number of rows as sales cycle is fixed to 90 days max for any cat or sub cat after which it is assumed to finish\n"
          ]
        }
      ]
    },
    {
      "cell_type": "code",
      "source": [
        "mean_depletion_per_cat_core_inv = repeated_inv.groupby(['product_category']).depletion.mean().reset_index().sort_values(by = 'depletion')"
      ],
      "metadata": {
        "id": "NAQc1SaEQXvF"
      },
      "execution_count": 50,
      "outputs": []
    },
    {
      "cell_type": "code",
      "source": [
        "low_depletion_cats = list(mean_depletion_per_cat_core_inv[mean_depletion_per_cat_core_inv['depletion'] <= mean_depletion_per_cat_core_inv.depletion.quantile(0.33)].product_category)\n",
        "mid_depletion_cats = list(mean_depletion_per_cat_core_inv[mean_depletion_per_cat_core_inv['depletion'] <= mean_depletion_per_cat_core_inv.depletion.quantile(0.67)].product_category)\n",
        "mid_depletion_cats = [i for i in mid_depletion_cats if i not in low_depletion_cats]\n",
        "high_depletion_cats = list(mean_depletion_per_cat_core_inv[mean_depletion_per_cat_core_inv['depletion'] <= mean_depletion_per_cat_core_inv.depletion.quantile(1)].product_category)\n",
        "high_depletion_cats = [i for i in high_depletion_cats if i not in low_depletion_cats + mid_depletion_cats]"
      ],
      "metadata": {
        "id": "q2FAqnjYMBcN"
      },
      "execution_count": 51,
      "outputs": []
    },
    {
      "cell_type": "code",
      "source": [
        "print(low_depletion_cats, '\\n', mid_depletion_cats, '\\n', high_depletion_cats)"
      ],
      "metadata": {
        "colab": {
          "base_uri": "https://localhost:8080/"
        },
        "id": "QZJKdJcsMyKo",
        "outputId": "8177573b-a176-42e8-cb98-a69b0e5659a4"
      },
      "execution_count": 52,
      "outputs": [
        {
          "output_type": "stream",
          "name": "stdout",
          "text": [
            "['beverages', 'fashion_-_accessories', 'home', 'oral_care'] \n",
            " ['makeup', 'fragrance', 'skin_care'] \n",
            " ['baby', 'hair_care', 'home_care', 'food']\n"
          ]
        }
      ]
    },
    {
      "cell_type": "code",
      "source": [
        "# do disposal correction"
      ],
      "metadata": {
        "id": "DMG6uFcoTq65"
      },
      "execution_count": 53,
      "outputs": []
    },
    {
      "cell_type": "code",
      "source": [
        "def set_depletion(row):\n",
        "  if row['depletion'] < 0:\n",
        "    return row['total_units_prev']\n",
        "  elif row['product_category'] in high_depletion_cats and row['time'] <= 20:\n",
        "    return row['depletion']\n",
        "  elif row['product_category'] in high_depletion_cats and row['time'] > 20:\n",
        "    return row['total_units_prev']\n",
        "  elif row['product_category'] in mid_depletion_cats and row['time'] <= 45:\n",
        "    return row['depletion']\n",
        "  elif row['product_category'] in mid_depletion_cats and row['time'] > 45:\n",
        "    return row['total_units_prev']\n",
        "  elif row['product_category'] in low_depletion_cats and row['time'] <= 60:\n",
        "    return row['depletion']\n",
        "  elif row['product_category'] in low_depletion_cats and row['time'] > 60:\n",
        "    return row['total_units_prev']"
      ],
      "metadata": {
        "id": "TtYxwC2dTJnI"
      },
      "execution_count": 54,
      "outputs": []
    },
    {
      "cell_type": "code",
      "source": [
        "repeated_inv['depletion'] = repeated_inv.apply(set_depletion, axis=1)\n",
        "repeated_inv = repeated_inv.reset_index(drop = True)"
      ],
      "metadata": {
        "id": "wBfKNPs6POuc"
      },
      "execution_count": 55,
      "outputs": []
    },
    {
      "cell_type": "code",
      "source": [
        "repeated_inv = repeated_inv.rename(columns = {'total_units_ordered_sum_prev' : 'pollen_liquidated_units', 'recovery_rate_percentage_prev' : 'pollen_recovery_rate_percentage'})"
      ],
      "metadata": {
        "id": "f2Ll-s-0Jgcw"
      },
      "execution_count": 56,
      "outputs": []
    },
    {
      "cell_type": "code",
      "source": [],
      "metadata": {
        "id": "bBHjNvWGRopx"
      },
      "execution_count": 56,
      "outputs": []
    },
    {
      "cell_type": "code",
      "source": [
        "COLUMNS_FOR_DEPLETION_MODELING = ['sku_number', 'brand', 'product_category', 'product_subcategory', 'seller_name', 'time']"
      ],
      "metadata": {
        "id": "fP5Rg57JRrp4"
      },
      "execution_count": 57,
      "outputs": []
    },
    {
      "cell_type": "code",
      "source": [
        "repeated_inv = repeated_inv[COLUMNS_FOR_DEPLETION_MODELING + ['priority', 'total_units_prev', 'depletion', 'shelf_life_remaining_days_prev', 'warehouse_country_prev',\n",
        "                                                              'pollen_liquidated_units', 'pollen_recovery_rate_percentage']]\n",
        "repeated_inv_non_core = repeated_inv_non_core[COLUMNS_FOR_DEPLETION_MODELING + ['priority', 'total_units_prev', 'depletion', 'shelf_life_remaining_days_prev', 'warehouse_country_prev',\n",
        "                                                                                'pollen_liquidated_units', 'pollen_recovery_rate_percentage']]\n",
        "print(repeated_inv.shape, repeated_inv_non_core.shape)"
      ],
      "metadata": {
        "colab": {
          "base_uri": "https://localhost:8080/"
        },
        "id": "IJK0EGHva7EN",
        "outputId": "7a1e4905-a95b-42b3-ed13-2ee6e6c13e1e"
      },
      "execution_count": 58,
      "outputs": [
        {
          "output_type": "stream",
          "name": "stdout",
          "text": [
            "(19109, 13) (979, 13)\n"
          ]
        }
      ]
    },
    {
      "cell_type": "code",
      "source": [
        "repeated_inv = pd.concat([repeated_inv, repeated_inv_non_core], ignore_index=True)\n",
        "repeated_inv.depletion['depletion'] = np.where(repeated_inv.depletion < repeated_inv.pollen_liquidated_units, repeated_inv.pollen_liquidated_units, repeated_inv.depletion)\n",
        "repeated_inv.shape"
      ],
      "metadata": {
        "id": "ZY4vKZ60rJi8",
        "colab": {
          "base_uri": "https://localhost:8080/"
        },
        "outputId": "4b1b71c8-ce4f-4d62-bad8-30c2860962d6"
      },
      "execution_count": 59,
      "outputs": [
        {
          "output_type": "execute_result",
          "data": {
            "text/plain": [
              "(20088, 13)"
            ]
          },
          "metadata": {},
          "execution_count": 59
        }
      ]
    },
    {
      "cell_type": "code",
      "source": [
        "def correct_p1_depletion(df):\n",
        "  if df['priority'] == 'p1' and np.random.uniform(low=1, high=99, size=(1,))[0] <= 80:\n",
        "    return np.random.uniform(low=5, high=20, size=(1,))[0]/ 100 * df['depletion']\n",
        "  else:\n",
        "    return df['depletion']\n",
        "\n",
        "repeated_inv['depletion'] = repeated_inv.apply(correct_p1_depletion, axis = 1)\n",
        "repeated_inv['pollen_liquidated_units'] = np.where(repeated_inv.pollen_liquidated_units > repeated_inv.depletion, repeated_inv.depletion, repeated_inv.pollen_liquidated_units)\n",
        "repeated_inv = repeated_inv.reset_index(drop = True)\n",
        "repeated_inv['possible'] = 1"
      ],
      "metadata": {
        "id": "26IkjvfbLMmn"
      },
      "execution_count": 61,
      "outputs": []
    },
    {
      "cell_type": "code",
      "source": [],
      "metadata": {
        "id": "fRfnQiX1YBu1"
      },
      "execution_count": 68,
      "outputs": []
    },
    {
      "cell_type": "code",
      "source": [],
      "metadata": {
        "id": "mnpev6E4Zwgb"
      },
      "execution_count": null,
      "outputs": []
    },
    {
      "cell_type": "code",
      "source": [
        "low_shelf_life_dummy = repeated_inv.copy()\n",
        "\n",
        "def get_dummy_shelf_life_not_possible(df):\n",
        "    if pd.isna(df['shelf_life_remaining_days_prev']):\n",
        "      return df['shelf_life_remaining_days_prev']\n",
        "    else:\n",
        "      return np.random.uniform(\n",
        "            low=0.5 * df['shelf_life_remaining_days_prev'],\n",
        "            high=df['shelf_life_remaining_days_prev'], size=(1,))[0]\n",
        "\n",
        "low_shelf_life_dummy['shelf_life_remaining_days_prev'] = low_shelf_life_dummy.apply(get_dummy_shelf_life_not_possible, axis = 1)\n",
        "low_shelf_life_dummy['possible'] = 0"
      ],
      "metadata": {
        "id": "ns9Yxno1XfAW"
      },
      "execution_count": 70,
      "outputs": []
    },
    {
      "cell_type": "code",
      "source": [
        "low_time_dummy = repeated_inv.copy()\n",
        "\n",
        "def get_dummy_time_not_possible(df):\n",
        "    if pd.isna(df['time']):\n",
        "      return df['time']\n",
        "    else:\n",
        "      return np.random.uniform(\n",
        "            low=0.5 * df['time'],\n",
        "            high=df['time'], size=(1,))[0]\n",
        "\n",
        "low_time_dummy['time'] = low_time_dummy.apply(get_dummy_time_not_possible, axis = 1)\n",
        "low_time_dummy['possible'] = 0"
      ],
      "metadata": {
        "id": "CsTCz6whXgTM"
      },
      "execution_count": 71,
      "outputs": []
    },
    {
      "cell_type": "code",
      "source": [
        "high_depletion_dummy = repeated_inv.copy()\n",
        "\n",
        "def get_dummy_high_depletion(df):\n",
        "    if pd.isna(df['depletion']):\n",
        "      return df['depletion']\n",
        "    else:\n",
        "      return np.random.uniform(\n",
        "            low=df['depletion'],\n",
        "            high=1.5 * df['depletion'], size=(1,))[0]\n",
        "\n",
        "high_depletion_dummy['depletion'] = high_depletion_dummy.apply(get_dummy_high_depletion, axis = 1)\n",
        "high_depletion_dummy['total_units_prev'] = np.where(high_depletion_dummy['total_units_prev'] < high_depletion_dummy['depletion'],\n",
        "                                                    high_depletion_dummy['depletion'], high_depletion_dummy['total_units_prev'])\n",
        "high_depletion_dummy['possible'] = 0"
      ],
      "metadata": {
        "id": "RaG8OQipXjwa"
      },
      "execution_count": 73,
      "outputs": []
    },
    {
      "cell_type": "code",
      "source": [
        "repeated_inv = pd.concat([repeated_inv, low_shelf_life_dummy, low_time_dummy, high_depletion_dummy], ignore_index=True)\n",
        "repeated_inv = repeated_inv.drop_duplicates()\n",
        "repeated_inv = repeated_inv.reset_index(drop = True)"
      ],
      "metadata": {
        "id": "7otsa9uuXmzL"
      },
      "execution_count": 75,
      "outputs": []
    },
    {
      "cell_type": "code",
      "source": [],
      "metadata": {
        "id": "nQAOkAzLXmwo"
      },
      "execution_count": null,
      "outputs": []
    },
    {
      "cell_type": "markdown",
      "source": [
        "## Listing type"
      ],
      "metadata": {
        "id": "MGAv94ziNiXy"
      }
    },
    {
      "cell_type": "code",
      "source": [
        "def get_listing_type(df):\n",
        "  if df['shelf_life_remaining_days_prev'] > 365*2:\n",
        "    return 'fresh'\n",
        "  elif df['shelf_life_remaining_days_prev'] > 365 and df['pollen_recovery_rate_percentage'] > 0 and df['pollen_recovery_rate_percentage'] < 10:\n",
        "    return 'obsolete'\n",
        "  else:\n",
        "    return 'excess'\n",
        "\n",
        "repeated_inv['listing_condition'] = repeated_inv.apply(get_listing_type, axis = 1)\n",
        "\n",
        "number_of_rows_to_randomize = int(repeated_inv.shape[0]*0.05)\n",
        "\n",
        "change = repeated_inv.sample(number_of_rows_to_randomize//2).index\n",
        "repeated_inv.loc[change,'listing_condition'] = 'damaged'\n",
        "change = repeated_inv.sample(number_of_rows_to_randomize//2).index\n",
        "repeated_inv.loc[change,'listing_condition'] = 'made_to_order'"
      ],
      "metadata": {
        "id": "C5ZXxyf7Nds5"
      },
      "execution_count": 78,
      "outputs": []
    },
    {
      "cell_type": "code",
      "source": [
        "repeated_inv.listing_condition.value_counts()"
      ],
      "metadata": {
        "colab": {
          "base_uri": "https://localhost:8080/",
          "height": 272
        },
        "id": "o8ME9-J6NdpH",
        "outputId": "443fd85d-069e-43ce-c00d-cf5f1b45ac76"
      },
      "execution_count": 79,
      "outputs": [
        {
          "output_type": "execute_result",
          "data": {
            "text/plain": [
              "listing_condition\n",
              "excess           71222\n",
              "fresh             3105\n",
              "made_to_order     1958\n",
              "damaged           1910\n",
              "obsolete           155\n",
              "Name: count, dtype: int64"
            ],
            "text/html": [
              "<div>\n",
              "<style scoped>\n",
              "    .dataframe tbody tr th:only-of-type {\n",
              "        vertical-align: middle;\n",
              "    }\n",
              "\n",
              "    .dataframe tbody tr th {\n",
              "        vertical-align: top;\n",
              "    }\n",
              "\n",
              "    .dataframe thead th {\n",
              "        text-align: right;\n",
              "    }\n",
              "</style>\n",
              "<table border=\"1\" class=\"dataframe\">\n",
              "  <thead>\n",
              "    <tr style=\"text-align: right;\">\n",
              "      <th></th>\n",
              "      <th>count</th>\n",
              "    </tr>\n",
              "    <tr>\n",
              "      <th>listing_condition</th>\n",
              "      <th></th>\n",
              "    </tr>\n",
              "  </thead>\n",
              "  <tbody>\n",
              "    <tr>\n",
              "      <th>excess</th>\n",
              "      <td>71222</td>\n",
              "    </tr>\n",
              "    <tr>\n",
              "      <th>fresh</th>\n",
              "      <td>3105</td>\n",
              "    </tr>\n",
              "    <tr>\n",
              "      <th>made_to_order</th>\n",
              "      <td>1958</td>\n",
              "    </tr>\n",
              "    <tr>\n",
              "      <th>damaged</th>\n",
              "      <td>1910</td>\n",
              "    </tr>\n",
              "    <tr>\n",
              "      <th>obsolete</th>\n",
              "      <td>155</td>\n",
              "    </tr>\n",
              "  </tbody>\n",
              "</table>\n",
              "</div><br><label><b>dtype:</b> int64</label>"
            ]
          },
          "metadata": {},
          "execution_count": 79
        }
      ]
    },
    {
      "cell_type": "markdown",
      "source": [
        "## Liquidation channel"
      ],
      "metadata": {
        "id": "ZTmI1U4vNkhJ"
      }
    },
    {
      "cell_type": "code",
      "source": [
        "repeated_inv['depletion'] = np.where(repeated_inv['depletion'] < repeated_inv['pollen_liquidated_units'], repeated_inv['pollen_liquidated_units'], repeated_inv['depletion'])\n",
        "repeated_inv['depletion_other_than_pollen'] = repeated_inv['depletion'] - repeated_inv['pollen_liquidated_units']\n",
        "repeated_inv['liquidation_channel'] = [['friends/family', 'distributor', 'retailer', 'liquidator', 'disposal', 'pollen']]*len(repeated_inv)\n",
        "repeated_inv = repeated_inv.explode('liquidation_channel').reset_index(drop = True)"
      ],
      "metadata": {
        "id": "mS0Fr39XNf3u"
      },
      "execution_count": 80,
      "outputs": []
    },
    {
      "cell_type": "code",
      "source": [
        "def get_depleted_units_via_liquidation_channel(df):\n",
        "  if df['priority'] == 'p1':\n",
        "    if df['liquidation_channel'] == 'friends/family':\n",
        "      return 0\n",
        "    elif df['liquidation_channel'] == 'distributor':\n",
        "      return 0.2 * 0.1 * df['depletion_other_than_pollen']\n",
        "    elif df['liquidation_channel'] == 'retailer':\n",
        "      return 0.2 * 0.1 * df['depletion_other_than_pollen']\n",
        "    elif df['liquidation_channel'] == 'liquidator':\n",
        "      return 0.2 * 0.8 * df['depletion_other_than_pollen']\n",
        "    elif df['liquidation_channel'] == 'disposal':\n",
        "      return 0.8 * df['depletion_other_than_pollen']\n",
        "    elif df['liquidation_channel'] == 'pollen':\n",
        "      return df['pollen_liquidated_units']\n",
        "\n",
        "  if df['priority'] == 'p2':\n",
        "    if df['liquidation_channel'] == 'friends/family':\n",
        "      return 0.6 * 0.05 * df['depletion_other_than_pollen']\n",
        "    elif df['liquidation_channel'] == 'distributor':\n",
        "      return 0.6 * 0.25 * df['depletion_other_than_pollen']\n",
        "    elif df['liquidation_channel'] == 'retailer':\n",
        "      return 0.6 * 0.20 * df['depletion_other_than_pollen']\n",
        "    elif df['liquidation_channel'] == 'liquidator':\n",
        "      return 0.6 * 0.5 * df['depletion_other_than_pollen']\n",
        "    elif df['liquidation_channel'] == 'disposal':\n",
        "      return 0.4 * df['depletion_other_than_pollen']\n",
        "    elif df['liquidation_channel'] == 'pollen':\n",
        "      return df['pollen_liquidated_units']\n",
        "\n",
        "  if df['priority'] == 'p3':\n",
        "    if df['liquidation_channel'] == 'friends/family':\n",
        "      return 0.8 * 0.1 * df['depletion_other_than_pollen']\n",
        "    elif df['liquidation_channel'] == 'distributor':\n",
        "      return 0.8 * 0.3 * df['depletion_other_than_pollen']\n",
        "    elif df['liquidation_channel'] == 'retailer':\n",
        "      return 0.8 * 0.3 * df['depletion_other_than_pollen']\n",
        "    elif df['liquidation_channel'] == 'liquidator':\n",
        "      return 0.8 * 0.3 * df['depletion_other_than_pollen']\n",
        "    elif df['liquidation_channel'] == 'disposal':\n",
        "      return 0.2 * df['depletion_other_than_pollen']\n",
        "    elif df['liquidation_channel'] == 'pollen':\n",
        "      return df['pollen_liquidated_units']"
      ],
      "metadata": {
        "id": "8PmeK6FeNoDE"
      },
      "execution_count": 81,
      "outputs": []
    },
    {
      "cell_type": "code",
      "source": [
        "repeated_inv['final_depletion'] = repeated_inv.apply(get_depleted_units_via_liquidation_channel, axis = 1)\n",
        "repeated_inv['depletion'] = repeated_inv['final_depletion']\n",
        "repeated_inv = repeated_inv.drop(['pollen_liquidated_units', 'depletion_other_than_pollen', 'final_depletion', 'pollen_recovery_rate_percentage'], axis = 1)"
      ],
      "metadata": {
        "id": "4n6Oqt-UNq44"
      },
      "execution_count": 82,
      "outputs": []
    },
    {
      "cell_type": "code",
      "source": [
        "# after above explode, the relationship between time and liquidation channel + time and depletion number + time and shelf_life_remaining_days_prev\n",
        "# went for a toss. This is for the correction to keep the sensitivity intact\n",
        "\n",
        "repeated_inv['channel_group'] = repeated_inv.index // len(['friends/family', 'distributor', 'retailer', 'liquidator', 'disposal', 'pollen'])\n",
        "max_depletion_in_each_group = repeated_inv.groupby('channel_group').agg({'depletion' : 'max'}).reset_index().rename(columns = {'depletion' : 'max_depletion'})\n",
        "repeated_inv = pd.merge(repeated_inv, max_depletion_in_each_group, 'left', on = 'channel_group')"
      ],
      "metadata": {
        "id": "GYFkKmTtN_xe"
      },
      "execution_count": 84,
      "outputs": []
    },
    {
      "cell_type": "code",
      "source": [
        "def time_correction(df):\n",
        "  if df['max_depletion'] == 0:\n",
        "    return df['time']\n",
        "  else:\n",
        "    return df['time'] * df['depletion'] / df['max_depletion']\n",
        "\n",
        "repeated_inv['time'] = repeated_inv.apply(time_correction, axis = 1)\n",
        "\n",
        "def shelf_life_correction(df):\n",
        "  if df['max_depletion'] == 0:\n",
        "    return df['shelf_life_remaining_days_prev']\n",
        "  else:\n",
        "    return df['shelf_life_remaining_days_prev'] * df['depletion'] / df['max_depletion']\n",
        "\n",
        "repeated_inv['shelf_life_remaining_days_prev'] = repeated_inv.apply(shelf_life_correction, axis = 1)\n",
        "repeated_inv = repeated_inv.drop(['channel_group', 'max_depletion'], axis = 1)"
      ],
      "metadata": {
        "id": "_Whlk2tyOCHi"
      },
      "execution_count": 85,
      "outputs": []
    },
    {
      "cell_type": "code",
      "source": [],
      "metadata": {
        "id": "KM06WIIFKaQa"
      },
      "execution_count": null,
      "outputs": []
    },
    {
      "cell_type": "code",
      "source": [
        "sellers['seller_name'] = sellers['seller_name'].str.lower().str.replace(' ', '_')\n",
        "sellers['persona_seller_type'] = sellers['persona_seller_type'].str.lower().str.replace(' ', '_')\n",
        "repeated_inv = pd.merge(repeated_inv, sellers, 'left', on = 'seller_name')\n",
        "print(repeated_inv.priority.isnull().sum(), repeated_inv.persona_seller_type.isnull().sum())"
      ],
      "metadata": {
        "id": "tTP2588nS1nT",
        "colab": {
          "base_uri": "https://localhost:8080/"
        },
        "outputId": "4b857e96-97ae-4419-eedd-ee9349d40f5c"
      },
      "execution_count": 87,
      "outputs": [
        {
          "output_type": "stream",
          "name": "stdout",
          "text": [
            "16866 120\n"
          ]
        }
      ]
    },
    {
      "cell_type": "code",
      "source": [
        "repeated_inv['priority'] = np.where(repeated_inv.priority.isnull(), '', repeated_inv.priority)\n",
        "repeated_inv['persona_seller_type'] = np.where(repeated_inv.persona_seller_type.isnull(), '', repeated_inv.persona_seller_type)\n",
        "\n",
        "repeated_inv = repeated_inv[~(repeated_inv['total_units_prev'] == 0)]\n",
        "repeated_inv['depletion_percent'] = repeated_inv['depletion'] / repeated_inv['total_units_prev']\n",
        "repeated_inv = repeated_inv[~repeated_inv['depletion_percent'].isnull()]\n",
        "repeated_inv['depletion_percent'] = repeated_inv['depletion_percent']*100"
      ],
      "metadata": {
        "id": "ZpHhRU3MThZc"
      },
      "execution_count": 88,
      "outputs": []
    },
    {
      "cell_type": "code",
      "source": [
        "repeated_inv = repeated_inv.rename(columns = {'warehouse_country_prev' : 'warehouse_country', 'shelf_life_remaining_days_prev' : 'shelf_life_remaining_days'})"
      ],
      "metadata": {
        "id": "x-WD2dTSbJMI"
      },
      "execution_count": 89,
      "outputs": []
    },
    {
      "cell_type": "code",
      "source": [
        "repeated_inv = repeated_inv.drop_duplicates()\n",
        "print(repeated_inv.shape)\n",
        "repeated_inv = repeated_inv.reset_index(drop = True)"
      ],
      "metadata": {
        "colab": {
          "base_uri": "https://localhost:8080/"
        },
        "id": "CeAi8_jtPVTq",
        "outputId": "0f52f7fc-b90c-4444-cda7-171579c0baba"
      },
      "execution_count": 90,
      "outputs": [
        {
          "output_type": "stream",
          "name": "stdout",
          "text": [
            "(430579, 16)\n"
          ]
        }
      ]
    },
    {
      "cell_type": "code",
      "source": [
        "print(repeated_inv[repeated_inv.time < 0].shape)\n",
        "repeated_inv['time'] = np.where(repeated_inv.time < 0, -repeated_inv.time, repeated_inv.time)"
      ],
      "metadata": {
        "colab": {
          "base_uri": "https://localhost:8080/"
        },
        "id": "JFq5gHMxvBHz",
        "outputId": "51f273b0-3a41-4c95-e5f4-8d27690ec9d8"
      },
      "execution_count": 91,
      "outputs": [
        {
          "output_type": "stream",
          "name": "stdout",
          "text": [
            "(720, 16)\n"
          ]
        }
      ]
    },
    {
      "cell_type": "code",
      "source": [
        "priority_to_shelf_life_median = repeated_inv.groupby('priority').shelf_life_remaining_days.median().reset_index()\n",
        "priority_to_shelf_life_median = dict(zip(list(priority_to_shelf_life_median.priority), list(priority_to_shelf_life_median.shelf_life_remaining_days)))\n",
        "priority_to_shelf_life_median"
      ],
      "metadata": {
        "colab": {
          "base_uri": "https://localhost:8080/"
        },
        "id": "JySh4QUYbfFh",
        "outputId": "8d95d369-7206-4aa5-9d8e-9a256fbc8f4f"
      },
      "execution_count": 92,
      "outputs": [
        {
          "output_type": "execute_result",
          "data": {
            "text/plain": [
              "{'p1': 78.5704467629027, 'p2': 178.42022214177098, 'p3': 423.3333333333334}"
            ]
          },
          "metadata": {},
          "execution_count": 92
        }
      ]
    },
    {
      "cell_type": "code",
      "source": [
        "def fill_na_shelf_life_remaining_days(df):\n",
        "  if pd.isna(df['shelf_life_remaining_days']) and df['priority'] == 'p1':\n",
        "    return priority_to_shelf_life_median['p1']\n",
        "  elif pd.isna(df['shelf_life_remaining_days']) and df['priority'] == 'p2':\n",
        "    return priority_to_shelf_life_median['p2']\n",
        "  elif pd.isna(df['shelf_life_remaining_days']) and df['priority'] == 'p3':\n",
        "    return priority_to_shelf_life_median['p3']\n",
        "  else:\n",
        "    return df['shelf_life_remaining_days']\n",
        "\n",
        "repeated_inv['shelf_life_remaining_days'] = repeated_inv.apply(fill_na_shelf_life_remaining_days, axis = 1)"
      ],
      "metadata": {
        "id": "nMUC7-jPbhMZ"
      },
      "execution_count": 93,
      "outputs": []
    },
    {
      "cell_type": "code",
      "source": [
        "repeated_inv.shape"
      ],
      "metadata": {
        "colab": {
          "base_uri": "https://localhost:8080/"
        },
        "id": "7WwHF4zrbiKP",
        "outputId": "73c9876b-5238-4272-9577-df4717014dad"
      },
      "execution_count": 94,
      "outputs": [
        {
          "output_type": "execute_result",
          "data": {
            "text/plain": [
              "(430579, 16)"
            ]
          },
          "metadata": {},
          "execution_count": 94
        }
      ]
    },
    {
      "cell_type": "code",
      "source": [],
      "metadata": {
        "id": "D8JGgaF4blrY"
      },
      "execution_count": null,
      "outputs": []
    },
    {
      "cell_type": "code",
      "source": [],
      "metadata": {
        "id": "dSTlvDBWbjPw"
      },
      "execution_count": null,
      "outputs": []
    },
    {
      "cell_type": "code",
      "source": [
        "train_cols = ['sku_number', 'brand', 'product_category', 'product_subcategory', 'seller_name', 'time', 'shelf_life_remaining_days',\n",
        "              'listing_condition', 'liquidation_channel', 'depletion_percent']\n",
        "cat_cols = ['sku_number', 'brand', 'product_category', 'product_subcategory', 'seller_name', 'listing_condition', 'liquidation_channel']\n",
        "\n",
        "print(repeated_inv[train_cols].duplicated().sum())\n",
        "repeated_inv = repeated_inv.drop_duplicates(subset = train_cols)"
      ],
      "metadata": {
        "id": "VPr_nPWvsV0w",
        "colab": {
          "base_uri": "https://localhost:8080/"
        },
        "outputId": "e67ce774-c2f3-4849-d148-9103b5ea53fc"
      },
      "execution_count": 96,
      "outputs": [
        {
          "output_type": "stream",
          "name": "stdout",
          "text": [
            "85422\n"
          ]
        }
      ]
    },
    {
      "cell_type": "code",
      "source": [
        "X_train, X_val, y_train, y_val = train_test_split(repeated_inv[train_cols], repeated_inv['possible'], test_size = 0.2, random_state = 7, stratify = repeated_inv['possible'])"
      ],
      "metadata": {
        "id": "5b4V49AyP-Ab"
      },
      "execution_count": 98,
      "outputs": []
    },
    {
      "cell_type": "code",
      "source": [
        "model_params = {'loss_function': 'Logloss',\n",
        "          'od_wait' : 25,\n",
        "          'learning_rate': 0.6,\n",
        "          'depth': 7,\n",
        "          'min_data_in_leaf': 10}"
      ],
      "metadata": {
        "id": "UXXhNF-su_-T"
      },
      "execution_count": 99,
      "outputs": []
    },
    {
      "cell_type": "code",
      "source": [
        "def train_catboost(X_train, y_train, X_val, y_val, cat_features, params, iterations = 300, eval_metric = 'Logloss', random_state = 7):\n",
        "  model = CatBoostClassifier(**model_params, iterations = iterations, eval_metric = eval_metric, random_state = random_state)\n",
        "  model.fit(X_train, y_train, cat_features=cat_features, eval_set=(X_val, y_val), verbose=True)\n",
        "  return model"
      ],
      "metadata": {
        "id": "9OzkhTGZvaeV"
      },
      "execution_count": 100,
      "outputs": []
    },
    {
      "cell_type": "code",
      "source": [
        "# auto_class_weights = 'Balanced'"
      ],
      "metadata": {
        "id": "EQwp4A4D0ZpY"
      },
      "execution_count": 101,
      "outputs": []
    },
    {
      "cell_type": "code",
      "source": [
        "sales_probability_model = train_catboost(X_train, y_train, X_val, y_val, cat_cols, model_params, iterations = 1000, eval_metric = 'Logloss', random_state = 7)"
      ],
      "metadata": {
        "colab": {
          "base_uri": "https://localhost:8080/"
        },
        "id": "OM4iL4B-scWT",
        "outputId": "4202544c-9a27-41b6-acd6-f35c7b9f85ba"
      },
      "execution_count": 102,
      "outputs": [
        {
          "output_type": "stream",
          "name": "stdout",
          "text": [
            "0:\tlearn: 0.6024680\ttest: 0.6020846\tbest: 0.6020846 (0)\ttotal: 671ms\tremaining: 11m 10s\n",
            "1:\tlearn: 0.5881441\ttest: 0.5881477\tbest: 0.5881477 (1)\ttotal: 1.35s\tremaining: 11m 16s\n",
            "2:\tlearn: 0.5794461\ttest: 0.5793897\tbest: 0.5793897 (2)\ttotal: 2.06s\tremaining: 11m 23s\n",
            "3:\tlearn: 0.5580841\ttest: 0.5503537\tbest: 0.5503537 (3)\ttotal: 2.61s\tremaining: 10m 49s\n",
            "4:\tlearn: 0.5402742\ttest: 0.5109055\tbest: 0.5109055 (4)\ttotal: 3.14s\tremaining: 10m 24s\n",
            "5:\tlearn: 0.5257926\ttest: 0.4803743\tbest: 0.4803743 (5)\ttotal: 3.87s\tremaining: 10m 40s\n",
            "6:\tlearn: 0.5233103\ttest: 0.4779871\tbest: 0.4779871 (6)\ttotal: 4.53s\tremaining: 10m 42s\n",
            "7:\tlearn: 0.5207418\ttest: 0.4705542\tbest: 0.4705542 (7)\ttotal: 5.04s\tremaining: 10m 24s\n",
            "8:\tlearn: 0.5175087\ttest: 0.4675375\tbest: 0.4675375 (8)\ttotal: 5.65s\tremaining: 10m 22s\n",
            "9:\tlearn: 0.5137990\ttest: 0.4574569\tbest: 0.4574569 (9)\ttotal: 6.29s\tremaining: 10m 22s\n",
            "10:\tlearn: 0.5102210\ttest: 0.4545022\tbest: 0.4545022 (10)\ttotal: 6.95s\tremaining: 10m 25s\n",
            "11:\tlearn: 0.5083904\ttest: 0.4511617\tbest: 0.4511617 (11)\ttotal: 7.93s\tremaining: 10m 52s\n",
            "12:\tlearn: 0.5065146\ttest: 0.4494044\tbest: 0.4494044 (12)\ttotal: 8.88s\tremaining: 11m 14s\n",
            "13:\tlearn: 0.5058266\ttest: 0.4480457\tbest: 0.4480457 (13)\ttotal: 9.71s\tremaining: 11m 23s\n",
            "14:\tlearn: 0.5039200\ttest: 0.4463275\tbest: 0.4463275 (14)\ttotal: 10.6s\tremaining: 11m 37s\n",
            "15:\tlearn: 0.5005640\ttest: 0.4434578\tbest: 0.4434578 (15)\ttotal: 11.3s\tremaining: 11m 34s\n",
            "16:\tlearn: 0.4976437\ttest: 0.4407907\tbest: 0.4407907 (16)\ttotal: 11.9s\tremaining: 11m 26s\n",
            "17:\tlearn: 0.4961378\ttest: 0.4393809\tbest: 0.4393809 (17)\ttotal: 12.4s\tremaining: 11m 18s\n",
            "18:\tlearn: 0.4932964\ttest: 0.4368632\tbest: 0.4368632 (18)\ttotal: 13s\tremaining: 11m 12s\n",
            "19:\tlearn: 0.4910071\ttest: 0.4292297\tbest: 0.4292297 (19)\ttotal: 13.7s\tremaining: 11m 9s\n",
            "20:\tlearn: 0.4897940\ttest: 0.4278667\tbest: 0.4278667 (20)\ttotal: 14.3s\tremaining: 11m 4s\n",
            "21:\tlearn: 0.4881722\ttest: 0.4266872\tbest: 0.4266872 (21)\ttotal: 14.8s\tremaining: 10m 59s\n",
            "22:\tlearn: 0.4865305\ttest: 0.4252502\tbest: 0.4252502 (22)\ttotal: 15.4s\tremaining: 10m 56s\n",
            "23:\tlearn: 0.4819166\ttest: 0.4212640\tbest: 0.4212640 (23)\ttotal: 16s\tremaining: 10m 52s\n",
            "24:\tlearn: 0.4767713\ttest: 0.4093639\tbest: 0.4093639 (24)\ttotal: 16.7s\tremaining: 10m 52s\n",
            "25:\tlearn: 0.4746092\ttest: 0.4074991\tbest: 0.4074991 (25)\ttotal: 17.3s\tremaining: 10m 47s\n",
            "26:\tlearn: 0.4727641\ttest: 0.4060569\tbest: 0.4060569 (26)\ttotal: 17.9s\tremaining: 10m 44s\n",
            "27:\tlearn: 0.4690766\ttest: 0.4051529\tbest: 0.4051529 (27)\ttotal: 18.6s\tremaining: 10m 44s\n",
            "28:\tlearn: 0.4664169\ttest: 0.4020873\tbest: 0.4020873 (28)\ttotal: 19.1s\tremaining: 10m 41s\n",
            "29:\tlearn: 0.4639556\ttest: 0.4001863\tbest: 0.4001863 (29)\ttotal: 19.8s\tremaining: 10m 39s\n",
            "30:\tlearn: 0.4597363\ttest: 0.3952435\tbest: 0.3952435 (30)\ttotal: 20.4s\tremaining: 10m 37s\n",
            "31:\tlearn: 0.4588372\ttest: 0.3955692\tbest: 0.3952435 (30)\ttotal: 21s\tremaining: 10m 34s\n",
            "32:\tlearn: 0.4575693\ttest: 0.3945643\tbest: 0.3945643 (32)\ttotal: 22s\tremaining: 10m 43s\n",
            "33:\tlearn: 0.4561567\ttest: 0.3930890\tbest: 0.3930890 (33)\ttotal: 22.8s\tremaining: 10m 48s\n",
            "34:\tlearn: 0.4554132\ttest: 0.3916767\tbest: 0.3916767 (34)\ttotal: 23.8s\tremaining: 10m 56s\n",
            "35:\tlearn: 0.4535694\ttest: 0.3901007\tbest: 0.3901007 (35)\ttotal: 24.8s\tremaining: 11m 3s\n",
            "36:\tlearn: 0.4506728\ttest: 0.3865834\tbest: 0.3865834 (36)\ttotal: 25.5s\tremaining: 11m 4s\n",
            "37:\tlearn: 0.4497160\ttest: 0.3859205\tbest: 0.3859205 (37)\ttotal: 26.1s\tremaining: 11m\n",
            "38:\tlearn: 0.4488493\ttest: 0.3842724\tbest: 0.3842724 (38)\ttotal: 26.6s\tremaining: 10m 56s\n",
            "39:\tlearn: 0.4473760\ttest: 0.3831225\tbest: 0.3831225 (39)\ttotal: 27.2s\tremaining: 10m 53s\n",
            "40:\tlearn: 0.4465508\ttest: 0.3824604\tbest: 0.3824604 (40)\ttotal: 27.8s\tremaining: 10m 50s\n",
            "41:\tlearn: 0.4450401\ttest: 0.3810658\tbest: 0.3810658 (41)\ttotal: 28.5s\tremaining: 10m 49s\n",
            "42:\tlearn: 0.4439113\ttest: 0.3789066\tbest: 0.3789066 (42)\ttotal: 29s\tremaining: 10m 45s\n",
            "43:\tlearn: 0.4431213\ttest: 0.3781364\tbest: 0.3781364 (43)\ttotal: 29.6s\tremaining: 10m 42s\n",
            "44:\tlearn: 0.4421624\ttest: 0.3768721\tbest: 0.3768721 (44)\ttotal: 30.1s\tremaining: 10m 38s\n",
            "45:\tlearn: 0.4415698\ttest: 0.3757046\tbest: 0.3757046 (45)\ttotal: 30.7s\tremaining: 10m 36s\n",
            "46:\tlearn: 0.4409400\ttest: 0.3754750\tbest: 0.3754750 (46)\ttotal: 31.2s\tremaining: 10m 32s\n",
            "47:\tlearn: 0.4400742\ttest: 0.3748006\tbest: 0.3748006 (47)\ttotal: 31.8s\tremaining: 10m 30s\n",
            "48:\tlearn: 0.4395195\ttest: 0.3744447\tbest: 0.3744447 (48)\ttotal: 32.3s\tremaining: 10m 27s\n",
            "49:\tlearn: 0.4378982\ttest: 0.3730204\tbest: 0.3730204 (49)\ttotal: 33s\tremaining: 10m 26s\n",
            "50:\tlearn: 0.4370267\ttest: 0.3722821\tbest: 0.3722821 (50)\ttotal: 33.5s\tremaining: 10m 23s\n",
            "51:\tlearn: 0.4350912\ttest: 0.3686256\tbest: 0.3686256 (51)\ttotal: 34.1s\tremaining: 10m 22s\n",
            "52:\tlearn: 0.4338591\ttest: 0.3676384\tbest: 0.3676384 (52)\ttotal: 34.7s\tremaining: 10m 20s\n",
            "53:\tlearn: 0.4335769\ttest: 0.3669952\tbest: 0.3669952 (53)\ttotal: 35.6s\tremaining: 10m 22s\n",
            "54:\tlearn: 0.4328239\ttest: 0.3662913\tbest: 0.3662913 (54)\ttotal: 36.6s\tremaining: 10m 29s\n",
            "55:\tlearn: 0.4322246\ttest: 0.3653446\tbest: 0.3653446 (55)\ttotal: 37.9s\tremaining: 10m 39s\n",
            "56:\tlearn: 0.4308137\ttest: 0.3638537\tbest: 0.3638537 (56)\ttotal: 38.9s\tremaining: 10m 43s\n",
            "57:\tlearn: 0.4307080\ttest: 0.3638181\tbest: 0.3638181 (57)\ttotal: 40s\tremaining: 10m 49s\n",
            "58:\tlearn: 0.4301855\ttest: 0.3634664\tbest: 0.3634664 (58)\ttotal: 40.5s\tremaining: 10m 46s\n",
            "59:\tlearn: 0.4288047\ttest: 0.3591506\tbest: 0.3591506 (59)\ttotal: 41.2s\tremaining: 10m 45s\n",
            "60:\tlearn: 0.4283244\ttest: 0.3588189\tbest: 0.3588189 (60)\ttotal: 41.9s\tremaining: 10m 44s\n",
            "61:\tlearn: 0.4270012\ttest: 0.3578078\tbest: 0.3578078 (61)\ttotal: 42.5s\tremaining: 10m 42s\n",
            "62:\tlearn: 0.4260904\ttest: 0.3571390\tbest: 0.3571390 (62)\ttotal: 43.1s\tremaining: 10m 40s\n",
            "63:\tlearn: 0.4248497\ttest: 0.3556975\tbest: 0.3556975 (63)\ttotal: 43.7s\tremaining: 10m 39s\n",
            "64:\tlearn: 0.4246512\ttest: 0.3558273\tbest: 0.3556975 (63)\ttotal: 44.3s\tremaining: 10m 37s\n",
            "65:\tlearn: 0.4242315\ttest: 0.3556263\tbest: 0.3556263 (65)\ttotal: 44.8s\tremaining: 10m 34s\n",
            "66:\tlearn: 0.4238164\ttest: 0.3554453\tbest: 0.3554453 (66)\ttotal: 45.3s\tremaining: 10m 31s\n",
            "67:\tlearn: 0.4233212\ttest: 0.3552570\tbest: 0.3552570 (67)\ttotal: 45.9s\tremaining: 10m 29s\n",
            "68:\tlearn: 0.4227004\ttest: 0.3547120\tbest: 0.3547120 (68)\ttotal: 46.5s\tremaining: 10m 27s\n",
            "69:\tlearn: 0.4221534\ttest: 0.3542769\tbest: 0.3542769 (69)\ttotal: 47.1s\tremaining: 10m 26s\n",
            "70:\tlearn: 0.4217863\ttest: 0.3539943\tbest: 0.3539943 (70)\ttotal: 47.7s\tremaining: 10m 24s\n",
            "71:\tlearn: 0.4201739\ttest: 0.3520788\tbest: 0.3520788 (71)\ttotal: 48.4s\tremaining: 10m 23s\n",
            "72:\tlearn: 0.4195961\ttest: 0.3516702\tbest: 0.3516702 (72)\ttotal: 48.9s\tremaining: 10m 20s\n",
            "73:\tlearn: 0.4185946\ttest: 0.3481585\tbest: 0.3481585 (73)\ttotal: 49.7s\tremaining: 10m 21s\n",
            "74:\tlearn: 0.4178536\ttest: 0.3483182\tbest: 0.3481585 (73)\ttotal: 50.8s\tremaining: 10m 26s\n",
            "75:\tlearn: 0.4177435\ttest: 0.3483042\tbest: 0.3481585 (73)\ttotal: 51.7s\tremaining: 10m 28s\n",
            "76:\tlearn: 0.4175833\ttest: 0.3482941\tbest: 0.3481585 (73)\ttotal: 52.6s\tremaining: 10m 29s\n",
            "77:\tlearn: 0.4169529\ttest: 0.3476475\tbest: 0.3476475 (77)\ttotal: 53.6s\tremaining: 10m 33s\n",
            "78:\tlearn: 0.4167921\ttest: 0.3475960\tbest: 0.3475960 (78)\ttotal: 54.1s\tremaining: 10m 30s\n",
            "79:\tlearn: 0.4164555\ttest: 0.3476176\tbest: 0.3475960 (78)\ttotal: 54.6s\tremaining: 10m 28s\n",
            "80:\tlearn: 0.4160596\ttest: 0.3475435\tbest: 0.3475435 (80)\ttotal: 55.2s\tremaining: 10m 26s\n",
            "81:\tlearn: 0.4158731\ttest: 0.3475121\tbest: 0.3475121 (81)\ttotal: 55.7s\tremaining: 10m 23s\n",
            "82:\tlearn: 0.4157546\ttest: 0.3473318\tbest: 0.3473318 (82)\ttotal: 56.2s\tremaining: 10m 20s\n",
            "83:\tlearn: 0.4155839\ttest: 0.3472686\tbest: 0.3472686 (83)\ttotal: 56.6s\tremaining: 10m 17s\n",
            "84:\tlearn: 0.4153777\ttest: 0.3469458\tbest: 0.3469458 (84)\ttotal: 57.1s\tremaining: 10m 14s\n",
            "85:\tlearn: 0.4143997\ttest: 0.3460574\tbest: 0.3460574 (85)\ttotal: 57.7s\tremaining: 10m 13s\n",
            "86:\tlearn: 0.4139706\ttest: 0.3460453\tbest: 0.3460453 (86)\ttotal: 58.2s\tremaining: 10m 11s\n",
            "87:\tlearn: 0.4131808\ttest: 0.3453209\tbest: 0.3453209 (87)\ttotal: 58.8s\tremaining: 10m 8s\n",
            "88:\tlearn: 0.4127346\ttest: 0.3450720\tbest: 0.3450720 (88)\ttotal: 59.4s\tremaining: 10m 7s\n",
            "89:\tlearn: 0.4126402\ttest: 0.3448589\tbest: 0.3448589 (89)\ttotal: 59.9s\tremaining: 10m 5s\n",
            "90:\tlearn: 0.4124744\ttest: 0.3447455\tbest: 0.3447455 (90)\ttotal: 1m\tremaining: 10m 3s\n",
            "91:\tlearn: 0.4121499\ttest: 0.3445635\tbest: 0.3445635 (91)\ttotal: 1m 1s\tremaining: 10m 2s\n",
            "92:\tlearn: 0.4119425\ttest: 0.3446416\tbest: 0.3445635 (91)\ttotal: 1m 1s\tremaining: 10m\n",
            "93:\tlearn: 0.4111755\ttest: 0.3440686\tbest: 0.3440686 (93)\ttotal: 1m 2s\tremaining: 9m 59s\n",
            "94:\tlearn: 0.4106576\ttest: 0.3436447\tbest: 0.3436447 (94)\ttotal: 1m 2s\tremaining: 9m 58s\n",
            "95:\tlearn: 0.4104856\ttest: 0.3435541\tbest: 0.3435541 (95)\ttotal: 1m 3s\tremaining: 9m 55s\n",
            "96:\tlearn: 0.4098614\ttest: 0.3419580\tbest: 0.3419580 (96)\ttotal: 1m 4s\tremaining: 9m 56s\n",
            "97:\tlearn: 0.4087749\ttest: 0.3409406\tbest: 0.3409406 (97)\ttotal: 1m 5s\tremaining: 10m 4s\n",
            "98:\tlearn: 0.4084832\ttest: 0.3407467\tbest: 0.3407467 (98)\ttotal: 1m 6s\tremaining: 10m 7s\n",
            "99:\tlearn: 0.4081360\ttest: 0.3403949\tbest: 0.3403949 (99)\ttotal: 1m 7s\tremaining: 10m 9s\n",
            "100:\tlearn: 0.4080094\ttest: 0.3403758\tbest: 0.3403758 (100)\ttotal: 1m 8s\tremaining: 10m 8s\n",
            "101:\tlearn: 0.4078918\ttest: 0.3403869\tbest: 0.3403758 (100)\ttotal: 1m 8s\tremaining: 10m 6s\n",
            "102:\tlearn: 0.4065901\ttest: 0.3392617\tbest: 0.3392617 (102)\ttotal: 1m 9s\tremaining: 10m 5s\n",
            "103:\tlearn: 0.4051148\ttest: 0.3376782\tbest: 0.3376782 (103)\ttotal: 1m 10s\tremaining: 10m 3s\n",
            "104:\tlearn: 0.4047784\ttest: 0.3372717\tbest: 0.3372717 (104)\ttotal: 1m 10s\tremaining: 10m 2s\n",
            "105:\tlearn: 0.4044133\ttest: 0.3370690\tbest: 0.3370690 (105)\ttotal: 1m 11s\tremaining: 10m 1s\n",
            "106:\tlearn: 0.4035193\ttest: 0.3363053\tbest: 0.3363053 (106)\ttotal: 1m 11s\tremaining: 9m 59s\n",
            "107:\tlearn: 0.4034384\ttest: 0.3363018\tbest: 0.3363018 (107)\ttotal: 1m 12s\tremaining: 9m 57s\n",
            "108:\tlearn: 0.4033021\ttest: 0.3362446\tbest: 0.3362446 (108)\ttotal: 1m 12s\tremaining: 9m 55s\n",
            "109:\tlearn: 0.4028129\ttest: 0.3352034\tbest: 0.3352034 (109)\ttotal: 1m 13s\tremaining: 9m 54s\n",
            "110:\tlearn: 0.4024657\ttest: 0.3348937\tbest: 0.3348937 (110)\ttotal: 1m 14s\tremaining: 9m 53s\n",
            "111:\tlearn: 0.4023234\ttest: 0.3350459\tbest: 0.3348937 (110)\ttotal: 1m 14s\tremaining: 9m 51s\n",
            "112:\tlearn: 0.4007487\ttest: 0.3332032\tbest: 0.3332032 (112)\ttotal: 1m 15s\tremaining: 9m 50s\n",
            "113:\tlearn: 0.4004557\ttest: 0.3330055\tbest: 0.3330055 (113)\ttotal: 1m 15s\tremaining: 9m 48s\n",
            "114:\tlearn: 0.3997516\ttest: 0.3324228\tbest: 0.3324228 (114)\ttotal: 1m 16s\tremaining: 9m 47s\n",
            "115:\tlearn: 0.3993974\ttest: 0.3320655\tbest: 0.3320655 (115)\ttotal: 1m 16s\tremaining: 9m 46s\n",
            "116:\tlearn: 0.3990693\ttest: 0.3318044\tbest: 0.3318044 (116)\ttotal: 1m 17s\tremaining: 9m 44s\n",
            "117:\tlearn: 0.3989224\ttest: 0.3317566\tbest: 0.3317566 (117)\ttotal: 1m 18s\tremaining: 9m 44s\n",
            "118:\tlearn: 0.3987335\ttest: 0.3310684\tbest: 0.3310684 (118)\ttotal: 1m 18s\tremaining: 9m 44s\n",
            "119:\tlearn: 0.3984401\ttest: 0.3310084\tbest: 0.3310084 (119)\ttotal: 1m 19s\tremaining: 9m 45s\n",
            "120:\tlearn: 0.3983808\ttest: 0.3310178\tbest: 0.3310084 (119)\ttotal: 1m 20s\tremaining: 9m 45s\n",
            "121:\tlearn: 0.3976371\ttest: 0.3304481\tbest: 0.3304481 (121)\ttotal: 1m 21s\tremaining: 9m 48s\n",
            "122:\tlearn: 0.3971451\ttest: 0.3296552\tbest: 0.3296552 (122)\ttotal: 1m 22s\tremaining: 9m 47s\n",
            "123:\tlearn: 0.3969966\ttest: 0.3297672\tbest: 0.3296552 (122)\ttotal: 1m 22s\tremaining: 9m 45s\n",
            "124:\tlearn: 0.3955598\ttest: 0.3283366\tbest: 0.3283366 (124)\ttotal: 1m 23s\tremaining: 9m 44s\n",
            "125:\tlearn: 0.3952231\ttest: 0.3280748\tbest: 0.3280748 (125)\ttotal: 1m 24s\tremaining: 9m 42s\n",
            "126:\tlearn: 0.3949138\ttest: 0.3278894\tbest: 0.3278894 (126)\ttotal: 1m 24s\tremaining: 9m 41s\n",
            "127:\tlearn: 0.3941342\ttest: 0.3265190\tbest: 0.3265190 (127)\ttotal: 1m 25s\tremaining: 9m 40s\n",
            "128:\tlearn: 0.3939747\ttest: 0.3264746\tbest: 0.3264746 (128)\ttotal: 1m 25s\tremaining: 9m 39s\n",
            "129:\tlearn: 0.3937711\ttest: 0.3263980\tbest: 0.3263980 (129)\ttotal: 1m 26s\tremaining: 9m 37s\n",
            "130:\tlearn: 0.3935337\ttest: 0.3262863\tbest: 0.3262863 (130)\ttotal: 1m 26s\tremaining: 9m 35s\n",
            "131:\tlearn: 0.3933732\ttest: 0.3263868\tbest: 0.3262863 (130)\ttotal: 1m 27s\tremaining: 9m 33s\n",
            "132:\tlearn: 0.3931808\ttest: 0.3262666\tbest: 0.3262666 (132)\ttotal: 1m 27s\tremaining: 9m 32s\n",
            "133:\tlearn: 0.3929653\ttest: 0.3261192\tbest: 0.3261192 (133)\ttotal: 1m 28s\tremaining: 9m 31s\n",
            "134:\tlearn: 0.3929484\ttest: 0.3261255\tbest: 0.3261192 (133)\ttotal: 1m 28s\tremaining: 9m 29s\n",
            "135:\tlearn: 0.3927897\ttest: 0.3261172\tbest: 0.3261172 (135)\ttotal: 1m 29s\tremaining: 9m 28s\n",
            "136:\tlearn: 0.3914838\ttest: 0.3247625\tbest: 0.3247625 (136)\ttotal: 1m 30s\tremaining: 9m 27s\n",
            "137:\tlearn: 0.3912271\ttest: 0.3246220\tbest: 0.3246220 (137)\ttotal: 1m 30s\tremaining: 9m 25s\n",
            "138:\tlearn: 0.3911355\ttest: 0.3246397\tbest: 0.3246220 (137)\ttotal: 1m 31s\tremaining: 9m 24s\n",
            "139:\tlearn: 0.3909849\ttest: 0.3246594\tbest: 0.3246220 (137)\ttotal: 1m 31s\tremaining: 9m 23s\n",
            "140:\tlearn: 0.3907760\ttest: 0.3245522\tbest: 0.3245522 (140)\ttotal: 1m 32s\tremaining: 9m 22s\n",
            "141:\tlearn: 0.3906943\ttest: 0.3244704\tbest: 0.3244704 (141)\ttotal: 1m 33s\tremaining: 9m 24s\n",
            "142:\tlearn: 0.3898294\ttest: 0.3211589\tbest: 0.3211589 (142)\ttotal: 1m 34s\tremaining: 9m 27s\n",
            "143:\tlearn: 0.3895788\ttest: 0.3214595\tbest: 0.3211589 (142)\ttotal: 1m 35s\tremaining: 9m 28s\n",
            "144:\tlearn: 0.3892788\ttest: 0.3213696\tbest: 0.3211589 (142)\ttotal: 1m 36s\tremaining: 9m 29s\n",
            "145:\tlearn: 0.3891551\ttest: 0.3214060\tbest: 0.3211589 (142)\ttotal: 1m 37s\tremaining: 9m 27s\n",
            "146:\tlearn: 0.3890173\ttest: 0.3212848\tbest: 0.3211589 (142)\ttotal: 1m 37s\tremaining: 9m 26s\n",
            "147:\tlearn: 0.3887828\ttest: 0.3212068\tbest: 0.3211589 (142)\ttotal: 1m 38s\tremaining: 9m 24s\n",
            "148:\tlearn: 0.3885884\ttest: 0.3211570\tbest: 0.3211570 (148)\ttotal: 1m 38s\tremaining: 9m 23s\n",
            "149:\tlearn: 0.3884676\ttest: 0.3213681\tbest: 0.3211570 (148)\ttotal: 1m 39s\tremaining: 9m 22s\n",
            "150:\tlearn: 0.3880160\ttest: 0.3209064\tbest: 0.3209064 (150)\ttotal: 1m 39s\tremaining: 9m 20s\n",
            "151:\tlearn: 0.3864809\ttest: 0.3189127\tbest: 0.3189127 (151)\ttotal: 1m 40s\tremaining: 9m 19s\n",
            "152:\tlearn: 0.3857036\ttest: 0.3179256\tbest: 0.3179256 (152)\ttotal: 1m 40s\tremaining: 9m 18s\n",
            "153:\tlearn: 0.3855976\ttest: 0.3179242\tbest: 0.3179242 (153)\ttotal: 1m 41s\tremaining: 9m 17s\n",
            "154:\tlearn: 0.3850642\ttest: 0.3175349\tbest: 0.3175349 (154)\ttotal: 1m 41s\tremaining: 9m 15s\n",
            "155:\tlearn: 0.3848795\ttest: 0.3173814\tbest: 0.3173814 (155)\ttotal: 1m 42s\tremaining: 9m 14s\n",
            "156:\tlearn: 0.3845751\ttest: 0.3172126\tbest: 0.3172126 (156)\ttotal: 1m 43s\tremaining: 9m 13s\n",
            "157:\tlearn: 0.3836429\ttest: 0.3156886\tbest: 0.3156886 (157)\ttotal: 1m 43s\tremaining: 9m 13s\n",
            "158:\tlearn: 0.3835887\ttest: 0.3156875\tbest: 0.3156875 (158)\ttotal: 1m 44s\tremaining: 9m 11s\n",
            "159:\tlearn: 0.3834300\ttest: 0.3155839\tbest: 0.3155839 (159)\ttotal: 1m 44s\tremaining: 9m 10s\n",
            "160:\tlearn: 0.3829374\ttest: 0.3147075\tbest: 0.3147075 (160)\ttotal: 1m 45s\tremaining: 9m 9s\n",
            "161:\tlearn: 0.3828777\ttest: 0.3146474\tbest: 0.3146474 (161)\ttotal: 1m 45s\tremaining: 9m 7s\n",
            "162:\tlearn: 0.3816145\ttest: 0.3126867\tbest: 0.3126867 (162)\ttotal: 1m 46s\tremaining: 9m 9s\n",
            "163:\tlearn: 0.3814281\ttest: 0.3124977\tbest: 0.3124977 (163)\ttotal: 1m 47s\tremaining: 9m 10s\n",
            "164:\tlearn: 0.3811119\ttest: 0.3124148\tbest: 0.3124148 (164)\ttotal: 1m 49s\tremaining: 9m 11s\n",
            "165:\tlearn: 0.3804442\ttest: 0.3118255\tbest: 0.3118255 (165)\ttotal: 1m 50s\tremaining: 9m 12s\n",
            "166:\tlearn: 0.3802189\ttest: 0.3118008\tbest: 0.3118008 (166)\ttotal: 1m 50s\tremaining: 9m 12s\n",
            "167:\tlearn: 0.3801235\ttest: 0.3117901\tbest: 0.3117901 (167)\ttotal: 1m 51s\tremaining: 9m 11s\n",
            "168:\tlearn: 0.3800518\ttest: 0.3117393\tbest: 0.3117393 (168)\ttotal: 1m 51s\tremaining: 9m 10s\n",
            "169:\tlearn: 0.3799266\ttest: 0.3117954\tbest: 0.3117393 (168)\ttotal: 1m 52s\tremaining: 9m 9s\n",
            "170:\tlearn: 0.3788076\ttest: 0.3092889\tbest: 0.3092889 (170)\ttotal: 1m 53s\tremaining: 9m 8s\n",
            "171:\tlearn: 0.3777979\ttest: 0.3057035\tbest: 0.3057035 (171)\ttotal: 1m 53s\tremaining: 9m 8s\n",
            "172:\tlearn: 0.3775417\ttest: 0.3059786\tbest: 0.3057035 (171)\ttotal: 1m 54s\tremaining: 9m 7s\n",
            "173:\tlearn: 0.3770954\ttest: 0.3058008\tbest: 0.3057035 (171)\ttotal: 1m 55s\tremaining: 9m 5s\n",
            "174:\tlearn: 0.3762575\ttest: 0.3051351\tbest: 0.3051351 (174)\ttotal: 1m 55s\tremaining: 9m 4s\n",
            "175:\tlearn: 0.3753395\ttest: 0.3026287\tbest: 0.3026287 (175)\ttotal: 1m 56s\tremaining: 9m 3s\n",
            "176:\tlearn: 0.3750138\ttest: 0.3031173\tbest: 0.3026287 (175)\ttotal: 1m 56s\tremaining: 9m 2s\n",
            "177:\tlearn: 0.3748166\ttest: 0.3030832\tbest: 0.3026287 (175)\ttotal: 1m 57s\tremaining: 9m\n",
            "178:\tlearn: 0.3747232\ttest: 0.3031182\tbest: 0.3026287 (175)\ttotal: 1m 57s\tremaining: 8m 59s\n",
            "179:\tlearn: 0.3745600\ttest: 0.3030418\tbest: 0.3026287 (175)\ttotal: 1m 58s\tremaining: 8m 58s\n",
            "180:\tlearn: 0.3745071\ttest: 0.3031327\tbest: 0.3026287 (175)\ttotal: 1m 58s\tremaining: 8m 57s\n",
            "181:\tlearn: 0.3743682\ttest: 0.3031484\tbest: 0.3026287 (175)\ttotal: 1m 59s\tremaining: 8m 55s\n",
            "182:\tlearn: 0.3742774\ttest: 0.3030972\tbest: 0.3026287 (175)\ttotal: 1m 59s\tremaining: 8m 54s\n",
            "183:\tlearn: 0.3739665\ttest: 0.3028833\tbest: 0.3026287 (175)\ttotal: 2m\tremaining: 8m 53s\n",
            "184:\tlearn: 0.3736926\ttest: 0.3026630\tbest: 0.3026287 (175)\ttotal: 2m 1s\tremaining: 8m 54s\n",
            "185:\tlearn: 0.3736226\ttest: 0.3027380\tbest: 0.3026287 (175)\ttotal: 2m 2s\tremaining: 8m 55s\n",
            "186:\tlearn: 0.3735460\ttest: 0.3027421\tbest: 0.3026287 (175)\ttotal: 2m 3s\tremaining: 8m 56s\n",
            "187:\tlearn: 0.3735193\ttest: 0.3027808\tbest: 0.3026287 (175)\ttotal: 2m 4s\tremaining: 8m 56s\n",
            "188:\tlearn: 0.3734543\ttest: 0.3027590\tbest: 0.3026287 (175)\ttotal: 2m 4s\tremaining: 8m 55s\n",
            "189:\tlearn: 0.3731135\ttest: 0.3025008\tbest: 0.3025008 (189)\ttotal: 2m 5s\tremaining: 8m 54s\n",
            "190:\tlearn: 0.3726375\ttest: 0.3007795\tbest: 0.3007795 (190)\ttotal: 2m 5s\tremaining: 8m 53s\n",
            "191:\tlearn: 0.3724125\ttest: 0.3010824\tbest: 0.3007795 (190)\ttotal: 2m 6s\tremaining: 8m 51s\n",
            "192:\tlearn: 0.3718147\ttest: 0.3005133\tbest: 0.3005133 (192)\ttotal: 2m 6s\tremaining: 8m 50s\n",
            "193:\tlearn: 0.3717249\ttest: 0.3005258\tbest: 0.3005133 (192)\ttotal: 2m 7s\tremaining: 8m 49s\n",
            "194:\tlearn: 0.3714738\ttest: 0.3003480\tbest: 0.3003480 (194)\ttotal: 2m 8s\tremaining: 8m 48s\n",
            "195:\tlearn: 0.3711091\ttest: 0.3000353\tbest: 0.3000353 (195)\ttotal: 2m 8s\tremaining: 8m 47s\n",
            "196:\tlearn: 0.3709831\ttest: 0.3000520\tbest: 0.3000353 (195)\ttotal: 2m 9s\tremaining: 8m 46s\n",
            "197:\tlearn: 0.3708867\ttest: 0.3000804\tbest: 0.3000353 (195)\ttotal: 2m 9s\tremaining: 8m 45s\n",
            "198:\tlearn: 0.3707543\ttest: 0.3001685\tbest: 0.3000353 (195)\ttotal: 2m 10s\tremaining: 8m 44s\n",
            "199:\tlearn: 0.3705787\ttest: 0.3001995\tbest: 0.3000353 (195)\ttotal: 2m 10s\tremaining: 8m 43s\n",
            "200:\tlearn: 0.3700180\ttest: 0.2998145\tbest: 0.2998145 (200)\ttotal: 2m 11s\tremaining: 8m 42s\n",
            "201:\tlearn: 0.3699726\ttest: 0.2998210\tbest: 0.2998145 (200)\ttotal: 2m 11s\tremaining: 8m 40s\n",
            "202:\tlearn: 0.3698455\ttest: 0.2998004\tbest: 0.2998004 (202)\ttotal: 2m 12s\tremaining: 8m 39s\n",
            "203:\tlearn: 0.3697172\ttest: 0.2997908\tbest: 0.2997908 (203)\ttotal: 2m 12s\tremaining: 8m 38s\n",
            "204:\tlearn: 0.3690659\ttest: 0.2987082\tbest: 0.2987082 (204)\ttotal: 2m 13s\tremaining: 8m 37s\n",
            "205:\tlearn: 0.3688884\ttest: 0.2985788\tbest: 0.2985788 (205)\ttotal: 2m 14s\tremaining: 8m 36s\n",
            "206:\tlearn: 0.3683302\ttest: 0.2977854\tbest: 0.2977854 (206)\ttotal: 2m 14s\tremaining: 8m 36s\n",
            "207:\tlearn: 0.3677381\ttest: 0.2960811\tbest: 0.2960811 (207)\ttotal: 2m 15s\tremaining: 8m 37s\n",
            "208:\tlearn: 0.3675259\ttest: 0.2960544\tbest: 0.2960544 (208)\ttotal: 2m 16s\tremaining: 8m 38s\n",
            "209:\tlearn: 0.3672803\ttest: 0.2964139\tbest: 0.2960544 (208)\ttotal: 2m 17s\tremaining: 8m 38s\n",
            "210:\tlearn: 0.3670631\ttest: 0.2964055\tbest: 0.2960544 (208)\ttotal: 2m 18s\tremaining: 8m 38s\n",
            "211:\tlearn: 0.3662468\ttest: 0.2934628\tbest: 0.2934628 (211)\ttotal: 2m 19s\tremaining: 8m 38s\n",
            "212:\tlearn: 0.3660243\ttest: 0.2940752\tbest: 0.2934628 (211)\ttotal: 2m 19s\tremaining: 8m 36s\n",
            "213:\tlearn: 0.3657510\ttest: 0.2938532\tbest: 0.2934628 (211)\ttotal: 2m 20s\tremaining: 8m 35s\n",
            "214:\tlearn: 0.3655325\ttest: 0.2940320\tbest: 0.2934628 (211)\ttotal: 2m 20s\tremaining: 8m 34s\n",
            "215:\tlearn: 0.3654917\ttest: 0.2940347\tbest: 0.2934628 (211)\ttotal: 2m 21s\tremaining: 8m 33s\n",
            "216:\tlearn: 0.3653030\ttest: 0.2938772\tbest: 0.2934628 (211)\ttotal: 2m 22s\tremaining: 8m 32s\n",
            "217:\tlearn: 0.3652324\ttest: 0.2938646\tbest: 0.2934628 (211)\ttotal: 2m 22s\tremaining: 8m 31s\n",
            "218:\tlearn: 0.3650472\ttest: 0.2937169\tbest: 0.2934628 (211)\ttotal: 2m 23s\tremaining: 8m 30s\n",
            "219:\tlearn: 0.3649835\ttest: 0.2937161\tbest: 0.2934628 (211)\ttotal: 2m 23s\tremaining: 8m 29s\n",
            "220:\tlearn: 0.3646407\ttest: 0.2935978\tbest: 0.2934628 (211)\ttotal: 2m 24s\tremaining: 8m 28s\n",
            "221:\tlearn: 0.3644794\ttest: 0.2936068\tbest: 0.2934628 (211)\ttotal: 2m 24s\tremaining: 8m 27s\n",
            "222:\tlearn: 0.3643667\ttest: 0.2935959\tbest: 0.2934628 (211)\ttotal: 2m 25s\tremaining: 8m 26s\n",
            "223:\tlearn: 0.3643421\ttest: 0.2935914\tbest: 0.2934628 (211)\ttotal: 2m 25s\tremaining: 8m 25s\n",
            "224:\tlearn: 0.3641300\ttest: 0.2935828\tbest: 0.2934628 (211)\ttotal: 2m 26s\tremaining: 8m 24s\n",
            "225:\tlearn: 0.3636660\ttest: 0.2928699\tbest: 0.2928699 (225)\ttotal: 2m 27s\tremaining: 8m 23s\n",
            "226:\tlearn: 0.3633794\ttest: 0.2922279\tbest: 0.2922279 (226)\ttotal: 2m 27s\tremaining: 8m 23s\n",
            "227:\tlearn: 0.3631735\ttest: 0.2921977\tbest: 0.2921977 (227)\ttotal: 2m 28s\tremaining: 8m 22s\n",
            "228:\tlearn: 0.3626433\ttest: 0.2915331\tbest: 0.2915331 (228)\ttotal: 2m 29s\tremaining: 8m 22s\n",
            "229:\tlearn: 0.3620739\ttest: 0.2895380\tbest: 0.2895380 (229)\ttotal: 2m 30s\tremaining: 8m 23s\n",
            "230:\tlearn: 0.3613357\ttest: 0.2887984\tbest: 0.2887984 (230)\ttotal: 2m 31s\tremaining: 8m 24s\n",
            "231:\tlearn: 0.3611352\ttest: 0.2888329\tbest: 0.2887984 (230)\ttotal: 2m 32s\tremaining: 8m 25s\n",
            "232:\tlearn: 0.3610466\ttest: 0.2889518\tbest: 0.2887984 (230)\ttotal: 2m 33s\tremaining: 8m 24s\n",
            "233:\tlearn: 0.3607733\ttest: 0.2888895\tbest: 0.2887984 (230)\ttotal: 2m 33s\tremaining: 8m 23s\n",
            "234:\tlearn: 0.3605703\ttest: 0.2887517\tbest: 0.2887517 (234)\ttotal: 2m 34s\tremaining: 8m 22s\n",
            "235:\tlearn: 0.3605100\ttest: 0.2887669\tbest: 0.2887517 (234)\ttotal: 2m 34s\tremaining: 8m 21s\n",
            "236:\tlearn: 0.3601599\ttest: 0.2885322\tbest: 0.2885322 (236)\ttotal: 2m 35s\tremaining: 8m 20s\n",
            "237:\tlearn: 0.3599546\ttest: 0.2884549\tbest: 0.2884549 (237)\ttotal: 2m 35s\tremaining: 8m 19s\n",
            "238:\tlearn: 0.3598084\ttest: 0.2886047\tbest: 0.2884549 (237)\ttotal: 2m 36s\tremaining: 8m 18s\n",
            "239:\tlearn: 0.3593919\ttest: 0.2883297\tbest: 0.2883297 (239)\ttotal: 2m 37s\tremaining: 8m 17s\n",
            "240:\tlearn: 0.3590832\ttest: 0.2882049\tbest: 0.2882049 (240)\ttotal: 2m 37s\tremaining: 8m 16s\n",
            "241:\tlearn: 0.3589410\ttest: 0.2881686\tbest: 0.2881686 (241)\ttotal: 2m 38s\tremaining: 8m 15s\n",
            "242:\tlearn: 0.3585302\ttest: 0.2879801\tbest: 0.2879801 (242)\ttotal: 2m 38s\tremaining: 8m 14s\n",
            "243:\tlearn: 0.3582817\ttest: 0.2878639\tbest: 0.2878639 (243)\ttotal: 2m 39s\tremaining: 8m 13s\n",
            "244:\tlearn: 0.3580918\ttest: 0.2880454\tbest: 0.2878639 (243)\ttotal: 2m 39s\tremaining: 8m 12s\n",
            "245:\tlearn: 0.3579716\ttest: 0.2881086\tbest: 0.2878639 (243)\ttotal: 2m 40s\tremaining: 8m 11s\n",
            "246:\tlearn: 0.3578229\ttest: 0.2880706\tbest: 0.2878639 (243)\ttotal: 2m 40s\tremaining: 8m 10s\n",
            "247:\tlearn: 0.3577376\ttest: 0.2880760\tbest: 0.2878639 (243)\ttotal: 2m 41s\tremaining: 8m 9s\n",
            "248:\tlearn: 0.3573919\ttest: 0.2875573\tbest: 0.2875573 (248)\ttotal: 2m 42s\tremaining: 8m 8s\n",
            "249:\tlearn: 0.3569214\ttest: 0.2868612\tbest: 0.2868612 (249)\ttotal: 2m 42s\tremaining: 8m 7s\n",
            "250:\tlearn: 0.3568323\ttest: 0.2868694\tbest: 0.2868612 (249)\ttotal: 2m 43s\tremaining: 8m 8s\n",
            "251:\tlearn: 0.3562288\ttest: 0.2863228\tbest: 0.2863228 (251)\ttotal: 2m 44s\tremaining: 8m 8s\n",
            "252:\tlearn: 0.3560968\ttest: 0.2863138\tbest: 0.2863138 (252)\ttotal: 2m 45s\tremaining: 8m 9s\n",
            "253:\tlearn: 0.3560273\ttest: 0.2863247\tbest: 0.2863138 (252)\ttotal: 2m 46s\tremaining: 8m 9s\n",
            "254:\tlearn: 0.3558313\ttest: 0.2861383\tbest: 0.2861383 (254)\ttotal: 2m 47s\tremaining: 8m 8s\n",
            "255:\tlearn: 0.3556383\ttest: 0.2861000\tbest: 0.2861000 (255)\ttotal: 2m 47s\tremaining: 8m 7s\n",
            "256:\tlearn: 0.3554199\ttest: 0.2858922\tbest: 0.2858922 (256)\ttotal: 2m 48s\tremaining: 8m 6s\n",
            "257:\tlearn: 0.3550548\ttest: 0.2856985\tbest: 0.2856985 (257)\ttotal: 2m 48s\tremaining: 8m 5s\n",
            "258:\tlearn: 0.3537977\ttest: 0.2823251\tbest: 0.2823251 (258)\ttotal: 2m 49s\tremaining: 8m 4s\n",
            "259:\tlearn: 0.3535622\ttest: 0.2822941\tbest: 0.2822941 (259)\ttotal: 2m 50s\tremaining: 8m 4s\n",
            "260:\tlearn: 0.3522070\ttest: 0.2805603\tbest: 0.2805603 (260)\ttotal: 2m 50s\tremaining: 8m 3s\n",
            "261:\tlearn: 0.3520940\ttest: 0.2807335\tbest: 0.2805603 (260)\ttotal: 2m 51s\tremaining: 8m 2s\n",
            "262:\tlearn: 0.3519951\ttest: 0.2807541\tbest: 0.2805603 (260)\ttotal: 2m 51s\tremaining: 8m 1s\n",
            "263:\tlearn: 0.3518211\ttest: 0.2806838\tbest: 0.2805603 (260)\ttotal: 2m 52s\tremaining: 8m\n",
            "264:\tlearn: 0.3514055\ttest: 0.2801788\tbest: 0.2801788 (264)\ttotal: 2m 52s\tremaining: 7m 59s\n",
            "265:\tlearn: 0.3513488\ttest: 0.2801537\tbest: 0.2801537 (265)\ttotal: 2m 53s\tremaining: 7m 58s\n",
            "266:\tlearn: 0.3512385\ttest: 0.2801030\tbest: 0.2801030 (266)\ttotal: 2m 54s\tremaining: 7m 57s\n",
            "267:\tlearn: 0.3509843\ttest: 0.2799998\tbest: 0.2799998 (267)\ttotal: 2m 54s\tremaining: 7m 57s\n",
            "268:\tlearn: 0.3508228\ttest: 0.2799445\tbest: 0.2799445 (268)\ttotal: 2m 55s\tremaining: 7m 56s\n",
            "269:\tlearn: 0.3504711\ttest: 0.2796761\tbest: 0.2796761 (269)\ttotal: 2m 55s\tremaining: 7m 55s\n",
            "270:\tlearn: 0.3503175\ttest: 0.2796551\tbest: 0.2796551 (270)\ttotal: 2m 56s\tremaining: 7m 54s\n",
            "271:\tlearn: 0.3502290\ttest: 0.2796579\tbest: 0.2796551 (270)\ttotal: 2m 56s\tremaining: 7m 53s\n",
            "272:\tlearn: 0.3500938\ttest: 0.2793386\tbest: 0.2793386 (272)\ttotal: 2m 58s\tremaining: 7m 54s\n",
            "273:\tlearn: 0.3499565\ttest: 0.2793051\tbest: 0.2793051 (273)\ttotal: 2m 59s\tremaining: 7m 54s\n",
            "274:\tlearn: 0.3498196\ttest: 0.2793814\tbest: 0.2793051 (273)\ttotal: 3m\tremaining: 7m 55s\n",
            "275:\tlearn: 0.3496788\ttest: 0.2794066\tbest: 0.2793051 (273)\ttotal: 3m\tremaining: 7m 54s\n",
            "276:\tlearn: 0.3494923\ttest: 0.2793828\tbest: 0.2793051 (273)\ttotal: 3m 1s\tremaining: 7m 53s\n",
            "277:\tlearn: 0.3493192\ttest: 0.2792975\tbest: 0.2792975 (277)\ttotal: 3m 2s\tremaining: 7m 52s\n",
            "278:\tlearn: 0.3492801\ttest: 0.2792957\tbest: 0.2792957 (278)\ttotal: 3m 2s\tremaining: 7m 51s\n",
            "279:\tlearn: 0.3490919\ttest: 0.2790321\tbest: 0.2790321 (279)\ttotal: 3m 3s\tremaining: 7m 51s\n",
            "280:\tlearn: 0.3489620\ttest: 0.2790365\tbest: 0.2790321 (279)\ttotal: 3m 3s\tremaining: 7m 50s\n",
            "281:\tlearn: 0.3481648\ttest: 0.2779653\tbest: 0.2779653 (281)\ttotal: 3m 4s\tremaining: 7m 49s\n",
            "282:\tlearn: 0.3475077\ttest: 0.2770815\tbest: 0.2770815 (282)\ttotal: 3m 5s\tremaining: 7m 48s\n",
            "283:\tlearn: 0.3474656\ttest: 0.2770754\tbest: 0.2770754 (283)\ttotal: 3m 5s\tremaining: 7m 47s\n",
            "284:\tlearn: 0.3471186\ttest: 0.2768545\tbest: 0.2768545 (284)\ttotal: 3m 6s\tremaining: 7m 47s\n",
            "285:\tlearn: 0.3470228\ttest: 0.2768503\tbest: 0.2768503 (285)\ttotal: 3m 6s\tremaining: 7m 46s\n",
            "286:\tlearn: 0.3463048\ttest: 0.2761149\tbest: 0.2761149 (286)\ttotal: 3m 7s\tremaining: 7m 45s\n",
            "287:\tlearn: 0.3461456\ttest: 0.2761353\tbest: 0.2761149 (286)\ttotal: 3m 7s\tremaining: 7m 44s\n",
            "288:\tlearn: 0.3459002\ttest: 0.2759225\tbest: 0.2759225 (288)\ttotal: 3m 8s\tremaining: 7m 43s\n",
            "289:\tlearn: 0.3457622\ttest: 0.2759162\tbest: 0.2759162 (289)\ttotal: 3m 8s\tremaining: 7m 42s\n",
            "290:\tlearn: 0.3455932\ttest: 0.2759135\tbest: 0.2759135 (290)\ttotal: 3m 9s\tremaining: 7m 41s\n",
            "291:\tlearn: 0.3455144\ttest: 0.2759231\tbest: 0.2759135 (290)\ttotal: 3m 10s\tremaining: 7m 40s\n",
            "292:\tlearn: 0.3453893\ttest: 0.2758407\tbest: 0.2758407 (292)\ttotal: 3m 10s\tremaining: 7m 39s\n",
            "293:\tlearn: 0.3447501\ttest: 0.2744881\tbest: 0.2744881 (293)\ttotal: 3m 11s\tremaining: 7m 39s\n",
            "294:\tlearn: 0.3446559\ttest: 0.2744333\tbest: 0.2744333 (294)\ttotal: 3m 12s\tremaining: 7m 39s\n",
            "295:\tlearn: 0.3445158\ttest: 0.2744322\tbest: 0.2744322 (295)\ttotal: 3m 13s\tremaining: 7m 40s\n",
            "296:\tlearn: 0.3443852\ttest: 0.2744337\tbest: 0.2744322 (295)\ttotal: 3m 14s\tremaining: 7m 40s\n",
            "297:\tlearn: 0.3442526\ttest: 0.2745680\tbest: 0.2744322 (295)\ttotal: 3m 15s\tremaining: 7m 39s\n",
            "298:\tlearn: 0.3436918\ttest: 0.2732220\tbest: 0.2732220 (298)\ttotal: 3m 15s\tremaining: 7m 39s\n",
            "299:\tlearn: 0.3435692\ttest: 0.2731334\tbest: 0.2731334 (299)\ttotal: 3m 16s\tremaining: 7m 38s\n",
            "300:\tlearn: 0.3434564\ttest: 0.2731326\tbest: 0.2731326 (300)\ttotal: 3m 16s\tremaining: 7m 37s\n",
            "301:\tlearn: 0.3434121\ttest: 0.2731344\tbest: 0.2731326 (300)\ttotal: 3m 17s\tremaining: 7m 35s\n",
            "302:\tlearn: 0.3433690\ttest: 0.2731355\tbest: 0.2731326 (300)\ttotal: 3m 17s\tremaining: 7m 34s\n",
            "303:\tlearn: 0.3433439\ttest: 0.2731437\tbest: 0.2731326 (300)\ttotal: 3m 18s\tremaining: 7m 33s\n",
            "304:\tlearn: 0.3432556\ttest: 0.2731226\tbest: 0.2731226 (304)\ttotal: 3m 18s\tremaining: 7m 32s\n",
            "305:\tlearn: 0.3432132\ttest: 0.2731182\tbest: 0.2731182 (305)\ttotal: 3m 19s\tremaining: 7m 31s\n",
            "306:\tlearn: 0.3429097\ttest: 0.2729608\tbest: 0.2729608 (306)\ttotal: 3m 19s\tremaining: 7m 30s\n",
            "307:\tlearn: 0.3428727\ttest: 0.2729516\tbest: 0.2729516 (307)\ttotal: 3m 20s\tremaining: 7m 30s\n",
            "308:\tlearn: 0.3426800\ttest: 0.2727359\tbest: 0.2727359 (308)\ttotal: 3m 20s\tremaining: 7m 29s\n",
            "309:\tlearn: 0.3425546\ttest: 0.2726715\tbest: 0.2726715 (309)\ttotal: 3m 21s\tremaining: 7m 28s\n",
            "310:\tlearn: 0.3424914\ttest: 0.2726722\tbest: 0.2726715 (309)\ttotal: 3m 22s\tremaining: 7m 27s\n",
            "311:\tlearn: 0.3416826\ttest: 0.2710489\tbest: 0.2710489 (311)\ttotal: 3m 22s\tremaining: 7m 27s\n",
            "312:\tlearn: 0.3415834\ttest: 0.2710547\tbest: 0.2710489 (311)\ttotal: 3m 23s\tremaining: 7m 26s\n",
            "313:\tlearn: 0.3414328\ttest: 0.2711071\tbest: 0.2710489 (311)\ttotal: 3m 23s\tremaining: 7m 25s\n",
            "314:\tlearn: 0.3405220\ttest: 0.2701177\tbest: 0.2701177 (314)\ttotal: 3m 24s\tremaining: 7m 24s\n",
            "315:\tlearn: 0.3401894\ttest: 0.2699131\tbest: 0.2699131 (315)\ttotal: 3m 25s\tremaining: 7m 24s\n",
            "316:\tlearn: 0.3401448\ttest: 0.2699003\tbest: 0.2699003 (316)\ttotal: 3m 26s\tremaining: 7m 24s\n",
            "317:\tlearn: 0.3400638\ttest: 0.2698778\tbest: 0.2698778 (317)\ttotal: 3m 27s\tremaining: 7m 24s\n",
            "318:\tlearn: 0.3399575\ttest: 0.2698421\tbest: 0.2698421 (318)\ttotal: 3m 28s\tremaining: 7m 24s\n",
            "319:\tlearn: 0.3399264\ttest: 0.2698481\tbest: 0.2698421 (318)\ttotal: 3m 29s\tremaining: 7m 24s\n",
            "320:\tlearn: 0.3398747\ttest: 0.2700252\tbest: 0.2698421 (318)\ttotal: 3m 29s\tremaining: 7m 23s\n",
            "321:\tlearn: 0.3398612\ttest: 0.2700174\tbest: 0.2698421 (318)\ttotal: 3m 30s\tremaining: 7m 22s\n",
            "322:\tlearn: 0.3397736\ttest: 0.2700345\tbest: 0.2698421 (318)\ttotal: 3m 30s\tremaining: 7m 21s\n",
            "323:\tlearn: 0.3396349\ttest: 0.2700308\tbest: 0.2698421 (318)\ttotal: 3m 31s\tremaining: 7m 20s\n",
            "324:\tlearn: 0.3395501\ttest: 0.2700170\tbest: 0.2698421 (318)\ttotal: 3m 31s\tremaining: 7m 19s\n",
            "325:\tlearn: 0.3394800\ttest: 0.2700127\tbest: 0.2698421 (318)\ttotal: 3m 32s\tremaining: 7m 19s\n",
            "326:\tlearn: 0.3394360\ttest: 0.2700191\tbest: 0.2698421 (318)\ttotal: 3m 32s\tremaining: 7m 18s\n",
            "327:\tlearn: 0.3392864\ttest: 0.2699462\tbest: 0.2698421 (318)\ttotal: 3m 33s\tremaining: 7m 17s\n",
            "328:\tlearn: 0.3391191\ttest: 0.2699864\tbest: 0.2698421 (318)\ttotal: 3m 34s\tremaining: 7m 16s\n",
            "329:\tlearn: 0.3390567\ttest: 0.2699588\tbest: 0.2698421 (318)\ttotal: 3m 34s\tremaining: 7m 15s\n",
            "330:\tlearn: 0.3389000\ttest: 0.2700074\tbest: 0.2698421 (318)\ttotal: 3m 34s\tremaining: 7m 14s\n",
            "331:\tlearn: 0.3387873\ttest: 0.2699987\tbest: 0.2698421 (318)\ttotal: 3m 35s\tremaining: 7m 13s\n",
            "332:\tlearn: 0.3387048\ttest: 0.2700133\tbest: 0.2698421 (318)\ttotal: 3m 35s\tremaining: 7m 12s\n",
            "333:\tlearn: 0.3383448\ttest: 0.2695480\tbest: 0.2695480 (333)\ttotal: 3m 36s\tremaining: 7m 11s\n",
            "334:\tlearn: 0.3383251\ttest: 0.2695524\tbest: 0.2695480 (333)\ttotal: 3m 36s\tremaining: 7m 10s\n",
            "335:\tlearn: 0.3381681\ttest: 0.2695205\tbest: 0.2695205 (335)\ttotal: 3m 37s\tremaining: 7m 9s\n",
            "336:\tlearn: 0.3380287\ttest: 0.2695441\tbest: 0.2695205 (335)\ttotal: 3m 38s\tremaining: 7m 9s\n",
            "337:\tlearn: 0.3379357\ttest: 0.2695611\tbest: 0.2695205 (335)\ttotal: 3m 38s\tremaining: 7m 8s\n",
            "338:\tlearn: 0.3377493\ttest: 0.2690381\tbest: 0.2690381 (338)\ttotal: 3m 39s\tremaining: 7m 8s\n",
            "339:\tlearn: 0.3373527\ttest: 0.2687786\tbest: 0.2687786 (339)\ttotal: 3m 40s\tremaining: 7m 8s\n",
            "340:\tlearn: 0.3372088\ttest: 0.2687460\tbest: 0.2687460 (340)\ttotal: 3m 41s\tremaining: 7m 8s\n",
            "341:\tlearn: 0.3371859\ttest: 0.2687438\tbest: 0.2687438 (341)\ttotal: 3m 42s\tremaining: 7m 8s\n",
            "342:\tlearn: 0.3371276\ttest: 0.2687287\tbest: 0.2687287 (342)\ttotal: 3m 43s\tremaining: 7m 8s\n",
            "343:\tlearn: 0.3370349\ttest: 0.2687249\tbest: 0.2687249 (343)\ttotal: 3m 44s\tremaining: 7m 7s\n",
            "344:\tlearn: 0.3368756\ttest: 0.2686610\tbest: 0.2686610 (344)\ttotal: 3m 44s\tremaining: 7m 6s\n",
            "345:\tlearn: 0.3364927\ttest: 0.2680337\tbest: 0.2680337 (345)\ttotal: 3m 45s\tremaining: 7m 5s\n",
            "346:\tlearn: 0.3360479\ttest: 0.2670088\tbest: 0.2670088 (346)\ttotal: 3m 45s\tremaining: 7m 5s\n",
            "347:\tlearn: 0.3356991\ttest: 0.2666654\tbest: 0.2666654 (347)\ttotal: 3m 46s\tremaining: 7m 4s\n",
            "348:\tlearn: 0.3356563\ttest: 0.2666775\tbest: 0.2666654 (347)\ttotal: 3m 47s\tremaining: 7m 3s\n",
            "349:\tlearn: 0.3352612\ttest: 0.2663524\tbest: 0.2663524 (349)\ttotal: 3m 47s\tremaining: 7m 2s\n",
            "350:\tlearn: 0.3350198\ttest: 0.2661121\tbest: 0.2661121 (350)\ttotal: 3m 48s\tremaining: 7m 2s\n",
            "351:\tlearn: 0.3348843\ttest: 0.2660420\tbest: 0.2660420 (351)\ttotal: 3m 48s\tremaining: 7m 1s\n",
            "352:\tlearn: 0.3347965\ttest: 0.2660521\tbest: 0.2660420 (351)\ttotal: 3m 49s\tremaining: 7m\n",
            "353:\tlearn: 0.3347635\ttest: 0.2660563\tbest: 0.2660420 (351)\ttotal: 3m 49s\tremaining: 6m 59s\n",
            "354:\tlearn: 0.3346808\ttest: 0.2660404\tbest: 0.2660404 (354)\ttotal: 3m 50s\tremaining: 6m 58s\n",
            "355:\tlearn: 0.3346168\ttest: 0.2659841\tbest: 0.2659841 (355)\ttotal: 3m 51s\tremaining: 6m 57s\n",
            "356:\tlearn: 0.3345191\ttest: 0.2660528\tbest: 0.2659841 (355)\ttotal: 3m 51s\tremaining: 6m 57s\n",
            "357:\tlearn: 0.3344234\ttest: 0.2660709\tbest: 0.2659841 (355)\ttotal: 3m 52s\tremaining: 6m 56s\n",
            "358:\tlearn: 0.3343043\ttest: 0.2660244\tbest: 0.2659841 (355)\ttotal: 3m 52s\tremaining: 6m 55s\n",
            "359:\tlearn: 0.3341963\ttest: 0.2660404\tbest: 0.2659841 (355)\ttotal: 3m 53s\tremaining: 6m 54s\n",
            "360:\tlearn: 0.3341189\ttest: 0.2660571\tbest: 0.2659841 (355)\ttotal: 3m 53s\tremaining: 6m 53s\n",
            "361:\tlearn: 0.3340622\ttest: 0.2660640\tbest: 0.2659841 (355)\ttotal: 3m 54s\tremaining: 6m 53s\n",
            "362:\tlearn: 0.3336636\ttest: 0.2652359\tbest: 0.2652359 (362)\ttotal: 3m 55s\tremaining: 6m 53s\n",
            "363:\tlearn: 0.3335491\ttest: 0.2652571\tbest: 0.2652359 (362)\ttotal: 3m 56s\tremaining: 6m 54s\n",
            "364:\tlearn: 0.3332944\ttest: 0.2651049\tbest: 0.2651049 (364)\ttotal: 3m 57s\tremaining: 6m 53s\n",
            "365:\tlearn: 0.3332034\ttest: 0.2651755\tbest: 0.2651049 (364)\ttotal: 3m 58s\tremaining: 6m 52s\n",
            "366:\tlearn: 0.3331471\ttest: 0.2651838\tbest: 0.2651049 (364)\ttotal: 3m 58s\tremaining: 6m 51s\n",
            "367:\tlearn: 0.3327259\ttest: 0.2648520\tbest: 0.2648520 (367)\ttotal: 3m 59s\tremaining: 6m 51s\n",
            "368:\tlearn: 0.3326327\ttest: 0.2649888\tbest: 0.2648520 (367)\ttotal: 3m 59s\tremaining: 6m 50s\n",
            "369:\tlearn: 0.3325059\ttest: 0.2649475\tbest: 0.2648520 (367)\ttotal: 4m\tremaining: 6m 49s\n",
            "370:\tlearn: 0.3321153\ttest: 0.2645603\tbest: 0.2645603 (370)\ttotal: 4m\tremaining: 6m 48s\n",
            "371:\tlearn: 0.3319027\ttest: 0.2644321\tbest: 0.2644321 (371)\ttotal: 4m 1s\tremaining: 6m 47s\n",
            "372:\tlearn: 0.3318131\ttest: 0.2643692\tbest: 0.2643692 (372)\ttotal: 4m 2s\tremaining: 6m 47s\n",
            "373:\tlearn: 0.3316519\ttest: 0.2644025\tbest: 0.2643692 (372)\ttotal: 4m 2s\tremaining: 6m 46s\n",
            "374:\tlearn: 0.3315994\ttest: 0.2644144\tbest: 0.2643692 (372)\ttotal: 4m 3s\tremaining: 6m 45s\n",
            "375:\tlearn: 0.3315222\ttest: 0.2643777\tbest: 0.2643692 (372)\ttotal: 4m 3s\tremaining: 6m 44s\n",
            "376:\tlearn: 0.3314905\ttest: 0.2643856\tbest: 0.2643692 (372)\ttotal: 4m 4s\tremaining: 6m 43s\n",
            "377:\tlearn: 0.3314635\ttest: 0.2643924\tbest: 0.2643692 (372)\ttotal: 4m 4s\tremaining: 6m 42s\n",
            "378:\tlearn: 0.3313334\ttest: 0.2643628\tbest: 0.2643628 (378)\ttotal: 4m 5s\tremaining: 6m 41s\n",
            "379:\tlearn: 0.3310843\ttest: 0.2640835\tbest: 0.2640835 (379)\ttotal: 4m 5s\tremaining: 6m 41s\n",
            "380:\tlearn: 0.3309965\ttest: 0.2640966\tbest: 0.2640835 (379)\ttotal: 4m 6s\tremaining: 6m 40s\n",
            "381:\tlearn: 0.3309440\ttest: 0.2641102\tbest: 0.2640835 (379)\ttotal: 4m 7s\tremaining: 6m 39s\n",
            "382:\tlearn: 0.3309021\ttest: 0.2641147\tbest: 0.2640835 (379)\ttotal: 4m 7s\tremaining: 6m 38s\n",
            "383:\tlearn: 0.3308078\ttest: 0.2641030\tbest: 0.2640835 (379)\ttotal: 4m 8s\tremaining: 6m 38s\n",
            "384:\tlearn: 0.3307306\ttest: 0.2640796\tbest: 0.2640796 (384)\ttotal: 4m 9s\tremaining: 6m 38s\n",
            "385:\tlearn: 0.3306940\ttest: 0.2640285\tbest: 0.2640285 (385)\ttotal: 4m 10s\tremaining: 6m 38s\n",
            "386:\tlearn: 0.3306207\ttest: 0.2640343\tbest: 0.2640285 (385)\ttotal: 4m 11s\tremaining: 6m 37s\n",
            "387:\tlearn: 0.3301598\ttest: 0.2635612\tbest: 0.2635612 (387)\ttotal: 4m 11s\tremaining: 6m 37s\n",
            "388:\tlearn: 0.3300918\ttest: 0.2635582\tbest: 0.2635582 (388)\ttotal: 4m 12s\tremaining: 6m 36s\n",
            "389:\tlearn: 0.3299760\ttest: 0.2635292\tbest: 0.2635292 (389)\ttotal: 4m 12s\tremaining: 6m 35s\n",
            "390:\tlearn: 0.3297920\ttest: 0.2634324\tbest: 0.2634324 (390)\ttotal: 4m 13s\tremaining: 6m 35s\n",
            "391:\tlearn: 0.3295061\ttest: 0.2631810\tbest: 0.2631810 (391)\ttotal: 4m 14s\tremaining: 6m 34s\n",
            "392:\tlearn: 0.3294256\ttest: 0.2631930\tbest: 0.2631810 (391)\ttotal: 4m 14s\tremaining: 6m 33s\n",
            "393:\tlearn: 0.3293614\ttest: 0.2631702\tbest: 0.2631702 (393)\ttotal: 4m 15s\tremaining: 6m 32s\n",
            "394:\tlearn: 0.3293304\ttest: 0.2631534\tbest: 0.2631534 (394)\ttotal: 4m 15s\tremaining: 6m 31s\n",
            "395:\tlearn: 0.3292276\ttest: 0.2629950\tbest: 0.2629950 (395)\ttotal: 4m 16s\tremaining: 6m 30s\n",
            "396:\tlearn: 0.3291693\ttest: 0.2629962\tbest: 0.2629950 (395)\ttotal: 4m 16s\tremaining: 6m 30s\n",
            "397:\tlearn: 0.3290770\ttest: 0.2629894\tbest: 0.2629894 (397)\ttotal: 4m 17s\tremaining: 6m 29s\n",
            "398:\tlearn: 0.3290045\ttest: 0.2630016\tbest: 0.2629894 (397)\ttotal: 4m 18s\tremaining: 6m 28s\n",
            "399:\tlearn: 0.3289349\ttest: 0.2630173\tbest: 0.2629894 (397)\ttotal: 4m 18s\tremaining: 6m 27s\n",
            "400:\tlearn: 0.3288273\ttest: 0.2630995\tbest: 0.2629894 (397)\ttotal: 4m 19s\tremaining: 6m 27s\n",
            "401:\tlearn: 0.3288110\ttest: 0.2631032\tbest: 0.2629894 (397)\ttotal: 4m 19s\tremaining: 6m 26s\n",
            "402:\tlearn: 0.3285501\ttest: 0.2629831\tbest: 0.2629831 (402)\ttotal: 4m 20s\tremaining: 6m 25s\n",
            "403:\tlearn: 0.3284676\ttest: 0.2629680\tbest: 0.2629680 (403)\ttotal: 4m 20s\tremaining: 6m 24s\n",
            "404:\tlearn: 0.3283405\ttest: 0.2629342\tbest: 0.2629342 (404)\ttotal: 4m 21s\tremaining: 6m 24s\n",
            "405:\tlearn: 0.3281986\ttest: 0.2629305\tbest: 0.2629305 (405)\ttotal: 4m 22s\tremaining: 6m 23s\n",
            "406:\tlearn: 0.3280634\ttest: 0.2629298\tbest: 0.2629298 (406)\ttotal: 4m 23s\tremaining: 6m 23s\n",
            "407:\tlearn: 0.3279754\ttest: 0.2628778\tbest: 0.2628778 (407)\ttotal: 4m 24s\tremaining: 6m 23s\n",
            "408:\tlearn: 0.3277699\ttest: 0.2628115\tbest: 0.2628115 (408)\ttotal: 4m 25s\tremaining: 6m 23s\n",
            "409:\tlearn: 0.3275656\ttest: 0.2628838\tbest: 0.2628115 (408)\ttotal: 4m 26s\tremaining: 6m 22s\n",
            "410:\tlearn: 0.3274532\ttest: 0.2629149\tbest: 0.2628115 (408)\ttotal: 4m 26s\tremaining: 6m 21s\n",
            "411:\tlearn: 0.3273398\ttest: 0.2629151\tbest: 0.2628115 (408)\ttotal: 4m 27s\tremaining: 6m 21s\n",
            "412:\tlearn: 0.3272748\ttest: 0.2629302\tbest: 0.2628115 (408)\ttotal: 4m 27s\tremaining: 6m 20s\n",
            "413:\tlearn: 0.3271970\ttest: 0.2629362\tbest: 0.2628115 (408)\ttotal: 4m 28s\tremaining: 6m 19s\n",
            "414:\tlearn: 0.3271242\ttest: 0.2629491\tbest: 0.2628115 (408)\ttotal: 4m 28s\tremaining: 6m 18s\n",
            "415:\tlearn: 0.3270749\ttest: 0.2629398\tbest: 0.2628115 (408)\ttotal: 4m 29s\tremaining: 6m 18s\n",
            "416:\tlearn: 0.3269861\ttest: 0.2628288\tbest: 0.2628115 (408)\ttotal: 4m 30s\tremaining: 6m 17s\n",
            "417:\tlearn: 0.3269107\ttest: 0.2628148\tbest: 0.2628115 (408)\ttotal: 4m 30s\tremaining: 6m 16s\n",
            "418:\tlearn: 0.3267442\ttest: 0.2627224\tbest: 0.2627224 (418)\ttotal: 4m 31s\tremaining: 6m 16s\n",
            "419:\tlearn: 0.3267138\ttest: 0.2627315\tbest: 0.2627224 (418)\ttotal: 4m 31s\tremaining: 6m 15s\n",
            "420:\tlearn: 0.3265606\ttest: 0.2627239\tbest: 0.2627224 (418)\ttotal: 4m 32s\tremaining: 6m 14s\n",
            "421:\tlearn: 0.3265290\ttest: 0.2627380\tbest: 0.2627224 (418)\ttotal: 4m 32s\tremaining: 6m 13s\n",
            "422:\tlearn: 0.3262649\ttest: 0.2624095\tbest: 0.2624095 (422)\ttotal: 4m 33s\tremaining: 6m 13s\n",
            "423:\tlearn: 0.3262165\ttest: 0.2624002\tbest: 0.2624002 (423)\ttotal: 4m 34s\tremaining: 6m 12s\n",
            "424:\tlearn: 0.3260744\ttest: 0.2624348\tbest: 0.2624002 (423)\ttotal: 4m 34s\tremaining: 6m 11s\n",
            "425:\tlearn: 0.3259898\ttest: 0.2624216\tbest: 0.2624002 (423)\ttotal: 4m 35s\tremaining: 6m 10s\n",
            "426:\tlearn: 0.3258407\ttest: 0.2623952\tbest: 0.2623952 (426)\ttotal: 4m 35s\tremaining: 6m 10s\n",
            "427:\tlearn: 0.3258059\ttest: 0.2624435\tbest: 0.2623952 (426)\ttotal: 4m 36s\tremaining: 6m 9s\n",
            "428:\tlearn: 0.3256647\ttest: 0.2623957\tbest: 0.2623952 (426)\ttotal: 4m 37s\tremaining: 6m 9s\n",
            "429:\tlearn: 0.3254939\ttest: 0.2622744\tbest: 0.2622744 (429)\ttotal: 4m 38s\tremaining: 6m 8s\n",
            "430:\tlearn: 0.3254576\ttest: 0.2622745\tbest: 0.2622744 (429)\ttotal: 4m 39s\tremaining: 6m 8s\n",
            "431:\tlearn: 0.3254015\ttest: 0.2621916\tbest: 0.2621916 (431)\ttotal: 4m 40s\tremaining: 6m 8s\n",
            "432:\tlearn: 0.3251643\ttest: 0.2620699\tbest: 0.2620699 (432)\ttotal: 4m 40s\tremaining: 6m 7s\n",
            "433:\tlearn: 0.3251260\ttest: 0.2620635\tbest: 0.2620635 (433)\ttotal: 4m 41s\tremaining: 6m 6s\n",
            "434:\tlearn: 0.3250712\ttest: 0.2620687\tbest: 0.2620635 (433)\ttotal: 4m 41s\tremaining: 6m 6s\n",
            "435:\tlearn: 0.3248421\ttest: 0.2616046\tbest: 0.2616046 (435)\ttotal: 4m 42s\tremaining: 6m 5s\n",
            "436:\tlearn: 0.3247079\ttest: 0.2614655\tbest: 0.2614655 (436)\ttotal: 4m 43s\tremaining: 6m 4s\n",
            "437:\tlearn: 0.3242108\ttest: 0.2610344\tbest: 0.2610344 (437)\ttotal: 4m 43s\tremaining: 6m 3s\n",
            "438:\tlearn: 0.3241351\ttest: 0.2609941\tbest: 0.2609941 (438)\ttotal: 4m 44s\tremaining: 6m 3s\n",
            "439:\tlearn: 0.3240887\ttest: 0.2610000\tbest: 0.2609941 (438)\ttotal: 4m 44s\tremaining: 6m 2s\n",
            "440:\tlearn: 0.3239168\ttest: 0.2610234\tbest: 0.2609941 (438)\ttotal: 4m 45s\tremaining: 6m 1s\n",
            "441:\tlearn: 0.3238019\ttest: 0.2609933\tbest: 0.2609933 (441)\ttotal: 4m 45s\tremaining: 6m\n",
            "442:\tlearn: 0.3236777\ttest: 0.2608911\tbest: 0.2608911 (442)\ttotal: 4m 46s\tremaining: 5m 59s\n",
            "443:\tlearn: 0.3235347\ttest: 0.2607302\tbest: 0.2607302 (443)\ttotal: 4m 46s\tremaining: 5m 59s\n",
            "444:\tlearn: 0.3234782\ttest: 0.2607302\tbest: 0.2607302 (444)\ttotal: 4m 47s\tremaining: 5m 58s\n",
            "445:\tlearn: 0.3233350\ttest: 0.2606864\tbest: 0.2606864 (445)\ttotal: 4m 47s\tremaining: 5m 57s\n",
            "446:\tlearn: 0.3232976\ttest: 0.2606926\tbest: 0.2606864 (445)\ttotal: 4m 48s\tremaining: 5m 56s\n",
            "447:\tlearn: 0.3229621\ttest: 0.2605356\tbest: 0.2605356 (447)\ttotal: 4m 49s\tremaining: 5m 56s\n",
            "448:\tlearn: 0.3228954\ttest: 0.2604596\tbest: 0.2604596 (448)\ttotal: 4m 49s\tremaining: 5m 55s\n",
            "449:\tlearn: 0.3227818\ttest: 0.2605436\tbest: 0.2604596 (448)\ttotal: 4m 50s\tremaining: 5m 54s\n",
            "450:\tlearn: 0.3226606\ttest: 0.2604951\tbest: 0.2604596 (448)\ttotal: 4m 51s\tremaining: 5m 54s\n",
            "451:\tlearn: 0.3226108\ttest: 0.2604792\tbest: 0.2604596 (448)\ttotal: 4m 52s\tremaining: 5m 54s\n",
            "452:\tlearn: 0.3225624\ttest: 0.2604849\tbest: 0.2604596 (448)\ttotal: 4m 53s\tremaining: 5m 53s\n",
            "453:\tlearn: 0.3223757\ttest: 0.2603661\tbest: 0.2603661 (453)\ttotal: 4m 54s\tremaining: 5m 53s\n",
            "454:\tlearn: 0.3222591\ttest: 0.2604102\tbest: 0.2603661 (453)\ttotal: 4m 54s\tremaining: 5m 53s\n",
            "455:\tlearn: 0.3221073\ttest: 0.2605015\tbest: 0.2603661 (453)\ttotal: 4m 55s\tremaining: 5m 52s\n",
            "456:\tlearn: 0.3220296\ttest: 0.2605103\tbest: 0.2603661 (453)\ttotal: 4m 55s\tremaining: 5m 51s\n",
            "457:\tlearn: 0.3219738\ttest: 0.2605145\tbest: 0.2603661 (453)\ttotal: 4m 56s\tremaining: 5m 50s\n",
            "458:\tlearn: 0.3217867\ttest: 0.2603782\tbest: 0.2603661 (453)\ttotal: 4m 57s\tremaining: 5m 50s\n",
            "459:\tlearn: 0.3214879\ttest: 0.2598728\tbest: 0.2598728 (459)\ttotal: 4m 57s\tremaining: 5m 49s\n",
            "460:\tlearn: 0.3213299\ttest: 0.2598085\tbest: 0.2598085 (460)\ttotal: 4m 58s\tremaining: 5m 48s\n",
            "461:\tlearn: 0.3212653\ttest: 0.2597975\tbest: 0.2597975 (461)\ttotal: 4m 58s\tremaining: 5m 48s\n",
            "462:\tlearn: 0.3211838\ttest: 0.2598299\tbest: 0.2597975 (461)\ttotal: 4m 59s\tremaining: 5m 47s\n",
            "463:\tlearn: 0.3210422\ttest: 0.2597942\tbest: 0.2597942 (463)\ttotal: 5m\tremaining: 5m 46s\n",
            "464:\tlearn: 0.3208427\ttest: 0.2596928\tbest: 0.2596928 (464)\ttotal: 5m\tremaining: 5m 45s\n",
            "465:\tlearn: 0.3207248\ttest: 0.2597036\tbest: 0.2596928 (464)\ttotal: 5m 1s\tremaining: 5m 45s\n",
            "466:\tlearn: 0.3202547\ttest: 0.2592096\tbest: 0.2592096 (466)\ttotal: 5m 1s\tremaining: 5m 44s\n",
            "467:\tlearn: 0.3202103\ttest: 0.2592100\tbest: 0.2592096 (466)\ttotal: 5m 2s\tremaining: 5m 43s\n",
            "468:\tlearn: 0.3200984\ttest: 0.2592175\tbest: 0.2592096 (466)\ttotal: 5m 2s\tremaining: 5m 42s\n",
            "469:\tlearn: 0.3199600\ttest: 0.2591785\tbest: 0.2591785 (469)\ttotal: 5m 3s\tremaining: 5m 42s\n",
            "470:\tlearn: 0.3198758\ttest: 0.2591996\tbest: 0.2591785 (469)\ttotal: 5m 4s\tremaining: 5m 41s\n",
            "471:\tlearn: 0.3197430\ttest: 0.2591854\tbest: 0.2591785 (469)\ttotal: 5m 4s\tremaining: 5m 41s\n",
            "472:\tlearn: 0.3196651\ttest: 0.2592018\tbest: 0.2591785 (469)\ttotal: 5m 5s\tremaining: 5m 40s\n",
            "473:\tlearn: 0.3195406\ttest: 0.2591956\tbest: 0.2591785 (469)\ttotal: 5m 7s\tremaining: 5m 40s\n",
            "474:\tlearn: 0.3192241\ttest: 0.2591751\tbest: 0.2591751 (474)\ttotal: 5m 7s\tremaining: 5m 40s\n",
            "475:\tlearn: 0.3190442\ttest: 0.2591381\tbest: 0.2591381 (475)\ttotal: 5m 8s\tremaining: 5m 40s\n",
            "476:\tlearn: 0.3188087\ttest: 0.2590682\tbest: 0.2590682 (476)\ttotal: 5m 9s\tremaining: 5m 39s\n",
            "477:\tlearn: 0.3187637\ttest: 0.2590743\tbest: 0.2590682 (476)\ttotal: 5m 10s\tremaining: 5m 38s\n",
            "478:\tlearn: 0.3186504\ttest: 0.2590459\tbest: 0.2590459 (478)\ttotal: 5m 10s\tremaining: 5m 37s\n",
            "479:\tlearn: 0.3186019\ttest: 0.2590378\tbest: 0.2590378 (479)\ttotal: 5m 11s\tremaining: 5m 37s\n",
            "480:\tlearn: 0.3185420\ttest: 0.2590441\tbest: 0.2590378 (479)\ttotal: 5m 11s\tremaining: 5m 36s\n",
            "481:\tlearn: 0.3184508\ttest: 0.2590046\tbest: 0.2590046 (481)\ttotal: 5m 12s\tremaining: 5m 35s\n",
            "482:\tlearn: 0.3183866\ttest: 0.2590265\tbest: 0.2590046 (481)\ttotal: 5m 12s\tremaining: 5m 34s\n",
            "483:\tlearn: 0.3183286\ttest: 0.2589736\tbest: 0.2589736 (483)\ttotal: 5m 13s\tremaining: 5m 34s\n",
            "484:\tlearn: 0.3181650\ttest: 0.2589960\tbest: 0.2589736 (483)\ttotal: 5m 14s\tremaining: 5m 33s\n",
            "485:\tlearn: 0.3180660\ttest: 0.2590280\tbest: 0.2589736 (483)\ttotal: 5m 14s\tremaining: 5m 32s\n",
            "486:\tlearn: 0.3179608\ttest: 0.2590212\tbest: 0.2589736 (483)\ttotal: 5m 15s\tremaining: 5m 32s\n",
            "487:\tlearn: 0.3176186\ttest: 0.2575622\tbest: 0.2575622 (487)\ttotal: 5m 15s\tremaining: 5m 31s\n",
            "488:\tlearn: 0.3175070\ttest: 0.2576499\tbest: 0.2575622 (487)\ttotal: 5m 16s\tremaining: 5m 30s\n",
            "489:\tlearn: 0.3173599\ttest: 0.2575413\tbest: 0.2575413 (489)\ttotal: 5m 16s\tremaining: 5m 29s\n",
            "490:\tlearn: 0.3172166\ttest: 0.2574887\tbest: 0.2574887 (490)\ttotal: 5m 17s\tremaining: 5m 29s\n",
            "491:\tlearn: 0.3170646\ttest: 0.2574444\tbest: 0.2574444 (491)\ttotal: 5m 18s\tremaining: 5m 28s\n",
            "492:\tlearn: 0.3167437\ttest: 0.2568773\tbest: 0.2568773 (492)\ttotal: 5m 18s\tremaining: 5m 27s\n",
            "493:\tlearn: 0.3167017\ttest: 0.2568618\tbest: 0.2568618 (493)\ttotal: 5m 19s\tremaining: 5m 27s\n",
            "494:\tlearn: 0.3164329\ttest: 0.2567094\tbest: 0.2567094 (494)\ttotal: 5m 20s\tremaining: 5m 27s\n",
            "495:\tlearn: 0.3163989\ttest: 0.2566975\tbest: 0.2566975 (495)\ttotal: 5m 21s\tremaining: 5m 26s\n",
            "496:\tlearn: 0.3162082\ttest: 0.2565615\tbest: 0.2565615 (496)\ttotal: 5m 22s\tremaining: 5m 26s\n",
            "497:\tlearn: 0.3160554\ttest: 0.2565078\tbest: 0.2565078 (497)\ttotal: 5m 23s\tremaining: 5m 25s\n",
            "498:\tlearn: 0.3159476\ttest: 0.2564811\tbest: 0.2564811 (498)\ttotal: 5m 23s\tremaining: 5m 25s\n",
            "499:\tlearn: 0.3159236\ttest: 0.2564858\tbest: 0.2564811 (498)\ttotal: 5m 24s\tremaining: 5m 24s\n",
            "500:\tlearn: 0.3158459\ttest: 0.2564779\tbest: 0.2564779 (500)\ttotal: 5m 24s\tremaining: 5m 23s\n",
            "501:\tlearn: 0.3153308\ttest: 0.2559160\tbest: 0.2559160 (501)\ttotal: 5m 25s\tremaining: 5m 23s\n",
            "502:\tlearn: 0.3152574\ttest: 0.2559426\tbest: 0.2559160 (501)\ttotal: 5m 26s\tremaining: 5m 22s\n",
            "503:\tlearn: 0.3151902\ttest: 0.2559998\tbest: 0.2559160 (501)\ttotal: 5m 26s\tremaining: 5m 21s\n",
            "504:\tlearn: 0.3150758\ttest: 0.2560514\tbest: 0.2559160 (501)\ttotal: 5m 27s\tremaining: 5m 20s\n",
            "505:\tlearn: 0.3149878\ttest: 0.2560634\tbest: 0.2559160 (501)\ttotal: 5m 27s\tremaining: 5m 20s\n",
            "506:\tlearn: 0.3149539\ttest: 0.2560670\tbest: 0.2559160 (501)\ttotal: 5m 28s\tremaining: 5m 19s\n",
            "507:\tlearn: 0.3149113\ttest: 0.2560699\tbest: 0.2559160 (501)\ttotal: 5m 28s\tremaining: 5m 18s\n",
            "508:\tlearn: 0.3147139\ttest: 0.2557319\tbest: 0.2557319 (508)\ttotal: 5m 29s\tremaining: 5m 17s\n",
            "509:\tlearn: 0.3146667\ttest: 0.2557353\tbest: 0.2557319 (508)\ttotal: 5m 30s\tremaining: 5m 17s\n",
            "510:\tlearn: 0.3144461\ttest: 0.2555583\tbest: 0.2555583 (510)\ttotal: 5m 30s\tremaining: 5m 16s\n",
            "511:\tlearn: 0.3143568\ttest: 0.2555104\tbest: 0.2555104 (511)\ttotal: 5m 31s\tremaining: 5m 15s\n",
            "512:\tlearn: 0.3142849\ttest: 0.2554960\tbest: 0.2554960 (512)\ttotal: 5m 31s\tremaining: 5m 14s\n",
            "513:\tlearn: 0.3139163\ttest: 0.2552461\tbest: 0.2552461 (513)\ttotal: 5m 32s\tremaining: 5m 14s\n",
            "514:\tlearn: 0.3137379\ttest: 0.2551415\tbest: 0.2551415 (514)\ttotal: 5m 32s\tremaining: 5m 13s\n",
            "515:\tlearn: 0.3136023\ttest: 0.2551562\tbest: 0.2551415 (514)\ttotal: 5m 33s\tremaining: 5m 13s\n",
            "516:\tlearn: 0.3135038\ttest: 0.2551472\tbest: 0.2551415 (514)\ttotal: 5m 34s\tremaining: 5m 12s\n",
            "517:\tlearn: 0.3134480\ttest: 0.2551472\tbest: 0.2551415 (514)\ttotal: 5m 35s\tremaining: 5m 12s\n",
            "518:\tlearn: 0.3133322\ttest: 0.2550870\tbest: 0.2550870 (518)\ttotal: 5m 36s\tremaining: 5m 11s\n",
            "519:\tlearn: 0.3132619\ttest: 0.2550059\tbest: 0.2550059 (519)\ttotal: 5m 37s\tremaining: 5m 11s\n",
            "520:\tlearn: 0.3131113\ttest: 0.2550453\tbest: 0.2550059 (519)\ttotal: 5m 37s\tremaining: 5m 10s\n",
            "521:\tlearn: 0.3130859\ttest: 0.2550444\tbest: 0.2550059 (519)\ttotal: 5m 38s\tremaining: 5m 9s\n",
            "522:\tlearn: 0.3129726\ttest: 0.2550658\tbest: 0.2550059 (519)\ttotal: 5m 39s\tremaining: 5m 9s\n",
            "523:\tlearn: 0.3128334\ttest: 0.2549769\tbest: 0.2549769 (523)\ttotal: 5m 39s\tremaining: 5m 8s\n",
            "524:\tlearn: 0.3127845\ttest: 0.2549732\tbest: 0.2549732 (524)\ttotal: 5m 40s\tremaining: 5m 7s\n",
            "525:\tlearn: 0.3125880\ttest: 0.2549126\tbest: 0.2549126 (525)\ttotal: 5m 40s\tremaining: 5m 7s\n",
            "526:\tlearn: 0.3125209\ttest: 0.2549102\tbest: 0.2549102 (526)\ttotal: 5m 41s\tremaining: 5m 6s\n",
            "527:\tlearn: 0.3122142\ttest: 0.2546851\tbest: 0.2546851 (527)\ttotal: 5m 41s\tremaining: 5m 5s\n",
            "528:\tlearn: 0.3121487\ttest: 0.2546762\tbest: 0.2546762 (528)\ttotal: 5m 42s\tremaining: 5m 4s\n",
            "529:\tlearn: 0.3118943\ttest: 0.2545569\tbest: 0.2545569 (529)\ttotal: 5m 42s\tremaining: 5m 4s\n",
            "530:\tlearn: 0.3118126\ttest: 0.2545700\tbest: 0.2545569 (529)\ttotal: 5m 43s\tremaining: 5m 3s\n",
            "531:\tlearn: 0.3117413\ttest: 0.2545287\tbest: 0.2545287 (531)\ttotal: 5m 44s\tremaining: 5m 2s\n",
            "532:\tlearn: 0.3116534\ttest: 0.2545286\tbest: 0.2545286 (532)\ttotal: 5m 44s\tremaining: 5m 1s\n",
            "533:\tlearn: 0.3115300\ttest: 0.2545286\tbest: 0.2545286 (532)\ttotal: 5m 45s\tremaining: 5m 1s\n",
            "534:\tlearn: 0.3112320\ttest: 0.2541549\tbest: 0.2541549 (534)\ttotal: 5m 45s\tremaining: 5m\n",
            "535:\tlearn: 0.3111847\ttest: 0.2541533\tbest: 0.2541533 (535)\ttotal: 5m 46s\tremaining: 4m 59s\n",
            "536:\tlearn: 0.3105926\ttest: 0.2535457\tbest: 0.2535457 (536)\ttotal: 5m 46s\tremaining: 4m 59s\n",
            "537:\tlearn: 0.3104535\ttest: 0.2535767\tbest: 0.2535457 (536)\ttotal: 5m 47s\tremaining: 4m 58s\n",
            "538:\tlearn: 0.3103472\ttest: 0.2535764\tbest: 0.2535457 (536)\ttotal: 5m 48s\tremaining: 4m 58s\n",
            "539:\tlearn: 0.3102879\ttest: 0.2535504\tbest: 0.2535457 (536)\ttotal: 5m 49s\tremaining: 4m 58s\n",
            "540:\tlearn: 0.3102636\ttest: 0.2535079\tbest: 0.2535079 (540)\ttotal: 5m 50s\tremaining: 4m 57s\n",
            "541:\tlearn: 0.3101878\ttest: 0.2535067\tbest: 0.2535067 (541)\ttotal: 5m 51s\tremaining: 4m 57s\n",
            "542:\tlearn: 0.3101494\ttest: 0.2535662\tbest: 0.2535067 (541)\ttotal: 5m 52s\tremaining: 4m 56s\n",
            "543:\tlearn: 0.3100608\ttest: 0.2534662\tbest: 0.2534662 (543)\ttotal: 5m 52s\tremaining: 4m 55s\n",
            "544:\tlearn: 0.3099768\ttest: 0.2534187\tbest: 0.2534187 (544)\ttotal: 5m 53s\tremaining: 4m 54s\n",
            "545:\tlearn: 0.3095431\ttest: 0.2527277\tbest: 0.2527277 (545)\ttotal: 5m 53s\tremaining: 4m 54s\n",
            "546:\tlearn: 0.3094636\ttest: 0.2527210\tbest: 0.2527210 (546)\ttotal: 5m 54s\tremaining: 4m 53s\n",
            "547:\tlearn: 0.3093344\ttest: 0.2526076\tbest: 0.2526076 (547)\ttotal: 5m 54s\tremaining: 4m 52s\n",
            "548:\tlearn: 0.3090440\ttest: 0.2525792\tbest: 0.2525792 (548)\ttotal: 5m 55s\tremaining: 4m 52s\n",
            "549:\tlearn: 0.3089081\ttest: 0.2524977\tbest: 0.2524977 (549)\ttotal: 5m 56s\tremaining: 4m 51s\n",
            "550:\tlearn: 0.3088653\ttest: 0.2525087\tbest: 0.2524977 (549)\ttotal: 5m 56s\tremaining: 4m 50s\n",
            "551:\tlearn: 0.3087653\ttest: 0.2525042\tbest: 0.2524977 (549)\ttotal: 5m 57s\tremaining: 4m 49s\n",
            "552:\tlearn: 0.3086342\ttest: 0.2525493\tbest: 0.2524977 (549)\ttotal: 5m 57s\tremaining: 4m 49s\n",
            "553:\tlearn: 0.3081298\ttest: 0.2505819\tbest: 0.2505819 (553)\ttotal: 5m 58s\tremaining: 4m 48s\n",
            "554:\tlearn: 0.3079436\ttest: 0.2504036\tbest: 0.2504036 (554)\ttotal: 5m 59s\tremaining: 4m 47s\n",
            "555:\tlearn: 0.3078949\ttest: 0.2504072\tbest: 0.2504036 (554)\ttotal: 5m 59s\tremaining: 4m 47s\n",
            "556:\tlearn: 0.3078238\ttest: 0.2503768\tbest: 0.2503768 (556)\ttotal: 6m\tremaining: 4m 46s\n",
            "557:\tlearn: 0.3078038\ttest: 0.2503592\tbest: 0.2503592 (557)\ttotal: 6m\tremaining: 4m 45s\n",
            "558:\tlearn: 0.3077910\ttest: 0.2503606\tbest: 0.2503592 (557)\ttotal: 6m 1s\tremaining: 4m 44s\n",
            "559:\tlearn: 0.3076220\ttest: 0.2503081\tbest: 0.2503081 (559)\ttotal: 6m 2s\tremaining: 4m 44s\n",
            "560:\tlearn: 0.3074285\ttest: 0.2501967\tbest: 0.2501967 (560)\ttotal: 6m 3s\tremaining: 4m 44s\n",
            "561:\tlearn: 0.3074008\ttest: 0.2501809\tbest: 0.2501809 (561)\ttotal: 6m 4s\tremaining: 4m 43s\n",
            "562:\tlearn: 0.3072900\ttest: 0.2501989\tbest: 0.2501809 (561)\ttotal: 6m 5s\tremaining: 4m 43s\n",
            "563:\tlearn: 0.3070667\ttest: 0.2501305\tbest: 0.2501305 (563)\ttotal: 6m 5s\tremaining: 4m 42s\n",
            "564:\tlearn: 0.3070047\ttest: 0.2501137\tbest: 0.2501137 (564)\ttotal: 6m 6s\tremaining: 4m 42s\n",
            "565:\tlearn: 0.3069130\ttest: 0.2501162\tbest: 0.2501137 (564)\ttotal: 6m 7s\tremaining: 4m 41s\n",
            "566:\tlearn: 0.3068148\ttest: 0.2501055\tbest: 0.2501055 (566)\ttotal: 6m 7s\tremaining: 4m 40s\n",
            "567:\tlearn: 0.3066596\ttest: 0.2501085\tbest: 0.2501055 (566)\ttotal: 6m 8s\tremaining: 4m 40s\n",
            "568:\tlearn: 0.3065441\ttest: 0.2500313\tbest: 0.2500313 (568)\ttotal: 6m 8s\tremaining: 4m 39s\n",
            "569:\tlearn: 0.3063604\ttest: 0.2499259\tbest: 0.2499259 (569)\ttotal: 6m 9s\tremaining: 4m 38s\n",
            "570:\tlearn: 0.3063046\ttest: 0.2500711\tbest: 0.2499259 (569)\ttotal: 6m 9s\tremaining: 4m 37s\n",
            "571:\tlearn: 0.3061891\ttest: 0.2501517\tbest: 0.2499259 (569)\ttotal: 6m 10s\tremaining: 4m 37s\n",
            "572:\tlearn: 0.3059738\ttest: 0.2501462\tbest: 0.2499259 (569)\ttotal: 6m 11s\tremaining: 4m 36s\n",
            "573:\tlearn: 0.3059016\ttest: 0.2501326\tbest: 0.2499259 (569)\ttotal: 6m 11s\tremaining: 4m 35s\n",
            "574:\tlearn: 0.3056399\ttest: 0.2499941\tbest: 0.2499259 (569)\ttotal: 6m 12s\tremaining: 4m 35s\n",
            "575:\tlearn: 0.3055362\ttest: 0.2499950\tbest: 0.2499259 (569)\ttotal: 6m 12s\tremaining: 4m 34s\n",
            "576:\tlearn: 0.3054899\ttest: 0.2499996\tbest: 0.2499259 (569)\ttotal: 6m 13s\tremaining: 4m 33s\n",
            "577:\tlearn: 0.3053284\ttest: 0.2500090\tbest: 0.2499259 (569)\ttotal: 6m 13s\tremaining: 4m 32s\n",
            "578:\tlearn: 0.3053056\ttest: 0.2500050\tbest: 0.2499259 (569)\ttotal: 6m 14s\tremaining: 4m 32s\n",
            "579:\tlearn: 0.3051832\ttest: 0.2499443\tbest: 0.2499259 (569)\ttotal: 6m 15s\tremaining: 4m 31s\n",
            "580:\tlearn: 0.3049109\ttest: 0.2497087\tbest: 0.2497087 (580)\ttotal: 6m 15s\tremaining: 4m 30s\n",
            "581:\tlearn: 0.3048366\ttest: 0.2496993\tbest: 0.2496993 (581)\ttotal: 6m 16s\tremaining: 4m 30s\n",
            "582:\tlearn: 0.3046141\ttest: 0.2495033\tbest: 0.2495033 (582)\ttotal: 6m 17s\tremaining: 4m 30s\n",
            "583:\tlearn: 0.3045168\ttest: 0.2494657\tbest: 0.2494657 (583)\ttotal: 6m 18s\tremaining: 4m 29s\n",
            "584:\tlearn: 0.3043736\ttest: 0.2494204\tbest: 0.2494204 (584)\ttotal: 6m 19s\tremaining: 4m 29s\n",
            "585:\tlearn: 0.3041368\ttest: 0.2492966\tbest: 0.2492966 (585)\ttotal: 6m 20s\tremaining: 4m 28s\n",
            "586:\tlearn: 0.3040939\ttest: 0.2492722\tbest: 0.2492722 (586)\ttotal: 6m 21s\tremaining: 4m 28s\n",
            "587:\tlearn: 0.3040319\ttest: 0.2492272\tbest: 0.2492272 (587)\ttotal: 6m 21s\tremaining: 4m 27s\n",
            "588:\tlearn: 0.3038863\ttest: 0.2491599\tbest: 0.2491599 (588)\ttotal: 6m 22s\tremaining: 4m 26s\n",
            "589:\tlearn: 0.3038446\ttest: 0.2491633\tbest: 0.2491599 (588)\ttotal: 6m 22s\tremaining: 4m 25s\n",
            "590:\tlearn: 0.3037958\ttest: 0.2491339\tbest: 0.2491339 (590)\ttotal: 6m 23s\tremaining: 4m 25s\n",
            "591:\tlearn: 0.3037448\ttest: 0.2491728\tbest: 0.2491339 (590)\ttotal: 6m 23s\tremaining: 4m 24s\n",
            "592:\tlearn: 0.3036282\ttest: 0.2491939\tbest: 0.2491339 (590)\ttotal: 6m 24s\tremaining: 4m 23s\n",
            "593:\tlearn: 0.3034140\ttest: 0.2489837\tbest: 0.2489837 (593)\ttotal: 6m 24s\tremaining: 4m 23s\n",
            "594:\tlearn: 0.3029668\ttest: 0.2480521\tbest: 0.2480521 (594)\ttotal: 6m 25s\tremaining: 4m 22s\n",
            "595:\tlearn: 0.3028458\ttest: 0.2480137\tbest: 0.2480137 (595)\ttotal: 6m 26s\tremaining: 4m 21s\n",
            "596:\tlearn: 0.3024524\ttest: 0.2477349\tbest: 0.2477349 (596)\ttotal: 6m 26s\tremaining: 4m 20s\n",
            "597:\tlearn: 0.3023013\ttest: 0.2476581\tbest: 0.2476581 (597)\ttotal: 6m 27s\tremaining: 4m 20s\n",
            "598:\tlearn: 0.3022610\ttest: 0.2476001\tbest: 0.2476001 (598)\ttotal: 6m 27s\tremaining: 4m 19s\n",
            "599:\tlearn: 0.3021630\ttest: 0.2476410\tbest: 0.2476001 (598)\ttotal: 6m 28s\tremaining: 4m 19s\n",
            "600:\tlearn: 0.3019771\ttest: 0.2475732\tbest: 0.2475732 (600)\ttotal: 6m 29s\tremaining: 4m 18s\n",
            "601:\tlearn: 0.3018137\ttest: 0.2474869\tbest: 0.2474869 (601)\ttotal: 6m 29s\tremaining: 4m 17s\n",
            "602:\tlearn: 0.3017689\ttest: 0.2475306\tbest: 0.2474869 (601)\ttotal: 6m 30s\tremaining: 4m 17s\n",
            "603:\tlearn: 0.3016439\ttest: 0.2475002\tbest: 0.2474869 (601)\ttotal: 6m 31s\tremaining: 4m 16s\n",
            "604:\tlearn: 0.3015381\ttest: 0.2474537\tbest: 0.2474537 (604)\ttotal: 6m 32s\tremaining: 4m 16s\n",
            "605:\tlearn: 0.3014698\ttest: 0.2474648\tbest: 0.2474537 (604)\ttotal: 6m 33s\tremaining: 4m 15s\n",
            "606:\tlearn: 0.3014178\ttest: 0.2474627\tbest: 0.2474537 (604)\ttotal: 6m 34s\tremaining: 4m 15s\n",
            "607:\tlearn: 0.3012526\ttest: 0.2473492\tbest: 0.2473492 (607)\ttotal: 6m 34s\tremaining: 4m 14s\n",
            "608:\tlearn: 0.3012076\ttest: 0.2473834\tbest: 0.2473492 (607)\ttotal: 6m 35s\tremaining: 4m 13s\n",
            "609:\tlearn: 0.3011120\ttest: 0.2474679\tbest: 0.2473492 (607)\ttotal: 6m 36s\tremaining: 4m 13s\n",
            "610:\tlearn: 0.3010568\ttest: 0.2474792\tbest: 0.2473492 (607)\ttotal: 6m 36s\tremaining: 4m 12s\n",
            "611:\tlearn: 0.3010158\ttest: 0.2474833\tbest: 0.2473492 (607)\ttotal: 6m 37s\tremaining: 4m 11s\n",
            "612:\tlearn: 0.3009542\ttest: 0.2474824\tbest: 0.2473492 (607)\ttotal: 6m 37s\tremaining: 4m 11s\n",
            "613:\tlearn: 0.3009005\ttest: 0.2474881\tbest: 0.2473492 (607)\ttotal: 6m 38s\tremaining: 4m 10s\n",
            "614:\tlearn: 0.3007686\ttest: 0.2475024\tbest: 0.2473492 (607)\ttotal: 6m 38s\tremaining: 4m 9s\n",
            "615:\tlearn: 0.3006533\ttest: 0.2475411\tbest: 0.2473492 (607)\ttotal: 6m 39s\tremaining: 4m 8s\n",
            "616:\tlearn: 0.3005659\ttest: 0.2475651\tbest: 0.2473492 (607)\ttotal: 6m 39s\tremaining: 4m 8s\n",
            "617:\tlearn: 0.3004417\ttest: 0.2475052\tbest: 0.2473492 (607)\ttotal: 6m 40s\tremaining: 4m 7s\n",
            "618:\tlearn: 0.3003073\ttest: 0.2474948\tbest: 0.2473492 (607)\ttotal: 6m 41s\tremaining: 4m 6s\n",
            "619:\tlearn: 0.3002231\ttest: 0.2474834\tbest: 0.2473492 (607)\ttotal: 6m 41s\tremaining: 4m 6s\n",
            "620:\tlearn: 0.3001240\ttest: 0.2474760\tbest: 0.2473492 (607)\ttotal: 6m 42s\tremaining: 4m 5s\n",
            "621:\tlearn: 0.3000225\ttest: 0.2474556\tbest: 0.2473492 (607)\ttotal: 6m 42s\tremaining: 4m 4s\n",
            "622:\tlearn: 0.2999642\ttest: 0.2474466\tbest: 0.2473492 (607)\ttotal: 6m 43s\tremaining: 4m 4s\n",
            "623:\tlearn: 0.2999030\ttest: 0.2474521\tbest: 0.2473492 (607)\ttotal: 6m 43s\tremaining: 4m 3s\n",
            "624:\tlearn: 0.2998684\ttest: 0.2474291\tbest: 0.2473492 (607)\ttotal: 6m 44s\tremaining: 4m 2s\n",
            "625:\tlearn: 0.2998020\ttest: 0.2474327\tbest: 0.2473492 (607)\ttotal: 6m 45s\tremaining: 4m 2s\n",
            "626:\tlearn: 0.2996941\ttest: 0.2474661\tbest: 0.2473492 (607)\ttotal: 6m 46s\tremaining: 4m 1s\n",
            "627:\tlearn: 0.2996600\ttest: 0.2474630\tbest: 0.2473492 (607)\ttotal: 6m 47s\tremaining: 4m 1s\n",
            "628:\tlearn: 0.2996054\ttest: 0.2474712\tbest: 0.2473492 (607)\ttotal: 6m 48s\tremaining: 4m\n",
            "629:\tlearn: 0.2995216\ttest: 0.2474595\tbest: 0.2473492 (607)\ttotal: 6m 49s\tremaining: 4m\n",
            "630:\tlearn: 0.2994644\ttest: 0.2474660\tbest: 0.2473492 (607)\ttotal: 6m 49s\tremaining: 3m 59s\n",
            "631:\tlearn: 0.2993722\ttest: 0.2473165\tbest: 0.2473165 (631)\ttotal: 6m 50s\tremaining: 3m 58s\n",
            "632:\tlearn: 0.2992996\ttest: 0.2473148\tbest: 0.2473148 (632)\ttotal: 6m 50s\tremaining: 3m 58s\n",
            "633:\tlearn: 0.2992318\ttest: 0.2473256\tbest: 0.2473148 (632)\ttotal: 6m 51s\tremaining: 3m 57s\n",
            "634:\tlearn: 0.2991257\ttest: 0.2474253\tbest: 0.2473148 (632)\ttotal: 6m 51s\tremaining: 3m 56s\n",
            "635:\tlearn: 0.2990376\ttest: 0.2473361\tbest: 0.2473148 (632)\ttotal: 6m 52s\tremaining: 3m 56s\n",
            "636:\tlearn: 0.2989186\ttest: 0.2473491\tbest: 0.2473148 (632)\ttotal: 6m 52s\tremaining: 3m 55s\n",
            "637:\tlearn: 0.2988035\ttest: 0.2472695\tbest: 0.2472695 (637)\ttotal: 6m 53s\tremaining: 3m 54s\n",
            "638:\tlearn: 0.2987691\ttest: 0.2472757\tbest: 0.2472695 (637)\ttotal: 6m 54s\tremaining: 3m 53s\n",
            "639:\tlearn: 0.2986993\ttest: 0.2472671\tbest: 0.2472671 (639)\ttotal: 6m 54s\tremaining: 3m 53s\n",
            "640:\tlearn: 0.2985889\ttest: 0.2473193\tbest: 0.2472671 (639)\ttotal: 6m 55s\tremaining: 3m 52s\n",
            "641:\tlearn: 0.2985327\ttest: 0.2473147\tbest: 0.2472671 (639)\ttotal: 6m 55s\tremaining: 3m 51s\n",
            "642:\tlearn: 0.2984413\ttest: 0.2471058\tbest: 0.2471058 (642)\ttotal: 6m 56s\tremaining: 3m 51s\n",
            "643:\tlearn: 0.2983383\ttest: 0.2471071\tbest: 0.2471058 (642)\ttotal: 6m 57s\tremaining: 3m 50s\n",
            "644:\tlearn: 0.2982966\ttest: 0.2470828\tbest: 0.2470828 (644)\ttotal: 6m 57s\tremaining: 3m 49s\n",
            "645:\tlearn: 0.2981174\ttest: 0.2469567\tbest: 0.2469567 (645)\ttotal: 6m 58s\tremaining: 3m 49s\n",
            "646:\tlearn: 0.2980688\ttest: 0.2469612\tbest: 0.2469567 (645)\ttotal: 6m 59s\tremaining: 3m 48s\n",
            "647:\tlearn: 0.2980015\ttest: 0.2469550\tbest: 0.2469550 (647)\ttotal: 7m\tremaining: 3m 48s\n",
            "648:\tlearn: 0.2979273\ttest: 0.2469397\tbest: 0.2469397 (648)\ttotal: 7m 1s\tremaining: 3m 47s\n",
            "649:\tlearn: 0.2977886\ttest: 0.2469361\tbest: 0.2469361 (649)\ttotal: 7m 2s\tremaining: 3m 47s\n",
            "650:\tlearn: 0.2976120\ttest: 0.2467985\tbest: 0.2467985 (650)\ttotal: 7m 3s\tremaining: 3m 46s\n",
            "651:\tlearn: 0.2975389\ttest: 0.2468363\tbest: 0.2467985 (650)\ttotal: 7m 3s\tremaining: 3m 46s\n",
            "652:\tlearn: 0.2974823\ttest: 0.2468377\tbest: 0.2467985 (650)\ttotal: 7m 4s\tremaining: 3m 45s\n",
            "653:\tlearn: 0.2974661\ttest: 0.2468436\tbest: 0.2467985 (650)\ttotal: 7m 4s\tremaining: 3m 44s\n",
            "654:\tlearn: 0.2974259\ttest: 0.2468616\tbest: 0.2467985 (650)\ttotal: 7m 5s\tremaining: 3m 43s\n",
            "655:\tlearn: 0.2971957\ttest: 0.2464537\tbest: 0.2464537 (655)\ttotal: 7m 5s\tremaining: 3m 43s\n",
            "656:\tlearn: 0.2970359\ttest: 0.2464252\tbest: 0.2464252 (656)\ttotal: 7m 6s\tremaining: 3m 42s\n",
            "657:\tlearn: 0.2969530\ttest: 0.2464377\tbest: 0.2464252 (656)\ttotal: 7m 6s\tremaining: 3m 41s\n",
            "658:\tlearn: 0.2968122\ttest: 0.2462837\tbest: 0.2462837 (658)\ttotal: 7m 7s\tremaining: 3m 41s\n",
            "659:\tlearn: 0.2966834\ttest: 0.2461919\tbest: 0.2461919 (659)\ttotal: 7m 8s\tremaining: 3m 40s\n",
            "660:\tlearn: 0.2965003\ttest: 0.2460577\tbest: 0.2460577 (660)\ttotal: 7m 8s\tremaining: 3m 39s\n",
            "661:\tlearn: 0.2964815\ttest: 0.2461120\tbest: 0.2460577 (660)\ttotal: 7m 9s\tremaining: 3m 39s\n",
            "662:\tlearn: 0.2964343\ttest: 0.2461210\tbest: 0.2460577 (660)\ttotal: 7m 9s\tremaining: 3m 38s\n",
            "663:\tlearn: 0.2963143\ttest: 0.2461286\tbest: 0.2460577 (660)\ttotal: 7m 10s\tremaining: 3m 37s\n",
            "664:\tlearn: 0.2961378\ttest: 0.2459583\tbest: 0.2459583 (664)\ttotal: 7m 11s\tremaining: 3m 37s\n",
            "665:\tlearn: 0.2959387\ttest: 0.2459002\tbest: 0.2459002 (665)\ttotal: 7m 11s\tremaining: 3m 36s\n",
            "666:\tlearn: 0.2958051\ttest: 0.2458054\tbest: 0.2458054 (666)\ttotal: 7m 12s\tremaining: 3m 35s\n",
            "667:\tlearn: 0.2957567\ttest: 0.2457988\tbest: 0.2457988 (667)\ttotal: 7m 13s\tremaining: 3m 35s\n",
            "668:\tlearn: 0.2956877\ttest: 0.2458092\tbest: 0.2457988 (667)\ttotal: 7m 14s\tremaining: 3m 34s\n",
            "669:\tlearn: 0.2955248\ttest: 0.2457526\tbest: 0.2457526 (669)\ttotal: 7m 15s\tremaining: 3m 34s\n",
            "670:\tlearn: 0.2954750\ttest: 0.2457582\tbest: 0.2457526 (669)\ttotal: 7m 16s\tremaining: 3m 33s\n",
            "671:\tlearn: 0.2954328\ttest: 0.2457534\tbest: 0.2457526 (669)\ttotal: 7m 16s\tremaining: 3m 33s\n",
            "672:\tlearn: 0.2952039\ttest: 0.2456399\tbest: 0.2456399 (672)\ttotal: 7m 17s\tremaining: 3m 32s\n",
            "673:\tlearn: 0.2951241\ttest: 0.2456349\tbest: 0.2456349 (673)\ttotal: 7m 17s\tremaining: 3m 31s\n",
            "674:\tlearn: 0.2950711\ttest: 0.2456160\tbest: 0.2456160 (674)\ttotal: 7m 18s\tremaining: 3m 31s\n",
            "675:\tlearn: 0.2949830\ttest: 0.2456253\tbest: 0.2456160 (674)\ttotal: 7m 19s\tremaining: 3m 30s\n",
            "676:\tlearn: 0.2949167\ttest: 0.2456263\tbest: 0.2456160 (674)\ttotal: 7m 19s\tremaining: 3m 29s\n",
            "677:\tlearn: 0.2948648\ttest: 0.2456401\tbest: 0.2456160 (674)\ttotal: 7m 20s\tremaining: 3m 29s\n",
            "678:\tlearn: 0.2947706\ttest: 0.2456818\tbest: 0.2456160 (674)\ttotal: 7m 20s\tremaining: 3m 28s\n",
            "679:\tlearn: 0.2947598\ttest: 0.2456733\tbest: 0.2456160 (674)\ttotal: 7m 21s\tremaining: 3m 27s\n",
            "680:\tlearn: 0.2946464\ttest: 0.2456659\tbest: 0.2456160 (674)\ttotal: 7m 22s\tremaining: 3m 27s\n",
            "681:\tlearn: 0.2945846\ttest: 0.2456712\tbest: 0.2456160 (674)\ttotal: 7m 22s\tremaining: 3m 26s\n",
            "682:\tlearn: 0.2944606\ttest: 0.2456233\tbest: 0.2456160 (674)\ttotal: 7m 23s\tremaining: 3m 25s\n",
            "683:\tlearn: 0.2944020\ttest: 0.2456343\tbest: 0.2456160 (674)\ttotal: 7m 23s\tremaining: 3m 25s\n",
            "684:\tlearn: 0.2943368\ttest: 0.2456020\tbest: 0.2456020 (684)\ttotal: 7m 24s\tremaining: 3m 24s\n",
            "685:\tlearn: 0.2942722\ttest: 0.2455918\tbest: 0.2455918 (685)\ttotal: 7m 24s\tremaining: 3m 23s\n",
            "686:\tlearn: 0.2941961\ttest: 0.2456204\tbest: 0.2455918 (685)\ttotal: 7m 25s\tremaining: 3m 22s\n",
            "687:\tlearn: 0.2941652\ttest: 0.2456311\tbest: 0.2455918 (685)\ttotal: 7m 25s\tremaining: 3m 22s\n",
            "688:\tlearn: 0.2940678\ttest: 0.2455827\tbest: 0.2455827 (688)\ttotal: 7m 26s\tremaining: 3m 21s\n",
            "689:\tlearn: 0.2939524\ttest: 0.2455857\tbest: 0.2455827 (688)\ttotal: 7m 27s\tremaining: 3m 20s\n",
            "690:\tlearn: 0.2939403\ttest: 0.2455846\tbest: 0.2455827 (688)\ttotal: 7m 28s\tremaining: 3m 20s\n",
            "691:\tlearn: 0.2938735\ttest: 0.2456079\tbest: 0.2455827 (688)\ttotal: 7m 29s\tremaining: 3m 20s\n",
            "692:\tlearn: 0.2937146\ttest: 0.2454158\tbest: 0.2454158 (692)\ttotal: 7m 30s\tremaining: 3m 19s\n",
            "693:\tlearn: 0.2936481\ttest: 0.2453782\tbest: 0.2453782 (693)\ttotal: 7m 31s\tremaining: 3m 18s\n",
            "694:\tlearn: 0.2935536\ttest: 0.2453852\tbest: 0.2453782 (693)\ttotal: 7m 31s\tremaining: 3m 18s\n",
            "695:\tlearn: 0.2935200\ttest: 0.2453522\tbest: 0.2453522 (695)\ttotal: 7m 32s\tremaining: 3m 17s\n",
            "696:\tlearn: 0.2934067\ttest: 0.2453528\tbest: 0.2453522 (695)\ttotal: 7m 32s\tremaining: 3m 16s\n",
            "697:\tlearn: 0.2933249\ttest: 0.2453731\tbest: 0.2453522 (695)\ttotal: 7m 33s\tremaining: 3m 16s\n",
            "698:\tlearn: 0.2932212\ttest: 0.2453531\tbest: 0.2453522 (695)\ttotal: 7m 33s\tremaining: 3m 15s\n",
            "699:\tlearn: 0.2931220\ttest: 0.2453463\tbest: 0.2453463 (699)\ttotal: 7m 34s\tremaining: 3m 14s\n",
            "700:\tlearn: 0.2930594\ttest: 0.2453580\tbest: 0.2453463 (699)\ttotal: 7m 35s\tremaining: 3m 14s\n",
            "701:\tlearn: 0.2930403\ttest: 0.2453566\tbest: 0.2453463 (699)\ttotal: 7m 35s\tremaining: 3m 13s\n",
            "702:\tlearn: 0.2929450\ttest: 0.2452682\tbest: 0.2452682 (702)\ttotal: 7m 36s\tremaining: 3m 12s\n",
            "703:\tlearn: 0.2928765\ttest: 0.2452565\tbest: 0.2452565 (703)\ttotal: 7m 36s\tremaining: 3m 12s\n",
            "704:\tlearn: 0.2928180\ttest: 0.2452880\tbest: 0.2452565 (703)\ttotal: 7m 37s\tremaining: 3m 11s\n",
            "705:\tlearn: 0.2927406\ttest: 0.2453468\tbest: 0.2452565 (703)\ttotal: 7m 37s\tremaining: 3m 10s\n",
            "706:\tlearn: 0.2926394\ttest: 0.2453768\tbest: 0.2452565 (703)\ttotal: 7m 38s\tremaining: 3m 9s\n",
            "707:\tlearn: 0.2924482\ttest: 0.2452507\tbest: 0.2452507 (707)\ttotal: 7m 38s\tremaining: 3m 9s\n",
            "708:\tlearn: 0.2923449\ttest: 0.2451729\tbest: 0.2451729 (708)\ttotal: 7m 39s\tremaining: 3m 8s\n",
            "709:\tlearn: 0.2922987\ttest: 0.2451706\tbest: 0.2451706 (709)\ttotal: 7m 40s\tremaining: 3m 7s\n",
            "710:\tlearn: 0.2921580\ttest: 0.2450389\tbest: 0.2450389 (710)\ttotal: 7m 40s\tremaining: 3m 7s\n",
            "711:\tlearn: 0.2921085\ttest: 0.2450413\tbest: 0.2450389 (710)\ttotal: 7m 41s\tremaining: 3m 6s\n",
            "712:\tlearn: 0.2920557\ttest: 0.2449913\tbest: 0.2449913 (712)\ttotal: 7m 42s\tremaining: 3m 6s\n",
            "713:\tlearn: 0.2919506\ttest: 0.2449787\tbest: 0.2449787 (713)\ttotal: 7m 43s\tremaining: 3m 5s\n",
            "714:\tlearn: 0.2918390\ttest: 0.2448732\tbest: 0.2448732 (714)\ttotal: 7m 44s\tremaining: 3m 5s\n",
            "715:\tlearn: 0.2917607\ttest: 0.2448785\tbest: 0.2448732 (714)\ttotal: 7m 45s\tremaining: 3m 4s\n",
            "716:\tlearn: 0.2914741\ttest: 0.2444485\tbest: 0.2444485 (716)\ttotal: 7m 45s\tremaining: 3m 3s\n",
            "717:\tlearn: 0.2914079\ttest: 0.2444304\tbest: 0.2444304 (717)\ttotal: 7m 46s\tremaining: 3m 3s\n",
            "718:\tlearn: 0.2913473\ttest: 0.2444253\tbest: 0.2444253 (718)\ttotal: 7m 46s\tremaining: 3m 2s\n",
            "719:\tlearn: 0.2912876\ttest: 0.2444229\tbest: 0.2444229 (719)\ttotal: 7m 47s\tremaining: 3m 1s\n",
            "720:\tlearn: 0.2912094\ttest: 0.2444527\tbest: 0.2444229 (719)\ttotal: 7m 48s\tremaining: 3m 1s\n",
            "721:\tlearn: 0.2911328\ttest: 0.2444991\tbest: 0.2444229 (719)\ttotal: 7m 48s\tremaining: 3m\n",
            "722:\tlearn: 0.2909186\ttest: 0.2442317\tbest: 0.2442317 (722)\ttotal: 7m 49s\tremaining: 2m 59s\n",
            "723:\tlearn: 0.2908378\ttest: 0.2442660\tbest: 0.2442317 (722)\ttotal: 7m 49s\tremaining: 2m 59s\n",
            "724:\tlearn: 0.2907841\ttest: 0.2443235\tbest: 0.2442317 (722)\ttotal: 7m 50s\tremaining: 2m 58s\n",
            "725:\tlearn: 0.2901548\ttest: 0.2435039\tbest: 0.2435039 (725)\ttotal: 7m 50s\tremaining: 2m 57s\n",
            "726:\tlearn: 0.2900092\ttest: 0.2433969\tbest: 0.2433969 (726)\ttotal: 7m 51s\tremaining: 2m 57s\n",
            "727:\tlearn: 0.2896292\ttest: 0.2429902\tbest: 0.2429902 (727)\ttotal: 7m 52s\tremaining: 2m 56s\n",
            "728:\tlearn: 0.2895285\ttest: 0.2430105\tbest: 0.2429902 (727)\ttotal: 7m 52s\tremaining: 2m 55s\n",
            "729:\tlearn: 0.2894463\ttest: 0.2430052\tbest: 0.2429902 (727)\ttotal: 7m 53s\tremaining: 2m 54s\n",
            "730:\tlearn: 0.2893920\ttest: 0.2430013\tbest: 0.2429902 (727)\ttotal: 7m 53s\tremaining: 2m 54s\n",
            "731:\tlearn: 0.2893763\ttest: 0.2430002\tbest: 0.2429902 (727)\ttotal: 7m 54s\tremaining: 2m 53s\n",
            "732:\tlearn: 0.2893550\ttest: 0.2430007\tbest: 0.2429902 (727)\ttotal: 7m 54s\tremaining: 2m 52s\n",
            "733:\tlearn: 0.2892843\ttest: 0.2430288\tbest: 0.2429902 (727)\ttotal: 7m 55s\tremaining: 2m 52s\n",
            "734:\tlearn: 0.2892531\ttest: 0.2430463\tbest: 0.2429902 (727)\ttotal: 7m 56s\tremaining: 2m 51s\n",
            "735:\tlearn: 0.2891710\ttest: 0.2430246\tbest: 0.2429902 (727)\ttotal: 7m 57s\tremaining: 2m 51s\n",
            "736:\tlearn: 0.2891185\ttest: 0.2429869\tbest: 0.2429869 (736)\ttotal: 7m 58s\tremaining: 2m 50s\n",
            "737:\tlearn: 0.2890081\ttest: 0.2428948\tbest: 0.2428948 (737)\ttotal: 7m 59s\tremaining: 2m 50s\n",
            "738:\tlearn: 0.2888572\ttest: 0.2428825\tbest: 0.2428825 (738)\ttotal: 7m 59s\tremaining: 2m 49s\n",
            "739:\tlearn: 0.2888040\ttest: 0.2428601\tbest: 0.2428601 (739)\ttotal: 8m\tremaining: 2m 48s\n",
            "740:\tlearn: 0.2886002\ttest: 0.2426654\tbest: 0.2426654 (740)\ttotal: 8m 1s\tremaining: 2m 48s\n",
            "741:\tlearn: 0.2885794\ttest: 0.2426717\tbest: 0.2426654 (740)\ttotal: 8m 1s\tremaining: 2m 47s\n",
            "742:\tlearn: 0.2884402\ttest: 0.2426249\tbest: 0.2426249 (742)\ttotal: 8m 2s\tremaining: 2m 46s\n",
            "743:\tlearn: 0.2882447\ttest: 0.2425118\tbest: 0.2425118 (743)\ttotal: 8m 2s\tremaining: 2m 46s\n",
            "744:\tlearn: 0.2881413\ttest: 0.2424596\tbest: 0.2424596 (744)\ttotal: 8m 3s\tremaining: 2m 45s\n",
            "745:\tlearn: 0.2881217\ttest: 0.2424529\tbest: 0.2424529 (745)\ttotal: 8m 3s\tremaining: 2m 44s\n",
            "746:\tlearn: 0.2880513\ttest: 0.2423992\tbest: 0.2423992 (746)\ttotal: 8m 4s\tremaining: 2m 44s\n",
            "747:\tlearn: 0.2879733\ttest: 0.2423761\tbest: 0.2423761 (747)\ttotal: 8m 4s\tremaining: 2m 43s\n",
            "748:\tlearn: 0.2879269\ttest: 0.2423826\tbest: 0.2423761 (747)\ttotal: 8m 5s\tremaining: 2m 42s\n",
            "749:\tlearn: 0.2876105\ttest: 0.2418812\tbest: 0.2418812 (749)\ttotal: 8m 5s\tremaining: 2m 41s\n",
            "750:\tlearn: 0.2875671\ttest: 0.2418795\tbest: 0.2418795 (750)\ttotal: 8m 6s\tremaining: 2m 41s\n",
            "751:\tlearn: 0.2874815\ttest: 0.2418875\tbest: 0.2418795 (750)\ttotal: 8m 6s\tremaining: 2m 40s\n",
            "752:\tlearn: 0.2874383\ttest: 0.2419065\tbest: 0.2418795 (750)\ttotal: 8m 7s\tremaining: 2m 39s\n",
            "753:\tlearn: 0.2873869\ttest: 0.2419138\tbest: 0.2418795 (750)\ttotal: 8m 7s\tremaining: 2m 39s\n",
            "754:\tlearn: 0.2873218\ttest: 0.2419245\tbest: 0.2418795 (750)\ttotal: 8m 8s\tremaining: 2m 38s\n",
            "755:\tlearn: 0.2872306\ttest: 0.2419205\tbest: 0.2418795 (750)\ttotal: 8m 8s\tremaining: 2m 37s\n",
            "756:\tlearn: 0.2871396\ttest: 0.2419347\tbest: 0.2418795 (750)\ttotal: 8m 9s\tremaining: 2m 37s\n",
            "757:\tlearn: 0.2870539\ttest: 0.2418732\tbest: 0.2418732 (757)\ttotal: 8m 11s\tremaining: 2m 36s\n",
            "758:\tlearn: 0.2869475\ttest: 0.2418992\tbest: 0.2418732 (757)\ttotal: 8m 12s\tremaining: 2m 36s\n",
            "759:\tlearn: 0.2867929\ttest: 0.2418015\tbest: 0.2418015 (759)\ttotal: 8m 13s\tremaining: 2m 35s\n",
            "760:\tlearn: 0.2865611\ttest: 0.2413292\tbest: 0.2413292 (760)\ttotal: 8m 13s\tremaining: 2m 35s\n",
            "761:\tlearn: 0.2865206\ttest: 0.2412955\tbest: 0.2412955 (761)\ttotal: 8m 14s\tremaining: 2m 34s\n",
            "762:\tlearn: 0.2864718\ttest: 0.2412817\tbest: 0.2412817 (762)\ttotal: 8m 14s\tremaining: 2m 33s\n",
            "763:\tlearn: 0.2864355\ttest: 0.2412808\tbest: 0.2412808 (763)\ttotal: 8m 15s\tremaining: 2m 33s\n",
            "764:\tlearn: 0.2863805\ttest: 0.2412925\tbest: 0.2412808 (763)\ttotal: 8m 16s\tremaining: 2m 32s\n",
            "765:\tlearn: 0.2863096\ttest: 0.2412737\tbest: 0.2412737 (765)\ttotal: 8m 16s\tremaining: 2m 31s\n",
            "766:\tlearn: 0.2860484\ttest: 0.2410399\tbest: 0.2410399 (766)\ttotal: 8m 17s\tremaining: 2m 31s\n",
            "767:\tlearn: 0.2860149\ttest: 0.2410454\tbest: 0.2410399 (766)\ttotal: 8m 17s\tremaining: 2m 30s\n",
            "768:\tlearn: 0.2859384\ttest: 0.2409595\tbest: 0.2409595 (768)\ttotal: 8m 18s\tremaining: 2m 29s\n",
            "769:\tlearn: 0.2858410\ttest: 0.2409929\tbest: 0.2409595 (768)\ttotal: 8m 18s\tremaining: 2m 29s\n",
            "770:\tlearn: 0.2857234\ttest: 0.2409988\tbest: 0.2409595 (768)\ttotal: 8m 19s\tremaining: 2m 28s\n",
            "771:\tlearn: 0.2856712\ttest: 0.2410279\tbest: 0.2409595 (768)\ttotal: 8m 20s\tremaining: 2m 27s\n",
            "772:\tlearn: 0.2855467\ttest: 0.2409733\tbest: 0.2409595 (768)\ttotal: 8m 20s\tremaining: 2m 27s\n",
            "773:\tlearn: 0.2855128\ttest: 0.2409842\tbest: 0.2409595 (768)\ttotal: 8m 21s\tremaining: 2m 26s\n",
            "774:\tlearn: 0.2849722\ttest: 0.2401111\tbest: 0.2401111 (774)\ttotal: 8m 21s\tremaining: 2m 25s\n",
            "775:\tlearn: 0.2848766\ttest: 0.2401247\tbest: 0.2401111 (774)\ttotal: 8m 22s\tremaining: 2m 25s\n",
            "776:\tlearn: 0.2847822\ttest: 0.2401136\tbest: 0.2401111 (774)\ttotal: 8m 22s\tremaining: 2m 24s\n",
            "777:\tlearn: 0.2846398\ttest: 0.2400798\tbest: 0.2400798 (777)\ttotal: 8m 23s\tremaining: 2m 23s\n",
            "778:\tlearn: 0.2845816\ttest: 0.2400522\tbest: 0.2400522 (778)\ttotal: 8m 24s\tremaining: 2m 23s\n",
            "779:\tlearn: 0.2845242\ttest: 0.2400415\tbest: 0.2400415 (779)\ttotal: 8m 25s\tremaining: 2m 22s\n",
            "780:\tlearn: 0.2844556\ttest: 0.2400111\tbest: 0.2400111 (780)\ttotal: 8m 26s\tremaining: 2m 22s\n",
            "781:\tlearn: 0.2843732\ttest: 0.2400249\tbest: 0.2400111 (780)\ttotal: 8m 27s\tremaining: 2m 21s\n",
            "782:\tlearn: 0.2842651\ttest: 0.2399583\tbest: 0.2399583 (782)\ttotal: 8m 28s\tremaining: 2m 20s\n",
            "783:\tlearn: 0.2842050\ttest: 0.2399759\tbest: 0.2399583 (782)\ttotal: 8m 28s\tremaining: 2m 20s\n",
            "784:\tlearn: 0.2837765\ttest: 0.2391232\tbest: 0.2391232 (784)\ttotal: 8m 29s\tremaining: 2m 19s\n",
            "785:\tlearn: 0.2837437\ttest: 0.2391229\tbest: 0.2391229 (785)\ttotal: 8m 30s\tremaining: 2m 18s\n",
            "786:\tlearn: 0.2836476\ttest: 0.2390579\tbest: 0.2390579 (786)\ttotal: 8m 30s\tremaining: 2m 18s\n",
            "787:\tlearn: 0.2835404\ttest: 0.2390314\tbest: 0.2390314 (787)\ttotal: 8m 31s\tremaining: 2m 17s\n",
            "788:\tlearn: 0.2834736\ttest: 0.2390146\tbest: 0.2390146 (788)\ttotal: 8m 31s\tremaining: 2m 16s\n",
            "789:\tlearn: 0.2833319\ttest: 0.2389867\tbest: 0.2389867 (789)\ttotal: 8m 32s\tremaining: 2m 16s\n",
            "790:\tlearn: 0.2831787\ttest: 0.2389481\tbest: 0.2389481 (790)\ttotal: 8m 32s\tremaining: 2m 15s\n",
            "791:\tlearn: 0.2830707\ttest: 0.2388409\tbest: 0.2388409 (791)\ttotal: 8m 33s\tremaining: 2m 14s\n",
            "792:\tlearn: 0.2829815\ttest: 0.2387286\tbest: 0.2387286 (792)\ttotal: 8m 34s\tremaining: 2m 14s\n",
            "793:\tlearn: 0.2827299\ttest: 0.2385118\tbest: 0.2385118 (793)\ttotal: 8m 34s\tremaining: 2m 13s\n",
            "794:\tlearn: 0.2826037\ttest: 0.2385890\tbest: 0.2385118 (793)\ttotal: 8m 35s\tremaining: 2m 12s\n",
            "795:\tlearn: 0.2825062\ttest: 0.2385887\tbest: 0.2385118 (793)\ttotal: 8m 35s\tremaining: 2m 12s\n",
            "796:\tlearn: 0.2824734\ttest: 0.2385684\tbest: 0.2385118 (793)\ttotal: 8m 36s\tremaining: 2m 11s\n",
            "797:\tlearn: 0.2824186\ttest: 0.2385722\tbest: 0.2385118 (793)\ttotal: 8m 36s\tremaining: 2m 10s\n",
            "798:\tlearn: 0.2823806\ttest: 0.2385437\tbest: 0.2385118 (793)\ttotal: 8m 37s\tremaining: 2m 10s\n",
            "799:\tlearn: 0.2822895\ttest: 0.2384405\tbest: 0.2384405 (799)\ttotal: 8m 38s\tremaining: 2m 9s\n",
            "800:\tlearn: 0.2822210\ttest: 0.2384578\tbest: 0.2384405 (799)\ttotal: 8m 38s\tremaining: 2m 8s\n",
            "801:\tlearn: 0.2820945\ttest: 0.2385197\tbest: 0.2384405 (799)\ttotal: 8m 39s\tremaining: 2m 8s\n",
            "802:\tlearn: 0.2819131\ttest: 0.2384861\tbest: 0.2384405 (799)\ttotal: 8m 40s\tremaining: 2m 7s\n",
            "803:\tlearn: 0.2818541\ttest: 0.2384719\tbest: 0.2384405 (799)\ttotal: 8m 41s\tremaining: 2m 7s\n",
            "804:\tlearn: 0.2813916\ttest: 0.2379949\tbest: 0.2379949 (804)\ttotal: 8m 42s\tremaining: 2m 6s\n",
            "805:\tlearn: 0.2812900\ttest: 0.2379235\tbest: 0.2379235 (805)\ttotal: 8m 42s\tremaining: 2m 5s\n",
            "806:\tlearn: 0.2812212\ttest: 0.2378891\tbest: 0.2378891 (806)\ttotal: 8m 43s\tremaining: 2m 5s\n",
            "807:\tlearn: 0.2811318\ttest: 0.2379449\tbest: 0.2378891 (806)\ttotal: 8m 44s\tremaining: 2m 4s\n",
            "808:\tlearn: 0.2809918\ttest: 0.2378155\tbest: 0.2378155 (808)\ttotal: 8m 44s\tremaining: 2m 3s\n",
            "809:\tlearn: 0.2809100\ttest: 0.2378400\tbest: 0.2378155 (808)\ttotal: 8m 45s\tremaining: 2m 3s\n",
            "810:\tlearn: 0.2808438\ttest: 0.2378606\tbest: 0.2378155 (808)\ttotal: 8m 45s\tremaining: 2m 2s\n",
            "811:\tlearn: 0.2807171\ttest: 0.2376558\tbest: 0.2376558 (811)\ttotal: 8m 46s\tremaining: 2m 1s\n",
            "812:\tlearn: 0.2806668\ttest: 0.2376698\tbest: 0.2376558 (811)\ttotal: 8m 46s\tremaining: 2m 1s\n",
            "813:\tlearn: 0.2806252\ttest: 0.2376670\tbest: 0.2376558 (811)\ttotal: 8m 47s\tremaining: 2m\n",
            "814:\tlearn: 0.2805197\ttest: 0.2376880\tbest: 0.2376558 (811)\ttotal: 8m 47s\tremaining: 1m 59s\n",
            "815:\tlearn: 0.2804009\ttest: 0.2376579\tbest: 0.2376558 (811)\ttotal: 8m 48s\tremaining: 1m 59s\n",
            "816:\tlearn: 0.2803547\ttest: 0.2377138\tbest: 0.2376558 (811)\ttotal: 8m 49s\tremaining: 1m 58s\n",
            "817:\tlearn: 0.2803044\ttest: 0.2377163\tbest: 0.2376558 (811)\ttotal: 8m 49s\tremaining: 1m 57s\n",
            "818:\tlearn: 0.2801260\ttest: 0.2376903\tbest: 0.2376558 (811)\ttotal: 8m 50s\tremaining: 1m 57s\n",
            "819:\tlearn: 0.2800547\ttest: 0.2376851\tbest: 0.2376558 (811)\ttotal: 8m 50s\tremaining: 1m 56s\n",
            "820:\tlearn: 0.2799657\ttest: 0.2376760\tbest: 0.2376558 (811)\ttotal: 8m 51s\tremaining: 1m 55s\n",
            "821:\tlearn: 0.2798541\ttest: 0.2376909\tbest: 0.2376558 (811)\ttotal: 8m 52s\tremaining: 1m 55s\n",
            "822:\tlearn: 0.2798332\ttest: 0.2376886\tbest: 0.2376558 (811)\ttotal: 8m 53s\tremaining: 1m 54s\n",
            "823:\tlearn: 0.2796583\ttest: 0.2376420\tbest: 0.2376420 (823)\ttotal: 8m 53s\tremaining: 1m 54s\n",
            "824:\tlearn: 0.2796232\ttest: 0.2376569\tbest: 0.2376420 (823)\ttotal: 8m 54s\tremaining: 1m 53s\n",
            "825:\tlearn: 0.2795566\ttest: 0.2376443\tbest: 0.2376420 (823)\ttotal: 8m 55s\tremaining: 1m 52s\n",
            "826:\tlearn: 0.2794989\ttest: 0.2376511\tbest: 0.2376420 (823)\ttotal: 8m 56s\tremaining: 1m 52s\n",
            "827:\tlearn: 0.2794489\ttest: 0.2376348\tbest: 0.2376348 (827)\ttotal: 8m 57s\tremaining: 1m 51s\n",
            "828:\tlearn: 0.2793944\ttest: 0.2376798\tbest: 0.2376348 (827)\ttotal: 8m 57s\tremaining: 1m 50s\n",
            "829:\tlearn: 0.2792618\ttest: 0.2375337\tbest: 0.2375337 (829)\ttotal: 8m 58s\tremaining: 1m 50s\n",
            "830:\tlearn: 0.2792202\ttest: 0.2375365\tbest: 0.2375337 (829)\ttotal: 8m 58s\tremaining: 1m 49s\n",
            "831:\tlearn: 0.2790987\ttest: 0.2374155\tbest: 0.2374155 (831)\ttotal: 8m 59s\tremaining: 1m 48s\n",
            "832:\tlearn: 0.2789282\ttest: 0.2373832\tbest: 0.2373832 (832)\ttotal: 8m 59s\tremaining: 1m 48s\n",
            "833:\tlearn: 0.2787597\ttest: 0.2373044\tbest: 0.2373044 (833)\ttotal: 9m\tremaining: 1m 47s\n",
            "834:\tlearn: 0.2785606\ttest: 0.2372587\tbest: 0.2372587 (834)\ttotal: 9m\tremaining: 1m 46s\n",
            "835:\tlearn: 0.2784925\ttest: 0.2372961\tbest: 0.2372587 (834)\ttotal: 9m 1s\tremaining: 1m 46s\n",
            "836:\tlearn: 0.2784015\ttest: 0.2373142\tbest: 0.2372587 (834)\ttotal: 9m 2s\tremaining: 1m 45s\n",
            "837:\tlearn: 0.2783564\ttest: 0.2373104\tbest: 0.2372587 (834)\ttotal: 9m 2s\tremaining: 1m 44s\n",
            "838:\tlearn: 0.2781647\ttest: 0.2370881\tbest: 0.2370881 (838)\ttotal: 9m 3s\tremaining: 1m 44s\n",
            "839:\tlearn: 0.2780631\ttest: 0.2370701\tbest: 0.2370701 (839)\ttotal: 9m 3s\tremaining: 1m 43s\n",
            "840:\tlearn: 0.2779981\ttest: 0.2370494\tbest: 0.2370494 (840)\ttotal: 9m 4s\tremaining: 1m 42s\n",
            "841:\tlearn: 0.2779669\ttest: 0.2370477\tbest: 0.2370477 (841)\ttotal: 9m 4s\tremaining: 1m 42s\n",
            "842:\tlearn: 0.2779315\ttest: 0.2370309\tbest: 0.2370309 (842)\ttotal: 9m 5s\tremaining: 1m 41s\n",
            "843:\tlearn: 0.2778845\ttest: 0.2370491\tbest: 0.2370309 (842)\ttotal: 9m 6s\tremaining: 1m 40s\n",
            "844:\tlearn: 0.2777756\ttest: 0.2370315\tbest: 0.2370309 (842)\ttotal: 9m 7s\tremaining: 1m 40s\n",
            "845:\tlearn: 0.2777287\ttest: 0.2370502\tbest: 0.2370309 (842)\ttotal: 9m 7s\tremaining: 1m 39s\n",
            "846:\tlearn: 0.2776367\ttest: 0.2370468\tbest: 0.2370309 (842)\ttotal: 9m 9s\tremaining: 1m 39s\n",
            "847:\tlearn: 0.2774417\ttest: 0.2369055\tbest: 0.2369055 (847)\ttotal: 9m 10s\tremaining: 1m 38s\n",
            "848:\tlearn: 0.2773582\ttest: 0.2369147\tbest: 0.2369055 (847)\ttotal: 9m 10s\tremaining: 1m 37s\n",
            "849:\tlearn: 0.2772783\ttest: 0.2369334\tbest: 0.2369055 (847)\ttotal: 9m 11s\tremaining: 1m 37s\n",
            "850:\tlearn: 0.2769234\ttest: 0.2362096\tbest: 0.2362096 (850)\ttotal: 9m 11s\tremaining: 1m 36s\n",
            "851:\tlearn: 0.2768480\ttest: 0.2361598\tbest: 0.2361598 (851)\ttotal: 9m 12s\tremaining: 1m 35s\n",
            "852:\tlearn: 0.2767201\ttest: 0.2361715\tbest: 0.2361598 (851)\ttotal: 9m 13s\tremaining: 1m 35s\n",
            "853:\tlearn: 0.2767008\ttest: 0.2361685\tbest: 0.2361598 (851)\ttotal: 9m 13s\tremaining: 1m 34s\n",
            "854:\tlearn: 0.2766618\ttest: 0.2361581\tbest: 0.2361581 (854)\ttotal: 9m 14s\tremaining: 1m 33s\n",
            "855:\tlearn: 0.2765726\ttest: 0.2361297\tbest: 0.2361297 (855)\ttotal: 9m 14s\tremaining: 1m 33s\n",
            "856:\tlearn: 0.2765050\ttest: 0.2361297\tbest: 0.2361297 (855)\ttotal: 9m 15s\tremaining: 1m 32s\n",
            "857:\tlearn: 0.2764690\ttest: 0.2361381\tbest: 0.2361297 (855)\ttotal: 9m 15s\tremaining: 1m 31s\n",
            "858:\tlearn: 0.2763991\ttest: 0.2361397\tbest: 0.2361297 (855)\ttotal: 9m 16s\tremaining: 1m 31s\n",
            "859:\tlearn: 0.2762861\ttest: 0.2361676\tbest: 0.2361297 (855)\ttotal: 9m 17s\tremaining: 1m 30s\n",
            "860:\tlearn: 0.2762169\ttest: 0.2361825\tbest: 0.2361297 (855)\ttotal: 9m 17s\tremaining: 1m 30s\n",
            "861:\tlearn: 0.2761767\ttest: 0.2362073\tbest: 0.2361297 (855)\ttotal: 9m 18s\tremaining: 1m 29s\n",
            "862:\tlearn: 0.2761210\ttest: 0.2361881\tbest: 0.2361297 (855)\ttotal: 9m 18s\tremaining: 1m 28s\n",
            "863:\tlearn: 0.2760524\ttest: 0.2361848\tbest: 0.2361297 (855)\ttotal: 9m 19s\tremaining: 1m 28s\n",
            "864:\tlearn: 0.2760008\ttest: 0.2362076\tbest: 0.2361297 (855)\ttotal: 9m 19s\tremaining: 1m 27s\n",
            "865:\tlearn: 0.2759388\ttest: 0.2362047\tbest: 0.2361297 (855)\ttotal: 9m 20s\tremaining: 1m 26s\n",
            "866:\tlearn: 0.2758333\ttest: 0.2361886\tbest: 0.2361297 (855)\ttotal: 9m 21s\tremaining: 1m 26s\n",
            "867:\tlearn: 0.2758108\ttest: 0.2361883\tbest: 0.2361297 (855)\ttotal: 9m 21s\tremaining: 1m 25s\n",
            "868:\tlearn: 0.2756923\ttest: 0.2361716\tbest: 0.2361297 (855)\ttotal: 9m 22s\tremaining: 1m 24s\n",
            "869:\tlearn: 0.2756542\ttest: 0.2361829\tbest: 0.2361297 (855)\ttotal: 9m 23s\tremaining: 1m 24s\n",
            "870:\tlearn: 0.2756043\ttest: 0.2361824\tbest: 0.2361297 (855)\ttotal: 9m 24s\tremaining: 1m 23s\n",
            "871:\tlearn: 0.2755724\ttest: 0.2361744\tbest: 0.2361297 (855)\ttotal: 9m 25s\tremaining: 1m 22s\n",
            "872:\tlearn: 0.2754476\ttest: 0.2361837\tbest: 0.2361297 (855)\ttotal: 9m 25s\tremaining: 1m 22s\n",
            "873:\tlearn: 0.2753392\ttest: 0.2362173\tbest: 0.2361297 (855)\ttotal: 9m 26s\tremaining: 1m 21s\n",
            "874:\tlearn: 0.2753080\ttest: 0.2362269\tbest: 0.2361297 (855)\ttotal: 9m 26s\tremaining: 1m 20s\n",
            "875:\tlearn: 0.2751738\ttest: 0.2362509\tbest: 0.2361297 (855)\ttotal: 9m 27s\tremaining: 1m 20s\n",
            "876:\tlearn: 0.2751314\ttest: 0.2362639\tbest: 0.2361297 (855)\ttotal: 9m 27s\tremaining: 1m 19s\n",
            "877:\tlearn: 0.2750577\ttest: 0.2362638\tbest: 0.2361297 (855)\ttotal: 9m 28s\tremaining: 1m 18s\n",
            "878:\tlearn: 0.2749061\ttest: 0.2363085\tbest: 0.2361297 (855)\ttotal: 9m 28s\tremaining: 1m 18s\n",
            "879:\tlearn: 0.2748542\ttest: 0.2363347\tbest: 0.2361297 (855)\ttotal: 9m 29s\tremaining: 1m 17s\n",
            "880:\tlearn: 0.2748486\ttest: 0.2363337\tbest: 0.2361297 (855)\ttotal: 9m 30s\tremaining: 1m 16s\n",
            "Stopped by overfitting detector  (25 iterations wait)\n",
            "\n",
            "bestTest = 0.2361296621\n",
            "bestIteration = 855\n",
            "\n",
            "Shrink model to first 856 iterations.\n"
          ]
        }
      ]
    },
    {
      "cell_type": "code",
      "source": [],
      "metadata": {
        "id": "GwygmshnGHui"
      },
      "execution_count": null,
      "outputs": []
    },
    {
      "cell_type": "code",
      "source": [
        "y_val[:30].values"
      ],
      "metadata": {
        "id": "UgIR1Jf7bVAW",
        "colab": {
          "base_uri": "https://localhost:8080/"
        },
        "outputId": "8ea06256-3192-47be-d9b5-c79b3492d3eb"
      },
      "execution_count": 104,
      "outputs": [
        {
          "output_type": "execute_result",
          "data": {
            "text/plain": [
              "array([0, 0, 0, 0, 1, 1, 0, 1, 0, 0, 0, 1, 1, 0, 0, 1, 0, 1, 0, 1, 0, 1,\n",
              "       0, 0, 0, 1, 1, 0, 1, 0])"
            ]
          },
          "metadata": {},
          "execution_count": 104
        }
      ]
    },
    {
      "cell_type": "code",
      "source": [
        "pred_probs = sales_probability_model.predict_proba(X_val)\n",
        "pred_probs[:30][:,1]"
      ],
      "metadata": {
        "colab": {
          "base_uri": "https://localhost:8080/"
        },
        "id": "S5ptcJhHQcW1",
        "outputId": "23f7e39e-7590-426c-ba6b-76e729458f8a"
      },
      "execution_count": 105,
      "outputs": [
        {
          "output_type": "execute_result",
          "data": {
            "text/plain": [
              "array([4.39198204e-02, 2.60058597e-03, 2.09973356e-02, 1.54301690e-01,\n",
              "       9.25496633e-01, 8.94786619e-01, 4.16982372e-01, 4.75258277e-01,\n",
              "       1.68423247e-05, 1.79562553e-01, 4.40086527e-02, 9.63001987e-01,\n",
              "       2.07169103e-01, 3.24395306e-01, 6.82226195e-03, 9.36157066e-01,\n",
              "       7.68144042e-02, 7.32619651e-01, 2.01662361e-02, 6.78307609e-01,\n",
              "       5.47477339e-02, 1.88452692e-01, 4.11208671e-02, 1.74819614e-02,\n",
              "       3.84262540e-02, 8.89958679e-01, 9.98163621e-01, 5.33848426e-04,\n",
              "       9.77461056e-01, 2.86668289e-01])"
            ]
          },
          "metadata": {},
          "execution_count": 105
        }
      ]
    },
    {
      "cell_type": "code",
      "source": [
        "# # tune the threshold\n",
        "\n",
        "# def plot_mterics_report(y_val, pred_probs, t):\n",
        "#   bc = BinaryClassification(y_val, pred_probs[:, 1], labels=[\"Not Sellable\", \"Sellable\"])\n",
        "\n",
        "#   # Figures\n",
        "#   plt.figure(figsize=(15,10))\n",
        "#   plt.subplot2grid(shape=(2,6), loc=(0,0), colspan=2)\n",
        "#   bc.plot_roc_curve(threshold = t)\n",
        "#   plt.subplot2grid((2,6), (0,2), colspan=2)\n",
        "#   bc.plot_precision_recall_curve(threshold = t)\n",
        "#   plt.subplot2grid((2,6), (0,4), colspan=2)\n",
        "#   bc.plot_class_distribution(pal_colors=['r','g','m','k'], threshold = t)\n",
        "#   plt.subplot2grid((2,6), (1,1), colspan=2)\n",
        "#   a = bc.plot_confusion_matrix(threshold = t)\n",
        "\n",
        "#   plt.show()\n",
        "#   bc.print_report(threshold = t)\n",
        "\n",
        "# plot_mterics_report(y_val, pred_probs, t = 0.4)"
      ],
      "metadata": {
        "id": "Q4ADz-Lv4xD4"
      },
      "execution_count": 107,
      "outputs": []
    },
    {
      "cell_type": "code",
      "source": [],
      "metadata": {
        "id": "u9nAk1mc9HMM"
      },
      "execution_count": null,
      "outputs": []
    },
    {
      "cell_type": "code",
      "source": [
        "# ['sku_number', 'brand', 'product_category', 'product_subcategory', 'seller_name', 'time', 'shelf_life_remaining_days',\n",
        "#               'listing_condition', 'liquidation_channel', 'depletion_percent']"
      ],
      "metadata": {
        "id": "Em7lW81r5fqV"
      },
      "execution_count": null,
      "outputs": []
    },
    {
      "cell_type": "code",
      "source": [
        "repeated_inv[repeated_inv.possible == 1].sample()[train_cols].values[0]"
      ],
      "metadata": {
        "colab": {
          "base_uri": "https://localhost:8080/"
        },
        "id": "uujyphuQ8-zC",
        "outputId": "01a49e3c-7f57-453c-91fa-ba0940f700fa"
      },
      "execution_count": 185,
      "outputs": [
        {
          "output_type": "execute_result",
          "data": {
            "text/plain": [
              "array(['G4246600', \"l'oreal_paris\", 'hair_care', 'hair_color',\n",
              "       \"l'oreal_thailand\", 27.0, 535.0, 'excess', 'retailer',\n",
              "       21.79591836734694], dtype=object)"
            ]
          },
          "metadata": {},
          "execution_count": 185
        }
      ]
    },
    {
      "cell_type": "code",
      "source": [
        "test_data_point = ['G4246600', \"l'oreal_paris\", 'hair_care', 'hair_color',\n",
        "       \"l'oreal_thailand\", 60.0, 500.0, 'excess', 'retailer',\n",
        "       70]"
      ],
      "metadata": {
        "id": "nptkvNqeTkCt"
      },
      "execution_count": 198,
      "outputs": []
    },
    {
      "cell_type": "code",
      "source": [
        "sales_probability_model.predict_proba(test_data_point)[1]"
      ],
      "metadata": {
        "colab": {
          "base_uri": "https://localhost:8080/"
        },
        "id": "FGzpeRBAQd3b",
        "outputId": "9426c17c-5e03-4055-ab1a-f3c95d60379b"
      },
      "execution_count": 199,
      "outputs": [
        {
          "output_type": "execute_result",
          "data": {
            "text/plain": [
              "0.061740172250280896"
            ]
          },
          "metadata": {},
          "execution_count": 199
        }
      ]
    },
    {
      "cell_type": "code",
      "source": [],
      "metadata": {
        "id": "E7UpC-zMhY7Y"
      },
      "execution_count": null,
      "outputs": []
    },
    {
      "cell_type": "code",
      "source": [
        "# def dump_files_for_inference_pipeline():\n",
        "#   print('Dumping files for inference later ...')\n",
        "#   joblib.dump(sales_probability_model, '/content/drive/MyDrive/PSI_Modeling_Data/depletion_model/sales_probability_model.pkl')"
      ],
      "metadata": {
        "id": "ksGXb82z5KBR"
      },
      "execution_count": 122,
      "outputs": []
    },
    {
      "cell_type": "code",
      "source": [
        "# dump_files_for_inference_pipeline()"
      ],
      "metadata": {
        "id": "HvLI-IDcWXrO"
      },
      "execution_count": 123,
      "outputs": []
    },
    {
      "cell_type": "code",
      "source": [],
      "metadata": {
        "id": "Jw8FjkVQWZtR"
      },
      "execution_count": null,
      "outputs": []
    }
  ]
}