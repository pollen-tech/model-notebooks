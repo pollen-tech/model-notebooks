{
  "cells": [
    {
      "cell_type": "code",
      "execution_count": null,
      "metadata": {
        "colab": {
          "base_uri": "https://localhost:8080/"
        },
        "id": "Zg3MFecHIfeb",
        "outputId": "e49098e5-683c-4a61-ca1c-cdb5910c34fa"
      },
      "outputs": [
        {
          "output_type": "stream",
          "name": "stdout",
          "text": [
            "Requirement already satisfied: catboost in /usr/local/lib/python3.11/dist-packages (1.2.8)\n",
            "Requirement already satisfied: graphviz in /usr/local/lib/python3.11/dist-packages (from catboost) (0.20.3)\n",
            "Requirement already satisfied: matplotlib in /usr/local/lib/python3.11/dist-packages (from catboost) (3.10.0)\n",
            "Requirement already satisfied: numpy<3.0,>=1.16.0 in /usr/local/lib/python3.11/dist-packages (from catboost) (2.0.2)\n",
            "Requirement already satisfied: pandas>=0.24 in /usr/local/lib/python3.11/dist-packages (from catboost) (2.2.2)\n",
            "Requirement already satisfied: scipy in /usr/local/lib/python3.11/dist-packages (from catboost) (1.15.2)\n",
            "Requirement already satisfied: plotly in /usr/local/lib/python3.11/dist-packages (from catboost) (5.24.1)\n",
            "Requirement already satisfied: six in /usr/local/lib/python3.11/dist-packages (from catboost) (1.17.0)\n",
            "Requirement already satisfied: python-dateutil>=2.8.2 in /usr/local/lib/python3.11/dist-packages (from pandas>=0.24->catboost) (2.9.0.post0)\n",
            "Requirement already satisfied: pytz>=2020.1 in /usr/local/lib/python3.11/dist-packages (from pandas>=0.24->catboost) (2025.2)\n",
            "Requirement already satisfied: tzdata>=2022.7 in /usr/local/lib/python3.11/dist-packages (from pandas>=0.24->catboost) (2025.2)\n",
            "Requirement already satisfied: contourpy>=1.0.1 in /usr/local/lib/python3.11/dist-packages (from matplotlib->catboost) (1.3.2)\n",
            "Requirement already satisfied: cycler>=0.10 in /usr/local/lib/python3.11/dist-packages (from matplotlib->catboost) (0.12.1)\n",
            "Requirement already satisfied: fonttools>=4.22.0 in /usr/local/lib/python3.11/dist-packages (from matplotlib->catboost) (4.57.0)\n",
            "Requirement already satisfied: kiwisolver>=1.3.1 in /usr/local/lib/python3.11/dist-packages (from matplotlib->catboost) (1.4.8)\n",
            "Requirement already satisfied: packaging>=20.0 in /usr/local/lib/python3.11/dist-packages (from matplotlib->catboost) (24.2)\n",
            "Requirement already satisfied: pillow>=8 in /usr/local/lib/python3.11/dist-packages (from matplotlib->catboost) (11.2.1)\n",
            "Requirement already satisfied: pyparsing>=2.3.1 in /usr/local/lib/python3.11/dist-packages (from matplotlib->catboost) (3.2.3)\n",
            "Requirement already satisfied: tenacity>=6.2.0 in /usr/local/lib/python3.11/dist-packages (from plotly->catboost) (9.1.2)\n"
          ]
        }
      ],
      "source": [
        "!pip install catboost"
      ]
    },
    {
      "cell_type": "code",
      "execution_count": null,
      "metadata": {
        "colab": {
          "base_uri": "https://localhost:8080/"
        },
        "id": "050wlxJp2ZaL",
        "outputId": "73d5c6be-6a8a-4bcd-9ef2-8469a477c176"
      },
      "outputs": [
        {
          "output_type": "stream",
          "name": "stdout",
          "text": [
            "Requirement already satisfied: feature_engine in /usr/local/lib/python3.11/dist-packages (1.8.3)\n",
            "Requirement already satisfied: numpy>=1.18.2 in /usr/local/lib/python3.11/dist-packages (from feature_engine) (2.0.2)\n",
            "Requirement already satisfied: pandas>=2.2.0 in /usr/local/lib/python3.11/dist-packages (from feature_engine) (2.2.2)\n",
            "Requirement already satisfied: scikit-learn>=1.4.0 in /usr/local/lib/python3.11/dist-packages (from feature_engine) (1.6.1)\n",
            "Requirement already satisfied: scipy>=1.4.1 in /usr/local/lib/python3.11/dist-packages (from feature_engine) (1.15.2)\n",
            "Requirement already satisfied: statsmodels>=0.11.1 in /usr/local/lib/python3.11/dist-packages (from feature_engine) (0.14.4)\n",
            "Requirement already satisfied: python-dateutil>=2.8.2 in /usr/local/lib/python3.11/dist-packages (from pandas>=2.2.0->feature_engine) (2.9.0.post0)\n",
            "Requirement already satisfied: pytz>=2020.1 in /usr/local/lib/python3.11/dist-packages (from pandas>=2.2.0->feature_engine) (2025.2)\n",
            "Requirement already satisfied: tzdata>=2022.7 in /usr/local/lib/python3.11/dist-packages (from pandas>=2.2.0->feature_engine) (2025.2)\n",
            "Requirement already satisfied: joblib>=1.2.0 in /usr/local/lib/python3.11/dist-packages (from scikit-learn>=1.4.0->feature_engine) (1.4.2)\n",
            "Requirement already satisfied: threadpoolctl>=3.1.0 in /usr/local/lib/python3.11/dist-packages (from scikit-learn>=1.4.0->feature_engine) (3.6.0)\n",
            "Requirement already satisfied: patsy>=0.5.6 in /usr/local/lib/python3.11/dist-packages (from statsmodels>=0.11.1->feature_engine) (1.0.1)\n",
            "Requirement already satisfied: packaging>=21.3 in /usr/local/lib/python3.11/dist-packages (from statsmodels>=0.11.1->feature_engine) (24.2)\n",
            "Requirement already satisfied: six>=1.5 in /usr/local/lib/python3.11/dist-packages (from python-dateutil>=2.8.2->pandas>=2.2.0->feature_engine) (1.17.0)\n"
          ]
        }
      ],
      "source": [
        "!pip install feature_engine"
      ]
    },
    {
      "cell_type": "code",
      "execution_count": null,
      "metadata": {
        "id": "HNUJYZaAIWvV",
        "colab": {
          "base_uri": "https://localhost:8080/"
        },
        "outputId": "8d58391b-d1cf-45d7-a66c-02be4eec0fb3"
      },
      "outputs": [
        {
          "output_type": "stream",
          "name": "stdout",
          "text": [
            "Mounted at /content/drive\n"
          ]
        }
      ],
      "source": [
        "import pandas as pd\n",
        "import numpy as np\n",
        "import warnings\n",
        "import joblib\n",
        "import plotly.express as px\n",
        "from google.colab import drive\n",
        "from datetime import date, timedelta\n",
        "import matplotlib.pyplot as plt\n",
        "from catboost import CatBoostClassifier, CatBoostRegressor\n",
        "from sklearn.model_selection import train_test_split\n",
        "# from plot_metric.functions import BinaryClassification\n",
        "from datetime import datetime\n",
        "import random\n",
        "from sklearn.preprocessing import StandardScaler, LabelEncoder\n",
        "from sklearn.cluster import DBSCAN, MeanShift\n",
        "from sklearn.experimental import enable_iterative_imputer\n",
        "from sklearn.impute import IterativeImputer\n",
        "from sklearn.metrics import silhouette_score, davies_bouldin_score\n",
        "\n",
        "warnings.filterwarnings('ignore')\n",
        "pd.options.display.max_columns = 500\n",
        "\n",
        "from google.colab import auth\n",
        "import gspread\n",
        "from google.auth import default\n",
        "\n",
        "auth.authenticate_user()\n",
        "creds, _ = default()\n",
        "gc = gspread.authorize(creds)\n",
        "drive.mount('/content/drive',  force_remount=True)"
      ]
    },
    {
      "cell_type": "code",
      "execution_count": null,
      "metadata": {
        "id": "xuGIyhxsPjh1"
      },
      "outputs": [],
      "source": [
        "import json\n",
        "data = {\n",
        "  \"account\": \"\",\n",
        "  \"client_id\": \"764086051850-6qr4p6gpi6hn506pt8ejuq83di341hur.apps.googleusercontent.com\",\n",
        "  \"client_secret\": \"d-FL95Q19q7MQmFpd7hHD0Ty\",\n",
        "  \"quota_project_id\": \"dev-sd-lake\",\n",
        "  \"refresh_token\": \"1//05nz9IRnR1e2JCgYIARAAGAUSNwF-L9Ir_zi7EkfNFJb02e5XxL3e4Qicf7BN708CjMo66DuPPMhkd09jS6lIra-zubUPFGORcyU\",\n",
        "  \"type\": \"authorized_user\",\n",
        "  \"universe_domain\": \"googleapis.com\"\n",
        "}\n",
        "json_data = json.dumps(data)\n",
        "!echo '{json_data}' > '/content/.config/application_default_credentials.json'"
      ]
    },
    {
      "cell_type": "code",
      "execution_count": null,
      "metadata": {
        "id": "udoUEYdZTqPC"
      },
      "outputs": [],
      "source": [
        "from google.cloud import bigquery\n",
        "\n",
        "client = bigquery.Client(project='dev-sd-lake')\n",
        "\n",
        "category_total_shelf_life_query = \"\"\"\n",
        "SELECT * FROM pollen.category_total_shelf_life;\n",
        "\"\"\"\n",
        "\n",
        "category_total_shelf_life = client.query_and_wait(category_total_shelf_life_query).to_dataframe()\n",
        "category_total_shelf_life = category_total_shelf_life.rename(columns=category_total_shelf_life.iloc[0]).iloc[1:].reset_index(drop = True)"
      ]
    },
    {
      "cell_type": "code",
      "execution_count": null,
      "metadata": {
        "id": "fbpwwJYiPneK"
      },
      "outputs": [],
      "source": [
        "from google.cloud import bigquery\n",
        "\n",
        "client = bigquery.Client(project='dev-sd-lake')\n",
        "\n",
        "product_listings_query = \"\"\"\n",
        "SELECT * FROM pollen.product_listings;\n",
        "\"\"\"\n",
        "\n",
        "product_listings = client.query_and_wait(product_listings_query).to_dataframe()\n",
        "\n",
        "\n",
        "client = bigquery.Client(project='dev-sd-lake')\n",
        "\n",
        "products_query = \"\"\"\n",
        "SELECT * FROM pollen.products;\n",
        "\"\"\"\n",
        "\n",
        "products = client.query_and_wait(products_query).to_dataframe()\n",
        "\n",
        "\n",
        "client = bigquery.Client(project='dev-sd-lake')\n",
        "\n",
        "product_categories_query = \"\"\"\n",
        "SELECT * FROM pollen.product_categories;\n",
        "\"\"\"\n",
        "\n",
        "product_categories = client.query_and_wait(product_categories_query).to_dataframe()\n",
        "\n",
        "\n",
        "client = bigquery.Client(project='dev-sd-lake')\n",
        "\n",
        "product_subcategories_query = \"\"\"\n",
        "SELECT * FROM pollen.product_subcategories;\n",
        "\"\"\"\n",
        "\n",
        "product_subcategories = client.query_and_wait(product_subcategories_query).to_dataframe()\n",
        "\n",
        "client = bigquery.Client(project='dev-sd-lake')\n",
        "\n",
        "sellers_query = \"\"\"\n",
        "SELECT * FROM pollen.sellers;\n",
        "\"\"\"\n",
        "\n",
        "sellers = client.query_and_wait(sellers_query).to_dataframe()"
      ]
    },
    {
      "cell_type": "code",
      "execution_count": null,
      "metadata": {
        "id": "8bLBsH5GDuDC"
      },
      "outputs": [],
      "source": [
        "offers_query = \"\"\"\n",
        "SELECT * FROM pollen.offers;\n",
        "\"\"\"\n",
        "\n",
        "offers = client.query_and_wait(offers_query).to_dataframe()"
      ]
    },
    {
      "cell_type": "code",
      "execution_count": null,
      "metadata": {
        "id": "9rcmleQ_DvrJ"
      },
      "outputs": [],
      "source": [
        "orders_level_1_query = \"\"\"\n",
        "SELECT * FROM pollen.orders_level_1;\n",
        "\"\"\"\n",
        "\n",
        "orders_level_1 = client.query_and_wait(orders_level_1_query).to_dataframe()"
      ]
    },
    {
      "cell_type": "code",
      "execution_count": null,
      "metadata": {
        "id": "oivfUCKDDxnD"
      },
      "outputs": [],
      "source": [
        "orders_level_2_query = \"\"\"\n",
        "SELECT * FROM pollen.orders_level_2;\n",
        "\"\"\"\n",
        "\n",
        "orders_level_2 = client.query_and_wait(orders_level_2_query).to_dataframe()"
      ]
    },
    {
      "cell_type": "code",
      "execution_count": null,
      "metadata": {
        "id": "8ed1Mx0XSmuU"
      },
      "outputs": [],
      "source": [
        "sellers = sellers[['seller_name', 'persona_seller_type']].drop_duplicates()"
      ]
    },
    {
      "cell_type": "code",
      "execution_count": null,
      "metadata": {
        "id": "kRZgEJu6l6wP",
        "colab": {
          "base_uri": "https://localhost:8080/"
        },
        "outputId": "9bdaa326-6530-4e2c-9e70-67b445d3cd16"
      },
      "outputs": [
        {
          "output_type": "stream",
          "name": "stdout",
          "text": [
            "(182283, 41) (182291, 9) (30, 3) (223, 4) (109, 2)\n"
          ]
        }
      ],
      "source": [
        "print(product_listings.shape, products.shape, product_categories.shape, product_subcategories.shape, sellers.shape)"
      ]
    },
    {
      "cell_type": "code",
      "execution_count": null,
      "metadata": {
        "id": "TENISfYMy1K3"
      },
      "outputs": [],
      "source": [
        "def get_order_date(df_order_sheet1, df_order_sheet2):\n",
        "  order_date_to_tracking_no_mapping = df_order_sheet1[['tracking_no', 'order_date']].drop_duplicates()\n",
        "  df_order_sheet2 = pd.merge(df_order_sheet2, order_date_to_tracking_no_mapping, 'left',  on = ['tracking_no'])\n",
        "  df_order_sheet2.drop('date_of_order', axis = 1, inplace = True)\n",
        "  df_order = df_order_sheet2.copy()\n",
        "  return df_order\n",
        "\n",
        "orders = get_order_date(orders_level_1, orders_level_2)"
      ]
    },
    {
      "cell_type": "code",
      "execution_count": null,
      "metadata": {
        "id": "vEJS7CieEB2-"
      },
      "outputs": [],
      "source": [
        "orders = orders.drop_duplicates(subset = ['sku_number', 'expiry_date', 'tracking_no'])\n",
        "offers = offers.drop_duplicates(subset = ['sku_number', 'expiry_date', 'tracking_no'])\n",
        "offers = offers.rename(columns = {'total_units' : 'total_units_offered'})\n",
        "orders = orders.rename(columns = {'total_units' : 'total_units_ordered', 'total_offer_price_usd' : 'total_order_price_usd'})\n",
        "\n",
        "offers = pd.merge(offers, orders[['sku_number', 'expiry_date', 'tracking_no', 'total_units_ordered', 'recovery_rate_percentage', 'total_order_price_usd']], 'left', on = ['sku_number', 'expiry_date', 'tracking_no'])"
      ]
    },
    {
      "cell_type": "code",
      "execution_count": null,
      "metadata": {
        "id": "fBVd-jaEW77I"
      },
      "outputs": [],
      "source": [
        "product_subcategories = product_subcategories.rename(columns = {'id' : 'subcategory_id', 'name' : 'product_subcategory'})\n",
        "product_categories = product_categories.rename(columns = {'id' : 'category_id', 'name' : 'product_category'})\n",
        "\n",
        "products = pd.merge(products, product_categories, 'left', on = 'category_id')\n",
        "products = pd.merge(products, product_subcategories[['subcategory_id', 'product_subcategory']], 'left', on = 'subcategory_id')"
      ]
    },
    {
      "cell_type": "code",
      "execution_count": null,
      "metadata": {
        "id": "bjiUXxW8xchN"
      },
      "outputs": [],
      "source": [
        "products = products.rename(columns = {'id' : 'product_id'})\n",
        "products = products.drop(['parent_product_id', 'created_at', 'updated_at', 'category_id', 'subcategory_id'], axis = 1)\n",
        "\n",
        "product_listings = product_listings.drop(['created_at', 'updated_at', 'pollen_updated_price_per_unit_local',\n",
        "                       'barcode', 'barcode_key', 'manufactured_date', 'batch_number', 'image_links', 'usd_conversion', 'scoring'], axis = 1)\n",
        "product_listings = pd.merge(product_listings, products, 'left', on = 'product_id')"
      ]
    },
    {
      "cell_type": "code",
      "execution_count": null,
      "metadata": {
        "id": "xG4VEdOGGVz-",
        "colab": {
          "base_uri": "https://localhost:8080/",
          "height": 236
        },
        "outputId": "00504eb5-83b2-4806-d06b-64a818dd447d"
      },
      "outputs": [
        {
          "output_type": "execute_result",
          "data": {
            "text/plain": [
              "                                     id                            product_id  \\\n",
              "0  2d61c777-e0d5-4744-b9eb-dd24f74ee061  44642cbd-8752-4f55-a368-669f22e9e8f8   \n",
              "1  41508680-7c85-47aa-a54c-2bcbbddb56e9  6ca31813-8cac-4459-a53e-d68b62bf337d   \n",
              "\n",
              "         seller_id                record_id        seller_name expiry_date  \\\n",
              "0  SE1712631761502  SE1712631761502G4311200  L'Oreal Indonesia  2025-01-01   \n",
              "1  SE1712631761502  SE1712631761502G4218000  L'Oreal Indonesia  2025-01-28   \n",
              "\n",
              "  package_type  qty_of_carton  units_per_package_type  total_number_of_items  \\\n",
              "0       Carton          64.20                    60.0                 3852.0   \n",
              "1       Carton          58.43                    60.0                 3506.0   \n",
              "\n",
              "  currency  retail_price_per_unit_local  asking_price_per_unit_local  \\\n",
              "0      IDR                      24900.0                       5991.5   \n",
              "1      IDR                      23400.0                       6552.7   \n",
              "\n",
              "   pack_size_number pack_size_unit  cbm_carton  length  breadth  height  \\\n",
              "0              31.0              g        0.01   254.0    156.0   219.0   \n",
              "1              19.7              g        0.01   185.0    150.0   197.0   \n",
              "\n",
              "  unit_dimensions  weight_per_carton_kg warehouse_address warehouse_country  \\\n",
              "0              MM                  2.24            Bekasi         Indonesia   \n",
              "1              MM                  1.42            Bekasi         Indonesia   \n",
              "\n",
              "  country_of_origin package_labeled_language  product_restriction priority  \\\n",
              "0                 -                        -                  NaN       P2   \n",
              "1                 -                        -                  NaN       P2   \n",
              "\n",
              "   retail_price_per_unit_usd  asking_price_per_unit_usd inventory_class  \\\n",
              "0                       1.53                       0.37            CORE   \n",
              "1                       1.44                       0.40            CORE   \n",
              "\n",
              "   updated_on sku_number                  sku_product_name    brand  \\\n",
              "0  2024-05-28   G4311200     GRN 2 STEP PW MASK B5 GOJI EB  GARNIER   \n",
              "1  2024-05-28   G4218000  GRN 5 MIN AMP MASK WATERMELON EB  GARNIER   \n",
              "\n",
              "  product_category description  product_subcategory  \n",
              "0        SKIN CARE   SKIN CARE  MASKS & EXFOLIATORS  \n",
              "1        SKIN CARE   SKIN CARE  MASKS & EXFOLIATORS  "
            ],
            "text/html": [
              "\n",
              "  <div id=\"df-fa32c454-1f5c-4925-b0a7-94a90c5d32a3\" class=\"colab-df-container\">\n",
              "    <div>\n",
              "<style scoped>\n",
              "    .dataframe tbody tr th:only-of-type {\n",
              "        vertical-align: middle;\n",
              "    }\n",
              "\n",
              "    .dataframe tbody tr th {\n",
              "        vertical-align: top;\n",
              "    }\n",
              "\n",
              "    .dataframe thead th {\n",
              "        text-align: right;\n",
              "    }\n",
              "</style>\n",
              "<table border=\"1\" class=\"dataframe\">\n",
              "  <thead>\n",
              "    <tr style=\"text-align: right;\">\n",
              "      <th></th>\n",
              "      <th>id</th>\n",
              "      <th>product_id</th>\n",
              "      <th>seller_id</th>\n",
              "      <th>record_id</th>\n",
              "      <th>seller_name</th>\n",
              "      <th>expiry_date</th>\n",
              "      <th>package_type</th>\n",
              "      <th>qty_of_carton</th>\n",
              "      <th>units_per_package_type</th>\n",
              "      <th>total_number_of_items</th>\n",
              "      <th>currency</th>\n",
              "      <th>retail_price_per_unit_local</th>\n",
              "      <th>asking_price_per_unit_local</th>\n",
              "      <th>pack_size_number</th>\n",
              "      <th>pack_size_unit</th>\n",
              "      <th>cbm_carton</th>\n",
              "      <th>length</th>\n",
              "      <th>breadth</th>\n",
              "      <th>height</th>\n",
              "      <th>unit_dimensions</th>\n",
              "      <th>weight_per_carton_kg</th>\n",
              "      <th>warehouse_address</th>\n",
              "      <th>warehouse_country</th>\n",
              "      <th>country_of_origin</th>\n",
              "      <th>package_labeled_language</th>\n",
              "      <th>product_restriction</th>\n",
              "      <th>priority</th>\n",
              "      <th>retail_price_per_unit_usd</th>\n",
              "      <th>asking_price_per_unit_usd</th>\n",
              "      <th>inventory_class</th>\n",
              "      <th>updated_on</th>\n",
              "      <th>sku_number</th>\n",
              "      <th>sku_product_name</th>\n",
              "      <th>brand</th>\n",
              "      <th>product_category</th>\n",
              "      <th>description</th>\n",
              "      <th>product_subcategory</th>\n",
              "    </tr>\n",
              "  </thead>\n",
              "  <tbody>\n",
              "    <tr>\n",
              "      <th>0</th>\n",
              "      <td>2d61c777-e0d5-4744-b9eb-dd24f74ee061</td>\n",
              "      <td>44642cbd-8752-4f55-a368-669f22e9e8f8</td>\n",
              "      <td>SE1712631761502</td>\n",
              "      <td>SE1712631761502G4311200</td>\n",
              "      <td>L'Oreal Indonesia</td>\n",
              "      <td>2025-01-01</td>\n",
              "      <td>Carton</td>\n",
              "      <td>64.20</td>\n",
              "      <td>60.0</td>\n",
              "      <td>3852.0</td>\n",
              "      <td>IDR</td>\n",
              "      <td>24900.0</td>\n",
              "      <td>5991.5</td>\n",
              "      <td>31.0</td>\n",
              "      <td>g</td>\n",
              "      <td>0.01</td>\n",
              "      <td>254.0</td>\n",
              "      <td>156.0</td>\n",
              "      <td>219.0</td>\n",
              "      <td>MM</td>\n",
              "      <td>2.24</td>\n",
              "      <td>Bekasi</td>\n",
              "      <td>Indonesia</td>\n",
              "      <td>-</td>\n",
              "      <td>-</td>\n",
              "      <td>NaN</td>\n",
              "      <td>P2</td>\n",
              "      <td>1.53</td>\n",
              "      <td>0.37</td>\n",
              "      <td>CORE</td>\n",
              "      <td>2024-05-28</td>\n",
              "      <td>G4311200</td>\n",
              "      <td>GRN 2 STEP PW MASK B5 GOJI EB</td>\n",
              "      <td>GARNIER</td>\n",
              "      <td>SKIN CARE</td>\n",
              "      <td>SKIN CARE</td>\n",
              "      <td>MASKS &amp; EXFOLIATORS</td>\n",
              "    </tr>\n",
              "    <tr>\n",
              "      <th>1</th>\n",
              "      <td>41508680-7c85-47aa-a54c-2bcbbddb56e9</td>\n",
              "      <td>6ca31813-8cac-4459-a53e-d68b62bf337d</td>\n",
              "      <td>SE1712631761502</td>\n",
              "      <td>SE1712631761502G4218000</td>\n",
              "      <td>L'Oreal Indonesia</td>\n",
              "      <td>2025-01-28</td>\n",
              "      <td>Carton</td>\n",
              "      <td>58.43</td>\n",
              "      <td>60.0</td>\n",
              "      <td>3506.0</td>\n",
              "      <td>IDR</td>\n",
              "      <td>23400.0</td>\n",
              "      <td>6552.7</td>\n",
              "      <td>19.7</td>\n",
              "      <td>g</td>\n",
              "      <td>0.01</td>\n",
              "      <td>185.0</td>\n",
              "      <td>150.0</td>\n",
              "      <td>197.0</td>\n",
              "      <td>MM</td>\n",
              "      <td>1.42</td>\n",
              "      <td>Bekasi</td>\n",
              "      <td>Indonesia</td>\n",
              "      <td>-</td>\n",
              "      <td>-</td>\n",
              "      <td>NaN</td>\n",
              "      <td>P2</td>\n",
              "      <td>1.44</td>\n",
              "      <td>0.40</td>\n",
              "      <td>CORE</td>\n",
              "      <td>2024-05-28</td>\n",
              "      <td>G4218000</td>\n",
              "      <td>GRN 5 MIN AMP MASK WATERMELON EB</td>\n",
              "      <td>GARNIER</td>\n",
              "      <td>SKIN CARE</td>\n",
              "      <td>SKIN CARE</td>\n",
              "      <td>MASKS &amp; EXFOLIATORS</td>\n",
              "    </tr>\n",
              "  </tbody>\n",
              "</table>\n",
              "</div>\n",
              "    <div class=\"colab-df-buttons\">\n",
              "\n",
              "  <div class=\"colab-df-container\">\n",
              "    <button class=\"colab-df-convert\" onclick=\"convertToInteractive('df-fa32c454-1f5c-4925-b0a7-94a90c5d32a3')\"\n",
              "            title=\"Convert this dataframe to an interactive table.\"\n",
              "            style=\"display:none;\">\n",
              "\n",
              "  <svg xmlns=\"http://www.w3.org/2000/svg\" height=\"24px\" viewBox=\"0 -960 960 960\">\n",
              "    <path d=\"M120-120v-720h720v720H120Zm60-500h600v-160H180v160Zm220 220h160v-160H400v160Zm0 220h160v-160H400v160ZM180-400h160v-160H180v160Zm440 0h160v-160H620v160ZM180-180h160v-160H180v160Zm440 0h160v-160H620v160Z\"/>\n",
              "  </svg>\n",
              "    </button>\n",
              "\n",
              "  <style>\n",
              "    .colab-df-container {\n",
              "      display:flex;\n",
              "      gap: 12px;\n",
              "    }\n",
              "\n",
              "    .colab-df-convert {\n",
              "      background-color: #E8F0FE;\n",
              "      border: none;\n",
              "      border-radius: 50%;\n",
              "      cursor: pointer;\n",
              "      display: none;\n",
              "      fill: #1967D2;\n",
              "      height: 32px;\n",
              "      padding: 0 0 0 0;\n",
              "      width: 32px;\n",
              "    }\n",
              "\n",
              "    .colab-df-convert:hover {\n",
              "      background-color: #E2EBFA;\n",
              "      box-shadow: 0px 1px 2px rgba(60, 64, 67, 0.3), 0px 1px 3px 1px rgba(60, 64, 67, 0.15);\n",
              "      fill: #174EA6;\n",
              "    }\n",
              "\n",
              "    .colab-df-buttons div {\n",
              "      margin-bottom: 4px;\n",
              "    }\n",
              "\n",
              "    [theme=dark] .colab-df-convert {\n",
              "      background-color: #3B4455;\n",
              "      fill: #D2E3FC;\n",
              "    }\n",
              "\n",
              "    [theme=dark] .colab-df-convert:hover {\n",
              "      background-color: #434B5C;\n",
              "      box-shadow: 0px 1px 3px 1px rgba(0, 0, 0, 0.15);\n",
              "      filter: drop-shadow(0px 1px 2px rgba(0, 0, 0, 0.3));\n",
              "      fill: #FFFFFF;\n",
              "    }\n",
              "  </style>\n",
              "\n",
              "    <script>\n",
              "      const buttonEl =\n",
              "        document.querySelector('#df-fa32c454-1f5c-4925-b0a7-94a90c5d32a3 button.colab-df-convert');\n",
              "      buttonEl.style.display =\n",
              "        google.colab.kernel.accessAllowed ? 'block' : 'none';\n",
              "\n",
              "      async function convertToInteractive(key) {\n",
              "        const element = document.querySelector('#df-fa32c454-1f5c-4925-b0a7-94a90c5d32a3');\n",
              "        const dataTable =\n",
              "          await google.colab.kernel.invokeFunction('convertToInteractive',\n",
              "                                                    [key], {});\n",
              "        if (!dataTable) return;\n",
              "\n",
              "        const docLinkHtml = 'Like what you see? Visit the ' +\n",
              "          '<a target=\"_blank\" href=https://colab.research.google.com/notebooks/data_table.ipynb>data table notebook</a>'\n",
              "          + ' to learn more about interactive tables.';\n",
              "        element.innerHTML = '';\n",
              "        dataTable['output_type'] = 'display_data';\n",
              "        await google.colab.output.renderOutput(dataTable, element);\n",
              "        const docLink = document.createElement('div');\n",
              "        docLink.innerHTML = docLinkHtml;\n",
              "        element.appendChild(docLink);\n",
              "      }\n",
              "    </script>\n",
              "  </div>\n",
              "\n",
              "\n",
              "    <div id=\"df-bdf1becb-becf-491f-a169-1093635c202d\">\n",
              "      <button class=\"colab-df-quickchart\" onclick=\"quickchart('df-bdf1becb-becf-491f-a169-1093635c202d')\"\n",
              "                title=\"Suggest charts\"\n",
              "                style=\"display:none;\">\n",
              "\n",
              "<svg xmlns=\"http://www.w3.org/2000/svg\" height=\"24px\"viewBox=\"0 0 24 24\"\n",
              "     width=\"24px\">\n",
              "    <g>\n",
              "        <path d=\"M19 3H5c-1.1 0-2 .9-2 2v14c0 1.1.9 2 2 2h14c1.1 0 2-.9 2-2V5c0-1.1-.9-2-2-2zM9 17H7v-7h2v7zm4 0h-2V7h2v10zm4 0h-2v-4h2v4z\"/>\n",
              "    </g>\n",
              "</svg>\n",
              "      </button>\n",
              "\n",
              "<style>\n",
              "  .colab-df-quickchart {\n",
              "      --bg-color: #E8F0FE;\n",
              "      --fill-color: #1967D2;\n",
              "      --hover-bg-color: #E2EBFA;\n",
              "      --hover-fill-color: #174EA6;\n",
              "      --disabled-fill-color: #AAA;\n",
              "      --disabled-bg-color: #DDD;\n",
              "  }\n",
              "\n",
              "  [theme=dark] .colab-df-quickchart {\n",
              "      --bg-color: #3B4455;\n",
              "      --fill-color: #D2E3FC;\n",
              "      --hover-bg-color: #434B5C;\n",
              "      --hover-fill-color: #FFFFFF;\n",
              "      --disabled-bg-color: #3B4455;\n",
              "      --disabled-fill-color: #666;\n",
              "  }\n",
              "\n",
              "  .colab-df-quickchart {\n",
              "    background-color: var(--bg-color);\n",
              "    border: none;\n",
              "    border-radius: 50%;\n",
              "    cursor: pointer;\n",
              "    display: none;\n",
              "    fill: var(--fill-color);\n",
              "    height: 32px;\n",
              "    padding: 0;\n",
              "    width: 32px;\n",
              "  }\n",
              "\n",
              "  .colab-df-quickchart:hover {\n",
              "    background-color: var(--hover-bg-color);\n",
              "    box-shadow: 0 1px 2px rgba(60, 64, 67, 0.3), 0 1px 3px 1px rgba(60, 64, 67, 0.15);\n",
              "    fill: var(--button-hover-fill-color);\n",
              "  }\n",
              "\n",
              "  .colab-df-quickchart-complete:disabled,\n",
              "  .colab-df-quickchart-complete:disabled:hover {\n",
              "    background-color: var(--disabled-bg-color);\n",
              "    fill: var(--disabled-fill-color);\n",
              "    box-shadow: none;\n",
              "  }\n",
              "\n",
              "  .colab-df-spinner {\n",
              "    border: 2px solid var(--fill-color);\n",
              "    border-color: transparent;\n",
              "    border-bottom-color: var(--fill-color);\n",
              "    animation:\n",
              "      spin 1s steps(1) infinite;\n",
              "  }\n",
              "\n",
              "  @keyframes spin {\n",
              "    0% {\n",
              "      border-color: transparent;\n",
              "      border-bottom-color: var(--fill-color);\n",
              "      border-left-color: var(--fill-color);\n",
              "    }\n",
              "    20% {\n",
              "      border-color: transparent;\n",
              "      border-left-color: var(--fill-color);\n",
              "      border-top-color: var(--fill-color);\n",
              "    }\n",
              "    30% {\n",
              "      border-color: transparent;\n",
              "      border-left-color: var(--fill-color);\n",
              "      border-top-color: var(--fill-color);\n",
              "      border-right-color: var(--fill-color);\n",
              "    }\n",
              "    40% {\n",
              "      border-color: transparent;\n",
              "      border-right-color: var(--fill-color);\n",
              "      border-top-color: var(--fill-color);\n",
              "    }\n",
              "    60% {\n",
              "      border-color: transparent;\n",
              "      border-right-color: var(--fill-color);\n",
              "    }\n",
              "    80% {\n",
              "      border-color: transparent;\n",
              "      border-right-color: var(--fill-color);\n",
              "      border-bottom-color: var(--fill-color);\n",
              "    }\n",
              "    90% {\n",
              "      border-color: transparent;\n",
              "      border-bottom-color: var(--fill-color);\n",
              "    }\n",
              "  }\n",
              "</style>\n",
              "\n",
              "      <script>\n",
              "        async function quickchart(key) {\n",
              "          const quickchartButtonEl =\n",
              "            document.querySelector('#' + key + ' button');\n",
              "          quickchartButtonEl.disabled = true;  // To prevent multiple clicks.\n",
              "          quickchartButtonEl.classList.add('colab-df-spinner');\n",
              "          try {\n",
              "            const charts = await google.colab.kernel.invokeFunction(\n",
              "                'suggestCharts', [key], {});\n",
              "          } catch (error) {\n",
              "            console.error('Error during call to suggestCharts:', error);\n",
              "          }\n",
              "          quickchartButtonEl.classList.remove('colab-df-spinner');\n",
              "          quickchartButtonEl.classList.add('colab-df-quickchart-complete');\n",
              "        }\n",
              "        (() => {\n",
              "          let quickchartButtonEl =\n",
              "            document.querySelector('#df-bdf1becb-becf-491f-a169-1093635c202d button');\n",
              "          quickchartButtonEl.style.display =\n",
              "            google.colab.kernel.accessAllowed ? 'block' : 'none';\n",
              "        })();\n",
              "      </script>\n",
              "    </div>\n",
              "\n",
              "    </div>\n",
              "  </div>\n"
            ],
            "application/vnd.google.colaboratory.intrinsic+json": {
              "type": "dataframe",
              "variable_name": "product_listings"
            }
          },
          "metadata": {},
          "execution_count": 114
        }
      ],
      "source": [
        "product_listings.head(2)"
      ]
    },
    {
      "cell_type": "code",
      "execution_count": null,
      "metadata": {
        "id": "FqjPGrLD8hHE",
        "colab": {
          "base_uri": "https://localhost:8080/",
          "height": 178
        },
        "outputId": "708f9384-7782-44de-dafa-23f39a8465c2"
      },
      "outputs": [
        {
          "output_type": "execute_result",
          "data": {
            "text/plain": [
              "inventory_class\n",
              "NON_CORE    115580\n",
              "CORE         66703\n",
              "Name: count, dtype: int64"
            ],
            "text/html": [
              "<div>\n",
              "<style scoped>\n",
              "    .dataframe tbody tr th:only-of-type {\n",
              "        vertical-align: middle;\n",
              "    }\n",
              "\n",
              "    .dataframe tbody tr th {\n",
              "        vertical-align: top;\n",
              "    }\n",
              "\n",
              "    .dataframe thead th {\n",
              "        text-align: right;\n",
              "    }\n",
              "</style>\n",
              "<table border=\"1\" class=\"dataframe\">\n",
              "  <thead>\n",
              "    <tr style=\"text-align: right;\">\n",
              "      <th></th>\n",
              "      <th>count</th>\n",
              "    </tr>\n",
              "    <tr>\n",
              "      <th>inventory_class</th>\n",
              "      <th></th>\n",
              "    </tr>\n",
              "  </thead>\n",
              "  <tbody>\n",
              "    <tr>\n",
              "      <th>NON_CORE</th>\n",
              "      <td>115580</td>\n",
              "    </tr>\n",
              "    <tr>\n",
              "      <th>CORE</th>\n",
              "      <td>66703</td>\n",
              "    </tr>\n",
              "  </tbody>\n",
              "</table>\n",
              "</div><br><label><b>dtype:</b> int64</label>"
            ]
          },
          "metadata": {},
          "execution_count": 115
        }
      ],
      "source": [
        "product_listings.inventory_class.value_counts()"
      ]
    },
    {
      "cell_type": "code",
      "execution_count": null,
      "metadata": {
        "id": "vx2pVblEc4C6"
      },
      "outputs": [],
      "source": []
    },
    {
      "cell_type": "code",
      "execution_count": null,
      "metadata": {
        "id": "dztDynhP4FgK"
      },
      "outputs": [],
      "source": [
        "df_inv = product_listings[product_listings.inventory_class == 'CORE']\n",
        "non_core_inv = product_listings[product_listings.inventory_class == 'NON_CORE']\n",
        "df_inv = df_inv.reset_index(drop = True)\n",
        "non_core_inv = non_core_inv.reset_index(drop = True)"
      ]
    },
    {
      "cell_type": "code",
      "execution_count": null,
      "metadata": {
        "id": "aqXYxL3_9W8f"
      },
      "outputs": [],
      "source": [
        "cols_list_underscore_cleaning = ['sku_product_name', 'brand', 'product_category', 'product_subcategory', 'warehouse_country',\n",
        "            'country_of_origin', 'pack_label_language', 'product_restricted_countries', 'shelf_life_bucket']\n",
        "\n",
        "inv_cols_list_to_change_dtypes = ['qty_of_cartons', 'units_per_cartons', 'retail_price_per_case_(local)', 'retail_price_per_case_(usd)', 'asking_price_per_case_(local)',\n",
        "                              'asking_price_per_case_(usd)', 'total_retail_price_(local)', 'total_retail_price_(usd)', 'total_asking_price_(local)',\n",
        "                              'total_asking_price_(usd)', 'pack_size_(number)', 'total_cbm', 'cbm_per_case', 'package_dimensions_per_package_type_(length)',\n",
        "                              'package_dimensions_per_case_(width)', 'package_dimensions_per_case_(height)', 'net_weight_\\nper_unit(kg)', 'net_weight_per_case_(kg)',\n",
        "                              'gross_weight_per_case_(kg)', 'total_net_weight_(kg)', 'total_gross_weight_(kg)', 'cases_per_pallet', 'number_of_pallets', 'discount',\n",
        "                              'shelf_remaining_days']\n",
        "\n",
        "record_attributes = ['sku_number', 'sku_name', 'brand', 'product_category', 'product_subcategory', 'retail_price_per_unit_local', 'currency']\n",
        "\n",
        "n_days_before_date = pd.to_datetime(date.today() - timedelta(days = 14))"
      ]
    },
    {
      "cell_type": "code",
      "execution_count": null,
      "metadata": {
        "id": "BHG-z1RR9XsR"
      },
      "outputs": [],
      "source": []
    },
    {
      "cell_type": "code",
      "execution_count": null,
      "metadata": {
        "id": "a5O9oHQ6KXVn"
      },
      "outputs": [],
      "source": [
        "def dropping_null_brand_cat_subcats(df_inv):\n",
        "  df_inv = df_inv[~df_inv.brand.isnull()]\n",
        "  df_inv = df_inv[~df_inv.product_category.isnull()]\n",
        "  df_inv = df_inv[~df_inv.product_subcategory.isnull()]\n",
        "  return df_inv\n",
        "\n",
        "def cols_to_lower_rem_space(df, cols_list):\n",
        "  for col in ['sku_name', 'product_name', 'brand', 'brand_', 'product_description', 'product_category', 'product_sub_category', 'product_subcategory',\\\n",
        "              'warehouse_location', 'buyer', 'seller', 'package_type', 'deal_type', 'origin_', 'destination', 'region_of_export', \\\n",
        "              'domestic_export', 'order_type', 'country', 'currency', 'country_of_origin', 'pack_label_language', 'dangerous_goods\\n(y/n)', 'shelf_life_bucket',\n",
        "              'relavant_(r)/ir-relavant(ir)', 'product_restricted_countries', 'store_name', 'quarter', 'temp_reference', 'tracking_no', 'offer_type', 'fiscal_month',\n",
        "              'proposed_buyer_product_preferences', 'product_shelf_life_months', 'priority', 'seller', 'lms_seller_id', 'persona', 'core_vs._\\nnon_core', 'sku_product_name',\n",
        "              'warehouse_country', 'warehouse_address', 'measurement_units', 'listing_currency', 'manufacturing_country', 'lbh_measurement_units', 'package_type', 'seller_name',\n",
        "              'pack_size_unit', 'package_labeled_language', 'inventory_class', 'description', 'unit_dimensions']:\n",
        "              if col in cols_list:\n",
        "                df[col] = df[col].str.lower().str.replace(' ', '_')\n",
        "  return df\n",
        "\n",
        "def remove_starting_and_trailing_underscores(x):\n",
        "  if x != '':\n",
        "    if x[0] == '_':\n",
        "      for i in range(len(x)):\n",
        "        if x[i] != '_':\n",
        "          start = i\n",
        "          break\n",
        "      x = x[start:]\n",
        "    if x[-1] == '_':\n",
        "      for i in reversed(range(len(x))):\n",
        "        if x[i] != '_':\n",
        "          end = i\n",
        "          break\n",
        "      x = x[:end+1]\n",
        "  return x\n",
        "\n",
        "def cleaning_underscores_inv_data(df_inv, col_list):\n",
        "  for col in col_list:\n",
        "    print(col)\n",
        "    df_inv[col] = df_inv[col].apply(remove_starting_and_trailing_underscores)\n",
        "  return df_inv\n",
        "\n",
        "def drop_dups_and_clean(df_inv):\n",
        "  print('Dropping above duplicates ...')\n",
        "  df_inv = df_inv.drop_duplicates()\n",
        "  return df_inv"
      ]
    },
    {
      "cell_type": "code",
      "execution_count": null,
      "metadata": {
        "id": "cEc97d69KDph",
        "colab": {
          "base_uri": "https://localhost:8080/"
        },
        "outputId": "53e3c127-319c-4236-cff8-a3e7d0e2fc3e"
      },
      "outputs": [
        {
          "output_type": "stream",
          "name": "stdout",
          "text": [
            "Dropping above duplicates ...\n"
          ]
        }
      ],
      "source": [
        "df_inv = dropping_null_brand_cat_subcats(df_inv)\n",
        "df_inv = cols_to_lower_rem_space(df_inv, df_inv.columns)\n",
        "df_inv = drop_dups_and_clean(df_inv)\n",
        "\n",
        "non_core_inv = cols_to_lower_rem_space(non_core_inv, non_core_inv.columns)"
      ]
    },
    {
      "cell_type": "code",
      "execution_count": null,
      "metadata": {
        "id": "WWbuPOMNdyEQ"
      },
      "outputs": [],
      "source": []
    },
    {
      "cell_type": "markdown",
      "metadata": {
        "id": "7dM7UCsvEkNe"
      },
      "source": [
        "# Non Core"
      ]
    },
    {
      "cell_type": "code",
      "execution_count": null,
      "metadata": {
        "id": "PxqM8cqBXkJ9",
        "colab": {
          "base_uri": "https://localhost:8080/",
          "height": 236
        },
        "outputId": "590fdd00-f659-43df-e7a5-4447451dcef3"
      },
      "outputs": [
        {
          "output_type": "execute_result",
          "data": {
            "text/plain": [
              "                                     id                            product_id  \\\n",
              "0  b61c2bb9-f203-4447-bd21-34c8b2d8a03a  c741e020-cae7-4258-b71f-3bc338b38412   \n",
              "1  329218a0-49c7-4e36-bfe7-e10d17de8dfc  0cec2d8c-024a-4929-87fa-358f264016b7   \n",
              "\n",
              "          seller_id                                  record_id  \\\n",
              "0   SE1712631761542   SE171263176154204R3I1MKJPD97H7OBZ60UTU1Z   \n",
              "1   SE1712631761542   SE171263176154211YAP8LR1W3OQSFJGWCLTD1DQ   \n",
              "\n",
              "           seller_name expiry_date package_type  qty_of_carton  \\\n",
              "0  acommerce_singapore  2023-05-31       pieces            NaN   \n",
              "1  acommerce_singapore  2023-05-31       pieces            NaN   \n",
              "\n",
              "   units_per_package_type  total_number_of_items currency  \\\n",
              "0                     NaN                    6.0      sgd   \n",
              "1                     NaN                  160.0      sgd   \n",
              "\n",
              "   retail_price_per_unit_local  asking_price_per_unit_local  pack_size_number  \\\n",
              "0                         19.9                         1.99               NaN   \n",
              "1                          2.0                         0.20               NaN   \n",
              "\n",
              "  pack_size_unit  cbm_carton  length  breadth  height unit_dimensions  \\\n",
              "0           None         0.0    10.0     10.0    10.0              cm   \n",
              "1           None         0.0     8.0      5.0     0.2              cm   \n",
              "\n",
              "   weight_per_carton_kg warehouse_address warehouse_country country_of_origin  \\\n",
              "0                  0.50         sg-acom01              None              None   \n",
              "1                  0.15         sg-acom02              None              None   \n",
              "\n",
              "  package_labeled_language  product_restriction priority  \\\n",
              "0                     None                  NaN       p1   \n",
              "1                     None                  NaN       p1   \n",
              "\n",
              "   retail_price_per_unit_usd  asking_price_per_unit_usd inventory_class  \\\n",
              "0                  15.116504                   1.511650        non_core   \n",
              "1                   1.519247                   0.151925        non_core   \n",
              "\n",
              "   updated_on                 sku_number  \\\n",
              "0  2023-01-25  04R3I1MKJPD97H7OBZ60UTU1Z   \n",
              "1  2023-01-25  11YAP8LR1W3OQSFJGWCLTD1DQ   \n",
              "\n",
              "                                    sku_product_name          brand  \\\n",
              "0  l'oreal_paris_color_riche_satin_105_nude_in_paris  l'oreal_paris   \n",
              "1      garnier_serum_mask_-_pomegranate_(replumping)        garnier   \n",
              "\n",
              "  product_category description  product_subcategory  \n",
              "0           makeup      makeup           lip_makeup  \n",
              "1        skin_care   skin_care  masks_&_exfoliators  "
            ],
            "text/html": [
              "\n",
              "  <div id=\"df-f300a94d-4ac3-4a05-b222-9d057d546d02\" class=\"colab-df-container\">\n",
              "    <div>\n",
              "<style scoped>\n",
              "    .dataframe tbody tr th:only-of-type {\n",
              "        vertical-align: middle;\n",
              "    }\n",
              "\n",
              "    .dataframe tbody tr th {\n",
              "        vertical-align: top;\n",
              "    }\n",
              "\n",
              "    .dataframe thead th {\n",
              "        text-align: right;\n",
              "    }\n",
              "</style>\n",
              "<table border=\"1\" class=\"dataframe\">\n",
              "  <thead>\n",
              "    <tr style=\"text-align: right;\">\n",
              "      <th></th>\n",
              "      <th>id</th>\n",
              "      <th>product_id</th>\n",
              "      <th>seller_id</th>\n",
              "      <th>record_id</th>\n",
              "      <th>seller_name</th>\n",
              "      <th>expiry_date</th>\n",
              "      <th>package_type</th>\n",
              "      <th>qty_of_carton</th>\n",
              "      <th>units_per_package_type</th>\n",
              "      <th>total_number_of_items</th>\n",
              "      <th>currency</th>\n",
              "      <th>retail_price_per_unit_local</th>\n",
              "      <th>asking_price_per_unit_local</th>\n",
              "      <th>pack_size_number</th>\n",
              "      <th>pack_size_unit</th>\n",
              "      <th>cbm_carton</th>\n",
              "      <th>length</th>\n",
              "      <th>breadth</th>\n",
              "      <th>height</th>\n",
              "      <th>unit_dimensions</th>\n",
              "      <th>weight_per_carton_kg</th>\n",
              "      <th>warehouse_address</th>\n",
              "      <th>warehouse_country</th>\n",
              "      <th>country_of_origin</th>\n",
              "      <th>package_labeled_language</th>\n",
              "      <th>product_restriction</th>\n",
              "      <th>priority</th>\n",
              "      <th>retail_price_per_unit_usd</th>\n",
              "      <th>asking_price_per_unit_usd</th>\n",
              "      <th>inventory_class</th>\n",
              "      <th>updated_on</th>\n",
              "      <th>sku_number</th>\n",
              "      <th>sku_product_name</th>\n",
              "      <th>brand</th>\n",
              "      <th>product_category</th>\n",
              "      <th>description</th>\n",
              "      <th>product_subcategory</th>\n",
              "    </tr>\n",
              "  </thead>\n",
              "  <tbody>\n",
              "    <tr>\n",
              "      <th>0</th>\n",
              "      <td>b61c2bb9-f203-4447-bd21-34c8b2d8a03a</td>\n",
              "      <td>c741e020-cae7-4258-b71f-3bc338b38412</td>\n",
              "      <td>SE1712631761542</td>\n",
              "      <td>SE171263176154204R3I1MKJPD97H7OBZ60UTU1Z</td>\n",
              "      <td>acommerce_singapore</td>\n",
              "      <td>2023-05-31</td>\n",
              "      <td>pieces</td>\n",
              "      <td>NaN</td>\n",
              "      <td>NaN</td>\n",
              "      <td>6.0</td>\n",
              "      <td>sgd</td>\n",
              "      <td>19.9</td>\n",
              "      <td>1.99</td>\n",
              "      <td>NaN</td>\n",
              "      <td>None</td>\n",
              "      <td>0.0</td>\n",
              "      <td>10.0</td>\n",
              "      <td>10.0</td>\n",
              "      <td>10.0</td>\n",
              "      <td>cm</td>\n",
              "      <td>0.50</td>\n",
              "      <td>sg-acom01</td>\n",
              "      <td>None</td>\n",
              "      <td>None</td>\n",
              "      <td>None</td>\n",
              "      <td>NaN</td>\n",
              "      <td>p1</td>\n",
              "      <td>15.116504</td>\n",
              "      <td>1.511650</td>\n",
              "      <td>non_core</td>\n",
              "      <td>2023-01-25</td>\n",
              "      <td>04R3I1MKJPD97H7OBZ60UTU1Z</td>\n",
              "      <td>l'oreal_paris_color_riche_satin_105_nude_in_paris</td>\n",
              "      <td>l'oreal_paris</td>\n",
              "      <td>makeup</td>\n",
              "      <td>makeup</td>\n",
              "      <td>lip_makeup</td>\n",
              "    </tr>\n",
              "    <tr>\n",
              "      <th>1</th>\n",
              "      <td>329218a0-49c7-4e36-bfe7-e10d17de8dfc</td>\n",
              "      <td>0cec2d8c-024a-4929-87fa-358f264016b7</td>\n",
              "      <td>SE1712631761542</td>\n",
              "      <td>SE171263176154211YAP8LR1W3OQSFJGWCLTD1DQ</td>\n",
              "      <td>acommerce_singapore</td>\n",
              "      <td>2023-05-31</td>\n",
              "      <td>pieces</td>\n",
              "      <td>NaN</td>\n",
              "      <td>NaN</td>\n",
              "      <td>160.0</td>\n",
              "      <td>sgd</td>\n",
              "      <td>2.0</td>\n",
              "      <td>0.20</td>\n",
              "      <td>NaN</td>\n",
              "      <td>None</td>\n",
              "      <td>0.0</td>\n",
              "      <td>8.0</td>\n",
              "      <td>5.0</td>\n",
              "      <td>0.2</td>\n",
              "      <td>cm</td>\n",
              "      <td>0.15</td>\n",
              "      <td>sg-acom02</td>\n",
              "      <td>None</td>\n",
              "      <td>None</td>\n",
              "      <td>None</td>\n",
              "      <td>NaN</td>\n",
              "      <td>p1</td>\n",
              "      <td>1.519247</td>\n",
              "      <td>0.151925</td>\n",
              "      <td>non_core</td>\n",
              "      <td>2023-01-25</td>\n",
              "      <td>11YAP8LR1W3OQSFJGWCLTD1DQ</td>\n",
              "      <td>garnier_serum_mask_-_pomegranate_(replumping)</td>\n",
              "      <td>garnier</td>\n",
              "      <td>skin_care</td>\n",
              "      <td>skin_care</td>\n",
              "      <td>masks_&amp;_exfoliators</td>\n",
              "    </tr>\n",
              "  </tbody>\n",
              "</table>\n",
              "</div>\n",
              "    <div class=\"colab-df-buttons\">\n",
              "\n",
              "  <div class=\"colab-df-container\">\n",
              "    <button class=\"colab-df-convert\" onclick=\"convertToInteractive('df-f300a94d-4ac3-4a05-b222-9d057d546d02')\"\n",
              "            title=\"Convert this dataframe to an interactive table.\"\n",
              "            style=\"display:none;\">\n",
              "\n",
              "  <svg xmlns=\"http://www.w3.org/2000/svg\" height=\"24px\" viewBox=\"0 -960 960 960\">\n",
              "    <path d=\"M120-120v-720h720v720H120Zm60-500h600v-160H180v160Zm220 220h160v-160H400v160Zm0 220h160v-160H400v160ZM180-400h160v-160H180v160Zm440 0h160v-160H620v160ZM180-180h160v-160H180v160Zm440 0h160v-160H620v160Z\"/>\n",
              "  </svg>\n",
              "    </button>\n",
              "\n",
              "  <style>\n",
              "    .colab-df-container {\n",
              "      display:flex;\n",
              "      gap: 12px;\n",
              "    }\n",
              "\n",
              "    .colab-df-convert {\n",
              "      background-color: #E8F0FE;\n",
              "      border: none;\n",
              "      border-radius: 50%;\n",
              "      cursor: pointer;\n",
              "      display: none;\n",
              "      fill: #1967D2;\n",
              "      height: 32px;\n",
              "      padding: 0 0 0 0;\n",
              "      width: 32px;\n",
              "    }\n",
              "\n",
              "    .colab-df-convert:hover {\n",
              "      background-color: #E2EBFA;\n",
              "      box-shadow: 0px 1px 2px rgba(60, 64, 67, 0.3), 0px 1px 3px 1px rgba(60, 64, 67, 0.15);\n",
              "      fill: #174EA6;\n",
              "    }\n",
              "\n",
              "    .colab-df-buttons div {\n",
              "      margin-bottom: 4px;\n",
              "    }\n",
              "\n",
              "    [theme=dark] .colab-df-convert {\n",
              "      background-color: #3B4455;\n",
              "      fill: #D2E3FC;\n",
              "    }\n",
              "\n",
              "    [theme=dark] .colab-df-convert:hover {\n",
              "      background-color: #434B5C;\n",
              "      box-shadow: 0px 1px 3px 1px rgba(0, 0, 0, 0.15);\n",
              "      filter: drop-shadow(0px 1px 2px rgba(0, 0, 0, 0.3));\n",
              "      fill: #FFFFFF;\n",
              "    }\n",
              "  </style>\n",
              "\n",
              "    <script>\n",
              "      const buttonEl =\n",
              "        document.querySelector('#df-f300a94d-4ac3-4a05-b222-9d057d546d02 button.colab-df-convert');\n",
              "      buttonEl.style.display =\n",
              "        google.colab.kernel.accessAllowed ? 'block' : 'none';\n",
              "\n",
              "      async function convertToInteractive(key) {\n",
              "        const element = document.querySelector('#df-f300a94d-4ac3-4a05-b222-9d057d546d02');\n",
              "        const dataTable =\n",
              "          await google.colab.kernel.invokeFunction('convertToInteractive',\n",
              "                                                    [key], {});\n",
              "        if (!dataTable) return;\n",
              "\n",
              "        const docLinkHtml = 'Like what you see? Visit the ' +\n",
              "          '<a target=\"_blank\" href=https://colab.research.google.com/notebooks/data_table.ipynb>data table notebook</a>'\n",
              "          + ' to learn more about interactive tables.';\n",
              "        element.innerHTML = '';\n",
              "        dataTable['output_type'] = 'display_data';\n",
              "        await google.colab.output.renderOutput(dataTable, element);\n",
              "        const docLink = document.createElement('div');\n",
              "        docLink.innerHTML = docLinkHtml;\n",
              "        element.appendChild(docLink);\n",
              "      }\n",
              "    </script>\n",
              "  </div>\n",
              "\n",
              "\n",
              "    <div id=\"df-784ebdbb-b4bc-4572-bfca-f0a2b5817e89\">\n",
              "      <button class=\"colab-df-quickchart\" onclick=\"quickchart('df-784ebdbb-b4bc-4572-bfca-f0a2b5817e89')\"\n",
              "                title=\"Suggest charts\"\n",
              "                style=\"display:none;\">\n",
              "\n",
              "<svg xmlns=\"http://www.w3.org/2000/svg\" height=\"24px\"viewBox=\"0 0 24 24\"\n",
              "     width=\"24px\">\n",
              "    <g>\n",
              "        <path d=\"M19 3H5c-1.1 0-2 .9-2 2v14c0 1.1.9 2 2 2h14c1.1 0 2-.9 2-2V5c0-1.1-.9-2-2-2zM9 17H7v-7h2v7zm4 0h-2V7h2v10zm4 0h-2v-4h2v4z\"/>\n",
              "    </g>\n",
              "</svg>\n",
              "      </button>\n",
              "\n",
              "<style>\n",
              "  .colab-df-quickchart {\n",
              "      --bg-color: #E8F0FE;\n",
              "      --fill-color: #1967D2;\n",
              "      --hover-bg-color: #E2EBFA;\n",
              "      --hover-fill-color: #174EA6;\n",
              "      --disabled-fill-color: #AAA;\n",
              "      --disabled-bg-color: #DDD;\n",
              "  }\n",
              "\n",
              "  [theme=dark] .colab-df-quickchart {\n",
              "      --bg-color: #3B4455;\n",
              "      --fill-color: #D2E3FC;\n",
              "      --hover-bg-color: #434B5C;\n",
              "      --hover-fill-color: #FFFFFF;\n",
              "      --disabled-bg-color: #3B4455;\n",
              "      --disabled-fill-color: #666;\n",
              "  }\n",
              "\n",
              "  .colab-df-quickchart {\n",
              "    background-color: var(--bg-color);\n",
              "    border: none;\n",
              "    border-radius: 50%;\n",
              "    cursor: pointer;\n",
              "    display: none;\n",
              "    fill: var(--fill-color);\n",
              "    height: 32px;\n",
              "    padding: 0;\n",
              "    width: 32px;\n",
              "  }\n",
              "\n",
              "  .colab-df-quickchart:hover {\n",
              "    background-color: var(--hover-bg-color);\n",
              "    box-shadow: 0 1px 2px rgba(60, 64, 67, 0.3), 0 1px 3px 1px rgba(60, 64, 67, 0.15);\n",
              "    fill: var(--button-hover-fill-color);\n",
              "  }\n",
              "\n",
              "  .colab-df-quickchart-complete:disabled,\n",
              "  .colab-df-quickchart-complete:disabled:hover {\n",
              "    background-color: var(--disabled-bg-color);\n",
              "    fill: var(--disabled-fill-color);\n",
              "    box-shadow: none;\n",
              "  }\n",
              "\n",
              "  .colab-df-spinner {\n",
              "    border: 2px solid var(--fill-color);\n",
              "    border-color: transparent;\n",
              "    border-bottom-color: var(--fill-color);\n",
              "    animation:\n",
              "      spin 1s steps(1) infinite;\n",
              "  }\n",
              "\n",
              "  @keyframes spin {\n",
              "    0% {\n",
              "      border-color: transparent;\n",
              "      border-bottom-color: var(--fill-color);\n",
              "      border-left-color: var(--fill-color);\n",
              "    }\n",
              "    20% {\n",
              "      border-color: transparent;\n",
              "      border-left-color: var(--fill-color);\n",
              "      border-top-color: var(--fill-color);\n",
              "    }\n",
              "    30% {\n",
              "      border-color: transparent;\n",
              "      border-left-color: var(--fill-color);\n",
              "      border-top-color: var(--fill-color);\n",
              "      border-right-color: var(--fill-color);\n",
              "    }\n",
              "    40% {\n",
              "      border-color: transparent;\n",
              "      border-right-color: var(--fill-color);\n",
              "      border-top-color: var(--fill-color);\n",
              "    }\n",
              "    60% {\n",
              "      border-color: transparent;\n",
              "      border-right-color: var(--fill-color);\n",
              "    }\n",
              "    80% {\n",
              "      border-color: transparent;\n",
              "      border-right-color: var(--fill-color);\n",
              "      border-bottom-color: var(--fill-color);\n",
              "    }\n",
              "    90% {\n",
              "      border-color: transparent;\n",
              "      border-bottom-color: var(--fill-color);\n",
              "    }\n",
              "  }\n",
              "</style>\n",
              "\n",
              "      <script>\n",
              "        async function quickchart(key) {\n",
              "          const quickchartButtonEl =\n",
              "            document.querySelector('#' + key + ' button');\n",
              "          quickchartButtonEl.disabled = true;  // To prevent multiple clicks.\n",
              "          quickchartButtonEl.classList.add('colab-df-spinner');\n",
              "          try {\n",
              "            const charts = await google.colab.kernel.invokeFunction(\n",
              "                'suggestCharts', [key], {});\n",
              "          } catch (error) {\n",
              "            console.error('Error during call to suggestCharts:', error);\n",
              "          }\n",
              "          quickchartButtonEl.classList.remove('colab-df-spinner');\n",
              "          quickchartButtonEl.classList.add('colab-df-quickchart-complete');\n",
              "        }\n",
              "        (() => {\n",
              "          let quickchartButtonEl =\n",
              "            document.querySelector('#df-784ebdbb-b4bc-4572-bfca-f0a2b5817e89 button');\n",
              "          quickchartButtonEl.style.display =\n",
              "            google.colab.kernel.accessAllowed ? 'block' : 'none';\n",
              "        })();\n",
              "      </script>\n",
              "    </div>\n",
              "\n",
              "    </div>\n",
              "  </div>\n"
            ],
            "application/vnd.google.colaboratory.intrinsic+json": {
              "type": "dataframe",
              "variable_name": "non_core_inv"
            }
          },
          "metadata": {},
          "execution_count": 120
        }
      ],
      "source": [
        "non_core_inv.head(2)"
      ]
    },
    {
      "cell_type": "code",
      "execution_count": null,
      "metadata": {
        "id": "OJvzDhLkcmDS"
      },
      "outputs": [],
      "source": [
        "non_core_inv = non_core_inv.rename(columns = {'total_number_of_items' : 'total_units'})\n",
        "non_core_inv['updated_on'] = pd.to_datetime(non_core_inv['updated_on'])\n",
        "non_core_inv['expiry_date'] = pd.to_datetime(non_core_inv['expiry_date'])"
      ]
    },
    {
      "cell_type": "code",
      "execution_count": null,
      "metadata": {
        "id": "0RzIScxwYv7V",
        "colab": {
          "base_uri": "https://localhost:8080/"
        },
        "outputId": "949b738f-8e63-4fb7-af37-93b364cdacc1"
      },
      "outputs": [
        {
          "output_type": "stream",
          "name": "stdout",
          "text": [
            "(115580, 37)\n",
            "(64433, 37)\n"
          ]
        }
      ],
      "source": [
        "print(non_core_inv.shape)\n",
        "non_core_inv = non_core_inv.drop_duplicates(subset = ['sku_number', 'expiry_date', 'updated_on', 'seller_name'])\n",
        "print(non_core_inv.shape)"
      ]
    },
    {
      "cell_type": "code",
      "execution_count": null,
      "metadata": {
        "id": "DndNSCC3DnM8"
      },
      "outputs": [],
      "source": []
    },
    {
      "cell_type": "code",
      "execution_count": null,
      "metadata": {
        "id": "sb1B69WoDnF2"
      },
      "outputs": [],
      "source": [
        "offers = offers.rename(columns = {'seller' : 'seller_name'})\n",
        "offers['date_of_offer'] = pd.to_datetime(offers['date_of_offer'])\n",
        "offers['seller_name'] = offers['seller_name'].str.lower()\n",
        "offers['total_units_ordered'] = offers['total_units_ordered'].str.replace(',', '')\n",
        "offers['total_units_ordered'] = offers['total_units_ordered'].astype(float)"
      ]
    },
    {
      "cell_type": "code",
      "execution_count": null,
      "metadata": {
        "id": "RlJhRFzAE3OY"
      },
      "outputs": [],
      "source": [
        "def merge_non_core_inv_and_offer(non_core_inv, df_offer):\n",
        "  temp = pd.merge(non_core_inv, df_offer[['sku_number', 'seller_name', 'date_of_offer', 'actual', 'tracking_no', 'buyer', 'total_units_ordered',\n",
        "                                          'recovery_rate_percentage', 'offer_price_per_unit_usd', 'total_order_price_usd', 'destination']], 'left', on = ['sku_number', 'seller_name'])\n",
        "  # temp['updated_on'] = pd.to_datetime(temp['updated_on'])\n",
        "  temp['offer_day_diff_updated_inv'] = (temp['date_of_offer'] - temp['updated_on']).dt.days\n",
        "  # avoiding future entry from same sku and seller to get filtered out hence nulling it as will remain in the dataframe\n",
        "  temp['offer_day_diff_updated_inv'] = np.where(temp.offer_day_diff_updated_inv < 0, np.nan, temp['offer_day_diff_updated_inv'])\n",
        "  temp = temp[(temp.offer_day_diff_updated_inv >= 0) | (temp.offer_day_diff_updated_inv.isnull())]\n",
        "  df_non_core_inv_min_offer_day_diff_updated_inv = temp.groupby(['sku_number', 'seller_name', 'date_of_offer']).agg({'offer_day_diff_updated_inv' : 'min'}).reset_index()\\\n",
        "                                        .rename(columns = {'offer_day_diff_updated_inv' : 'min_offer_day_diff_updated_inv'})\n",
        "  temp = pd.merge(temp, df_non_core_inv_min_offer_day_diff_updated_inv, 'left', on = ['sku_number', 'seller_name', 'date_of_offer'])\n",
        "  temp = temp[(temp.offer_day_diff_updated_inv == temp.min_offer_day_diff_updated_inv) | (temp.offer_day_diff_updated_inv.isnull())]\n",
        "  temp.drop('min_offer_day_diff_updated_inv', axis = 1, inplace = True)\n",
        "  return temp"
      ]
    },
    {
      "cell_type": "code",
      "execution_count": null,
      "metadata": {
        "id": "-7mSk3BmE622"
      },
      "outputs": [],
      "source": [
        "non_core_inv = merge_non_core_inv_and_offer(non_core_inv, offers)\n",
        "# non_core_inv['sell_thru_rate'] = non_core_inv['total_units_ordered'] / non_core_inv['total_units']\n",
        "# non_core_inv['sell_thru_rate'] = np.where(non_core_inv['sell_thru_rate'] > 1, 1, non_core_inv['sell_thru_rate'])"
      ]
    },
    {
      "cell_type": "code",
      "execution_count": null,
      "metadata": {
        "id": "0zikyxqoE-Hk"
      },
      "outputs": [],
      "source": [
        "non_core_inv['shelf_life_remaining_days'] = (non_core_inv['expiry_date'] - non_core_inv['updated_on']).dt.days"
      ]
    },
    {
      "cell_type": "code",
      "source": [
        "df_cluster = non_core_inv[['seller_name', 'warehouse_country', 'priority', 'retail_price_per_unit_usd', 'asking_price_per_unit_usd',\n",
        "        'brand', 'product_category', 'product_subcategory']]\n",
        "\n",
        "categorical_cols = ['priority', 'warehouse_country', 'brand', 'product_category', 'product_subcategory', 'seller_name']\n",
        "df_encoded = df_cluster.copy()\n",
        "le_dict = {}\n",
        "\n",
        "for col in categorical_cols:\n",
        "    le = LabelEncoder()\n",
        "    df_encoded[col] = df_encoded[col].astype(str)  # convert NaNs to string \"nan\"\n",
        "    df_encoded[col] = le.fit_transform(df_encoded[col])\n",
        "    le_dict[col] = le\n",
        "\n",
        "# Step 2: Apply IterativeImputer for missing values\n",
        "imputer = IterativeImputer(random_state=42)\n",
        "X_imputed = imputer.fit_transform(df_encoded)\n",
        "\n",
        "# Step 3: Standardize the features\n",
        "scaler = StandardScaler()\n",
        "X_scaled = scaler.fit_transform(X_imputed)\n",
        "\n",
        "\n",
        "\n",
        "# Step 4: Run DBSCAN\n",
        "model = DBSCAN(eps=0.5, min_samples=200)\n",
        "# model = MeanShift(bin_seeding = True)\n",
        "df_cluster['cluster'] = model.fit_predict(X_scaled)\n",
        "\n",
        "labels = df_cluster['cluster'].values\n",
        "n_clusters = len(set(labels)) - (1 if -1 in labels else 0)\n",
        "\n",
        "if n_clusters >= 2:\n",
        "    # Remove noise points for silhouette score\n",
        "    mask = labels != -1\n",
        "    score = silhouette_score(X_scaled[mask], labels[mask])\n",
        "    print(f\"Silhouette Score (excluding noise): {score:.4f}\")\n",
        "else:\n",
        "    print(\"Silhouette Score cannot be computed (requires at least 2 clusters excluding noise).\")\n",
        "\n",
        "\n",
        "non_core_inv['cluster'] = df_cluster['cluster']\n",
        "non_core_inv['cluster'].unique()"
      ],
      "metadata": {
        "colab": {
          "base_uri": "https://localhost:8080/"
        },
        "id": "8zitWk6O02DM",
        "outputId": "627f6a8f-b303-4e14-f67e-7341a0ba86fa"
      },
      "execution_count": null,
      "outputs": [
        {
          "output_type": "stream",
          "name": "stdout",
          "text": [
            "Silhouette Score (excluding noise): 0.8634\n"
          ]
        },
        {
          "output_type": "execute_result",
          "data": {
            "text/plain": [
              "array([-1,  0,  1,  2,  3,  4,  5,  6,  7,  8,  9, 10, 11, 12, 13, 14, 15,\n",
              "       16, 17, 18, 19, 20, 21, 22, 23])"
            ]
          },
          "metadata": {},
          "execution_count": 127
        }
      ]
    },
    {
      "cell_type": "code",
      "source": [
        "non_core_inv['total_order_price_usd'] = non_core_inv['total_order_price_usd'].str.replace(',', '').astype(float)\n",
        "non_core_inv['order_price_per_unit_usd'] = non_core_inv['total_order_price_usd'] / non_core_inv['total_units_ordered']"
      ],
      "metadata": {
        "id": "yBQIMKNahIlu"
      },
      "execution_count": null,
      "outputs": []
    },
    {
      "cell_type": "code",
      "source": [],
      "metadata": {
        "id": "zvXcSplA8NKE"
      },
      "execution_count": null,
      "outputs": []
    },
    {
      "cell_type": "markdown",
      "metadata": {
        "id": "s428f40UF0FM"
      },
      "source": [
        "## Recommendation - measure depletion at some other level, exclude skus as many skus don't repeat and many rows are getting dropped"
      ]
    },
    {
      "cell_type": "code",
      "execution_count": null,
      "metadata": {
        "id": "_DrB8j6OVUEZ"
      },
      "outputs": [],
      "source": []
    },
    {
      "cell_type": "markdown",
      "metadata": {
        "id": "dfNvFtrkFhAz"
      },
      "source": [
        "# Core"
      ]
    },
    {
      "cell_type": "code",
      "execution_count": null,
      "metadata": {
        "id": "hxvXFBCfFkcc"
      },
      "outputs": [],
      "source": [
        "offers = offers.rename(columns = {'seller_name' : 'seller_short'})\n",
        "\n",
        "seller_name_to_short_form = {'unilever_indonesia' : 'ulid', 'unilever_malaysia' : 'ulmy', 'unilever_philippines' : 'ulph', 'unilever_thailand' : 'ulth', 'unilever_singapore' : 'ulsg',\n",
        "                             \"l'oreal_malaysia\" : \"lomy\", \"l'oreal_philippines\" : 'loph', \"l'oreal_thailand\" : \"loth\", \"l'oreal_india\" : \"loin\", \"l'oreal_indonesia\" : \"loid\"}\n",
        "\n",
        "df_inv['updated_on'] = pd.to_datetime(df_inv['updated_on'])\n",
        "\n",
        "def apply_seller_short(x):\n",
        "  if x in seller_name_to_short_form.keys():\n",
        "    return seller_name_to_short_form[x]\n",
        "  else:\n",
        "    return x\n",
        "\n",
        "df_inv['seller_short'] = df_inv['seller_name'].apply(apply_seller_short)\n",
        "\n",
        "offers = offers[offers['expiry_date'] != '-']\n",
        "offers['expiry_date'] = pd.to_datetime(offers['expiry_date'], format = \"%d-%b-%Y\")\n",
        "df_inv['expiry_date'] = pd.to_datetime(df_inv['expiry_date'])"
      ]
    },
    {
      "cell_type": "code",
      "execution_count": null,
      "metadata": {
        "id": "1FwZJO5QFkUq"
      },
      "outputs": [],
      "source": [
        "def merge_inv_and_offer(df_inv, df_offer):\n",
        "  df_inv = pd.merge(df_inv, df_offer[['sku_number', 'expiry_date', 'seller_short', 'date_of_offer', 'actual', 'tracking_no', 'buyer', 'total_units_ordered',\n",
        "                                      'recovery_rate_percentage', 'offer_price_per_unit_usd', 'total_order_price_usd', 'destination']], 'left', on = ['sku_number', 'expiry_date', 'seller_short'])\n",
        "  df_inv['offer_day_diff_updated_inv'] = (df_inv['date_of_offer'] - df_inv['updated_on']).dt.days\n",
        "  df_inv = df_inv[(df_inv.offer_day_diff_updated_inv >= 0) | (df_inv.offer_day_diff_updated_inv.isnull())]\n",
        "  df_min_offer_day_diff_updated_inv = df_inv.groupby(['sku_number', 'expiry_date', 'seller_short', 'date_of_offer']).agg({'offer_day_diff_updated_inv' : 'min'}).reset_index()\\\n",
        "                                      .rename(columns = {'offer_day_diff_updated_inv' : 'min_offer_day_diff_updated_inv'})\n",
        "  df_inv = pd.merge(df_inv, df_min_offer_day_diff_updated_inv, 'left', on = ['sku_number', 'expiry_date', 'seller_short', 'date_of_offer'])\n",
        "  df_inv = df_inv[(df_inv.offer_day_diff_updated_inv == df_inv.min_offer_day_diff_updated_inv) | (df_inv.offer_day_diff_updated_inv.isnull())]\n",
        "  df_inv.drop('min_offer_day_diff_updated_inv', axis = 1, inplace = True)\n",
        "  return df_inv"
      ]
    },
    {
      "cell_type": "code",
      "execution_count": null,
      "metadata": {
        "id": "FcCmJjOMFkPj"
      },
      "outputs": [],
      "source": [
        "df_inv = merge_inv_and_offer(df_inv, offers)\n",
        "df_inv['total_units_ordered'] = df_inv['total_units_ordered'].fillna(0)\n",
        "df_inv['shelf_life_remaining_days'] = (df_inv['expiry_date'] - df_inv['updated_on']).dt.days"
      ]
    },
    {
      "cell_type": "code",
      "source": [],
      "metadata": {
        "id": "D_5JuyWh1esG"
      },
      "execution_count": null,
      "outputs": []
    },
    {
      "cell_type": "code",
      "source": [
        "df_cluster = df_inv[['total_number_of_items', 'seller_name', 'warehouse_country', 'priority', 'retail_price_per_unit_usd', 'asking_price_per_unit_usd',\n",
        "        'brand', 'product_category', 'product_subcategory']]\n",
        "\n",
        "categorical_cols = ['priority', 'warehouse_country', 'brand', 'product_category', 'product_subcategory', 'seller_name']\n",
        "df_encoded = df_cluster.copy()\n",
        "le_dict = {}\n",
        "\n",
        "for col in categorical_cols:\n",
        "    le = LabelEncoder()\n",
        "    df_encoded[col] = df_encoded[col].astype(str)  # convert NaNs to string \"nan\"\n",
        "    df_encoded[col] = le.fit_transform(df_encoded[col])\n",
        "    le_dict[col] = le\n",
        "\n",
        "# Step 2: Apply IterativeImputer for missing values\n",
        "imputer = IterativeImputer(random_state=42)\n",
        "X_imputed = imputer.fit_transform(df_encoded)\n",
        "\n",
        "# Step 3: Standardize the features\n",
        "scaler = StandardScaler()\n",
        "X_scaled = scaler.fit_transform(X_imputed)\n",
        "\n",
        "\n",
        "\n",
        "# Step 4: Run DBSCAN\n",
        "model = DBSCAN(eps=0.5, min_samples=200)\n",
        "# model = MeanShift(bin_seeding = True)\n",
        "df_cluster['cluster'] = model.fit_predict(X_scaled)\n",
        "\n",
        "labels = df_cluster['cluster'].values\n",
        "n_clusters = len(set(labels)) - (1 if -1 in labels else 0)\n",
        "\n",
        "if n_clusters >= 2:\n",
        "    # Remove noise points for silhouette score\n",
        "    mask = labels != -1\n",
        "    score = silhouette_score(X_scaled[mask], labels[mask])\n",
        "    print(f\"Silhouette Score (excluding noise): {score:.4f}\")\n",
        "else:\n",
        "    print(\"Silhouette Score cannot be computed (requires at least 2 clusters excluding noise).\")"
      ],
      "metadata": {
        "colab": {
          "base_uri": "https://localhost:8080/"
        },
        "id": "mJ9Mjy7i1Uvb",
        "outputId": "9e2dae4b-4ada-4385-99bd-fbb858ace291"
      },
      "execution_count": null,
      "outputs": [
        {
          "output_type": "stream",
          "name": "stdout",
          "text": [
            "Silhouette Score (excluding noise): 0.8465\n"
          ]
        }
      ]
    },
    {
      "cell_type": "code",
      "source": [
        "df_inv['cluster'] = df_cluster['cluster']\n",
        "df_inv['cluster'].unique()"
      ],
      "metadata": {
        "colab": {
          "base_uri": "https://localhost:8080/"
        },
        "id": "OpxJOzjh1YvN",
        "outputId": "d3b8e619-e8b6-4bb3-aa8e-28ce618a9074"
      },
      "execution_count": null,
      "outputs": [
        {
          "output_type": "execute_result",
          "data": {
            "text/plain": [
              "array([-1,  0,  1,  2,  3,  4,  5,  6,  7,  8,  9, 10, 11, 12, 13, 14, 15,\n",
              "       16, 17, 18, 19, 20, 21, 22, 23, 24, 25, 26, 27, 28, 29, 30, 31, 32,\n",
              "       33, 34, 35, 36, 37, 38, 39, 40, 41, 42, 43, 47, 44, 45, 46, 48, 49,\n",
              "       50, 51, 52, 53, 54, 55, 56, 57, 58, 59, 60, 61, 62, 63, 64, 65, 66,\n",
              "       67, 68, 69, 70])"
            ]
          },
          "metadata": {},
          "execution_count": 133
        }
      ]
    },
    {
      "cell_type": "code",
      "source": [
        "temp = df_inv.groupby('cluster')['destination'].value_counts().rename('counts').reset_index()\n",
        "temp = temp.groupby('cluster').destination.first().reset_index()\n",
        "cluster_to_popular_destination_country = dict(zip(temp.cluster, temp.destination))\n",
        "DEFAULT = df_inv['destination'].mode().values[0]"
      ],
      "metadata": {
        "id": "7ZlRMBRi1bGR"
      },
      "execution_count": null,
      "outputs": []
    },
    {
      "cell_type": "code",
      "source": [
        "def set_destination(x):\n",
        "  if pd.isna(x['destination']) and x['cluster'] in cluster_to_popular_destination_country:\n",
        "    return cluster_to_popular_destination_country[x['cluster']]\n",
        "  elif pd.isna(x['destination']) and x['cluster'] not in cluster_to_popular_destination_country:\n",
        "    return DEFAULT\n",
        "  else:\n",
        "    return x['destination']\n",
        "\n",
        "df_inv['destination'] = df_inv.apply(set_destination, axis = 1)\n",
        "df_inv = df_inv.drop('cluster', axis = 1)"
      ],
      "metadata": {
        "id": "Sd1odzjD1b5i"
      },
      "execution_count": null,
      "outputs": []
    },
    {
      "cell_type": "code",
      "execution_count": null,
      "metadata": {
        "id": "EoegAqeHdG4Y"
      },
      "outputs": [],
      "source": []
    },
    {
      "cell_type": "code",
      "execution_count": null,
      "metadata": {
        "id": "uI9W4g7I3Xvn"
      },
      "outputs": [],
      "source": [
        "# dropping duplicates considering all columns except the ids\n",
        "k = list(set(df_inv.columns) - set([i for i in df_inv.columns if i.endswith('id')]))\n",
        "df_inv = df_inv.drop_duplicates(subset = k)"
      ]
    },
    {
      "cell_type": "code",
      "execution_count": null,
      "metadata": {
        "id": "MIFee0UZFyt3"
      },
      "outputs": [],
      "source": [
        "df_inv = df_inv.rename(columns = {'total_number_of_items' : 'total_units'})\n",
        "df_inv['updated_on'] = pd.to_datetime(df_inv['updated_on'])\n",
        "df_inv['expiry_date'] = pd.to_datetime(df_inv['expiry_date'])\n",
        "df_inv = df_inv[df_inv.sku_number != '']\n",
        "df_inv['shelf_life_remaining_days'] = (df_inv['expiry_date'] - df_inv['updated_on']).dt.days"
      ]
    },
    {
      "cell_type": "code",
      "source": [
        "df_inv['total_order_price_usd'] = df_inv['total_order_price_usd'].str.replace(',', '').astype(float)\n",
        "df_inv['order_price_per_unit_usd'] = df_inv['total_order_price_usd'] / df_inv['total_units_ordered']"
      ],
      "metadata": {
        "id": "VBG8qqmeTPc5"
      },
      "execution_count": null,
      "outputs": []
    },
    {
      "cell_type": "code",
      "source": [
        "non_core_inv = non_core_inv.drop('cluster', axis = 1)\n",
        "df_inv = df_inv.drop('seller_short', axis = 1)"
      ],
      "metadata": {
        "id": "AMewnB4vmFEQ"
      },
      "execution_count": null,
      "outputs": []
    },
    {
      "cell_type": "code",
      "source": [],
      "metadata": {
        "id": "YTFfgMdIiojw"
      },
      "execution_count": null,
      "outputs": []
    },
    {
      "cell_type": "code",
      "source": [
        "total_inv = pd.concat([df_inv, non_core_inv], ignore_index=True)\n",
        "total_inv = total_inv[~total_inv.asking_price_per_unit_usd.isnull()].reset_index(drop = True)\n",
        "updated_on_list = total_inv['updated_on']"
      ],
      "metadata": {
        "id": "IGChJJTRmecY"
      },
      "execution_count": null,
      "outputs": []
    },
    {
      "cell_type": "code",
      "source": [
        "total_inv = total_inv.drop(['id', 'product_id', 'seller_id', 'record_id', 'expiry_date', 'pack_size_unit', 'unit_dimensions', 'package_labeled_language', 'product_restriction',\n",
        "                'updated_on', 'sku_product_name', 'date_of_offer', 'actual', 'tracking_no', 'buyer', 'total_units_ordered', 'recovery_rate_percentage', 'offer_price_per_unit_usd',\n",
        "                'total_order_price_usd', 'offer_day_diff_updated_inv', 'country_of_origin'], axis = 1)"
      ],
      "metadata": {
        "id": "SVX-nrrQmi7n"
      },
      "execution_count": null,
      "outputs": []
    },
    {
      "cell_type": "code",
      "source": [
        "import pandas as pd\n",
        "import numpy as np\n",
        "from sklearn.experimental import enable_iterative_imputer\n",
        "from sklearn.impute import IterativeImputer\n",
        "from sklearn.preprocessing import LabelEncoder\n",
        "\n",
        "def impute_missing_values_iterative_label(df: pd.DataFrame) -> pd.DataFrame:\n",
        "    df_copy = df.copy()\n",
        "\n",
        "    # Store label encoders to reverse transform later if needed\n",
        "    label_encoders = {}\n",
        "\n",
        "    # Identify categorical and numerical columns\n",
        "    categorical_cols = df_copy.select_dtypes(include=['object']).columns\n",
        "    numerical_cols = df_copy.select_dtypes(include=[np.number]).columns\n",
        "\n",
        "    # Encode categorical columns using LabelEncoder\n",
        "    for col in categorical_cols:\n",
        "        le = LabelEncoder()\n",
        "        # Fill NaNs with a placeholder before encoding\n",
        "        df_copy[col] = df_copy[col].fillna(\"missing\")\n",
        "        df_copy[col] = le.fit_transform(df_copy[col].astype(str))\n",
        "        label_encoders[col] = le\n",
        "\n",
        "    # Apply IterativeImputer\n",
        "    imputer = IterativeImputer(random_state=42)\n",
        "    imputed_array = imputer.fit_transform(df_copy)\n",
        "\n",
        "    # Reconstruct DataFrame\n",
        "    imputed_df = pd.DataFrame(imputed_array, columns=df_copy.columns)\n",
        "\n",
        "    # Decode label-encoded categorical columns (optional)\n",
        "    for col in categorical_cols:\n",
        "        le = label_encoders[col]\n",
        "        # Round to nearest integer since imputation gives floats\n",
        "        imputed_df[col] = np.round(imputed_df[col]).astype(int)\n",
        "        imputed_df[col] = le.inverse_transform(imputed_df[col])\n",
        "\n",
        "    return imputed_df"
      ],
      "metadata": {
        "id": "3U7tInJFm3sx"
      },
      "execution_count": null,
      "outputs": []
    },
    {
      "cell_type": "code",
      "source": [
        "imputed_total_inv = impute_missing_values_iterative_label(total_inv)"
      ],
      "metadata": {
        "id": "pyz_uF3KRFgC"
      },
      "execution_count": null,
      "outputs": []
    },
    {
      "cell_type": "code",
      "source": [
        "# treating negative order_price\n",
        "\n",
        "positive_price_imputed_total_inv = imputed_total_inv[imputed_total_inv.order_price_per_unit_usd > 0]\n",
        "positive_price_imputed_total_inv = positive_price_imputed_total_inv.groupby(['brand', 'product_category', 'product_subcategory']).order_price_per_unit_usd.mean().reset_index().rename(\n",
        "    columns = {'order_price_per_unit_usd' : 'mean_order_price_per_unit_usd'}\n",
        ")\n",
        "\n",
        "imputed_total_inv = pd.merge(imputed_total_inv, positive_price_imputed_total_inv, how = 'left', on = ['brand',\t'product_category',\t'product_subcategory'])\n",
        "imputed_total_inv['order_price_per_unit_usd'] = np.where(imputed_total_inv['order_price_per_unit_usd'] < 0, imputed_total_inv['mean_order_price_per_unit_usd'],\n",
        "                                                         imputed_total_inv['order_price_per_unit_usd'])\n",
        "imputed_total_inv = imputed_total_inv.drop('mean_order_price_per_unit_usd', axis = 1)"
      ],
      "metadata": {
        "id": "ZNX3_dLJXI3Q"
      },
      "execution_count": null,
      "outputs": []
    },
    {
      "cell_type": "code",
      "source": [
        "imputed_total_inv.sample()"
      ],
      "metadata": {
        "colab": {
          "base_uri": "https://localhost:8080/",
          "height": 100
        },
        "id": "xHxgFgefZ-B7",
        "outputId": "3f64269e-23e1-4608-ebd6-84cb96f82d27"
      },
      "execution_count": null,
      "outputs": [
        {
          "output_type": "execute_result",
          "data": {
            "text/plain": [
              "            seller_name package_type  qty_of_carton  units_per_package_type  \\\n",
              "34528  l'oreal_thailand       carton           0.17                    24.0   \n",
              "\n",
              "       total_units currency  retail_price_per_unit_local  \\\n",
              "34528          4.0      thb                        449.0   \n",
              "\n",
              "       asking_price_per_unit_local  pack_size_number  cbm_carton  length  \\\n",
              "34528                         59.7             104.0         0.0   195.0   \n",
              "\n",
              "       breadth  height  weight_per_carton_kg  \\\n",
              "34528    148.0   124.0                  2.73   \n",
              "\n",
              "                          warehouse_address warehouse_country priority  \\\n",
              "34528  l'oréal_thailand_distribution_center          thailand       p2   \n",
              "\n",
              "       retail_price_per_unit_usd  asking_price_per_unit_usd inventory_class  \\\n",
              "34528                      12.58                       1.67            core   \n",
              "\n",
              "      sku_number       brand product_category description product_subcategory  \\\n",
              "34528   G3521101  maybelline           makeup      makeup         face_makeup   \n",
              "\n",
              "      destination  shelf_life_remaining_days  order_price_per_unit_usd  \n",
              "34528    Thailand                      301.0                  1.713968  "
            ],
            "text/html": [
              "\n",
              "  <div id=\"df-3a89c76a-ac08-4482-9a31-3b8a2c3cb97d\" class=\"colab-df-container\">\n",
              "    <div>\n",
              "<style scoped>\n",
              "    .dataframe tbody tr th:only-of-type {\n",
              "        vertical-align: middle;\n",
              "    }\n",
              "\n",
              "    .dataframe tbody tr th {\n",
              "        vertical-align: top;\n",
              "    }\n",
              "\n",
              "    .dataframe thead th {\n",
              "        text-align: right;\n",
              "    }\n",
              "</style>\n",
              "<table border=\"1\" class=\"dataframe\">\n",
              "  <thead>\n",
              "    <tr style=\"text-align: right;\">\n",
              "      <th></th>\n",
              "      <th>seller_name</th>\n",
              "      <th>package_type</th>\n",
              "      <th>qty_of_carton</th>\n",
              "      <th>units_per_package_type</th>\n",
              "      <th>total_units</th>\n",
              "      <th>currency</th>\n",
              "      <th>retail_price_per_unit_local</th>\n",
              "      <th>asking_price_per_unit_local</th>\n",
              "      <th>pack_size_number</th>\n",
              "      <th>cbm_carton</th>\n",
              "      <th>length</th>\n",
              "      <th>breadth</th>\n",
              "      <th>height</th>\n",
              "      <th>weight_per_carton_kg</th>\n",
              "      <th>warehouse_address</th>\n",
              "      <th>warehouse_country</th>\n",
              "      <th>priority</th>\n",
              "      <th>retail_price_per_unit_usd</th>\n",
              "      <th>asking_price_per_unit_usd</th>\n",
              "      <th>inventory_class</th>\n",
              "      <th>sku_number</th>\n",
              "      <th>brand</th>\n",
              "      <th>product_category</th>\n",
              "      <th>description</th>\n",
              "      <th>product_subcategory</th>\n",
              "      <th>destination</th>\n",
              "      <th>shelf_life_remaining_days</th>\n",
              "      <th>order_price_per_unit_usd</th>\n",
              "    </tr>\n",
              "  </thead>\n",
              "  <tbody>\n",
              "    <tr>\n",
              "      <th>34528</th>\n",
              "      <td>l'oreal_thailand</td>\n",
              "      <td>carton</td>\n",
              "      <td>0.17</td>\n",
              "      <td>24.0</td>\n",
              "      <td>4.0</td>\n",
              "      <td>thb</td>\n",
              "      <td>449.0</td>\n",
              "      <td>59.7</td>\n",
              "      <td>104.0</td>\n",
              "      <td>0.0</td>\n",
              "      <td>195.0</td>\n",
              "      <td>148.0</td>\n",
              "      <td>124.0</td>\n",
              "      <td>2.73</td>\n",
              "      <td>l'oréal_thailand_distribution_center</td>\n",
              "      <td>thailand</td>\n",
              "      <td>p2</td>\n",
              "      <td>12.58</td>\n",
              "      <td>1.67</td>\n",
              "      <td>core</td>\n",
              "      <td>G3521101</td>\n",
              "      <td>maybelline</td>\n",
              "      <td>makeup</td>\n",
              "      <td>makeup</td>\n",
              "      <td>face_makeup</td>\n",
              "      <td>Thailand</td>\n",
              "      <td>301.0</td>\n",
              "      <td>1.713968</td>\n",
              "    </tr>\n",
              "  </tbody>\n",
              "</table>\n",
              "</div>\n",
              "    <div class=\"colab-df-buttons\">\n",
              "\n",
              "  <div class=\"colab-df-container\">\n",
              "    <button class=\"colab-df-convert\" onclick=\"convertToInteractive('df-3a89c76a-ac08-4482-9a31-3b8a2c3cb97d')\"\n",
              "            title=\"Convert this dataframe to an interactive table.\"\n",
              "            style=\"display:none;\">\n",
              "\n",
              "  <svg xmlns=\"http://www.w3.org/2000/svg\" height=\"24px\" viewBox=\"0 -960 960 960\">\n",
              "    <path d=\"M120-120v-720h720v720H120Zm60-500h600v-160H180v160Zm220 220h160v-160H400v160Zm0 220h160v-160H400v160ZM180-400h160v-160H180v160Zm440 0h160v-160H620v160ZM180-180h160v-160H180v160Zm440 0h160v-160H620v160Z\"/>\n",
              "  </svg>\n",
              "    </button>\n",
              "\n",
              "  <style>\n",
              "    .colab-df-container {\n",
              "      display:flex;\n",
              "      gap: 12px;\n",
              "    }\n",
              "\n",
              "    .colab-df-convert {\n",
              "      background-color: #E8F0FE;\n",
              "      border: none;\n",
              "      border-radius: 50%;\n",
              "      cursor: pointer;\n",
              "      display: none;\n",
              "      fill: #1967D2;\n",
              "      height: 32px;\n",
              "      padding: 0 0 0 0;\n",
              "      width: 32px;\n",
              "    }\n",
              "\n",
              "    .colab-df-convert:hover {\n",
              "      background-color: #E2EBFA;\n",
              "      box-shadow: 0px 1px 2px rgba(60, 64, 67, 0.3), 0px 1px 3px 1px rgba(60, 64, 67, 0.15);\n",
              "      fill: #174EA6;\n",
              "    }\n",
              "\n",
              "    .colab-df-buttons div {\n",
              "      margin-bottom: 4px;\n",
              "    }\n",
              "\n",
              "    [theme=dark] .colab-df-convert {\n",
              "      background-color: #3B4455;\n",
              "      fill: #D2E3FC;\n",
              "    }\n",
              "\n",
              "    [theme=dark] .colab-df-convert:hover {\n",
              "      background-color: #434B5C;\n",
              "      box-shadow: 0px 1px 3px 1px rgba(0, 0, 0, 0.15);\n",
              "      filter: drop-shadow(0px 1px 2px rgba(0, 0, 0, 0.3));\n",
              "      fill: #FFFFFF;\n",
              "    }\n",
              "  </style>\n",
              "\n",
              "    <script>\n",
              "      const buttonEl =\n",
              "        document.querySelector('#df-3a89c76a-ac08-4482-9a31-3b8a2c3cb97d button.colab-df-convert');\n",
              "      buttonEl.style.display =\n",
              "        google.colab.kernel.accessAllowed ? 'block' : 'none';\n",
              "\n",
              "      async function convertToInteractive(key) {\n",
              "        const element = document.querySelector('#df-3a89c76a-ac08-4482-9a31-3b8a2c3cb97d');\n",
              "        const dataTable =\n",
              "          await google.colab.kernel.invokeFunction('convertToInteractive',\n",
              "                                                    [key], {});\n",
              "        if (!dataTable) return;\n",
              "\n",
              "        const docLinkHtml = 'Like what you see? Visit the ' +\n",
              "          '<a target=\"_blank\" href=https://colab.research.google.com/notebooks/data_table.ipynb>data table notebook</a>'\n",
              "          + ' to learn more about interactive tables.';\n",
              "        element.innerHTML = '';\n",
              "        dataTable['output_type'] = 'display_data';\n",
              "        await google.colab.output.renderOutput(dataTable, element);\n",
              "        const docLink = document.createElement('div');\n",
              "        docLink.innerHTML = docLinkHtml;\n",
              "        element.appendChild(docLink);\n",
              "      }\n",
              "    </script>\n",
              "  </div>\n",
              "\n",
              "\n",
              "    </div>\n",
              "  </div>\n"
            ],
            "application/vnd.google.colaboratory.intrinsic+json": {
              "type": "dataframe"
            }
          },
          "metadata": {},
          "execution_count": 145
        }
      ]
    },
    {
      "cell_type": "code",
      "source": [],
      "metadata": {
        "id": "TVjh2qLThnzd"
      },
      "execution_count": null,
      "outputs": []
    },
    {
      "cell_type": "code",
      "source": [],
      "metadata": {
        "id": "__NTcnViaAdM"
      },
      "execution_count": null,
      "outputs": []
    },
    {
      "cell_type": "code",
      "source": [
        "df_cluster = imputed_total_inv[['seller_name', 'warehouse_country', 'priority', 'retail_price_per_unit_usd', 'asking_price_per_unit_usd',\n",
        "        'brand', 'product_category', 'product_subcategory', 'shelf_life_remaining_days', 'currency']]\n",
        "\n",
        "categorical_cols = ['priority', 'warehouse_country', 'brand', 'product_category', 'product_subcategory', 'seller_name', 'currency']\n",
        "df_encoded = df_cluster.copy()\n",
        "le_dict = {}\n",
        "\n",
        "for col in categorical_cols:\n",
        "    le = LabelEncoder()\n",
        "    df_encoded[col] = df_encoded[col].astype(str)  # convert NaNs to string \"nan\"\n",
        "    df_encoded[col] = le.fit_transform(df_encoded[col])\n",
        "    le_dict[col] = le\n",
        "\n",
        "# Step 2: Apply IterativeImputer for missing values\n",
        "imputer = IterativeImputer(random_state=42)\n",
        "X_imputed = imputer.fit_transform(df_encoded)\n",
        "\n",
        "# Step 3: Standardize the features\n",
        "scaler = StandardScaler()\n",
        "X_scaled = scaler.fit_transform(X_imputed)\n",
        "\n",
        "\n",
        "\n",
        "# Step 4: Run DBSCAN\n",
        "model = DBSCAN(eps=0.5, min_samples=200)\n",
        "# model = MeanShift(bin_seeding = True)\n",
        "df_cluster['cluster'] = model.fit_predict(X_scaled)\n",
        "\n",
        "labels = df_cluster['cluster'].values\n",
        "n_clusters = len(set(labels)) - (1 if -1 in labels else 0)\n",
        "\n",
        "if n_clusters >= 2:\n",
        "    # Remove noise points for silhouette score\n",
        "    mask = labels != -1\n",
        "    score = silhouette_score(X_scaled[mask], labels[mask])\n",
        "    print(f\"Silhouette Score (excluding noise): {score:.4f}\")\n",
        "else:\n",
        "    print(\"Silhouette Score cannot be computed (requires at least 2 clusters excluding noise).\")\n",
        "\n",
        "\n",
        "imputed_total_inv['cluster'] = df_cluster['cluster']\n",
        "imputed_total_inv['cluster'].unique()"
      ],
      "metadata": {
        "colab": {
          "base_uri": "https://localhost:8080/"
        },
        "id": "kbwaryGsXxX2",
        "outputId": "5f0525ba-8100-4480-d6c6-365d524e61ca"
      },
      "execution_count": null,
      "outputs": [
        {
          "output_type": "stream",
          "name": "stdout",
          "text": [
            "Silhouette Score (excluding noise): 0.8167\n"
          ]
        },
        {
          "output_type": "execute_result",
          "data": {
            "text/plain": [
              "array([-1,  0,  1,  2,  3,  4,  5,  6,  7,  8,  9, 10, 11, 12, 13, 14, 15,\n",
              "       16, 23, 17, 18, 19, 20, 21, 22, 26, 25, 32, 24, 27, 28, 29, 44, 30,\n",
              "       35, 31, 33, 34, 36, 37, 38, 39, 40, 41, 42, 43, 45, 46, 47, 48, 49,\n",
              "       50, 51, 52, 53, 54, 55, 56, 57, 58, 59, 60, 61, 62, 63, 64, 65, 66,\n",
              "       67, 68, 69, 70, 71, 72, 73, 74, 75])"
            ]
          },
          "metadata": {},
          "execution_count": 146
        }
      ]
    },
    {
      "cell_type": "code",
      "source": [
        "cluster_to_popular_source_destination = imputed_total_inv.groupby('cluster').agg({'destination' : pd.Series.mode, 'warehouse_country' : pd.Series.mode,\n",
        "                        'priority' : pd.Series.mode}).reset_index().rename(columns = {'destination' : 'popular_destination', 'warehouse_country' : 'popular_warehouse_country',\n",
        "                                                                                       'priority' : 'popular_priority'})\n",
        "imputed_total_inv = pd.merge(imputed_total_inv, cluster_to_popular_source_destination, 'left', on = 'cluster')\n",
        "imputed_total_inv['warehouse_country'] = np.where(imputed_total_inv['warehouse_country'] == 'missing', imputed_total_inv['popular_warehouse_country'], imputed_total_inv['warehouse_country'])\n",
        "imputed_total_inv['destination'] = np.where(imputed_total_inv['destination'] == 'missing', imputed_total_inv['popular_destination'], imputed_total_inv['destination'])\n",
        "imputed_total_inv['priority'] = np.where(imputed_total_inv['priority'] == 'missing', imputed_total_inv['popular_priority'], imputed_total_inv['priority'])"
      ],
      "metadata": {
        "id": "iJVjXWwfbIIh"
      },
      "execution_count": null,
      "outputs": []
    },
    {
      "cell_type": "code",
      "source": [
        "UPPER_THRESH = imputed_total_inv[\"order_price_per_unit_usd\"].quantile(0.85)\n",
        "imputed_total_inv['order_price_per_unit_usd'] = np.where(imputed_total_inv['order_price_per_unit_usd'] > UPPER_THRESH, UPPER_THRESH,\n",
        "                                                         imputed_total_inv['order_price_per_unit_usd'])\n",
        "imputed_total_inv = imputed_total_inv.drop(['popular_destination', 'popular_warehouse_country', 'popular_priority'], axis = 1)"
      ],
      "metadata": {
        "id": "hzfuZKSRkCcT"
      },
      "execution_count": null,
      "outputs": []
    },
    {
      "cell_type": "code",
      "source": [
        "imputed_total_inv['updated_on'] = updated_on_list"
      ],
      "metadata": {
        "id": "TLtwxWoNl5mS"
      },
      "execution_count": null,
      "outputs": []
    },
    {
      "cell_type": "code",
      "source": [
        "print(imputed_total_inv['updated_on'].isnull().sum())\n",
        "imputed_total_inv = imputed_total_inv[~imputed_total_inv['updated_on'].isnull()]\n",
        "imputed_total_inv['destination'] = imputed_total_inv['destination'].str.lower().str.replace(' ', '_')"
      ],
      "metadata": {
        "colab": {
          "base_uri": "https://localhost:8080/"
        },
        "id": "VITRrcL3dyra",
        "outputId": "f7c6aae2-0b91-47ce-837c-87dba797a434"
      },
      "execution_count": null,
      "outputs": [
        {
          "output_type": "stream",
          "name": "stdout",
          "text": [
            "8\n"
          ]
        }
      ]
    },
    {
      "cell_type": "code",
      "source": [
        "imputed_total_inv['month'] = imputed_total_inv['updated_on'].dt.month\n",
        "imputed_total_inv['year'] = imputed_total_inv['updated_on'].dt.year\n",
        "imputed_total_inv['week'] = imputed_total_inv['updated_on'].dt.isocalendar().week\n",
        "imputed_total_inv['year_month'] = imputed_total_inv['year'].astype(str) + '_' + imputed_total_inv['month'].astype(str)\n",
        "imputed_total_inv['year_week'] = imputed_total_inv['year'].astype(str) + '_' + imputed_total_inv['week'].astype(str)"
      ],
      "metadata": {
        "id": "cFjDmPqLfyoX"
      },
      "execution_count": null,
      "outputs": []
    },
    {
      "cell_type": "code",
      "source": [
        "imputed_total_inv['order_price_per_unit_usd'] = np.where(imputed_total_inv['order_price_per_unit_usd'] > imputed_total_inv['asking_price_per_unit_usd'],\n",
        "         np.random.uniform(low = 0.7, high = 1) * imputed_total_inv['asking_price_per_unit_usd'],\n",
        "         imputed_total_inv['order_price_per_unit_usd'])"
      ],
      "metadata": {
        "id": "Jh5eLPAvJfwe"
      },
      "execution_count": null,
      "outputs": []
    },
    {
      "cell_type": "code",
      "source": [
        "psi_df = imputed_total_inv[['sku_number', 'brand', 'product_category', 'product_subcategory', 'seller_name', 'updated_on',\n",
        "                   'warehouse_country', 'destination', 'priority', 'order_price_per_unit_usd', 'asking_price_per_unit_usd', 'year_week', 'year_month']]"
      ],
      "metadata": {
        "id": "JHXf-f_detX4"
      },
      "execution_count": null,
      "outputs": []
    },
    {
      "cell_type": "code",
      "source": [],
      "metadata": {
        "id": "vpA-7ZUl6KwS"
      },
      "execution_count": null,
      "outputs": []
    },
    {
      "cell_type": "markdown",
      "source": [
        "# Plots"
      ],
      "metadata": {
        "id": "beVbPcoayDoQ"
      }
    },
    {
      "cell_type": "markdown",
      "source": [
        "## Cat month"
      ],
      "metadata": {
        "id": "CJe91QAiyHfm"
      }
    },
    {
      "cell_type": "code",
      "source": [
        "df_psi_cat_month = psi_df.groupby(['product_category', 'priority', 'warehouse_country', 'destination', 'year_month']).agg({'order_price_per_unit_usd' : 'mean',\n",
        "                                                                                                                           'asking_price_per_unit_usd' : 'mean'}).reset_index()"
      ],
      "metadata": {
        "id": "Kd-JQD9IfhXC"
      },
      "execution_count": null,
      "outputs": []
    },
    {
      "cell_type": "code",
      "source": [
        "import pandas as pd\n",
        "import numpy as np\n",
        "from datetime import datetime\n",
        "\n",
        "def cat_month_add_dummy_rows(df):\n",
        "    df = df.copy()\n",
        "\n",
        "    # Convert year_month to datetime format\n",
        "    df['year_month'] = pd.to_datetime(df['year_month'].str.replace('_', '-'), format='%Y-%m')\n",
        "    today = pd.to_datetime(datetime.today().replace(day=1))\n",
        "    prev_month = today - pd.DateOffset(months=1)\n",
        "\n",
        "    key_cols = ['product_category', 'priority', 'warehouse_country', 'destination']\n",
        "    all_combinations = df[key_cols].drop_duplicates()\n",
        "\n",
        "    final_rows = []\n",
        "\n",
        "    for _, combo in all_combinations.iterrows():\n",
        "        combo_filter = (df[key_cols] == combo.values).all(axis=1)\n",
        "        combo_df = df[combo_filter].sort_values('year_month')\n",
        "\n",
        "        if combo_df.empty:\n",
        "            continue\n",
        "\n",
        "        start = combo_df['year_month'].min()\n",
        "        months_needed = pd.date_range(start=start, end=prev_month, freq='MS')\n",
        "\n",
        "        for month in months_needed:\n",
        "            if month in combo_df['year_month'].values:\n",
        "                row = combo_df[combo_df['year_month'] == month].iloc[0].to_dict()\n",
        "                final_rows.append(row)\n",
        "            else:\n",
        "                prev_row = combo_df[combo_df['year_month'] < month].sort_values('year_month').tail(1)\n",
        "                next_row = combo_df[combo_df['year_month'] > month].sort_values('year_month').head(1)\n",
        "\n",
        "                if not prev_row.empty:\n",
        "                    prev_order = prev_row['order_price_per_unit_usd'].values[0]\n",
        "                    prev_asking = prev_row['asking_price_per_unit_usd'].values[0]\n",
        "                else:\n",
        "                    prev_order = prev_asking = 0.0\n",
        "\n",
        "                if not next_row.empty:\n",
        "                    next_order = next_row['order_price_per_unit_usd'].values[0]\n",
        "                    next_asking = next_row['asking_price_per_unit_usd'].values[0]\n",
        "                    try:\n",
        "                        order_price = np.random.uniform(min(prev_order, next_order), max(prev_order, next_order))\n",
        "                    except:\n",
        "                        order_price = np.nan\n",
        "                    try:\n",
        "                        asking_price = np.random.uniform(min(prev_asking, next_asking), max(prev_asking, next_asking))\n",
        "                    except:\n",
        "                        asking_price = np.nan\n",
        "                else:\n",
        "                    try:\n",
        "                        order_price = np.random.uniform(0.8 * prev_order, 1.2 * prev_order)\n",
        "                    except:\n",
        "                        order_price = np.nan\n",
        "                    try:\n",
        "                        asking_price = np.random.uniform(0.8 * prev_asking, 1.2 * prev_asking)\n",
        "                    except:\n",
        "                        asking_price = np.nan\n",
        "\n",
        "                dummy_row = {\n",
        "                    'product_category': combo['product_category'],\n",
        "                    'priority': combo['priority'],\n",
        "                    'warehouse_country': combo['warehouse_country'],\n",
        "                    'destination': combo['destination'],\n",
        "                    'year_month': month,\n",
        "                    'order_price_per_unit_usd': order_price,\n",
        "                    'asking_price_per_unit_usd': asking_price\n",
        "                }\n",
        "                final_rows.append(dummy_row)\n",
        "\n",
        "    final_df = pd.DataFrame(final_rows)\n",
        "    final_df['year_month'] = pd.to_datetime(final_df['year_month'])\n",
        "    final_df['year_month'] = final_df['year_month'].dt.strftime('%Y_%m')\n",
        "    final_df = final_df.sort_values(by=key_cols + ['year_month']).reset_index(drop=True)\n",
        "\n",
        "    return final_df"
      ],
      "metadata": {
        "id": "1N5rlN82n8Zk"
      },
      "execution_count": null,
      "outputs": []
    },
    {
      "cell_type": "code",
      "source": [
        "filled_df_psi_cat_month = cat_month_add_dummy_rows(df_psi_cat_month)"
      ],
      "metadata": {
        "id": "5dtzcG-toAit"
      },
      "execution_count": null,
      "outputs": []
    },
    {
      "cell_type": "code",
      "source": [
        "plot_temp = filled_df_psi_cat_month[(filled_df_psi_cat_month['product_category'] == 'skin_care') & (filled_df_psi_cat_month['priority'] == 'p2') &\n",
        "                                (filled_df_psi_cat_month['warehouse_country'] == 'thailand') & (filled_df_psi_cat_month['destination'] == 'hong_kong')]\n",
        "plot_temp = plot_temp[-8:] # last 8 months plot\n",
        "fig = px.line(plot_temp, x=\"year_month\", y=\"order_price_per_unit_usd\", title='PSI Cat Month')\n",
        "fig.show()"
      ],
      "metadata": {
        "colab": {
          "base_uri": "https://localhost:8080/",
          "height": 542
        },
        "id": "I-XnLdAkoI8y",
        "outputId": "29704ed5-f384-4bcb-b353-92cd3adddcf5"
      },
      "execution_count": null,
      "outputs": [
        {
          "output_type": "display_data",
          "data": {
            "text/html": [
              "<html>\n",
              "<head><meta charset=\"utf-8\" /></head>\n",
              "<body>\n",
              "    <div>            <script src=\"https://cdnjs.cloudflare.com/ajax/libs/mathjax/2.7.5/MathJax.js?config=TeX-AMS-MML_SVG\"></script><script type=\"text/javascript\">if (window.MathJax && window.MathJax.Hub && window.MathJax.Hub.Config) {window.MathJax.Hub.Config({SVG: {font: \"STIX-Web\"}});}</script>                <script type=\"text/javascript\">window.PlotlyConfig = {MathJaxConfig: 'local'};</script>\n",
              "        <script charset=\"utf-8\" src=\"https://cdn.plot.ly/plotly-2.35.2.min.js\"></script>                <div id=\"6315082d-a5ab-49ca-bdb1-f4b0ed9bb490\" class=\"plotly-graph-div\" style=\"height:525px; width:100%;\"></div>            <script type=\"text/javascript\">                                    window.PLOTLYENV=window.PLOTLYENV || {};                                    if (document.getElementById(\"6315082d-a5ab-49ca-bdb1-f4b0ed9bb490\")) {                    Plotly.newPlot(                        \"6315082d-a5ab-49ca-bdb1-f4b0ed9bb490\",                        [{\"hovertemplate\":\"year_month=%{x}\\u003cbr\\u003eorder_price_per_unit_usd=%{y}\\u003cextra\\u003e\\u003c\\u002fextra\\u003e\",\"legendgroup\":\"\",\"line\":{\"color\":\"#636efa\",\"dash\":\"solid\"},\"marker\":{\"symbol\":\"circle\"},\"mode\":\"lines\",\"name\":\"\",\"orientation\":\"v\",\"showlegend\":false,\"x\":[\"2024_08\",\"2024_09\",\"2024_10\",\"2024_11\",\"2024_12\",\"2025_01\",\"2025_02\",\"2025_03\"],\"xaxis\":\"x\",\"y\":[0.3752415903612966,0.39285167828013046,0.3843836410599786,0.40873494487973694,0.3536660823965619,0.3200775047386975,0.339089121439898,0.3255903732065842],\"yaxis\":\"y\",\"type\":\"scatter\"}],                        {\"template\":{\"data\":{\"histogram2dcontour\":[{\"type\":\"histogram2dcontour\",\"colorbar\":{\"outlinewidth\":0,\"ticks\":\"\"},\"colorscale\":[[0.0,\"#0d0887\"],[0.1111111111111111,\"#46039f\"],[0.2222222222222222,\"#7201a8\"],[0.3333333333333333,\"#9c179e\"],[0.4444444444444444,\"#bd3786\"],[0.5555555555555556,\"#d8576b\"],[0.6666666666666666,\"#ed7953\"],[0.7777777777777778,\"#fb9f3a\"],[0.8888888888888888,\"#fdca26\"],[1.0,\"#f0f921\"]]}],\"choropleth\":[{\"type\":\"choropleth\",\"colorbar\":{\"outlinewidth\":0,\"ticks\":\"\"}}],\"histogram2d\":[{\"type\":\"histogram2d\",\"colorbar\":{\"outlinewidth\":0,\"ticks\":\"\"},\"colorscale\":[[0.0,\"#0d0887\"],[0.1111111111111111,\"#46039f\"],[0.2222222222222222,\"#7201a8\"],[0.3333333333333333,\"#9c179e\"],[0.4444444444444444,\"#bd3786\"],[0.5555555555555556,\"#d8576b\"],[0.6666666666666666,\"#ed7953\"],[0.7777777777777778,\"#fb9f3a\"],[0.8888888888888888,\"#fdca26\"],[1.0,\"#f0f921\"]]}],\"heatmap\":[{\"type\":\"heatmap\",\"colorbar\":{\"outlinewidth\":0,\"ticks\":\"\"},\"colorscale\":[[0.0,\"#0d0887\"],[0.1111111111111111,\"#46039f\"],[0.2222222222222222,\"#7201a8\"],[0.3333333333333333,\"#9c179e\"],[0.4444444444444444,\"#bd3786\"],[0.5555555555555556,\"#d8576b\"],[0.6666666666666666,\"#ed7953\"],[0.7777777777777778,\"#fb9f3a\"],[0.8888888888888888,\"#fdca26\"],[1.0,\"#f0f921\"]]}],\"heatmapgl\":[{\"type\":\"heatmapgl\",\"colorbar\":{\"outlinewidth\":0,\"ticks\":\"\"},\"colorscale\":[[0.0,\"#0d0887\"],[0.1111111111111111,\"#46039f\"],[0.2222222222222222,\"#7201a8\"],[0.3333333333333333,\"#9c179e\"],[0.4444444444444444,\"#bd3786\"],[0.5555555555555556,\"#d8576b\"],[0.6666666666666666,\"#ed7953\"],[0.7777777777777778,\"#fb9f3a\"],[0.8888888888888888,\"#fdca26\"],[1.0,\"#f0f921\"]]}],\"contourcarpet\":[{\"type\":\"contourcarpet\",\"colorbar\":{\"outlinewidth\":0,\"ticks\":\"\"}}],\"contour\":[{\"type\":\"contour\",\"colorbar\":{\"outlinewidth\":0,\"ticks\":\"\"},\"colorscale\":[[0.0,\"#0d0887\"],[0.1111111111111111,\"#46039f\"],[0.2222222222222222,\"#7201a8\"],[0.3333333333333333,\"#9c179e\"],[0.4444444444444444,\"#bd3786\"],[0.5555555555555556,\"#d8576b\"],[0.6666666666666666,\"#ed7953\"],[0.7777777777777778,\"#fb9f3a\"],[0.8888888888888888,\"#fdca26\"],[1.0,\"#f0f921\"]]}],\"surface\":[{\"type\":\"surface\",\"colorbar\":{\"outlinewidth\":0,\"ticks\":\"\"},\"colorscale\":[[0.0,\"#0d0887\"],[0.1111111111111111,\"#46039f\"],[0.2222222222222222,\"#7201a8\"],[0.3333333333333333,\"#9c179e\"],[0.4444444444444444,\"#bd3786\"],[0.5555555555555556,\"#d8576b\"],[0.6666666666666666,\"#ed7953\"],[0.7777777777777778,\"#fb9f3a\"],[0.8888888888888888,\"#fdca26\"],[1.0,\"#f0f921\"]]}],\"mesh3d\":[{\"type\":\"mesh3d\",\"colorbar\":{\"outlinewidth\":0,\"ticks\":\"\"}}],\"scatter\":[{\"fillpattern\":{\"fillmode\":\"overlay\",\"size\":10,\"solidity\":0.2},\"type\":\"scatter\"}],\"parcoords\":[{\"type\":\"parcoords\",\"line\":{\"colorbar\":{\"outlinewidth\":0,\"ticks\":\"\"}}}],\"scatterpolargl\":[{\"type\":\"scatterpolargl\",\"marker\":{\"colorbar\":{\"outlinewidth\":0,\"ticks\":\"\"}}}],\"bar\":[{\"error_x\":{\"color\":\"#2a3f5f\"},\"error_y\":{\"color\":\"#2a3f5f\"},\"marker\":{\"line\":{\"color\":\"#E5ECF6\",\"width\":0.5},\"pattern\":{\"fillmode\":\"overlay\",\"size\":10,\"solidity\":0.2}},\"type\":\"bar\"}],\"scattergeo\":[{\"type\":\"scattergeo\",\"marker\":{\"colorbar\":{\"outlinewidth\":0,\"ticks\":\"\"}}}],\"scatterpolar\":[{\"type\":\"scatterpolar\",\"marker\":{\"colorbar\":{\"outlinewidth\":0,\"ticks\":\"\"}}}],\"histogram\":[{\"marker\":{\"pattern\":{\"fillmode\":\"overlay\",\"size\":10,\"solidity\":0.2}},\"type\":\"histogram\"}],\"scattergl\":[{\"type\":\"scattergl\",\"marker\":{\"colorbar\":{\"outlinewidth\":0,\"ticks\":\"\"}}}],\"scatter3d\":[{\"type\":\"scatter3d\",\"line\":{\"colorbar\":{\"outlinewidth\":0,\"ticks\":\"\"}},\"marker\":{\"colorbar\":{\"outlinewidth\":0,\"ticks\":\"\"}}}],\"scattermapbox\":[{\"type\":\"scattermapbox\",\"marker\":{\"colorbar\":{\"outlinewidth\":0,\"ticks\":\"\"}}}],\"scatterternary\":[{\"type\":\"scatterternary\",\"marker\":{\"colorbar\":{\"outlinewidth\":0,\"ticks\":\"\"}}}],\"scattercarpet\":[{\"type\":\"scattercarpet\",\"marker\":{\"colorbar\":{\"outlinewidth\":0,\"ticks\":\"\"}}}],\"carpet\":[{\"aaxis\":{\"endlinecolor\":\"#2a3f5f\",\"gridcolor\":\"white\",\"linecolor\":\"white\",\"minorgridcolor\":\"white\",\"startlinecolor\":\"#2a3f5f\"},\"baxis\":{\"endlinecolor\":\"#2a3f5f\",\"gridcolor\":\"white\",\"linecolor\":\"white\",\"minorgridcolor\":\"white\",\"startlinecolor\":\"#2a3f5f\"},\"type\":\"carpet\"}],\"table\":[{\"cells\":{\"fill\":{\"color\":\"#EBF0F8\"},\"line\":{\"color\":\"white\"}},\"header\":{\"fill\":{\"color\":\"#C8D4E3\"},\"line\":{\"color\":\"white\"}},\"type\":\"table\"}],\"barpolar\":[{\"marker\":{\"line\":{\"color\":\"#E5ECF6\",\"width\":0.5},\"pattern\":{\"fillmode\":\"overlay\",\"size\":10,\"solidity\":0.2}},\"type\":\"barpolar\"}],\"pie\":[{\"automargin\":true,\"type\":\"pie\"}]},\"layout\":{\"autotypenumbers\":\"strict\",\"colorway\":[\"#636efa\",\"#EF553B\",\"#00cc96\",\"#ab63fa\",\"#FFA15A\",\"#19d3f3\",\"#FF6692\",\"#B6E880\",\"#FF97FF\",\"#FECB52\"],\"font\":{\"color\":\"#2a3f5f\"},\"hovermode\":\"closest\",\"hoverlabel\":{\"align\":\"left\"},\"paper_bgcolor\":\"white\",\"plot_bgcolor\":\"#E5ECF6\",\"polar\":{\"bgcolor\":\"#E5ECF6\",\"angularaxis\":{\"gridcolor\":\"white\",\"linecolor\":\"white\",\"ticks\":\"\"},\"radialaxis\":{\"gridcolor\":\"white\",\"linecolor\":\"white\",\"ticks\":\"\"}},\"ternary\":{\"bgcolor\":\"#E5ECF6\",\"aaxis\":{\"gridcolor\":\"white\",\"linecolor\":\"white\",\"ticks\":\"\"},\"baxis\":{\"gridcolor\":\"white\",\"linecolor\":\"white\",\"ticks\":\"\"},\"caxis\":{\"gridcolor\":\"white\",\"linecolor\":\"white\",\"ticks\":\"\"}},\"coloraxis\":{\"colorbar\":{\"outlinewidth\":0,\"ticks\":\"\"}},\"colorscale\":{\"sequential\":[[0.0,\"#0d0887\"],[0.1111111111111111,\"#46039f\"],[0.2222222222222222,\"#7201a8\"],[0.3333333333333333,\"#9c179e\"],[0.4444444444444444,\"#bd3786\"],[0.5555555555555556,\"#d8576b\"],[0.6666666666666666,\"#ed7953\"],[0.7777777777777778,\"#fb9f3a\"],[0.8888888888888888,\"#fdca26\"],[1.0,\"#f0f921\"]],\"sequentialminus\":[[0.0,\"#0d0887\"],[0.1111111111111111,\"#46039f\"],[0.2222222222222222,\"#7201a8\"],[0.3333333333333333,\"#9c179e\"],[0.4444444444444444,\"#bd3786\"],[0.5555555555555556,\"#d8576b\"],[0.6666666666666666,\"#ed7953\"],[0.7777777777777778,\"#fb9f3a\"],[0.8888888888888888,\"#fdca26\"],[1.0,\"#f0f921\"]],\"diverging\":[[0,\"#8e0152\"],[0.1,\"#c51b7d\"],[0.2,\"#de77ae\"],[0.3,\"#f1b6da\"],[0.4,\"#fde0ef\"],[0.5,\"#f7f7f7\"],[0.6,\"#e6f5d0\"],[0.7,\"#b8e186\"],[0.8,\"#7fbc41\"],[0.9,\"#4d9221\"],[1,\"#276419\"]]},\"xaxis\":{\"gridcolor\":\"white\",\"linecolor\":\"white\",\"ticks\":\"\",\"title\":{\"standoff\":15},\"zerolinecolor\":\"white\",\"automargin\":true,\"zerolinewidth\":2},\"yaxis\":{\"gridcolor\":\"white\",\"linecolor\":\"white\",\"ticks\":\"\",\"title\":{\"standoff\":15},\"zerolinecolor\":\"white\",\"automargin\":true,\"zerolinewidth\":2},\"scene\":{\"xaxis\":{\"backgroundcolor\":\"#E5ECF6\",\"gridcolor\":\"white\",\"linecolor\":\"white\",\"showbackground\":true,\"ticks\":\"\",\"zerolinecolor\":\"white\",\"gridwidth\":2},\"yaxis\":{\"backgroundcolor\":\"#E5ECF6\",\"gridcolor\":\"white\",\"linecolor\":\"white\",\"showbackground\":true,\"ticks\":\"\",\"zerolinecolor\":\"white\",\"gridwidth\":2},\"zaxis\":{\"backgroundcolor\":\"#E5ECF6\",\"gridcolor\":\"white\",\"linecolor\":\"white\",\"showbackground\":true,\"ticks\":\"\",\"zerolinecolor\":\"white\",\"gridwidth\":2}},\"shapedefaults\":{\"line\":{\"color\":\"#2a3f5f\"}},\"annotationdefaults\":{\"arrowcolor\":\"#2a3f5f\",\"arrowhead\":0,\"arrowwidth\":1},\"geo\":{\"bgcolor\":\"white\",\"landcolor\":\"#E5ECF6\",\"subunitcolor\":\"white\",\"showland\":true,\"showlakes\":true,\"lakecolor\":\"white\"},\"title\":{\"x\":0.05},\"mapbox\":{\"style\":\"light\"}}},\"xaxis\":{\"anchor\":\"y\",\"domain\":[0.0,1.0],\"title\":{\"text\":\"year_month\"}},\"yaxis\":{\"anchor\":\"x\",\"domain\":[0.0,1.0],\"title\":{\"text\":\"order_price_per_unit_usd\"}},\"legend\":{\"tracegroupgap\":0},\"title\":{\"text\":\"PSI Cat Month\"}},                        {\"responsive\": true}                    ).then(function(){\n",
              "                            \n",
              "var gd = document.getElementById('6315082d-a5ab-49ca-bdb1-f4b0ed9bb490');\n",
              "var x = new MutationObserver(function (mutations, observer) {{\n",
              "        var display = window.getComputedStyle(gd).display;\n",
              "        if (!display || display === 'none') {{\n",
              "            console.log([gd, 'removed!']);\n",
              "            Plotly.purge(gd);\n",
              "            observer.disconnect();\n",
              "        }}\n",
              "}});\n",
              "\n",
              "// Listen for the removal of the full notebook cells\n",
              "var notebookContainer = gd.closest('#notebook-container');\n",
              "if (notebookContainer) {{\n",
              "    x.observe(notebookContainer, {childList: true});\n",
              "}}\n",
              "\n",
              "// Listen for the clearing of the current output cell\n",
              "var outputEl = gd.closest('.output');\n",
              "if (outputEl) {{\n",
              "    x.observe(outputEl, {childList: true});\n",
              "}}\n",
              "\n",
              "                        })                };                            </script>        </div>\n",
              "</body>\n",
              "</html>"
            ]
          },
          "metadata": {}
        }
      ]
    },
    {
      "cell_type": "code",
      "source": [
        "price_psi_cat_month_country_maps = filled_df_psi_cat_month.groupby(['product_category', 'priority', 'warehouse_country', 'destination']).agg({'order_price_per_unit_usd' : 'nunique'})\\\n",
        ".reset_index().rename(columns = {'order_price_per_unit_usd' : 'unique_prices'})\n",
        "print(len(price_psi_cat_month_country_maps))\n",
        "price_psi_cat_month_country_maps = price_psi_cat_month_country_maps[price_psi_cat_month_country_maps.unique_prices >= 8] # 8 months\n",
        "\n",
        "price_psi_cat_month_country_maps = price_psi_cat_month_country_maps.drop('unique_prices', axis = 1)\n",
        "print(len(price_psi_cat_month_country_maps))"
      ],
      "metadata": {
        "colab": {
          "base_uri": "https://localhost:8080/"
        },
        "id": "o9spT7tocF6G",
        "outputId": "450bf05e-8b0e-4661-85b6-bc92116423f3"
      },
      "execution_count": null,
      "outputs": [
        {
          "output_type": "stream",
          "name": "stdout",
          "text": [
            "573\n",
            "464\n"
          ]
        }
      ]
    },
    {
      "cell_type": "code",
      "source": [],
      "metadata": {
        "id": "NQU9buabs2VZ"
      },
      "execution_count": null,
      "outputs": []
    },
    {
      "cell_type": "code",
      "source": [],
      "metadata": {
        "id": "3dMWltN8yGSb"
      },
      "execution_count": null,
      "outputs": []
    },
    {
      "cell_type": "markdown",
      "source": [
        "## Cat week"
      ],
      "metadata": {
        "id": "BFEF4h43yJv8"
      }
    },
    {
      "cell_type": "code",
      "source": [
        "df_psi_cat_week = psi_df.groupby(['product_category', 'priority', 'warehouse_country', 'destination', 'year_week']).agg({'order_price_per_unit_usd' : 'mean',\n",
        "                                                                                                                         'asking_price_per_unit_usd' : 'mean'}).reset_index()"
      ],
      "metadata": {
        "id": "UII0iSeLyFYR"
      },
      "execution_count": null,
      "outputs": []
    },
    {
      "cell_type": "code",
      "source": [
        "import pandas as pd\n",
        "import numpy as np\n",
        "from datetime import datetime, timedelta\n",
        "\n",
        "def cat_week_add_dummy_rows(df):\n",
        "    df = df.copy()\n",
        "\n",
        "    # Convert 'year_week' to datetime format (Monday of that week)\n",
        "    df['week_start'] = df['year_week'].apply(lambda x: datetime.strptime(f\"{x}_1\", \"%Y_%W_%w\"))\n",
        "\n",
        "    today = datetime.today().replace(day=1)\n",
        "    last_day_prev_month = today - timedelta(days=1)\n",
        "    last_week_prev_month = last_day_prev_month - timedelta(days=last_day_prev_month.weekday())\n",
        "\n",
        "    key_cols = ['product_category', 'priority', 'warehouse_country', 'destination']\n",
        "    all_combinations = df[key_cols].drop_duplicates()\n",
        "\n",
        "    final_rows = []\n",
        "\n",
        "    for _, combo in all_combinations.iterrows():\n",
        "        combo_filter = (df[key_cols] == combo.values).all(axis=1)\n",
        "        combo_df = df[combo_filter].sort_values('week_start')\n",
        "\n",
        "        if combo_df.empty:\n",
        "            continue\n",
        "\n",
        "        start_date = combo_df['week_start'].min()\n",
        "        weeks_needed = pd.date_range(start=start_date, end=last_week_prev_month, freq='W-MON')\n",
        "\n",
        "        for week_start in weeks_needed:\n",
        "            if week_start in combo_df['week_start'].values:\n",
        "                row = combo_df[combo_df['week_start'] == week_start].iloc[0].to_dict()\n",
        "                final_rows.append(row)\n",
        "            else:\n",
        "                prev_row = combo_df[combo_df['week_start'] < week_start].sort_values('week_start').tail(1)\n",
        "                next_row = combo_df[combo_df['week_start'] > week_start].sort_values('week_start').head(1)\n",
        "\n",
        "                if not prev_row.empty:\n",
        "                    prev_price = prev_row['order_price_per_unit_usd'].values[0]\n",
        "                    prev_asking = prev_row['asking_price_per_unit_usd'].values[0]\n",
        "                else:\n",
        "                    prev_price = prev_asking = 0.0\n",
        "\n",
        "                if not next_row.empty:\n",
        "                    next_price = next_row['order_price_per_unit_usd'].values[0]\n",
        "                    next_asking = next_row['asking_price_per_unit_usd'].values[0]\n",
        "                    try:\n",
        "                        order_price = np.random.uniform(min(prev_price, next_price), max(prev_price, next_price))\n",
        "                    except:\n",
        "                        order_price = np.nan\n",
        "                    try:\n",
        "                        asking_price = np.random.uniform(min(prev_asking, next_asking), max(prev_asking, next_asking))\n",
        "                    except:\n",
        "                        asking_price = np.nan\n",
        "                else:\n",
        "                    try:\n",
        "                        order_price = np.random.uniform(0.8 * prev_price, 1.2 * prev_price)\n",
        "                    except:\n",
        "                        order_price = np.nan\n",
        "                    try:\n",
        "                        asking_price = np.random.uniform(0.8 * prev_asking, 1.2 * prev_asking)\n",
        "                    except:\n",
        "                        asking_price = np.nan\n",
        "\n",
        "                dummy_row = {\n",
        "                    'product_category': combo['product_category'],\n",
        "                    'priority': combo['priority'],\n",
        "                    'warehouse_country': combo['warehouse_country'],\n",
        "                    'destination': combo['destination'],\n",
        "                    'week_start': week_start,\n",
        "                    'order_price_per_unit_usd': order_price,\n",
        "                    'asking_price_per_unit_usd': asking_price\n",
        "\n",
        "                }\n",
        "                final_rows.append(dummy_row)\n",
        "\n",
        "    final_df = pd.DataFrame(final_rows)\n",
        "    final_df['year_week'] = final_df['week_start'].dt.strftime('%Y_%W')\n",
        "    final_df = final_df.drop(columns='week_start')\n",
        "    final_df = final_df.sort_values(by=key_cols + ['year_week']).reset_index(drop=True)\n",
        "\n",
        "    return final_df"
      ],
      "metadata": {
        "id": "-e6gIUQaps9Q"
      },
      "execution_count": null,
      "outputs": []
    },
    {
      "cell_type": "code",
      "source": [
        "filled_df_psi_cat_week = cat_week_add_dummy_rows(df_psi_cat_week)"
      ],
      "metadata": {
        "id": "pK4xuj2exxSh"
      },
      "execution_count": null,
      "outputs": []
    },
    {
      "cell_type": "code",
      "source": [
        "plot_temp = filled_df_psi_cat_week[(filled_df_psi_cat_week['product_category'] == 'hair_care') & (filled_df_psi_cat_week['priority'] == 'p2') &\n",
        "                                (filled_df_psi_cat_week['warehouse_country'] == 'thailand') & (filled_df_psi_cat_week['destination'] == 'thailand')]\n",
        "plot_temp = plot_temp[-32:] # last 8 months plot\n",
        "fig = px.line(plot_temp, x=\"year_week\", y=\"order_price_per_unit_usd\", title='PSI Cat Week')\n",
        "fig.show()"
      ],
      "metadata": {
        "id": "P_l3cCf2p-xA",
        "colab": {
          "base_uri": "https://localhost:8080/",
          "height": 542
        },
        "outputId": "1bfb0fa1-0c49-45a7-f499-dfdf02cbe133"
      },
      "execution_count": null,
      "outputs": [
        {
          "output_type": "display_data",
          "data": {
            "text/html": [
              "<html>\n",
              "<head><meta charset=\"utf-8\" /></head>\n",
              "<body>\n",
              "    <div>            <script src=\"https://cdnjs.cloudflare.com/ajax/libs/mathjax/2.7.5/MathJax.js?config=TeX-AMS-MML_SVG\"></script><script type=\"text/javascript\">if (window.MathJax && window.MathJax.Hub && window.MathJax.Hub.Config) {window.MathJax.Hub.Config({SVG: {font: \"STIX-Web\"}});}</script>                <script type=\"text/javascript\">window.PlotlyConfig = {MathJaxConfig: 'local'};</script>\n",
              "        <script charset=\"utf-8\" src=\"https://cdn.plot.ly/plotly-2.35.2.min.js\"></script>                <div id=\"cf7bdaa4-d4c9-48ac-8aef-c0e1654d23d1\" class=\"plotly-graph-div\" style=\"height:525px; width:100%;\"></div>            <script type=\"text/javascript\">                                    window.PLOTLYENV=window.PLOTLYENV || {};                                    if (document.getElementById(\"cf7bdaa4-d4c9-48ac-8aef-c0e1654d23d1\")) {                    Plotly.newPlot(                        \"cf7bdaa4-d4c9-48ac-8aef-c0e1654d23d1\",                        [{\"hovertemplate\":\"year_week=%{x}\\u003cbr\\u003eorder_price_per_unit_usd=%{y}\\u003cextra\\u003e\\u003c\\u002fextra\\u003e\",\"legendgroup\":\"\",\"line\":{\"color\":\"#636efa\",\"dash\":\"solid\"},\"marker\":{\"symbol\":\"circle\"},\"mode\":\"lines\",\"name\":\"\",\"orientation\":\"v\",\"showlegend\":false,\"x\":[\"2024_35\",\"2024_36\",\"2024_37\",\"2024_38\",\"2024_39\",\"2024_40\",\"2024_41\",\"2024_42\",\"2024_43\",\"2024_44\",\"2024_45\",\"2024_46\",\"2024_47\",\"2024_48\",\"2024_49\",\"2024_50\",\"2024_51\",\"2024_52\",\"2024_53\",\"2025_01\",\"2025_02\",\"2025_03\",\"2025_04\",\"2025_05\",\"2025_06\",\"2025_07\",\"2025_08\",\"2025_09\",\"2025_10\",\"2025_11\",\"2025_12\",\"2025_13\"],\"xaxis\":\"x\",\"y\":[1.7873839459007426,1.8101932010759965,1.8930213302395535,1.9281821639959473,2.073495629185758,2.0555758304141682,2.103196278929769,1.8380845659420812,1.8336153521711878,2.025177550642029,2.0582170846801233,2.0899504575306307,1.6553001630548847,1.2851656761855812,1.4912777889102025,1.2767541468605097,1.3315679752276488,1.6383723060148725,1.5219236842344575,1.2800360852445312,1.2463625318883909,1.6873290599915753,1.3893448856900006,1.3557771332179442,1.5416247003474122,1.4876351665827703,1.719818428742098,1.4795445899306652,1.8913914767857785,1.8174400842296028,1.8065868574199626,2.017534353967301],\"yaxis\":\"y\",\"type\":\"scatter\"}],                        {\"template\":{\"data\":{\"histogram2dcontour\":[{\"type\":\"histogram2dcontour\",\"colorbar\":{\"outlinewidth\":0,\"ticks\":\"\"},\"colorscale\":[[0.0,\"#0d0887\"],[0.1111111111111111,\"#46039f\"],[0.2222222222222222,\"#7201a8\"],[0.3333333333333333,\"#9c179e\"],[0.4444444444444444,\"#bd3786\"],[0.5555555555555556,\"#d8576b\"],[0.6666666666666666,\"#ed7953\"],[0.7777777777777778,\"#fb9f3a\"],[0.8888888888888888,\"#fdca26\"],[1.0,\"#f0f921\"]]}],\"choropleth\":[{\"type\":\"choropleth\",\"colorbar\":{\"outlinewidth\":0,\"ticks\":\"\"}}],\"histogram2d\":[{\"type\":\"histogram2d\",\"colorbar\":{\"outlinewidth\":0,\"ticks\":\"\"},\"colorscale\":[[0.0,\"#0d0887\"],[0.1111111111111111,\"#46039f\"],[0.2222222222222222,\"#7201a8\"],[0.3333333333333333,\"#9c179e\"],[0.4444444444444444,\"#bd3786\"],[0.5555555555555556,\"#d8576b\"],[0.6666666666666666,\"#ed7953\"],[0.7777777777777778,\"#fb9f3a\"],[0.8888888888888888,\"#fdca26\"],[1.0,\"#f0f921\"]]}],\"heatmap\":[{\"type\":\"heatmap\",\"colorbar\":{\"outlinewidth\":0,\"ticks\":\"\"},\"colorscale\":[[0.0,\"#0d0887\"],[0.1111111111111111,\"#46039f\"],[0.2222222222222222,\"#7201a8\"],[0.3333333333333333,\"#9c179e\"],[0.4444444444444444,\"#bd3786\"],[0.5555555555555556,\"#d8576b\"],[0.6666666666666666,\"#ed7953\"],[0.7777777777777778,\"#fb9f3a\"],[0.8888888888888888,\"#fdca26\"],[1.0,\"#f0f921\"]]}],\"heatmapgl\":[{\"type\":\"heatmapgl\",\"colorbar\":{\"outlinewidth\":0,\"ticks\":\"\"},\"colorscale\":[[0.0,\"#0d0887\"],[0.1111111111111111,\"#46039f\"],[0.2222222222222222,\"#7201a8\"],[0.3333333333333333,\"#9c179e\"],[0.4444444444444444,\"#bd3786\"],[0.5555555555555556,\"#d8576b\"],[0.6666666666666666,\"#ed7953\"],[0.7777777777777778,\"#fb9f3a\"],[0.8888888888888888,\"#fdca26\"],[1.0,\"#f0f921\"]]}],\"contourcarpet\":[{\"type\":\"contourcarpet\",\"colorbar\":{\"outlinewidth\":0,\"ticks\":\"\"}}],\"contour\":[{\"type\":\"contour\",\"colorbar\":{\"outlinewidth\":0,\"ticks\":\"\"},\"colorscale\":[[0.0,\"#0d0887\"],[0.1111111111111111,\"#46039f\"],[0.2222222222222222,\"#7201a8\"],[0.3333333333333333,\"#9c179e\"],[0.4444444444444444,\"#bd3786\"],[0.5555555555555556,\"#d8576b\"],[0.6666666666666666,\"#ed7953\"],[0.7777777777777778,\"#fb9f3a\"],[0.8888888888888888,\"#fdca26\"],[1.0,\"#f0f921\"]]}],\"surface\":[{\"type\":\"surface\",\"colorbar\":{\"outlinewidth\":0,\"ticks\":\"\"},\"colorscale\":[[0.0,\"#0d0887\"],[0.1111111111111111,\"#46039f\"],[0.2222222222222222,\"#7201a8\"],[0.3333333333333333,\"#9c179e\"],[0.4444444444444444,\"#bd3786\"],[0.5555555555555556,\"#d8576b\"],[0.6666666666666666,\"#ed7953\"],[0.7777777777777778,\"#fb9f3a\"],[0.8888888888888888,\"#fdca26\"],[1.0,\"#f0f921\"]]}],\"mesh3d\":[{\"type\":\"mesh3d\",\"colorbar\":{\"outlinewidth\":0,\"ticks\":\"\"}}],\"scatter\":[{\"fillpattern\":{\"fillmode\":\"overlay\",\"size\":10,\"solidity\":0.2},\"type\":\"scatter\"}],\"parcoords\":[{\"type\":\"parcoords\",\"line\":{\"colorbar\":{\"outlinewidth\":0,\"ticks\":\"\"}}}],\"scatterpolargl\":[{\"type\":\"scatterpolargl\",\"marker\":{\"colorbar\":{\"outlinewidth\":0,\"ticks\":\"\"}}}],\"bar\":[{\"error_x\":{\"color\":\"#2a3f5f\"},\"error_y\":{\"color\":\"#2a3f5f\"},\"marker\":{\"line\":{\"color\":\"#E5ECF6\",\"width\":0.5},\"pattern\":{\"fillmode\":\"overlay\",\"size\":10,\"solidity\":0.2}},\"type\":\"bar\"}],\"scattergeo\":[{\"type\":\"scattergeo\",\"marker\":{\"colorbar\":{\"outlinewidth\":0,\"ticks\":\"\"}}}],\"scatterpolar\":[{\"type\":\"scatterpolar\",\"marker\":{\"colorbar\":{\"outlinewidth\":0,\"ticks\":\"\"}}}],\"histogram\":[{\"marker\":{\"pattern\":{\"fillmode\":\"overlay\",\"size\":10,\"solidity\":0.2}},\"type\":\"histogram\"}],\"scattergl\":[{\"type\":\"scattergl\",\"marker\":{\"colorbar\":{\"outlinewidth\":0,\"ticks\":\"\"}}}],\"scatter3d\":[{\"type\":\"scatter3d\",\"line\":{\"colorbar\":{\"outlinewidth\":0,\"ticks\":\"\"}},\"marker\":{\"colorbar\":{\"outlinewidth\":0,\"ticks\":\"\"}}}],\"scattermapbox\":[{\"type\":\"scattermapbox\",\"marker\":{\"colorbar\":{\"outlinewidth\":0,\"ticks\":\"\"}}}],\"scatterternary\":[{\"type\":\"scatterternary\",\"marker\":{\"colorbar\":{\"outlinewidth\":0,\"ticks\":\"\"}}}],\"scattercarpet\":[{\"type\":\"scattercarpet\",\"marker\":{\"colorbar\":{\"outlinewidth\":0,\"ticks\":\"\"}}}],\"carpet\":[{\"aaxis\":{\"endlinecolor\":\"#2a3f5f\",\"gridcolor\":\"white\",\"linecolor\":\"white\",\"minorgridcolor\":\"white\",\"startlinecolor\":\"#2a3f5f\"},\"baxis\":{\"endlinecolor\":\"#2a3f5f\",\"gridcolor\":\"white\",\"linecolor\":\"white\",\"minorgridcolor\":\"white\",\"startlinecolor\":\"#2a3f5f\"},\"type\":\"carpet\"}],\"table\":[{\"cells\":{\"fill\":{\"color\":\"#EBF0F8\"},\"line\":{\"color\":\"white\"}},\"header\":{\"fill\":{\"color\":\"#C8D4E3\"},\"line\":{\"color\":\"white\"}},\"type\":\"table\"}],\"barpolar\":[{\"marker\":{\"line\":{\"color\":\"#E5ECF6\",\"width\":0.5},\"pattern\":{\"fillmode\":\"overlay\",\"size\":10,\"solidity\":0.2}},\"type\":\"barpolar\"}],\"pie\":[{\"automargin\":true,\"type\":\"pie\"}]},\"layout\":{\"autotypenumbers\":\"strict\",\"colorway\":[\"#636efa\",\"#EF553B\",\"#00cc96\",\"#ab63fa\",\"#FFA15A\",\"#19d3f3\",\"#FF6692\",\"#B6E880\",\"#FF97FF\",\"#FECB52\"],\"font\":{\"color\":\"#2a3f5f\"},\"hovermode\":\"closest\",\"hoverlabel\":{\"align\":\"left\"},\"paper_bgcolor\":\"white\",\"plot_bgcolor\":\"#E5ECF6\",\"polar\":{\"bgcolor\":\"#E5ECF6\",\"angularaxis\":{\"gridcolor\":\"white\",\"linecolor\":\"white\",\"ticks\":\"\"},\"radialaxis\":{\"gridcolor\":\"white\",\"linecolor\":\"white\",\"ticks\":\"\"}},\"ternary\":{\"bgcolor\":\"#E5ECF6\",\"aaxis\":{\"gridcolor\":\"white\",\"linecolor\":\"white\",\"ticks\":\"\"},\"baxis\":{\"gridcolor\":\"white\",\"linecolor\":\"white\",\"ticks\":\"\"},\"caxis\":{\"gridcolor\":\"white\",\"linecolor\":\"white\",\"ticks\":\"\"}},\"coloraxis\":{\"colorbar\":{\"outlinewidth\":0,\"ticks\":\"\"}},\"colorscale\":{\"sequential\":[[0.0,\"#0d0887\"],[0.1111111111111111,\"#46039f\"],[0.2222222222222222,\"#7201a8\"],[0.3333333333333333,\"#9c179e\"],[0.4444444444444444,\"#bd3786\"],[0.5555555555555556,\"#d8576b\"],[0.6666666666666666,\"#ed7953\"],[0.7777777777777778,\"#fb9f3a\"],[0.8888888888888888,\"#fdca26\"],[1.0,\"#f0f921\"]],\"sequentialminus\":[[0.0,\"#0d0887\"],[0.1111111111111111,\"#46039f\"],[0.2222222222222222,\"#7201a8\"],[0.3333333333333333,\"#9c179e\"],[0.4444444444444444,\"#bd3786\"],[0.5555555555555556,\"#d8576b\"],[0.6666666666666666,\"#ed7953\"],[0.7777777777777778,\"#fb9f3a\"],[0.8888888888888888,\"#fdca26\"],[1.0,\"#f0f921\"]],\"diverging\":[[0,\"#8e0152\"],[0.1,\"#c51b7d\"],[0.2,\"#de77ae\"],[0.3,\"#f1b6da\"],[0.4,\"#fde0ef\"],[0.5,\"#f7f7f7\"],[0.6,\"#e6f5d0\"],[0.7,\"#b8e186\"],[0.8,\"#7fbc41\"],[0.9,\"#4d9221\"],[1,\"#276419\"]]},\"xaxis\":{\"gridcolor\":\"white\",\"linecolor\":\"white\",\"ticks\":\"\",\"title\":{\"standoff\":15},\"zerolinecolor\":\"white\",\"automargin\":true,\"zerolinewidth\":2},\"yaxis\":{\"gridcolor\":\"white\",\"linecolor\":\"white\",\"ticks\":\"\",\"title\":{\"standoff\":15},\"zerolinecolor\":\"white\",\"automargin\":true,\"zerolinewidth\":2},\"scene\":{\"xaxis\":{\"backgroundcolor\":\"#E5ECF6\",\"gridcolor\":\"white\",\"linecolor\":\"white\",\"showbackground\":true,\"ticks\":\"\",\"zerolinecolor\":\"white\",\"gridwidth\":2},\"yaxis\":{\"backgroundcolor\":\"#E5ECF6\",\"gridcolor\":\"white\",\"linecolor\":\"white\",\"showbackground\":true,\"ticks\":\"\",\"zerolinecolor\":\"white\",\"gridwidth\":2},\"zaxis\":{\"backgroundcolor\":\"#E5ECF6\",\"gridcolor\":\"white\",\"linecolor\":\"white\",\"showbackground\":true,\"ticks\":\"\",\"zerolinecolor\":\"white\",\"gridwidth\":2}},\"shapedefaults\":{\"line\":{\"color\":\"#2a3f5f\"}},\"annotationdefaults\":{\"arrowcolor\":\"#2a3f5f\",\"arrowhead\":0,\"arrowwidth\":1},\"geo\":{\"bgcolor\":\"white\",\"landcolor\":\"#E5ECF6\",\"subunitcolor\":\"white\",\"showland\":true,\"showlakes\":true,\"lakecolor\":\"white\"},\"title\":{\"x\":0.05},\"mapbox\":{\"style\":\"light\"}}},\"xaxis\":{\"anchor\":\"y\",\"domain\":[0.0,1.0],\"title\":{\"text\":\"year_week\"}},\"yaxis\":{\"anchor\":\"x\",\"domain\":[0.0,1.0],\"title\":{\"text\":\"order_price_per_unit_usd\"}},\"legend\":{\"tracegroupgap\":0},\"title\":{\"text\":\"PSI Cat Week\"}},                        {\"responsive\": true}                    ).then(function(){\n",
              "                            \n",
              "var gd = document.getElementById('cf7bdaa4-d4c9-48ac-8aef-c0e1654d23d1');\n",
              "var x = new MutationObserver(function (mutations, observer) {{\n",
              "        var display = window.getComputedStyle(gd).display;\n",
              "        if (!display || display === 'none') {{\n",
              "            console.log([gd, 'removed!']);\n",
              "            Plotly.purge(gd);\n",
              "            observer.disconnect();\n",
              "        }}\n",
              "}});\n",
              "\n",
              "// Listen for the removal of the full notebook cells\n",
              "var notebookContainer = gd.closest('#notebook-container');\n",
              "if (notebookContainer) {{\n",
              "    x.observe(notebookContainer, {childList: true});\n",
              "}}\n",
              "\n",
              "// Listen for the clearing of the current output cell\n",
              "var outputEl = gd.closest('.output');\n",
              "if (outputEl) {{\n",
              "    x.observe(outputEl, {childList: true});\n",
              "}}\n",
              "\n",
              "                        })                };                            </script>        </div>\n",
              "</body>\n",
              "</html>"
            ]
          },
          "metadata": {}
        }
      ]
    },
    {
      "cell_type": "code",
      "source": [
        "price_psi_cat_week_country_maps = filled_df_psi_cat_week.groupby(['product_category', 'priority', 'warehouse_country', 'destination']).agg({'order_price_per_unit_usd' : 'nunique'})\\\n",
        ".reset_index().rename(columns = {'order_price_per_unit_usd' : 'unique_prices'})\n",
        "print(len(price_psi_cat_week_country_maps))\n",
        "price_psi_cat_week_country_maps = price_psi_cat_week_country_maps[price_psi_cat_week_country_maps.unique_prices >= 32] # 8 months\n",
        "\n",
        "price_psi_cat_week_country_maps = price_psi_cat_week_country_maps.drop('unique_prices', axis = 1)\n",
        "print(len(price_psi_cat_week_country_maps))"
      ],
      "metadata": {
        "colab": {
          "base_uri": "https://localhost:8080/"
        },
        "id": "7tRvjYdihAfq",
        "outputId": "9f8358fb-2d49-4264-9d94-fc8222f27dba"
      },
      "execution_count": null,
      "outputs": [
        {
          "output_type": "stream",
          "name": "stdout",
          "text": [
            "573\n",
            "464\n"
          ]
        }
      ]
    },
    {
      "cell_type": "code",
      "source": [],
      "metadata": {
        "id": "VyLhcl2b10CX"
      },
      "execution_count": null,
      "outputs": []
    },
    {
      "cell_type": "code",
      "source": [],
      "metadata": {
        "id": "trKe0ePJzACo"
      },
      "execution_count": null,
      "outputs": []
    },
    {
      "cell_type": "markdown",
      "source": [
        "## Subcat month"
      ],
      "metadata": {
        "id": "8gB6Dsg88ppK"
      }
    },
    {
      "cell_type": "code",
      "source": [
        "df_psi_subcat_month = psi_df.groupby(['product_subcategory', 'priority', 'warehouse_country', 'destination', 'year_month']).agg({'order_price_per_unit_usd' : 'mean',\n",
        "                                                                                                                                 'asking_price_per_unit_usd' : 'mean'}).reset_index()"
      ],
      "metadata": {
        "id": "vzDWoDtM8sfz"
      },
      "execution_count": null,
      "outputs": []
    },
    {
      "cell_type": "code",
      "source": [
        "import pandas as pd\n",
        "import numpy as np\n",
        "from datetime import datetime\n",
        "\n",
        "def subcat_month_add_dummy_rows(df):\n",
        "    df = df.copy()\n",
        "\n",
        "    # Convert year_month to datetime format\n",
        "    df['year_month'] = pd.to_datetime(df['year_month'].str.replace('_', '-'), format='%Y-%m')\n",
        "    today = pd.to_datetime(datetime.today().replace(day=1))\n",
        "    prev_month = today - pd.DateOffset(months=1)\n",
        "\n",
        "    key_cols = ['product_subcategory', 'priority', 'warehouse_country', 'destination']\n",
        "    all_combinations = df[key_cols].drop_duplicates()\n",
        "\n",
        "    final_rows = []\n",
        "\n",
        "    for _, combo in all_combinations.iterrows():\n",
        "        combo_filter = (df[key_cols] == combo.values).all(axis=1)\n",
        "        combo_df = df[combo_filter].sort_values('year_month')\n",
        "\n",
        "        if combo_df.empty:\n",
        "            continue\n",
        "\n",
        "        start = combo_df['year_month'].min()\n",
        "        months_needed = pd.date_range(start=start, end=prev_month, freq='MS')\n",
        "\n",
        "        for month in months_needed:\n",
        "            if month in combo_df['year_month'].values:\n",
        "                row = combo_df[combo_df['year_month'] == month].iloc[0].to_dict()\n",
        "                final_rows.append(row)\n",
        "            else:\n",
        "                prev_row = combo_df[combo_df['year_month'] < month].sort_values('year_month').tail(1)\n",
        "                next_row = combo_df[combo_df['year_month'] > month].sort_values('year_month').head(1)\n",
        "\n",
        "                if not prev_row.empty:\n",
        "                    prev_order = prev_row['order_price_per_unit_usd'].values[0]\n",
        "                    prev_asking = prev_row['asking_price_per_unit_usd'].values[0]\n",
        "                else:\n",
        "                    prev_order = prev_asking = 0.0\n",
        "\n",
        "                if not next_row.empty:\n",
        "                    next_order = next_row['order_price_per_unit_usd'].values[0]\n",
        "                    next_asking = next_row['asking_price_per_unit_usd'].values[0]\n",
        "                    try:\n",
        "                        order_price = np.random.uniform(min(prev_order, next_order), max(prev_order, next_order))\n",
        "                    except:\n",
        "                        order_price = np.nan\n",
        "                    try:\n",
        "                        asking_price = np.random.uniform(min(prev_asking, next_asking), max(prev_asking, next_asking))\n",
        "                    except:\n",
        "                        asking_price = np.nan\n",
        "                else:\n",
        "                    try:\n",
        "                        order_price = np.random.uniform(0.8 * prev_order, 1.2 * prev_order)\n",
        "                    except:\n",
        "                        order_price = np.nan\n",
        "                    try:\n",
        "                        asking_price = np.random.uniform(0.8 * prev_asking, 1.2 * prev_asking)\n",
        "                    except:\n",
        "                        asking_price = np.nan\n",
        "\n",
        "                dummy_row = {\n",
        "                    'product_subcategory': combo['product_subcategory'],\n",
        "                    'priority': combo['priority'],\n",
        "                    'warehouse_country': combo['warehouse_country'],\n",
        "                    'destination': combo['destination'],\n",
        "                    'year_month': month,\n",
        "                    'order_price_per_unit_usd': order_price,\n",
        "                    'asking_price_per_unit_usd': asking_price\n",
        "                }\n",
        "                final_rows.append(dummy_row)\n",
        "\n",
        "    final_df = pd.DataFrame(final_rows)\n",
        "    final_df['year_month'] = pd.to_datetime(final_df['year_month'])\n",
        "    final_df['year_month'] = final_df['year_month'].dt.strftime('%Y_%m')\n",
        "    final_df = final_df.sort_values(by=key_cols + ['year_month']).reset_index(drop=True)\n",
        "\n",
        "    return final_df"
      ],
      "metadata": {
        "collapsed": true,
        "id": "326NJVNx8sc8"
      },
      "execution_count": null,
      "outputs": []
    },
    {
      "cell_type": "code",
      "source": [
        "filled_df_psi_subcat_month = subcat_month_add_dummy_rows(df_psi_subcat_month)"
      ],
      "metadata": {
        "id": "zPedl-cM9dY3"
      },
      "execution_count": null,
      "outputs": []
    },
    {
      "cell_type": "code",
      "source": [
        "plot_temp = filled_df_psi_subcat_month[(filled_df_psi_subcat_month['product_subcategory'] == 'shampoo') & (filled_df_psi_subcat_month['priority'] == 'p1') &\n",
        "                                (filled_df_psi_subcat_month['warehouse_country'] == 'indonesia') & (filled_df_psi_subcat_month['destination'] == 'indonesia')]\n",
        "plot_temp = plot_temp[-8:] # last 8 months plot\n",
        "fig = px.line(plot_temp, x=\"year_month\", y=\"order_price_per_unit_usd\", title='PSI Subcat Month')\n",
        "fig.show()"
      ],
      "metadata": {
        "colab": {
          "base_uri": "https://localhost:8080/",
          "height": 542
        },
        "id": "J1_y61qrw0pG",
        "outputId": "92c829de-d9ba-4db1-fe2d-7ed633ff70d7"
      },
      "execution_count": null,
      "outputs": [
        {
          "output_type": "display_data",
          "data": {
            "text/html": [
              "<html>\n",
              "<head><meta charset=\"utf-8\" /></head>\n",
              "<body>\n",
              "    <div>            <script src=\"https://cdnjs.cloudflare.com/ajax/libs/mathjax/2.7.5/MathJax.js?config=TeX-AMS-MML_SVG\"></script><script type=\"text/javascript\">if (window.MathJax && window.MathJax.Hub && window.MathJax.Hub.Config) {window.MathJax.Hub.Config({SVG: {font: \"STIX-Web\"}});}</script>                <script type=\"text/javascript\">window.PlotlyConfig = {MathJaxConfig: 'local'};</script>\n",
              "        <script charset=\"utf-8\" src=\"https://cdn.plot.ly/plotly-2.35.2.min.js\"></script>                <div id=\"c86b27ba-dadc-47cb-ba5f-6f331bf1923c\" class=\"plotly-graph-div\" style=\"height:525px; width:100%;\"></div>            <script type=\"text/javascript\">                                    window.PLOTLYENV=window.PLOTLYENV || {};                                    if (document.getElementById(\"c86b27ba-dadc-47cb-ba5f-6f331bf1923c\")) {                    Plotly.newPlot(                        \"c86b27ba-dadc-47cb-ba5f-6f331bf1923c\",                        [{\"hovertemplate\":\"year_month=%{x}\\u003cbr\\u003eorder_price_per_unit_usd=%{y}\\u003cextra\\u003e\\u003c\\u002fextra\\u003e\",\"legendgroup\":\"\",\"line\":{\"color\":\"#636efa\",\"dash\":\"solid\"},\"marker\":{\"symbol\":\"circle\"},\"mode\":\"lines\",\"name\":\"\",\"orientation\":\"v\",\"showlegend\":false,\"x\":[\"2024_08\",\"2024_09\",\"2024_10\",\"2024_11\",\"2024_12\",\"2025_01\",\"2025_02\",\"2025_03\"],\"xaxis\":\"x\",\"y\":[1.197384637242773,0.6211579501456753,0.9116034021471815,0.8969156795853337,0.6263704595626984,0.8558819395011901,0.14260304189529593,0.16865365568024948],\"yaxis\":\"y\",\"type\":\"scatter\"}],                        {\"template\":{\"data\":{\"histogram2dcontour\":[{\"type\":\"histogram2dcontour\",\"colorbar\":{\"outlinewidth\":0,\"ticks\":\"\"},\"colorscale\":[[0.0,\"#0d0887\"],[0.1111111111111111,\"#46039f\"],[0.2222222222222222,\"#7201a8\"],[0.3333333333333333,\"#9c179e\"],[0.4444444444444444,\"#bd3786\"],[0.5555555555555556,\"#d8576b\"],[0.6666666666666666,\"#ed7953\"],[0.7777777777777778,\"#fb9f3a\"],[0.8888888888888888,\"#fdca26\"],[1.0,\"#f0f921\"]]}],\"choropleth\":[{\"type\":\"choropleth\",\"colorbar\":{\"outlinewidth\":0,\"ticks\":\"\"}}],\"histogram2d\":[{\"type\":\"histogram2d\",\"colorbar\":{\"outlinewidth\":0,\"ticks\":\"\"},\"colorscale\":[[0.0,\"#0d0887\"],[0.1111111111111111,\"#46039f\"],[0.2222222222222222,\"#7201a8\"],[0.3333333333333333,\"#9c179e\"],[0.4444444444444444,\"#bd3786\"],[0.5555555555555556,\"#d8576b\"],[0.6666666666666666,\"#ed7953\"],[0.7777777777777778,\"#fb9f3a\"],[0.8888888888888888,\"#fdca26\"],[1.0,\"#f0f921\"]]}],\"heatmap\":[{\"type\":\"heatmap\",\"colorbar\":{\"outlinewidth\":0,\"ticks\":\"\"},\"colorscale\":[[0.0,\"#0d0887\"],[0.1111111111111111,\"#46039f\"],[0.2222222222222222,\"#7201a8\"],[0.3333333333333333,\"#9c179e\"],[0.4444444444444444,\"#bd3786\"],[0.5555555555555556,\"#d8576b\"],[0.6666666666666666,\"#ed7953\"],[0.7777777777777778,\"#fb9f3a\"],[0.8888888888888888,\"#fdca26\"],[1.0,\"#f0f921\"]]}],\"heatmapgl\":[{\"type\":\"heatmapgl\",\"colorbar\":{\"outlinewidth\":0,\"ticks\":\"\"},\"colorscale\":[[0.0,\"#0d0887\"],[0.1111111111111111,\"#46039f\"],[0.2222222222222222,\"#7201a8\"],[0.3333333333333333,\"#9c179e\"],[0.4444444444444444,\"#bd3786\"],[0.5555555555555556,\"#d8576b\"],[0.6666666666666666,\"#ed7953\"],[0.7777777777777778,\"#fb9f3a\"],[0.8888888888888888,\"#fdca26\"],[1.0,\"#f0f921\"]]}],\"contourcarpet\":[{\"type\":\"contourcarpet\",\"colorbar\":{\"outlinewidth\":0,\"ticks\":\"\"}}],\"contour\":[{\"type\":\"contour\",\"colorbar\":{\"outlinewidth\":0,\"ticks\":\"\"},\"colorscale\":[[0.0,\"#0d0887\"],[0.1111111111111111,\"#46039f\"],[0.2222222222222222,\"#7201a8\"],[0.3333333333333333,\"#9c179e\"],[0.4444444444444444,\"#bd3786\"],[0.5555555555555556,\"#d8576b\"],[0.6666666666666666,\"#ed7953\"],[0.7777777777777778,\"#fb9f3a\"],[0.8888888888888888,\"#fdca26\"],[1.0,\"#f0f921\"]]}],\"surface\":[{\"type\":\"surface\",\"colorbar\":{\"outlinewidth\":0,\"ticks\":\"\"},\"colorscale\":[[0.0,\"#0d0887\"],[0.1111111111111111,\"#46039f\"],[0.2222222222222222,\"#7201a8\"],[0.3333333333333333,\"#9c179e\"],[0.4444444444444444,\"#bd3786\"],[0.5555555555555556,\"#d8576b\"],[0.6666666666666666,\"#ed7953\"],[0.7777777777777778,\"#fb9f3a\"],[0.8888888888888888,\"#fdca26\"],[1.0,\"#f0f921\"]]}],\"mesh3d\":[{\"type\":\"mesh3d\",\"colorbar\":{\"outlinewidth\":0,\"ticks\":\"\"}}],\"scatter\":[{\"fillpattern\":{\"fillmode\":\"overlay\",\"size\":10,\"solidity\":0.2},\"type\":\"scatter\"}],\"parcoords\":[{\"type\":\"parcoords\",\"line\":{\"colorbar\":{\"outlinewidth\":0,\"ticks\":\"\"}}}],\"scatterpolargl\":[{\"type\":\"scatterpolargl\",\"marker\":{\"colorbar\":{\"outlinewidth\":0,\"ticks\":\"\"}}}],\"bar\":[{\"error_x\":{\"color\":\"#2a3f5f\"},\"error_y\":{\"color\":\"#2a3f5f\"},\"marker\":{\"line\":{\"color\":\"#E5ECF6\",\"width\":0.5},\"pattern\":{\"fillmode\":\"overlay\",\"size\":10,\"solidity\":0.2}},\"type\":\"bar\"}],\"scattergeo\":[{\"type\":\"scattergeo\",\"marker\":{\"colorbar\":{\"outlinewidth\":0,\"ticks\":\"\"}}}],\"scatterpolar\":[{\"type\":\"scatterpolar\",\"marker\":{\"colorbar\":{\"outlinewidth\":0,\"ticks\":\"\"}}}],\"histogram\":[{\"marker\":{\"pattern\":{\"fillmode\":\"overlay\",\"size\":10,\"solidity\":0.2}},\"type\":\"histogram\"}],\"scattergl\":[{\"type\":\"scattergl\",\"marker\":{\"colorbar\":{\"outlinewidth\":0,\"ticks\":\"\"}}}],\"scatter3d\":[{\"type\":\"scatter3d\",\"line\":{\"colorbar\":{\"outlinewidth\":0,\"ticks\":\"\"}},\"marker\":{\"colorbar\":{\"outlinewidth\":0,\"ticks\":\"\"}}}],\"scattermapbox\":[{\"type\":\"scattermapbox\",\"marker\":{\"colorbar\":{\"outlinewidth\":0,\"ticks\":\"\"}}}],\"scatterternary\":[{\"type\":\"scatterternary\",\"marker\":{\"colorbar\":{\"outlinewidth\":0,\"ticks\":\"\"}}}],\"scattercarpet\":[{\"type\":\"scattercarpet\",\"marker\":{\"colorbar\":{\"outlinewidth\":0,\"ticks\":\"\"}}}],\"carpet\":[{\"aaxis\":{\"endlinecolor\":\"#2a3f5f\",\"gridcolor\":\"white\",\"linecolor\":\"white\",\"minorgridcolor\":\"white\",\"startlinecolor\":\"#2a3f5f\"},\"baxis\":{\"endlinecolor\":\"#2a3f5f\",\"gridcolor\":\"white\",\"linecolor\":\"white\",\"minorgridcolor\":\"white\",\"startlinecolor\":\"#2a3f5f\"},\"type\":\"carpet\"}],\"table\":[{\"cells\":{\"fill\":{\"color\":\"#EBF0F8\"},\"line\":{\"color\":\"white\"}},\"header\":{\"fill\":{\"color\":\"#C8D4E3\"},\"line\":{\"color\":\"white\"}},\"type\":\"table\"}],\"barpolar\":[{\"marker\":{\"line\":{\"color\":\"#E5ECF6\",\"width\":0.5},\"pattern\":{\"fillmode\":\"overlay\",\"size\":10,\"solidity\":0.2}},\"type\":\"barpolar\"}],\"pie\":[{\"automargin\":true,\"type\":\"pie\"}]},\"layout\":{\"autotypenumbers\":\"strict\",\"colorway\":[\"#636efa\",\"#EF553B\",\"#00cc96\",\"#ab63fa\",\"#FFA15A\",\"#19d3f3\",\"#FF6692\",\"#B6E880\",\"#FF97FF\",\"#FECB52\"],\"font\":{\"color\":\"#2a3f5f\"},\"hovermode\":\"closest\",\"hoverlabel\":{\"align\":\"left\"},\"paper_bgcolor\":\"white\",\"plot_bgcolor\":\"#E5ECF6\",\"polar\":{\"bgcolor\":\"#E5ECF6\",\"angularaxis\":{\"gridcolor\":\"white\",\"linecolor\":\"white\",\"ticks\":\"\"},\"radialaxis\":{\"gridcolor\":\"white\",\"linecolor\":\"white\",\"ticks\":\"\"}},\"ternary\":{\"bgcolor\":\"#E5ECF6\",\"aaxis\":{\"gridcolor\":\"white\",\"linecolor\":\"white\",\"ticks\":\"\"},\"baxis\":{\"gridcolor\":\"white\",\"linecolor\":\"white\",\"ticks\":\"\"},\"caxis\":{\"gridcolor\":\"white\",\"linecolor\":\"white\",\"ticks\":\"\"}},\"coloraxis\":{\"colorbar\":{\"outlinewidth\":0,\"ticks\":\"\"}},\"colorscale\":{\"sequential\":[[0.0,\"#0d0887\"],[0.1111111111111111,\"#46039f\"],[0.2222222222222222,\"#7201a8\"],[0.3333333333333333,\"#9c179e\"],[0.4444444444444444,\"#bd3786\"],[0.5555555555555556,\"#d8576b\"],[0.6666666666666666,\"#ed7953\"],[0.7777777777777778,\"#fb9f3a\"],[0.8888888888888888,\"#fdca26\"],[1.0,\"#f0f921\"]],\"sequentialminus\":[[0.0,\"#0d0887\"],[0.1111111111111111,\"#46039f\"],[0.2222222222222222,\"#7201a8\"],[0.3333333333333333,\"#9c179e\"],[0.4444444444444444,\"#bd3786\"],[0.5555555555555556,\"#d8576b\"],[0.6666666666666666,\"#ed7953\"],[0.7777777777777778,\"#fb9f3a\"],[0.8888888888888888,\"#fdca26\"],[1.0,\"#f0f921\"]],\"diverging\":[[0,\"#8e0152\"],[0.1,\"#c51b7d\"],[0.2,\"#de77ae\"],[0.3,\"#f1b6da\"],[0.4,\"#fde0ef\"],[0.5,\"#f7f7f7\"],[0.6,\"#e6f5d0\"],[0.7,\"#b8e186\"],[0.8,\"#7fbc41\"],[0.9,\"#4d9221\"],[1,\"#276419\"]]},\"xaxis\":{\"gridcolor\":\"white\",\"linecolor\":\"white\",\"ticks\":\"\",\"title\":{\"standoff\":15},\"zerolinecolor\":\"white\",\"automargin\":true,\"zerolinewidth\":2},\"yaxis\":{\"gridcolor\":\"white\",\"linecolor\":\"white\",\"ticks\":\"\",\"title\":{\"standoff\":15},\"zerolinecolor\":\"white\",\"automargin\":true,\"zerolinewidth\":2},\"scene\":{\"xaxis\":{\"backgroundcolor\":\"#E5ECF6\",\"gridcolor\":\"white\",\"linecolor\":\"white\",\"showbackground\":true,\"ticks\":\"\",\"zerolinecolor\":\"white\",\"gridwidth\":2},\"yaxis\":{\"backgroundcolor\":\"#E5ECF6\",\"gridcolor\":\"white\",\"linecolor\":\"white\",\"showbackground\":true,\"ticks\":\"\",\"zerolinecolor\":\"white\",\"gridwidth\":2},\"zaxis\":{\"backgroundcolor\":\"#E5ECF6\",\"gridcolor\":\"white\",\"linecolor\":\"white\",\"showbackground\":true,\"ticks\":\"\",\"zerolinecolor\":\"white\",\"gridwidth\":2}},\"shapedefaults\":{\"line\":{\"color\":\"#2a3f5f\"}},\"annotationdefaults\":{\"arrowcolor\":\"#2a3f5f\",\"arrowhead\":0,\"arrowwidth\":1},\"geo\":{\"bgcolor\":\"white\",\"landcolor\":\"#E5ECF6\",\"subunitcolor\":\"white\",\"showland\":true,\"showlakes\":true,\"lakecolor\":\"white\"},\"title\":{\"x\":0.05},\"mapbox\":{\"style\":\"light\"}}},\"xaxis\":{\"anchor\":\"y\",\"domain\":[0.0,1.0],\"title\":{\"text\":\"year_month\"}},\"yaxis\":{\"anchor\":\"x\",\"domain\":[0.0,1.0],\"title\":{\"text\":\"order_price_per_unit_usd\"}},\"legend\":{\"tracegroupgap\":0},\"title\":{\"text\":\"PSI Subcat Month\"}},                        {\"responsive\": true}                    ).then(function(){\n",
              "                            \n",
              "var gd = document.getElementById('c86b27ba-dadc-47cb-ba5f-6f331bf1923c');\n",
              "var x = new MutationObserver(function (mutations, observer) {{\n",
              "        var display = window.getComputedStyle(gd).display;\n",
              "        if (!display || display === 'none') {{\n",
              "            console.log([gd, 'removed!']);\n",
              "            Plotly.purge(gd);\n",
              "            observer.disconnect();\n",
              "        }}\n",
              "}});\n",
              "\n",
              "// Listen for the removal of the full notebook cells\n",
              "var notebookContainer = gd.closest('#notebook-container');\n",
              "if (notebookContainer) {{\n",
              "    x.observe(notebookContainer, {childList: true});\n",
              "}}\n",
              "\n",
              "// Listen for the clearing of the current output cell\n",
              "var outputEl = gd.closest('.output');\n",
              "if (outputEl) {{\n",
              "    x.observe(outputEl, {childList: true});\n",
              "}}\n",
              "\n",
              "                        })                };                            </script>        </div>\n",
              "</body>\n",
              "</html>"
            ]
          },
          "metadata": {}
        }
      ]
    },
    {
      "cell_type": "code",
      "source": [
        "price_psi_subcat_month_country_maps = filled_df_psi_subcat_month.groupby(['product_subcategory', 'priority', 'warehouse_country', 'destination']).agg({'order_price_per_unit_usd' : 'nunique'})\\\n",
        ".reset_index().rename(columns = {'order_price_per_unit_usd' : 'unique_prices'})\n",
        "print(len(price_psi_subcat_month_country_maps))\n",
        "price_psi_subcat_month_country_maps = price_psi_subcat_month_country_maps[price_psi_subcat_month_country_maps.unique_prices >= 8] # 8 months\n",
        "\n",
        "price_psi_subcat_month_country_maps = price_psi_subcat_month_country_maps.drop('unique_prices', axis = 1)\n",
        "print(len(price_psi_subcat_month_country_maps))"
      ],
      "metadata": {
        "colab": {
          "base_uri": "https://localhost:8080/"
        },
        "id": "pxlINij589QS",
        "outputId": "159b2f12-75f3-4ce3-e236-caa60e589511"
      },
      "execution_count": null,
      "outputs": [
        {
          "output_type": "stream",
          "name": "stdout",
          "text": [
            "1392\n",
            "1097\n"
          ]
        }
      ]
    },
    {
      "cell_type": "code",
      "source": [],
      "metadata": {
        "id": "8-ISLRSGBU6V"
      },
      "execution_count": null,
      "outputs": []
    },
    {
      "cell_type": "markdown",
      "source": [
        "# Subcat week"
      ],
      "metadata": {
        "id": "Em0yQyp0wcBu"
      }
    },
    {
      "cell_type": "code",
      "source": [
        "df_psi_subcat_week = psi_df.groupby(['product_subcategory', 'priority', 'warehouse_country', 'destination', 'year_week']).agg({'order_price_per_unit_usd' : 'mean',\n",
        "                                                                                                                               'asking_price_per_unit_usd' : 'mean'}).reset_index()"
      ],
      "metadata": {
        "id": "0pGGtMQ_BTl9"
      },
      "execution_count": null,
      "outputs": []
    },
    {
      "cell_type": "code",
      "source": [
        "import pandas as pd\n",
        "import numpy as np\n",
        "from datetime import datetime, timedelta\n",
        "\n",
        "def subcat_week_add_dummy_rows(df):\n",
        "    df = df.copy()\n",
        "\n",
        "    # Convert 'year_week' to datetime format (Monday of that week)\n",
        "    df['week_start'] = df['year_week'].apply(lambda x: datetime.strptime(f\"{x}_1\", \"%Y_%W_%w\"))\n",
        "\n",
        "    today = datetime.today().replace(day=1)\n",
        "    last_day_prev_month = today - timedelta(days=1)\n",
        "    last_week_prev_month = last_day_prev_month - timedelta(days=last_day_prev_month.weekday())\n",
        "\n",
        "    key_cols = ['product_subcategory', 'priority', 'warehouse_country', 'destination']\n",
        "    all_combinations = df[key_cols].drop_duplicates()\n",
        "\n",
        "    final_rows = []\n",
        "\n",
        "    for _, combo in all_combinations.iterrows():\n",
        "        combo_filter = (df[key_cols] == combo.values).all(axis=1)\n",
        "        combo_df = df[combo_filter].sort_values('week_start')\n",
        "\n",
        "        if combo_df.empty:\n",
        "            continue\n",
        "\n",
        "        start_date = combo_df['week_start'].min()\n",
        "        weeks_needed = pd.date_range(start=start_date, end=last_week_prev_month, freq='W-MON')\n",
        "\n",
        "        for week_start in weeks_needed:\n",
        "            if week_start in combo_df['week_start'].values:\n",
        "                row = combo_df[combo_df['week_start'] == week_start].iloc[0].to_dict()\n",
        "                final_rows.append(row)\n",
        "            else:\n",
        "                prev_row = combo_df[combo_df['week_start'] < week_start].sort_values('week_start').tail(1)\n",
        "                next_row = combo_df[combo_df['week_start'] > week_start].sort_values('week_start').head(1)\n",
        "\n",
        "                if not prev_row.empty:\n",
        "                    prev_price = prev_row['order_price_per_unit_usd'].values[0]\n",
        "                    prev_asking = prev_row['asking_price_per_unit_usd'].values[0]\n",
        "                else:\n",
        "                    prev_price = prev_asking = 0.0\n",
        "\n",
        "                if not next_row.empty:\n",
        "                    next_price = next_row['order_price_per_unit_usd'].values[0]\n",
        "                    next_asking = next_row['asking_price_per_unit_usd'].values[0]\n",
        "                    try:\n",
        "                        order_price = np.random.uniform(min(prev_price, next_price), max(prev_price, next_price))\n",
        "                    except:\n",
        "                        order_price = np.nan\n",
        "                    try:\n",
        "                        asking_price = np.random.uniform(min(prev_asking, next_asking), max(prev_asking, next_asking))\n",
        "                    except:\n",
        "                        asking_price = np.nan\n",
        "                else:\n",
        "                    try:\n",
        "                        order_price = np.random.uniform(0.8 * prev_price, 1.05 * prev_price)\n",
        "                    except:\n",
        "                        order_price = np.nan\n",
        "                    try:\n",
        "                        asking_price = np.random.uniform(0.8 * prev_asking, 1.05 * prev_asking)\n",
        "                    except:\n",
        "                        asking_price = np.nan\n",
        "\n",
        "                dummy_row = {\n",
        "                    'product_subcategory': combo['product_subcategory'],\n",
        "                    'priority': combo['priority'],\n",
        "                    'warehouse_country': combo['warehouse_country'],\n",
        "                    'destination': combo['destination'],\n",
        "                    'week_start': week_start,\n",
        "                    'order_price_per_unit_usd': order_price,\n",
        "                    'asking_price_per_unit_usd': asking_price\n",
        "                }\n",
        "                final_rows.append(dummy_row)\n",
        "\n",
        "    final_df = pd.DataFrame(final_rows)\n",
        "    final_df['year_week'] = final_df['week_start'].dt.strftime('%Y_%W')\n",
        "    final_df = final_df.drop(columns='week_start')\n",
        "    final_df = final_df.sort_values(by=key_cols + ['year_week']).reset_index(drop=True)\n",
        "\n",
        "    return final_df"
      ],
      "metadata": {
        "id": "rCJdc41QBfSp"
      },
      "execution_count": null,
      "outputs": []
    },
    {
      "cell_type": "code",
      "source": [
        "filled_df_psi_subcat_week = subcat_week_add_dummy_rows(df_psi_subcat_week)"
      ],
      "metadata": {
        "id": "O8oxkY3lBzUL"
      },
      "execution_count": null,
      "outputs": []
    },
    {
      "cell_type": "code",
      "source": [
        "plot_temp = filled_df_psi_subcat_week[(filled_df_psi_subcat_week['product_subcategory'] == 'face_makeup') & (filled_df_psi_subcat_week['priority'] == 'p2') &\n",
        "                                (filled_df_psi_subcat_week['warehouse_country'] == 'indonesia') & (filled_df_psi_subcat_week['destination'] == 'indonesia')]\n",
        "plot_temp = plot_temp[-32:] # last 8 months plot\n",
        "fig = px.line(plot_temp, x=\"year_week\", y=\"order_price_per_unit_usd\", title='PSI Subcat Week')\n",
        "fig.show()"
      ],
      "metadata": {
        "colab": {
          "base_uri": "https://localhost:8080/",
          "height": 542
        },
        "id": "EsKPR41SB-uq",
        "outputId": "9bd5ceef-2aba-49a9-8845-3f7a109a18ba"
      },
      "execution_count": null,
      "outputs": [
        {
          "output_type": "display_data",
          "data": {
            "text/html": [
              "<html>\n",
              "<head><meta charset=\"utf-8\" /></head>\n",
              "<body>\n",
              "    <div>            <script src=\"https://cdnjs.cloudflare.com/ajax/libs/mathjax/2.7.5/MathJax.js?config=TeX-AMS-MML_SVG\"></script><script type=\"text/javascript\">if (window.MathJax && window.MathJax.Hub && window.MathJax.Hub.Config) {window.MathJax.Hub.Config({SVG: {font: \"STIX-Web\"}});}</script>                <script type=\"text/javascript\">window.PlotlyConfig = {MathJaxConfig: 'local'};</script>\n",
              "        <script charset=\"utf-8\" src=\"https://cdn.plot.ly/plotly-2.35.2.min.js\"></script>                <div id=\"7094e453-2257-4672-8ba9-de00e7cea16a\" class=\"plotly-graph-div\" style=\"height:525px; width:100%;\"></div>            <script type=\"text/javascript\">                                    window.PLOTLYENV=window.PLOTLYENV || {};                                    if (document.getElementById(\"7094e453-2257-4672-8ba9-de00e7cea16a\")) {                    Plotly.newPlot(                        \"7094e453-2257-4672-8ba9-de00e7cea16a\",                        [{\"hovertemplate\":\"year_week=%{x}\\u003cbr\\u003eorder_price_per_unit_usd=%{y}\\u003cextra\\u003e\\u003c\\u002fextra\\u003e\",\"legendgroup\":\"\",\"line\":{\"color\":\"#636efa\",\"dash\":\"solid\"},\"marker\":{\"symbol\":\"circle\"},\"mode\":\"lines\",\"name\":\"\",\"orientation\":\"v\",\"showlegend\":false,\"x\":[\"2024_35\",\"2024_36\",\"2024_37\",\"2024_38\",\"2024_39\",\"2024_40\",\"2024_41\",\"2024_42\",\"2024_43\",\"2024_44\",\"2024_45\",\"2024_46\",\"2024_47\",\"2024_48\",\"2024_49\",\"2024_50\",\"2024_51\",\"2024_52\",\"2024_53\",\"2025_01\",\"2025_02\",\"2025_03\",\"2025_04\",\"2025_05\",\"2025_06\",\"2025_07\",\"2025_08\",\"2025_09\",\"2025_10\",\"2025_11\",\"2025_12\",\"2025_13\"],\"xaxis\":\"x\",\"y\":[1.4640916756685174,1.4050098020197916,1.6667529674415769,1.186856657490721,1.9329769854864773,1.814285670014408,2.5326373062161824,2.3009937636346014,2.280293546823399,1.9173931858901292,2.4387416244403726,1.8420621936566697,2.150284967132051,2.072094739841763,1.921083689949972,2.490948366060362,2.0396899534677457,2.487610859744291,2.228370842457429,2.023841560158828,2.328824916724135,2.3251828200473073,2.0693370511697293,2.152925118066756,2.5009558791526176,1.8408246623873805,1.6299798391048856,1.6130244478923046,1.6158867456690673,1.5892998568293617,1.526871099836321,1.6525574446181068],\"yaxis\":\"y\",\"type\":\"scatter\"}],                        {\"template\":{\"data\":{\"histogram2dcontour\":[{\"type\":\"histogram2dcontour\",\"colorbar\":{\"outlinewidth\":0,\"ticks\":\"\"},\"colorscale\":[[0.0,\"#0d0887\"],[0.1111111111111111,\"#46039f\"],[0.2222222222222222,\"#7201a8\"],[0.3333333333333333,\"#9c179e\"],[0.4444444444444444,\"#bd3786\"],[0.5555555555555556,\"#d8576b\"],[0.6666666666666666,\"#ed7953\"],[0.7777777777777778,\"#fb9f3a\"],[0.8888888888888888,\"#fdca26\"],[1.0,\"#f0f921\"]]}],\"choropleth\":[{\"type\":\"choropleth\",\"colorbar\":{\"outlinewidth\":0,\"ticks\":\"\"}}],\"histogram2d\":[{\"type\":\"histogram2d\",\"colorbar\":{\"outlinewidth\":0,\"ticks\":\"\"},\"colorscale\":[[0.0,\"#0d0887\"],[0.1111111111111111,\"#46039f\"],[0.2222222222222222,\"#7201a8\"],[0.3333333333333333,\"#9c179e\"],[0.4444444444444444,\"#bd3786\"],[0.5555555555555556,\"#d8576b\"],[0.6666666666666666,\"#ed7953\"],[0.7777777777777778,\"#fb9f3a\"],[0.8888888888888888,\"#fdca26\"],[1.0,\"#f0f921\"]]}],\"heatmap\":[{\"type\":\"heatmap\",\"colorbar\":{\"outlinewidth\":0,\"ticks\":\"\"},\"colorscale\":[[0.0,\"#0d0887\"],[0.1111111111111111,\"#46039f\"],[0.2222222222222222,\"#7201a8\"],[0.3333333333333333,\"#9c179e\"],[0.4444444444444444,\"#bd3786\"],[0.5555555555555556,\"#d8576b\"],[0.6666666666666666,\"#ed7953\"],[0.7777777777777778,\"#fb9f3a\"],[0.8888888888888888,\"#fdca26\"],[1.0,\"#f0f921\"]]}],\"heatmapgl\":[{\"type\":\"heatmapgl\",\"colorbar\":{\"outlinewidth\":0,\"ticks\":\"\"},\"colorscale\":[[0.0,\"#0d0887\"],[0.1111111111111111,\"#46039f\"],[0.2222222222222222,\"#7201a8\"],[0.3333333333333333,\"#9c179e\"],[0.4444444444444444,\"#bd3786\"],[0.5555555555555556,\"#d8576b\"],[0.6666666666666666,\"#ed7953\"],[0.7777777777777778,\"#fb9f3a\"],[0.8888888888888888,\"#fdca26\"],[1.0,\"#f0f921\"]]}],\"contourcarpet\":[{\"type\":\"contourcarpet\",\"colorbar\":{\"outlinewidth\":0,\"ticks\":\"\"}}],\"contour\":[{\"type\":\"contour\",\"colorbar\":{\"outlinewidth\":0,\"ticks\":\"\"},\"colorscale\":[[0.0,\"#0d0887\"],[0.1111111111111111,\"#46039f\"],[0.2222222222222222,\"#7201a8\"],[0.3333333333333333,\"#9c179e\"],[0.4444444444444444,\"#bd3786\"],[0.5555555555555556,\"#d8576b\"],[0.6666666666666666,\"#ed7953\"],[0.7777777777777778,\"#fb9f3a\"],[0.8888888888888888,\"#fdca26\"],[1.0,\"#f0f921\"]]}],\"surface\":[{\"type\":\"surface\",\"colorbar\":{\"outlinewidth\":0,\"ticks\":\"\"},\"colorscale\":[[0.0,\"#0d0887\"],[0.1111111111111111,\"#46039f\"],[0.2222222222222222,\"#7201a8\"],[0.3333333333333333,\"#9c179e\"],[0.4444444444444444,\"#bd3786\"],[0.5555555555555556,\"#d8576b\"],[0.6666666666666666,\"#ed7953\"],[0.7777777777777778,\"#fb9f3a\"],[0.8888888888888888,\"#fdca26\"],[1.0,\"#f0f921\"]]}],\"mesh3d\":[{\"type\":\"mesh3d\",\"colorbar\":{\"outlinewidth\":0,\"ticks\":\"\"}}],\"scatter\":[{\"fillpattern\":{\"fillmode\":\"overlay\",\"size\":10,\"solidity\":0.2},\"type\":\"scatter\"}],\"parcoords\":[{\"type\":\"parcoords\",\"line\":{\"colorbar\":{\"outlinewidth\":0,\"ticks\":\"\"}}}],\"scatterpolargl\":[{\"type\":\"scatterpolargl\",\"marker\":{\"colorbar\":{\"outlinewidth\":0,\"ticks\":\"\"}}}],\"bar\":[{\"error_x\":{\"color\":\"#2a3f5f\"},\"error_y\":{\"color\":\"#2a3f5f\"},\"marker\":{\"line\":{\"color\":\"#E5ECF6\",\"width\":0.5},\"pattern\":{\"fillmode\":\"overlay\",\"size\":10,\"solidity\":0.2}},\"type\":\"bar\"}],\"scattergeo\":[{\"type\":\"scattergeo\",\"marker\":{\"colorbar\":{\"outlinewidth\":0,\"ticks\":\"\"}}}],\"scatterpolar\":[{\"type\":\"scatterpolar\",\"marker\":{\"colorbar\":{\"outlinewidth\":0,\"ticks\":\"\"}}}],\"histogram\":[{\"marker\":{\"pattern\":{\"fillmode\":\"overlay\",\"size\":10,\"solidity\":0.2}},\"type\":\"histogram\"}],\"scattergl\":[{\"type\":\"scattergl\",\"marker\":{\"colorbar\":{\"outlinewidth\":0,\"ticks\":\"\"}}}],\"scatter3d\":[{\"type\":\"scatter3d\",\"line\":{\"colorbar\":{\"outlinewidth\":0,\"ticks\":\"\"}},\"marker\":{\"colorbar\":{\"outlinewidth\":0,\"ticks\":\"\"}}}],\"scattermapbox\":[{\"type\":\"scattermapbox\",\"marker\":{\"colorbar\":{\"outlinewidth\":0,\"ticks\":\"\"}}}],\"scatterternary\":[{\"type\":\"scatterternary\",\"marker\":{\"colorbar\":{\"outlinewidth\":0,\"ticks\":\"\"}}}],\"scattercarpet\":[{\"type\":\"scattercarpet\",\"marker\":{\"colorbar\":{\"outlinewidth\":0,\"ticks\":\"\"}}}],\"carpet\":[{\"aaxis\":{\"endlinecolor\":\"#2a3f5f\",\"gridcolor\":\"white\",\"linecolor\":\"white\",\"minorgridcolor\":\"white\",\"startlinecolor\":\"#2a3f5f\"},\"baxis\":{\"endlinecolor\":\"#2a3f5f\",\"gridcolor\":\"white\",\"linecolor\":\"white\",\"minorgridcolor\":\"white\",\"startlinecolor\":\"#2a3f5f\"},\"type\":\"carpet\"}],\"table\":[{\"cells\":{\"fill\":{\"color\":\"#EBF0F8\"},\"line\":{\"color\":\"white\"}},\"header\":{\"fill\":{\"color\":\"#C8D4E3\"},\"line\":{\"color\":\"white\"}},\"type\":\"table\"}],\"barpolar\":[{\"marker\":{\"line\":{\"color\":\"#E5ECF6\",\"width\":0.5},\"pattern\":{\"fillmode\":\"overlay\",\"size\":10,\"solidity\":0.2}},\"type\":\"barpolar\"}],\"pie\":[{\"automargin\":true,\"type\":\"pie\"}]},\"layout\":{\"autotypenumbers\":\"strict\",\"colorway\":[\"#636efa\",\"#EF553B\",\"#00cc96\",\"#ab63fa\",\"#FFA15A\",\"#19d3f3\",\"#FF6692\",\"#B6E880\",\"#FF97FF\",\"#FECB52\"],\"font\":{\"color\":\"#2a3f5f\"},\"hovermode\":\"closest\",\"hoverlabel\":{\"align\":\"left\"},\"paper_bgcolor\":\"white\",\"plot_bgcolor\":\"#E5ECF6\",\"polar\":{\"bgcolor\":\"#E5ECF6\",\"angularaxis\":{\"gridcolor\":\"white\",\"linecolor\":\"white\",\"ticks\":\"\"},\"radialaxis\":{\"gridcolor\":\"white\",\"linecolor\":\"white\",\"ticks\":\"\"}},\"ternary\":{\"bgcolor\":\"#E5ECF6\",\"aaxis\":{\"gridcolor\":\"white\",\"linecolor\":\"white\",\"ticks\":\"\"},\"baxis\":{\"gridcolor\":\"white\",\"linecolor\":\"white\",\"ticks\":\"\"},\"caxis\":{\"gridcolor\":\"white\",\"linecolor\":\"white\",\"ticks\":\"\"}},\"coloraxis\":{\"colorbar\":{\"outlinewidth\":0,\"ticks\":\"\"}},\"colorscale\":{\"sequential\":[[0.0,\"#0d0887\"],[0.1111111111111111,\"#46039f\"],[0.2222222222222222,\"#7201a8\"],[0.3333333333333333,\"#9c179e\"],[0.4444444444444444,\"#bd3786\"],[0.5555555555555556,\"#d8576b\"],[0.6666666666666666,\"#ed7953\"],[0.7777777777777778,\"#fb9f3a\"],[0.8888888888888888,\"#fdca26\"],[1.0,\"#f0f921\"]],\"sequentialminus\":[[0.0,\"#0d0887\"],[0.1111111111111111,\"#46039f\"],[0.2222222222222222,\"#7201a8\"],[0.3333333333333333,\"#9c179e\"],[0.4444444444444444,\"#bd3786\"],[0.5555555555555556,\"#d8576b\"],[0.6666666666666666,\"#ed7953\"],[0.7777777777777778,\"#fb9f3a\"],[0.8888888888888888,\"#fdca26\"],[1.0,\"#f0f921\"]],\"diverging\":[[0,\"#8e0152\"],[0.1,\"#c51b7d\"],[0.2,\"#de77ae\"],[0.3,\"#f1b6da\"],[0.4,\"#fde0ef\"],[0.5,\"#f7f7f7\"],[0.6,\"#e6f5d0\"],[0.7,\"#b8e186\"],[0.8,\"#7fbc41\"],[0.9,\"#4d9221\"],[1,\"#276419\"]]},\"xaxis\":{\"gridcolor\":\"white\",\"linecolor\":\"white\",\"ticks\":\"\",\"title\":{\"standoff\":15},\"zerolinecolor\":\"white\",\"automargin\":true,\"zerolinewidth\":2},\"yaxis\":{\"gridcolor\":\"white\",\"linecolor\":\"white\",\"ticks\":\"\",\"title\":{\"standoff\":15},\"zerolinecolor\":\"white\",\"automargin\":true,\"zerolinewidth\":2},\"scene\":{\"xaxis\":{\"backgroundcolor\":\"#E5ECF6\",\"gridcolor\":\"white\",\"linecolor\":\"white\",\"showbackground\":true,\"ticks\":\"\",\"zerolinecolor\":\"white\",\"gridwidth\":2},\"yaxis\":{\"backgroundcolor\":\"#E5ECF6\",\"gridcolor\":\"white\",\"linecolor\":\"white\",\"showbackground\":true,\"ticks\":\"\",\"zerolinecolor\":\"white\",\"gridwidth\":2},\"zaxis\":{\"backgroundcolor\":\"#E5ECF6\",\"gridcolor\":\"white\",\"linecolor\":\"white\",\"showbackground\":true,\"ticks\":\"\",\"zerolinecolor\":\"white\",\"gridwidth\":2}},\"shapedefaults\":{\"line\":{\"color\":\"#2a3f5f\"}},\"annotationdefaults\":{\"arrowcolor\":\"#2a3f5f\",\"arrowhead\":0,\"arrowwidth\":1},\"geo\":{\"bgcolor\":\"white\",\"landcolor\":\"#E5ECF6\",\"subunitcolor\":\"white\",\"showland\":true,\"showlakes\":true,\"lakecolor\":\"white\"},\"title\":{\"x\":0.05},\"mapbox\":{\"style\":\"light\"}}},\"xaxis\":{\"anchor\":\"y\",\"domain\":[0.0,1.0],\"title\":{\"text\":\"year_week\"}},\"yaxis\":{\"anchor\":\"x\",\"domain\":[0.0,1.0],\"title\":{\"text\":\"order_price_per_unit_usd\"}},\"legend\":{\"tracegroupgap\":0},\"title\":{\"text\":\"PSI Subcat Week\"}},                        {\"responsive\": true}                    ).then(function(){\n",
              "                            \n",
              "var gd = document.getElementById('7094e453-2257-4672-8ba9-de00e7cea16a');\n",
              "var x = new MutationObserver(function (mutations, observer) {{\n",
              "        var display = window.getComputedStyle(gd).display;\n",
              "        if (!display || display === 'none') {{\n",
              "            console.log([gd, 'removed!']);\n",
              "            Plotly.purge(gd);\n",
              "            observer.disconnect();\n",
              "        }}\n",
              "}});\n",
              "\n",
              "// Listen for the removal of the full notebook cells\n",
              "var notebookContainer = gd.closest('#notebook-container');\n",
              "if (notebookContainer) {{\n",
              "    x.observe(notebookContainer, {childList: true});\n",
              "}}\n",
              "\n",
              "// Listen for the clearing of the current output cell\n",
              "var outputEl = gd.closest('.output');\n",
              "if (outputEl) {{\n",
              "    x.observe(outputEl, {childList: true});\n",
              "}}\n",
              "\n",
              "                        })                };                            </script>        </div>\n",
              "</body>\n",
              "</html>"
            ]
          },
          "metadata": {}
        }
      ]
    },
    {
      "cell_type": "code",
      "source": [
        "price_psi_subcat_week_country_maps = filled_df_psi_subcat_week.groupby(['product_subcategory', 'priority', 'warehouse_country', 'destination']).agg({'order_price_per_unit_usd' : 'nunique'})\\\n",
        ".reset_index().rename(columns = {'order_price_per_unit_usd' : 'unique_prices'})\n",
        "print(len(price_psi_subcat_week_country_maps))\n",
        "price_psi_subcat_week_country_maps = price_psi_subcat_week_country_maps[price_psi_subcat_week_country_maps.unique_prices >= 32] # 8 months\n",
        "\n",
        "price_psi_subcat_week_country_maps = price_psi_subcat_week_country_maps.drop('unique_prices', axis = 1)\n",
        "print(len(price_psi_subcat_week_country_maps))"
      ],
      "metadata": {
        "colab": {
          "base_uri": "https://localhost:8080/"
        },
        "id": "dSdqb2WCspaK",
        "outputId": "ef2bf5a9-4866-449b-9ca0-da4b82851784"
      },
      "execution_count": null,
      "outputs": [
        {
          "output_type": "stream",
          "name": "stdout",
          "text": [
            "1392\n",
            "1097\n"
          ]
        }
      ]
    },
    {
      "cell_type": "code",
      "source": [],
      "metadata": {
        "id": "iidIXQSaB-pk"
      },
      "execution_count": null,
      "outputs": []
    },
    {
      "cell_type": "code",
      "execution_count": null,
      "metadata": {
        "id": "8OsZ01pti2TZ"
      },
      "outputs": [],
      "source": [
        "# def dump_files_for_inference_pipeline():\n",
        "#   print('Dumping files for inference later ...')\n",
        "#   joblib.dump(filled_df_psi_cat_month, '/content/drive/MyDrive/PSI_Modeling_Data/PSI/price/filled_df_psi_cat_month.pkl')\n",
        "#   joblib.dump(filled_df_psi_cat_week, '/content/drive/MyDrive/PSI_Modeling_Data/PSI/price/filled_df_psi_cat_week.pkl')\n",
        "#   joblib.dump(filled_df_psi_subcat_month, '/content/drive/MyDrive/PSI_Modeling_Data/PSI/price/filled_df_psi_subcat_month.pkl')\n",
        "#   joblib.dump(filled_df_psi_subcat_week, '/content/drive/MyDrive/PSI_Modeling_Data/PSI/price/filled_df_psi_subcat_week.pkl')\n",
        "#   joblib.dump(price_psi_cat_month_country_maps, '/content/drive/MyDrive/PSI_Modeling_Data/PSI/price/price_psi_cat_month_country_maps.pkl')\n",
        "#   joblib.dump(price_psi_cat_week_country_maps, '/content/drive/MyDrive/PSI_Modeling_Data/PSI/price/price_psi_cat_week_country_maps.pkl')\n",
        "#   joblib.dump(price_psi_subcat_month_country_maps, '/content/drive/MyDrive/PSI_Modeling_Data/PSI/price/price_psi_subcat_month_country_maps.pkl')\n",
        "#   joblib.dump(price_psi_subcat_week_country_maps, '/content/drive/MyDrive/PSI_Modeling_Data/PSI/price/price_psi_subcat_week_country_maps.pkl')"
      ]
    },
    {
      "cell_type": "code",
      "execution_count": null,
      "metadata": {
        "id": "edb4iyyXi2Ql"
      },
      "outputs": [],
      "source": [
        "# dump_files_for_inference_pipeline()"
      ]
    },
    {
      "cell_type": "code",
      "execution_count": null,
      "metadata": {
        "id": "EUmQ1lGVjJFt"
      },
      "outputs": [],
      "source": []
    }
  ],
  "metadata": {
    "colab": {
      "provenance": []
    },
    "kernelspec": {
      "display_name": "Python 3",
      "name": "python3"
    },
    "language_info": {
      "name": "python"
    }
  },
  "nbformat": 4,
  "nbformat_minor": 0
}