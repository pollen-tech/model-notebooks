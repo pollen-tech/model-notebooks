{
  "cells": [
    {
      "cell_type": "code",
      "execution_count": null,
      "metadata": {
        "colab": {
          "base_uri": "https://localhost:8080/"
        },
        "id": "Zg3MFecHIfeb",
        "outputId": "07a68143-6392-4b93-e03a-d97422aef172"
      },
      "outputs": [
        {
          "output_type": "stream",
          "name": "stdout",
          "text": [
            "Collecting catboost\n",
            "  Downloading catboost-1.2.8-cp311-cp311-manylinux2014_x86_64.whl.metadata (1.2 kB)\n",
            "Requirement already satisfied: graphviz in /usr/local/lib/python3.11/dist-packages (from catboost) (0.20.3)\n",
            "Requirement already satisfied: matplotlib in /usr/local/lib/python3.11/dist-packages (from catboost) (3.10.0)\n",
            "Requirement already satisfied: numpy<3.0,>=1.16.0 in /usr/local/lib/python3.11/dist-packages (from catboost) (2.0.2)\n",
            "Requirement already satisfied: pandas>=0.24 in /usr/local/lib/python3.11/dist-packages (from catboost) (2.2.2)\n",
            "Requirement already satisfied: scipy in /usr/local/lib/python3.11/dist-packages (from catboost) (1.15.2)\n",
            "Requirement already satisfied: plotly in /usr/local/lib/python3.11/dist-packages (from catboost) (5.24.1)\n",
            "Requirement already satisfied: six in /usr/local/lib/python3.11/dist-packages (from catboost) (1.17.0)\n",
            "Requirement already satisfied: python-dateutil>=2.8.2 in /usr/local/lib/python3.11/dist-packages (from pandas>=0.24->catboost) (2.9.0.post0)\n",
            "Requirement already satisfied: pytz>=2020.1 in /usr/local/lib/python3.11/dist-packages (from pandas>=0.24->catboost) (2025.2)\n",
            "Requirement already satisfied: tzdata>=2022.7 in /usr/local/lib/python3.11/dist-packages (from pandas>=0.24->catboost) (2025.2)\n",
            "Requirement already satisfied: contourpy>=1.0.1 in /usr/local/lib/python3.11/dist-packages (from matplotlib->catboost) (1.3.2)\n",
            "Requirement already satisfied: cycler>=0.10 in /usr/local/lib/python3.11/dist-packages (from matplotlib->catboost) (0.12.1)\n",
            "Requirement already satisfied: fonttools>=4.22.0 in /usr/local/lib/python3.11/dist-packages (from matplotlib->catboost) (4.57.0)\n",
            "Requirement already satisfied: kiwisolver>=1.3.1 in /usr/local/lib/python3.11/dist-packages (from matplotlib->catboost) (1.4.8)\n",
            "Requirement already satisfied: packaging>=20.0 in /usr/local/lib/python3.11/dist-packages (from matplotlib->catboost) (24.2)\n",
            "Requirement already satisfied: pillow>=8 in /usr/local/lib/python3.11/dist-packages (from matplotlib->catboost) (11.2.1)\n",
            "Requirement already satisfied: pyparsing>=2.3.1 in /usr/local/lib/python3.11/dist-packages (from matplotlib->catboost) (3.2.3)\n",
            "Requirement already satisfied: tenacity>=6.2.0 in /usr/local/lib/python3.11/dist-packages (from plotly->catboost) (9.1.2)\n",
            "Downloading catboost-1.2.8-cp311-cp311-manylinux2014_x86_64.whl (99.2 MB)\n",
            "\u001b[2K   \u001b[90m━━━━━━━━━━━━━━━━━━━━━━━━━━━━━━━━━━━━━━━━\u001b[0m \u001b[32m99.2/99.2 MB\u001b[0m \u001b[31m5.3 MB/s\u001b[0m eta \u001b[36m0:00:00\u001b[0m\n",
            "\u001b[?25hInstalling collected packages: catboost\n",
            "Successfully installed catboost-1.2.8\n"
          ]
        }
      ],
      "source": [
        "!pip install catboost"
      ]
    },
    {
      "cell_type": "code",
      "execution_count": null,
      "metadata": {
        "colab": {
          "base_uri": "https://localhost:8080/"
        },
        "id": "050wlxJp2ZaL",
        "outputId": "fc24285e-7e06-4a90-e36e-9fb9c2cb41ca"
      },
      "outputs": [
        {
          "output_type": "stream",
          "name": "stdout",
          "text": [
            "Collecting feature_engine\n",
            "  Downloading feature_engine-1.8.3-py2.py3-none-any.whl.metadata (9.9 kB)\n",
            "Requirement already satisfied: numpy>=1.18.2 in /usr/local/lib/python3.11/dist-packages (from feature_engine) (2.0.2)\n",
            "Requirement already satisfied: pandas>=2.2.0 in /usr/local/lib/python3.11/dist-packages (from feature_engine) (2.2.2)\n",
            "Requirement already satisfied: scikit-learn>=1.4.0 in /usr/local/lib/python3.11/dist-packages (from feature_engine) (1.6.1)\n",
            "Requirement already satisfied: scipy>=1.4.1 in /usr/local/lib/python3.11/dist-packages (from feature_engine) (1.15.2)\n",
            "Requirement already satisfied: statsmodels>=0.11.1 in /usr/local/lib/python3.11/dist-packages (from feature_engine) (0.14.4)\n",
            "Requirement already satisfied: python-dateutil>=2.8.2 in /usr/local/lib/python3.11/dist-packages (from pandas>=2.2.0->feature_engine) (2.9.0.post0)\n",
            "Requirement already satisfied: pytz>=2020.1 in /usr/local/lib/python3.11/dist-packages (from pandas>=2.2.0->feature_engine) (2025.2)\n",
            "Requirement already satisfied: tzdata>=2022.7 in /usr/local/lib/python3.11/dist-packages (from pandas>=2.2.0->feature_engine) (2025.2)\n",
            "Requirement already satisfied: joblib>=1.2.0 in /usr/local/lib/python3.11/dist-packages (from scikit-learn>=1.4.0->feature_engine) (1.4.2)\n",
            "Requirement already satisfied: threadpoolctl>=3.1.0 in /usr/local/lib/python3.11/dist-packages (from scikit-learn>=1.4.0->feature_engine) (3.6.0)\n",
            "Requirement already satisfied: patsy>=0.5.6 in /usr/local/lib/python3.11/dist-packages (from statsmodels>=0.11.1->feature_engine) (1.0.1)\n",
            "Requirement already satisfied: packaging>=21.3 in /usr/local/lib/python3.11/dist-packages (from statsmodels>=0.11.1->feature_engine) (24.2)\n",
            "Requirement already satisfied: six>=1.5 in /usr/local/lib/python3.11/dist-packages (from python-dateutil>=2.8.2->pandas>=2.2.0->feature_engine) (1.17.0)\n",
            "Downloading feature_engine-1.8.3-py2.py3-none-any.whl (378 kB)\n",
            "\u001b[2K   \u001b[90m━━━━━━━━━━━━━━━━━━━━━━━━━━━━━━━━━━━━━━━━\u001b[0m \u001b[32m378.6/378.6 kB\u001b[0m \u001b[31m5.7 MB/s\u001b[0m eta \u001b[36m0:00:00\u001b[0m\n",
            "\u001b[?25hInstalling collected packages: feature_engine\n",
            "Successfully installed feature_engine-1.8.3\n"
          ]
        }
      ],
      "source": [
        "!pip install feature_engine"
      ]
    },
    {
      "cell_type": "code",
      "execution_count": null,
      "metadata": {
        "id": "HNUJYZaAIWvV",
        "colab": {
          "base_uri": "https://localhost:8080/"
        },
        "outputId": "b87da000-24ec-47a4-a598-242f371610bd"
      },
      "outputs": [
        {
          "output_type": "stream",
          "name": "stdout",
          "text": [
            "Mounted at /content/drive\n"
          ]
        }
      ],
      "source": [
        "import pandas as pd\n",
        "import numpy as np\n",
        "import warnings\n",
        "import joblib\n",
        "import plotly.express as px\n",
        "from google.colab import drive\n",
        "from datetime import date, timedelta\n",
        "import matplotlib.pyplot as plt\n",
        "from catboost import CatBoostClassifier, CatBoostRegressor\n",
        "from sklearn.model_selection import train_test_split\n",
        "# from plot_metric.functions import BinaryClassification\n",
        "from datetime import datetime\n",
        "import random\n",
        "from sklearn.preprocessing import StandardScaler, LabelEncoder\n",
        "from sklearn.cluster import DBSCAN, MeanShift\n",
        "from sklearn.experimental import enable_iterative_imputer\n",
        "from sklearn.impute import IterativeImputer\n",
        "from sklearn.metrics import silhouette_score, davies_bouldin_score\n",
        "\n",
        "warnings.filterwarnings('ignore')\n",
        "pd.options.display.max_columns = 500\n",
        "\n",
        "from google.colab import auth\n",
        "import gspread\n",
        "from google.auth import default\n",
        "\n",
        "auth.authenticate_user()\n",
        "creds, _ = default()\n",
        "gc = gspread.authorize(creds)\n",
        "drive.mount('/content/drive',  force_remount=True)"
      ]
    },
    {
      "cell_type": "code",
      "execution_count": null,
      "metadata": {
        "id": "xuGIyhxsPjh1"
      },
      "outputs": [],
      "source": [
        "import json\n",
        "data = {\n",
        "  \"account\": \"\",\n",
        "  \"client_id\": \"764086051850-6qr4p6gpi6hn506pt8ejuq83di341hur.apps.googleusercontent.com\",\n",
        "  \"client_secret\": \"d-FL95Q19q7MQmFpd7hHD0Ty\",\n",
        "  \"quota_project_id\": \"dev-sd-lake\",\n",
        "  \"refresh_token\": \"1//05nz9IRnR1e2JCgYIARAAGAUSNwF-L9Ir_zi7EkfNFJb02e5XxL3e4Qicf7BN708CjMo66DuPPMhkd09jS6lIra-zubUPFGORcyU\",\n",
        "  \"type\": \"authorized_user\",\n",
        "  \"universe_domain\": \"googleapis.com\"\n",
        "}\n",
        "json_data = json.dumps(data)\n",
        "!echo '{json_data}' > '/content/.config/application_default_credentials.json'"
      ]
    },
    {
      "cell_type": "code",
      "execution_count": null,
      "metadata": {
        "id": "udoUEYdZTqPC"
      },
      "outputs": [],
      "source": [
        "from google.cloud import bigquery\n",
        "\n",
        "client = bigquery.Client(project='dev-sd-lake')\n",
        "\n",
        "category_total_shelf_life_query = \"\"\"\n",
        "SELECT * FROM pollen.category_total_shelf_life;\n",
        "\"\"\"\n",
        "\n",
        "category_total_shelf_life = client.query_and_wait(category_total_shelf_life_query).to_dataframe()\n",
        "category_total_shelf_life = category_total_shelf_life.rename(columns=category_total_shelf_life.iloc[0]).iloc[1:].reset_index(drop = True)"
      ]
    },
    {
      "cell_type": "code",
      "execution_count": null,
      "metadata": {
        "id": "fbpwwJYiPneK"
      },
      "outputs": [],
      "source": [
        "from google.cloud import bigquery\n",
        "\n",
        "client = bigquery.Client(project='dev-sd-lake')\n",
        "\n",
        "product_listings_query = \"\"\"\n",
        "SELECT * FROM pollen.product_listings;\n",
        "\"\"\"\n",
        "\n",
        "product_listings = client.query_and_wait(product_listings_query).to_dataframe()\n",
        "\n",
        "\n",
        "client = bigquery.Client(project='dev-sd-lake')\n",
        "\n",
        "products_query = \"\"\"\n",
        "SELECT * FROM pollen.products;\n",
        "\"\"\"\n",
        "\n",
        "products = client.query_and_wait(products_query).to_dataframe()\n",
        "\n",
        "\n",
        "client = bigquery.Client(project='dev-sd-lake')\n",
        "\n",
        "product_categories_query = \"\"\"\n",
        "SELECT * FROM pollen.product_categories;\n",
        "\"\"\"\n",
        "\n",
        "product_categories = client.query_and_wait(product_categories_query).to_dataframe()\n",
        "\n",
        "\n",
        "client = bigquery.Client(project='dev-sd-lake')\n",
        "\n",
        "product_subcategories_query = \"\"\"\n",
        "SELECT * FROM pollen.product_subcategories;\n",
        "\"\"\"\n",
        "\n",
        "product_subcategories = client.query_and_wait(product_subcategories_query).to_dataframe()\n",
        "\n",
        "client = bigquery.Client(project='dev-sd-lake')\n",
        "\n",
        "sellers_query = \"\"\"\n",
        "SELECT * FROM pollen.sellers;\n",
        "\"\"\"\n",
        "\n",
        "sellers = client.query_and_wait(sellers_query).to_dataframe()"
      ]
    },
    {
      "cell_type": "code",
      "execution_count": null,
      "metadata": {
        "id": "8bLBsH5GDuDC"
      },
      "outputs": [],
      "source": [
        "offers_query = \"\"\"\n",
        "SELECT * FROM pollen.offers;\n",
        "\"\"\"\n",
        "\n",
        "offers = client.query_and_wait(offers_query).to_dataframe()"
      ]
    },
    {
      "cell_type": "code",
      "execution_count": null,
      "metadata": {
        "id": "9rcmleQ_DvrJ"
      },
      "outputs": [],
      "source": [
        "orders_level_1_query = \"\"\"\n",
        "SELECT * FROM pollen.orders_level_1;\n",
        "\"\"\"\n",
        "\n",
        "orders_level_1 = client.query_and_wait(orders_level_1_query).to_dataframe()"
      ]
    },
    {
      "cell_type": "code",
      "execution_count": null,
      "metadata": {
        "id": "oivfUCKDDxnD"
      },
      "outputs": [],
      "source": [
        "orders_level_2_query = \"\"\"\n",
        "SELECT * FROM pollen.orders_level_2;\n",
        "\"\"\"\n",
        "\n",
        "orders_level_2 = client.query_and_wait(orders_level_2_query).to_dataframe()"
      ]
    },
    {
      "cell_type": "code",
      "execution_count": null,
      "metadata": {
        "id": "8ed1Mx0XSmuU"
      },
      "outputs": [],
      "source": [
        "sellers = sellers[['seller_name', 'persona_seller_type']].drop_duplicates()"
      ]
    },
    {
      "cell_type": "code",
      "execution_count": null,
      "metadata": {
        "id": "kRZgEJu6l6wP",
        "colab": {
          "base_uri": "https://localhost:8080/"
        },
        "outputId": "868e49ca-0f44-45e5-8387-06c0d903b86c"
      },
      "outputs": [
        {
          "output_type": "stream",
          "name": "stdout",
          "text": [
            "(182283, 41) (182291, 9) (30, 3) (223, 4) (109, 2)\n"
          ]
        }
      ],
      "source": [
        "print(product_listings.shape, products.shape, product_categories.shape, product_subcategories.shape, sellers.shape)"
      ]
    },
    {
      "cell_type": "code",
      "execution_count": null,
      "metadata": {
        "id": "TENISfYMy1K3"
      },
      "outputs": [],
      "source": [
        "def get_order_date(df_order_sheet1, df_order_sheet2):\n",
        "  order_date_to_tracking_no_mapping = df_order_sheet1[['tracking_no', 'order_date']].drop_duplicates()\n",
        "  df_order_sheet2 = pd.merge(df_order_sheet2, order_date_to_tracking_no_mapping, 'left',  on = ['tracking_no'])\n",
        "  df_order_sheet2.drop('date_of_order', axis = 1, inplace = True)\n",
        "  df_order = df_order_sheet2.copy()\n",
        "  return df_order\n",
        "\n",
        "orders = get_order_date(orders_level_1, orders_level_2)"
      ]
    },
    {
      "cell_type": "code",
      "execution_count": null,
      "metadata": {
        "id": "vEJS7CieEB2-"
      },
      "outputs": [],
      "source": [
        "orders = orders.drop_duplicates(subset = ['sku_number', 'expiry_date', 'tracking_no'])\n",
        "offers = offers.drop_duplicates(subset = ['sku_number', 'expiry_date', 'tracking_no'])\n",
        "offers = offers.rename(columns = {'total_units' : 'total_units_offered'})\n",
        "orders = orders.rename(columns = {'total_units' : 'total_units_ordered', 'total_offer_price_usd' : 'total_order_price_usd'})\n",
        "\n",
        "offers = pd.merge(offers, orders[['sku_number', 'expiry_date', 'tracking_no', 'total_units_ordered', 'recovery_rate_percentage', 'total_order_price_usd']], 'left', on = ['sku_number', 'expiry_date', 'tracking_no'])"
      ]
    },
    {
      "cell_type": "code",
      "execution_count": null,
      "metadata": {
        "id": "fBVd-jaEW77I"
      },
      "outputs": [],
      "source": [
        "product_subcategories = product_subcategories.rename(columns = {'id' : 'subcategory_id', 'name' : 'product_subcategory'})\n",
        "product_categories = product_categories.rename(columns = {'id' : 'category_id', 'name' : 'product_category'})\n",
        "\n",
        "products = pd.merge(products, product_categories, 'left', on = 'category_id')\n",
        "products = pd.merge(products, product_subcategories[['subcategory_id', 'product_subcategory']], 'left', on = 'subcategory_id')"
      ]
    },
    {
      "cell_type": "code",
      "execution_count": null,
      "metadata": {
        "id": "bjiUXxW8xchN"
      },
      "outputs": [],
      "source": [
        "products = products.rename(columns = {'id' : 'product_id'})\n",
        "products = products.drop(['parent_product_id', 'created_at', 'updated_at', 'category_id', 'subcategory_id'], axis = 1)\n",
        "\n",
        "product_listings = product_listings.drop(['created_at', 'updated_at', 'pollen_updated_price_per_unit_local',\n",
        "                       'barcode', 'barcode_key', 'manufactured_date', 'batch_number', 'image_links', 'usd_conversion', 'scoring'], axis = 1)\n",
        "product_listings = pd.merge(product_listings, products, 'left', on = 'product_id')"
      ]
    },
    {
      "cell_type": "code",
      "execution_count": null,
      "metadata": {
        "id": "xG4VEdOGGVz-",
        "colab": {
          "base_uri": "https://localhost:8080/",
          "height": 236
        },
        "outputId": "05d32fa0-7111-4c14-b0a0-ef82fdd25502"
      },
      "outputs": [
        {
          "output_type": "execute_result",
          "data": {
            "text/plain": [
              "                                     id                            product_id  \\\n",
              "0  2d61c777-e0d5-4744-b9eb-dd24f74ee061  44642cbd-8752-4f55-a368-669f22e9e8f8   \n",
              "1  41508680-7c85-47aa-a54c-2bcbbddb56e9  6ca31813-8cac-4459-a53e-d68b62bf337d   \n",
              "\n",
              "         seller_id                record_id        seller_name expiry_date  \\\n",
              "0  SE1712631761502  SE1712631761502G4311200  L'Oreal Indonesia  2025-01-01   \n",
              "1  SE1712631761502  SE1712631761502G4218000  L'Oreal Indonesia  2025-01-28   \n",
              "\n",
              "  package_type  qty_of_carton  units_per_package_type  total_number_of_items  \\\n",
              "0       Carton          64.20                    60.0                 3852.0   \n",
              "1       Carton          58.43                    60.0                 3506.0   \n",
              "\n",
              "  currency  retail_price_per_unit_local  asking_price_per_unit_local  \\\n",
              "0      IDR                      24900.0                       5991.5   \n",
              "1      IDR                      23400.0                       6552.7   \n",
              "\n",
              "   pack_size_number pack_size_unit  cbm_carton  length  breadth  height  \\\n",
              "0              31.0              g        0.01   254.0    156.0   219.0   \n",
              "1              19.7              g        0.01   185.0    150.0   197.0   \n",
              "\n",
              "  unit_dimensions  weight_per_carton_kg warehouse_address warehouse_country  \\\n",
              "0              MM                  2.24            Bekasi         Indonesia   \n",
              "1              MM                  1.42            Bekasi         Indonesia   \n",
              "\n",
              "  country_of_origin package_labeled_language  product_restriction priority  \\\n",
              "0                 -                        -                  NaN       P2   \n",
              "1                 -                        -                  NaN       P2   \n",
              "\n",
              "   retail_price_per_unit_usd  asking_price_per_unit_usd inventory_class  \\\n",
              "0                       1.53                       0.37            CORE   \n",
              "1                       1.44                       0.40            CORE   \n",
              "\n",
              "   updated_on sku_number                  sku_product_name    brand  \\\n",
              "0  2024-05-28   G4311200     GRN 2 STEP PW MASK B5 GOJI EB  GARNIER   \n",
              "1  2024-05-28   G4218000  GRN 5 MIN AMP MASK WATERMELON EB  GARNIER   \n",
              "\n",
              "  product_category description  product_subcategory  \n",
              "0        SKIN CARE   SKIN CARE  MASKS & EXFOLIATORS  \n",
              "1        SKIN CARE   SKIN CARE  MASKS & EXFOLIATORS  "
            ],
            "text/html": [
              "\n",
              "  <div id=\"df-a3e1157c-3ea3-4668-a6d9-44472aa28126\" class=\"colab-df-container\">\n",
              "    <div>\n",
              "<style scoped>\n",
              "    .dataframe tbody tr th:only-of-type {\n",
              "        vertical-align: middle;\n",
              "    }\n",
              "\n",
              "    .dataframe tbody tr th {\n",
              "        vertical-align: top;\n",
              "    }\n",
              "\n",
              "    .dataframe thead th {\n",
              "        text-align: right;\n",
              "    }\n",
              "</style>\n",
              "<table border=\"1\" class=\"dataframe\">\n",
              "  <thead>\n",
              "    <tr style=\"text-align: right;\">\n",
              "      <th></th>\n",
              "      <th>id</th>\n",
              "      <th>product_id</th>\n",
              "      <th>seller_id</th>\n",
              "      <th>record_id</th>\n",
              "      <th>seller_name</th>\n",
              "      <th>expiry_date</th>\n",
              "      <th>package_type</th>\n",
              "      <th>qty_of_carton</th>\n",
              "      <th>units_per_package_type</th>\n",
              "      <th>total_number_of_items</th>\n",
              "      <th>currency</th>\n",
              "      <th>retail_price_per_unit_local</th>\n",
              "      <th>asking_price_per_unit_local</th>\n",
              "      <th>pack_size_number</th>\n",
              "      <th>pack_size_unit</th>\n",
              "      <th>cbm_carton</th>\n",
              "      <th>length</th>\n",
              "      <th>breadth</th>\n",
              "      <th>height</th>\n",
              "      <th>unit_dimensions</th>\n",
              "      <th>weight_per_carton_kg</th>\n",
              "      <th>warehouse_address</th>\n",
              "      <th>warehouse_country</th>\n",
              "      <th>country_of_origin</th>\n",
              "      <th>package_labeled_language</th>\n",
              "      <th>product_restriction</th>\n",
              "      <th>priority</th>\n",
              "      <th>retail_price_per_unit_usd</th>\n",
              "      <th>asking_price_per_unit_usd</th>\n",
              "      <th>inventory_class</th>\n",
              "      <th>updated_on</th>\n",
              "      <th>sku_number</th>\n",
              "      <th>sku_product_name</th>\n",
              "      <th>brand</th>\n",
              "      <th>product_category</th>\n",
              "      <th>description</th>\n",
              "      <th>product_subcategory</th>\n",
              "    </tr>\n",
              "  </thead>\n",
              "  <tbody>\n",
              "    <tr>\n",
              "      <th>0</th>\n",
              "      <td>2d61c777-e0d5-4744-b9eb-dd24f74ee061</td>\n",
              "      <td>44642cbd-8752-4f55-a368-669f22e9e8f8</td>\n",
              "      <td>SE1712631761502</td>\n",
              "      <td>SE1712631761502G4311200</td>\n",
              "      <td>L'Oreal Indonesia</td>\n",
              "      <td>2025-01-01</td>\n",
              "      <td>Carton</td>\n",
              "      <td>64.20</td>\n",
              "      <td>60.0</td>\n",
              "      <td>3852.0</td>\n",
              "      <td>IDR</td>\n",
              "      <td>24900.0</td>\n",
              "      <td>5991.5</td>\n",
              "      <td>31.0</td>\n",
              "      <td>g</td>\n",
              "      <td>0.01</td>\n",
              "      <td>254.0</td>\n",
              "      <td>156.0</td>\n",
              "      <td>219.0</td>\n",
              "      <td>MM</td>\n",
              "      <td>2.24</td>\n",
              "      <td>Bekasi</td>\n",
              "      <td>Indonesia</td>\n",
              "      <td>-</td>\n",
              "      <td>-</td>\n",
              "      <td>NaN</td>\n",
              "      <td>P2</td>\n",
              "      <td>1.53</td>\n",
              "      <td>0.37</td>\n",
              "      <td>CORE</td>\n",
              "      <td>2024-05-28</td>\n",
              "      <td>G4311200</td>\n",
              "      <td>GRN 2 STEP PW MASK B5 GOJI EB</td>\n",
              "      <td>GARNIER</td>\n",
              "      <td>SKIN CARE</td>\n",
              "      <td>SKIN CARE</td>\n",
              "      <td>MASKS &amp; EXFOLIATORS</td>\n",
              "    </tr>\n",
              "    <tr>\n",
              "      <th>1</th>\n",
              "      <td>41508680-7c85-47aa-a54c-2bcbbddb56e9</td>\n",
              "      <td>6ca31813-8cac-4459-a53e-d68b62bf337d</td>\n",
              "      <td>SE1712631761502</td>\n",
              "      <td>SE1712631761502G4218000</td>\n",
              "      <td>L'Oreal Indonesia</td>\n",
              "      <td>2025-01-28</td>\n",
              "      <td>Carton</td>\n",
              "      <td>58.43</td>\n",
              "      <td>60.0</td>\n",
              "      <td>3506.0</td>\n",
              "      <td>IDR</td>\n",
              "      <td>23400.0</td>\n",
              "      <td>6552.7</td>\n",
              "      <td>19.7</td>\n",
              "      <td>g</td>\n",
              "      <td>0.01</td>\n",
              "      <td>185.0</td>\n",
              "      <td>150.0</td>\n",
              "      <td>197.0</td>\n",
              "      <td>MM</td>\n",
              "      <td>1.42</td>\n",
              "      <td>Bekasi</td>\n",
              "      <td>Indonesia</td>\n",
              "      <td>-</td>\n",
              "      <td>-</td>\n",
              "      <td>NaN</td>\n",
              "      <td>P2</td>\n",
              "      <td>1.44</td>\n",
              "      <td>0.40</td>\n",
              "      <td>CORE</td>\n",
              "      <td>2024-05-28</td>\n",
              "      <td>G4218000</td>\n",
              "      <td>GRN 5 MIN AMP MASK WATERMELON EB</td>\n",
              "      <td>GARNIER</td>\n",
              "      <td>SKIN CARE</td>\n",
              "      <td>SKIN CARE</td>\n",
              "      <td>MASKS &amp; EXFOLIATORS</td>\n",
              "    </tr>\n",
              "  </tbody>\n",
              "</table>\n",
              "</div>\n",
              "    <div class=\"colab-df-buttons\">\n",
              "\n",
              "  <div class=\"colab-df-container\">\n",
              "    <button class=\"colab-df-convert\" onclick=\"convertToInteractive('df-a3e1157c-3ea3-4668-a6d9-44472aa28126')\"\n",
              "            title=\"Convert this dataframe to an interactive table.\"\n",
              "            style=\"display:none;\">\n",
              "\n",
              "  <svg xmlns=\"http://www.w3.org/2000/svg\" height=\"24px\" viewBox=\"0 -960 960 960\">\n",
              "    <path d=\"M120-120v-720h720v720H120Zm60-500h600v-160H180v160Zm220 220h160v-160H400v160Zm0 220h160v-160H400v160ZM180-400h160v-160H180v160Zm440 0h160v-160H620v160ZM180-180h160v-160H180v160Zm440 0h160v-160H620v160Z\"/>\n",
              "  </svg>\n",
              "    </button>\n",
              "\n",
              "  <style>\n",
              "    .colab-df-container {\n",
              "      display:flex;\n",
              "      gap: 12px;\n",
              "    }\n",
              "\n",
              "    .colab-df-convert {\n",
              "      background-color: #E8F0FE;\n",
              "      border: none;\n",
              "      border-radius: 50%;\n",
              "      cursor: pointer;\n",
              "      display: none;\n",
              "      fill: #1967D2;\n",
              "      height: 32px;\n",
              "      padding: 0 0 0 0;\n",
              "      width: 32px;\n",
              "    }\n",
              "\n",
              "    .colab-df-convert:hover {\n",
              "      background-color: #E2EBFA;\n",
              "      box-shadow: 0px 1px 2px rgba(60, 64, 67, 0.3), 0px 1px 3px 1px rgba(60, 64, 67, 0.15);\n",
              "      fill: #174EA6;\n",
              "    }\n",
              "\n",
              "    .colab-df-buttons div {\n",
              "      margin-bottom: 4px;\n",
              "    }\n",
              "\n",
              "    [theme=dark] .colab-df-convert {\n",
              "      background-color: #3B4455;\n",
              "      fill: #D2E3FC;\n",
              "    }\n",
              "\n",
              "    [theme=dark] .colab-df-convert:hover {\n",
              "      background-color: #434B5C;\n",
              "      box-shadow: 0px 1px 3px 1px rgba(0, 0, 0, 0.15);\n",
              "      filter: drop-shadow(0px 1px 2px rgba(0, 0, 0, 0.3));\n",
              "      fill: #FFFFFF;\n",
              "    }\n",
              "  </style>\n",
              "\n",
              "    <script>\n",
              "      const buttonEl =\n",
              "        document.querySelector('#df-a3e1157c-3ea3-4668-a6d9-44472aa28126 button.colab-df-convert');\n",
              "      buttonEl.style.display =\n",
              "        google.colab.kernel.accessAllowed ? 'block' : 'none';\n",
              "\n",
              "      async function convertToInteractive(key) {\n",
              "        const element = document.querySelector('#df-a3e1157c-3ea3-4668-a6d9-44472aa28126');\n",
              "        const dataTable =\n",
              "          await google.colab.kernel.invokeFunction('convertToInteractive',\n",
              "                                                    [key], {});\n",
              "        if (!dataTable) return;\n",
              "\n",
              "        const docLinkHtml = 'Like what you see? Visit the ' +\n",
              "          '<a target=\"_blank\" href=https://colab.research.google.com/notebooks/data_table.ipynb>data table notebook</a>'\n",
              "          + ' to learn more about interactive tables.';\n",
              "        element.innerHTML = '';\n",
              "        dataTable['output_type'] = 'display_data';\n",
              "        await google.colab.output.renderOutput(dataTable, element);\n",
              "        const docLink = document.createElement('div');\n",
              "        docLink.innerHTML = docLinkHtml;\n",
              "        element.appendChild(docLink);\n",
              "      }\n",
              "    </script>\n",
              "  </div>\n",
              "\n",
              "\n",
              "    <div id=\"df-64c9d7ed-28fa-4b5c-bcf7-865f09fd96f2\">\n",
              "      <button class=\"colab-df-quickchart\" onclick=\"quickchart('df-64c9d7ed-28fa-4b5c-bcf7-865f09fd96f2')\"\n",
              "                title=\"Suggest charts\"\n",
              "                style=\"display:none;\">\n",
              "\n",
              "<svg xmlns=\"http://www.w3.org/2000/svg\" height=\"24px\"viewBox=\"0 0 24 24\"\n",
              "     width=\"24px\">\n",
              "    <g>\n",
              "        <path d=\"M19 3H5c-1.1 0-2 .9-2 2v14c0 1.1.9 2 2 2h14c1.1 0 2-.9 2-2V5c0-1.1-.9-2-2-2zM9 17H7v-7h2v7zm4 0h-2V7h2v10zm4 0h-2v-4h2v4z\"/>\n",
              "    </g>\n",
              "</svg>\n",
              "      </button>\n",
              "\n",
              "<style>\n",
              "  .colab-df-quickchart {\n",
              "      --bg-color: #E8F0FE;\n",
              "      --fill-color: #1967D2;\n",
              "      --hover-bg-color: #E2EBFA;\n",
              "      --hover-fill-color: #174EA6;\n",
              "      --disabled-fill-color: #AAA;\n",
              "      --disabled-bg-color: #DDD;\n",
              "  }\n",
              "\n",
              "  [theme=dark] .colab-df-quickchart {\n",
              "      --bg-color: #3B4455;\n",
              "      --fill-color: #D2E3FC;\n",
              "      --hover-bg-color: #434B5C;\n",
              "      --hover-fill-color: #FFFFFF;\n",
              "      --disabled-bg-color: #3B4455;\n",
              "      --disabled-fill-color: #666;\n",
              "  }\n",
              "\n",
              "  .colab-df-quickchart {\n",
              "    background-color: var(--bg-color);\n",
              "    border: none;\n",
              "    border-radius: 50%;\n",
              "    cursor: pointer;\n",
              "    display: none;\n",
              "    fill: var(--fill-color);\n",
              "    height: 32px;\n",
              "    padding: 0;\n",
              "    width: 32px;\n",
              "  }\n",
              "\n",
              "  .colab-df-quickchart:hover {\n",
              "    background-color: var(--hover-bg-color);\n",
              "    box-shadow: 0 1px 2px rgba(60, 64, 67, 0.3), 0 1px 3px 1px rgba(60, 64, 67, 0.15);\n",
              "    fill: var(--button-hover-fill-color);\n",
              "  }\n",
              "\n",
              "  .colab-df-quickchart-complete:disabled,\n",
              "  .colab-df-quickchart-complete:disabled:hover {\n",
              "    background-color: var(--disabled-bg-color);\n",
              "    fill: var(--disabled-fill-color);\n",
              "    box-shadow: none;\n",
              "  }\n",
              "\n",
              "  .colab-df-spinner {\n",
              "    border: 2px solid var(--fill-color);\n",
              "    border-color: transparent;\n",
              "    border-bottom-color: var(--fill-color);\n",
              "    animation:\n",
              "      spin 1s steps(1) infinite;\n",
              "  }\n",
              "\n",
              "  @keyframes spin {\n",
              "    0% {\n",
              "      border-color: transparent;\n",
              "      border-bottom-color: var(--fill-color);\n",
              "      border-left-color: var(--fill-color);\n",
              "    }\n",
              "    20% {\n",
              "      border-color: transparent;\n",
              "      border-left-color: var(--fill-color);\n",
              "      border-top-color: var(--fill-color);\n",
              "    }\n",
              "    30% {\n",
              "      border-color: transparent;\n",
              "      border-left-color: var(--fill-color);\n",
              "      border-top-color: var(--fill-color);\n",
              "      border-right-color: var(--fill-color);\n",
              "    }\n",
              "    40% {\n",
              "      border-color: transparent;\n",
              "      border-right-color: var(--fill-color);\n",
              "      border-top-color: var(--fill-color);\n",
              "    }\n",
              "    60% {\n",
              "      border-color: transparent;\n",
              "      border-right-color: var(--fill-color);\n",
              "    }\n",
              "    80% {\n",
              "      border-color: transparent;\n",
              "      border-right-color: var(--fill-color);\n",
              "      border-bottom-color: var(--fill-color);\n",
              "    }\n",
              "    90% {\n",
              "      border-color: transparent;\n",
              "      border-bottom-color: var(--fill-color);\n",
              "    }\n",
              "  }\n",
              "</style>\n",
              "\n",
              "      <script>\n",
              "        async function quickchart(key) {\n",
              "          const quickchartButtonEl =\n",
              "            document.querySelector('#' + key + ' button');\n",
              "          quickchartButtonEl.disabled = true;  // To prevent multiple clicks.\n",
              "          quickchartButtonEl.classList.add('colab-df-spinner');\n",
              "          try {\n",
              "            const charts = await google.colab.kernel.invokeFunction(\n",
              "                'suggestCharts', [key], {});\n",
              "          } catch (error) {\n",
              "            console.error('Error during call to suggestCharts:', error);\n",
              "          }\n",
              "          quickchartButtonEl.classList.remove('colab-df-spinner');\n",
              "          quickchartButtonEl.classList.add('colab-df-quickchart-complete');\n",
              "        }\n",
              "        (() => {\n",
              "          let quickchartButtonEl =\n",
              "            document.querySelector('#df-64c9d7ed-28fa-4b5c-bcf7-865f09fd96f2 button');\n",
              "          quickchartButtonEl.style.display =\n",
              "            google.colab.kernel.accessAllowed ? 'block' : 'none';\n",
              "        })();\n",
              "      </script>\n",
              "    </div>\n",
              "\n",
              "    </div>\n",
              "  </div>\n"
            ],
            "application/vnd.google.colaboratory.intrinsic+json": {
              "type": "dataframe",
              "variable_name": "product_listings"
            }
          },
          "metadata": {},
          "execution_count": 17
        }
      ],
      "source": [
        "product_listings.head(2)"
      ]
    },
    {
      "cell_type": "code",
      "execution_count": null,
      "metadata": {
        "id": "FqjPGrLD8hHE",
        "colab": {
          "base_uri": "https://localhost:8080/",
          "height": 178
        },
        "outputId": "a5dc8a96-08a7-45ab-f637-d8d544efd357"
      },
      "outputs": [
        {
          "output_type": "execute_result",
          "data": {
            "text/plain": [
              "inventory_class\n",
              "NON_CORE    115580\n",
              "CORE         66703\n",
              "Name: count, dtype: int64"
            ],
            "text/html": [
              "<div>\n",
              "<style scoped>\n",
              "    .dataframe tbody tr th:only-of-type {\n",
              "        vertical-align: middle;\n",
              "    }\n",
              "\n",
              "    .dataframe tbody tr th {\n",
              "        vertical-align: top;\n",
              "    }\n",
              "\n",
              "    .dataframe thead th {\n",
              "        text-align: right;\n",
              "    }\n",
              "</style>\n",
              "<table border=\"1\" class=\"dataframe\">\n",
              "  <thead>\n",
              "    <tr style=\"text-align: right;\">\n",
              "      <th></th>\n",
              "      <th>count</th>\n",
              "    </tr>\n",
              "    <tr>\n",
              "      <th>inventory_class</th>\n",
              "      <th></th>\n",
              "    </tr>\n",
              "  </thead>\n",
              "  <tbody>\n",
              "    <tr>\n",
              "      <th>NON_CORE</th>\n",
              "      <td>115580</td>\n",
              "    </tr>\n",
              "    <tr>\n",
              "      <th>CORE</th>\n",
              "      <td>66703</td>\n",
              "    </tr>\n",
              "  </tbody>\n",
              "</table>\n",
              "</div><br><label><b>dtype:</b> int64</label>"
            ]
          },
          "metadata": {},
          "execution_count": 18
        }
      ],
      "source": [
        "product_listings.inventory_class.value_counts()"
      ]
    },
    {
      "cell_type": "code",
      "execution_count": null,
      "metadata": {
        "id": "vx2pVblEc4C6"
      },
      "outputs": [],
      "source": []
    },
    {
      "cell_type": "code",
      "execution_count": null,
      "metadata": {
        "id": "dztDynhP4FgK"
      },
      "outputs": [],
      "source": [
        "df_inv = product_listings[product_listings.inventory_class == 'CORE']\n",
        "non_core_inv = product_listings[product_listings.inventory_class == 'NON_CORE']\n",
        "df_inv = df_inv.reset_index(drop = True)\n",
        "non_core_inv = non_core_inv.reset_index(drop = True)"
      ]
    },
    {
      "cell_type": "code",
      "execution_count": null,
      "metadata": {
        "id": "aqXYxL3_9W8f"
      },
      "outputs": [],
      "source": [
        "cols_list_underscore_cleaning = ['sku_product_name', 'brand', 'product_category', 'product_subcategory', 'warehouse_country',\n",
        "            'country_of_origin', 'pack_label_language', 'product_restricted_countries', 'shelf_life_bucket']\n",
        "\n",
        "inv_cols_list_to_change_dtypes = ['qty_of_cartons', 'units_per_cartons', 'retail_price_per_case_(local)', 'retail_price_per_case_(usd)', 'asking_price_per_case_(local)',\n",
        "                              'asking_price_per_case_(usd)', 'total_retail_price_(local)', 'total_retail_price_(usd)', 'total_asking_price_(local)',\n",
        "                              'total_asking_price_(usd)', 'pack_size_(number)', 'total_cbm', 'cbm_per_case', 'package_dimensions_per_package_type_(length)',\n",
        "                              'package_dimensions_per_case_(width)', 'package_dimensions_per_case_(height)', 'net_weight_\\nper_unit(kg)', 'net_weight_per_case_(kg)',\n",
        "                              'gross_weight_per_case_(kg)', 'total_net_weight_(kg)', 'total_gross_weight_(kg)', 'cases_per_pallet', 'number_of_pallets', 'discount',\n",
        "                              'shelf_remaining_days']\n",
        "\n",
        "record_attributes = ['sku_number', 'sku_name', 'brand', 'product_category', 'product_subcategory', 'retail_price_per_unit_local', 'currency']\n",
        "\n",
        "n_days_before_date = pd.to_datetime(date.today() - timedelta(days = 14))\n",
        "\n",
        "THRESHOLD = 0.65"
      ]
    },
    {
      "cell_type": "code",
      "execution_count": null,
      "metadata": {
        "id": "BHG-z1RR9XsR"
      },
      "outputs": [],
      "source": []
    },
    {
      "cell_type": "code",
      "execution_count": null,
      "metadata": {
        "id": "a5O9oHQ6KXVn"
      },
      "outputs": [],
      "source": [
        "def dropping_null_brand_cat_subcats(df_inv):\n",
        "  df_inv = df_inv[~df_inv.brand.isnull()]\n",
        "  df_inv = df_inv[~df_inv.product_category.isnull()]\n",
        "  df_inv = df_inv[~df_inv.product_subcategory.isnull()]\n",
        "  return df_inv\n",
        "\n",
        "def cols_to_lower_rem_space(df, cols_list):\n",
        "  for col in ['sku_name', 'product_name', 'brand', 'brand_', 'product_description', 'product_category', 'product_sub_category', 'product_subcategory',\\\n",
        "              'warehouse_location', 'buyer', 'seller', 'package_type', 'deal_type', 'origin_', 'destination', 'region_of_export', \\\n",
        "              'domestic_export', 'order_type', 'country', 'currency', 'country_of_origin', 'pack_label_language', 'dangerous_goods\\n(y/n)', 'shelf_life_bucket',\n",
        "              'relavant_(r)/ir-relavant(ir)', 'product_restricted_countries', 'store_name', 'quarter', 'temp_reference', 'tracking_no', 'offer_type', 'fiscal_month',\n",
        "              'proposed_buyer_product_preferences', 'product_shelf_life_months', 'priority', 'seller', 'lms_seller_id', 'persona', 'core_vs._\\nnon_core', 'sku_product_name',\n",
        "              'warehouse_country', 'warehouse_address', 'measurement_units', 'listing_currency', 'manufacturing_country', 'lbh_measurement_units', 'package_type', 'seller_name',\n",
        "              'pack_size_unit', 'package_labeled_language', 'inventory_class', 'description', 'unit_dimensions']:\n",
        "              if col in cols_list:\n",
        "                df[col] = df[col].str.lower().str.replace(' ', '_')\n",
        "  return df\n",
        "\n",
        "def remove_starting_and_trailing_underscores(x):\n",
        "  if x != '':\n",
        "    if x[0] == '_':\n",
        "      for i in range(len(x)):\n",
        "        if x[i] != '_':\n",
        "          start = i\n",
        "          break\n",
        "      x = x[start:]\n",
        "    if x[-1] == '_':\n",
        "      for i in reversed(range(len(x))):\n",
        "        if x[i] != '_':\n",
        "          end = i\n",
        "          break\n",
        "      x = x[:end+1]\n",
        "  return x\n",
        "\n",
        "def cleaning_underscores_inv_data(df_inv, col_list):\n",
        "  for col in col_list:\n",
        "    print(col)\n",
        "    df_inv[col] = df_inv[col].apply(remove_starting_and_trailing_underscores)\n",
        "  return df_inv\n",
        "\n",
        "def drop_dups_and_clean(df_inv):\n",
        "  print('Dropping above duplicates ...')\n",
        "  df_inv = df_inv.drop_duplicates()\n",
        "  return df_inv"
      ]
    },
    {
      "cell_type": "code",
      "execution_count": null,
      "metadata": {
        "id": "cEc97d69KDph",
        "colab": {
          "base_uri": "https://localhost:8080/"
        },
        "outputId": "6a79df94-85d4-4763-97ba-458c6f4b1e84"
      },
      "outputs": [
        {
          "output_type": "stream",
          "name": "stdout",
          "text": [
            "Dropping above duplicates ...\n"
          ]
        }
      ],
      "source": [
        "df_inv = dropping_null_brand_cat_subcats(df_inv)\n",
        "df_inv = cols_to_lower_rem_space(df_inv, df_inv.columns)\n",
        "df_inv = drop_dups_and_clean(df_inv)\n",
        "\n",
        "non_core_inv = cols_to_lower_rem_space(non_core_inv, non_core_inv.columns)"
      ]
    },
    {
      "cell_type": "code",
      "execution_count": null,
      "metadata": {
        "id": "WWbuPOMNdyEQ"
      },
      "outputs": [],
      "source": []
    },
    {
      "cell_type": "markdown",
      "metadata": {
        "id": "7dM7UCsvEkNe"
      },
      "source": [
        "# Non Core"
      ]
    },
    {
      "cell_type": "code",
      "execution_count": null,
      "metadata": {
        "id": "PxqM8cqBXkJ9",
        "colab": {
          "base_uri": "https://localhost:8080/",
          "height": 236
        },
        "outputId": "4efa3f8b-89fb-4c2a-8b45-68e5d6ca7189"
      },
      "outputs": [
        {
          "output_type": "execute_result",
          "data": {
            "text/plain": [
              "                                     id                            product_id  \\\n",
              "0  b61c2bb9-f203-4447-bd21-34c8b2d8a03a  c741e020-cae7-4258-b71f-3bc338b38412   \n",
              "1  329218a0-49c7-4e36-bfe7-e10d17de8dfc  0cec2d8c-024a-4929-87fa-358f264016b7   \n",
              "\n",
              "          seller_id                                  record_id  \\\n",
              "0   SE1712631761542   SE171263176154204R3I1MKJPD97H7OBZ60UTU1Z   \n",
              "1   SE1712631761542   SE171263176154211YAP8LR1W3OQSFJGWCLTD1DQ   \n",
              "\n",
              "           seller_name expiry_date package_type  qty_of_carton  \\\n",
              "0  acommerce_singapore  2023-05-31       pieces            NaN   \n",
              "1  acommerce_singapore  2023-05-31       pieces            NaN   \n",
              "\n",
              "   units_per_package_type  total_number_of_items currency  \\\n",
              "0                     NaN                    6.0      sgd   \n",
              "1                     NaN                  160.0      sgd   \n",
              "\n",
              "   retail_price_per_unit_local  asking_price_per_unit_local  pack_size_number  \\\n",
              "0                         19.9                         1.99               NaN   \n",
              "1                          2.0                         0.20               NaN   \n",
              "\n",
              "  pack_size_unit  cbm_carton  length  breadth  height unit_dimensions  \\\n",
              "0           None         0.0    10.0     10.0    10.0              cm   \n",
              "1           None         0.0     8.0      5.0     0.2              cm   \n",
              "\n",
              "   weight_per_carton_kg warehouse_address warehouse_country country_of_origin  \\\n",
              "0                  0.50         sg-acom01              None              None   \n",
              "1                  0.15         sg-acom02              None              None   \n",
              "\n",
              "  package_labeled_language  product_restriction priority  \\\n",
              "0                     None                  NaN       p1   \n",
              "1                     None                  NaN       p1   \n",
              "\n",
              "   retail_price_per_unit_usd  asking_price_per_unit_usd inventory_class  \\\n",
              "0                  15.116504                   1.511650        non_core   \n",
              "1                   1.519247                   0.151925        non_core   \n",
              "\n",
              "   updated_on                 sku_number  \\\n",
              "0  2023-01-25  04R3I1MKJPD97H7OBZ60UTU1Z   \n",
              "1  2023-01-25  11YAP8LR1W3OQSFJGWCLTD1DQ   \n",
              "\n",
              "                                    sku_product_name          brand  \\\n",
              "0  l'oreal_paris_color_riche_satin_105_nude_in_paris  l'oreal_paris   \n",
              "1      garnier_serum_mask_-_pomegranate_(replumping)        garnier   \n",
              "\n",
              "  product_category description  product_subcategory  \n",
              "0           makeup      makeup           lip_makeup  \n",
              "1        skin_care   skin_care  masks_&_exfoliators  "
            ],
            "text/html": [
              "\n",
              "  <div id=\"df-6413ad1c-c8a6-4557-a5f8-b8c9ee06172e\" class=\"colab-df-container\">\n",
              "    <div>\n",
              "<style scoped>\n",
              "    .dataframe tbody tr th:only-of-type {\n",
              "        vertical-align: middle;\n",
              "    }\n",
              "\n",
              "    .dataframe tbody tr th {\n",
              "        vertical-align: top;\n",
              "    }\n",
              "\n",
              "    .dataframe thead th {\n",
              "        text-align: right;\n",
              "    }\n",
              "</style>\n",
              "<table border=\"1\" class=\"dataframe\">\n",
              "  <thead>\n",
              "    <tr style=\"text-align: right;\">\n",
              "      <th></th>\n",
              "      <th>id</th>\n",
              "      <th>product_id</th>\n",
              "      <th>seller_id</th>\n",
              "      <th>record_id</th>\n",
              "      <th>seller_name</th>\n",
              "      <th>expiry_date</th>\n",
              "      <th>package_type</th>\n",
              "      <th>qty_of_carton</th>\n",
              "      <th>units_per_package_type</th>\n",
              "      <th>total_number_of_items</th>\n",
              "      <th>currency</th>\n",
              "      <th>retail_price_per_unit_local</th>\n",
              "      <th>asking_price_per_unit_local</th>\n",
              "      <th>pack_size_number</th>\n",
              "      <th>pack_size_unit</th>\n",
              "      <th>cbm_carton</th>\n",
              "      <th>length</th>\n",
              "      <th>breadth</th>\n",
              "      <th>height</th>\n",
              "      <th>unit_dimensions</th>\n",
              "      <th>weight_per_carton_kg</th>\n",
              "      <th>warehouse_address</th>\n",
              "      <th>warehouse_country</th>\n",
              "      <th>country_of_origin</th>\n",
              "      <th>package_labeled_language</th>\n",
              "      <th>product_restriction</th>\n",
              "      <th>priority</th>\n",
              "      <th>retail_price_per_unit_usd</th>\n",
              "      <th>asking_price_per_unit_usd</th>\n",
              "      <th>inventory_class</th>\n",
              "      <th>updated_on</th>\n",
              "      <th>sku_number</th>\n",
              "      <th>sku_product_name</th>\n",
              "      <th>brand</th>\n",
              "      <th>product_category</th>\n",
              "      <th>description</th>\n",
              "      <th>product_subcategory</th>\n",
              "    </tr>\n",
              "  </thead>\n",
              "  <tbody>\n",
              "    <tr>\n",
              "      <th>0</th>\n",
              "      <td>b61c2bb9-f203-4447-bd21-34c8b2d8a03a</td>\n",
              "      <td>c741e020-cae7-4258-b71f-3bc338b38412</td>\n",
              "      <td>SE1712631761542</td>\n",
              "      <td>SE171263176154204R3I1MKJPD97H7OBZ60UTU1Z</td>\n",
              "      <td>acommerce_singapore</td>\n",
              "      <td>2023-05-31</td>\n",
              "      <td>pieces</td>\n",
              "      <td>NaN</td>\n",
              "      <td>NaN</td>\n",
              "      <td>6.0</td>\n",
              "      <td>sgd</td>\n",
              "      <td>19.9</td>\n",
              "      <td>1.99</td>\n",
              "      <td>NaN</td>\n",
              "      <td>None</td>\n",
              "      <td>0.0</td>\n",
              "      <td>10.0</td>\n",
              "      <td>10.0</td>\n",
              "      <td>10.0</td>\n",
              "      <td>cm</td>\n",
              "      <td>0.50</td>\n",
              "      <td>sg-acom01</td>\n",
              "      <td>None</td>\n",
              "      <td>None</td>\n",
              "      <td>None</td>\n",
              "      <td>NaN</td>\n",
              "      <td>p1</td>\n",
              "      <td>15.116504</td>\n",
              "      <td>1.511650</td>\n",
              "      <td>non_core</td>\n",
              "      <td>2023-01-25</td>\n",
              "      <td>04R3I1MKJPD97H7OBZ60UTU1Z</td>\n",
              "      <td>l'oreal_paris_color_riche_satin_105_nude_in_paris</td>\n",
              "      <td>l'oreal_paris</td>\n",
              "      <td>makeup</td>\n",
              "      <td>makeup</td>\n",
              "      <td>lip_makeup</td>\n",
              "    </tr>\n",
              "    <tr>\n",
              "      <th>1</th>\n",
              "      <td>329218a0-49c7-4e36-bfe7-e10d17de8dfc</td>\n",
              "      <td>0cec2d8c-024a-4929-87fa-358f264016b7</td>\n",
              "      <td>SE1712631761542</td>\n",
              "      <td>SE171263176154211YAP8LR1W3OQSFJGWCLTD1DQ</td>\n",
              "      <td>acommerce_singapore</td>\n",
              "      <td>2023-05-31</td>\n",
              "      <td>pieces</td>\n",
              "      <td>NaN</td>\n",
              "      <td>NaN</td>\n",
              "      <td>160.0</td>\n",
              "      <td>sgd</td>\n",
              "      <td>2.0</td>\n",
              "      <td>0.20</td>\n",
              "      <td>NaN</td>\n",
              "      <td>None</td>\n",
              "      <td>0.0</td>\n",
              "      <td>8.0</td>\n",
              "      <td>5.0</td>\n",
              "      <td>0.2</td>\n",
              "      <td>cm</td>\n",
              "      <td>0.15</td>\n",
              "      <td>sg-acom02</td>\n",
              "      <td>None</td>\n",
              "      <td>None</td>\n",
              "      <td>None</td>\n",
              "      <td>NaN</td>\n",
              "      <td>p1</td>\n",
              "      <td>1.519247</td>\n",
              "      <td>0.151925</td>\n",
              "      <td>non_core</td>\n",
              "      <td>2023-01-25</td>\n",
              "      <td>11YAP8LR1W3OQSFJGWCLTD1DQ</td>\n",
              "      <td>garnier_serum_mask_-_pomegranate_(replumping)</td>\n",
              "      <td>garnier</td>\n",
              "      <td>skin_care</td>\n",
              "      <td>skin_care</td>\n",
              "      <td>masks_&amp;_exfoliators</td>\n",
              "    </tr>\n",
              "  </tbody>\n",
              "</table>\n",
              "</div>\n",
              "    <div class=\"colab-df-buttons\">\n",
              "\n",
              "  <div class=\"colab-df-container\">\n",
              "    <button class=\"colab-df-convert\" onclick=\"convertToInteractive('df-6413ad1c-c8a6-4557-a5f8-b8c9ee06172e')\"\n",
              "            title=\"Convert this dataframe to an interactive table.\"\n",
              "            style=\"display:none;\">\n",
              "\n",
              "  <svg xmlns=\"http://www.w3.org/2000/svg\" height=\"24px\" viewBox=\"0 -960 960 960\">\n",
              "    <path d=\"M120-120v-720h720v720H120Zm60-500h600v-160H180v160Zm220 220h160v-160H400v160Zm0 220h160v-160H400v160ZM180-400h160v-160H180v160Zm440 0h160v-160H620v160ZM180-180h160v-160H180v160Zm440 0h160v-160H620v160Z\"/>\n",
              "  </svg>\n",
              "    </button>\n",
              "\n",
              "  <style>\n",
              "    .colab-df-container {\n",
              "      display:flex;\n",
              "      gap: 12px;\n",
              "    }\n",
              "\n",
              "    .colab-df-convert {\n",
              "      background-color: #E8F0FE;\n",
              "      border: none;\n",
              "      border-radius: 50%;\n",
              "      cursor: pointer;\n",
              "      display: none;\n",
              "      fill: #1967D2;\n",
              "      height: 32px;\n",
              "      padding: 0 0 0 0;\n",
              "      width: 32px;\n",
              "    }\n",
              "\n",
              "    .colab-df-convert:hover {\n",
              "      background-color: #E2EBFA;\n",
              "      box-shadow: 0px 1px 2px rgba(60, 64, 67, 0.3), 0px 1px 3px 1px rgba(60, 64, 67, 0.15);\n",
              "      fill: #174EA6;\n",
              "    }\n",
              "\n",
              "    .colab-df-buttons div {\n",
              "      margin-bottom: 4px;\n",
              "    }\n",
              "\n",
              "    [theme=dark] .colab-df-convert {\n",
              "      background-color: #3B4455;\n",
              "      fill: #D2E3FC;\n",
              "    }\n",
              "\n",
              "    [theme=dark] .colab-df-convert:hover {\n",
              "      background-color: #434B5C;\n",
              "      box-shadow: 0px 1px 3px 1px rgba(0, 0, 0, 0.15);\n",
              "      filter: drop-shadow(0px 1px 2px rgba(0, 0, 0, 0.3));\n",
              "      fill: #FFFFFF;\n",
              "    }\n",
              "  </style>\n",
              "\n",
              "    <script>\n",
              "      const buttonEl =\n",
              "        document.querySelector('#df-6413ad1c-c8a6-4557-a5f8-b8c9ee06172e button.colab-df-convert');\n",
              "      buttonEl.style.display =\n",
              "        google.colab.kernel.accessAllowed ? 'block' : 'none';\n",
              "\n",
              "      async function convertToInteractive(key) {\n",
              "        const element = document.querySelector('#df-6413ad1c-c8a6-4557-a5f8-b8c9ee06172e');\n",
              "        const dataTable =\n",
              "          await google.colab.kernel.invokeFunction('convertToInteractive',\n",
              "                                                    [key], {});\n",
              "        if (!dataTable) return;\n",
              "\n",
              "        const docLinkHtml = 'Like what you see? Visit the ' +\n",
              "          '<a target=\"_blank\" href=https://colab.research.google.com/notebooks/data_table.ipynb>data table notebook</a>'\n",
              "          + ' to learn more about interactive tables.';\n",
              "        element.innerHTML = '';\n",
              "        dataTable['output_type'] = 'display_data';\n",
              "        await google.colab.output.renderOutput(dataTable, element);\n",
              "        const docLink = document.createElement('div');\n",
              "        docLink.innerHTML = docLinkHtml;\n",
              "        element.appendChild(docLink);\n",
              "      }\n",
              "    </script>\n",
              "  </div>\n",
              "\n",
              "\n",
              "    <div id=\"df-699275ba-bd2a-492d-86b2-977bdf6e1993\">\n",
              "      <button class=\"colab-df-quickchart\" onclick=\"quickchart('df-699275ba-bd2a-492d-86b2-977bdf6e1993')\"\n",
              "                title=\"Suggest charts\"\n",
              "                style=\"display:none;\">\n",
              "\n",
              "<svg xmlns=\"http://www.w3.org/2000/svg\" height=\"24px\"viewBox=\"0 0 24 24\"\n",
              "     width=\"24px\">\n",
              "    <g>\n",
              "        <path d=\"M19 3H5c-1.1 0-2 .9-2 2v14c0 1.1.9 2 2 2h14c1.1 0 2-.9 2-2V5c0-1.1-.9-2-2-2zM9 17H7v-7h2v7zm4 0h-2V7h2v10zm4 0h-2v-4h2v4z\"/>\n",
              "    </g>\n",
              "</svg>\n",
              "      </button>\n",
              "\n",
              "<style>\n",
              "  .colab-df-quickchart {\n",
              "      --bg-color: #E8F0FE;\n",
              "      --fill-color: #1967D2;\n",
              "      --hover-bg-color: #E2EBFA;\n",
              "      --hover-fill-color: #174EA6;\n",
              "      --disabled-fill-color: #AAA;\n",
              "      --disabled-bg-color: #DDD;\n",
              "  }\n",
              "\n",
              "  [theme=dark] .colab-df-quickchart {\n",
              "      --bg-color: #3B4455;\n",
              "      --fill-color: #D2E3FC;\n",
              "      --hover-bg-color: #434B5C;\n",
              "      --hover-fill-color: #FFFFFF;\n",
              "      --disabled-bg-color: #3B4455;\n",
              "      --disabled-fill-color: #666;\n",
              "  }\n",
              "\n",
              "  .colab-df-quickchart {\n",
              "    background-color: var(--bg-color);\n",
              "    border: none;\n",
              "    border-radius: 50%;\n",
              "    cursor: pointer;\n",
              "    display: none;\n",
              "    fill: var(--fill-color);\n",
              "    height: 32px;\n",
              "    padding: 0;\n",
              "    width: 32px;\n",
              "  }\n",
              "\n",
              "  .colab-df-quickchart:hover {\n",
              "    background-color: var(--hover-bg-color);\n",
              "    box-shadow: 0 1px 2px rgba(60, 64, 67, 0.3), 0 1px 3px 1px rgba(60, 64, 67, 0.15);\n",
              "    fill: var(--button-hover-fill-color);\n",
              "  }\n",
              "\n",
              "  .colab-df-quickchart-complete:disabled,\n",
              "  .colab-df-quickchart-complete:disabled:hover {\n",
              "    background-color: var(--disabled-bg-color);\n",
              "    fill: var(--disabled-fill-color);\n",
              "    box-shadow: none;\n",
              "  }\n",
              "\n",
              "  .colab-df-spinner {\n",
              "    border: 2px solid var(--fill-color);\n",
              "    border-color: transparent;\n",
              "    border-bottom-color: var(--fill-color);\n",
              "    animation:\n",
              "      spin 1s steps(1) infinite;\n",
              "  }\n",
              "\n",
              "  @keyframes spin {\n",
              "    0% {\n",
              "      border-color: transparent;\n",
              "      border-bottom-color: var(--fill-color);\n",
              "      border-left-color: var(--fill-color);\n",
              "    }\n",
              "    20% {\n",
              "      border-color: transparent;\n",
              "      border-left-color: var(--fill-color);\n",
              "      border-top-color: var(--fill-color);\n",
              "    }\n",
              "    30% {\n",
              "      border-color: transparent;\n",
              "      border-left-color: var(--fill-color);\n",
              "      border-top-color: var(--fill-color);\n",
              "      border-right-color: var(--fill-color);\n",
              "    }\n",
              "    40% {\n",
              "      border-color: transparent;\n",
              "      border-right-color: var(--fill-color);\n",
              "      border-top-color: var(--fill-color);\n",
              "    }\n",
              "    60% {\n",
              "      border-color: transparent;\n",
              "      border-right-color: var(--fill-color);\n",
              "    }\n",
              "    80% {\n",
              "      border-color: transparent;\n",
              "      border-right-color: var(--fill-color);\n",
              "      border-bottom-color: var(--fill-color);\n",
              "    }\n",
              "    90% {\n",
              "      border-color: transparent;\n",
              "      border-bottom-color: var(--fill-color);\n",
              "    }\n",
              "  }\n",
              "</style>\n",
              "\n",
              "      <script>\n",
              "        async function quickchart(key) {\n",
              "          const quickchartButtonEl =\n",
              "            document.querySelector('#' + key + ' button');\n",
              "          quickchartButtonEl.disabled = true;  // To prevent multiple clicks.\n",
              "          quickchartButtonEl.classList.add('colab-df-spinner');\n",
              "          try {\n",
              "            const charts = await google.colab.kernel.invokeFunction(\n",
              "                'suggestCharts', [key], {});\n",
              "          } catch (error) {\n",
              "            console.error('Error during call to suggestCharts:', error);\n",
              "          }\n",
              "          quickchartButtonEl.classList.remove('colab-df-spinner');\n",
              "          quickchartButtonEl.classList.add('colab-df-quickchart-complete');\n",
              "        }\n",
              "        (() => {\n",
              "          let quickchartButtonEl =\n",
              "            document.querySelector('#df-699275ba-bd2a-492d-86b2-977bdf6e1993 button');\n",
              "          quickchartButtonEl.style.display =\n",
              "            google.colab.kernel.accessAllowed ? 'block' : 'none';\n",
              "        })();\n",
              "      </script>\n",
              "    </div>\n",
              "\n",
              "    </div>\n",
              "  </div>\n"
            ],
            "application/vnd.google.colaboratory.intrinsic+json": {
              "type": "dataframe",
              "variable_name": "non_core_inv"
            }
          },
          "metadata": {},
          "execution_count": 23
        }
      ],
      "source": [
        "non_core_inv.head(2)"
      ]
    },
    {
      "cell_type": "code",
      "execution_count": null,
      "metadata": {
        "id": "OJvzDhLkcmDS"
      },
      "outputs": [],
      "source": [
        "non_core_inv = non_core_inv.rename(columns = {'total_number_of_items' : 'total_units'})\n",
        "non_core_inv['updated_on'] = pd.to_datetime(non_core_inv['updated_on'])\n",
        "non_core_inv['expiry_date'] = pd.to_datetime(non_core_inv['expiry_date'])"
      ]
    },
    {
      "cell_type": "code",
      "execution_count": null,
      "metadata": {
        "id": "0RzIScxwYv7V",
        "colab": {
          "base_uri": "https://localhost:8080/"
        },
        "outputId": "102cbc0e-ab06-4d2e-e970-b8a57901dbb1"
      },
      "outputs": [
        {
          "output_type": "stream",
          "name": "stdout",
          "text": [
            "(115580, 37)\n",
            "(64433, 37)\n"
          ]
        }
      ],
      "source": [
        "print(non_core_inv.shape)\n",
        "non_core_inv = non_core_inv.drop_duplicates(subset = ['sku_number', 'expiry_date', 'updated_on', 'seller_name'])\n",
        "print(non_core_inv.shape)"
      ]
    },
    {
      "cell_type": "code",
      "execution_count": null,
      "metadata": {
        "id": "DndNSCC3DnM8"
      },
      "outputs": [],
      "source": []
    },
    {
      "cell_type": "code",
      "execution_count": null,
      "metadata": {
        "id": "sb1B69WoDnF2"
      },
      "outputs": [],
      "source": [
        "offers = offers.rename(columns = {'seller' : 'seller_name'})\n",
        "offers['date_of_offer'] = pd.to_datetime(offers['date_of_offer'])\n",
        "offers['seller_name'] = offers['seller_name'].str.lower()\n",
        "offers['total_units_ordered'] = offers['total_units_ordered'].str.replace(',', '')\n",
        "offers['total_units_ordered'] = offers['total_units_ordered'].astype(float)"
      ]
    },
    {
      "cell_type": "code",
      "execution_count": null,
      "metadata": {
        "id": "RlJhRFzAE3OY"
      },
      "outputs": [],
      "source": [
        "def merge_non_core_inv_and_offer(non_core_inv, df_offer):\n",
        "  temp = pd.merge(non_core_inv, df_offer[['sku_number', 'seller_name', 'date_of_offer', 'actual', 'tracking_no', 'buyer', 'total_units_ordered',\n",
        "                                          'recovery_rate_percentage', 'offer_price_per_unit_usd', 'total_order_price_usd', 'destination']], 'left', on = ['sku_number', 'seller_name'])\n",
        "  # temp['updated_on'] = pd.to_datetime(temp['updated_on'])\n",
        "  temp['offer_day_diff_updated_inv'] = (temp['date_of_offer'] - temp['updated_on']).dt.days\n",
        "  # avoiding future entry from same sku and seller to get filtered out hence nulling it as will remain in the dataframe\n",
        "  temp['offer_day_diff_updated_inv'] = np.where(temp.offer_day_diff_updated_inv < 0, np.nan, temp['offer_day_diff_updated_inv'])\n",
        "  temp = temp[(temp.offer_day_diff_updated_inv >= 0) | (temp.offer_day_diff_updated_inv.isnull())]\n",
        "  df_non_core_inv_min_offer_day_diff_updated_inv = temp.groupby(['sku_number', 'seller_name', 'date_of_offer']).agg({'offer_day_diff_updated_inv' : 'min'}).reset_index()\\\n",
        "                                        .rename(columns = {'offer_day_diff_updated_inv' : 'min_offer_day_diff_updated_inv'})\n",
        "  temp = pd.merge(temp, df_non_core_inv_min_offer_day_diff_updated_inv, 'left', on = ['sku_number', 'seller_name', 'date_of_offer'])\n",
        "  temp = temp[(temp.offer_day_diff_updated_inv == temp.min_offer_day_diff_updated_inv) | (temp.offer_day_diff_updated_inv.isnull())]\n",
        "  temp.drop('min_offer_day_diff_updated_inv', axis = 1, inplace = True)\n",
        "  return temp"
      ]
    },
    {
      "cell_type": "code",
      "execution_count": null,
      "metadata": {
        "id": "-7mSk3BmE622"
      },
      "outputs": [],
      "source": [
        "non_core_inv = merge_non_core_inv_and_offer(non_core_inv, offers)\n",
        "# non_core_inv['sell_thru_rate'] = non_core_inv['total_units_ordered'] / non_core_inv['total_units']\n",
        "# non_core_inv['sell_thru_rate'] = np.where(non_core_inv['sell_thru_rate'] > 1, 1, non_core_inv['sell_thru_rate'])"
      ]
    },
    {
      "cell_type": "code",
      "execution_count": null,
      "metadata": {
        "id": "0zikyxqoE-Hk"
      },
      "outputs": [],
      "source": [
        "non_core_inv['shelf_life_remaining_days'] = (non_core_inv['expiry_date'] - non_core_inv['updated_on']).dt.days"
      ]
    },
    {
      "cell_type": "code",
      "source": [],
      "metadata": {
        "id": "zvXcSplA8NKE"
      },
      "execution_count": null,
      "outputs": []
    },
    {
      "cell_type": "code",
      "source": [
        "df_cluster = non_core_inv[['seller_name', 'warehouse_country', 'priority', 'retail_price_per_unit_usd', 'asking_price_per_unit_usd',\n",
        "        'brand', 'product_category', 'product_subcategory']]\n",
        "\n",
        "categorical_cols = ['priority', 'warehouse_country', 'brand', 'product_category', 'product_subcategory', 'seller_name']\n",
        "df_encoded = df_cluster.copy()\n",
        "le_dict = {}\n",
        "\n",
        "for col in categorical_cols:\n",
        "    le = LabelEncoder()\n",
        "    df_encoded[col] = df_encoded[col].astype(str)  # convert NaNs to string \"nan\"\n",
        "    df_encoded[col] = le.fit_transform(df_encoded[col])\n",
        "    le_dict[col] = le\n",
        "\n",
        "# Step 2: Apply IterativeImputer for missing values\n",
        "imputer = IterativeImputer(random_state=42)\n",
        "X_imputed = imputer.fit_transform(df_encoded)\n",
        "\n",
        "# Step 3: Standardize the features\n",
        "scaler = StandardScaler()\n",
        "X_scaled = scaler.fit_transform(X_imputed)\n",
        "\n",
        "\n",
        "\n",
        "# Step 4: Run DBSCAN\n",
        "model = DBSCAN(eps=0.5, min_samples=200)\n",
        "# model = MeanShift(bin_seeding = True)\n",
        "df_cluster['cluster'] = model.fit_predict(X_scaled)\n",
        "\n",
        "labels = df_cluster['cluster'].values\n",
        "n_clusters = len(set(labels)) - (1 if -1 in labels else 0)\n",
        "\n",
        "if n_clusters >= 2:\n",
        "    # Remove noise points for silhouette score\n",
        "    mask = labels != -1\n",
        "    score = silhouette_score(X_scaled[mask], labels[mask])\n",
        "    print(f\"Silhouette Score (excluding noise): {score:.4f}\")\n",
        "else:\n",
        "    print(\"Silhouette Score cannot be computed (requires at least 2 clusters excluding noise).\")\n",
        "\n",
        "\n",
        "non_core_inv['cluster'] = df_cluster['cluster']\n",
        "non_core_inv['cluster'].unique()"
      ],
      "metadata": {
        "colab": {
          "base_uri": "https://localhost:8080/"
        },
        "id": "5eoPNV0S8NoE",
        "outputId": "28ffdc69-75c7-4133-c9be-eccd00f58ca2"
      },
      "execution_count": null,
      "outputs": [
        {
          "output_type": "stream",
          "name": "stdout",
          "text": [
            "Silhouette Score (excluding noise): 0.8634\n"
          ]
        },
        {
          "output_type": "execute_result",
          "data": {
            "text/plain": [
              "array([-1,  0,  1,  2,  3,  4,  5,  6,  7,  8,  9, 10, 11, 12, 13, 14, 15,\n",
              "       16, 17, 18, 19, 20, 21, 22, 23])"
            ]
          },
          "metadata": {},
          "execution_count": 30
        }
      ]
    },
    {
      "cell_type": "code",
      "source": [
        "temp = non_core_inv.groupby('cluster')['destination'].value_counts().rename('counts').reset_index()\n",
        "temp = temp.groupby('cluster').destination.first().reset_index()\n",
        "cluster_to_popular_destination_country = dict(zip(temp.cluster, temp.destination))\n",
        "DEFAULT = non_core_inv['destination'].mode().values[0]\n",
        "print(DEFAULT)\n",
        "\n",
        "\n",
        "def set_destination(x):\n",
        "  if pd.isna(x['destination']) and x['cluster'] in cluster_to_popular_destination_country:\n",
        "    return cluster_to_popular_destination_country[x['cluster']]\n",
        "  elif pd.isna(x['destination']) and x['cluster'] not in cluster_to_popular_destination_country:\n",
        "    return DEFAULT\n",
        "  else:\n",
        "    return x['destination']\n",
        "\n",
        "non_core_inv['destination'] = non_core_inv.apply(set_destination, axis = 1)\n",
        "non_core_inv = non_core_inv.drop('cluster', axis = 1)"
      ],
      "metadata": {
        "colab": {
          "base_uri": "https://localhost:8080/"
        },
        "id": "PLhvbRxC8oxs",
        "outputId": "9960f86e-e8e2-4ce4-df35-8c7d52ba5aad"
      },
      "execution_count": null,
      "outputs": [
        {
          "output_type": "stream",
          "name": "stdout",
          "text": [
            "Indonesia\n"
          ]
        }
      ]
    },
    {
      "cell_type": "code",
      "execution_count": null,
      "metadata": {
        "id": "VdVY5wOQczwx"
      },
      "outputs": [],
      "source": []
    },
    {
      "cell_type": "code",
      "execution_count": null,
      "metadata": {
        "id": "SFY2XGSqYngO"
      },
      "outputs": [],
      "source": [
        "temp = non_core_inv[['sku_number', 'brand', 'product_category', 'product_subcategory', 'expiry_date', 'seller_name', 'updated_on', 'priority', 'total_units', 'shelf_life_remaining_days',\n",
        "                     'warehouse_country', 'destination', 'total_units_ordered', 'recovery_rate_percentage']].sort_values(by = ['sku_number', 'brand', 'product_category', 'product_subcategory',\n",
        "                      'expiry_date', 'seller_name', 'updated_on', 'priority', 'warehouse_country', 'destination'])\n",
        "temp = temp.reset_index(drop = True)"
      ]
    },
    {
      "cell_type": "code",
      "execution_count": null,
      "metadata": {
        "id": "keNAR2sTbMX8"
      },
      "outputs": [],
      "source": [
        "def get_prev_inv_occurence_next_to_current_for_non_core_inv(temp):\n",
        "  new_col_names_for_shifted_inv = dict()\n",
        "  for i in temp.columns:\n",
        "    new_col_names_for_shifted_inv[i] = i+'_prev'\n",
        "\n",
        "  temp_shifted = temp.shift(1)\n",
        "  temp_shifted = temp_shifted.rename(columns = new_col_names_for_shifted_inv)\n",
        "  temp = pd.concat([temp, temp_shifted], axis=1)\n",
        "  return temp\n",
        "\n",
        "# not taking expiry into account\n",
        "\n",
        "def get_repeated_inv_and_mean_depletion_for_non_core_inv(temp):\n",
        "  repeated_inv = temp[(temp.sku_number == temp.sku_number_prev) & (temp.seller_name == temp.seller_name_prev)]\n",
        "  repeated_inv['depletion'] = repeated_inv['total_units_prev'] - repeated_inv['total_units']\n",
        "  repeated_inv['time'] = (repeated_inv['updated_on'] - repeated_inv['updated_on_prev']).dt.days\n",
        "  repeated_inv = repeated_inv.drop_duplicates(subset = ['sku_number', 'brand', 'product_category', 'product_subcategory', 'expiry_date', \\\n",
        "                            'seller_name', 'updated_on', 'priority'])[['sku_number', 'brand', 'product_category', 'product_subcategory', 'expiry_date', 'seller_name', 'updated_on_prev',\\\n",
        "                                                                        'priority', 'depletion', 'time', 'total_units_prev', 'total_units', 'priority_prev',\\\n",
        "                                                                        'shelf_life_remaining_days_prev', 'warehouse_country_prev', 'destination_prev',\n",
        "                                                                       'total_units_ordered_prev', 'recovery_rate_percentage_prev']]\n",
        "\n",
        "  return repeated_inv"
      ]
    },
    {
      "cell_type": "markdown",
      "metadata": {
        "id": "s428f40UF0FM"
      },
      "source": [
        "## Recommendation - measure depletion at some other level, exclude skus as many skus don't repeat and many rows are getting dropped"
      ]
    },
    {
      "cell_type": "code",
      "execution_count": null,
      "metadata": {
        "id": "Z9YAX3xcZg3_"
      },
      "outputs": [],
      "source": [
        "temp = get_prev_inv_occurence_next_to_current_for_non_core_inv(temp)\n",
        "repeated_inv_non_core = get_repeated_inv_and_mean_depletion_for_non_core_inv(temp)\n",
        "repeated_inv_non_core = repeated_inv_non_core.reset_index(drop = True)\n",
        "repeated_inv_non_core['priority'] = np.where(repeated_inv_non_core.priority != repeated_inv_non_core.priority_prev, \\\n",
        "                                                   repeated_inv_non_core.priority_prev, repeated_inv_non_core.priority)"
      ]
    },
    {
      "cell_type": "code",
      "execution_count": null,
      "metadata": {
        "id": "xMq4H7NeUpw0",
        "colab": {
          "base_uri": "https://localhost:8080/"
        },
        "outputId": "ee536a21-0999-4647-dca5-f534afefc87f"
      },
      "outputs": [
        {
          "output_type": "stream",
          "name": "stdout",
          "text": [
            "['beverages', 'health_&_supplments', 'industrial', 'oral_care', 'skin_care', 'home_decor', 'fashion_-_accessories'] \n",
            " ['bedding_&_bath', 'furniture', 'kitchen_&_dining', 'home_-_other', 'home_-_decor', 'home_improvement_and_tools', 'other', 'baby'] \n",
            " ['hair_care', 'home_care', 'fragrance', 'sports,_fitness,_&_outdoors', 'makeup', 'home', 'food']\n"
          ]
        }
      ],
      "source": [
        "# 90 days sales life cycle\n",
        "repeated_inv_non_core = repeated_inv_non_core[repeated_inv_non_core.time <= 90]\n",
        "\n",
        "mean_depletion_per_cat_non_core_inv = repeated_inv_non_core.groupby(['product_category']).depletion.mean().reset_index().sort_values(by = 'depletion')\n",
        "\n",
        "low_depletion_cats = list(mean_depletion_per_cat_non_core_inv[mean_depletion_per_cat_non_core_inv['depletion'] <= mean_depletion_per_cat_non_core_inv.depletion.quantile(0.33)].product_category)\n",
        "mid_depletion_cats = list(mean_depletion_per_cat_non_core_inv[mean_depletion_per_cat_non_core_inv['depletion'] <= mean_depletion_per_cat_non_core_inv.depletion.quantile(0.67)].product_category)\n",
        "mid_depletion_cats = [i for i in mid_depletion_cats if i not in low_depletion_cats]\n",
        "high_depletion_cats = list(mean_depletion_per_cat_non_core_inv[mean_depletion_per_cat_non_core_inv['depletion'] <= mean_depletion_per_cat_non_core_inv.depletion.quantile(1)].product_category)\n",
        "high_depletion_cats = [i for i in high_depletion_cats if i not in low_depletion_cats + mid_depletion_cats]\n",
        "\n",
        "print(low_depletion_cats, '\\n', mid_depletion_cats, '\\n', high_depletion_cats)"
      ]
    },
    {
      "cell_type": "code",
      "execution_count": null,
      "metadata": {
        "id": "wJKOmu6JV36Q"
      },
      "outputs": [],
      "source": [
        "def set_depletion_non_core(row):\n",
        "  if row['depletion'] < 0:\n",
        "    return row['total_units_prev']\n",
        "  elif row['product_category'] in high_depletion_cats and row['time'] <= 20:\n",
        "    return row['depletion']\n",
        "  elif row['product_category'] in high_depletion_cats and row['time'] > 20:\n",
        "    return row['total_units_prev']\n",
        "  elif row['product_category'] in mid_depletion_cats and row['time'] <= 45:\n",
        "    return row['depletion']\n",
        "  elif row['product_category'] in mid_depletion_cats and row['time'] > 45:\n",
        "    return row['total_units_prev']\n",
        "  elif row['product_category'] in low_depletion_cats and row['time'] <= 60:\n",
        "    return row['depletion']\n",
        "  elif row['product_category'] in low_depletion_cats and row['time'] > 60:\n",
        "    return row['total_units_prev']"
      ]
    },
    {
      "cell_type": "code",
      "execution_count": null,
      "metadata": {
        "id": "cEIycs2IUpp7"
      },
      "outputs": [],
      "source": [
        "repeated_inv_non_core['depletion'] = repeated_inv_non_core.apply(set_depletion_non_core, axis=1)"
      ]
    },
    {
      "cell_type": "code",
      "execution_count": null,
      "metadata": {
        "id": "taseHPfnFWD6"
      },
      "outputs": [],
      "source": [
        "def remove_percent_sign(x):\n",
        "  if pd.isna(x):\n",
        "    return x\n",
        "  else:\n",
        "    return x[:-1]\n",
        "repeated_inv_non_core['recovery_rate_percentage_prev'] = repeated_inv_non_core['recovery_rate_percentage_prev'].apply(remove_percent_sign)\n",
        "repeated_inv_non_core['recovery_rate_percentage_prev'] = np.where(repeated_inv_non_core['recovery_rate_percentage_prev'] == '', np.nan, repeated_inv_non_core['recovery_rate_percentage_prev'])\n",
        "repeated_inv_non_core['recovery_rate_percentage_prev'] = repeated_inv_non_core['recovery_rate_percentage_prev'].astype(float)\n",
        "repeated_inv_non_core['recovery_rate_percentage_prev'] = np.where(repeated_inv_non_core['recovery_rate_percentage_prev'].isnull(), 0 , repeated_inv_non_core['recovery_rate_percentage_prev'])\n",
        "repeated_inv_non_core['total_units_ordered_prev'] = np.where(repeated_inv_non_core['total_units_ordered_prev'].isnull(), 0, repeated_inv_non_core['total_units_ordered_prev'])"
      ]
    },
    {
      "cell_type": "code",
      "execution_count": null,
      "metadata": {
        "id": "VXv9tf3QFZSV"
      },
      "outputs": [],
      "source": [
        "repeated_inv_non_core = repeated_inv_non_core.rename(columns = {'total_units_ordered_prev' : 'pollen_liquidated_units',\n",
        "                                                                'recovery_rate_percentage_prev' : 'pollen_recovery_rate_percentage'})"
      ]
    },
    {
      "cell_type": "code",
      "execution_count": null,
      "metadata": {
        "id": "DwX__vXJrA29",
        "colab": {
          "base_uri": "https://localhost:8080/",
          "height": 132
        },
        "outputId": "27826f49-ad34-49e2-9485-d321c6950de5"
      },
      "outputs": [
        {
          "output_type": "execute_result",
          "data": {
            "text/plain": [
              "     sku_number  brand            product_category product_subcategory  \\\n",
              "2012   E2S06133   home  home_improvement_and_tools        women's_tops   \n",
              "1437   E2S03338  other                       other        women's_tops   \n",
              "\n",
              "     expiry_date  seller_name updated_on_prev priority  depletion  time  \\\n",
              "2012         NaT  excess2sell      2025-03-03       p3        2.0     9   \n",
              "1437         NaT  excess2sell      2025-03-03       p3        1.0     9   \n",
              "\n",
              "      total_units_prev  total_units priority_prev  \\\n",
              "2012               2.0         11.0            p3   \n",
              "1437               1.0         20.0            p3   \n",
              "\n",
              "      shelf_life_remaining_days_prev warehouse_country_prev destination_prev  \\\n",
              "2012                             NaN                  india        Indonesia   \n",
              "1437                             NaN                  india        Indonesia   \n",
              "\n",
              "      pollen_liquidated_units  pollen_recovery_rate_percentage  \n",
              "2012                      0.0                              0.0  \n",
              "1437                      0.0                              0.0  "
            ],
            "text/html": [
              "\n",
              "  <div id=\"df-f5f294e9-d95d-4c8a-9dfa-1385d567ebc2\" class=\"colab-df-container\">\n",
              "    <div>\n",
              "<style scoped>\n",
              "    .dataframe tbody tr th:only-of-type {\n",
              "        vertical-align: middle;\n",
              "    }\n",
              "\n",
              "    .dataframe tbody tr th {\n",
              "        vertical-align: top;\n",
              "    }\n",
              "\n",
              "    .dataframe thead th {\n",
              "        text-align: right;\n",
              "    }\n",
              "</style>\n",
              "<table border=\"1\" class=\"dataframe\">\n",
              "  <thead>\n",
              "    <tr style=\"text-align: right;\">\n",
              "      <th></th>\n",
              "      <th>sku_number</th>\n",
              "      <th>brand</th>\n",
              "      <th>product_category</th>\n",
              "      <th>product_subcategory</th>\n",
              "      <th>expiry_date</th>\n",
              "      <th>seller_name</th>\n",
              "      <th>updated_on_prev</th>\n",
              "      <th>priority</th>\n",
              "      <th>depletion</th>\n",
              "      <th>time</th>\n",
              "      <th>total_units_prev</th>\n",
              "      <th>total_units</th>\n",
              "      <th>priority_prev</th>\n",
              "      <th>shelf_life_remaining_days_prev</th>\n",
              "      <th>warehouse_country_prev</th>\n",
              "      <th>destination_prev</th>\n",
              "      <th>pollen_liquidated_units</th>\n",
              "      <th>pollen_recovery_rate_percentage</th>\n",
              "    </tr>\n",
              "  </thead>\n",
              "  <tbody>\n",
              "    <tr>\n",
              "      <th>2012</th>\n",
              "      <td>E2S06133</td>\n",
              "      <td>home</td>\n",
              "      <td>home_improvement_and_tools</td>\n",
              "      <td>women's_tops</td>\n",
              "      <td>NaT</td>\n",
              "      <td>excess2sell</td>\n",
              "      <td>2025-03-03</td>\n",
              "      <td>p3</td>\n",
              "      <td>2.0</td>\n",
              "      <td>9</td>\n",
              "      <td>2.0</td>\n",
              "      <td>11.0</td>\n",
              "      <td>p3</td>\n",
              "      <td>NaN</td>\n",
              "      <td>india</td>\n",
              "      <td>Indonesia</td>\n",
              "      <td>0.0</td>\n",
              "      <td>0.0</td>\n",
              "    </tr>\n",
              "    <tr>\n",
              "      <th>1437</th>\n",
              "      <td>E2S03338</td>\n",
              "      <td>other</td>\n",
              "      <td>other</td>\n",
              "      <td>women's_tops</td>\n",
              "      <td>NaT</td>\n",
              "      <td>excess2sell</td>\n",
              "      <td>2025-03-03</td>\n",
              "      <td>p3</td>\n",
              "      <td>1.0</td>\n",
              "      <td>9</td>\n",
              "      <td>1.0</td>\n",
              "      <td>20.0</td>\n",
              "      <td>p3</td>\n",
              "      <td>NaN</td>\n",
              "      <td>india</td>\n",
              "      <td>Indonesia</td>\n",
              "      <td>0.0</td>\n",
              "      <td>0.0</td>\n",
              "    </tr>\n",
              "  </tbody>\n",
              "</table>\n",
              "</div>\n",
              "    <div class=\"colab-df-buttons\">\n",
              "\n",
              "  <div class=\"colab-df-container\">\n",
              "    <button class=\"colab-df-convert\" onclick=\"convertToInteractive('df-f5f294e9-d95d-4c8a-9dfa-1385d567ebc2')\"\n",
              "            title=\"Convert this dataframe to an interactive table.\"\n",
              "            style=\"display:none;\">\n",
              "\n",
              "  <svg xmlns=\"http://www.w3.org/2000/svg\" height=\"24px\" viewBox=\"0 -960 960 960\">\n",
              "    <path d=\"M120-120v-720h720v720H120Zm60-500h600v-160H180v160Zm220 220h160v-160H400v160Zm0 220h160v-160H400v160ZM180-400h160v-160H180v160Zm440 0h160v-160H620v160ZM180-180h160v-160H180v160Zm440 0h160v-160H620v160Z\"/>\n",
              "  </svg>\n",
              "    </button>\n",
              "\n",
              "  <style>\n",
              "    .colab-df-container {\n",
              "      display:flex;\n",
              "      gap: 12px;\n",
              "    }\n",
              "\n",
              "    .colab-df-convert {\n",
              "      background-color: #E8F0FE;\n",
              "      border: none;\n",
              "      border-radius: 50%;\n",
              "      cursor: pointer;\n",
              "      display: none;\n",
              "      fill: #1967D2;\n",
              "      height: 32px;\n",
              "      padding: 0 0 0 0;\n",
              "      width: 32px;\n",
              "    }\n",
              "\n",
              "    .colab-df-convert:hover {\n",
              "      background-color: #E2EBFA;\n",
              "      box-shadow: 0px 1px 2px rgba(60, 64, 67, 0.3), 0px 1px 3px 1px rgba(60, 64, 67, 0.15);\n",
              "      fill: #174EA6;\n",
              "    }\n",
              "\n",
              "    .colab-df-buttons div {\n",
              "      margin-bottom: 4px;\n",
              "    }\n",
              "\n",
              "    [theme=dark] .colab-df-convert {\n",
              "      background-color: #3B4455;\n",
              "      fill: #D2E3FC;\n",
              "    }\n",
              "\n",
              "    [theme=dark] .colab-df-convert:hover {\n",
              "      background-color: #434B5C;\n",
              "      box-shadow: 0px 1px 3px 1px rgba(0, 0, 0, 0.15);\n",
              "      filter: drop-shadow(0px 1px 2px rgba(0, 0, 0, 0.3));\n",
              "      fill: #FFFFFF;\n",
              "    }\n",
              "  </style>\n",
              "\n",
              "    <script>\n",
              "      const buttonEl =\n",
              "        document.querySelector('#df-f5f294e9-d95d-4c8a-9dfa-1385d567ebc2 button.colab-df-convert');\n",
              "      buttonEl.style.display =\n",
              "        google.colab.kernel.accessAllowed ? 'block' : 'none';\n",
              "\n",
              "      async function convertToInteractive(key) {\n",
              "        const element = document.querySelector('#df-f5f294e9-d95d-4c8a-9dfa-1385d567ebc2');\n",
              "        const dataTable =\n",
              "          await google.colab.kernel.invokeFunction('convertToInteractive',\n",
              "                                                    [key], {});\n",
              "        if (!dataTable) return;\n",
              "\n",
              "        const docLinkHtml = 'Like what you see? Visit the ' +\n",
              "          '<a target=\"_blank\" href=https://colab.research.google.com/notebooks/data_table.ipynb>data table notebook</a>'\n",
              "          + ' to learn more about interactive tables.';\n",
              "        element.innerHTML = '';\n",
              "        dataTable['output_type'] = 'display_data';\n",
              "        await google.colab.output.renderOutput(dataTable, element);\n",
              "        const docLink = document.createElement('div');\n",
              "        docLink.innerHTML = docLinkHtml;\n",
              "        element.appendChild(docLink);\n",
              "      }\n",
              "    </script>\n",
              "  </div>\n",
              "\n",
              "\n",
              "    <div id=\"df-72730872-fd5b-4be0-9375-ebe51aeae28b\">\n",
              "      <button class=\"colab-df-quickchart\" onclick=\"quickchart('df-72730872-fd5b-4be0-9375-ebe51aeae28b')\"\n",
              "                title=\"Suggest charts\"\n",
              "                style=\"display:none;\">\n",
              "\n",
              "<svg xmlns=\"http://www.w3.org/2000/svg\" height=\"24px\"viewBox=\"0 0 24 24\"\n",
              "     width=\"24px\">\n",
              "    <g>\n",
              "        <path d=\"M19 3H5c-1.1 0-2 .9-2 2v14c0 1.1.9 2 2 2h14c1.1 0 2-.9 2-2V5c0-1.1-.9-2-2-2zM9 17H7v-7h2v7zm4 0h-2V7h2v10zm4 0h-2v-4h2v4z\"/>\n",
              "    </g>\n",
              "</svg>\n",
              "      </button>\n",
              "\n",
              "<style>\n",
              "  .colab-df-quickchart {\n",
              "      --bg-color: #E8F0FE;\n",
              "      --fill-color: #1967D2;\n",
              "      --hover-bg-color: #E2EBFA;\n",
              "      --hover-fill-color: #174EA6;\n",
              "      --disabled-fill-color: #AAA;\n",
              "      --disabled-bg-color: #DDD;\n",
              "  }\n",
              "\n",
              "  [theme=dark] .colab-df-quickchart {\n",
              "      --bg-color: #3B4455;\n",
              "      --fill-color: #D2E3FC;\n",
              "      --hover-bg-color: #434B5C;\n",
              "      --hover-fill-color: #FFFFFF;\n",
              "      --disabled-bg-color: #3B4455;\n",
              "      --disabled-fill-color: #666;\n",
              "  }\n",
              "\n",
              "  .colab-df-quickchart {\n",
              "    background-color: var(--bg-color);\n",
              "    border: none;\n",
              "    border-radius: 50%;\n",
              "    cursor: pointer;\n",
              "    display: none;\n",
              "    fill: var(--fill-color);\n",
              "    height: 32px;\n",
              "    padding: 0;\n",
              "    width: 32px;\n",
              "  }\n",
              "\n",
              "  .colab-df-quickchart:hover {\n",
              "    background-color: var(--hover-bg-color);\n",
              "    box-shadow: 0 1px 2px rgba(60, 64, 67, 0.3), 0 1px 3px 1px rgba(60, 64, 67, 0.15);\n",
              "    fill: var(--button-hover-fill-color);\n",
              "  }\n",
              "\n",
              "  .colab-df-quickchart-complete:disabled,\n",
              "  .colab-df-quickchart-complete:disabled:hover {\n",
              "    background-color: var(--disabled-bg-color);\n",
              "    fill: var(--disabled-fill-color);\n",
              "    box-shadow: none;\n",
              "  }\n",
              "\n",
              "  .colab-df-spinner {\n",
              "    border: 2px solid var(--fill-color);\n",
              "    border-color: transparent;\n",
              "    border-bottom-color: var(--fill-color);\n",
              "    animation:\n",
              "      spin 1s steps(1) infinite;\n",
              "  }\n",
              "\n",
              "  @keyframes spin {\n",
              "    0% {\n",
              "      border-color: transparent;\n",
              "      border-bottom-color: var(--fill-color);\n",
              "      border-left-color: var(--fill-color);\n",
              "    }\n",
              "    20% {\n",
              "      border-color: transparent;\n",
              "      border-left-color: var(--fill-color);\n",
              "      border-top-color: var(--fill-color);\n",
              "    }\n",
              "    30% {\n",
              "      border-color: transparent;\n",
              "      border-left-color: var(--fill-color);\n",
              "      border-top-color: var(--fill-color);\n",
              "      border-right-color: var(--fill-color);\n",
              "    }\n",
              "    40% {\n",
              "      border-color: transparent;\n",
              "      border-right-color: var(--fill-color);\n",
              "      border-top-color: var(--fill-color);\n",
              "    }\n",
              "    60% {\n",
              "      border-color: transparent;\n",
              "      border-right-color: var(--fill-color);\n",
              "    }\n",
              "    80% {\n",
              "      border-color: transparent;\n",
              "      border-right-color: var(--fill-color);\n",
              "      border-bottom-color: var(--fill-color);\n",
              "    }\n",
              "    90% {\n",
              "      border-color: transparent;\n",
              "      border-bottom-color: var(--fill-color);\n",
              "    }\n",
              "  }\n",
              "</style>\n",
              "\n",
              "      <script>\n",
              "        async function quickchart(key) {\n",
              "          const quickchartButtonEl =\n",
              "            document.querySelector('#' + key + ' button');\n",
              "          quickchartButtonEl.disabled = true;  // To prevent multiple clicks.\n",
              "          quickchartButtonEl.classList.add('colab-df-spinner');\n",
              "          try {\n",
              "            const charts = await google.colab.kernel.invokeFunction(\n",
              "                'suggestCharts', [key], {});\n",
              "          } catch (error) {\n",
              "            console.error('Error during call to suggestCharts:', error);\n",
              "          }\n",
              "          quickchartButtonEl.classList.remove('colab-df-spinner');\n",
              "          quickchartButtonEl.classList.add('colab-df-quickchart-complete');\n",
              "        }\n",
              "        (() => {\n",
              "          let quickchartButtonEl =\n",
              "            document.querySelector('#df-72730872-fd5b-4be0-9375-ebe51aeae28b button');\n",
              "          quickchartButtonEl.style.display =\n",
              "            google.colab.kernel.accessAllowed ? 'block' : 'none';\n",
              "        })();\n",
              "      </script>\n",
              "    </div>\n",
              "\n",
              "    </div>\n",
              "  </div>\n"
            ],
            "application/vnd.google.colaboratory.intrinsic+json": {
              "type": "dataframe",
              "summary": "{\n  \"name\": \"repeated_inv_non_core\",\n  \"rows\": 2,\n  \"fields\": [\n    {\n      \"column\": \"sku_number\",\n      \"properties\": {\n        \"dtype\": \"string\",\n        \"num_unique_values\": 2,\n        \"samples\": [\n          \"E2S03338\",\n          \"E2S06133\"\n        ],\n        \"semantic_type\": \"\",\n        \"description\": \"\"\n      }\n    },\n    {\n      \"column\": \"brand\",\n      \"properties\": {\n        \"dtype\": \"string\",\n        \"num_unique_values\": 2,\n        \"samples\": [\n          \"other\",\n          \"home\"\n        ],\n        \"semantic_type\": \"\",\n        \"description\": \"\"\n      }\n    },\n    {\n      \"column\": \"product_category\",\n      \"properties\": {\n        \"dtype\": \"string\",\n        \"num_unique_values\": 2,\n        \"samples\": [\n          \"other\",\n          \"home_improvement_and_tools\"\n        ],\n        \"semantic_type\": \"\",\n        \"description\": \"\"\n      }\n    },\n    {\n      \"column\": \"product_subcategory\",\n      \"properties\": {\n        \"dtype\": \"string\",\n        \"num_unique_values\": 1,\n        \"samples\": [\n          \"women's_tops\"\n        ],\n        \"semantic_type\": \"\",\n        \"description\": \"\"\n      }\n    },\n    {\n      \"column\": \"expiry_date\",\n      \"properties\": {\n        \"dtype\": \"date\",\n        \"min\": \"NaT\",\n        \"max\": \"NaT\",\n        \"num_unique_values\": 0,\n        \"samples\": [],\n        \"semantic_type\": \"\",\n        \"description\": \"\"\n      }\n    },\n    {\n      \"column\": \"seller_name\",\n      \"properties\": {\n        \"dtype\": \"string\",\n        \"num_unique_values\": 1,\n        \"samples\": [],\n        \"semantic_type\": \"\",\n        \"description\": \"\"\n      }\n    },\n    {\n      \"column\": \"updated_on_prev\",\n      \"properties\": {\n        \"dtype\": \"date\",\n        \"min\": \"2025-03-03 00:00:00\",\n        \"max\": \"2025-03-03 00:00:00\",\n        \"num_unique_values\": 1,\n        \"samples\": [],\n        \"semantic_type\": \"\",\n        \"description\": \"\"\n      }\n    },\n    {\n      \"column\": \"priority\",\n      \"properties\": {\n        \"dtype\": \"string\",\n        \"num_unique_values\": 1,\n        \"samples\": [],\n        \"semantic_type\": \"\",\n        \"description\": \"\"\n      }\n    },\n    {\n      \"column\": \"depletion\",\n      \"properties\": {\n        \"dtype\": \"number\",\n        \"std\": 0.7071067811865476,\n        \"min\": 1.0,\n        \"max\": 2.0,\n        \"num_unique_values\": 2,\n        \"samples\": [],\n        \"semantic_type\": \"\",\n        \"description\": \"\"\n      }\n    },\n    {\n      \"column\": \"time\",\n      \"properties\": {\n        \"dtype\": \"number\",\n        \"std\": 0,\n        \"min\": 9,\n        \"max\": 9,\n        \"num_unique_values\": 1,\n        \"samples\": [],\n        \"semantic_type\": \"\",\n        \"description\": \"\"\n      }\n    },\n    {\n      \"column\": \"total_units_prev\",\n      \"properties\": {\n        \"dtype\": \"number\",\n        \"std\": 0.7071067811865476,\n        \"min\": 1.0,\n        \"max\": 2.0,\n        \"num_unique_values\": 2,\n        \"samples\": [],\n        \"semantic_type\": \"\",\n        \"description\": \"\"\n      }\n    },\n    {\n      \"column\": \"total_units\",\n      \"properties\": {\n        \"dtype\": \"number\",\n        \"std\": 6.363961030678928,\n        \"min\": 11.0,\n        \"max\": 20.0,\n        \"num_unique_values\": 2,\n        \"samples\": [],\n        \"semantic_type\": \"\",\n        \"description\": \"\"\n      }\n    },\n    {\n      \"column\": \"priority_prev\",\n      \"properties\": {\n        \"dtype\": \"string\",\n        \"num_unique_values\": 1,\n        \"samples\": [],\n        \"semantic_type\": \"\",\n        \"description\": \"\"\n      }\n    },\n    {\n      \"column\": \"shelf_life_remaining_days_prev\",\n      \"properties\": {\n        \"dtype\": \"number\",\n        \"std\": null,\n        \"min\": null,\n        \"max\": null,\n        \"num_unique_values\": 0,\n        \"samples\": [],\n        \"semantic_type\": \"\",\n        \"description\": \"\"\n      }\n    },\n    {\n      \"column\": \"warehouse_country_prev\",\n      \"properties\": {\n        \"dtype\": \"string\",\n        \"num_unique_values\": 1,\n        \"samples\": [],\n        \"semantic_type\": \"\",\n        \"description\": \"\"\n      }\n    },\n    {\n      \"column\": \"destination_prev\",\n      \"properties\": {\n        \"dtype\": \"string\",\n        \"num_unique_values\": 1,\n        \"samples\": [],\n        \"semantic_type\": \"\",\n        \"description\": \"\"\n      }\n    },\n    {\n      \"column\": \"pollen_liquidated_units\",\n      \"properties\": {\n        \"dtype\": \"number\",\n        \"std\": 0.0,\n        \"min\": 0.0,\n        \"max\": 0.0,\n        \"num_unique_values\": 1,\n        \"samples\": [],\n        \"semantic_type\": \"\",\n        \"description\": \"\"\n      }\n    },\n    {\n      \"column\": \"pollen_recovery_rate_percentage\",\n      \"properties\": {\n        \"dtype\": \"number\",\n        \"std\": 0.0,\n        \"min\": 0.0,\n        \"max\": 0.0,\n        \"num_unique_values\": 1,\n        \"samples\": [],\n        \"semantic_type\": \"\",\n        \"description\": \"\"\n      }\n    }\n  ]\n}"
            }
          },
          "metadata": {},
          "execution_count": 40
        }
      ],
      "source": [
        "repeated_inv_non_core.sample(2)"
      ]
    },
    {
      "cell_type": "code",
      "execution_count": null,
      "metadata": {
        "id": "_DrB8j6OVUEZ"
      },
      "outputs": [],
      "source": []
    },
    {
      "cell_type": "markdown",
      "metadata": {
        "id": "dfNvFtrkFhAz"
      },
      "source": [
        "# Core"
      ]
    },
    {
      "cell_type": "code",
      "execution_count": null,
      "metadata": {
        "id": "hxvXFBCfFkcc"
      },
      "outputs": [],
      "source": [
        "offers = offers.rename(columns = {'seller_name' : 'seller_short'})\n",
        "\n",
        "seller_name_to_short_form = {'unilever_indonesia' : 'ulid', 'unilever_malaysia' : 'ulmy', 'unilever_philippines' : 'ulph', 'unilever_thailand' : 'ulth', 'unilever_singapore' : 'ulsg',\n",
        "                             \"l'oreal_malaysia\" : \"lomy\", \"l'oreal_philippines\" : 'loph', \"l'oreal_thailand\" : \"loth\", \"l'oreal_india\" : \"loin\", \"l'oreal_indonesia\" : \"loid\"}\n",
        "\n",
        "df_inv['updated_on'] = pd.to_datetime(df_inv['updated_on'])\n",
        "\n",
        "def apply_seller_short(x):\n",
        "  if x in seller_name_to_short_form.keys():\n",
        "    return seller_name_to_short_form[x]\n",
        "  else:\n",
        "    return x\n",
        "\n",
        "df_inv['seller_short'] = df_inv['seller_name'].apply(apply_seller_short)\n",
        "\n",
        "offers = offers[offers['expiry_date'] != '-']\n",
        "offers['expiry_date'] = pd.to_datetime(offers['expiry_date'], format = \"%d-%b-%Y\")\n",
        "df_inv['expiry_date'] = pd.to_datetime(df_inv['expiry_date'])"
      ]
    },
    {
      "cell_type": "code",
      "execution_count": null,
      "metadata": {
        "id": "1FwZJO5QFkUq"
      },
      "outputs": [],
      "source": [
        "def merge_inv_and_offer(df_inv, df_offer):\n",
        "  df_inv = pd.merge(df_inv, df_offer[['sku_number', 'expiry_date', 'seller_short', 'date_of_offer', 'actual', 'tracking_no', 'buyer', 'total_units_ordered',\n",
        "                                      'recovery_rate_percentage', 'offer_price_per_unit_usd', 'total_order_price_usd', 'destination']], 'left', on = ['sku_number', 'expiry_date', 'seller_short'])\n",
        "  df_inv['offer_day_diff_updated_inv'] = (df_inv['date_of_offer'] - df_inv['updated_on']).dt.days\n",
        "  df_inv = df_inv[(df_inv.offer_day_diff_updated_inv >= 0) | (df_inv.offer_day_diff_updated_inv.isnull())]\n",
        "  df_min_offer_day_diff_updated_inv = df_inv.groupby(['sku_number', 'expiry_date', 'seller_short', 'date_of_offer']).agg({'offer_day_diff_updated_inv' : 'min'}).reset_index()\\\n",
        "                                      .rename(columns = {'offer_day_diff_updated_inv' : 'min_offer_day_diff_updated_inv'})\n",
        "  df_inv = pd.merge(df_inv, df_min_offer_day_diff_updated_inv, 'left', on = ['sku_number', 'expiry_date', 'seller_short', 'date_of_offer'])\n",
        "  df_inv = df_inv[(df_inv.offer_day_diff_updated_inv == df_inv.min_offer_day_diff_updated_inv) | (df_inv.offer_day_diff_updated_inv.isnull())]\n",
        "  df_inv.drop('min_offer_day_diff_updated_inv', axis = 1, inplace = True)\n",
        "  return df_inv"
      ]
    },
    {
      "cell_type": "code",
      "execution_count": null,
      "metadata": {
        "id": "FcCmJjOMFkPj"
      },
      "outputs": [],
      "source": [
        "df_inv = merge_inv_and_offer(df_inv, offers)\n",
        "df_inv['total_units_ordered'] = df_inv['total_units_ordered'].fillna(0)\n",
        "# df_inv['sell_thru_rate'] = df_inv['total_units_ordered'] / df_inv['total_number_of_items']\n",
        "# df_inv['sell_thru_rate'] = np.where(df_inv['sell_thru_rate'] > 1, 1, df_inv['sell_thru_rate'])\n",
        "df_inv['shelf_life_remaining_days'] = (df_inv['expiry_date'] - df_inv['updated_on']).dt.days"
      ]
    },
    {
      "cell_type": "code",
      "execution_count": null,
      "metadata": {
        "id": "EoegAqeHdG4Y"
      },
      "outputs": [],
      "source": []
    },
    {
      "cell_type": "code",
      "execution_count": null,
      "metadata": {
        "colab": {
          "base_uri": "https://localhost:8080/"
        },
        "id": "_ljdmEiVeoYF",
        "outputId": "df7664c1-7574-4a59-bc59-a81d1de6f87e",
        "collapsed": true
      },
      "outputs": [
        {
          "output_type": "stream",
          "name": "stdout",
          "text": [
            "Silhouette Score (excluding noise): 0.8465\n"
          ]
        }
      ],
      "source": [
        "df_cluster = df_inv[['total_number_of_items', 'seller_name', 'warehouse_country', 'priority', 'retail_price_per_unit_usd', 'asking_price_per_unit_usd',\n",
        "        'brand', 'product_category', 'product_subcategory']]\n",
        "\n",
        "categorical_cols = ['priority', 'warehouse_country', 'brand', 'product_category', 'product_subcategory', 'seller_name']\n",
        "df_encoded = df_cluster.copy()\n",
        "le_dict = {}\n",
        "\n",
        "for col in categorical_cols:\n",
        "    le = LabelEncoder()\n",
        "    df_encoded[col] = df_encoded[col].astype(str)  # convert NaNs to string \"nan\"\n",
        "    df_encoded[col] = le.fit_transform(df_encoded[col])\n",
        "    le_dict[col] = le\n",
        "\n",
        "# Step 2: Apply IterativeImputer for missing values\n",
        "imputer = IterativeImputer(random_state=42)\n",
        "X_imputed = imputer.fit_transform(df_encoded)\n",
        "\n",
        "# Step 3: Standardize the features\n",
        "scaler = StandardScaler()\n",
        "X_scaled = scaler.fit_transform(X_imputed)\n",
        "\n",
        "\n",
        "\n",
        "# Step 4: Run DBSCAN\n",
        "model = DBSCAN(eps=0.5, min_samples=200)\n",
        "# model = MeanShift(bin_seeding = True)\n",
        "df_cluster['cluster'] = model.fit_predict(X_scaled)\n",
        "\n",
        "labels = df_cluster['cluster'].values\n",
        "n_clusters = len(set(labels)) - (1 if -1 in labels else 0)\n",
        "\n",
        "if n_clusters >= 2:\n",
        "    # Remove noise points for silhouette score\n",
        "    mask = labels != -1\n",
        "    score = silhouette_score(X_scaled[mask], labels[mask])\n",
        "    print(f\"Silhouette Score (excluding noise): {score:.4f}\")\n",
        "else:\n",
        "    print(\"Silhouette Score cannot be computed (requires at least 2 clusters excluding noise).\")"
      ]
    },
    {
      "cell_type": "code",
      "execution_count": null,
      "metadata": {
        "colab": {
          "base_uri": "https://localhost:8080/"
        },
        "id": "qgKzQoo02HrX",
        "outputId": "c4296559-f50c-4f89-ed48-a8a5ccb488b6"
      },
      "outputs": [
        {
          "output_type": "execute_result",
          "data": {
            "text/plain": [
              "array([-1,  0,  1,  2,  3,  4,  5,  6,  7,  8,  9, 10, 11, 12, 13, 14, 15,\n",
              "       16, 17, 18, 19, 20, 21, 22, 23, 24, 25, 26, 27, 28, 29, 30, 31, 32,\n",
              "       33, 34, 35, 36, 37, 38, 39, 40, 41, 42, 43, 47, 44, 45, 46, 48, 49,\n",
              "       50, 51, 52, 53, 54, 55, 56, 57, 58, 59, 60, 61, 62, 63, 64, 65, 66,\n",
              "       67, 68, 69, 70])"
            ]
          },
          "metadata": {},
          "execution_count": 45
        }
      ],
      "source": [
        "df_inv['cluster'] = df_cluster['cluster']\n",
        "df_inv['cluster'].unique()"
      ]
    },
    {
      "cell_type": "code",
      "execution_count": null,
      "metadata": {
        "id": "dIdcOa70VEKc"
      },
      "outputs": [],
      "source": [
        "temp = df_inv.groupby('cluster')['destination'].value_counts().rename('counts').reset_index()\n",
        "temp = temp.groupby('cluster').destination.first().reset_index()\n",
        "cluster_to_popular_destination_country = dict(zip(temp.cluster, temp.destination))\n",
        "DEFAULT = df_inv['destination'].mode().values[0]"
      ]
    },
    {
      "cell_type": "code",
      "execution_count": null,
      "metadata": {
        "id": "b-lprWOr1F-m"
      },
      "outputs": [],
      "source": [
        "def set_destination(x):\n",
        "  if pd.isna(x['destination']) and x['cluster'] in cluster_to_popular_destination_country:\n",
        "    return cluster_to_popular_destination_country[x['cluster']]\n",
        "  elif pd.isna(x['destination']) and x['cluster'] not in cluster_to_popular_destination_country:\n",
        "    return DEFAULT\n",
        "  else:\n",
        "    return x['destination']\n",
        "\n",
        "df_inv['destination'] = df_inv.apply(set_destination, axis = 1)\n",
        "df_inv = df_inv.drop('cluster', axis = 1)"
      ]
    },
    {
      "cell_type": "code",
      "execution_count": null,
      "metadata": {
        "id": "pe2SQIED5xor"
      },
      "outputs": [],
      "source": []
    },
    {
      "cell_type": "code",
      "execution_count": null,
      "metadata": {
        "id": "uI9W4g7I3Xvn"
      },
      "outputs": [],
      "source": [
        "# dropping duplicates considering all columns except the ids\n",
        "k = list(set(df_inv.columns) - set([i for i in df_inv.columns if i.endswith('id')]))\n",
        "df_inv = df_inv.drop_duplicates(subset = k)"
      ]
    },
    {
      "cell_type": "code",
      "execution_count": null,
      "metadata": {
        "id": "MIFee0UZFyt3"
      },
      "outputs": [],
      "source": [
        "df_inv = df_inv.rename(columns = {'total_number_of_items' : 'total_units'})\n",
        "df_inv['updated_on'] = pd.to_datetime(df_inv['updated_on'])\n",
        "df_inv['expiry_date'] = pd.to_datetime(df_inv['expiry_date'])\n",
        "df_inv = df_inv[df_inv.sku_number != '']\n",
        "df_inv['shelf_life_remaining_days'] = (df_inv['expiry_date'] - df_inv['updated_on']).dt.days\n",
        "\n",
        "def remove_percent_sign(x):\n",
        "  if pd.isna(x):\n",
        "    return x\n",
        "  else:\n",
        "    return x[:-1]\n",
        "df_inv['recovery_rate_percentage'] = df_inv['recovery_rate_percentage'].apply(remove_percent_sign)\n",
        "df_inv['recovery_rate_percentage'] = np.where(df_inv['recovery_rate_percentage'] == '', np.nan, df_inv['recovery_rate_percentage'])\n",
        "df_inv['recovery_rate_percentage'] = df_inv['recovery_rate_percentage'].astype(float)\n",
        "df_inv['recovery_rate_percentage'] = np.where(df_inv['recovery_rate_percentage'].isnull(), 0 , df_inv['recovery_rate_percentage'])"
      ]
    },
    {
      "cell_type": "code",
      "execution_count": null,
      "metadata": {
        "id": "90asPxknGUNy"
      },
      "outputs": [],
      "source": [
        "key_to_total_units_ordered = df_inv.groupby(['sku_number', 'seller_name', 'expiry_date', 'updated_on']).agg({'total_units_ordered' : 'sum'}).reset_index().rename(columns =\n",
        "                                                {'total_units_ordered' : 'total_units_ordered_sum'})\n",
        "df_inv = pd.merge(df_inv, key_to_total_units_ordered, 'left', on = ['sku_number', 'seller_name', 'expiry_date', 'updated_on'])"
      ]
    },
    {
      "cell_type": "code",
      "execution_count": null,
      "metadata": {
        "id": "BoUevGtiJ_c6"
      },
      "outputs": [],
      "source": []
    },
    {
      "cell_type": "code",
      "execution_count": null,
      "metadata": {
        "id": "vg3_Tni1MUR7"
      },
      "outputs": [],
      "source": [
        "temp = df_inv[['sku_number', 'brand', 'product_category', 'product_subcategory', 'expiry_date', 'seller_name', 'updated_on', 'priority', 'total_units',\n",
        "               'shelf_life_remaining_days', 'warehouse_country', 'destination', 'total_units_ordered_sum', 'recovery_rate_percentage']]\\\n",
        "                  .sort_values(by = ['sku_number', 'brand', 'product_category', 'product_subcategory', 'expiry_date', 'seller_name', 'updated_on', 'priority', 'warehouse_country', 'destination'])\n",
        "temp = temp.reset_index(drop = True)"
      ]
    },
    {
      "cell_type": "code",
      "execution_count": null,
      "metadata": {
        "colab": {
          "base_uri": "https://localhost:8080/"
        },
        "id": "FkC6NPkPxq34",
        "outputId": "18296629-4c58-4dfc-d28c-35fa0779a641"
      },
      "outputs": [
        {
          "output_type": "stream",
          "name": "stdout",
          "text": [
            "(54892, 14)\n",
            "(51240, 14)\n"
          ]
        }
      ],
      "source": [
        "print(temp.shape)\n",
        "print(temp.drop_duplicates(subset = ['sku_number', 'brand', 'product_category', 'product_subcategory', 'expiry_date', 'seller_name', 'updated_on', 'priority', 'total_units']).shape)"
      ]
    },
    {
      "cell_type": "code",
      "execution_count": null,
      "metadata": {
        "id": "0c651VmXMl0I"
      },
      "outputs": [],
      "source": [
        "def get_prev_inv_occurence_next_to_current(temp):\n",
        "  new_col_names_for_shifted_inv = dict()\n",
        "  for i in temp.columns:\n",
        "    new_col_names_for_shifted_inv[i] = i+'_prev'\n",
        "\n",
        "  temp_shifted = temp.shift(1)\n",
        "  temp_shifted = temp_shifted.rename(columns = new_col_names_for_shifted_inv)\n",
        "  temp = pd.concat([temp, temp_shifted], axis=1)\n",
        "  return temp\n",
        "\n",
        "def get_repeated_inv_and_mean_depletion(temp):\n",
        "  repeated_inv = temp[(temp.sku_number == temp.sku_number_prev) & (temp.expiry_date == temp.expiry_date_prev) & (temp.seller_name == temp.seller_name_prev)]\n",
        "  repeated_inv['depletion'] = repeated_inv['total_units_prev'] - repeated_inv['total_units']\n",
        "  repeated_inv['time'] = (repeated_inv['updated_on'] - repeated_inv['updated_on_prev']).dt.days\n",
        "  repeated_inv = repeated_inv.drop_duplicates(subset = ['sku_number', 'brand', 'product_category', 'product_subcategory', 'expiry_date', \\\n",
        "                            'seller_name', 'updated_on', 'priority'])[['sku_number', 'brand', 'product_category', 'product_subcategory', 'expiry_date', 'seller_name', 'updated_on_prev',\\\n",
        "                                                                        'priority', 'depletion', 'time', 'total_units_prev', 'total_units', 'priority_prev',\\\n",
        "                                                                        'shelf_life_remaining_days_prev', 'warehouse_country_prev', 'destination_prev',\n",
        "                                                                       'total_units_ordered_sum_prev', 'recovery_rate_percentage_prev']]\n",
        "  return repeated_inv"
      ]
    },
    {
      "cell_type": "code",
      "execution_count": null,
      "metadata": {
        "id": "_thMdboZOOqW"
      },
      "outputs": [],
      "source": [
        "temp = get_prev_inv_occurence_next_to_current(temp)\n",
        "repeated_inv = get_repeated_inv_and_mean_depletion(temp)\n",
        "\n",
        "# since current was match to previous, hence correcting the current row previous priority order to previous one\n",
        "repeated_inv['priority'] = np.where(repeated_inv.priority != repeated_inv.priority_prev, repeated_inv.priority_prev, repeated_inv.priority)"
      ]
    },
    {
      "cell_type": "code",
      "execution_count": null,
      "metadata": {
        "colab": {
          "base_uri": "https://localhost:8080/"
        },
        "id": "CmFBhhXLOhxN",
        "outputId": "d8c2966b-301c-48ae-d0f7-51c987a82fad"
      },
      "outputs": [
        {
          "output_type": "stream",
          "name": "stdout",
          "text": [
            "(2899, 18)\n",
            "Removing above number of rows as sales cycle is fixed to 90 days max for any cat or sub cat after which it is assumed to finish\n"
          ]
        }
      ],
      "source": [
        "print(repeated_inv[repeated_inv.time > 90].shape)\n",
        "print('Removing above number of rows as sales cycle is fixed to 90 days max for any cat or sub cat after which it is assumed to finish')\n",
        "repeated_inv = repeated_inv[repeated_inv.time <= 90]"
      ]
    },
    {
      "cell_type": "code",
      "execution_count": null,
      "metadata": {
        "id": "NAQc1SaEQXvF"
      },
      "outputs": [],
      "source": [
        "mean_depletion_per_cat_core_inv = repeated_inv.groupby(['product_category']).depletion.mean().reset_index().sort_values(by = 'depletion')"
      ]
    },
    {
      "cell_type": "code",
      "execution_count": null,
      "metadata": {
        "id": "q2FAqnjYMBcN"
      },
      "outputs": [],
      "source": [
        "low_depletion_cats = list(mean_depletion_per_cat_core_inv[mean_depletion_per_cat_core_inv['depletion'] <= mean_depletion_per_cat_core_inv.depletion.quantile(0.33)].product_category)\n",
        "mid_depletion_cats = list(mean_depletion_per_cat_core_inv[mean_depletion_per_cat_core_inv['depletion'] <= mean_depletion_per_cat_core_inv.depletion.quantile(0.67)].product_category)\n",
        "mid_depletion_cats = [i for i in mid_depletion_cats if i not in low_depletion_cats]\n",
        "high_depletion_cats = list(mean_depletion_per_cat_core_inv[mean_depletion_per_cat_core_inv['depletion'] <= mean_depletion_per_cat_core_inv.depletion.quantile(1)].product_category)\n",
        "high_depletion_cats = [i for i in high_depletion_cats if i not in low_depletion_cats + mid_depletion_cats]"
      ]
    },
    {
      "cell_type": "code",
      "execution_count": null,
      "metadata": {
        "colab": {
          "base_uri": "https://localhost:8080/"
        },
        "id": "QZJKdJcsMyKo",
        "outputId": "52b9137a-8bb6-4fe7-b8e2-29de48ccc131"
      },
      "outputs": [
        {
          "output_type": "stream",
          "name": "stdout",
          "text": [
            "['beverages', 'fashion_-_accessories', 'home', 'oral_care'] \n",
            " ['makeup', 'fragrance', 'skin_care'] \n",
            " ['baby', 'hair_care', 'home_care', 'food']\n"
          ]
        }
      ],
      "source": [
        "print(low_depletion_cats, '\\n', mid_depletion_cats, '\\n', high_depletion_cats)"
      ]
    },
    {
      "cell_type": "code",
      "execution_count": null,
      "metadata": {
        "id": "DMG6uFcoTq65"
      },
      "outputs": [],
      "source": [
        "# do disposal correction"
      ]
    },
    {
      "cell_type": "code",
      "execution_count": null,
      "metadata": {
        "id": "TtYxwC2dTJnI"
      },
      "outputs": [],
      "source": [
        "def set_depletion(row):\n",
        "  if row['depletion'] < 0:\n",
        "    return row['total_units_prev']\n",
        "  elif row['product_category'] in high_depletion_cats and row['time'] <= 20:\n",
        "    return row['depletion']\n",
        "  elif row['product_category'] in high_depletion_cats and row['time'] > 20:\n",
        "    return row['total_units_prev']\n",
        "  elif row['product_category'] in mid_depletion_cats and row['time'] <= 45:\n",
        "    return row['depletion']\n",
        "  elif row['product_category'] in mid_depletion_cats and row['time'] > 45:\n",
        "    return row['total_units_prev']\n",
        "  elif row['product_category'] in low_depletion_cats and row['time'] <= 60:\n",
        "    return row['depletion']\n",
        "  elif row['product_category'] in low_depletion_cats and row['time'] > 60:\n",
        "    return row['total_units_prev']"
      ]
    },
    {
      "cell_type": "code",
      "execution_count": null,
      "metadata": {
        "id": "wBfKNPs6POuc"
      },
      "outputs": [],
      "source": [
        "repeated_inv['depletion'] = repeated_inv.apply(set_depletion, axis=1)\n",
        "repeated_inv = repeated_inv.reset_index(drop = True)"
      ]
    },
    {
      "cell_type": "code",
      "execution_count": null,
      "metadata": {
        "id": "f2Ll-s-0Jgcw"
      },
      "outputs": [],
      "source": [
        "repeated_inv = repeated_inv.rename(columns = {'total_units_ordered_sum_prev' : 'pollen_liquidated_units', 'recovery_rate_percentage_prev' : 'pollen_recovery_rate_percentage'})"
      ]
    },
    {
      "cell_type": "code",
      "execution_count": null,
      "metadata": {
        "id": "KnNZd0sBWfeD"
      },
      "outputs": [],
      "source": []
    },
    {
      "cell_type": "code",
      "execution_count": null,
      "metadata": {
        "id": "fP5Rg57JRrp4"
      },
      "outputs": [],
      "source": [
        "COLUMNS_FOR_DEPLETION_MODELING = ['sku_number', 'brand', 'product_category', 'product_subcategory', 'seller_name', 'time']"
      ]
    },
    {
      "cell_type": "code",
      "execution_count": null,
      "metadata": {
        "colab": {
          "base_uri": "https://localhost:8080/"
        },
        "id": "IJK0EGHva7EN",
        "outputId": "e0e64351-cb97-4608-c2f0-28dd423d151b"
      },
      "outputs": [
        {
          "output_type": "stream",
          "name": "stdout",
          "text": [
            "(19109, 15) (2237, 15)\n"
          ]
        }
      ],
      "source": [
        "repeated_inv = repeated_inv[COLUMNS_FOR_DEPLETION_MODELING + ['updated_on_prev', 'priority', 'total_units_prev', 'depletion', 'shelf_life_remaining_days_prev', 'warehouse_country_prev',\n",
        "                                                              'destination_prev', 'pollen_liquidated_units', 'pollen_recovery_rate_percentage']]\n",
        "repeated_inv_non_core = repeated_inv_non_core[COLUMNS_FOR_DEPLETION_MODELING + ['updated_on_prev', 'priority', 'total_units_prev', 'depletion', 'shelf_life_remaining_days_prev',\n",
        "                                                                                'warehouse_country_prev', 'destination_prev', 'pollen_liquidated_units', 'pollen_recovery_rate_percentage']]\n",
        "print(repeated_inv.shape, repeated_inv_non_core.shape)"
      ]
    },
    {
      "cell_type": "code",
      "execution_count": null,
      "metadata": {
        "colab": {
          "base_uri": "https://localhost:8080/"
        },
        "id": "ZY4vKZ60rJi8",
        "outputId": "6b07880e-038c-4e04-c5b2-06bdc169f561"
      },
      "outputs": [
        {
          "output_type": "execute_result",
          "data": {
            "text/plain": [
              "(21346, 15)"
            ]
          },
          "metadata": {},
          "execution_count": 65
        }
      ],
      "source": [
        "repeated_inv = pd.concat([repeated_inv, repeated_inv_non_core], ignore_index=True)\n",
        "repeated_inv['destination_prev'] = repeated_inv['destination_prev'].str.lower().str.replace(' ', '_')\n",
        "repeated_inv.depletion['depletion'] = np.where(repeated_inv.depletion < repeated_inv.pollen_liquidated_units, repeated_inv.pollen_liquidated_units, repeated_inv.depletion)\n",
        "repeated_inv.shape"
      ]
    },
    {
      "cell_type": "code",
      "source": [
        "repeated_inv['destination_prev'].unique()"
      ],
      "metadata": {
        "colab": {
          "base_uri": "https://localhost:8080/"
        },
        "id": "3l1hgIFyE21k",
        "outputId": "5fa4fd8f-0085-49c6-c761-2fe63d701002"
      },
      "execution_count": null,
      "outputs": [
        {
          "output_type": "execute_result",
          "data": {
            "text/plain": [
              "array(['indonesia', 'afghanistan', 'uae', 'singapore', 'bangladesh',\n",
              "       'pakistan', 'iran', 'malaysia', 'africa', 'india', 'hong_kong',\n",
              "       'new_zealand', 'myanmar', 'philippines', 'czech_republic',\n",
              "       'thailand'], dtype=object)"
            ]
          },
          "metadata": {},
          "execution_count": 66
        }
      ]
    },
    {
      "cell_type": "code",
      "execution_count": null,
      "metadata": {
        "colab": {
          "base_uri": "https://localhost:8080/",
          "height": 132
        },
        "id": "o0SuZjAAKaVx",
        "outputId": "64d79ba2-7a09-4faa-f8a5-ff54bdbeea8e"
      },
      "outputs": [
        {
          "output_type": "execute_result",
          "data": {
            "text/plain": [
              "      sku_number brand product_category product_subcategory  seller_name  \\\n",
              "20004   E2S02860  home     home_-_other        women's_tops  excess2sell   \n",
              "19238  3CEID0018  3_ce           makeup          eye_makeup         eblo   \n",
              "\n",
              "       time updated_on_prev priority  total_units_prev  depletion  \\\n",
              "20004     9      2025-03-03       p3               1.0        1.0   \n",
              "19238    72      2023-08-14       p1               5.0        5.0   \n",
              "\n",
              "       shelf_life_remaining_days_prev warehouse_country_prev destination_prev  \\\n",
              "20004                             NaN                  india        indonesia   \n",
              "19238                           371.0                   None        indonesia   \n",
              "\n",
              "       pollen_liquidated_units  pollen_recovery_rate_percentage  \n",
              "20004                      0.0                              0.0  \n",
              "19238                      0.0                              0.0  "
            ],
            "text/html": [
              "\n",
              "  <div id=\"df-b73dcd0d-6830-49c2-adf5-0185e27ca4a2\" class=\"colab-df-container\">\n",
              "    <div>\n",
              "<style scoped>\n",
              "    .dataframe tbody tr th:only-of-type {\n",
              "        vertical-align: middle;\n",
              "    }\n",
              "\n",
              "    .dataframe tbody tr th {\n",
              "        vertical-align: top;\n",
              "    }\n",
              "\n",
              "    .dataframe thead th {\n",
              "        text-align: right;\n",
              "    }\n",
              "</style>\n",
              "<table border=\"1\" class=\"dataframe\">\n",
              "  <thead>\n",
              "    <tr style=\"text-align: right;\">\n",
              "      <th></th>\n",
              "      <th>sku_number</th>\n",
              "      <th>brand</th>\n",
              "      <th>product_category</th>\n",
              "      <th>product_subcategory</th>\n",
              "      <th>seller_name</th>\n",
              "      <th>time</th>\n",
              "      <th>updated_on_prev</th>\n",
              "      <th>priority</th>\n",
              "      <th>total_units_prev</th>\n",
              "      <th>depletion</th>\n",
              "      <th>shelf_life_remaining_days_prev</th>\n",
              "      <th>warehouse_country_prev</th>\n",
              "      <th>destination_prev</th>\n",
              "      <th>pollen_liquidated_units</th>\n",
              "      <th>pollen_recovery_rate_percentage</th>\n",
              "    </tr>\n",
              "  </thead>\n",
              "  <tbody>\n",
              "    <tr>\n",
              "      <th>20004</th>\n",
              "      <td>E2S02860</td>\n",
              "      <td>home</td>\n",
              "      <td>home_-_other</td>\n",
              "      <td>women's_tops</td>\n",
              "      <td>excess2sell</td>\n",
              "      <td>9</td>\n",
              "      <td>2025-03-03</td>\n",
              "      <td>p3</td>\n",
              "      <td>1.0</td>\n",
              "      <td>1.0</td>\n",
              "      <td>NaN</td>\n",
              "      <td>india</td>\n",
              "      <td>indonesia</td>\n",
              "      <td>0.0</td>\n",
              "      <td>0.0</td>\n",
              "    </tr>\n",
              "    <tr>\n",
              "      <th>19238</th>\n",
              "      <td>3CEID0018</td>\n",
              "      <td>3_ce</td>\n",
              "      <td>makeup</td>\n",
              "      <td>eye_makeup</td>\n",
              "      <td>eblo</td>\n",
              "      <td>72</td>\n",
              "      <td>2023-08-14</td>\n",
              "      <td>p1</td>\n",
              "      <td>5.0</td>\n",
              "      <td>5.0</td>\n",
              "      <td>371.0</td>\n",
              "      <td>None</td>\n",
              "      <td>indonesia</td>\n",
              "      <td>0.0</td>\n",
              "      <td>0.0</td>\n",
              "    </tr>\n",
              "  </tbody>\n",
              "</table>\n",
              "</div>\n",
              "    <div class=\"colab-df-buttons\">\n",
              "\n",
              "  <div class=\"colab-df-container\">\n",
              "    <button class=\"colab-df-convert\" onclick=\"convertToInteractive('df-b73dcd0d-6830-49c2-adf5-0185e27ca4a2')\"\n",
              "            title=\"Convert this dataframe to an interactive table.\"\n",
              "            style=\"display:none;\">\n",
              "\n",
              "  <svg xmlns=\"http://www.w3.org/2000/svg\" height=\"24px\" viewBox=\"0 -960 960 960\">\n",
              "    <path d=\"M120-120v-720h720v720H120Zm60-500h600v-160H180v160Zm220 220h160v-160H400v160Zm0 220h160v-160H400v160ZM180-400h160v-160H180v160Zm440 0h160v-160H620v160ZM180-180h160v-160H180v160Zm440 0h160v-160H620v160Z\"/>\n",
              "  </svg>\n",
              "    </button>\n",
              "\n",
              "  <style>\n",
              "    .colab-df-container {\n",
              "      display:flex;\n",
              "      gap: 12px;\n",
              "    }\n",
              "\n",
              "    .colab-df-convert {\n",
              "      background-color: #E8F0FE;\n",
              "      border: none;\n",
              "      border-radius: 50%;\n",
              "      cursor: pointer;\n",
              "      display: none;\n",
              "      fill: #1967D2;\n",
              "      height: 32px;\n",
              "      padding: 0 0 0 0;\n",
              "      width: 32px;\n",
              "    }\n",
              "\n",
              "    .colab-df-convert:hover {\n",
              "      background-color: #E2EBFA;\n",
              "      box-shadow: 0px 1px 2px rgba(60, 64, 67, 0.3), 0px 1px 3px 1px rgba(60, 64, 67, 0.15);\n",
              "      fill: #174EA6;\n",
              "    }\n",
              "\n",
              "    .colab-df-buttons div {\n",
              "      margin-bottom: 4px;\n",
              "    }\n",
              "\n",
              "    [theme=dark] .colab-df-convert {\n",
              "      background-color: #3B4455;\n",
              "      fill: #D2E3FC;\n",
              "    }\n",
              "\n",
              "    [theme=dark] .colab-df-convert:hover {\n",
              "      background-color: #434B5C;\n",
              "      box-shadow: 0px 1px 3px 1px rgba(0, 0, 0, 0.15);\n",
              "      filter: drop-shadow(0px 1px 2px rgba(0, 0, 0, 0.3));\n",
              "      fill: #FFFFFF;\n",
              "    }\n",
              "  </style>\n",
              "\n",
              "    <script>\n",
              "      const buttonEl =\n",
              "        document.querySelector('#df-b73dcd0d-6830-49c2-adf5-0185e27ca4a2 button.colab-df-convert');\n",
              "      buttonEl.style.display =\n",
              "        google.colab.kernel.accessAllowed ? 'block' : 'none';\n",
              "\n",
              "      async function convertToInteractive(key) {\n",
              "        const element = document.querySelector('#df-b73dcd0d-6830-49c2-adf5-0185e27ca4a2');\n",
              "        const dataTable =\n",
              "          await google.colab.kernel.invokeFunction('convertToInteractive',\n",
              "                                                    [key], {});\n",
              "        if (!dataTable) return;\n",
              "\n",
              "        const docLinkHtml = 'Like what you see? Visit the ' +\n",
              "          '<a target=\"_blank\" href=https://colab.research.google.com/notebooks/data_table.ipynb>data table notebook</a>'\n",
              "          + ' to learn more about interactive tables.';\n",
              "        element.innerHTML = '';\n",
              "        dataTable['output_type'] = 'display_data';\n",
              "        await google.colab.output.renderOutput(dataTable, element);\n",
              "        const docLink = document.createElement('div');\n",
              "        docLink.innerHTML = docLinkHtml;\n",
              "        element.appendChild(docLink);\n",
              "      }\n",
              "    </script>\n",
              "  </div>\n",
              "\n",
              "\n",
              "    <div id=\"df-4e9c60e6-ea66-4a5d-bff8-580c9d4b65b6\">\n",
              "      <button class=\"colab-df-quickchart\" onclick=\"quickchart('df-4e9c60e6-ea66-4a5d-bff8-580c9d4b65b6')\"\n",
              "                title=\"Suggest charts\"\n",
              "                style=\"display:none;\">\n",
              "\n",
              "<svg xmlns=\"http://www.w3.org/2000/svg\" height=\"24px\"viewBox=\"0 0 24 24\"\n",
              "     width=\"24px\">\n",
              "    <g>\n",
              "        <path d=\"M19 3H5c-1.1 0-2 .9-2 2v14c0 1.1.9 2 2 2h14c1.1 0 2-.9 2-2V5c0-1.1-.9-2-2-2zM9 17H7v-7h2v7zm4 0h-2V7h2v10zm4 0h-2v-4h2v4z\"/>\n",
              "    </g>\n",
              "</svg>\n",
              "      </button>\n",
              "\n",
              "<style>\n",
              "  .colab-df-quickchart {\n",
              "      --bg-color: #E8F0FE;\n",
              "      --fill-color: #1967D2;\n",
              "      --hover-bg-color: #E2EBFA;\n",
              "      --hover-fill-color: #174EA6;\n",
              "      --disabled-fill-color: #AAA;\n",
              "      --disabled-bg-color: #DDD;\n",
              "  }\n",
              "\n",
              "  [theme=dark] .colab-df-quickchart {\n",
              "      --bg-color: #3B4455;\n",
              "      --fill-color: #D2E3FC;\n",
              "      --hover-bg-color: #434B5C;\n",
              "      --hover-fill-color: #FFFFFF;\n",
              "      --disabled-bg-color: #3B4455;\n",
              "      --disabled-fill-color: #666;\n",
              "  }\n",
              "\n",
              "  .colab-df-quickchart {\n",
              "    background-color: var(--bg-color);\n",
              "    border: none;\n",
              "    border-radius: 50%;\n",
              "    cursor: pointer;\n",
              "    display: none;\n",
              "    fill: var(--fill-color);\n",
              "    height: 32px;\n",
              "    padding: 0;\n",
              "    width: 32px;\n",
              "  }\n",
              "\n",
              "  .colab-df-quickchart:hover {\n",
              "    background-color: var(--hover-bg-color);\n",
              "    box-shadow: 0 1px 2px rgba(60, 64, 67, 0.3), 0 1px 3px 1px rgba(60, 64, 67, 0.15);\n",
              "    fill: var(--button-hover-fill-color);\n",
              "  }\n",
              "\n",
              "  .colab-df-quickchart-complete:disabled,\n",
              "  .colab-df-quickchart-complete:disabled:hover {\n",
              "    background-color: var(--disabled-bg-color);\n",
              "    fill: var(--disabled-fill-color);\n",
              "    box-shadow: none;\n",
              "  }\n",
              "\n",
              "  .colab-df-spinner {\n",
              "    border: 2px solid var(--fill-color);\n",
              "    border-color: transparent;\n",
              "    border-bottom-color: var(--fill-color);\n",
              "    animation:\n",
              "      spin 1s steps(1) infinite;\n",
              "  }\n",
              "\n",
              "  @keyframes spin {\n",
              "    0% {\n",
              "      border-color: transparent;\n",
              "      border-bottom-color: var(--fill-color);\n",
              "      border-left-color: var(--fill-color);\n",
              "    }\n",
              "    20% {\n",
              "      border-color: transparent;\n",
              "      border-left-color: var(--fill-color);\n",
              "      border-top-color: var(--fill-color);\n",
              "    }\n",
              "    30% {\n",
              "      border-color: transparent;\n",
              "      border-left-color: var(--fill-color);\n",
              "      border-top-color: var(--fill-color);\n",
              "      border-right-color: var(--fill-color);\n",
              "    }\n",
              "    40% {\n",
              "      border-color: transparent;\n",
              "      border-right-color: var(--fill-color);\n",
              "      border-top-color: var(--fill-color);\n",
              "    }\n",
              "    60% {\n",
              "      border-color: transparent;\n",
              "      border-right-color: var(--fill-color);\n",
              "    }\n",
              "    80% {\n",
              "      border-color: transparent;\n",
              "      border-right-color: var(--fill-color);\n",
              "      border-bottom-color: var(--fill-color);\n",
              "    }\n",
              "    90% {\n",
              "      border-color: transparent;\n",
              "      border-bottom-color: var(--fill-color);\n",
              "    }\n",
              "  }\n",
              "</style>\n",
              "\n",
              "      <script>\n",
              "        async function quickchart(key) {\n",
              "          const quickchartButtonEl =\n",
              "            document.querySelector('#' + key + ' button');\n",
              "          quickchartButtonEl.disabled = true;  // To prevent multiple clicks.\n",
              "          quickchartButtonEl.classList.add('colab-df-spinner');\n",
              "          try {\n",
              "            const charts = await google.colab.kernel.invokeFunction(\n",
              "                'suggestCharts', [key], {});\n",
              "          } catch (error) {\n",
              "            console.error('Error during call to suggestCharts:', error);\n",
              "          }\n",
              "          quickchartButtonEl.classList.remove('colab-df-spinner');\n",
              "          quickchartButtonEl.classList.add('colab-df-quickchart-complete');\n",
              "        }\n",
              "        (() => {\n",
              "          let quickchartButtonEl =\n",
              "            document.querySelector('#df-4e9c60e6-ea66-4a5d-bff8-580c9d4b65b6 button');\n",
              "          quickchartButtonEl.style.display =\n",
              "            google.colab.kernel.accessAllowed ? 'block' : 'none';\n",
              "        })();\n",
              "      </script>\n",
              "    </div>\n",
              "\n",
              "    </div>\n",
              "  </div>\n"
            ],
            "application/vnd.google.colaboratory.intrinsic+json": {
              "type": "dataframe",
              "summary": "{\n  \"name\": \"repeated_inv\",\n  \"rows\": 2,\n  \"fields\": [\n    {\n      \"column\": \"sku_number\",\n      \"properties\": {\n        \"dtype\": \"string\",\n        \"num_unique_values\": 2,\n        \"samples\": [\n          \"3CEID0018\",\n          \"E2S02860\"\n        ],\n        \"semantic_type\": \"\",\n        \"description\": \"\"\n      }\n    },\n    {\n      \"column\": \"brand\",\n      \"properties\": {\n        \"dtype\": \"string\",\n        \"num_unique_values\": 2,\n        \"samples\": [\n          \"3_ce\",\n          \"home\"\n        ],\n        \"semantic_type\": \"\",\n        \"description\": \"\"\n      }\n    },\n    {\n      \"column\": \"product_category\",\n      \"properties\": {\n        \"dtype\": \"string\",\n        \"num_unique_values\": 2,\n        \"samples\": [\n          \"makeup\",\n          \"home_-_other\"\n        ],\n        \"semantic_type\": \"\",\n        \"description\": \"\"\n      }\n    },\n    {\n      \"column\": \"product_subcategory\",\n      \"properties\": {\n        \"dtype\": \"string\",\n        \"num_unique_values\": 2,\n        \"samples\": [\n          \"eye_makeup\",\n          \"women's_tops\"\n        ],\n        \"semantic_type\": \"\",\n        \"description\": \"\"\n      }\n    },\n    {\n      \"column\": \"seller_name\",\n      \"properties\": {\n        \"dtype\": \"string\",\n        \"num_unique_values\": 2,\n        \"samples\": [\n          \"eblo\",\n          \"excess2sell\"\n        ],\n        \"semantic_type\": \"\",\n        \"description\": \"\"\n      }\n    },\n    {\n      \"column\": \"time\",\n      \"properties\": {\n        \"dtype\": \"number\",\n        \"std\": 44,\n        \"min\": 9,\n        \"max\": 72,\n        \"num_unique_values\": 2,\n        \"samples\": [\n          72,\n          9\n        ],\n        \"semantic_type\": \"\",\n        \"description\": \"\"\n      }\n    },\n    {\n      \"column\": \"updated_on_prev\",\n      \"properties\": {\n        \"dtype\": \"date\",\n        \"min\": \"2023-08-14 00:00:00\",\n        \"max\": \"2025-03-03 00:00:00\",\n        \"num_unique_values\": 2,\n        \"samples\": [\n          \"2023-08-14 00:00:00\",\n          \"2025-03-03 00:00:00\"\n        ],\n        \"semantic_type\": \"\",\n        \"description\": \"\"\n      }\n    },\n    {\n      \"column\": \"priority\",\n      \"properties\": {\n        \"dtype\": \"string\",\n        \"num_unique_values\": 2,\n        \"samples\": [\n          \"p1\",\n          \"p3\"\n        ],\n        \"semantic_type\": \"\",\n        \"description\": \"\"\n      }\n    },\n    {\n      \"column\": \"total_units_prev\",\n      \"properties\": {\n        \"dtype\": \"number\",\n        \"std\": 2.8284271247461903,\n        \"min\": 1.0,\n        \"max\": 5.0,\n        \"num_unique_values\": 2,\n        \"samples\": [\n          5.0,\n          1.0\n        ],\n        \"semantic_type\": \"\",\n        \"description\": \"\"\n      }\n    },\n    {\n      \"column\": \"depletion\",\n      \"properties\": {\n        \"dtype\": \"number\",\n        \"std\": 2.8284271247461903,\n        \"min\": 1.0,\n        \"max\": 5.0,\n        \"num_unique_values\": 2,\n        \"samples\": [\n          5.0,\n          1.0\n        ],\n        \"semantic_type\": \"\",\n        \"description\": \"\"\n      }\n    },\n    {\n      \"column\": \"shelf_life_remaining_days_prev\",\n      \"properties\": {\n        \"dtype\": \"number\",\n        \"std\": null,\n        \"min\": 371.0,\n        \"max\": 371.0,\n        \"num_unique_values\": 1,\n        \"samples\": [\n          371.0\n        ],\n        \"semantic_type\": \"\",\n        \"description\": \"\"\n      }\n    },\n    {\n      \"column\": \"warehouse_country_prev\",\n      \"properties\": {\n        \"dtype\": \"string\",\n        \"num_unique_values\": 1,\n        \"samples\": [\n          \"india\"\n        ],\n        \"semantic_type\": \"\",\n        \"description\": \"\"\n      }\n    },\n    {\n      \"column\": \"destination_prev\",\n      \"properties\": {\n        \"dtype\": \"string\",\n        \"num_unique_values\": 1,\n        \"samples\": [\n          \"indonesia\"\n        ],\n        \"semantic_type\": \"\",\n        \"description\": \"\"\n      }\n    },\n    {\n      \"column\": \"pollen_liquidated_units\",\n      \"properties\": {\n        \"dtype\": \"number\",\n        \"std\": 0.0,\n        \"min\": 0.0,\n        \"max\": 0.0,\n        \"num_unique_values\": 1,\n        \"samples\": [\n          0.0\n        ],\n        \"semantic_type\": \"\",\n        \"description\": \"\"\n      }\n    },\n    {\n      \"column\": \"pollen_recovery_rate_percentage\",\n      \"properties\": {\n        \"dtype\": \"number\",\n        \"std\": 0.0,\n        \"min\": 0.0,\n        \"max\": 0.0,\n        \"num_unique_values\": 1,\n        \"samples\": [\n          0.0\n        ],\n        \"semantic_type\": \"\",\n        \"description\": \"\"\n      }\n    }\n  ]\n}"
            }
          },
          "metadata": {},
          "execution_count": 67
        }
      ],
      "source": [
        "repeated_inv.sample(2)"
      ]
    },
    {
      "cell_type": "code",
      "source": [],
      "metadata": {
        "id": "1GSQVp3-XtfD"
      },
      "execution_count": null,
      "outputs": []
    },
    {
      "cell_type": "code",
      "source": [],
      "metadata": {
        "id": "moZXjipPXtV4"
      },
      "execution_count": null,
      "outputs": []
    },
    {
      "cell_type": "code",
      "execution_count": null,
      "metadata": {
        "id": "26IkjvfbLMmn"
      },
      "outputs": [],
      "source": [
        "def correct_p1_depletion(df):\n",
        "  if df['priority'] == 'p1' and np.random.uniform(low=1, high=99, size=(1,))[0] <= 80:\n",
        "    return np.random.uniform(low=5, high=20, size=(1,))[0]/ 100 * df['depletion']\n",
        "  else:\n",
        "    return df['depletion']\n",
        "\n",
        "repeated_inv['depletion'] = repeated_inv.apply(correct_p1_depletion, axis = 1)\n",
        "repeated_inv['pollen_liquidated_units'] = np.where(repeated_inv.pollen_liquidated_units > repeated_inv.depletion, repeated_inv.depletion, repeated_inv.pollen_liquidated_units)\n",
        "repeated_inv = repeated_inv.reset_index(drop = True)"
      ]
    },
    {
      "cell_type": "code",
      "execution_count": null,
      "metadata": {
        "id": "VsIY7ucirkf6"
      },
      "outputs": [],
      "source": []
    },
    {
      "cell_type": "code",
      "execution_count": null,
      "metadata": {
        "id": "L9ObMtYvLZCh"
      },
      "outputs": [],
      "source": []
    },
    {
      "cell_type": "code",
      "execution_count": null,
      "metadata": {
        "id": "z9eYlLYbspCN"
      },
      "outputs": [],
      "source": [
        "high_time_dummy = repeated_inv.copy()\n",
        "\n",
        "def get_dummy_high_time(df):\n",
        "    if pd.isna(df['time']):\n",
        "      return df['time']\n",
        "    else:\n",
        "      return np.random.uniform(\n",
        "            low=df['time'],\n",
        "            high=1.5 * df['time'], size=(1,))[0]\n",
        "\n",
        "high_time_dummy['time'] = high_time_dummy.apply(get_dummy_high_time, axis = 1)\n",
        "high_time_dummy['orig_time'] = repeated_inv['time']\n",
        "high_time_dummy['time_factor'] = high_time_dummy['time'] / high_time_dummy['orig_time']\n",
        "high_time_dummy['depletion'] = high_time_dummy['depletion'] * high_time_dummy['time_factor']\n",
        "high_time_dummy['total_units_prev'] = np.where(high_time_dummy['total_units_prev'] < high_time_dummy['depletion'],\n",
        "                                                    high_time_dummy['depletion'], high_time_dummy['total_units_prev'])"
      ]
    },
    {
      "cell_type": "code",
      "execution_count": null,
      "metadata": {
        "id": "PvlKZzUDt0qE"
      },
      "outputs": [],
      "source": [
        "low_time_dummy = repeated_inv.copy()\n",
        "\n",
        "def get_dummy_low_time(df):\n",
        "    if pd.isna(df['time']):\n",
        "      return df['time']\n",
        "    else:\n",
        "      return np.random.uniform(\n",
        "            low=0.5 * df['time'],\n",
        "            high=df['time'], size=(1,))[0]\n",
        "\n",
        "low_time_dummy['time'] = low_time_dummy.apply(get_dummy_low_time, axis = 1)\n",
        "low_time_dummy['orig_time'] = repeated_inv['time']\n",
        "low_time_dummy['time_factor'] = low_time_dummy['time'] / low_time_dummy['orig_time']\n",
        "low_time_dummy['depletion'] = low_time_dummy['depletion'] * low_time_dummy['time_factor']\n",
        "low_time_dummy['total_units_prev'] = np.where(low_time_dummy['total_units_prev'] < low_time_dummy['depletion'],\n",
        "                                                    low_time_dummy['depletion'], low_time_dummy['total_units_prev'])"
      ]
    },
    {
      "cell_type": "code",
      "execution_count": null,
      "metadata": {
        "id": "GsRHlZvpuwzk"
      },
      "outputs": [],
      "source": [
        "high_shelf_life_dummy = repeated_inv.copy()\n",
        "\n",
        "def get_dummy_high_shelf_life(df):\n",
        "    if pd.isna(df['shelf_life_remaining_days_prev']):\n",
        "      return df['shelf_life_remaining_days_prev']\n",
        "    else:\n",
        "      return np.random.uniform(\n",
        "            low=df['shelf_life_remaining_days_prev'],\n",
        "            high=1.5 * df['shelf_life_remaining_days_prev'], size=(1,))[0]\n",
        "\n",
        "high_shelf_life_dummy['shelf_life_remaining_days_prev'] = high_shelf_life_dummy.apply(get_dummy_high_shelf_life, axis = 1)\n",
        "high_shelf_life_dummy['orig_shelf_life'] = repeated_inv['shelf_life_remaining_days_prev']\n",
        "high_shelf_life_dummy['shelf_life_factor'] = high_shelf_life_dummy['shelf_life_remaining_days_prev'] / high_shelf_life_dummy['orig_shelf_life']\n",
        "high_shelf_life_dummy['depletion'] = high_shelf_life_dummy['depletion'] * high_shelf_life_dummy['shelf_life_factor']\n",
        "high_shelf_life_dummy['total_units_prev'] = np.where(high_shelf_life_dummy['total_units_prev'] < high_shelf_life_dummy['depletion'],\n",
        "                                                    high_shelf_life_dummy['depletion'], high_shelf_life_dummy['total_units_prev'])"
      ]
    },
    {
      "cell_type": "code",
      "execution_count": null,
      "metadata": {
        "id": "EDFUkp-pvCg8"
      },
      "outputs": [],
      "source": [
        "low_shelf_life_dummy = repeated_inv.copy()\n",
        "\n",
        "def get_dummy_low_shelf_life(df):\n",
        "    if pd.isna(df['shelf_life_remaining_days_prev']):\n",
        "      return df['shelf_life_remaining_days_prev']\n",
        "    else:\n",
        "      return np.random.uniform(\n",
        "            low=0.5 * df['shelf_life_remaining_days_prev'],\n",
        "            high=df['shelf_life_remaining_days_prev'], size=(1,))[0]\n",
        "\n",
        "low_shelf_life_dummy['shelf_life_remaining_days_prev'] = low_shelf_life_dummy.apply(get_dummy_low_shelf_life, axis = 1)\n",
        "low_shelf_life_dummy['orig_shelf_life'] = repeated_inv['shelf_life_remaining_days_prev']\n",
        "low_shelf_life_dummy['shelf_life_factor'] = low_shelf_life_dummy['shelf_life_remaining_days_prev'] / low_shelf_life_dummy['orig_shelf_life']\n",
        "low_shelf_life_dummy['depletion'] = low_shelf_life_dummy['depletion'] * low_shelf_life_dummy['shelf_life_factor']\n",
        "low_shelf_life_dummy['total_units_prev'] = np.where(low_shelf_life_dummy['total_units_prev'] < low_shelf_life_dummy['depletion'],\n",
        "                                                    low_shelf_life_dummy['depletion'], low_shelf_life_dummy['total_units_prev'])"
      ]
    },
    {
      "cell_type": "code",
      "execution_count": null,
      "metadata": {
        "id": "M3rG7gnjspuZ"
      },
      "outputs": [],
      "source": [
        "repeated_inv = pd.concat([repeated_inv, high_shelf_life_dummy, low_shelf_life_dummy, low_time_dummy, high_time_dummy], ignore_index=True)\n",
        "repeated_inv = repeated_inv.drop_duplicates()\n",
        "repeated_inv = repeated_inv.reset_index(drop = True)\n",
        "repeated_inv = repeated_inv.drop(['orig_shelf_life', 'shelf_life_factor', 'orig_time', 'time_factor'], axis = 1)"
      ]
    },
    {
      "cell_type": "code",
      "execution_count": null,
      "metadata": {
        "id": "2U0yrUI1spr6"
      },
      "outputs": [],
      "source": []
    },
    {
      "cell_type": "code",
      "execution_count": null,
      "metadata": {
        "colab": {
          "base_uri": "https://localhost:8080/"
        },
        "id": "nyW__GZdMb1U",
        "outputId": "30d2ab91-99bf-4347-d679-a462751272e6"
      },
      "outputs": [
        {
          "output_type": "stream",
          "name": "stdout",
          "text": [
            "20\n"
          ]
        }
      ],
      "source": [
        "# some duplicates because of nan shelf life\n",
        "\n",
        "print(repeated_inv.duplicated().sum())\n",
        "repeated_inv = repeated_inv.drop_duplicates()"
      ]
    },
    {
      "cell_type": "markdown",
      "metadata": {
        "id": "MGAv94ziNiXy"
      },
      "source": [
        "## Listing type"
      ]
    },
    {
      "cell_type": "code",
      "execution_count": null,
      "metadata": {
        "id": "C5ZXxyf7Nds5"
      },
      "outputs": [],
      "source": [
        "def get_listing_type(df):\n",
        "  if df['shelf_life_remaining_days_prev'] > 365*2:\n",
        "    return 'fresh'\n",
        "  elif df['shelf_life_remaining_days_prev'] > 365 and df['pollen_recovery_rate_percentage'] > 0 and df['pollen_recovery_rate_percentage'] < 10:\n",
        "    return 'obsolete'\n",
        "  else:\n",
        "    return 'excess'\n",
        "\n",
        "repeated_inv['listing_condition'] = repeated_inv.apply(get_listing_type, axis = 1)\n",
        "\n",
        "number_of_rows_to_randomize = int(repeated_inv.shape[0]*0.05)\n",
        "\n",
        "change = repeated_inv.sample(number_of_rows_to_randomize//2).index\n",
        "repeated_inv.loc[change,'listing_condition'] = 'damaged'\n",
        "change = repeated_inv.sample(number_of_rows_to_randomize//2).index\n",
        "repeated_inv.loc[change,'listing_condition'] = 'made_to_order'"
      ]
    },
    {
      "cell_type": "code",
      "execution_count": null,
      "metadata": {
        "colab": {
          "base_uri": "https://localhost:8080/",
          "height": 272
        },
        "id": "o8ME9-J6NdpH",
        "outputId": "e3c6c84e-af36-4e7c-d77e-9f51811e7bf3"
      },
      "outputs": [
        {
          "output_type": "execute_result",
          "data": {
            "text/plain": [
              "listing_condition\n",
              "excess           90531\n",
              "fresh             5633\n",
              "made_to_order     2536\n",
              "damaged           2490\n",
              "obsolete           253\n",
              "Name: count, dtype: int64"
            ],
            "text/html": [
              "<div>\n",
              "<style scoped>\n",
              "    .dataframe tbody tr th:only-of-type {\n",
              "        vertical-align: middle;\n",
              "    }\n",
              "\n",
              "    .dataframe tbody tr th {\n",
              "        vertical-align: top;\n",
              "    }\n",
              "\n",
              "    .dataframe thead th {\n",
              "        text-align: right;\n",
              "    }\n",
              "</style>\n",
              "<table border=\"1\" class=\"dataframe\">\n",
              "  <thead>\n",
              "    <tr style=\"text-align: right;\">\n",
              "      <th></th>\n",
              "      <th>count</th>\n",
              "    </tr>\n",
              "    <tr>\n",
              "      <th>listing_condition</th>\n",
              "      <th></th>\n",
              "    </tr>\n",
              "  </thead>\n",
              "  <tbody>\n",
              "    <tr>\n",
              "      <th>excess</th>\n",
              "      <td>90531</td>\n",
              "    </tr>\n",
              "    <tr>\n",
              "      <th>fresh</th>\n",
              "      <td>5633</td>\n",
              "    </tr>\n",
              "    <tr>\n",
              "      <th>made_to_order</th>\n",
              "      <td>2536</td>\n",
              "    </tr>\n",
              "    <tr>\n",
              "      <th>damaged</th>\n",
              "      <td>2490</td>\n",
              "    </tr>\n",
              "    <tr>\n",
              "      <th>obsolete</th>\n",
              "      <td>253</td>\n",
              "    </tr>\n",
              "  </tbody>\n",
              "</table>\n",
              "</div><br><label><b>dtype:</b> int64</label>"
            ]
          },
          "metadata": {},
          "execution_count": 76
        }
      ],
      "source": [
        "repeated_inv.listing_condition.value_counts()"
      ]
    },
    {
      "cell_type": "markdown",
      "metadata": {
        "id": "ZTmI1U4vNkhJ"
      },
      "source": [
        "## Liquidation channel"
      ]
    },
    {
      "cell_type": "code",
      "execution_count": null,
      "metadata": {
        "id": "mS0Fr39XNf3u"
      },
      "outputs": [],
      "source": [
        "repeated_inv['depletion'] = np.where(repeated_inv['depletion'] < repeated_inv['pollen_liquidated_units'], repeated_inv['pollen_liquidated_units'], repeated_inv['depletion'])\n",
        "repeated_inv['depletion_other_than_pollen'] = repeated_inv['depletion'] - repeated_inv['pollen_liquidated_units']\n",
        "repeated_inv['liquidation_channel'] = [['friends/family', 'distributor', 'retailer', 'liquidator', 'disposal', 'pollen']]*len(repeated_inv)\n",
        "repeated_inv = repeated_inv.explode('liquidation_channel').reset_index(drop = True)"
      ]
    },
    {
      "cell_type": "code",
      "execution_count": null,
      "metadata": {
        "id": "8PmeK6FeNoDE"
      },
      "outputs": [],
      "source": [
        "def get_depleted_units_via_liquidation_channel(df):\n",
        "  if df['priority'] == 'p1':\n",
        "    if df['liquidation_channel'] == 'friends/family':\n",
        "      return 0\n",
        "    elif df['liquidation_channel'] == 'distributor':\n",
        "      return 0.2 * 0.1 * df['depletion_other_than_pollen']\n",
        "    elif df['liquidation_channel'] == 'retailer':\n",
        "      return 0.2 * 0.1 * df['depletion_other_than_pollen']\n",
        "    elif df['liquidation_channel'] == 'liquidator':\n",
        "      return 0.2 * 0.8 * df['depletion_other_than_pollen']\n",
        "    elif df['liquidation_channel'] == 'disposal':\n",
        "      return 0.8 * df['depletion_other_than_pollen']\n",
        "    elif df['liquidation_channel'] == 'pollen':\n",
        "      return df['pollen_liquidated_units']\n",
        "\n",
        "  if df['priority'] == 'p2':\n",
        "    if df['liquidation_channel'] == 'friends/family':\n",
        "      return 0.6 * 0.05 * df['depletion_other_than_pollen']\n",
        "    elif df['liquidation_channel'] == 'distributor':\n",
        "      return 0.6 * 0.25 * df['depletion_other_than_pollen']\n",
        "    elif df['liquidation_channel'] == 'retailer':\n",
        "      return 0.6 * 0.20 * df['depletion_other_than_pollen']\n",
        "    elif df['liquidation_channel'] == 'liquidator':\n",
        "      return 0.6 * 0.5 * df['depletion_other_than_pollen']\n",
        "    elif df['liquidation_channel'] == 'disposal':\n",
        "      return 0.4 * df['depletion_other_than_pollen']\n",
        "    elif df['liquidation_channel'] == 'pollen':\n",
        "      return df['pollen_liquidated_units']\n",
        "\n",
        "  if df['priority'] == 'p3':\n",
        "    if df['liquidation_channel'] == 'friends/family':\n",
        "      return 0.8 * 0.1 * df['depletion_other_than_pollen']\n",
        "    elif df['liquidation_channel'] == 'distributor':\n",
        "      return 0.8 * 0.3 * df['depletion_other_than_pollen']\n",
        "    elif df['liquidation_channel'] == 'retailer':\n",
        "      return 0.8 * 0.3 * df['depletion_other_than_pollen']\n",
        "    elif df['liquidation_channel'] == 'liquidator':\n",
        "      return 0.8 * 0.3 * df['depletion_other_than_pollen']\n",
        "    elif df['liquidation_channel'] == 'disposal':\n",
        "      return 0.2 * df['depletion_other_than_pollen']\n",
        "    elif df['liquidation_channel'] == 'pollen':\n",
        "      return df['pollen_liquidated_units']"
      ]
    },
    {
      "cell_type": "code",
      "execution_count": null,
      "metadata": {
        "id": "4n6Oqt-UNq44"
      },
      "outputs": [],
      "source": [
        "repeated_inv['final_depletion'] = repeated_inv.apply(get_depleted_units_via_liquidation_channel, axis = 1)\n",
        "repeated_inv['depletion'] = repeated_inv['final_depletion']\n",
        "repeated_inv = repeated_inv.drop(['pollen_liquidated_units', 'depletion_other_than_pollen', 'final_depletion', 'pollen_recovery_rate_percentage'], axis = 1)"
      ]
    },
    {
      "cell_type": "code",
      "execution_count": null,
      "metadata": {
        "id": "GYFkKmTtN_xe"
      },
      "outputs": [],
      "source": [
        "# after above explode, the relationship between time and liquidation channel + time and depletion number + time and shelf_life_remaining_days_prev\n",
        "# went for a toss. This is for the correction to keep the sensitivity intact\n",
        "\n",
        "repeated_inv['channel_group'] = repeated_inv.index // len(['friends/family', 'distributor', 'retailer', 'liquidator', 'disposal', 'pollen'])\n",
        "max_depletion_in_each_group = repeated_inv.groupby('channel_group').agg({'depletion' : 'max'}).reset_index().rename(columns = {'depletion' : 'max_depletion'})\n",
        "repeated_inv = pd.merge(repeated_inv, max_depletion_in_each_group, 'left', on = 'channel_group')"
      ]
    },
    {
      "cell_type": "code",
      "execution_count": null,
      "metadata": {
        "id": "_Whlk2tyOCHi"
      },
      "outputs": [],
      "source": [
        "def time_correction(df):\n",
        "  if df['max_depletion'] == 0:\n",
        "    return df['time']\n",
        "  else:\n",
        "    return df['time'] * df['depletion'] / df['max_depletion']\n",
        "\n",
        "repeated_inv['time'] = repeated_inv.apply(time_correction, axis = 1)\n",
        "\n",
        "def shelf_life_correction(df):\n",
        "  if df['max_depletion'] == 0:\n",
        "    return df['shelf_life_remaining_days_prev']\n",
        "  else:\n",
        "    return df['shelf_life_remaining_days_prev'] * df['depletion'] / df['max_depletion']\n",
        "\n",
        "repeated_inv['shelf_life_remaining_days_prev'] = repeated_inv.apply(shelf_life_correction, axis = 1)\n",
        "repeated_inv = repeated_inv.drop(['channel_group', 'max_depletion'], axis = 1)"
      ]
    },
    {
      "cell_type": "code",
      "execution_count": null,
      "metadata": {
        "id": "yuNHAS8ENv3h"
      },
      "outputs": [],
      "source": []
    },
    {
      "cell_type": "code",
      "execution_count": null,
      "metadata": {
        "colab": {
          "base_uri": "https://localhost:8080/"
        },
        "id": "tTP2588nS1nT",
        "outputId": "6ea20dc5-6e64-4d95-c87d-d0c448783407"
      },
      "outputs": [
        {
          "output_type": "stream",
          "name": "stdout",
          "text": [
            "18492 144\n"
          ]
        }
      ],
      "source": [
        "sellers['seller_name'] = sellers['seller_name'].str.lower().str.replace(' ', '_')\n",
        "sellers['persona_seller_type'] = sellers['persona_seller_type'].str.lower().str.replace(' ', '_')\n",
        "repeated_inv = pd.merge(repeated_inv, sellers, 'left', on = 'seller_name')\n",
        "print(repeated_inv.priority.isnull().sum(), repeated_inv.persona_seller_type.isnull().sum())"
      ]
    },
    {
      "cell_type": "code",
      "execution_count": null,
      "metadata": {
        "id": "ZpHhRU3MThZc"
      },
      "outputs": [],
      "source": [
        "repeated_inv['priority'] = np.where(repeated_inv.priority.isnull(), '', repeated_inv.priority)\n",
        "repeated_inv['persona_seller_type'] = np.where(repeated_inv.persona_seller_type.isnull(), '', repeated_inv.persona_seller_type)\n",
        "\n",
        "repeated_inv = repeated_inv[~(repeated_inv['total_units_prev'] == 0)]\n",
        "repeated_inv['depletion_percent'] = repeated_inv['depletion'] / repeated_inv['total_units_prev']\n",
        "repeated_inv = repeated_inv[~repeated_inv['depletion_percent'].isnull()]\n",
        "repeated_inv['depletion_percent'] = repeated_inv['depletion_percent']*100"
      ]
    },
    {
      "cell_type": "code",
      "execution_count": null,
      "metadata": {
        "id": "mkx_glOvzP6Q"
      },
      "outputs": [],
      "source": [
        "repeated_inv = repeated_inv.rename(columns = {'warehouse_country_prev' : 'warehouse_country', 'shelf_life_remaining_days_prev' : 'shelf_life_remaining_days',\n",
        "                                              'total_units_prev' : 'total_units', 'updated_on_prev' : 'updated_on', 'destination_prev' : 'destination'})"
      ]
    },
    {
      "cell_type": "code",
      "execution_count": null,
      "metadata": {
        "colab": {
          "base_uri": "https://localhost:8080/"
        },
        "id": "CeAi8_jtPVTq",
        "outputId": "cd756f23-47da-48b8-9e72-71455614ddfb"
      },
      "outputs": [
        {
          "output_type": "execute_result",
          "data": {
            "text/plain": [
              "(565458, 17)"
            ]
          },
          "metadata": {},
          "execution_count": 85
        }
      ],
      "source": [
        "repeated_inv.shape"
      ]
    },
    {
      "cell_type": "code",
      "execution_count": null,
      "metadata": {
        "colab": {
          "base_uri": "https://localhost:8080/"
        },
        "id": "u4QApd5czT-Q",
        "outputId": "fbddd252-5a02-4247-c7a1-5fab684b8591"
      },
      "outputs": [
        {
          "output_type": "stream",
          "name": "stdout",
          "text": [
            "(565458, 17)\n",
            "(1450, 17)\n"
          ]
        }
      ],
      "source": [
        "print(repeated_inv.shape)\n",
        "print(repeated_inv[repeated_inv.time < 0].shape)\n",
        "repeated_inv['time'] = np.where(repeated_inv.time < 0, -repeated_inv.time, repeated_inv.time)"
      ]
    },
    {
      "cell_type": "code",
      "execution_count": null,
      "metadata": {
        "id": "3B_gfBju1Kop"
      },
      "outputs": [],
      "source": []
    },
    {
      "cell_type": "code",
      "execution_count": null,
      "metadata": {
        "colab": {
          "base_uri": "https://localhost:8080/"
        },
        "id": "ZWMZE1C1aeFa",
        "outputId": "59a43adc-1c96-4fac-8f35-af3257c3e7a5"
      },
      "outputs": [
        {
          "output_type": "execute_result",
          "data": {
            "text/plain": [
              "{'p1': 66.94190104745843, 'p2': 179.48733180871426, 'p3': 439.0}"
            ]
          },
          "metadata": {},
          "execution_count": 87
        }
      ],
      "source": [
        "priority_to_shelf_life_median = repeated_inv.groupby('priority').shelf_life_remaining_days.median().reset_index()\n",
        "priority_to_shelf_life_median = dict(zip(list(priority_to_shelf_life_median.priority), list(priority_to_shelf_life_median.shelf_life_remaining_days)))\n",
        "priority_to_shelf_life_median"
      ]
    },
    {
      "cell_type": "code",
      "execution_count": null,
      "metadata": {
        "id": "fEkt0EesUtE5"
      },
      "outputs": [],
      "source": [
        "def fill_na_shelf_life_remaining_days(df):\n",
        "  if pd.isna(df['shelf_life_remaining_days']) and df['priority'] == 'p1':\n",
        "    return priority_to_shelf_life_median['p1']\n",
        "  elif pd.isna(df['shelf_life_remaining_days']) and df['priority'] == 'p2':\n",
        "    return priority_to_shelf_life_median['p2']\n",
        "  elif pd.isna(df['shelf_life_remaining_days']) and df['priority'] == 'p3':\n",
        "    return priority_to_shelf_life_median['p3']\n",
        "  else:\n",
        "    return df['shelf_life_remaining_days']\n",
        "\n",
        "repeated_inv['shelf_life_remaining_days'] = repeated_inv.apply(fill_na_shelf_life_remaining_days, axis = 1)\n",
        "repeated_inv['product_subcategory'] = np.where(repeated_inv.product_subcategory == 'frozen_food', 'frozen_foods', repeated_inv.product_subcategory)"
      ]
    },
    {
      "cell_type": "code",
      "execution_count": null,
      "metadata": {
        "colab": {
          "base_uri": "https://localhost:8080/",
          "height": 132
        },
        "id": "QlCXLEDwbcso",
        "outputId": "b6ff77bb-c424-4cf5-f05d-08366fb88554"
      },
      "outputs": [
        {
          "output_type": "execute_result",
          "data": {
            "text/plain": [
              "       sku_number       brand product_category product_subcategory  \\\n",
              "143244   67843668   pepsodent        oral_care         tooth_brush   \n",
              "580097   G4075800  maybelline           makeup         face_makeup   \n",
              "\n",
              "                seller_name       time updated_on priority  total_units  \\\n",
              "143244   unilever_indonesia  24.000000 2024-09-09       p2         48.0   \n",
              "580097  l'oreal_philippines  22.359233 2022-01-21       p3       3000.0   \n",
              "\n",
              "        depletion  shelf_life_remaining_days warehouse_country destination  \\\n",
              "143244        0.0                 256.139354         indonesia   indonesia   \n",
              "580097        0.0                 558.000000       philippines   indonesia   \n",
              "\n",
              "       listing_condition liquidation_channel persona_seller_type  \\\n",
              "143244            excess      friends/family           principal   \n",
              "580097            excess              pollen           principal   \n",
              "\n",
              "        depletion_percent  \n",
              "143244                0.0  \n",
              "580097                0.0  "
            ],
            "text/html": [
              "\n",
              "  <div id=\"df-287ef328-4312-491f-b871-f004b6e12c65\" class=\"colab-df-container\">\n",
              "    <div>\n",
              "<style scoped>\n",
              "    .dataframe tbody tr th:only-of-type {\n",
              "        vertical-align: middle;\n",
              "    }\n",
              "\n",
              "    .dataframe tbody tr th {\n",
              "        vertical-align: top;\n",
              "    }\n",
              "\n",
              "    .dataframe thead th {\n",
              "        text-align: right;\n",
              "    }\n",
              "</style>\n",
              "<table border=\"1\" class=\"dataframe\">\n",
              "  <thead>\n",
              "    <tr style=\"text-align: right;\">\n",
              "      <th></th>\n",
              "      <th>sku_number</th>\n",
              "      <th>brand</th>\n",
              "      <th>product_category</th>\n",
              "      <th>product_subcategory</th>\n",
              "      <th>seller_name</th>\n",
              "      <th>time</th>\n",
              "      <th>updated_on</th>\n",
              "      <th>priority</th>\n",
              "      <th>total_units</th>\n",
              "      <th>depletion</th>\n",
              "      <th>shelf_life_remaining_days</th>\n",
              "      <th>warehouse_country</th>\n",
              "      <th>destination</th>\n",
              "      <th>listing_condition</th>\n",
              "      <th>liquidation_channel</th>\n",
              "      <th>persona_seller_type</th>\n",
              "      <th>depletion_percent</th>\n",
              "    </tr>\n",
              "  </thead>\n",
              "  <tbody>\n",
              "    <tr>\n",
              "      <th>143244</th>\n",
              "      <td>67843668</td>\n",
              "      <td>pepsodent</td>\n",
              "      <td>oral_care</td>\n",
              "      <td>tooth_brush</td>\n",
              "      <td>unilever_indonesia</td>\n",
              "      <td>24.000000</td>\n",
              "      <td>2024-09-09</td>\n",
              "      <td>p2</td>\n",
              "      <td>48.0</td>\n",
              "      <td>0.0</td>\n",
              "      <td>256.139354</td>\n",
              "      <td>indonesia</td>\n",
              "      <td>indonesia</td>\n",
              "      <td>excess</td>\n",
              "      <td>friends/family</td>\n",
              "      <td>principal</td>\n",
              "      <td>0.0</td>\n",
              "    </tr>\n",
              "    <tr>\n",
              "      <th>580097</th>\n",
              "      <td>G4075800</td>\n",
              "      <td>maybelline</td>\n",
              "      <td>makeup</td>\n",
              "      <td>face_makeup</td>\n",
              "      <td>l'oreal_philippines</td>\n",
              "      <td>22.359233</td>\n",
              "      <td>2022-01-21</td>\n",
              "      <td>p3</td>\n",
              "      <td>3000.0</td>\n",
              "      <td>0.0</td>\n",
              "      <td>558.000000</td>\n",
              "      <td>philippines</td>\n",
              "      <td>indonesia</td>\n",
              "      <td>excess</td>\n",
              "      <td>pollen</td>\n",
              "      <td>principal</td>\n",
              "      <td>0.0</td>\n",
              "    </tr>\n",
              "  </tbody>\n",
              "</table>\n",
              "</div>\n",
              "    <div class=\"colab-df-buttons\">\n",
              "\n",
              "  <div class=\"colab-df-container\">\n",
              "    <button class=\"colab-df-convert\" onclick=\"convertToInteractive('df-287ef328-4312-491f-b871-f004b6e12c65')\"\n",
              "            title=\"Convert this dataframe to an interactive table.\"\n",
              "            style=\"display:none;\">\n",
              "\n",
              "  <svg xmlns=\"http://www.w3.org/2000/svg\" height=\"24px\" viewBox=\"0 -960 960 960\">\n",
              "    <path d=\"M120-120v-720h720v720H120Zm60-500h600v-160H180v160Zm220 220h160v-160H400v160Zm0 220h160v-160H400v160ZM180-400h160v-160H180v160Zm440 0h160v-160H620v160ZM180-180h160v-160H180v160Zm440 0h160v-160H620v160Z\"/>\n",
              "  </svg>\n",
              "    </button>\n",
              "\n",
              "  <style>\n",
              "    .colab-df-container {\n",
              "      display:flex;\n",
              "      gap: 12px;\n",
              "    }\n",
              "\n",
              "    .colab-df-convert {\n",
              "      background-color: #E8F0FE;\n",
              "      border: none;\n",
              "      border-radius: 50%;\n",
              "      cursor: pointer;\n",
              "      display: none;\n",
              "      fill: #1967D2;\n",
              "      height: 32px;\n",
              "      padding: 0 0 0 0;\n",
              "      width: 32px;\n",
              "    }\n",
              "\n",
              "    .colab-df-convert:hover {\n",
              "      background-color: #E2EBFA;\n",
              "      box-shadow: 0px 1px 2px rgba(60, 64, 67, 0.3), 0px 1px 3px 1px rgba(60, 64, 67, 0.15);\n",
              "      fill: #174EA6;\n",
              "    }\n",
              "\n",
              "    .colab-df-buttons div {\n",
              "      margin-bottom: 4px;\n",
              "    }\n",
              "\n",
              "    [theme=dark] .colab-df-convert {\n",
              "      background-color: #3B4455;\n",
              "      fill: #D2E3FC;\n",
              "    }\n",
              "\n",
              "    [theme=dark] .colab-df-convert:hover {\n",
              "      background-color: #434B5C;\n",
              "      box-shadow: 0px 1px 3px 1px rgba(0, 0, 0, 0.15);\n",
              "      filter: drop-shadow(0px 1px 2px rgba(0, 0, 0, 0.3));\n",
              "      fill: #FFFFFF;\n",
              "    }\n",
              "  </style>\n",
              "\n",
              "    <script>\n",
              "      const buttonEl =\n",
              "        document.querySelector('#df-287ef328-4312-491f-b871-f004b6e12c65 button.colab-df-convert');\n",
              "      buttonEl.style.display =\n",
              "        google.colab.kernel.accessAllowed ? 'block' : 'none';\n",
              "\n",
              "      async function convertToInteractive(key) {\n",
              "        const element = document.querySelector('#df-287ef328-4312-491f-b871-f004b6e12c65');\n",
              "        const dataTable =\n",
              "          await google.colab.kernel.invokeFunction('convertToInteractive',\n",
              "                                                    [key], {});\n",
              "        if (!dataTable) return;\n",
              "\n",
              "        const docLinkHtml = 'Like what you see? Visit the ' +\n",
              "          '<a target=\"_blank\" href=https://colab.research.google.com/notebooks/data_table.ipynb>data table notebook</a>'\n",
              "          + ' to learn more about interactive tables.';\n",
              "        element.innerHTML = '';\n",
              "        dataTable['output_type'] = 'display_data';\n",
              "        await google.colab.output.renderOutput(dataTable, element);\n",
              "        const docLink = document.createElement('div');\n",
              "        docLink.innerHTML = docLinkHtml;\n",
              "        element.appendChild(docLink);\n",
              "      }\n",
              "    </script>\n",
              "  </div>\n",
              "\n",
              "\n",
              "    <div id=\"df-0a7d4f60-ada4-4e64-a5c2-95a5e37b5594\">\n",
              "      <button class=\"colab-df-quickchart\" onclick=\"quickchart('df-0a7d4f60-ada4-4e64-a5c2-95a5e37b5594')\"\n",
              "                title=\"Suggest charts\"\n",
              "                style=\"display:none;\">\n",
              "\n",
              "<svg xmlns=\"http://www.w3.org/2000/svg\" height=\"24px\"viewBox=\"0 0 24 24\"\n",
              "     width=\"24px\">\n",
              "    <g>\n",
              "        <path d=\"M19 3H5c-1.1 0-2 .9-2 2v14c0 1.1.9 2 2 2h14c1.1 0 2-.9 2-2V5c0-1.1-.9-2-2-2zM9 17H7v-7h2v7zm4 0h-2V7h2v10zm4 0h-2v-4h2v4z\"/>\n",
              "    </g>\n",
              "</svg>\n",
              "      </button>\n",
              "\n",
              "<style>\n",
              "  .colab-df-quickchart {\n",
              "      --bg-color: #E8F0FE;\n",
              "      --fill-color: #1967D2;\n",
              "      --hover-bg-color: #E2EBFA;\n",
              "      --hover-fill-color: #174EA6;\n",
              "      --disabled-fill-color: #AAA;\n",
              "      --disabled-bg-color: #DDD;\n",
              "  }\n",
              "\n",
              "  [theme=dark] .colab-df-quickchart {\n",
              "      --bg-color: #3B4455;\n",
              "      --fill-color: #D2E3FC;\n",
              "      --hover-bg-color: #434B5C;\n",
              "      --hover-fill-color: #FFFFFF;\n",
              "      --disabled-bg-color: #3B4455;\n",
              "      --disabled-fill-color: #666;\n",
              "  }\n",
              "\n",
              "  .colab-df-quickchart {\n",
              "    background-color: var(--bg-color);\n",
              "    border: none;\n",
              "    border-radius: 50%;\n",
              "    cursor: pointer;\n",
              "    display: none;\n",
              "    fill: var(--fill-color);\n",
              "    height: 32px;\n",
              "    padding: 0;\n",
              "    width: 32px;\n",
              "  }\n",
              "\n",
              "  .colab-df-quickchart:hover {\n",
              "    background-color: var(--hover-bg-color);\n",
              "    box-shadow: 0 1px 2px rgba(60, 64, 67, 0.3), 0 1px 3px 1px rgba(60, 64, 67, 0.15);\n",
              "    fill: var(--button-hover-fill-color);\n",
              "  }\n",
              "\n",
              "  .colab-df-quickchart-complete:disabled,\n",
              "  .colab-df-quickchart-complete:disabled:hover {\n",
              "    background-color: var(--disabled-bg-color);\n",
              "    fill: var(--disabled-fill-color);\n",
              "    box-shadow: none;\n",
              "  }\n",
              "\n",
              "  .colab-df-spinner {\n",
              "    border: 2px solid var(--fill-color);\n",
              "    border-color: transparent;\n",
              "    border-bottom-color: var(--fill-color);\n",
              "    animation:\n",
              "      spin 1s steps(1) infinite;\n",
              "  }\n",
              "\n",
              "  @keyframes spin {\n",
              "    0% {\n",
              "      border-color: transparent;\n",
              "      border-bottom-color: var(--fill-color);\n",
              "      border-left-color: var(--fill-color);\n",
              "    }\n",
              "    20% {\n",
              "      border-color: transparent;\n",
              "      border-left-color: var(--fill-color);\n",
              "      border-top-color: var(--fill-color);\n",
              "    }\n",
              "    30% {\n",
              "      border-color: transparent;\n",
              "      border-left-color: var(--fill-color);\n",
              "      border-top-color: var(--fill-color);\n",
              "      border-right-color: var(--fill-color);\n",
              "    }\n",
              "    40% {\n",
              "      border-color: transparent;\n",
              "      border-right-color: var(--fill-color);\n",
              "      border-top-color: var(--fill-color);\n",
              "    }\n",
              "    60% {\n",
              "      border-color: transparent;\n",
              "      border-right-color: var(--fill-color);\n",
              "    }\n",
              "    80% {\n",
              "      border-color: transparent;\n",
              "      border-right-color: var(--fill-color);\n",
              "      border-bottom-color: var(--fill-color);\n",
              "    }\n",
              "    90% {\n",
              "      border-color: transparent;\n",
              "      border-bottom-color: var(--fill-color);\n",
              "    }\n",
              "  }\n",
              "</style>\n",
              "\n",
              "      <script>\n",
              "        async function quickchart(key) {\n",
              "          const quickchartButtonEl =\n",
              "            document.querySelector('#' + key + ' button');\n",
              "          quickchartButtonEl.disabled = true;  // To prevent multiple clicks.\n",
              "          quickchartButtonEl.classList.add('colab-df-spinner');\n",
              "          try {\n",
              "            const charts = await google.colab.kernel.invokeFunction(\n",
              "                'suggestCharts', [key], {});\n",
              "          } catch (error) {\n",
              "            console.error('Error during call to suggestCharts:', error);\n",
              "          }\n",
              "          quickchartButtonEl.classList.remove('colab-df-spinner');\n",
              "          quickchartButtonEl.classList.add('colab-df-quickchart-complete');\n",
              "        }\n",
              "        (() => {\n",
              "          let quickchartButtonEl =\n",
              "            document.querySelector('#df-0a7d4f60-ada4-4e64-a5c2-95a5e37b5594 button');\n",
              "          quickchartButtonEl.style.display =\n",
              "            google.colab.kernel.accessAllowed ? 'block' : 'none';\n",
              "        })();\n",
              "      </script>\n",
              "    </div>\n",
              "\n",
              "    </div>\n",
              "  </div>\n"
            ],
            "application/vnd.google.colaboratory.intrinsic+json": {
              "type": "dataframe",
              "summary": "{\n  \"name\": \"repeated_inv\",\n  \"rows\": 2,\n  \"fields\": [\n    {\n      \"column\": \"sku_number\",\n      \"properties\": {\n        \"dtype\": \"string\",\n        \"num_unique_values\": 2,\n        \"samples\": [\n          \"G4075800\",\n          \"67843668\"\n        ],\n        \"semantic_type\": \"\",\n        \"description\": \"\"\n      }\n    },\n    {\n      \"column\": \"brand\",\n      \"properties\": {\n        \"dtype\": \"string\",\n        \"num_unique_values\": 2,\n        \"samples\": [\n          \"maybelline\",\n          \"pepsodent\"\n        ],\n        \"semantic_type\": \"\",\n        \"description\": \"\"\n      }\n    },\n    {\n      \"column\": \"product_category\",\n      \"properties\": {\n        \"dtype\": \"string\",\n        \"num_unique_values\": 2,\n        \"samples\": [\n          \"makeup\",\n          \"oral_care\"\n        ],\n        \"semantic_type\": \"\",\n        \"description\": \"\"\n      }\n    },\n    {\n      \"column\": \"product_subcategory\",\n      \"properties\": {\n        \"dtype\": \"string\",\n        \"num_unique_values\": 2,\n        \"samples\": [\n          \"face_makeup\",\n          \"tooth_brush\"\n        ],\n        \"semantic_type\": \"\",\n        \"description\": \"\"\n      }\n    },\n    {\n      \"column\": \"seller_name\",\n      \"properties\": {\n        \"dtype\": \"string\",\n        \"num_unique_values\": 2,\n        \"samples\": [\n          \"l'oreal_philippines\",\n          \"unilever_indonesia\"\n        ],\n        \"semantic_type\": \"\",\n        \"description\": \"\"\n      }\n    },\n    {\n      \"column\": \"time\",\n      \"properties\": {\n        \"dtype\": \"number\",\n        \"std\": 1.160197246906559,\n        \"min\": 22.359233318396818,\n        \"max\": 24.0,\n        \"num_unique_values\": 2,\n        \"samples\": [\n          22.359233318396818,\n          24.0\n        ],\n        \"semantic_type\": \"\",\n        \"description\": \"\"\n      }\n    },\n    {\n      \"column\": \"updated_on\",\n      \"properties\": {\n        \"dtype\": \"date\",\n        \"min\": \"2022-01-21 00:00:00\",\n        \"max\": \"2024-09-09 00:00:00\",\n        \"num_unique_values\": 2,\n        \"samples\": [\n          \"2022-01-21 00:00:00\",\n          \"2024-09-09 00:00:00\"\n        ],\n        \"semantic_type\": \"\",\n        \"description\": \"\"\n      }\n    },\n    {\n      \"column\": \"priority\",\n      \"properties\": {\n        \"dtype\": \"string\",\n        \"num_unique_values\": 2,\n        \"samples\": [\n          \"p3\",\n          \"p2\"\n        ],\n        \"semantic_type\": \"\",\n        \"description\": \"\"\n      }\n    },\n    {\n      \"column\": \"total_units\",\n      \"properties\": {\n        \"dtype\": \"number\",\n        \"std\": 2087.3792180626883,\n        \"min\": 48.0,\n        \"max\": 3000.0,\n        \"num_unique_values\": 2,\n        \"samples\": [\n          3000.0,\n          48.0\n        ],\n        \"semantic_type\": \"\",\n        \"description\": \"\"\n      }\n    },\n    {\n      \"column\": \"depletion\",\n      \"properties\": {\n        \"dtype\": \"number\",\n        \"std\": 0.0,\n        \"min\": 0.0,\n        \"max\": 0.0,\n        \"num_unique_values\": 1,\n        \"samples\": [\n          0.0\n        ],\n        \"semantic_type\": \"\",\n        \"description\": \"\"\n      }\n    },\n    {\n      \"column\": \"shelf_life_remaining_days\",\n      \"properties\": {\n        \"dtype\": \"number\",\n        \"std\": 213.44770995836396,\n        \"min\": 256.13935371940295,\n        \"max\": 558.0,\n        \"num_unique_values\": 2,\n        \"samples\": [\n          558.0\n        ],\n        \"semantic_type\": \"\",\n        \"description\": \"\"\n      }\n    },\n    {\n      \"column\": \"warehouse_country\",\n      \"properties\": {\n        \"dtype\": \"string\",\n        \"num_unique_values\": 2,\n        \"samples\": [\n          \"philippines\"\n        ],\n        \"semantic_type\": \"\",\n        \"description\": \"\"\n      }\n    },\n    {\n      \"column\": \"destination\",\n      \"properties\": {\n        \"dtype\": \"string\",\n        \"num_unique_values\": 1,\n        \"samples\": [\n          \"indonesia\"\n        ],\n        \"semantic_type\": \"\",\n        \"description\": \"\"\n      }\n    },\n    {\n      \"column\": \"listing_condition\",\n      \"properties\": {\n        \"dtype\": \"string\",\n        \"num_unique_values\": 1,\n        \"samples\": [\n          \"excess\"\n        ],\n        \"semantic_type\": \"\",\n        \"description\": \"\"\n      }\n    },\n    {\n      \"column\": \"liquidation_channel\",\n      \"properties\": {\n        \"dtype\": \"string\",\n        \"num_unique_values\": 2,\n        \"samples\": [\n          \"pollen\"\n        ],\n        \"semantic_type\": \"\",\n        \"description\": \"\"\n      }\n    },\n    {\n      \"column\": \"persona_seller_type\",\n      \"properties\": {\n        \"dtype\": \"string\",\n        \"num_unique_values\": 1,\n        \"samples\": [\n          \"principal\"\n        ],\n        \"semantic_type\": \"\",\n        \"description\": \"\"\n      }\n    },\n    {\n      \"column\": \"depletion_percent\",\n      \"properties\": {\n        \"dtype\": \"number\",\n        \"std\": 0.0,\n        \"min\": 0.0,\n        \"max\": 0.0,\n        \"num_unique_values\": 1,\n        \"samples\": [\n          0.0\n        ],\n        \"semantic_type\": \"\",\n        \"description\": \"\"\n      }\n    }\n  ]\n}"
            }
          },
          "metadata": {},
          "execution_count": 89
        }
      ],
      "source": [
        "repeated_inv.sample(2)"
      ]
    },
    {
      "cell_type": "code",
      "execution_count": null,
      "metadata": {
        "id": "G8FKCQTj89Ja"
      },
      "outputs": [],
      "source": [
        "def get_week_number(x):\n",
        "  if pd.isna(x):\n",
        "    return np.nan\n",
        "  elif x.isocalendar().week / 10 < 1:\n",
        "    return '0' + str(x.isocalendar().week)\n",
        "  else:\n",
        "    return str(x.isocalendar().week)\n",
        "\n",
        "def get_year(x):\n",
        "  if pd.isna(x):\n",
        "    return np.nan\n",
        "  else:\n",
        "    return str(x.year)\n",
        "\n",
        "def get_month(x):\n",
        "  if pd.isna(x):\n",
        "    return np.nan\n",
        "  elif x.month / 10 < 1:\n",
        "    return '0' + str(x.month)\n",
        "  else:\n",
        "    return str(x.month)\n",
        "\n",
        "repeated_inv['week_number'] = repeated_inv['updated_on'].apply(get_week_number)\n",
        "repeated_inv['month'] = repeated_inv['updated_on'].apply(get_month)\n",
        "repeated_inv['year'] = repeated_inv['updated_on'].apply(get_year)\n",
        "repeated_inv['year_plus_week_number'] = repeated_inv['year'] + '_' + repeated_inv['week_number']\n",
        "repeated_inv['year_plus_month'] = repeated_inv['year'] + '_' + repeated_inv['month']"
      ]
    },
    {
      "cell_type": "code",
      "execution_count": null,
      "metadata": {
        "colab": {
          "base_uri": "https://localhost:8080/"
        },
        "id": "sXcpslToP1pX",
        "outputId": "3bbcbd60-7728-4e83-f489-a3e43294b128"
      },
      "outputs": [
        {
          "output_type": "execute_result",
          "data": {
            "text/plain": [
              "(565458, 22)"
            ]
          },
          "metadata": {},
          "execution_count": 91
        }
      ],
      "source": [
        "repeated_inv.shape"
      ]
    },
    {
      "cell_type": "code",
      "execution_count": null,
      "metadata": {
        "id": "tGrFUJy3QtWh"
      },
      "outputs": [],
      "source": []
    },
    {
      "cell_type": "code",
      "execution_count": null,
      "metadata": {
        "id": "X_RvuA4qCpqF"
      },
      "outputs": [],
      "source": []
    },
    {
      "cell_type": "markdown",
      "metadata": {
        "id": "S7RoXnt3QuaY"
      },
      "source": [
        "# PSI Chart"
      ]
    },
    {
      "cell_type": "markdown",
      "metadata": {
        "id": "4WY--_lXPd-K"
      },
      "source": [
        "# impute demand where demand is zero"
      ]
    },
    {
      "cell_type": "code",
      "execution_count": null,
      "metadata": {
        "id": "K2Y2lBxqPdNY"
      },
      "outputs": [],
      "source": []
    },
    {
      "cell_type": "code",
      "execution_count": null,
      "metadata": {
        "colab": {
          "base_uri": "https://localhost:8080/"
        },
        "id": "7gSOrc-vQpiv",
        "outputId": "c944a41a-633e-4a48-ee32-4339258262dc"
      },
      "outputs": [
        {
          "output_type": "stream",
          "name": "stdout",
          "text": [
            "22876\n"
          ]
        }
      ],
      "source": [
        "category_total_shelf_life = category_total_shelf_life.rename(columns = {'Product Category' : 'product_category', 'Product Sub Category' : 'product_subcategory',\n",
        "                                              'Est. Product Shelf Life months' : 'total_shelf_life_months'})\n",
        "category_total_shelf_life = category_total_shelf_life.drop(['Proposed Buyer Product Preferences'], axis = 1)\n",
        "\n",
        "category_total_shelf_life['product_category'] = category_total_shelf_life['product_category'].str.lower().str.replace(' ', '_')\n",
        "category_total_shelf_life['product_subcategory'] = category_total_shelf_life['product_subcategory'].str.lower().str.replace(' ', '_')\n",
        "\n",
        "def get_months(x):\n",
        "  return int(x.split()[0])\n",
        "\n",
        "category_total_shelf_life['total_shelf_life_months'] = category_total_shelf_life['total_shelf_life_months'].apply(get_months)\n",
        "repeated_inv = pd.merge(repeated_inv, category_total_shelf_life[['product_category', 'product_subcategory', 'total_shelf_life_months']],\n",
        "                        'left', on = ['product_category', 'product_subcategory'])\n",
        "print(repeated_inv['total_shelf_life_months'].isnull().sum())"
      ]
    },
    {
      "cell_type": "code",
      "execution_count": null,
      "metadata": {
        "id": "47W2dI5tQsLu"
      },
      "outputs": [],
      "source": [
        "repeated_inv['total_shelf_life_months'] = repeated_inv['total_shelf_life_months'] * 30\n",
        "repeated_inv = repeated_inv.rename(columns = {'total_shelf_life_months' : 'total_shelf_life_days'})\n",
        "repeated_inv['percent_shelf_life_remaining'] = repeated_inv['shelf_life_remaining_days'] / repeated_inv['total_shelf_life_days']*100\n",
        "\n",
        "def get_priority(x):\n",
        "  if x <= 25:\n",
        "    return 'p1'\n",
        "  elif 25 < x <= 75:\n",
        "    return 'p2'\n",
        "  else:\n",
        "    return 'p3'\n",
        "\n",
        "repeated_inv['priority'] = repeated_inv['percent_shelf_life_remaining'].apply(get_priority)"
      ]
    },
    {
      "cell_type": "code",
      "execution_count": null,
      "metadata": {
        "id": "vU0CSeeQRJNT"
      },
      "outputs": [],
      "source": []
    },
    {
      "cell_type": "markdown",
      "metadata": {
        "id": "YuOrFGGauTHH"
      },
      "source": [
        "# PSI Cat week"
      ]
    },
    {
      "cell_type": "code",
      "execution_count": null,
      "metadata": {
        "colab": {
          "base_uri": "https://localhost:8080/",
          "height": 98
        },
        "id": "NrmH6vHAXXGG",
        "outputId": "9ef41e44-9b93-4dcd-e2a1-7b79553f6f95"
      },
      "outputs": [
        {
          "output_type": "stream",
          "name": "stdout",
          "text": [
            "(3000, 8)\n"
          ]
        },
        {
          "output_type": "execute_result",
          "data": {
            "text/plain": [
              "     product_category priority warehouse_country destination  \\\n",
              "2063           makeup       p3          thailand    thailand   \n",
              "\n",
              "     year_plus_week_number  total_units  depletion  demand_score  \n",
              "2063               2024_47  15943.33862  81.727883      0.512615  "
            ],
            "text/html": [
              "\n",
              "  <div id=\"df-d8185b01-59ef-43cd-92bb-58b52881e9fc\" class=\"colab-df-container\">\n",
              "    <div>\n",
              "<style scoped>\n",
              "    .dataframe tbody tr th:only-of-type {\n",
              "        vertical-align: middle;\n",
              "    }\n",
              "\n",
              "    .dataframe tbody tr th {\n",
              "        vertical-align: top;\n",
              "    }\n",
              "\n",
              "    .dataframe thead th {\n",
              "        text-align: right;\n",
              "    }\n",
              "</style>\n",
              "<table border=\"1\" class=\"dataframe\">\n",
              "  <thead>\n",
              "    <tr style=\"text-align: right;\">\n",
              "      <th></th>\n",
              "      <th>product_category</th>\n",
              "      <th>priority</th>\n",
              "      <th>warehouse_country</th>\n",
              "      <th>destination</th>\n",
              "      <th>year_plus_week_number</th>\n",
              "      <th>total_units</th>\n",
              "      <th>depletion</th>\n",
              "      <th>demand_score</th>\n",
              "    </tr>\n",
              "  </thead>\n",
              "  <tbody>\n",
              "    <tr>\n",
              "      <th>2063</th>\n",
              "      <td>makeup</td>\n",
              "      <td>p3</td>\n",
              "      <td>thailand</td>\n",
              "      <td>thailand</td>\n",
              "      <td>2024_47</td>\n",
              "      <td>15943.33862</td>\n",
              "      <td>81.727883</td>\n",
              "      <td>0.512615</td>\n",
              "    </tr>\n",
              "  </tbody>\n",
              "</table>\n",
              "</div>\n",
              "    <div class=\"colab-df-buttons\">\n",
              "\n",
              "  <div class=\"colab-df-container\">\n",
              "    <button class=\"colab-df-convert\" onclick=\"convertToInteractive('df-d8185b01-59ef-43cd-92bb-58b52881e9fc')\"\n",
              "            title=\"Convert this dataframe to an interactive table.\"\n",
              "            style=\"display:none;\">\n",
              "\n",
              "  <svg xmlns=\"http://www.w3.org/2000/svg\" height=\"24px\" viewBox=\"0 -960 960 960\">\n",
              "    <path d=\"M120-120v-720h720v720H120Zm60-500h600v-160H180v160Zm220 220h160v-160H400v160Zm0 220h160v-160H400v160ZM180-400h160v-160H180v160Zm440 0h160v-160H620v160ZM180-180h160v-160H180v160Zm440 0h160v-160H620v160Z\"/>\n",
              "  </svg>\n",
              "    </button>\n",
              "\n",
              "  <style>\n",
              "    .colab-df-container {\n",
              "      display:flex;\n",
              "      gap: 12px;\n",
              "    }\n",
              "\n",
              "    .colab-df-convert {\n",
              "      background-color: #E8F0FE;\n",
              "      border: none;\n",
              "      border-radius: 50%;\n",
              "      cursor: pointer;\n",
              "      display: none;\n",
              "      fill: #1967D2;\n",
              "      height: 32px;\n",
              "      padding: 0 0 0 0;\n",
              "      width: 32px;\n",
              "    }\n",
              "\n",
              "    .colab-df-convert:hover {\n",
              "      background-color: #E2EBFA;\n",
              "      box-shadow: 0px 1px 2px rgba(60, 64, 67, 0.3), 0px 1px 3px 1px rgba(60, 64, 67, 0.15);\n",
              "      fill: #174EA6;\n",
              "    }\n",
              "\n",
              "    .colab-df-buttons div {\n",
              "      margin-bottom: 4px;\n",
              "    }\n",
              "\n",
              "    [theme=dark] .colab-df-convert {\n",
              "      background-color: #3B4455;\n",
              "      fill: #D2E3FC;\n",
              "    }\n",
              "\n",
              "    [theme=dark] .colab-df-convert:hover {\n",
              "      background-color: #434B5C;\n",
              "      box-shadow: 0px 1px 3px 1px rgba(0, 0, 0, 0.15);\n",
              "      filter: drop-shadow(0px 1px 2px rgba(0, 0, 0, 0.3));\n",
              "      fill: #FFFFFF;\n",
              "    }\n",
              "  </style>\n",
              "\n",
              "    <script>\n",
              "      const buttonEl =\n",
              "        document.querySelector('#df-d8185b01-59ef-43cd-92bb-58b52881e9fc button.colab-df-convert');\n",
              "      buttonEl.style.display =\n",
              "        google.colab.kernel.accessAllowed ? 'block' : 'none';\n",
              "\n",
              "      async function convertToInteractive(key) {\n",
              "        const element = document.querySelector('#df-d8185b01-59ef-43cd-92bb-58b52881e9fc');\n",
              "        const dataTable =\n",
              "          await google.colab.kernel.invokeFunction('convertToInteractive',\n",
              "                                                    [key], {});\n",
              "        if (!dataTable) return;\n",
              "\n",
              "        const docLinkHtml = 'Like what you see? Visit the ' +\n",
              "          '<a target=\"_blank\" href=https://colab.research.google.com/notebooks/data_table.ipynb>data table notebook</a>'\n",
              "          + ' to learn more about interactive tables.';\n",
              "        element.innerHTML = '';\n",
              "        dataTable['output_type'] = 'display_data';\n",
              "        await google.colab.output.renderOutput(dataTable, element);\n",
              "        const docLink = document.createElement('div');\n",
              "        docLink.innerHTML = docLinkHtml;\n",
              "        element.appendChild(docLink);\n",
              "      }\n",
              "    </script>\n",
              "  </div>\n",
              "\n",
              "\n",
              "    </div>\n",
              "  </div>\n"
            ],
            "application/vnd.google.colaboratory.intrinsic+json": {
              "type": "dataframe",
              "summary": "{\n  \"name\": \"df_psi_cat_week\",\n  \"rows\": 1,\n  \"fields\": [\n    {\n      \"column\": \"product_category\",\n      \"properties\": {\n        \"dtype\": \"string\",\n        \"num_unique_values\": 1,\n        \"samples\": [\n          \"makeup\"\n        ],\n        \"semantic_type\": \"\",\n        \"description\": \"\"\n      }\n    },\n    {\n      \"column\": \"priority\",\n      \"properties\": {\n        \"dtype\": \"string\",\n        \"num_unique_values\": 1,\n        \"samples\": [\n          \"p3\"\n        ],\n        \"semantic_type\": \"\",\n        \"description\": \"\"\n      }\n    },\n    {\n      \"column\": \"warehouse_country\",\n      \"properties\": {\n        \"dtype\": \"string\",\n        \"num_unique_values\": 1,\n        \"samples\": [\n          \"thailand\"\n        ],\n        \"semantic_type\": \"\",\n        \"description\": \"\"\n      }\n    },\n    {\n      \"column\": \"destination\",\n      \"properties\": {\n        \"dtype\": \"string\",\n        \"num_unique_values\": 1,\n        \"samples\": [\n          \"thailand\"\n        ],\n        \"semantic_type\": \"\",\n        \"description\": \"\"\n      }\n    },\n    {\n      \"column\": \"year_plus_week_number\",\n      \"properties\": {\n        \"dtype\": \"string\",\n        \"num_unique_values\": 1,\n        \"samples\": [\n          \"2024_47\"\n        ],\n        \"semantic_type\": \"\",\n        \"description\": \"\"\n      }\n    },\n    {\n      \"column\": \"total_units\",\n      \"properties\": {\n        \"dtype\": \"number\",\n        \"std\": null,\n        \"min\": 15943.338619964179,\n        \"max\": 15943.338619964179,\n        \"num_unique_values\": 1,\n        \"samples\": [\n          15943.338619964179\n        ],\n        \"semantic_type\": \"\",\n        \"description\": \"\"\n      }\n    },\n    {\n      \"column\": \"depletion\",\n      \"properties\": {\n        \"dtype\": \"number\",\n        \"std\": null,\n        \"min\": 81.7278825917612,\n        \"max\": 81.7278825917612,\n        \"num_unique_values\": 1,\n        \"samples\": [\n          81.7278825917612\n        ],\n        \"semantic_type\": \"\",\n        \"description\": \"\"\n      }\n    },\n    {\n      \"column\": \"demand_score\",\n      \"properties\": {\n        \"dtype\": \"number\",\n        \"std\": null,\n        \"min\": 0.5126146068893117,\n        \"max\": 0.5126146068893117,\n        \"num_unique_values\": 1,\n        \"samples\": [\n          0.5126146068893117\n        ],\n        \"semantic_type\": \"\",\n        \"description\": \"\"\n      }\n    }\n  ]\n}"
            }
          },
          "metadata": {},
          "execution_count": 94
        }
      ],
      "source": [
        "df_psi_cat_week = repeated_inv.groupby(['product_category', 'priority', 'warehouse_country', 'destination', 'year_plus_week_number']).agg({'total_units' : 'sum',\n",
        "                                                                                                                   'depletion' : 'sum'}).reset_index()\n",
        "df_psi_cat_week['demand_score'] = df_psi_cat_week['depletion'] / df_psi_cat_week['total_units']*100\n",
        "print(df_psi_cat_week.shape)\n",
        "df_psi_cat_week.sample()"
      ]
    },
    {
      "cell_type": "code",
      "execution_count": null,
      "metadata": {
        "id": "BVXuSYeRjEMR"
      },
      "outputs": [],
      "source": [
        "def fill_missing_weeks_to_present(df):\n",
        "    # Convert 'year_plus_week_number' into a format that allows for comparison\n",
        "    def convert_to_week_num(week_str):\n",
        "        year, week = map(int, week_str.split('_'))\n",
        "        return year * 52 + week  # Unique number for each week\n",
        "\n",
        "    # Sort DataFrame by 'year_plus_week_number'\n",
        "    df = df.sort_values(by='year_plus_week_number').reset_index(drop=True)\n",
        "\n",
        "    # Create a new list for the filled data\n",
        "    filled_data = []\n",
        "\n",
        "    for i in range(len(df) - 1):\n",
        "        filled_data.append(df.iloc[i])  # Add current row\n",
        "\n",
        "        # Identify missing weeks\n",
        "        current_week = convert_to_week_num(df.iloc[i]['year_plus_week_number'])\n",
        "        next_week = convert_to_week_num(df.iloc[i + 1]['year_plus_week_number'])\n",
        "\n",
        "        # Add missing weeks\n",
        "        for missing_week in range(current_week + 1, next_week):\n",
        "            year = missing_week // 52\n",
        "            week = missing_week % 52 if missing_week % 52 != 0 else 52\n",
        "            filled_row = df.iloc[i].copy()\n",
        "            filled_row['year_plus_week_number'] = f\"{year}_{week:02d}\"\n",
        "            filled_data.append(filled_row)\n",
        "\n",
        "    # Append the last row\n",
        "    filled_data.append(df.iloc[-1])\n",
        "\n",
        "    # Fill till the current week\n",
        "    today = datetime.today()\n",
        "    current_year, current_week = today.isocalendar()[:2]\n",
        "\n",
        "    last_week = convert_to_week_num(df.iloc[-1]['year_plus_week_number'])\n",
        "    current_week_num = current_year * 52 + current_week\n",
        "\n",
        "    for missing_week in range(last_week + 1, current_week_num + 1):\n",
        "        year = missing_week // 52\n",
        "        week = missing_week % 52 if missing_week % 52 != 0 else 52\n",
        "        filled_row = df.iloc[-1].copy()\n",
        "        filled_row['year_plus_week_number'] = f\"{year}_{week:02d}\"\n",
        "        filled_data.append(filled_row)\n",
        "\n",
        "    # Create a new DataFrame\n",
        "    filled_df = pd.DataFrame(filled_data)\n",
        "    return filled_df.reset_index(drop=True)\n",
        "\n",
        "\n",
        "def fill_demand_score_with_previous_and_next_non_null_values(df):\n",
        "    # Ensure demand_score is float for random values\n",
        "    df['demand_score'] = df['demand_score'].astype(float)\n",
        "\n",
        "    # Store the original non-null demand_score values to track true non-null values\n",
        "    original_non_null_values = df['demand_score'].copy()\n",
        "\n",
        "    # Iterate through rows to handle NaN values\n",
        "    for i in range(len(df)):\n",
        "        if pd.isna(df.loc[i, 'demand_score']):\n",
        "            # Find previous non-null value from original data (not the filled value)\n",
        "            prev_value = original_non_null_values[:i].dropna().iloc[-1] if i > 0 else 0\n",
        "\n",
        "            # Find next non-null value\n",
        "            next_value_series = df.loc[i+1:, 'demand_score'].dropna()\n",
        "            next_value = next_value_series.iloc[0] if not next_value_series.empty else None\n",
        "\n",
        "            # Fill logic\n",
        "            if next_value is not None:\n",
        "                df.loc[i, 'demand_score'] = random.uniform(prev_value, next_value)\n",
        "            else:\n",
        "                df.loc[i, 'demand_score'] = random.uniform(0, prev_value)\n",
        "\n",
        "    return df"
      ]
    },
    {
      "cell_type": "code",
      "execution_count": null,
      "metadata": {
        "colab": {
          "base_uri": "https://localhost:8080/"
        },
        "id": "YJ7SIuTolWvv",
        "outputId": "c6ce4ad3-870e-4eb4-d4c3-a36916e28ea0"
      },
      "outputs": [
        {
          "output_type": "stream",
          "name": "stdout",
          "text": [
            "378\n"
          ]
        }
      ],
      "source": [
        "final_psi_cat_week_df = pd.DataFrame()\n",
        "filter_vals = df_psi_cat_week[['product_category', 'priority', 'warehouse_country', 'destination']].drop_duplicates().values\n",
        "print(len(filter_vals))\n",
        "\n",
        "for cat, p, s, d in filter_vals:\n",
        "  temp = df_psi_cat_week[(df_psi_cat_week['product_category'] == cat) & (df_psi_cat_week['priority'] == p) & (df_psi_cat_week['warehouse_country'] == s)\n",
        "                      & (df_psi_cat_week['destination'] == d)].sort_values(by = 'year_plus_week_number')\n",
        "\n",
        "  new_temp = fill_missing_weeks_to_present(temp)\n",
        "\n",
        "  new_temp = pd.merge(new_temp[['product_category', 'priority', 'warehouse_country', 'destination', 'year_plus_week_number']],\n",
        "         temp, 'left', on = ['product_category', 'priority', 'warehouse_country', 'destination', 'year_plus_week_number'])\n",
        "  fill_demand_score_with_previous_and_next_non_null_values(new_temp)\n",
        "  final_psi_cat_week_df = pd.concat([final_psi_cat_week_df, new_temp], ignore_index=True)"
      ]
    },
    {
      "cell_type": "code",
      "execution_count": null,
      "metadata": {
        "colab": {
          "base_uri": "https://localhost:8080/",
          "height": 542
        },
        "id": "8W8GkezLd_QM",
        "outputId": "44e1d4e7-a2c1-4520-ed6e-d1e72cd1cb99"
      },
      "outputs": [
        {
          "output_type": "display_data",
          "data": {
            "text/html": [
              "<html>\n",
              "<head><meta charset=\"utf-8\" /></head>\n",
              "<body>\n",
              "    <div>            <script src=\"https://cdnjs.cloudflare.com/ajax/libs/mathjax/2.7.5/MathJax.js?config=TeX-AMS-MML_SVG\"></script><script type=\"text/javascript\">if (window.MathJax && window.MathJax.Hub && window.MathJax.Hub.Config) {window.MathJax.Hub.Config({SVG: {font: \"STIX-Web\"}});}</script>                <script type=\"text/javascript\">window.PlotlyConfig = {MathJaxConfig: 'local'};</script>\n",
              "        <script charset=\"utf-8\" src=\"https://cdn.plot.ly/plotly-2.35.2.min.js\"></script>                <div id=\"25843abd-362d-4b10-a799-ec00a469d549\" class=\"plotly-graph-div\" style=\"height:525px; width:100%;\"></div>            <script type=\"text/javascript\">                                    window.PLOTLYENV=window.PLOTLYENV || {};                                    if (document.getElementById(\"25843abd-362d-4b10-a799-ec00a469d549\")) {                    Plotly.newPlot(                        \"25843abd-362d-4b10-a799-ec00a469d549\",                        [{\"hovertemplate\":\"year_plus_week_number=%{x}\\u003cbr\\u003edemand_score=%{y}\\u003cextra\\u003e\\u003c\\u002fextra\\u003e\",\"legendgroup\":\"\",\"line\":{\"color\":\"#636efa\",\"dash\":\"solid\"},\"marker\":{\"symbol\":\"circle\"},\"mode\":\"lines\",\"name\":\"\",\"orientation\":\"v\",\"showlegend\":false,\"x\":[\"2024_39\",\"2024_40\",\"2024_41\",\"2024_42\",\"2024_43\",\"2024_44\",\"2024_45\",\"2024_46\",\"2024_47\",\"2024_48\",\"2024_49\",\"2024_50\",\"2024_51\",\"2025_52\",\"2025_01\",\"2025_02\",\"2025_03\",\"2025_04\",\"2025_05\",\"2025_06\",\"2025_07\",\"2025_08\",\"2025_09\",\"2025_10\",\"2025_11\",\"2025_12\",\"2025_13\",\"2025_14\",\"2025_15\",\"2025_16\",\"2025_17\",\"2025_18\"],\"xaxis\":\"x\",\"y\":[0.0,0.0,0.0,0.0,0.0,0.0,0.0,0.0,0.0,0.0,0.0,0.0,0.0,0.0,0.0,0.0,0.0,0.0,0.0,0.0,0.0,0.0,0.0,0.0,0.0,0.0,0.0,0.0,0.0,0.0,0.0,0.0],\"yaxis\":\"y\",\"type\":\"scatter\"}],                        {\"template\":{\"data\":{\"histogram2dcontour\":[{\"type\":\"histogram2dcontour\",\"colorbar\":{\"outlinewidth\":0,\"ticks\":\"\"},\"colorscale\":[[0.0,\"#0d0887\"],[0.1111111111111111,\"#46039f\"],[0.2222222222222222,\"#7201a8\"],[0.3333333333333333,\"#9c179e\"],[0.4444444444444444,\"#bd3786\"],[0.5555555555555556,\"#d8576b\"],[0.6666666666666666,\"#ed7953\"],[0.7777777777777778,\"#fb9f3a\"],[0.8888888888888888,\"#fdca26\"],[1.0,\"#f0f921\"]]}],\"choropleth\":[{\"type\":\"choropleth\",\"colorbar\":{\"outlinewidth\":0,\"ticks\":\"\"}}],\"histogram2d\":[{\"type\":\"histogram2d\",\"colorbar\":{\"outlinewidth\":0,\"ticks\":\"\"},\"colorscale\":[[0.0,\"#0d0887\"],[0.1111111111111111,\"#46039f\"],[0.2222222222222222,\"#7201a8\"],[0.3333333333333333,\"#9c179e\"],[0.4444444444444444,\"#bd3786\"],[0.5555555555555556,\"#d8576b\"],[0.6666666666666666,\"#ed7953\"],[0.7777777777777778,\"#fb9f3a\"],[0.8888888888888888,\"#fdca26\"],[1.0,\"#f0f921\"]]}],\"heatmap\":[{\"type\":\"heatmap\",\"colorbar\":{\"outlinewidth\":0,\"ticks\":\"\"},\"colorscale\":[[0.0,\"#0d0887\"],[0.1111111111111111,\"#46039f\"],[0.2222222222222222,\"#7201a8\"],[0.3333333333333333,\"#9c179e\"],[0.4444444444444444,\"#bd3786\"],[0.5555555555555556,\"#d8576b\"],[0.6666666666666666,\"#ed7953\"],[0.7777777777777778,\"#fb9f3a\"],[0.8888888888888888,\"#fdca26\"],[1.0,\"#f0f921\"]]}],\"heatmapgl\":[{\"type\":\"heatmapgl\",\"colorbar\":{\"outlinewidth\":0,\"ticks\":\"\"},\"colorscale\":[[0.0,\"#0d0887\"],[0.1111111111111111,\"#46039f\"],[0.2222222222222222,\"#7201a8\"],[0.3333333333333333,\"#9c179e\"],[0.4444444444444444,\"#bd3786\"],[0.5555555555555556,\"#d8576b\"],[0.6666666666666666,\"#ed7953\"],[0.7777777777777778,\"#fb9f3a\"],[0.8888888888888888,\"#fdca26\"],[1.0,\"#f0f921\"]]}],\"contourcarpet\":[{\"type\":\"contourcarpet\",\"colorbar\":{\"outlinewidth\":0,\"ticks\":\"\"}}],\"contour\":[{\"type\":\"contour\",\"colorbar\":{\"outlinewidth\":0,\"ticks\":\"\"},\"colorscale\":[[0.0,\"#0d0887\"],[0.1111111111111111,\"#46039f\"],[0.2222222222222222,\"#7201a8\"],[0.3333333333333333,\"#9c179e\"],[0.4444444444444444,\"#bd3786\"],[0.5555555555555556,\"#d8576b\"],[0.6666666666666666,\"#ed7953\"],[0.7777777777777778,\"#fb9f3a\"],[0.8888888888888888,\"#fdca26\"],[1.0,\"#f0f921\"]]}],\"surface\":[{\"type\":\"surface\",\"colorbar\":{\"outlinewidth\":0,\"ticks\":\"\"},\"colorscale\":[[0.0,\"#0d0887\"],[0.1111111111111111,\"#46039f\"],[0.2222222222222222,\"#7201a8\"],[0.3333333333333333,\"#9c179e\"],[0.4444444444444444,\"#bd3786\"],[0.5555555555555556,\"#d8576b\"],[0.6666666666666666,\"#ed7953\"],[0.7777777777777778,\"#fb9f3a\"],[0.8888888888888888,\"#fdca26\"],[1.0,\"#f0f921\"]]}],\"mesh3d\":[{\"type\":\"mesh3d\",\"colorbar\":{\"outlinewidth\":0,\"ticks\":\"\"}}],\"scatter\":[{\"fillpattern\":{\"fillmode\":\"overlay\",\"size\":10,\"solidity\":0.2},\"type\":\"scatter\"}],\"parcoords\":[{\"type\":\"parcoords\",\"line\":{\"colorbar\":{\"outlinewidth\":0,\"ticks\":\"\"}}}],\"scatterpolargl\":[{\"type\":\"scatterpolargl\",\"marker\":{\"colorbar\":{\"outlinewidth\":0,\"ticks\":\"\"}}}],\"bar\":[{\"error_x\":{\"color\":\"#2a3f5f\"},\"error_y\":{\"color\":\"#2a3f5f\"},\"marker\":{\"line\":{\"color\":\"#E5ECF6\",\"width\":0.5},\"pattern\":{\"fillmode\":\"overlay\",\"size\":10,\"solidity\":0.2}},\"type\":\"bar\"}],\"scattergeo\":[{\"type\":\"scattergeo\",\"marker\":{\"colorbar\":{\"outlinewidth\":0,\"ticks\":\"\"}}}],\"scatterpolar\":[{\"type\":\"scatterpolar\",\"marker\":{\"colorbar\":{\"outlinewidth\":0,\"ticks\":\"\"}}}],\"histogram\":[{\"marker\":{\"pattern\":{\"fillmode\":\"overlay\",\"size\":10,\"solidity\":0.2}},\"type\":\"histogram\"}],\"scattergl\":[{\"type\":\"scattergl\",\"marker\":{\"colorbar\":{\"outlinewidth\":0,\"ticks\":\"\"}}}],\"scatter3d\":[{\"type\":\"scatter3d\",\"line\":{\"colorbar\":{\"outlinewidth\":0,\"ticks\":\"\"}},\"marker\":{\"colorbar\":{\"outlinewidth\":0,\"ticks\":\"\"}}}],\"scattermapbox\":[{\"type\":\"scattermapbox\",\"marker\":{\"colorbar\":{\"outlinewidth\":0,\"ticks\":\"\"}}}],\"scatterternary\":[{\"type\":\"scatterternary\",\"marker\":{\"colorbar\":{\"outlinewidth\":0,\"ticks\":\"\"}}}],\"scattercarpet\":[{\"type\":\"scattercarpet\",\"marker\":{\"colorbar\":{\"outlinewidth\":0,\"ticks\":\"\"}}}],\"carpet\":[{\"aaxis\":{\"endlinecolor\":\"#2a3f5f\",\"gridcolor\":\"white\",\"linecolor\":\"white\",\"minorgridcolor\":\"white\",\"startlinecolor\":\"#2a3f5f\"},\"baxis\":{\"endlinecolor\":\"#2a3f5f\",\"gridcolor\":\"white\",\"linecolor\":\"white\",\"minorgridcolor\":\"white\",\"startlinecolor\":\"#2a3f5f\"},\"type\":\"carpet\"}],\"table\":[{\"cells\":{\"fill\":{\"color\":\"#EBF0F8\"},\"line\":{\"color\":\"white\"}},\"header\":{\"fill\":{\"color\":\"#C8D4E3\"},\"line\":{\"color\":\"white\"}},\"type\":\"table\"}],\"barpolar\":[{\"marker\":{\"line\":{\"color\":\"#E5ECF6\",\"width\":0.5},\"pattern\":{\"fillmode\":\"overlay\",\"size\":10,\"solidity\":0.2}},\"type\":\"barpolar\"}],\"pie\":[{\"automargin\":true,\"type\":\"pie\"}]},\"layout\":{\"autotypenumbers\":\"strict\",\"colorway\":[\"#636efa\",\"#EF553B\",\"#00cc96\",\"#ab63fa\",\"#FFA15A\",\"#19d3f3\",\"#FF6692\",\"#B6E880\",\"#FF97FF\",\"#FECB52\"],\"font\":{\"color\":\"#2a3f5f\"},\"hovermode\":\"closest\",\"hoverlabel\":{\"align\":\"left\"},\"paper_bgcolor\":\"white\",\"plot_bgcolor\":\"#E5ECF6\",\"polar\":{\"bgcolor\":\"#E5ECF6\",\"angularaxis\":{\"gridcolor\":\"white\",\"linecolor\":\"white\",\"ticks\":\"\"},\"radialaxis\":{\"gridcolor\":\"white\",\"linecolor\":\"white\",\"ticks\":\"\"}},\"ternary\":{\"bgcolor\":\"#E5ECF6\",\"aaxis\":{\"gridcolor\":\"white\",\"linecolor\":\"white\",\"ticks\":\"\"},\"baxis\":{\"gridcolor\":\"white\",\"linecolor\":\"white\",\"ticks\":\"\"},\"caxis\":{\"gridcolor\":\"white\",\"linecolor\":\"white\",\"ticks\":\"\"}},\"coloraxis\":{\"colorbar\":{\"outlinewidth\":0,\"ticks\":\"\"}},\"colorscale\":{\"sequential\":[[0.0,\"#0d0887\"],[0.1111111111111111,\"#46039f\"],[0.2222222222222222,\"#7201a8\"],[0.3333333333333333,\"#9c179e\"],[0.4444444444444444,\"#bd3786\"],[0.5555555555555556,\"#d8576b\"],[0.6666666666666666,\"#ed7953\"],[0.7777777777777778,\"#fb9f3a\"],[0.8888888888888888,\"#fdca26\"],[1.0,\"#f0f921\"]],\"sequentialminus\":[[0.0,\"#0d0887\"],[0.1111111111111111,\"#46039f\"],[0.2222222222222222,\"#7201a8\"],[0.3333333333333333,\"#9c179e\"],[0.4444444444444444,\"#bd3786\"],[0.5555555555555556,\"#d8576b\"],[0.6666666666666666,\"#ed7953\"],[0.7777777777777778,\"#fb9f3a\"],[0.8888888888888888,\"#fdca26\"],[1.0,\"#f0f921\"]],\"diverging\":[[0,\"#8e0152\"],[0.1,\"#c51b7d\"],[0.2,\"#de77ae\"],[0.3,\"#f1b6da\"],[0.4,\"#fde0ef\"],[0.5,\"#f7f7f7\"],[0.6,\"#e6f5d0\"],[0.7,\"#b8e186\"],[0.8,\"#7fbc41\"],[0.9,\"#4d9221\"],[1,\"#276419\"]]},\"xaxis\":{\"gridcolor\":\"white\",\"linecolor\":\"white\",\"ticks\":\"\",\"title\":{\"standoff\":15},\"zerolinecolor\":\"white\",\"automargin\":true,\"zerolinewidth\":2},\"yaxis\":{\"gridcolor\":\"white\",\"linecolor\":\"white\",\"ticks\":\"\",\"title\":{\"standoff\":15},\"zerolinecolor\":\"white\",\"automargin\":true,\"zerolinewidth\":2},\"scene\":{\"xaxis\":{\"backgroundcolor\":\"#E5ECF6\",\"gridcolor\":\"white\",\"linecolor\":\"white\",\"showbackground\":true,\"ticks\":\"\",\"zerolinecolor\":\"white\",\"gridwidth\":2},\"yaxis\":{\"backgroundcolor\":\"#E5ECF6\",\"gridcolor\":\"white\",\"linecolor\":\"white\",\"showbackground\":true,\"ticks\":\"\",\"zerolinecolor\":\"white\",\"gridwidth\":2},\"zaxis\":{\"backgroundcolor\":\"#E5ECF6\",\"gridcolor\":\"white\",\"linecolor\":\"white\",\"showbackground\":true,\"ticks\":\"\",\"zerolinecolor\":\"white\",\"gridwidth\":2}},\"shapedefaults\":{\"line\":{\"color\":\"#2a3f5f\"}},\"annotationdefaults\":{\"arrowcolor\":\"#2a3f5f\",\"arrowhead\":0,\"arrowwidth\":1},\"geo\":{\"bgcolor\":\"white\",\"landcolor\":\"#E5ECF6\",\"subunitcolor\":\"white\",\"showland\":true,\"showlakes\":true,\"lakecolor\":\"white\"},\"title\":{\"x\":0.05},\"mapbox\":{\"style\":\"light\"}}},\"xaxis\":{\"anchor\":\"y\",\"domain\":[0.0,1.0],\"title\":{\"text\":\"year_plus_week_number\"}},\"yaxis\":{\"anchor\":\"x\",\"domain\":[0.0,1.0],\"title\":{\"text\":\"demand_score\"}},\"legend\":{\"tracegroupgap\":0},\"title\":{\"text\":\"PSI Cat Week\"}},                        {\"responsive\": true}                    ).then(function(){\n",
              "                            \n",
              "var gd = document.getElementById('25843abd-362d-4b10-a799-ec00a469d549');\n",
              "var x = new MutationObserver(function (mutations, observer) {{\n",
              "        var display = window.getComputedStyle(gd).display;\n",
              "        if (!display || display === 'none') {{\n",
              "            console.log([gd, 'removed!']);\n",
              "            Plotly.purge(gd);\n",
              "            observer.disconnect();\n",
              "        }}\n",
              "}});\n",
              "\n",
              "// Listen for the removal of the full notebook cells\n",
              "var notebookContainer = gd.closest('#notebook-container');\n",
              "if (notebookContainer) {{\n",
              "    x.observe(notebookContainer, {childList: true});\n",
              "}}\n",
              "\n",
              "// Listen for the clearing of the current output cell\n",
              "var outputEl = gd.closest('.output');\n",
              "if (outputEl) {{\n",
              "    x.observe(outputEl, {childList: true});\n",
              "}}\n",
              "\n",
              "                        })                };                            </script>        </div>\n",
              "</body>\n",
              "</html>"
            ]
          },
          "metadata": {}
        }
      ],
      "source": [
        "plot_temp = final_psi_cat_week_df[(final_psi_cat_week_df['product_category'] == 'skin_care') & (final_psi_cat_week_df['priority'] == 'p3') &\n",
        "                                (final_psi_cat_week_df['warehouse_country'] == 'thailand') & (final_psi_cat_week_df['destination'] == 'pakistan')]\n",
        "plot_temp = plot_temp[-32:] # last 8 months (32 weeks) plot\n",
        "fig = px.line(plot_temp, x=\"year_plus_week_number\", y=\"demand_score\", title='PSI Cat Week')\n",
        "fig.show()"
      ]
    },
    {
      "cell_type": "code",
      "source": [
        "demand_psi_cat_week_country_maps = final_psi_cat_week_df.groupby(['product_category', 'priority', 'warehouse_country', 'destination']).agg({'demand_score' : 'nunique'})\\\n",
        ".reset_index().rename(columns = {'demand_score' : 'unique_demand_scores'})\n",
        "print(len(demand_psi_cat_week_country_maps))\n",
        "demand_psi_cat_week_country_maps = demand_psi_cat_week_country_maps[demand_psi_cat_week_country_maps.unique_demand_scores >= 32] # 8 months\n",
        "\n",
        "demand_psi_cat_week_country_maps = demand_psi_cat_week_country_maps.drop('unique_demand_scores', axis = 1)\n",
        "print(len(demand_psi_cat_week_country_maps))"
      ],
      "metadata": {
        "colab": {
          "base_uri": "https://localhost:8080/"
        },
        "id": "YWIfzc1ndHrs",
        "outputId": "b69edf73-d460-4ab3-ad4e-8a77565b2f33"
      },
      "execution_count": null,
      "outputs": [
        {
          "output_type": "stream",
          "name": "stdout",
          "text": [
            "378\n",
            "269\n"
          ]
        }
      ]
    },
    {
      "cell_type": "code",
      "execution_count": null,
      "metadata": {
        "id": "giqyAlEgYard"
      },
      "outputs": [],
      "source": []
    },
    {
      "cell_type": "markdown",
      "metadata": {
        "id": "S1-Yk12dGrHK"
      },
      "source": [
        "# PSI Cat month"
      ]
    },
    {
      "cell_type": "code",
      "execution_count": null,
      "metadata": {
        "colab": {
          "base_uri": "https://localhost:8080/",
          "height": 98
        },
        "id": "rBmi9DX_uPjv",
        "outputId": "8560d914-79d8-4dc7-e7a9-7e3e2935c922"
      },
      "outputs": [
        {
          "output_type": "stream",
          "name": "stdout",
          "text": [
            "(2509, 8)\n"
          ]
        },
        {
          "output_type": "execute_result",
          "data": {
            "text/plain": [
              "   product_category priority warehouse_country destination year_plus_month  \\\n",
              "32             baby       p2         indonesia   indonesia         2022_12   \n",
              "\n",
              "    total_units  depletion  demand_score  \n",
              "32       5760.0        0.0           0.0  "
            ],
            "text/html": [
              "\n",
              "  <div id=\"df-7c9a8590-35b4-4fa4-81c2-1e9db862108a\" class=\"colab-df-container\">\n",
              "    <div>\n",
              "<style scoped>\n",
              "    .dataframe tbody tr th:only-of-type {\n",
              "        vertical-align: middle;\n",
              "    }\n",
              "\n",
              "    .dataframe tbody tr th {\n",
              "        vertical-align: top;\n",
              "    }\n",
              "\n",
              "    .dataframe thead th {\n",
              "        text-align: right;\n",
              "    }\n",
              "</style>\n",
              "<table border=\"1\" class=\"dataframe\">\n",
              "  <thead>\n",
              "    <tr style=\"text-align: right;\">\n",
              "      <th></th>\n",
              "      <th>product_category</th>\n",
              "      <th>priority</th>\n",
              "      <th>warehouse_country</th>\n",
              "      <th>destination</th>\n",
              "      <th>year_plus_month</th>\n",
              "      <th>total_units</th>\n",
              "      <th>depletion</th>\n",
              "      <th>demand_score</th>\n",
              "    </tr>\n",
              "  </thead>\n",
              "  <tbody>\n",
              "    <tr>\n",
              "      <th>32</th>\n",
              "      <td>baby</td>\n",
              "      <td>p2</td>\n",
              "      <td>indonesia</td>\n",
              "      <td>indonesia</td>\n",
              "      <td>2022_12</td>\n",
              "      <td>5760.0</td>\n",
              "      <td>0.0</td>\n",
              "      <td>0.0</td>\n",
              "    </tr>\n",
              "  </tbody>\n",
              "</table>\n",
              "</div>\n",
              "    <div class=\"colab-df-buttons\">\n",
              "\n",
              "  <div class=\"colab-df-container\">\n",
              "    <button class=\"colab-df-convert\" onclick=\"convertToInteractive('df-7c9a8590-35b4-4fa4-81c2-1e9db862108a')\"\n",
              "            title=\"Convert this dataframe to an interactive table.\"\n",
              "            style=\"display:none;\">\n",
              "\n",
              "  <svg xmlns=\"http://www.w3.org/2000/svg\" height=\"24px\" viewBox=\"0 -960 960 960\">\n",
              "    <path d=\"M120-120v-720h720v720H120Zm60-500h600v-160H180v160Zm220 220h160v-160H400v160Zm0 220h160v-160H400v160ZM180-400h160v-160H180v160Zm440 0h160v-160H620v160ZM180-180h160v-160H180v160Zm440 0h160v-160H620v160Z\"/>\n",
              "  </svg>\n",
              "    </button>\n",
              "\n",
              "  <style>\n",
              "    .colab-df-container {\n",
              "      display:flex;\n",
              "      gap: 12px;\n",
              "    }\n",
              "\n",
              "    .colab-df-convert {\n",
              "      background-color: #E8F0FE;\n",
              "      border: none;\n",
              "      border-radius: 50%;\n",
              "      cursor: pointer;\n",
              "      display: none;\n",
              "      fill: #1967D2;\n",
              "      height: 32px;\n",
              "      padding: 0 0 0 0;\n",
              "      width: 32px;\n",
              "    }\n",
              "\n",
              "    .colab-df-convert:hover {\n",
              "      background-color: #E2EBFA;\n",
              "      box-shadow: 0px 1px 2px rgba(60, 64, 67, 0.3), 0px 1px 3px 1px rgba(60, 64, 67, 0.15);\n",
              "      fill: #174EA6;\n",
              "    }\n",
              "\n",
              "    .colab-df-buttons div {\n",
              "      margin-bottom: 4px;\n",
              "    }\n",
              "\n",
              "    [theme=dark] .colab-df-convert {\n",
              "      background-color: #3B4455;\n",
              "      fill: #D2E3FC;\n",
              "    }\n",
              "\n",
              "    [theme=dark] .colab-df-convert:hover {\n",
              "      background-color: #434B5C;\n",
              "      box-shadow: 0px 1px 3px 1px rgba(0, 0, 0, 0.15);\n",
              "      filter: drop-shadow(0px 1px 2px rgba(0, 0, 0, 0.3));\n",
              "      fill: #FFFFFF;\n",
              "    }\n",
              "  </style>\n",
              "\n",
              "    <script>\n",
              "      const buttonEl =\n",
              "        document.querySelector('#df-7c9a8590-35b4-4fa4-81c2-1e9db862108a button.colab-df-convert');\n",
              "      buttonEl.style.display =\n",
              "        google.colab.kernel.accessAllowed ? 'block' : 'none';\n",
              "\n",
              "      async function convertToInteractive(key) {\n",
              "        const element = document.querySelector('#df-7c9a8590-35b4-4fa4-81c2-1e9db862108a');\n",
              "        const dataTable =\n",
              "          await google.colab.kernel.invokeFunction('convertToInteractive',\n",
              "                                                    [key], {});\n",
              "        if (!dataTable) return;\n",
              "\n",
              "        const docLinkHtml = 'Like what you see? Visit the ' +\n",
              "          '<a target=\"_blank\" href=https://colab.research.google.com/notebooks/data_table.ipynb>data table notebook</a>'\n",
              "          + ' to learn more about interactive tables.';\n",
              "        element.innerHTML = '';\n",
              "        dataTable['output_type'] = 'display_data';\n",
              "        await google.colab.output.renderOutput(dataTable, element);\n",
              "        const docLink = document.createElement('div');\n",
              "        docLink.innerHTML = docLinkHtml;\n",
              "        element.appendChild(docLink);\n",
              "      }\n",
              "    </script>\n",
              "  </div>\n",
              "\n",
              "\n",
              "    </div>\n",
              "  </div>\n"
            ],
            "application/vnd.google.colaboratory.intrinsic+json": {
              "type": "dataframe",
              "summary": "{\n  \"name\": \"df_psi_cat_month\",\n  \"rows\": 1,\n  \"fields\": [\n    {\n      \"column\": \"product_category\",\n      \"properties\": {\n        \"dtype\": \"string\",\n        \"num_unique_values\": 1,\n        \"samples\": [\n          \"baby\"\n        ],\n        \"semantic_type\": \"\",\n        \"description\": \"\"\n      }\n    },\n    {\n      \"column\": \"priority\",\n      \"properties\": {\n        \"dtype\": \"string\",\n        \"num_unique_values\": 1,\n        \"samples\": [\n          \"p2\"\n        ],\n        \"semantic_type\": \"\",\n        \"description\": \"\"\n      }\n    },\n    {\n      \"column\": \"warehouse_country\",\n      \"properties\": {\n        \"dtype\": \"string\",\n        \"num_unique_values\": 1,\n        \"samples\": [\n          \"indonesia\"\n        ],\n        \"semantic_type\": \"\",\n        \"description\": \"\"\n      }\n    },\n    {\n      \"column\": \"destination\",\n      \"properties\": {\n        \"dtype\": \"string\",\n        \"num_unique_values\": 1,\n        \"samples\": [\n          \"indonesia\"\n        ],\n        \"semantic_type\": \"\",\n        \"description\": \"\"\n      }\n    },\n    {\n      \"column\": \"year_plus_month\",\n      \"properties\": {\n        \"dtype\": \"string\",\n        \"num_unique_values\": 1,\n        \"samples\": [\n          \"2022_12\"\n        ],\n        \"semantic_type\": \"\",\n        \"description\": \"\"\n      }\n    },\n    {\n      \"column\": \"total_units\",\n      \"properties\": {\n        \"dtype\": \"number\",\n        \"std\": null,\n        \"min\": 5760.0,\n        \"max\": 5760.0,\n        \"num_unique_values\": 1,\n        \"samples\": [\n          5760.0\n        ],\n        \"semantic_type\": \"\",\n        \"description\": \"\"\n      }\n    },\n    {\n      \"column\": \"depletion\",\n      \"properties\": {\n        \"dtype\": \"number\",\n        \"std\": null,\n        \"min\": 0.0,\n        \"max\": 0.0,\n        \"num_unique_values\": 1,\n        \"samples\": [\n          0.0\n        ],\n        \"semantic_type\": \"\",\n        \"description\": \"\"\n      }\n    },\n    {\n      \"column\": \"demand_score\",\n      \"properties\": {\n        \"dtype\": \"number\",\n        \"std\": null,\n        \"min\": 0.0,\n        \"max\": 0.0,\n        \"num_unique_values\": 1,\n        \"samples\": [\n          0.0\n        ],\n        \"semantic_type\": \"\",\n        \"description\": \"\"\n      }\n    }\n  ]\n}"
            }
          },
          "metadata": {},
          "execution_count": 101
        }
      ],
      "source": [
        "df_psi_cat_month = repeated_inv.groupby(['product_category', 'priority', 'warehouse_country', 'destination', 'year_plus_month']).agg({'total_units' : 'sum',\n",
        "                                                                                                                   'depletion' : 'sum'}).reset_index()\n",
        "df_psi_cat_month['demand_score'] = df_psi_cat_month['depletion'] / df_psi_cat_month['total_units']*100\n",
        "print(df_psi_cat_month.shape)\n",
        "df_psi_cat_month.sample()"
      ]
    },
    {
      "cell_type": "code",
      "execution_count": null,
      "metadata": {
        "id": "yGHa2no0G1_i"
      },
      "outputs": [],
      "source": [
        "def fill_missing_year_plus_month_for_cat(df):\n",
        "    # Ensure 'year_plus_month' is string for easy manipulation\n",
        "    df['year_plus_month'] = df['year_plus_month'].astype(str)\n",
        "\n",
        "    # Identify min and max 'year_plus_month' in the original data\n",
        "    min_year_month = df['year_plus_month'].min()\n",
        "    max_year_month = datetime.today().strftime('%Y_%m')  # Last month from today\n",
        "\n",
        "    # Create continuous 'year_plus_month' range\n",
        "    date_range = pd.date_range(start=min_year_month.replace('_', '-'),\n",
        "                               end=max_year_month.replace('_', '-'),\n",
        "                               freq='MS').strftime('%Y_%m').tolist()\n",
        "\n",
        "    # Iterate through unique combinations of keys\n",
        "    filled_dfs = []\n",
        "    for _, group in df.groupby(['product_category', 'priority', 'warehouse_country', 'destination']):\n",
        "        product_details = group.iloc[0][['product_category', 'priority', 'warehouse_country', 'destination']].to_dict()\n",
        "\n",
        "        # Create a DataFrame for the full year_plus_month range\n",
        "        full_range_df = pd.DataFrame({'year_plus_month': date_range})\n",
        "\n",
        "        # Merge with the original group\n",
        "        merged_df = full_range_df.merge(group, on='year_plus_month', how='left')\n",
        "\n",
        "        # Fill forward missing data for non-date columns\n",
        "        for col in ['product_category', 'priority', 'warehouse_country', 'destination',\n",
        "                    'total_units', 'depletion']:\n",
        "            merged_df[col].fillna(method='ffill', inplace=True)\n",
        "\n",
        "        # Fill `demand_score` with appropriate logic\n",
        "        original_demand_score = group[['year_plus_month', 'demand_score']].set_index('year_plus_month')['demand_score']\n",
        "\n",
        "        # Impute demand_score using random values in the desired range\n",
        "        def impute_demand_score(row):\n",
        "            if pd.notna(row['demand_score']):\n",
        "                return row['demand_score']\n",
        "\n",
        "            # Identify previous and next non-null values in the original data\n",
        "            prev_value_candidates = original_demand_score.loc[\n",
        "                original_demand_score.index < row['year_plus_month']\n",
        "            ]\n",
        "            prev_value = prev_value_candidates.iloc[-1] if not prev_value_candidates.empty else 0  # Safe fallback to zero\n",
        "\n",
        "            next_value_candidates = original_demand_score.loc[\n",
        "                original_demand_score.index > row['year_plus_month']\n",
        "            ]\n",
        "            next_value = next_value_candidates.iloc[0] if not next_value_candidates.empty else None\n",
        "\n",
        "            # Impute demand score accordingly\n",
        "            if next_value is not None:\n",
        "                return np.random.uniform(prev_value, next_value)\n",
        "            else:\n",
        "                return np.random.uniform(0, prev_value)\n",
        "\n",
        "        merged_df['demand_score'] = merged_df.apply(impute_demand_score, axis=1)\n",
        "\n",
        "        filled_dfs.append(merged_df)\n",
        "\n",
        "    # Combine all filled DataFrames\n",
        "    filled_df = pd.concat(filled_dfs).reset_index(drop=True)\n",
        "\n",
        "    return filled_df"
      ]
    },
    {
      "cell_type": "code",
      "execution_count": null,
      "metadata": {
        "id": "2ddEu_sFHSpT"
      },
      "outputs": [],
      "source": [
        "final_psi_cat_month_df = fill_missing_year_plus_month_for_cat(df_psi_cat_month)"
      ]
    },
    {
      "cell_type": "code",
      "execution_count": null,
      "metadata": {
        "colab": {
          "base_uri": "https://localhost:8080/",
          "height": 542
        },
        "id": "h9OOdrJtHaWd",
        "outputId": "cb034c38-da96-4296-9f62-4b43ac4dc3a8"
      },
      "outputs": [
        {
          "output_type": "display_data",
          "data": {
            "text/html": [
              "<html>\n",
              "<head><meta charset=\"utf-8\" /></head>\n",
              "<body>\n",
              "    <div>            <script src=\"https://cdnjs.cloudflare.com/ajax/libs/mathjax/2.7.5/MathJax.js?config=TeX-AMS-MML_SVG\"></script><script type=\"text/javascript\">if (window.MathJax && window.MathJax.Hub && window.MathJax.Hub.Config) {window.MathJax.Hub.Config({SVG: {font: \"STIX-Web\"}});}</script>                <script type=\"text/javascript\">window.PlotlyConfig = {MathJaxConfig: 'local'};</script>\n",
              "        <script charset=\"utf-8\" src=\"https://cdn.plot.ly/plotly-2.35.2.min.js\"></script>                <div id=\"ed28b39b-305b-4726-82f6-a5750c1dc619\" class=\"plotly-graph-div\" style=\"height:525px; width:100%;\"></div>            <script type=\"text/javascript\">                                    window.PLOTLYENV=window.PLOTLYENV || {};                                    if (document.getElementById(\"ed28b39b-305b-4726-82f6-a5750c1dc619\")) {                    Plotly.newPlot(                        \"ed28b39b-305b-4726-82f6-a5750c1dc619\",                        [{\"hovertemplate\":\"year_plus_month=%{x}\\u003cbr\\u003edemand_score=%{y}\\u003cextra\\u003e\\u003c\\u002fextra\\u003e\",\"legendgroup\":\"\",\"line\":{\"color\":\"#636efa\",\"dash\":\"solid\"},\"marker\":{\"symbol\":\"circle\"},\"mode\":\"lines\",\"name\":\"\",\"orientation\":\"v\",\"showlegend\":false,\"x\":[\"2024_09\",\"2024_10\",\"2024_11\",\"2024_12\",\"2025_01\",\"2025_02\",\"2025_03\",\"2025_04\"],\"xaxis\":\"x\",\"y\":[4.725564672785507,12.93048975854316,10.387616454486015,13.818228536780428,9.153069228543808,5.078161076940804,11.950753895594776,2.099703145472861],\"yaxis\":\"y\",\"type\":\"scatter\"}],                        {\"template\":{\"data\":{\"histogram2dcontour\":[{\"type\":\"histogram2dcontour\",\"colorbar\":{\"outlinewidth\":0,\"ticks\":\"\"},\"colorscale\":[[0.0,\"#0d0887\"],[0.1111111111111111,\"#46039f\"],[0.2222222222222222,\"#7201a8\"],[0.3333333333333333,\"#9c179e\"],[0.4444444444444444,\"#bd3786\"],[0.5555555555555556,\"#d8576b\"],[0.6666666666666666,\"#ed7953\"],[0.7777777777777778,\"#fb9f3a\"],[0.8888888888888888,\"#fdca26\"],[1.0,\"#f0f921\"]]}],\"choropleth\":[{\"type\":\"choropleth\",\"colorbar\":{\"outlinewidth\":0,\"ticks\":\"\"}}],\"histogram2d\":[{\"type\":\"histogram2d\",\"colorbar\":{\"outlinewidth\":0,\"ticks\":\"\"},\"colorscale\":[[0.0,\"#0d0887\"],[0.1111111111111111,\"#46039f\"],[0.2222222222222222,\"#7201a8\"],[0.3333333333333333,\"#9c179e\"],[0.4444444444444444,\"#bd3786\"],[0.5555555555555556,\"#d8576b\"],[0.6666666666666666,\"#ed7953\"],[0.7777777777777778,\"#fb9f3a\"],[0.8888888888888888,\"#fdca26\"],[1.0,\"#f0f921\"]]}],\"heatmap\":[{\"type\":\"heatmap\",\"colorbar\":{\"outlinewidth\":0,\"ticks\":\"\"},\"colorscale\":[[0.0,\"#0d0887\"],[0.1111111111111111,\"#46039f\"],[0.2222222222222222,\"#7201a8\"],[0.3333333333333333,\"#9c179e\"],[0.4444444444444444,\"#bd3786\"],[0.5555555555555556,\"#d8576b\"],[0.6666666666666666,\"#ed7953\"],[0.7777777777777778,\"#fb9f3a\"],[0.8888888888888888,\"#fdca26\"],[1.0,\"#f0f921\"]]}],\"heatmapgl\":[{\"type\":\"heatmapgl\",\"colorbar\":{\"outlinewidth\":0,\"ticks\":\"\"},\"colorscale\":[[0.0,\"#0d0887\"],[0.1111111111111111,\"#46039f\"],[0.2222222222222222,\"#7201a8\"],[0.3333333333333333,\"#9c179e\"],[0.4444444444444444,\"#bd3786\"],[0.5555555555555556,\"#d8576b\"],[0.6666666666666666,\"#ed7953\"],[0.7777777777777778,\"#fb9f3a\"],[0.8888888888888888,\"#fdca26\"],[1.0,\"#f0f921\"]]}],\"contourcarpet\":[{\"type\":\"contourcarpet\",\"colorbar\":{\"outlinewidth\":0,\"ticks\":\"\"}}],\"contour\":[{\"type\":\"contour\",\"colorbar\":{\"outlinewidth\":0,\"ticks\":\"\"},\"colorscale\":[[0.0,\"#0d0887\"],[0.1111111111111111,\"#46039f\"],[0.2222222222222222,\"#7201a8\"],[0.3333333333333333,\"#9c179e\"],[0.4444444444444444,\"#bd3786\"],[0.5555555555555556,\"#d8576b\"],[0.6666666666666666,\"#ed7953\"],[0.7777777777777778,\"#fb9f3a\"],[0.8888888888888888,\"#fdca26\"],[1.0,\"#f0f921\"]]}],\"surface\":[{\"type\":\"surface\",\"colorbar\":{\"outlinewidth\":0,\"ticks\":\"\"},\"colorscale\":[[0.0,\"#0d0887\"],[0.1111111111111111,\"#46039f\"],[0.2222222222222222,\"#7201a8\"],[0.3333333333333333,\"#9c179e\"],[0.4444444444444444,\"#bd3786\"],[0.5555555555555556,\"#d8576b\"],[0.6666666666666666,\"#ed7953\"],[0.7777777777777778,\"#fb9f3a\"],[0.8888888888888888,\"#fdca26\"],[1.0,\"#f0f921\"]]}],\"mesh3d\":[{\"type\":\"mesh3d\",\"colorbar\":{\"outlinewidth\":0,\"ticks\":\"\"}}],\"scatter\":[{\"fillpattern\":{\"fillmode\":\"overlay\",\"size\":10,\"solidity\":0.2},\"type\":\"scatter\"}],\"parcoords\":[{\"type\":\"parcoords\",\"line\":{\"colorbar\":{\"outlinewidth\":0,\"ticks\":\"\"}}}],\"scatterpolargl\":[{\"type\":\"scatterpolargl\",\"marker\":{\"colorbar\":{\"outlinewidth\":0,\"ticks\":\"\"}}}],\"bar\":[{\"error_x\":{\"color\":\"#2a3f5f\"},\"error_y\":{\"color\":\"#2a3f5f\"},\"marker\":{\"line\":{\"color\":\"#E5ECF6\",\"width\":0.5},\"pattern\":{\"fillmode\":\"overlay\",\"size\":10,\"solidity\":0.2}},\"type\":\"bar\"}],\"scattergeo\":[{\"type\":\"scattergeo\",\"marker\":{\"colorbar\":{\"outlinewidth\":0,\"ticks\":\"\"}}}],\"scatterpolar\":[{\"type\":\"scatterpolar\",\"marker\":{\"colorbar\":{\"outlinewidth\":0,\"ticks\":\"\"}}}],\"histogram\":[{\"marker\":{\"pattern\":{\"fillmode\":\"overlay\",\"size\":10,\"solidity\":0.2}},\"type\":\"histogram\"}],\"scattergl\":[{\"type\":\"scattergl\",\"marker\":{\"colorbar\":{\"outlinewidth\":0,\"ticks\":\"\"}}}],\"scatter3d\":[{\"type\":\"scatter3d\",\"line\":{\"colorbar\":{\"outlinewidth\":0,\"ticks\":\"\"}},\"marker\":{\"colorbar\":{\"outlinewidth\":0,\"ticks\":\"\"}}}],\"scattermapbox\":[{\"type\":\"scattermapbox\",\"marker\":{\"colorbar\":{\"outlinewidth\":0,\"ticks\":\"\"}}}],\"scatterternary\":[{\"type\":\"scatterternary\",\"marker\":{\"colorbar\":{\"outlinewidth\":0,\"ticks\":\"\"}}}],\"scattercarpet\":[{\"type\":\"scattercarpet\",\"marker\":{\"colorbar\":{\"outlinewidth\":0,\"ticks\":\"\"}}}],\"carpet\":[{\"aaxis\":{\"endlinecolor\":\"#2a3f5f\",\"gridcolor\":\"white\",\"linecolor\":\"white\",\"minorgridcolor\":\"white\",\"startlinecolor\":\"#2a3f5f\"},\"baxis\":{\"endlinecolor\":\"#2a3f5f\",\"gridcolor\":\"white\",\"linecolor\":\"white\",\"minorgridcolor\":\"white\",\"startlinecolor\":\"#2a3f5f\"},\"type\":\"carpet\"}],\"table\":[{\"cells\":{\"fill\":{\"color\":\"#EBF0F8\"},\"line\":{\"color\":\"white\"}},\"header\":{\"fill\":{\"color\":\"#C8D4E3\"},\"line\":{\"color\":\"white\"}},\"type\":\"table\"}],\"barpolar\":[{\"marker\":{\"line\":{\"color\":\"#E5ECF6\",\"width\":0.5},\"pattern\":{\"fillmode\":\"overlay\",\"size\":10,\"solidity\":0.2}},\"type\":\"barpolar\"}],\"pie\":[{\"automargin\":true,\"type\":\"pie\"}]},\"layout\":{\"autotypenumbers\":\"strict\",\"colorway\":[\"#636efa\",\"#EF553B\",\"#00cc96\",\"#ab63fa\",\"#FFA15A\",\"#19d3f3\",\"#FF6692\",\"#B6E880\",\"#FF97FF\",\"#FECB52\"],\"font\":{\"color\":\"#2a3f5f\"},\"hovermode\":\"closest\",\"hoverlabel\":{\"align\":\"left\"},\"paper_bgcolor\":\"white\",\"plot_bgcolor\":\"#E5ECF6\",\"polar\":{\"bgcolor\":\"#E5ECF6\",\"angularaxis\":{\"gridcolor\":\"white\",\"linecolor\":\"white\",\"ticks\":\"\"},\"radialaxis\":{\"gridcolor\":\"white\",\"linecolor\":\"white\",\"ticks\":\"\"}},\"ternary\":{\"bgcolor\":\"#E5ECF6\",\"aaxis\":{\"gridcolor\":\"white\",\"linecolor\":\"white\",\"ticks\":\"\"},\"baxis\":{\"gridcolor\":\"white\",\"linecolor\":\"white\",\"ticks\":\"\"},\"caxis\":{\"gridcolor\":\"white\",\"linecolor\":\"white\",\"ticks\":\"\"}},\"coloraxis\":{\"colorbar\":{\"outlinewidth\":0,\"ticks\":\"\"}},\"colorscale\":{\"sequential\":[[0.0,\"#0d0887\"],[0.1111111111111111,\"#46039f\"],[0.2222222222222222,\"#7201a8\"],[0.3333333333333333,\"#9c179e\"],[0.4444444444444444,\"#bd3786\"],[0.5555555555555556,\"#d8576b\"],[0.6666666666666666,\"#ed7953\"],[0.7777777777777778,\"#fb9f3a\"],[0.8888888888888888,\"#fdca26\"],[1.0,\"#f0f921\"]],\"sequentialminus\":[[0.0,\"#0d0887\"],[0.1111111111111111,\"#46039f\"],[0.2222222222222222,\"#7201a8\"],[0.3333333333333333,\"#9c179e\"],[0.4444444444444444,\"#bd3786\"],[0.5555555555555556,\"#d8576b\"],[0.6666666666666666,\"#ed7953\"],[0.7777777777777778,\"#fb9f3a\"],[0.8888888888888888,\"#fdca26\"],[1.0,\"#f0f921\"]],\"diverging\":[[0,\"#8e0152\"],[0.1,\"#c51b7d\"],[0.2,\"#de77ae\"],[0.3,\"#f1b6da\"],[0.4,\"#fde0ef\"],[0.5,\"#f7f7f7\"],[0.6,\"#e6f5d0\"],[0.7,\"#b8e186\"],[0.8,\"#7fbc41\"],[0.9,\"#4d9221\"],[1,\"#276419\"]]},\"xaxis\":{\"gridcolor\":\"white\",\"linecolor\":\"white\",\"ticks\":\"\",\"title\":{\"standoff\":15},\"zerolinecolor\":\"white\",\"automargin\":true,\"zerolinewidth\":2},\"yaxis\":{\"gridcolor\":\"white\",\"linecolor\":\"white\",\"ticks\":\"\",\"title\":{\"standoff\":15},\"zerolinecolor\":\"white\",\"automargin\":true,\"zerolinewidth\":2},\"scene\":{\"xaxis\":{\"backgroundcolor\":\"#E5ECF6\",\"gridcolor\":\"white\",\"linecolor\":\"white\",\"showbackground\":true,\"ticks\":\"\",\"zerolinecolor\":\"white\",\"gridwidth\":2},\"yaxis\":{\"backgroundcolor\":\"#E5ECF6\",\"gridcolor\":\"white\",\"linecolor\":\"white\",\"showbackground\":true,\"ticks\":\"\",\"zerolinecolor\":\"white\",\"gridwidth\":2},\"zaxis\":{\"backgroundcolor\":\"#E5ECF6\",\"gridcolor\":\"white\",\"linecolor\":\"white\",\"showbackground\":true,\"ticks\":\"\",\"zerolinecolor\":\"white\",\"gridwidth\":2}},\"shapedefaults\":{\"line\":{\"color\":\"#2a3f5f\"}},\"annotationdefaults\":{\"arrowcolor\":\"#2a3f5f\",\"arrowhead\":0,\"arrowwidth\":1},\"geo\":{\"bgcolor\":\"white\",\"landcolor\":\"#E5ECF6\",\"subunitcolor\":\"white\",\"showland\":true,\"showlakes\":true,\"lakecolor\":\"white\"},\"title\":{\"x\":0.05},\"mapbox\":{\"style\":\"light\"}}},\"xaxis\":{\"anchor\":\"y\",\"domain\":[0.0,1.0],\"title\":{\"text\":\"year_plus_month\"}},\"yaxis\":{\"anchor\":\"x\",\"domain\":[0.0,1.0],\"title\":{\"text\":\"demand_score\"}},\"legend\":{\"tracegroupgap\":0},\"title\":{\"text\":\"PSI Cat Month\"}},                        {\"responsive\": true}                    ).then(function(){\n",
              "                            \n",
              "var gd = document.getElementById('ed28b39b-305b-4726-82f6-a5750c1dc619');\n",
              "var x = new MutationObserver(function (mutations, observer) {{\n",
              "        var display = window.getComputedStyle(gd).display;\n",
              "        if (!display || display === 'none') {{\n",
              "            console.log([gd, 'removed!']);\n",
              "            Plotly.purge(gd);\n",
              "            observer.disconnect();\n",
              "        }}\n",
              "}});\n",
              "\n",
              "// Listen for the removal of the full notebook cells\n",
              "var notebookContainer = gd.closest('#notebook-container');\n",
              "if (notebookContainer) {{\n",
              "    x.observe(notebookContainer, {childList: true});\n",
              "}}\n",
              "\n",
              "// Listen for the clearing of the current output cell\n",
              "var outputEl = gd.closest('.output');\n",
              "if (outputEl) {{\n",
              "    x.observe(outputEl, {childList: true});\n",
              "}}\n",
              "\n",
              "                        })                };                            </script>        </div>\n",
              "</body>\n",
              "</html>"
            ]
          },
          "metadata": {}
        }
      ],
      "source": [
        "plot_temp = final_psi_cat_month_df[(final_psi_cat_month_df['product_category'] == 'hair_care') & (final_psi_cat_month_df['priority'] == 'p3') &\n",
        "                                (final_psi_cat_month_df['warehouse_country'] == 'malaysia') & (final_psi_cat_month_df['destination'] == 'malaysia')]\n",
        "plot_temp = plot_temp[-8:] # last 8 months plot\n",
        "fig = px.line(plot_temp, x=\"year_plus_month\", y=\"demand_score\", title='PSI Cat Month')\n",
        "fig.show()"
      ]
    },
    {
      "cell_type": "code",
      "source": [
        "demand_psi_cat_month_country_maps = final_psi_cat_month_df.groupby(['product_category', 'priority', 'warehouse_country', 'destination']).agg({'demand_score' : 'nunique'})\\\n",
        ".reset_index().rename(columns = {'demand_score' : 'unique_demand_scores'})\n",
        "print(len(demand_psi_cat_month_country_maps))\n",
        "demand_psi_cat_month_country_maps = demand_psi_cat_month_country_maps[demand_psi_cat_month_country_maps.unique_demand_scores >= 8] # 8 months\n",
        "\n",
        "demand_psi_cat_month_country_maps = demand_psi_cat_month_country_maps.drop('unique_demand_scores', axis = 1)\n",
        "print(len(demand_psi_cat_month_country_maps))"
      ],
      "metadata": {
        "colab": {
          "base_uri": "https://localhost:8080/"
        },
        "id": "qDpqwTvSr0Cl",
        "outputId": "1c77195e-a717-4b08-b623-32acdc42ebd8"
      },
      "execution_count": null,
      "outputs": [
        {
          "output_type": "stream",
          "name": "stdout",
          "text": [
            "378\n",
            "271\n"
          ]
        }
      ]
    },
    {
      "cell_type": "code",
      "execution_count": null,
      "metadata": {
        "id": "Bpo13q91Mmb6"
      },
      "outputs": [],
      "source": []
    },
    {
      "cell_type": "markdown",
      "metadata": {
        "id": "UEpcfbIBNFNd"
      },
      "source": [
        "# PSI Sub cat week"
      ]
    },
    {
      "cell_type": "code",
      "execution_count": null,
      "metadata": {
        "colab": {
          "base_uri": "https://localhost:8080/",
          "height": 98
        },
        "id": "MSFXnM8dNAlx",
        "outputId": "7521890f-39ae-417a-9557-f552a0c6c27a"
      },
      "outputs": [
        {
          "output_type": "stream",
          "name": "stdout",
          "text": [
            "(5977, 8)\n"
          ]
        },
        {
          "output_type": "execute_result",
          "data": {
            "text/plain": [
              "     product_subcategory priority warehouse_country destination  \\\n",
              "3418       health_drinks       p3         indonesia   indonesia   \n",
              "\n",
              "     year_plus_week_number  total_units    depletion  demand_score  \n",
              "3418               2024_19  2743.923263  1066.211624     38.857195  "
            ],
            "text/html": [
              "\n",
              "  <div id=\"df-31a74bb1-558f-4ded-b5f5-ace93ec960d2\" class=\"colab-df-container\">\n",
              "    <div>\n",
              "<style scoped>\n",
              "    .dataframe tbody tr th:only-of-type {\n",
              "        vertical-align: middle;\n",
              "    }\n",
              "\n",
              "    .dataframe tbody tr th {\n",
              "        vertical-align: top;\n",
              "    }\n",
              "\n",
              "    .dataframe thead th {\n",
              "        text-align: right;\n",
              "    }\n",
              "</style>\n",
              "<table border=\"1\" class=\"dataframe\">\n",
              "  <thead>\n",
              "    <tr style=\"text-align: right;\">\n",
              "      <th></th>\n",
              "      <th>product_subcategory</th>\n",
              "      <th>priority</th>\n",
              "      <th>warehouse_country</th>\n",
              "      <th>destination</th>\n",
              "      <th>year_plus_week_number</th>\n",
              "      <th>total_units</th>\n",
              "      <th>depletion</th>\n",
              "      <th>demand_score</th>\n",
              "    </tr>\n",
              "  </thead>\n",
              "  <tbody>\n",
              "    <tr>\n",
              "      <th>3418</th>\n",
              "      <td>health_drinks</td>\n",
              "      <td>p3</td>\n",
              "      <td>indonesia</td>\n",
              "      <td>indonesia</td>\n",
              "      <td>2024_19</td>\n",
              "      <td>2743.923263</td>\n",
              "      <td>1066.211624</td>\n",
              "      <td>38.857195</td>\n",
              "    </tr>\n",
              "  </tbody>\n",
              "</table>\n",
              "</div>\n",
              "    <div class=\"colab-df-buttons\">\n",
              "\n",
              "  <div class=\"colab-df-container\">\n",
              "    <button class=\"colab-df-convert\" onclick=\"convertToInteractive('df-31a74bb1-558f-4ded-b5f5-ace93ec960d2')\"\n",
              "            title=\"Convert this dataframe to an interactive table.\"\n",
              "            style=\"display:none;\">\n",
              "\n",
              "  <svg xmlns=\"http://www.w3.org/2000/svg\" height=\"24px\" viewBox=\"0 -960 960 960\">\n",
              "    <path d=\"M120-120v-720h720v720H120Zm60-500h600v-160H180v160Zm220 220h160v-160H400v160Zm0 220h160v-160H400v160ZM180-400h160v-160H180v160Zm440 0h160v-160H620v160ZM180-180h160v-160H180v160Zm440 0h160v-160H620v160Z\"/>\n",
              "  </svg>\n",
              "    </button>\n",
              "\n",
              "  <style>\n",
              "    .colab-df-container {\n",
              "      display:flex;\n",
              "      gap: 12px;\n",
              "    }\n",
              "\n",
              "    .colab-df-convert {\n",
              "      background-color: #E8F0FE;\n",
              "      border: none;\n",
              "      border-radius: 50%;\n",
              "      cursor: pointer;\n",
              "      display: none;\n",
              "      fill: #1967D2;\n",
              "      height: 32px;\n",
              "      padding: 0 0 0 0;\n",
              "      width: 32px;\n",
              "    }\n",
              "\n",
              "    .colab-df-convert:hover {\n",
              "      background-color: #E2EBFA;\n",
              "      box-shadow: 0px 1px 2px rgba(60, 64, 67, 0.3), 0px 1px 3px 1px rgba(60, 64, 67, 0.15);\n",
              "      fill: #174EA6;\n",
              "    }\n",
              "\n",
              "    .colab-df-buttons div {\n",
              "      margin-bottom: 4px;\n",
              "    }\n",
              "\n",
              "    [theme=dark] .colab-df-convert {\n",
              "      background-color: #3B4455;\n",
              "      fill: #D2E3FC;\n",
              "    }\n",
              "\n",
              "    [theme=dark] .colab-df-convert:hover {\n",
              "      background-color: #434B5C;\n",
              "      box-shadow: 0px 1px 3px 1px rgba(0, 0, 0, 0.15);\n",
              "      filter: drop-shadow(0px 1px 2px rgba(0, 0, 0, 0.3));\n",
              "      fill: #FFFFFF;\n",
              "    }\n",
              "  </style>\n",
              "\n",
              "    <script>\n",
              "      const buttonEl =\n",
              "        document.querySelector('#df-31a74bb1-558f-4ded-b5f5-ace93ec960d2 button.colab-df-convert');\n",
              "      buttonEl.style.display =\n",
              "        google.colab.kernel.accessAllowed ? 'block' : 'none';\n",
              "\n",
              "      async function convertToInteractive(key) {\n",
              "        const element = document.querySelector('#df-31a74bb1-558f-4ded-b5f5-ace93ec960d2');\n",
              "        const dataTable =\n",
              "          await google.colab.kernel.invokeFunction('convertToInteractive',\n",
              "                                                    [key], {});\n",
              "        if (!dataTable) return;\n",
              "\n",
              "        const docLinkHtml = 'Like what you see? Visit the ' +\n",
              "          '<a target=\"_blank\" href=https://colab.research.google.com/notebooks/data_table.ipynb>data table notebook</a>'\n",
              "          + ' to learn more about interactive tables.';\n",
              "        element.innerHTML = '';\n",
              "        dataTable['output_type'] = 'display_data';\n",
              "        await google.colab.output.renderOutput(dataTable, element);\n",
              "        const docLink = document.createElement('div');\n",
              "        docLink.innerHTML = docLinkHtml;\n",
              "        element.appendChild(docLink);\n",
              "      }\n",
              "    </script>\n",
              "  </div>\n",
              "\n",
              "\n",
              "    </div>\n",
              "  </div>\n"
            ],
            "application/vnd.google.colaboratory.intrinsic+json": {
              "type": "dataframe",
              "summary": "{\n  \"name\": \"df_psi_subcat_week\",\n  \"rows\": 1,\n  \"fields\": [\n    {\n      \"column\": \"product_subcategory\",\n      \"properties\": {\n        \"dtype\": \"string\",\n        \"num_unique_values\": 1,\n        \"samples\": [\n          \"health_drinks\"\n        ],\n        \"semantic_type\": \"\",\n        \"description\": \"\"\n      }\n    },\n    {\n      \"column\": \"priority\",\n      \"properties\": {\n        \"dtype\": \"string\",\n        \"num_unique_values\": 1,\n        \"samples\": [\n          \"p3\"\n        ],\n        \"semantic_type\": \"\",\n        \"description\": \"\"\n      }\n    },\n    {\n      \"column\": \"warehouse_country\",\n      \"properties\": {\n        \"dtype\": \"string\",\n        \"num_unique_values\": 1,\n        \"samples\": [\n          \"indonesia\"\n        ],\n        \"semantic_type\": \"\",\n        \"description\": \"\"\n      }\n    },\n    {\n      \"column\": \"destination\",\n      \"properties\": {\n        \"dtype\": \"string\",\n        \"num_unique_values\": 1,\n        \"samples\": [\n          \"indonesia\"\n        ],\n        \"semantic_type\": \"\",\n        \"description\": \"\"\n      }\n    },\n    {\n      \"column\": \"year_plus_week_number\",\n      \"properties\": {\n        \"dtype\": \"string\",\n        \"num_unique_values\": 1,\n        \"samples\": [\n          \"2024_19\"\n        ],\n        \"semantic_type\": \"\",\n        \"description\": \"\"\n      }\n    },\n    {\n      \"column\": \"total_units\",\n      \"properties\": {\n        \"dtype\": \"number\",\n        \"std\": null,\n        \"min\": 2743.9232631443338,\n        \"max\": 2743.9232631443338,\n        \"num_unique_values\": 1,\n        \"samples\": [\n          2743.9232631443338\n        ],\n        \"semantic_type\": \"\",\n        \"description\": \"\"\n      }\n    },\n    {\n      \"column\": \"depletion\",\n      \"properties\": {\n        \"dtype\": \"number\",\n        \"std\": null,\n        \"min\": 1066.211624047003,\n        \"max\": 1066.211624047003,\n        \"num_unique_values\": 1,\n        \"samples\": [\n          1066.211624047003\n        ],\n        \"semantic_type\": \"\",\n        \"description\": \"\"\n      }\n    },\n    {\n      \"column\": \"demand_score\",\n      \"properties\": {\n        \"dtype\": \"number\",\n        \"std\": null,\n        \"min\": 38.85719540222138,\n        \"max\": 38.85719540222138,\n        \"num_unique_values\": 1,\n        \"samples\": [\n          38.85719540222138\n        ],\n        \"semantic_type\": \"\",\n        \"description\": \"\"\n      }\n    }\n  ]\n}"
            }
          },
          "metadata": {},
          "execution_count": 106
        }
      ],
      "source": [
        "df_psi_subcat_week = repeated_inv.groupby(['product_subcategory', 'priority', 'warehouse_country', 'destination', 'year_plus_week_number']).agg({'total_units' : 'sum',\n",
        "                                                                                                                   'depletion' : 'sum'}).reset_index()\n",
        "df_psi_subcat_week['demand_score'] = df_psi_subcat_week['depletion'] / df_psi_subcat_week['total_units']*100\n",
        "print(df_psi_subcat_week.shape)\n",
        "df_psi_subcat_week.sample()"
      ]
    },
    {
      "cell_type": "code",
      "execution_count": null,
      "metadata": {
        "colab": {
          "base_uri": "https://localhost:8080/"
        },
        "id": "jLVHg-zbNi81",
        "outputId": "137b3855-cdb9-4aa1-bfb3-c2ab579da346"
      },
      "outputs": [
        {
          "output_type": "stream",
          "name": "stdout",
          "text": [
            "880\n"
          ]
        }
      ],
      "source": [
        "final_psi_subcat_week_df = pd.DataFrame()\n",
        "filter_vals = df_psi_subcat_week[['product_subcategory', 'priority', 'warehouse_country', 'destination']].drop_duplicates().values\n",
        "print(len(filter_vals))\n",
        "\n",
        "for subcat, p, s, d in filter_vals:\n",
        "  temp = df_psi_subcat_week[(df_psi_subcat_week['product_subcategory'] == subcat) & (df_psi_subcat_week['priority'] == p) & (df_psi_subcat_week['warehouse_country'] == s) &\n",
        "                            (df_psi_subcat_week['destination'] == d)].sort_values(by = 'year_plus_week_number')\n",
        "\n",
        "  new_temp = fill_missing_weeks_to_present(temp)\n",
        "\n",
        "  new_temp = pd.merge(new_temp[['product_subcategory', 'priority', 'warehouse_country', 'destination', 'year_plus_week_number']],\n",
        "         temp, 'left', on = ['product_subcategory', 'priority', 'warehouse_country', 'destination', 'year_plus_week_number'])\n",
        "  fill_demand_score_with_previous_and_next_non_null_values(new_temp)\n",
        "  final_psi_subcat_week_df = pd.concat([final_psi_subcat_week_df, new_temp], ignore_index=True)"
      ]
    },
    {
      "cell_type": "code",
      "execution_count": null,
      "metadata": {
        "colab": {
          "base_uri": "https://localhost:8080/",
          "height": 542
        },
        "id": "MzxmBBhxN7rv",
        "outputId": "9d066212-6de5-4ddc-e7d3-6dc8f731fb03"
      },
      "outputs": [
        {
          "output_type": "display_data",
          "data": {
            "text/html": [
              "<html>\n",
              "<head><meta charset=\"utf-8\" /></head>\n",
              "<body>\n",
              "    <div>            <script src=\"https://cdnjs.cloudflare.com/ajax/libs/mathjax/2.7.5/MathJax.js?config=TeX-AMS-MML_SVG\"></script><script type=\"text/javascript\">if (window.MathJax && window.MathJax.Hub && window.MathJax.Hub.Config) {window.MathJax.Hub.Config({SVG: {font: \"STIX-Web\"}});}</script>                <script type=\"text/javascript\">window.PlotlyConfig = {MathJaxConfig: 'local'};</script>\n",
              "        <script charset=\"utf-8\" src=\"https://cdn.plot.ly/plotly-2.35.2.min.js\"></script>                <div id=\"4dad7899-fa45-42c6-907f-aa80dc09cbef\" class=\"plotly-graph-div\" style=\"height:525px; width:100%;\"></div>            <script type=\"text/javascript\">                                    window.PLOTLYENV=window.PLOTLYENV || {};                                    if (document.getElementById(\"4dad7899-fa45-42c6-907f-aa80dc09cbef\")) {                    Plotly.newPlot(                        \"4dad7899-fa45-42c6-907f-aa80dc09cbef\",                        [{\"hovertemplate\":\"year_plus_week_number=%{x}\\u003cbr\\u003edemand_score=%{y}\\u003cextra\\u003e\\u003c\\u002fextra\\u003e\",\"legendgroup\":\"\",\"line\":{\"color\":\"#636efa\",\"dash\":\"solid\"},\"marker\":{\"symbol\":\"circle\"},\"mode\":\"lines\",\"name\":\"\",\"orientation\":\"v\",\"showlegend\":false,\"x\":[\"2024_39\",\"2024_40\",\"2024_41\",\"2024_42\",\"2024_43\",\"2024_44\",\"2024_45\",\"2024_46\",\"2024_47\",\"2024_48\",\"2024_49\",\"2024_50\",\"2024_51\",\"2025_52\",\"2025_01\",\"2025_02\",\"2025_03\",\"2025_04\",\"2025_05\",\"2025_06\",\"2025_07\",\"2025_08\",\"2025_09\",\"2025_10\",\"2025_11\",\"2025_12\",\"2025_13\",\"2025_14\",\"2025_15\",\"2025_16\",\"2025_17\",\"2025_18\"],\"xaxis\":\"x\",\"y\":[0.6071590983198342,0.11241099576337828,0.8863627274379678,0.33021453014600466,0.533909411962252,0.9387608408602154,0.08023501225189184,0.17034363717607529,0.15957396833683918,0.5146494337904752,0.49232314307913855,0.05687488544607156,0.5574956235662487,0.11990832571339577,0.7030833592679221,0.38128553586373315,0.3024117732692809,0.9043969568150038,0.6773413667536093,0.6339369266121216,1.0284842992196774,1.0396086372970008,0.787297998896807,0.5622254204619404,0.14830759144940703,1.0289891320214062,0.531940317137826,0.567110802021003,0.18999438365835347,0.5937314622736327,0.3580098776418312,1.027445030682506],\"yaxis\":\"y\",\"type\":\"scatter\"}],                        {\"template\":{\"data\":{\"histogram2dcontour\":[{\"type\":\"histogram2dcontour\",\"colorbar\":{\"outlinewidth\":0,\"ticks\":\"\"},\"colorscale\":[[0.0,\"#0d0887\"],[0.1111111111111111,\"#46039f\"],[0.2222222222222222,\"#7201a8\"],[0.3333333333333333,\"#9c179e\"],[0.4444444444444444,\"#bd3786\"],[0.5555555555555556,\"#d8576b\"],[0.6666666666666666,\"#ed7953\"],[0.7777777777777778,\"#fb9f3a\"],[0.8888888888888888,\"#fdca26\"],[1.0,\"#f0f921\"]]}],\"choropleth\":[{\"type\":\"choropleth\",\"colorbar\":{\"outlinewidth\":0,\"ticks\":\"\"}}],\"histogram2d\":[{\"type\":\"histogram2d\",\"colorbar\":{\"outlinewidth\":0,\"ticks\":\"\"},\"colorscale\":[[0.0,\"#0d0887\"],[0.1111111111111111,\"#46039f\"],[0.2222222222222222,\"#7201a8\"],[0.3333333333333333,\"#9c179e\"],[0.4444444444444444,\"#bd3786\"],[0.5555555555555556,\"#d8576b\"],[0.6666666666666666,\"#ed7953\"],[0.7777777777777778,\"#fb9f3a\"],[0.8888888888888888,\"#fdca26\"],[1.0,\"#f0f921\"]]}],\"heatmap\":[{\"type\":\"heatmap\",\"colorbar\":{\"outlinewidth\":0,\"ticks\":\"\"},\"colorscale\":[[0.0,\"#0d0887\"],[0.1111111111111111,\"#46039f\"],[0.2222222222222222,\"#7201a8\"],[0.3333333333333333,\"#9c179e\"],[0.4444444444444444,\"#bd3786\"],[0.5555555555555556,\"#d8576b\"],[0.6666666666666666,\"#ed7953\"],[0.7777777777777778,\"#fb9f3a\"],[0.8888888888888888,\"#fdca26\"],[1.0,\"#f0f921\"]]}],\"heatmapgl\":[{\"type\":\"heatmapgl\",\"colorbar\":{\"outlinewidth\":0,\"ticks\":\"\"},\"colorscale\":[[0.0,\"#0d0887\"],[0.1111111111111111,\"#46039f\"],[0.2222222222222222,\"#7201a8\"],[0.3333333333333333,\"#9c179e\"],[0.4444444444444444,\"#bd3786\"],[0.5555555555555556,\"#d8576b\"],[0.6666666666666666,\"#ed7953\"],[0.7777777777777778,\"#fb9f3a\"],[0.8888888888888888,\"#fdca26\"],[1.0,\"#f0f921\"]]}],\"contourcarpet\":[{\"type\":\"contourcarpet\",\"colorbar\":{\"outlinewidth\":0,\"ticks\":\"\"}}],\"contour\":[{\"type\":\"contour\",\"colorbar\":{\"outlinewidth\":0,\"ticks\":\"\"},\"colorscale\":[[0.0,\"#0d0887\"],[0.1111111111111111,\"#46039f\"],[0.2222222222222222,\"#7201a8\"],[0.3333333333333333,\"#9c179e\"],[0.4444444444444444,\"#bd3786\"],[0.5555555555555556,\"#d8576b\"],[0.6666666666666666,\"#ed7953\"],[0.7777777777777778,\"#fb9f3a\"],[0.8888888888888888,\"#fdca26\"],[1.0,\"#f0f921\"]]}],\"surface\":[{\"type\":\"surface\",\"colorbar\":{\"outlinewidth\":0,\"ticks\":\"\"},\"colorscale\":[[0.0,\"#0d0887\"],[0.1111111111111111,\"#46039f\"],[0.2222222222222222,\"#7201a8\"],[0.3333333333333333,\"#9c179e\"],[0.4444444444444444,\"#bd3786\"],[0.5555555555555556,\"#d8576b\"],[0.6666666666666666,\"#ed7953\"],[0.7777777777777778,\"#fb9f3a\"],[0.8888888888888888,\"#fdca26\"],[1.0,\"#f0f921\"]]}],\"mesh3d\":[{\"type\":\"mesh3d\",\"colorbar\":{\"outlinewidth\":0,\"ticks\":\"\"}}],\"scatter\":[{\"fillpattern\":{\"fillmode\":\"overlay\",\"size\":10,\"solidity\":0.2},\"type\":\"scatter\"}],\"parcoords\":[{\"type\":\"parcoords\",\"line\":{\"colorbar\":{\"outlinewidth\":0,\"ticks\":\"\"}}}],\"scatterpolargl\":[{\"type\":\"scatterpolargl\",\"marker\":{\"colorbar\":{\"outlinewidth\":0,\"ticks\":\"\"}}}],\"bar\":[{\"error_x\":{\"color\":\"#2a3f5f\"},\"error_y\":{\"color\":\"#2a3f5f\"},\"marker\":{\"line\":{\"color\":\"#E5ECF6\",\"width\":0.5},\"pattern\":{\"fillmode\":\"overlay\",\"size\":10,\"solidity\":0.2}},\"type\":\"bar\"}],\"scattergeo\":[{\"type\":\"scattergeo\",\"marker\":{\"colorbar\":{\"outlinewidth\":0,\"ticks\":\"\"}}}],\"scatterpolar\":[{\"type\":\"scatterpolar\",\"marker\":{\"colorbar\":{\"outlinewidth\":0,\"ticks\":\"\"}}}],\"histogram\":[{\"marker\":{\"pattern\":{\"fillmode\":\"overlay\",\"size\":10,\"solidity\":0.2}},\"type\":\"histogram\"}],\"scattergl\":[{\"type\":\"scattergl\",\"marker\":{\"colorbar\":{\"outlinewidth\":0,\"ticks\":\"\"}}}],\"scatter3d\":[{\"type\":\"scatter3d\",\"line\":{\"colorbar\":{\"outlinewidth\":0,\"ticks\":\"\"}},\"marker\":{\"colorbar\":{\"outlinewidth\":0,\"ticks\":\"\"}}}],\"scattermapbox\":[{\"type\":\"scattermapbox\",\"marker\":{\"colorbar\":{\"outlinewidth\":0,\"ticks\":\"\"}}}],\"scatterternary\":[{\"type\":\"scatterternary\",\"marker\":{\"colorbar\":{\"outlinewidth\":0,\"ticks\":\"\"}}}],\"scattercarpet\":[{\"type\":\"scattercarpet\",\"marker\":{\"colorbar\":{\"outlinewidth\":0,\"ticks\":\"\"}}}],\"carpet\":[{\"aaxis\":{\"endlinecolor\":\"#2a3f5f\",\"gridcolor\":\"white\",\"linecolor\":\"white\",\"minorgridcolor\":\"white\",\"startlinecolor\":\"#2a3f5f\"},\"baxis\":{\"endlinecolor\":\"#2a3f5f\",\"gridcolor\":\"white\",\"linecolor\":\"white\",\"minorgridcolor\":\"white\",\"startlinecolor\":\"#2a3f5f\"},\"type\":\"carpet\"}],\"table\":[{\"cells\":{\"fill\":{\"color\":\"#EBF0F8\"},\"line\":{\"color\":\"white\"}},\"header\":{\"fill\":{\"color\":\"#C8D4E3\"},\"line\":{\"color\":\"white\"}},\"type\":\"table\"}],\"barpolar\":[{\"marker\":{\"line\":{\"color\":\"#E5ECF6\",\"width\":0.5},\"pattern\":{\"fillmode\":\"overlay\",\"size\":10,\"solidity\":0.2}},\"type\":\"barpolar\"}],\"pie\":[{\"automargin\":true,\"type\":\"pie\"}]},\"layout\":{\"autotypenumbers\":\"strict\",\"colorway\":[\"#636efa\",\"#EF553B\",\"#00cc96\",\"#ab63fa\",\"#FFA15A\",\"#19d3f3\",\"#FF6692\",\"#B6E880\",\"#FF97FF\",\"#FECB52\"],\"font\":{\"color\":\"#2a3f5f\"},\"hovermode\":\"closest\",\"hoverlabel\":{\"align\":\"left\"},\"paper_bgcolor\":\"white\",\"plot_bgcolor\":\"#E5ECF6\",\"polar\":{\"bgcolor\":\"#E5ECF6\",\"angularaxis\":{\"gridcolor\":\"white\",\"linecolor\":\"white\",\"ticks\":\"\"},\"radialaxis\":{\"gridcolor\":\"white\",\"linecolor\":\"white\",\"ticks\":\"\"}},\"ternary\":{\"bgcolor\":\"#E5ECF6\",\"aaxis\":{\"gridcolor\":\"white\",\"linecolor\":\"white\",\"ticks\":\"\"},\"baxis\":{\"gridcolor\":\"white\",\"linecolor\":\"white\",\"ticks\":\"\"},\"caxis\":{\"gridcolor\":\"white\",\"linecolor\":\"white\",\"ticks\":\"\"}},\"coloraxis\":{\"colorbar\":{\"outlinewidth\":0,\"ticks\":\"\"}},\"colorscale\":{\"sequential\":[[0.0,\"#0d0887\"],[0.1111111111111111,\"#46039f\"],[0.2222222222222222,\"#7201a8\"],[0.3333333333333333,\"#9c179e\"],[0.4444444444444444,\"#bd3786\"],[0.5555555555555556,\"#d8576b\"],[0.6666666666666666,\"#ed7953\"],[0.7777777777777778,\"#fb9f3a\"],[0.8888888888888888,\"#fdca26\"],[1.0,\"#f0f921\"]],\"sequentialminus\":[[0.0,\"#0d0887\"],[0.1111111111111111,\"#46039f\"],[0.2222222222222222,\"#7201a8\"],[0.3333333333333333,\"#9c179e\"],[0.4444444444444444,\"#bd3786\"],[0.5555555555555556,\"#d8576b\"],[0.6666666666666666,\"#ed7953\"],[0.7777777777777778,\"#fb9f3a\"],[0.8888888888888888,\"#fdca26\"],[1.0,\"#f0f921\"]],\"diverging\":[[0,\"#8e0152\"],[0.1,\"#c51b7d\"],[0.2,\"#de77ae\"],[0.3,\"#f1b6da\"],[0.4,\"#fde0ef\"],[0.5,\"#f7f7f7\"],[0.6,\"#e6f5d0\"],[0.7,\"#b8e186\"],[0.8,\"#7fbc41\"],[0.9,\"#4d9221\"],[1,\"#276419\"]]},\"xaxis\":{\"gridcolor\":\"white\",\"linecolor\":\"white\",\"ticks\":\"\",\"title\":{\"standoff\":15},\"zerolinecolor\":\"white\",\"automargin\":true,\"zerolinewidth\":2},\"yaxis\":{\"gridcolor\":\"white\",\"linecolor\":\"white\",\"ticks\":\"\",\"title\":{\"standoff\":15},\"zerolinecolor\":\"white\",\"automargin\":true,\"zerolinewidth\":2},\"scene\":{\"xaxis\":{\"backgroundcolor\":\"#E5ECF6\",\"gridcolor\":\"white\",\"linecolor\":\"white\",\"showbackground\":true,\"ticks\":\"\",\"zerolinecolor\":\"white\",\"gridwidth\":2},\"yaxis\":{\"backgroundcolor\":\"#E5ECF6\",\"gridcolor\":\"white\",\"linecolor\":\"white\",\"showbackground\":true,\"ticks\":\"\",\"zerolinecolor\":\"white\",\"gridwidth\":2},\"zaxis\":{\"backgroundcolor\":\"#E5ECF6\",\"gridcolor\":\"white\",\"linecolor\":\"white\",\"showbackground\":true,\"ticks\":\"\",\"zerolinecolor\":\"white\",\"gridwidth\":2}},\"shapedefaults\":{\"line\":{\"color\":\"#2a3f5f\"}},\"annotationdefaults\":{\"arrowcolor\":\"#2a3f5f\",\"arrowhead\":0,\"arrowwidth\":1},\"geo\":{\"bgcolor\":\"white\",\"landcolor\":\"#E5ECF6\",\"subunitcolor\":\"white\",\"showland\":true,\"showlakes\":true,\"lakecolor\":\"white\"},\"title\":{\"x\":0.05},\"mapbox\":{\"style\":\"light\"}}},\"xaxis\":{\"anchor\":\"y\",\"domain\":[0.0,1.0],\"title\":{\"text\":\"year_plus_week_number\"}},\"yaxis\":{\"anchor\":\"x\",\"domain\":[0.0,1.0],\"title\":{\"text\":\"demand_score\"}},\"legend\":{\"tracegroupgap\":0},\"title\":{\"text\":\"PSI SubCat Week\"}},                        {\"responsive\": true}                    ).then(function(){\n",
              "                            \n",
              "var gd = document.getElementById('4dad7899-fa45-42c6-907f-aa80dc09cbef');\n",
              "var x = new MutationObserver(function (mutations, observer) {{\n",
              "        var display = window.getComputedStyle(gd).display;\n",
              "        if (!display || display === 'none') {{\n",
              "            console.log([gd, 'removed!']);\n",
              "            Plotly.purge(gd);\n",
              "            observer.disconnect();\n",
              "        }}\n",
              "}});\n",
              "\n",
              "// Listen for the removal of the full notebook cells\n",
              "var notebookContainer = gd.closest('#notebook-container');\n",
              "if (notebookContainer) {{\n",
              "    x.observe(notebookContainer, {childList: true});\n",
              "}}\n",
              "\n",
              "// Listen for the clearing of the current output cell\n",
              "var outputEl = gd.closest('.output');\n",
              "if (outputEl) {{\n",
              "    x.observe(outputEl, {childList: true});\n",
              "}}\n",
              "\n",
              "                        })                };                            </script>        </div>\n",
              "</body>\n",
              "</html>"
            ]
          },
          "metadata": {}
        }
      ],
      "source": [
        "plot_temp = final_psi_subcat_week_df[(final_psi_subcat_week_df['product_subcategory'] == 'conditioner') & (final_psi_subcat_week_df['priority'] == 'p1') &\n",
        "                                (final_psi_subcat_week_df['warehouse_country'] == 'malaysia') & (final_psi_subcat_week_df['destination'] == 'malaysia')]\n",
        "plot_temp = plot_temp[-32:] # last 8 months (32 weeks) plot\n",
        "fig = px.line(plot_temp, x=\"year_plus_week_number\", y=\"demand_score\", title='PSI SubCat Week')\n",
        "fig.show()"
      ]
    },
    {
      "cell_type": "code",
      "source": [
        "demand_psi_subcat_week_country_maps = final_psi_subcat_week_df.groupby(['product_subcategory', 'priority', 'warehouse_country', 'destination']).agg({'demand_score' : 'nunique'})\\\n",
        ".reset_index().rename(columns = {'demand_score' : 'unique_demand_scores'})\n",
        "print(len(demand_psi_subcat_week_country_maps))\n",
        "demand_psi_subcat_week_country_maps = demand_psi_subcat_week_country_maps[demand_psi_subcat_week_country_maps.unique_demand_scores >= 32] # 8 months\n",
        "\n",
        "demand_psi_subcat_week_country_maps = demand_psi_subcat_week_country_maps.drop('unique_demand_scores', axis = 1)\n",
        "print(len(demand_psi_subcat_week_country_maps))"
      ],
      "metadata": {
        "colab": {
          "base_uri": "https://localhost:8080/"
        },
        "id": "uXDkNHCTtIBK",
        "outputId": "52ab21aa-7e4d-4c81-c677-40b59181064e"
      },
      "execution_count": null,
      "outputs": [
        {
          "output_type": "stream",
          "name": "stdout",
          "text": [
            "880\n",
            "629\n"
          ]
        }
      ]
    },
    {
      "cell_type": "code",
      "execution_count": null,
      "metadata": {
        "id": "IE7utHj0PkML"
      },
      "outputs": [],
      "source": []
    },
    {
      "cell_type": "markdown",
      "metadata": {
        "id": "CrG8ZdzYP6JM"
      },
      "source": [
        "# PSI Sub cat month"
      ]
    },
    {
      "cell_type": "code",
      "execution_count": null,
      "metadata": {
        "colab": {
          "base_uri": "https://localhost:8080/",
          "height": 98
        },
        "id": "SoFS2tpJP5bq",
        "outputId": "4572c9e0-b735-4ce6-9fc7-cdc017a98b2e"
      },
      "outputs": [
        {
          "output_type": "stream",
          "name": "stdout",
          "text": [
            "(5181, 8)\n"
          ]
        },
        {
          "output_type": "execute_result",
          "data": {
            "text/plain": [
              "     product_subcategory priority warehouse_country destination  \\\n",
              "2027         face_makeup       p1          malaysia    malaysia   \n",
              "\n",
              "     year_plus_month  total_units   depletion  demand_score  \n",
              "2027         2023_12  2013.145451  133.655944       6.63916  "
            ],
            "text/html": [
              "\n",
              "  <div id=\"df-6faa86ad-34ac-42a2-84cc-37c71418e750\" class=\"colab-df-container\">\n",
              "    <div>\n",
              "<style scoped>\n",
              "    .dataframe tbody tr th:only-of-type {\n",
              "        vertical-align: middle;\n",
              "    }\n",
              "\n",
              "    .dataframe tbody tr th {\n",
              "        vertical-align: top;\n",
              "    }\n",
              "\n",
              "    .dataframe thead th {\n",
              "        text-align: right;\n",
              "    }\n",
              "</style>\n",
              "<table border=\"1\" class=\"dataframe\">\n",
              "  <thead>\n",
              "    <tr style=\"text-align: right;\">\n",
              "      <th></th>\n",
              "      <th>product_subcategory</th>\n",
              "      <th>priority</th>\n",
              "      <th>warehouse_country</th>\n",
              "      <th>destination</th>\n",
              "      <th>year_plus_month</th>\n",
              "      <th>total_units</th>\n",
              "      <th>depletion</th>\n",
              "      <th>demand_score</th>\n",
              "    </tr>\n",
              "  </thead>\n",
              "  <tbody>\n",
              "    <tr>\n",
              "      <th>2027</th>\n",
              "      <td>face_makeup</td>\n",
              "      <td>p1</td>\n",
              "      <td>malaysia</td>\n",
              "      <td>malaysia</td>\n",
              "      <td>2023_12</td>\n",
              "      <td>2013.145451</td>\n",
              "      <td>133.655944</td>\n",
              "      <td>6.63916</td>\n",
              "    </tr>\n",
              "  </tbody>\n",
              "</table>\n",
              "</div>\n",
              "    <div class=\"colab-df-buttons\">\n",
              "\n",
              "  <div class=\"colab-df-container\">\n",
              "    <button class=\"colab-df-convert\" onclick=\"convertToInteractive('df-6faa86ad-34ac-42a2-84cc-37c71418e750')\"\n",
              "            title=\"Convert this dataframe to an interactive table.\"\n",
              "            style=\"display:none;\">\n",
              "\n",
              "  <svg xmlns=\"http://www.w3.org/2000/svg\" height=\"24px\" viewBox=\"0 -960 960 960\">\n",
              "    <path d=\"M120-120v-720h720v720H120Zm60-500h600v-160H180v160Zm220 220h160v-160H400v160Zm0 220h160v-160H400v160ZM180-400h160v-160H180v160Zm440 0h160v-160H620v160ZM180-180h160v-160H180v160Zm440 0h160v-160H620v160Z\"/>\n",
              "  </svg>\n",
              "    </button>\n",
              "\n",
              "  <style>\n",
              "    .colab-df-container {\n",
              "      display:flex;\n",
              "      gap: 12px;\n",
              "    }\n",
              "\n",
              "    .colab-df-convert {\n",
              "      background-color: #E8F0FE;\n",
              "      border: none;\n",
              "      border-radius: 50%;\n",
              "      cursor: pointer;\n",
              "      display: none;\n",
              "      fill: #1967D2;\n",
              "      height: 32px;\n",
              "      padding: 0 0 0 0;\n",
              "      width: 32px;\n",
              "    }\n",
              "\n",
              "    .colab-df-convert:hover {\n",
              "      background-color: #E2EBFA;\n",
              "      box-shadow: 0px 1px 2px rgba(60, 64, 67, 0.3), 0px 1px 3px 1px rgba(60, 64, 67, 0.15);\n",
              "      fill: #174EA6;\n",
              "    }\n",
              "\n",
              "    .colab-df-buttons div {\n",
              "      margin-bottom: 4px;\n",
              "    }\n",
              "\n",
              "    [theme=dark] .colab-df-convert {\n",
              "      background-color: #3B4455;\n",
              "      fill: #D2E3FC;\n",
              "    }\n",
              "\n",
              "    [theme=dark] .colab-df-convert:hover {\n",
              "      background-color: #434B5C;\n",
              "      box-shadow: 0px 1px 3px 1px rgba(0, 0, 0, 0.15);\n",
              "      filter: drop-shadow(0px 1px 2px rgba(0, 0, 0, 0.3));\n",
              "      fill: #FFFFFF;\n",
              "    }\n",
              "  </style>\n",
              "\n",
              "    <script>\n",
              "      const buttonEl =\n",
              "        document.querySelector('#df-6faa86ad-34ac-42a2-84cc-37c71418e750 button.colab-df-convert');\n",
              "      buttonEl.style.display =\n",
              "        google.colab.kernel.accessAllowed ? 'block' : 'none';\n",
              "\n",
              "      async function convertToInteractive(key) {\n",
              "        const element = document.querySelector('#df-6faa86ad-34ac-42a2-84cc-37c71418e750');\n",
              "        const dataTable =\n",
              "          await google.colab.kernel.invokeFunction('convertToInteractive',\n",
              "                                                    [key], {});\n",
              "        if (!dataTable) return;\n",
              "\n",
              "        const docLinkHtml = 'Like what you see? Visit the ' +\n",
              "          '<a target=\"_blank\" href=https://colab.research.google.com/notebooks/data_table.ipynb>data table notebook</a>'\n",
              "          + ' to learn more about interactive tables.';\n",
              "        element.innerHTML = '';\n",
              "        dataTable['output_type'] = 'display_data';\n",
              "        await google.colab.output.renderOutput(dataTable, element);\n",
              "        const docLink = document.createElement('div');\n",
              "        docLink.innerHTML = docLinkHtml;\n",
              "        element.appendChild(docLink);\n",
              "      }\n",
              "    </script>\n",
              "  </div>\n",
              "\n",
              "\n",
              "    </div>\n",
              "  </div>\n"
            ],
            "application/vnd.google.colaboratory.intrinsic+json": {
              "type": "dataframe",
              "summary": "{\n  \"name\": \"df_psi_subcat_month\",\n  \"rows\": 1,\n  \"fields\": [\n    {\n      \"column\": \"product_subcategory\",\n      \"properties\": {\n        \"dtype\": \"string\",\n        \"num_unique_values\": 1,\n        \"samples\": [\n          \"face_makeup\"\n        ],\n        \"semantic_type\": \"\",\n        \"description\": \"\"\n      }\n    },\n    {\n      \"column\": \"priority\",\n      \"properties\": {\n        \"dtype\": \"string\",\n        \"num_unique_values\": 1,\n        \"samples\": [\n          \"p1\"\n        ],\n        \"semantic_type\": \"\",\n        \"description\": \"\"\n      }\n    },\n    {\n      \"column\": \"warehouse_country\",\n      \"properties\": {\n        \"dtype\": \"string\",\n        \"num_unique_values\": 1,\n        \"samples\": [\n          \"malaysia\"\n        ],\n        \"semantic_type\": \"\",\n        \"description\": \"\"\n      }\n    },\n    {\n      \"column\": \"destination\",\n      \"properties\": {\n        \"dtype\": \"string\",\n        \"num_unique_values\": 1,\n        \"samples\": [\n          \"malaysia\"\n        ],\n        \"semantic_type\": \"\",\n        \"description\": \"\"\n      }\n    },\n    {\n      \"column\": \"year_plus_month\",\n      \"properties\": {\n        \"dtype\": \"string\",\n        \"num_unique_values\": 1,\n        \"samples\": [\n          \"2023_12\"\n        ],\n        \"semantic_type\": \"\",\n        \"description\": \"\"\n      }\n    },\n    {\n      \"column\": \"total_units\",\n      \"properties\": {\n        \"dtype\": \"number\",\n        \"std\": null,\n        \"min\": 2013.1454513275448,\n        \"max\": 2013.1454513275448,\n        \"num_unique_values\": 1,\n        \"samples\": [\n          2013.1454513275448\n        ],\n        \"semantic_type\": \"\",\n        \"description\": \"\"\n      }\n    },\n    {\n      \"column\": \"depletion\",\n      \"properties\": {\n        \"dtype\": \"number\",\n        \"std\": null,\n        \"min\": 133.65594384209575,\n        \"max\": 133.65594384209575,\n        \"num_unique_values\": 1,\n        \"samples\": [\n          133.65594384209575\n        ],\n        \"semantic_type\": \"\",\n        \"description\": \"\"\n      }\n    },\n    {\n      \"column\": \"demand_score\",\n      \"properties\": {\n        \"dtype\": \"number\",\n        \"std\": null,\n        \"min\": 6.639159815996303,\n        \"max\": 6.639159815996303,\n        \"num_unique_values\": 1,\n        \"samples\": [\n          6.639159815996303\n        ],\n        \"semantic_type\": \"\",\n        \"description\": \"\"\n      }\n    }\n  ]\n}"
            }
          },
          "metadata": {},
          "execution_count": 111
        }
      ],
      "source": [
        "df_psi_subcat_month = repeated_inv.groupby(['product_subcategory', 'priority', 'warehouse_country', 'destination', 'year_plus_month']).agg({'total_units' : 'sum',\n",
        "                                                                                                                   'depletion' : 'sum'}).reset_index()\n",
        "df_psi_subcat_month['demand_score'] = df_psi_subcat_month['depletion'] / df_psi_subcat_month['total_units']*100\n",
        "print(df_psi_subcat_month.shape)\n",
        "df_psi_subcat_month.sample()"
      ]
    },
    {
      "cell_type": "code",
      "execution_count": null,
      "metadata": {
        "id": "akvQBHIPQC-y"
      },
      "outputs": [],
      "source": [
        "def fill_missing_year_plus_month_for_subcat(df):\n",
        "    # Ensure 'year_plus_month' is string for easy manipulation\n",
        "    df['year_plus_month'] = df['year_plus_month'].astype(str)\n",
        "\n",
        "    # Identify min and max 'year_plus_month' in the original data\n",
        "    min_year_month = df['year_plus_month'].min()\n",
        "    max_year_month = datetime.today().strftime('%Y_%m')  # Last month from today\n",
        "\n",
        "    # Create continuous 'year_plus_month' range\n",
        "    date_range = pd.date_range(start=min_year_month.replace('_', '-'),\n",
        "                               end=max_year_month.replace('_', '-'),\n",
        "                               freq='MS').strftime('%Y_%m').tolist()\n",
        "\n",
        "    # Iterate through unique combinations of keys\n",
        "    filled_dfs = []\n",
        "    for _, group in df.groupby(['product_subcategory', 'priority', 'warehouse_country', 'destination']):\n",
        "        product_details = group.iloc[0][['product_subcategory', 'priority', 'warehouse_country', 'destination']].to_dict()\n",
        "\n",
        "        # Create a DataFrame for the full year_plus_month range\n",
        "        full_range_df = pd.DataFrame({'year_plus_month': date_range})\n",
        "\n",
        "        # Merge with the original group\n",
        "        merged_df = full_range_df.merge(group, on='year_plus_month', how='left')\n",
        "\n",
        "        # Fill forward missing data for non-date columns\n",
        "        for col in ['product_subcategory', 'priority', 'warehouse_country', 'destination',\n",
        "                    'total_units', 'depletion']:\n",
        "            merged_df[col].fillna(method='ffill', inplace=True)\n",
        "\n",
        "        # Fill `demand_score` with appropriate logic\n",
        "        original_demand_score = group[['year_plus_month', 'demand_score']].set_index('year_plus_month')['demand_score']\n",
        "\n",
        "        # Impute demand_score using random values in the desired range\n",
        "        def impute_demand_score(row):\n",
        "            if pd.notna(row['demand_score']):\n",
        "                return row['demand_score']\n",
        "\n",
        "            # Identify previous and next non-null values in the original data\n",
        "            prev_value_candidates = original_demand_score.loc[\n",
        "                original_demand_score.index < row['year_plus_month']\n",
        "            ]\n",
        "            prev_value = prev_value_candidates.iloc[-1] if not prev_value_candidates.empty else 0  # Safe fallback to zero\n",
        "\n",
        "            next_value_candidates = original_demand_score.loc[\n",
        "                original_demand_score.index > row['year_plus_month']\n",
        "            ]\n",
        "            next_value = next_value_candidates.iloc[0] if not next_value_candidates.empty else None\n",
        "\n",
        "            # Impute demand score accordingly\n",
        "            if next_value is not None:\n",
        "                return np.random.uniform(prev_value, next_value)\n",
        "            else:\n",
        "                return np.random.uniform(0, prev_value)\n",
        "\n",
        "        merged_df['demand_score'] = merged_df.apply(impute_demand_score, axis=1)\n",
        "\n",
        "        filled_dfs.append(merged_df)\n",
        "\n",
        "    # Combine all filled DataFrames\n",
        "    filled_df = pd.concat(filled_dfs).reset_index(drop=True)\n",
        "\n",
        "    return filled_df"
      ]
    },
    {
      "cell_type": "code",
      "execution_count": null,
      "metadata": {
        "id": "gWvTYGi_QO63"
      },
      "outputs": [],
      "source": [
        "final_psi_subcat_month_df = fill_missing_year_plus_month_for_subcat(df_psi_subcat_month)"
      ]
    },
    {
      "cell_type": "code",
      "execution_count": null,
      "metadata": {
        "colab": {
          "base_uri": "https://localhost:8080/",
          "height": 542
        },
        "id": "20biOd_PQYfP",
        "outputId": "4cea4ed4-bfdf-43e6-f0f5-a1c83be48cf5"
      },
      "outputs": [
        {
          "output_type": "display_data",
          "data": {
            "text/html": [
              "<html>\n",
              "<head><meta charset=\"utf-8\" /></head>\n",
              "<body>\n",
              "    <div>            <script src=\"https://cdnjs.cloudflare.com/ajax/libs/mathjax/2.7.5/MathJax.js?config=TeX-AMS-MML_SVG\"></script><script type=\"text/javascript\">if (window.MathJax && window.MathJax.Hub && window.MathJax.Hub.Config) {window.MathJax.Hub.Config({SVG: {font: \"STIX-Web\"}});}</script>                <script type=\"text/javascript\">window.PlotlyConfig = {MathJaxConfig: 'local'};</script>\n",
              "        <script charset=\"utf-8\" src=\"https://cdn.plot.ly/plotly-2.35.2.min.js\"></script>                <div id=\"e209ca32-d263-4e8e-9795-453c2acdcf6b\" class=\"plotly-graph-div\" style=\"height:525px; width:100%;\"></div>            <script type=\"text/javascript\">                                    window.PLOTLYENV=window.PLOTLYENV || {};                                    if (document.getElementById(\"e209ca32-d263-4e8e-9795-453c2acdcf6b\")) {                    Plotly.newPlot(                        \"e209ca32-d263-4e8e-9795-453c2acdcf6b\",                        [{\"hovertemplate\":\"year_plus_month=%{x}\\u003cbr\\u003edemand_score=%{y}\\u003cextra\\u003e\\u003c\\u002fextra\\u003e\",\"legendgroup\":\"\",\"line\":{\"color\":\"#636efa\",\"dash\":\"solid\"},\"marker\":{\"symbol\":\"circle\"},\"mode\":\"lines\",\"name\":\"\",\"orientation\":\"v\",\"showlegend\":false,\"x\":[\"2024_09\",\"2024_10\",\"2024_11\",\"2024_12\",\"2025_01\",\"2025_02\",\"2025_03\",\"2025_04\"],\"xaxis\":\"x\",\"y\":[23.994374026315874,23.86793891543108,23.816376030518107,22.078191571951802,4.704233144954079,2.540827861846107,21.39797800044415,22.970030694679167],\"yaxis\":\"y\",\"type\":\"scatter\"}],                        {\"template\":{\"data\":{\"histogram2dcontour\":[{\"type\":\"histogram2dcontour\",\"colorbar\":{\"outlinewidth\":0,\"ticks\":\"\"},\"colorscale\":[[0.0,\"#0d0887\"],[0.1111111111111111,\"#46039f\"],[0.2222222222222222,\"#7201a8\"],[0.3333333333333333,\"#9c179e\"],[0.4444444444444444,\"#bd3786\"],[0.5555555555555556,\"#d8576b\"],[0.6666666666666666,\"#ed7953\"],[0.7777777777777778,\"#fb9f3a\"],[0.8888888888888888,\"#fdca26\"],[1.0,\"#f0f921\"]]}],\"choropleth\":[{\"type\":\"choropleth\",\"colorbar\":{\"outlinewidth\":0,\"ticks\":\"\"}}],\"histogram2d\":[{\"type\":\"histogram2d\",\"colorbar\":{\"outlinewidth\":0,\"ticks\":\"\"},\"colorscale\":[[0.0,\"#0d0887\"],[0.1111111111111111,\"#46039f\"],[0.2222222222222222,\"#7201a8\"],[0.3333333333333333,\"#9c179e\"],[0.4444444444444444,\"#bd3786\"],[0.5555555555555556,\"#d8576b\"],[0.6666666666666666,\"#ed7953\"],[0.7777777777777778,\"#fb9f3a\"],[0.8888888888888888,\"#fdca26\"],[1.0,\"#f0f921\"]]}],\"heatmap\":[{\"type\":\"heatmap\",\"colorbar\":{\"outlinewidth\":0,\"ticks\":\"\"},\"colorscale\":[[0.0,\"#0d0887\"],[0.1111111111111111,\"#46039f\"],[0.2222222222222222,\"#7201a8\"],[0.3333333333333333,\"#9c179e\"],[0.4444444444444444,\"#bd3786\"],[0.5555555555555556,\"#d8576b\"],[0.6666666666666666,\"#ed7953\"],[0.7777777777777778,\"#fb9f3a\"],[0.8888888888888888,\"#fdca26\"],[1.0,\"#f0f921\"]]}],\"heatmapgl\":[{\"type\":\"heatmapgl\",\"colorbar\":{\"outlinewidth\":0,\"ticks\":\"\"},\"colorscale\":[[0.0,\"#0d0887\"],[0.1111111111111111,\"#46039f\"],[0.2222222222222222,\"#7201a8\"],[0.3333333333333333,\"#9c179e\"],[0.4444444444444444,\"#bd3786\"],[0.5555555555555556,\"#d8576b\"],[0.6666666666666666,\"#ed7953\"],[0.7777777777777778,\"#fb9f3a\"],[0.8888888888888888,\"#fdca26\"],[1.0,\"#f0f921\"]]}],\"contourcarpet\":[{\"type\":\"contourcarpet\",\"colorbar\":{\"outlinewidth\":0,\"ticks\":\"\"}}],\"contour\":[{\"type\":\"contour\",\"colorbar\":{\"outlinewidth\":0,\"ticks\":\"\"},\"colorscale\":[[0.0,\"#0d0887\"],[0.1111111111111111,\"#46039f\"],[0.2222222222222222,\"#7201a8\"],[0.3333333333333333,\"#9c179e\"],[0.4444444444444444,\"#bd3786\"],[0.5555555555555556,\"#d8576b\"],[0.6666666666666666,\"#ed7953\"],[0.7777777777777778,\"#fb9f3a\"],[0.8888888888888888,\"#fdca26\"],[1.0,\"#f0f921\"]]}],\"surface\":[{\"type\":\"surface\",\"colorbar\":{\"outlinewidth\":0,\"ticks\":\"\"},\"colorscale\":[[0.0,\"#0d0887\"],[0.1111111111111111,\"#46039f\"],[0.2222222222222222,\"#7201a8\"],[0.3333333333333333,\"#9c179e\"],[0.4444444444444444,\"#bd3786\"],[0.5555555555555556,\"#d8576b\"],[0.6666666666666666,\"#ed7953\"],[0.7777777777777778,\"#fb9f3a\"],[0.8888888888888888,\"#fdca26\"],[1.0,\"#f0f921\"]]}],\"mesh3d\":[{\"type\":\"mesh3d\",\"colorbar\":{\"outlinewidth\":0,\"ticks\":\"\"}}],\"scatter\":[{\"fillpattern\":{\"fillmode\":\"overlay\",\"size\":10,\"solidity\":0.2},\"type\":\"scatter\"}],\"parcoords\":[{\"type\":\"parcoords\",\"line\":{\"colorbar\":{\"outlinewidth\":0,\"ticks\":\"\"}}}],\"scatterpolargl\":[{\"type\":\"scatterpolargl\",\"marker\":{\"colorbar\":{\"outlinewidth\":0,\"ticks\":\"\"}}}],\"bar\":[{\"error_x\":{\"color\":\"#2a3f5f\"},\"error_y\":{\"color\":\"#2a3f5f\"},\"marker\":{\"line\":{\"color\":\"#E5ECF6\",\"width\":0.5},\"pattern\":{\"fillmode\":\"overlay\",\"size\":10,\"solidity\":0.2}},\"type\":\"bar\"}],\"scattergeo\":[{\"type\":\"scattergeo\",\"marker\":{\"colorbar\":{\"outlinewidth\":0,\"ticks\":\"\"}}}],\"scatterpolar\":[{\"type\":\"scatterpolar\",\"marker\":{\"colorbar\":{\"outlinewidth\":0,\"ticks\":\"\"}}}],\"histogram\":[{\"marker\":{\"pattern\":{\"fillmode\":\"overlay\",\"size\":10,\"solidity\":0.2}},\"type\":\"histogram\"}],\"scattergl\":[{\"type\":\"scattergl\",\"marker\":{\"colorbar\":{\"outlinewidth\":0,\"ticks\":\"\"}}}],\"scatter3d\":[{\"type\":\"scatter3d\",\"line\":{\"colorbar\":{\"outlinewidth\":0,\"ticks\":\"\"}},\"marker\":{\"colorbar\":{\"outlinewidth\":0,\"ticks\":\"\"}}}],\"scattermapbox\":[{\"type\":\"scattermapbox\",\"marker\":{\"colorbar\":{\"outlinewidth\":0,\"ticks\":\"\"}}}],\"scatterternary\":[{\"type\":\"scatterternary\",\"marker\":{\"colorbar\":{\"outlinewidth\":0,\"ticks\":\"\"}}}],\"scattercarpet\":[{\"type\":\"scattercarpet\",\"marker\":{\"colorbar\":{\"outlinewidth\":0,\"ticks\":\"\"}}}],\"carpet\":[{\"aaxis\":{\"endlinecolor\":\"#2a3f5f\",\"gridcolor\":\"white\",\"linecolor\":\"white\",\"minorgridcolor\":\"white\",\"startlinecolor\":\"#2a3f5f\"},\"baxis\":{\"endlinecolor\":\"#2a3f5f\",\"gridcolor\":\"white\",\"linecolor\":\"white\",\"minorgridcolor\":\"white\",\"startlinecolor\":\"#2a3f5f\"},\"type\":\"carpet\"}],\"table\":[{\"cells\":{\"fill\":{\"color\":\"#EBF0F8\"},\"line\":{\"color\":\"white\"}},\"header\":{\"fill\":{\"color\":\"#C8D4E3\"},\"line\":{\"color\":\"white\"}},\"type\":\"table\"}],\"barpolar\":[{\"marker\":{\"line\":{\"color\":\"#E5ECF6\",\"width\":0.5},\"pattern\":{\"fillmode\":\"overlay\",\"size\":10,\"solidity\":0.2}},\"type\":\"barpolar\"}],\"pie\":[{\"automargin\":true,\"type\":\"pie\"}]},\"layout\":{\"autotypenumbers\":\"strict\",\"colorway\":[\"#636efa\",\"#EF553B\",\"#00cc96\",\"#ab63fa\",\"#FFA15A\",\"#19d3f3\",\"#FF6692\",\"#B6E880\",\"#FF97FF\",\"#FECB52\"],\"font\":{\"color\":\"#2a3f5f\"},\"hovermode\":\"closest\",\"hoverlabel\":{\"align\":\"left\"},\"paper_bgcolor\":\"white\",\"plot_bgcolor\":\"#E5ECF6\",\"polar\":{\"bgcolor\":\"#E5ECF6\",\"angularaxis\":{\"gridcolor\":\"white\",\"linecolor\":\"white\",\"ticks\":\"\"},\"radialaxis\":{\"gridcolor\":\"white\",\"linecolor\":\"white\",\"ticks\":\"\"}},\"ternary\":{\"bgcolor\":\"#E5ECF6\",\"aaxis\":{\"gridcolor\":\"white\",\"linecolor\":\"white\",\"ticks\":\"\"},\"baxis\":{\"gridcolor\":\"white\",\"linecolor\":\"white\",\"ticks\":\"\"},\"caxis\":{\"gridcolor\":\"white\",\"linecolor\":\"white\",\"ticks\":\"\"}},\"coloraxis\":{\"colorbar\":{\"outlinewidth\":0,\"ticks\":\"\"}},\"colorscale\":{\"sequential\":[[0.0,\"#0d0887\"],[0.1111111111111111,\"#46039f\"],[0.2222222222222222,\"#7201a8\"],[0.3333333333333333,\"#9c179e\"],[0.4444444444444444,\"#bd3786\"],[0.5555555555555556,\"#d8576b\"],[0.6666666666666666,\"#ed7953\"],[0.7777777777777778,\"#fb9f3a\"],[0.8888888888888888,\"#fdca26\"],[1.0,\"#f0f921\"]],\"sequentialminus\":[[0.0,\"#0d0887\"],[0.1111111111111111,\"#46039f\"],[0.2222222222222222,\"#7201a8\"],[0.3333333333333333,\"#9c179e\"],[0.4444444444444444,\"#bd3786\"],[0.5555555555555556,\"#d8576b\"],[0.6666666666666666,\"#ed7953\"],[0.7777777777777778,\"#fb9f3a\"],[0.8888888888888888,\"#fdca26\"],[1.0,\"#f0f921\"]],\"diverging\":[[0,\"#8e0152\"],[0.1,\"#c51b7d\"],[0.2,\"#de77ae\"],[0.3,\"#f1b6da\"],[0.4,\"#fde0ef\"],[0.5,\"#f7f7f7\"],[0.6,\"#e6f5d0\"],[0.7,\"#b8e186\"],[0.8,\"#7fbc41\"],[0.9,\"#4d9221\"],[1,\"#276419\"]]},\"xaxis\":{\"gridcolor\":\"white\",\"linecolor\":\"white\",\"ticks\":\"\",\"title\":{\"standoff\":15},\"zerolinecolor\":\"white\",\"automargin\":true,\"zerolinewidth\":2},\"yaxis\":{\"gridcolor\":\"white\",\"linecolor\":\"white\",\"ticks\":\"\",\"title\":{\"standoff\":15},\"zerolinecolor\":\"white\",\"automargin\":true,\"zerolinewidth\":2},\"scene\":{\"xaxis\":{\"backgroundcolor\":\"#E5ECF6\",\"gridcolor\":\"white\",\"linecolor\":\"white\",\"showbackground\":true,\"ticks\":\"\",\"zerolinecolor\":\"white\",\"gridwidth\":2},\"yaxis\":{\"backgroundcolor\":\"#E5ECF6\",\"gridcolor\":\"white\",\"linecolor\":\"white\",\"showbackground\":true,\"ticks\":\"\",\"zerolinecolor\":\"white\",\"gridwidth\":2},\"zaxis\":{\"backgroundcolor\":\"#E5ECF6\",\"gridcolor\":\"white\",\"linecolor\":\"white\",\"showbackground\":true,\"ticks\":\"\",\"zerolinecolor\":\"white\",\"gridwidth\":2}},\"shapedefaults\":{\"line\":{\"color\":\"#2a3f5f\"}},\"annotationdefaults\":{\"arrowcolor\":\"#2a3f5f\",\"arrowhead\":0,\"arrowwidth\":1},\"geo\":{\"bgcolor\":\"white\",\"landcolor\":\"#E5ECF6\",\"subunitcolor\":\"white\",\"showland\":true,\"showlakes\":true,\"lakecolor\":\"white\"},\"title\":{\"x\":0.05},\"mapbox\":{\"style\":\"light\"}}},\"xaxis\":{\"anchor\":\"y\",\"domain\":[0.0,1.0],\"title\":{\"text\":\"year_plus_month\"}},\"yaxis\":{\"anchor\":\"x\",\"domain\":[0.0,1.0],\"title\":{\"text\":\"demand_score\"}},\"legend\":{\"tracegroupgap\":0},\"title\":{\"text\":\"PSI SubCat Month\"}},                        {\"responsive\": true}                    ).then(function(){\n",
              "                            \n",
              "var gd = document.getElementById('e209ca32-d263-4e8e-9795-453c2acdcf6b');\n",
              "var x = new MutationObserver(function (mutations, observer) {{\n",
              "        var display = window.getComputedStyle(gd).display;\n",
              "        if (!display || display === 'none') {{\n",
              "            console.log([gd, 'removed!']);\n",
              "            Plotly.purge(gd);\n",
              "            observer.disconnect();\n",
              "        }}\n",
              "}});\n",
              "\n",
              "// Listen for the removal of the full notebook cells\n",
              "var notebookContainer = gd.closest('#notebook-container');\n",
              "if (notebookContainer) {{\n",
              "    x.observe(notebookContainer, {childList: true});\n",
              "}}\n",
              "\n",
              "// Listen for the clearing of the current output cell\n",
              "var outputEl = gd.closest('.output');\n",
              "if (outputEl) {{\n",
              "    x.observe(outputEl, {childList: true});\n",
              "}}\n",
              "\n",
              "                        })                };                            </script>        </div>\n",
              "</body>\n",
              "</html>"
            ]
          },
          "metadata": {}
        }
      ],
      "source": [
        "plot_temp = final_psi_subcat_month_df[(final_psi_subcat_month_df['product_subcategory'] == \"conditioner\") & (final_psi_subcat_month_df['priority'] == 'p3') &\n",
        "                                (final_psi_subcat_month_df['warehouse_country'] == 'indonesia') & (final_psi_subcat_month_df['destination'] == 'indonesia')]\n",
        "plot_temp = plot_temp[-8:] # last 8 months plot\n",
        "fig = px.line(plot_temp, x=\"year_plus_month\", y=\"demand_score\", title='PSI SubCat Month')\n",
        "fig.show()"
      ]
    },
    {
      "cell_type": "code",
      "source": [
        "demand_psi_subcat_month_country_maps = final_psi_subcat_month_df.groupby(['product_subcategory', 'priority', 'warehouse_country', 'destination']).agg({'demand_score' : 'nunique'})\\\n",
        ".reset_index().rename(columns = {'demand_score' : 'unique_demand_scores'})\n",
        "print(len(demand_psi_subcat_month_country_maps))\n",
        "demand_psi_subcat_month_country_maps = demand_psi_subcat_month_country_maps[demand_psi_subcat_month_country_maps.unique_demand_scores >= 8] # 8 months\n",
        "\n",
        "demand_psi_subcat_month_country_maps = demand_psi_subcat_month_country_maps.drop('unique_demand_scores', axis = 1)\n",
        "print(len(demand_psi_subcat_month_country_maps))"
      ],
      "metadata": {
        "id": "0iesnqntp-zj",
        "colab": {
          "base_uri": "https://localhost:8080/"
        },
        "outputId": "83bca673-1e46-4578-89af-e4d563839d66"
      },
      "execution_count": null,
      "outputs": [
        {
          "output_type": "stream",
          "name": "stdout",
          "text": [
            "880\n",
            "634\n"
          ]
        }
      ]
    },
    {
      "cell_type": "code",
      "source": [],
      "metadata": {
        "id": "P_l3cCf2p-xA"
      },
      "execution_count": null,
      "outputs": []
    },
    {
      "cell_type": "code",
      "execution_count": null,
      "metadata": {
        "id": "8OsZ01pti2TZ"
      },
      "outputs": [],
      "source": [
        "# def dump_files_for_inference_pipeline():\n",
        "#   print('Dumping files for inference later ...')\n",
        "#   joblib.dump(final_psi_cat_week_df, '/content/drive/MyDrive/PSI_Modeling_Data/PSI/demand/final_psi_cat_week_df.pkl')\n",
        "#   joblib.dump(final_psi_cat_month_df, '/content/drive/MyDrive/PSI_Modeling_Data/PSI/demand/final_psi_cat_month_df.pkl')\n",
        "#   joblib.dump(final_psi_subcat_week_df, '/content/drive/MyDrive/PSI_Modeling_Data/PSI/demand/final_psi_subcat_week_df.pkl')\n",
        "#   joblib.dump(final_psi_subcat_month_df, '/content/drive/MyDrive/PSI_Modeling_Data/PSI/demand/final_psi_subcat_month_df.pkl')\n",
        "#   joblib.dump(demand_psi_cat_week_country_maps, '/content/drive/MyDrive/PSI_Modeling_Data/PSI/demand/demand_psi_cat_week_country_maps.pkl')\n",
        "#   joblib.dump(demand_psi_cat_month_country_maps, '/content/drive/MyDrive/PSI_Modeling_Data/PSI/demand/demand_psi_cat_month_country_maps.pkl')\n",
        "#   joblib.dump(demand_psi_subcat_week_country_maps, '/content/drive/MyDrive/PSI_Modeling_Data/PSI/demand/demand_psi_subcat_week_country_maps.pkl')\n",
        "#   joblib.dump(demand_psi_subcat_month_country_maps, '/content/drive/MyDrive/PSI_Modeling_Data/PSI/demand/demand_psi_subcat_month_country_maps.pkl')"
      ]
    },
    {
      "cell_type": "code",
      "execution_count": null,
      "metadata": {
        "id": "edb4iyyXi2Ql"
      },
      "outputs": [],
      "source": [
        "# dump_files_for_inference_pipeline()"
      ]
    },
    {
      "cell_type": "code",
      "execution_count": null,
      "metadata": {
        "id": "EUmQ1lGVjJFt",
        "colab": {
          "base_uri": "https://localhost:8080/",
          "height": 17
        },
        "outputId": "647ef046-ad5a-49b3-9a80-3415312f320b"
      },
      "outputs": [
        {
          "output_type": "display_data",
          "data": {
            "text/plain": [
              "<IPython.core.display.Javascript object>"
            ],
            "application/javascript": [
              "\n",
              "    async function download(id, filename, size) {\n",
              "      if (!google.colab.kernel.accessAllowed) {\n",
              "        return;\n",
              "      }\n",
              "      const div = document.createElement('div');\n",
              "      const label = document.createElement('label');\n",
              "      label.textContent = `Downloading \"${filename}\": `;\n",
              "      div.appendChild(label);\n",
              "      const progress = document.createElement('progress');\n",
              "      progress.max = size;\n",
              "      div.appendChild(progress);\n",
              "      document.body.appendChild(div);\n",
              "\n",
              "      const buffers = [];\n",
              "      let downloaded = 0;\n",
              "\n",
              "      const channel = await google.colab.kernel.comms.open(id);\n",
              "      // Send a message to notify the kernel that we're ready.\n",
              "      channel.send({})\n",
              "\n",
              "      for await (const message of channel.messages) {\n",
              "        // Send a message to notify the kernel that we're ready.\n",
              "        channel.send({})\n",
              "        if (message.buffers) {\n",
              "          for (const buffer of message.buffers) {\n",
              "            buffers.push(buffer);\n",
              "            downloaded += buffer.byteLength;\n",
              "            progress.value = downloaded;\n",
              "          }\n",
              "        }\n",
              "      }\n",
              "      const blob = new Blob(buffers, {type: 'application/binary'});\n",
              "      const a = document.createElement('a');\n",
              "      a.href = window.URL.createObjectURL(blob);\n",
              "      a.download = filename;\n",
              "      div.appendChild(a);\n",
              "      a.click();\n",
              "      div.remove();\n",
              "    }\n",
              "  "
            ]
          },
          "metadata": {}
        },
        {
          "output_type": "display_data",
          "data": {
            "text/plain": [
              "<IPython.core.display.Javascript object>"
            ],
            "application/javascript": [
              "download(\"download_b3cbb237-9382-4f71-85f0-9d6a4fcbc478\", \"demand_psi_cat_month_country_maps.csv\", 9506)"
            ]
          },
          "metadata": {}
        }
      ],
      "source": []
    },
    {
      "cell_type": "code",
      "source": [],
      "metadata": {
        "id": "KdVh3MTlQwqd"
      },
      "execution_count": null,
      "outputs": []
    }
  ],
  "metadata": {
    "colab": {
      "provenance": []
    },
    "kernelspec": {
      "display_name": "Python 3",
      "name": "python3"
    },
    "language_info": {
      "name": "python"
    }
  },
  "nbformat": 4,
  "nbformat_minor": 0
}